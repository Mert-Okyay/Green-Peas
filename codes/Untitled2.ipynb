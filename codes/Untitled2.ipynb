{
 "cells": [
  {
   "cell_type": "code",
   "execution_count": 1,
   "metadata": {},
   "outputs": [
    {
     "name": "stdout",
     "output_type": "stream",
     "text": [
      "2020-11-11 20:41:42\n"
     ]
    },
    {
     "name": "stderr",
     "output_type": "stream",
     "text": [
      "In gridlink_mocks_double> Running with [nmesh_x, nmesh_y, nmesh_z]  = 33,30,9.  Time taken =   0.005 sec\n",
      "In gridlink_mocks_double> Running with [nmesh_x, nmesh_y, nmesh_z]  = 33,30,9.  Time taken =   0.040 sec\n",
      "Using AVX512 kernel\n",
      "0%.........10%.........20%.........30%.........40%.........50%.........60%.........70%.........80%.........90%.........100% done. Time taken =  0.051 secs\n",
      "In gridlink_mocks_double> Running with [nmesh_x, nmesh_y, nmesh_z]  = 33,30,9.  Time taken =   0.010 sec\n",
      "countpairs_mocks_double> gridlink seems inefficient. nmesh = (33, 30, 9); avg_np = 794. Boosting bin refine factor - should lead to better performance\n",
      "In gridlink_mocks_double> Running with [nmesh_x, nmesh_y, nmesh_z]  = 50,45,9.  Time taken =   0.007 sec\n",
      "In gridlink_mocks_double> Running with [nmesh_x, nmesh_y, nmesh_z]  = 50,45,9.  Time taken =   1.628 sec\n",
      "0%.........10%.........20%.........30%.........40%.........50%.........60%.........70%.........80%.........90%.........100% done. Time taken =  0.390 secs\n"
     ]
    },
    {
     "name": "stdout",
     "output_type": "stream",
     "text": [
      "Warning: found negative RA values, wrapping into [0.0, 360.0]  range\n"
     ]
    },
    {
     "name": "stderr",
     "output_type": "stream",
     "text": [
      "In gridlink_mocks_double> Running with [nmesh_x, nmesh_y, nmesh_z]  = 33,31,9.  Time taken =   0.044 sec\n",
      "In gridlink_mocks_double> Running with [nmesh_x, nmesh_y, nmesh_z]  = 33,31,9.  Time taken =   0.165 sec\n",
      "0%.........10%.........20%.........30%.........40%.........50%.........60%.........70%.........80%.........90%.........100% done. Time taken =  3.626 secs\n"
     ]
    },
    {
     "name": "stdout",
     "output_type": "stream",
     "text": [
      "Warning: found negative RA values, wrapping into [0.0, 360.0]  range\n"
     ]
    },
    {
     "name": "stderr",
     "output_type": "stream",
     "text": [
      "In gridlink_mocks_double> Running with [nmesh_x, nmesh_y, nmesh_z]  = 33,31,9.  Time taken =   0.168 sec\n",
      "countpairs_mocks_double> gridlink seems inefficient. nmesh = (33, 31, 9); avg_np = 768. Boosting bin refine factor - should lead to better performance\n",
      "In gridlink_mocks_double> Running with [nmesh_x, nmesh_y, nmesh_z]  = 50,46,9.  Time taken =   0.211 sec\n",
      "In gridlink_mocks_double> Running with [nmesh_x, nmesh_y, nmesh_z]  = 50,46,9.  Time taken =   1.933 sec\n",
      "0%.........10%.........20%.........30%.........40%.........50%.........60%.........70%.........80%.........90%.........100% done. Time taken =    75 secs\n",
      "/data/home/mokyay/Research_stuff/Green-Peas/codes/clustering/clustering/error.py:204: FutureWarning: elementwise == comparison failed and returning scalar instead; this will raise an error or perform elementwise comparison in the future.\n",
      "  if cat==None:\n",
      "/home/mokyay/anaconda3/lib/python3.7/site-packages/astropy/table/table.py:3064: FutureWarning: elementwise == comparison failed and returning scalar instead; this will raise an error or perform elementwise comparison in the future.\n",
      "  result = self.as_array() == other\n"
     ]
    },
    {
     "name": "stdout",
     "output_type": "stream",
     "text": [
      "Using  25  jacknife samples\n",
      "1 / 25\n"
     ]
    },
    {
     "name": "stderr",
     "output_type": "stream",
     "text": [
      "In gridlink_mocks_double> Running with [nmesh_x, nmesh_y, nmesh_z]  = 33,30,9.  Time taken =   0.004 sec\n",
      "In gridlink_mocks_double> Running with [nmesh_x, nmesh_y, nmesh_z]  = 33,30,9.  Time taken =   0.041 sec\n",
      "0%.........10%.........20%.........30%.........40%.........50%.........60%.........70%.........80%.........90%.........100% done. Time taken =  0.066 secs\n",
      "In gridlink_mocks_double> Running with [nmesh_x, nmesh_y, nmesh_z]  = 33,30,9.  Time taken =   0.003 sec\n",
      "countpairs_mocks_double> gridlink seems inefficient. nmesh = (33, 30, 9); avg_np = 794. Boosting bin refine factor - should lead to better performance\n",
      "In gridlink_mocks_double> Running with [nmesh_x, nmesh_y, nmesh_z]  = 50,45,9.  Time taken =   0.005 sec\n",
      "In gridlink_mocks_double> Running with [nmesh_x, nmesh_y, nmesh_z]  = 50,45,9.  Time taken =   1.235 sec\n",
      "0%.........10%.........20%.........30%.........40%.........50%.........60%.........70%.........80%.........90%.........100% done. Time taken =  0.458 secs\n",
      "In gridlink_mocks_double> Running with [nmesh_x, nmesh_y, nmesh_z]  = 33,30,9.  Time taken =   0.044 sec\n",
      "In gridlink_mocks_double> Running with [nmesh_x, nmesh_y, nmesh_z]  = 33,30,9.  Time taken =   0.123 sec\n",
      "0%.........10%.........20%.........30%.........40%.........50%.........60%.........70%.........80%.........90%.........100% done. Time taken =  7.210 secs\n",
      "In gridlink_mocks_double> Running with [nmesh_x, nmesh_y, nmesh_z]  = 33,30,9.  Time taken =   0.101 sec\n",
      "countpairs_mocks_double> gridlink seems inefficient. nmesh = (33, 30, 9); avg_np = 794. Boosting bin refine factor - should lead to better performance\n",
      "In gridlink_mocks_double> Running with [nmesh_x, nmesh_y, nmesh_z]  = 50,46,9.  Time taken =   0.114 sec\n",
      "In gridlink_mocks_double> Running with [nmesh_x, nmesh_y, nmesh_z]  = 50,46,9.  Time taken =   1.142 sec\n",
      "0%.........10%.........20%.........30%.........40%.........50%.........60%.........70%.........80%.........90%.........100% done. Time taken =     2 mins   34 secs\n"
     ]
    },
    {
     "name": "stdout",
     "output_type": "stream",
     "text": [
      "2 / 25\n"
     ]
    },
    {
     "name": "stderr",
     "output_type": "stream",
     "text": [
      "In gridlink_mocks_double> Running with [nmesh_x, nmesh_y, nmesh_z]  = 33,30,9.  Time taken =   0.014 sec\n",
      "In gridlink_mocks_double> Running with [nmesh_x, nmesh_y, nmesh_z]  = 33,30,9.  Time taken =   0.087 sec\n",
      "0%.........10%.........20%.........30%.........40%.........50%.........60%.........70%.........80%.........90%.........100% done. Time taken =  0.066 secs\n",
      "In gridlink_mocks_double> Running with [nmesh_x, nmesh_y, nmesh_z]  = 33,30,9.  Time taken =   0.002 sec\n",
      "countpairs_mocks_double> gridlink seems inefficient. nmesh = (33, 30, 9); avg_np = 794. Boosting bin refine factor - should lead to better performance\n",
      "In gridlink_mocks_double> Running with [nmesh_x, nmesh_y, nmesh_z]  = 50,45,9.  Time taken =   0.005 sec\n",
      "In gridlink_mocks_double> Running with [nmesh_x, nmesh_y, nmesh_z]  = 50,45,9.  Time taken =   1.460 sec\n",
      "0%.........10%.........20%.........30%.........40%.........50%.........60%.........70%.........80%.........90%.........100% done. Time taken =  0.441 secs\n",
      "In gridlink_mocks_double> Running with [nmesh_x, nmesh_y, nmesh_z]  = 33,30,9.  Time taken =   0.050 sec\n",
      "In gridlink_mocks_double> Running with [nmesh_x, nmesh_y, nmesh_z]  = 33,30,9.  Time taken =   0.173 sec\n",
      "0%.........10%.........20%.........30%.........40%.........50%.........60%.........70%.........80%.........90%.........100% done. Time taken =  8.344 secs\n",
      "In gridlink_mocks_double> Running with [nmesh_x, nmesh_y, nmesh_z]  = 33,30,9.  Time taken =   0.098 sec\n",
      "countpairs_mocks_double> gridlink seems inefficient. nmesh = (33, 30, 9); avg_np = 794. Boosting bin refine factor - should lead to better performance\n",
      "In gridlink_mocks_double> Running with [nmesh_x, nmesh_y, nmesh_z]  = 50,46,9.  Time taken =   0.100 sec\n",
      "In gridlink_mocks_double> Running with [nmesh_x, nmesh_y, nmesh_z]  = 50,46,9.  Time taken =   1.324 sec\n",
      "0%.........10%.........20%.........30%.........40%.........50%.........60%.........70%.........80%.........90%.........100% done. Time taken =     2 mins   35 secs\n"
     ]
    },
    {
     "name": "stdout",
     "output_type": "stream",
     "text": [
      "3 / 25\n"
     ]
    },
    {
     "name": "stderr",
     "output_type": "stream",
     "text": [
      "In gridlink_mocks_double> Running with [nmesh_x, nmesh_y, nmesh_z]  = 33,30,9.  Time taken =   0.006 sec\n",
      "In gridlink_mocks_double> Running with [nmesh_x, nmesh_y, nmesh_z]  = 33,30,9.  Time taken =   0.079 sec\n",
      "0%.........10%.........20%.........30%.........40%.........50%.........60%.........70%.........80%.........90%.........100% done. Time taken =  0.057 secs\n",
      "In gridlink_mocks_double> Running with [nmesh_x, nmesh_y, nmesh_z]  = 33,30,9.  Time taken =   0.003 sec\n",
      "countpairs_mocks_double> gridlink seems inefficient. nmesh = (33, 30, 9); avg_np = 701. Boosting bin refine factor - should lead to better performance\n",
      "In gridlink_mocks_double> Running with [nmesh_x, nmesh_y, nmesh_z]  = 50,45,9.  Time taken =   0.006 sec\n",
      "In gridlink_mocks_double> Running with [nmesh_x, nmesh_y, nmesh_z]  = 50,45,9.  Time taken =   1.198 sec\n",
      "0%.........10%.........20%.........30%.........40%.........50%.........60%.........70%.........80%.........90%.........100% done. Time taken =  0.376 secs\n",
      "In gridlink_mocks_double> Running with [nmesh_x, nmesh_y, nmesh_z]  = 33,30,9.  Time taken =   0.040 sec\n",
      "In gridlink_mocks_double> Running with [nmesh_x, nmesh_y, nmesh_z]  = 33,30,9.  Time taken =   0.097 sec\n",
      "0%.........10%.........20%.........30%.........40%.........50%.........60%.........70%.........80%.........90%.........100% done. Time taken =  6.527 secs\n",
      "In gridlink_mocks_double> Running with [nmesh_x, nmesh_y, nmesh_z]  = 33,30,9.  Time taken =   0.096 sec\n",
      "countpairs_mocks_double> gridlink seems inefficient. nmesh = (33, 30, 9); avg_np = 701. Boosting bin refine factor - should lead to better performance\n",
      "In gridlink_mocks_double> Running with [nmesh_x, nmesh_y, nmesh_z]  = 50,45,9.  Time taken =   0.128 sec\n",
      "In gridlink_mocks_double> Running with [nmesh_x, nmesh_y, nmesh_z]  = 50,45,9.  Time taken =   1.349 sec\n",
      "0%.........10%.........20%.........30%.........40%.........50%.........60%.........70%.........80%.........90%.........100% done. Time taken =     2 mins    4 secs\n"
     ]
    },
    {
     "name": "stdout",
     "output_type": "stream",
     "text": [
      "4 / 25\n"
     ]
    },
    {
     "name": "stderr",
     "output_type": "stream",
     "text": [
      "In gridlink_mocks_double> Running with [nmesh_x, nmesh_y, nmesh_z]  = 33,30,9.  Time taken =   0.005 sec\n",
      "In gridlink_mocks_double> Running with [nmesh_x, nmesh_y, nmesh_z]  = 33,30,9.  Time taken =   0.051 sec\n",
      "0%.........10%.........20%.........30%.........40%.........50%.........60%.........70%.........80%.........90%.........100% done. Time taken =  0.061 secs\n",
      "In gridlink_mocks_double> Running with [nmesh_x, nmesh_y, nmesh_z]  = 33,30,9.  Time taken =   0.003 sec\n",
      "countpairs_mocks_double> gridlink seems inefficient. nmesh = (33, 30, 9); avg_np = 752. Boosting bin refine factor - should lead to better performance\n",
      "In gridlink_mocks_double> Running with [nmesh_x, nmesh_y, nmesh_z]  = 50,45,9.  Time taken =   0.005 sec\n",
      "In gridlink_mocks_double> Running with [nmesh_x, nmesh_y, nmesh_z]  = 50,45,9.  Time taken =   1.366 sec\n",
      "0%.........10%.........20%.........30%.........40%.........50%.........60%.........70%.........80%.........90%.........100% done. Time taken =  0.413 secs\n",
      "In gridlink_mocks_double> Running with [nmesh_x, nmesh_y, nmesh_z]  = 33,30,9.  Time taken =   0.052 sec\n",
      "In gridlink_mocks_double> Running with [nmesh_x, nmesh_y, nmesh_z]  = 33,30,9.  Time taken =   0.126 sec\n",
      "0%.........10%.........20%.........30%.........40%.........50%.........60%.........70%.........80%.........90%.........100% done. Time taken =  7.490 secs\n",
      "In gridlink_mocks_double> Running with [nmesh_x, nmesh_y, nmesh_z]  = 33,30,9.  Time taken =   0.109 sec\n",
      "countpairs_mocks_double> gridlink seems inefficient. nmesh = (33, 30, 9); avg_np = 752. Boosting bin refine factor - should lead to better performance\n",
      "In gridlink_mocks_double> Running with [nmesh_x, nmesh_y, nmesh_z]  = 50,46,9.  Time taken =   0.105 sec\n",
      "In gridlink_mocks_double> Running with [nmesh_x, nmesh_y, nmesh_z]  = 50,46,9.  Time taken =   1.133 sec\n",
      "0%.........10%.........20%.........30%.........40%.........50%.........60%.........70%.........80%.........90%.........100% done. Time taken =     2 mins   20 secs\n"
     ]
    },
    {
     "name": "stdout",
     "output_type": "stream",
     "text": [
      "5 / 25\n"
     ]
    },
    {
     "name": "stderr",
     "output_type": "stream",
     "text": [
      "In gridlink_mocks_double> Running with [nmesh_x, nmesh_y, nmesh_z]  = 33,30,9.  Time taken =   0.005 sec\n",
      "In gridlink_mocks_double> Running with [nmesh_x, nmesh_y, nmesh_z]  = 33,30,9.  Time taken =   0.058 sec\n",
      "0%.........10%.........20%.........30%.........40%.........50%.........60%.........70%.........80%.........90%.........100% done. Time taken =  0.066 secs\n",
      "In gridlink_mocks_double> Running with [nmesh_x, nmesh_y, nmesh_z]  = 33,30,9.  Time taken =   0.004 sec\n",
      "countpairs_mocks_double> gridlink seems inefficient. nmesh = (33, 30, 9); avg_np = 794. Boosting bin refine factor - should lead to better performance\n",
      "In gridlink_mocks_double> Running with [nmesh_x, nmesh_y, nmesh_z]  = 50,45,9.  Time taken =   0.009 sec\n",
      "In gridlink_mocks_double> Running with [nmesh_x, nmesh_y, nmesh_z]  = 50,45,9.  Time taken =   1.457 sec\n",
      "0%.........10%.........20%.........30%.........40%.........50%.........60%.........70%.........80%.........90%.........100% done. Time taken =  0.448 secs\n",
      "In gridlink_mocks_double> Running with [nmesh_x, nmesh_y, nmesh_z]  = 33,30,9.  Time taken =   0.058 sec\n",
      "In gridlink_mocks_double> Running with [nmesh_x, nmesh_y, nmesh_z]  = 33,30,9.  Time taken =   0.172 sec\n",
      "0%.........10%.........20%.........30%.........40%.........50%.........60%.........70%.........80%.........90%.........100% done. Time taken =  8.105 secs\n",
      "In gridlink_mocks_double> Running with [nmesh_x, nmesh_y, nmesh_z]  = 33,30,9.  Time taken =   0.122 sec\n",
      "countpairs_mocks_double> gridlink seems inefficient. nmesh = (33, 30, 9); avg_np = 794. Boosting bin refine factor - should lead to better performance\n",
      "In gridlink_mocks_double> Running with [nmesh_x, nmesh_y, nmesh_z]  = 50,46,9.  Time taken =   0.164 sec\n",
      "In gridlink_mocks_double> Running with [nmesh_x, nmesh_y, nmesh_z]  = 50,46,9.  Time taken =   1.392 sec\n",
      "0%.........10%.........20%.........30%.........40%.........50%.........60%.........70%.........80%.........90%.........100% done. Time taken =     2 mins   34 secs\n"
     ]
    },
    {
     "name": "stdout",
     "output_type": "stream",
     "text": [
      "6 / 25\n"
     ]
    },
    {
     "name": "stderr",
     "output_type": "stream",
     "text": [
      "In gridlink_mocks_double> Running with [nmesh_x, nmesh_y, nmesh_z]  = 33,30,9.  Time taken =   0.003 sec\n",
      "In gridlink_mocks_double> Running with [nmesh_x, nmesh_y, nmesh_z]  = 33,30,9.  Time taken =   0.042 sec\n",
      "0%.........10%.........20%.........30%.........40%.........50%.........60%.........70%.........80%.........90%.........100% done. Time taken =  0.057 secs\n",
      "In gridlink_mocks_double> Running with [nmesh_x, nmesh_y, nmesh_z]  = 33,30,9.  Time taken =   0.004 sec\n",
      "countpairs_mocks_double> gridlink seems inefficient. nmesh = (33, 30, 9); avg_np = 794. Boosting bin refine factor - should lead to better performance\n",
      "In gridlink_mocks_double> Running with [nmesh_x, nmesh_y, nmesh_z]  = 50,45,9.  Time taken =   0.009 sec\n",
      "In gridlink_mocks_double> Running with [nmesh_x, nmesh_y, nmesh_z]  = 50,45,9.  Time taken =   1.344 sec\n",
      "0%.........10%.........20%.........30%.........40%.........50%.........60%.........70%.........80%.........90%.........100% done. Time taken =  0.441 secs\n",
      "In gridlink_mocks_double> Running with [nmesh_x, nmesh_y, nmesh_z]  = 33,30,9.  Time taken =   0.055 sec\n",
      "In gridlink_mocks_double> Running with [nmesh_x, nmesh_y, nmesh_z]  = 33,30,9.  Time taken =   0.141 sec\n",
      "0%.........10%.........20%.........30%.........40%.........50%.........60%.........70%.........80%.........90%.........100% done. Time taken =  8.012 secs\n",
      "In gridlink_mocks_double> Running with [nmesh_x, nmesh_y, nmesh_z]  = 33,30,9.  Time taken =   0.123 sec\n",
      "countpairs_mocks_double> gridlink seems inefficient. nmesh = (33, 30, 9); avg_np = 794. Boosting bin refine factor - should lead to better performance\n",
      "In gridlink_mocks_double> Running with [nmesh_x, nmesh_y, nmesh_z]  = 50,46,9.  Time taken =   0.136 sec\n",
      "In gridlink_mocks_double> Running with [nmesh_x, nmesh_y, nmesh_z]  = 50,46,9.  Time taken =   1.247 sec\n",
      "0%.........10%.........20%.........30%.........40%.........50%.........60%.........70%.........80%.........90%.........100% done. Time taken =     2 mins   40 secs\n"
     ]
    },
    {
     "name": "stdout",
     "output_type": "stream",
     "text": [
      "7 / 25\n"
     ]
    },
    {
     "name": "stderr",
     "output_type": "stream",
     "text": [
      "In gridlink_mocks_double> Running with [nmesh_x, nmesh_y, nmesh_z]  = 33,30,9.  Time taken =   0.004 sec\n",
      "In gridlink_mocks_double> Running with [nmesh_x, nmesh_y, nmesh_z]  = 33,30,9.  Time taken =   0.043 sec\n",
      "0%.........10%.........20%.........30%.........40%.........50%.........60%.........70%.........80%.........90%.........100% done. Time taken =  0.051 secs\n",
      "In gridlink_mocks_double> Running with [nmesh_x, nmesh_y, nmesh_z]  = 33,30,9.  Time taken =   0.002 sec\n",
      "countpairs_mocks_double> gridlink seems inefficient. nmesh = (33, 30, 9); avg_np = 794. Boosting bin refine factor - should lead to better performance\n",
      "In gridlink_mocks_double> Running with [nmesh_x, nmesh_y, nmesh_z]  = 50,45,9.  Time taken =   0.005 sec\n",
      "In gridlink_mocks_double> Running with [nmesh_x, nmesh_y, nmesh_z]  = 50,45,9.  Time taken =   1.199 sec\n",
      "0%.........10%.........20%.........30%.........40%.........50%.........60%.........70%.........80%.........90%.........100% done. Time taken =  0.481 secs\n",
      "In gridlink_mocks_double> Running with [nmesh_x, nmesh_y, nmesh_z]  = 33,30,9.  Time taken =   0.042 sec\n",
      "In gridlink_mocks_double> Running with [nmesh_x, nmesh_y, nmesh_z]  = 33,30,9.  Time taken =   0.115 sec\n",
      "0%.........10%.........20%.........30%.........40%.........50%.........60%.........70%.........80%.........90%.........100% done. Time taken =  7.618 secs\n",
      "In gridlink_mocks_double> Running with [nmesh_x, nmesh_y, nmesh_z]  = 33,30,9.  Time taken =   0.121 sec\n",
      "countpairs_mocks_double> gridlink seems inefficient. nmesh = (33, 30, 9); avg_np = 794. Boosting bin refine factor - should lead to better performance\n",
      "In gridlink_mocks_double> Running with [nmesh_x, nmesh_y, nmesh_z]  = 50,46,9.  Time taken =   0.123 sec\n",
      "In gridlink_mocks_double> Running with [nmesh_x, nmesh_y, nmesh_z]  = 50,46,9.  Time taken =   1.208 sec\n",
      "0%.........10%.........20%.........30%.........40%.........50%.........60%.........70%.........80%.........90%.........100% done. Time taken =     2 mins   41 secs\n"
     ]
    },
    {
     "name": "stdout",
     "output_type": "stream",
     "text": [
      "8 / 25\n"
     ]
    },
    {
     "name": "stderr",
     "output_type": "stream",
     "text": [
      "In gridlink_mocks_double> Running with [nmesh_x, nmesh_y, nmesh_z]  = 33,30,9.  Time taken =   0.003 sec\n",
      "In gridlink_mocks_double> Running with [nmesh_x, nmesh_y, nmesh_z]  = 33,30,9.  Time taken =   0.050 sec\n",
      "0%.........10%.........20%.........30%.........40%.........50%.........60%.........70%.........80%.........90%.........100% done. Time taken =  0.062 secs\n",
      "In gridlink_mocks_double> Running with [nmesh_x, nmesh_y, nmesh_z]  = 33,30,9.  Time taken =   0.003 sec\n",
      "countpairs_mocks_double> gridlink seems inefficient. nmesh = (33, 30, 9); avg_np = 761. Boosting bin refine factor - should lead to better performance\n",
      "In gridlink_mocks_double> Running with [nmesh_x, nmesh_y, nmesh_z]  = 50,45,9.  Time taken =   0.006 sec\n",
      "In gridlink_mocks_double> Running with [nmesh_x, nmesh_y, nmesh_z]  = 50,45,9.  Time taken =   1.335 sec\n",
      "0%.........10%.........20%.........30%.........40%.........50%.........60%.........70%.........80%.........90%.........100% done. Time taken =  0.442 secs\n",
      "In gridlink_mocks_double> Running with [nmesh_x, nmesh_y, nmesh_z]  = 33,30,9.  Time taken =   0.067 sec\n",
      "In gridlink_mocks_double> Running with [nmesh_x, nmesh_y, nmesh_z]  = 33,30,9.  Time taken =   0.167 sec\n",
      "0%.........10%.........20%.........30%.........40%.........50%.........60%.........70%.........80%.........90%.........100% done. Time taken =  7.975 secs\n",
      "In gridlink_mocks_double> Running with [nmesh_x, nmesh_y, nmesh_z]  = 33,30,9.  Time taken =   0.091 sec\n",
      "countpairs_mocks_double> gridlink seems inefficient. nmesh = (33, 30, 9); avg_np = 761. Boosting bin refine factor - should lead to better performance\n",
      "In gridlink_mocks_double> Running with [nmesh_x, nmesh_y, nmesh_z]  = 50,46,9.  Time taken =   0.112 sec\n",
      "In gridlink_mocks_double> Running with [nmesh_x, nmesh_y, nmesh_z]  = 50,46,9.  Time taken =   1.452 sec\n",
      "0%.........10%.........20%.........30%.........40%.........50%.........60%.........70%.........80%.........90%.........100% done. Time taken =     2 mins   29 secs\n"
     ]
    },
    {
     "name": "stdout",
     "output_type": "stream",
     "text": [
      "9 / 25\n"
     ]
    },
    {
     "name": "stderr",
     "output_type": "stream",
     "text": [
      "In gridlink_mocks_double> Running with [nmesh_x, nmesh_y, nmesh_z]  = 33,30,9.  Time taken =   0.007 sec\n",
      "In gridlink_mocks_double> Running with [nmesh_x, nmesh_y, nmesh_z]  = 33,30,9.  Time taken =   0.082 sec\n",
      "0%.........10%.........20%.........30%.........40%.........50%.........60%.........70%.........80%.........90%.........100% done. Time taken =  0.052 secs\n",
      "In gridlink_mocks_double> Running with [nmesh_x, nmesh_y, nmesh_z]  = 33,30,9.  Time taken =   0.005 sec\n",
      "countpairs_mocks_double> gridlink seems inefficient. nmesh = (33, 30, 9); avg_np = 742. Boosting bin refine factor - should lead to better performance\n",
      "In gridlink_mocks_double> Running with [nmesh_x, nmesh_y, nmesh_z]  = 50,45,9.  Time taken =   0.007 sec\n",
      "In gridlink_mocks_double> Running with [nmesh_x, nmesh_y, nmesh_z]  = 50,45,9.  Time taken =   1.593 sec\n",
      "0%.........10%.........20%.........30%.........40%.........50%.........60%.........70%.........80%.........90%.........100% done. Time taken =  0.403 secs\n",
      "In gridlink_mocks_double> Running with [nmesh_x, nmesh_y, nmesh_z]  = 33,30,9.  Time taken =   0.051 sec\n",
      "In gridlink_mocks_double> Running with [nmesh_x, nmesh_y, nmesh_z]  = 33,30,9.  Time taken =   0.121 sec\n",
      "0%.........10%.........20%.........30%.........40%.........50%.........60%.........70%.........80%.........90%.........100% done. Time taken =  7.332 secs\n",
      "In gridlink_mocks_double> Running with [nmesh_x, nmesh_y, nmesh_z]  = 33,30,9.  Time taken =   0.105 sec\n",
      "countpairs_mocks_double> gridlink seems inefficient. nmesh = (33, 30, 9); avg_np = 742. Boosting bin refine factor - should lead to better performance\n",
      "In gridlink_mocks_double> Running with [nmesh_x, nmesh_y, nmesh_z]  = 50,46,9.  Time taken =   0.122 sec\n",
      "In gridlink_mocks_double> Running with [nmesh_x, nmesh_y, nmesh_z]  = 50,46,9.  Time taken =   1.399 sec\n",
      "0%.........10%.........20%.........30%.........40%.........50%.........60%.........70%.........80%.........90%.........100% done. Time taken =     2 mins   25 secs\n"
     ]
    },
    {
     "name": "stdout",
     "output_type": "stream",
     "text": [
      "10 / 25\n"
     ]
    },
    {
     "name": "stderr",
     "output_type": "stream",
     "text": [
      "In gridlink_mocks_double> Running with [nmesh_x, nmesh_y, nmesh_z]  = 33,30,9.  Time taken =   0.004 sec\n",
      "In gridlink_mocks_double> Running with [nmesh_x, nmesh_y, nmesh_z]  = 33,30,9.  Time taken =   0.056 sec\n",
      "0%.........10%.........20%.........30%.........40%.........50%.........60%.........70%.........80%.........90%.........100% done. Time taken =  0.058 secs\n",
      "In gridlink_mocks_double> Running with [nmesh_x, nmesh_y, nmesh_z]  = 33,30,9.  Time taken =   0.004 sec\n",
      "countpairs_mocks_double> gridlink seems inefficient. nmesh = (33, 30, 9); avg_np = 785. Boosting bin refine factor - should lead to better performance\n",
      "In gridlink_mocks_double> Running with [nmesh_x, nmesh_y, nmesh_z]  = 50,45,9.  Time taken =   0.006 sec\n",
      "In gridlink_mocks_double> Running with [nmesh_x, nmesh_y, nmesh_z]  = 50,45,9.  Time taken =   1.167 sec\n",
      "0%.........10%.........20%.........30%.........40%.........50%.........60%.........70%.........80%.........90%.........100% done. Time taken =  0.413 secs\n",
      "In gridlink_mocks_double> Running with [nmesh_x, nmesh_y, nmesh_z]  = 33,30,9.  Time taken =   0.049 sec\n",
      "In gridlink_mocks_double> Running with [nmesh_x, nmesh_y, nmesh_z]  = 33,30,9.  Time taken =   0.111 sec\n",
      "0%.........10%.........20%.........30%.........40%.........50%.........60%.........70%.........80%.........90%.........100% done. Time taken =  7.915 secs\n",
      "In gridlink_mocks_double> Running with [nmesh_x, nmesh_y, nmesh_z]  = 33,30,9.  Time taken =   0.124 sec\n",
      "countpairs_mocks_double> gridlink seems inefficient. nmesh = (33, 30, 9); avg_np = 785. Boosting bin refine factor - should lead to better performance\n",
      "In gridlink_mocks_double> Running with [nmesh_x, nmesh_y, nmesh_z]  = 50,46,9.  Time taken =   0.178 sec\n",
      "In gridlink_mocks_double> Running with [nmesh_x, nmesh_y, nmesh_z]  = 50,46,9.  Time taken =   1.515 sec\n",
      "0%.........10%.........20%.........30%.........40%.........50%.........60%.........70%.........80%.........90%.........100% done. Time taken =     2 mins   39 secs\n"
     ]
    },
    {
     "name": "stdout",
     "output_type": "stream",
     "text": [
      "11 / 25\n"
     ]
    },
    {
     "name": "stderr",
     "output_type": "stream",
     "text": [
      "In gridlink_mocks_double> Running with [nmesh_x, nmesh_y, nmesh_z]  = 33,30,9.  Time taken =   0.003 sec\n",
      "In gridlink_mocks_double> Running with [nmesh_x, nmesh_y, nmesh_z]  = 33,30,9.  Time taken =   0.044 sec\n",
      "0%.........10%.........20%.........30%.........40%.........50%.........60%.........70%.........80%.........90%.........100% done. Time taken =  0.060 secs\n",
      "In gridlink_mocks_double> Running with [nmesh_x, nmesh_y, nmesh_z]  = 33,30,9.  Time taken =   0.007 sec\n",
      "countpairs_mocks_double> gridlink seems inefficient. nmesh = (33, 30, 9); avg_np = 794. Boosting bin refine factor - should lead to better performance\n",
      "In gridlink_mocks_double> Running with [nmesh_x, nmesh_y, nmesh_z]  = 50,45,9.  Time taken =   0.006 sec\n",
      "In gridlink_mocks_double> Running with [nmesh_x, nmesh_y, nmesh_z]  = 50,45,9.  Time taken =   1.223 sec\n",
      "0%.........10%.........20%.........30%.........40%.........50%.........60%.........70%.........80%.........90%.........100% done. Time taken =  0.425 secs\n",
      "In gridlink_mocks_double> Running with [nmesh_x, nmesh_y, nmesh_z]  = 33,30,9.  Time taken =   0.061 sec\n",
      "In gridlink_mocks_double> Running with [nmesh_x, nmesh_y, nmesh_z]  = 33,30,9.  Time taken =   0.132 sec\n",
      "0%.........10%.........20%.........30%.........40%.........50%.........60%.........70%.........80%.........90%.........100% done. Time taken =  7.713 secs\n",
      "In gridlink_mocks_double> Running with [nmesh_x, nmesh_y, nmesh_z]  = 33,30,9.  Time taken =   0.103 sec\n",
      "countpairs_mocks_double> gridlink seems inefficient. nmesh = (33, 30, 9); avg_np = 794. Boosting bin refine factor - should lead to better performance\n",
      "In gridlink_mocks_double> Running with [nmesh_x, nmesh_y, nmesh_z]  = 50,46,9.  Time taken =   0.113 sec\n",
      "In gridlink_mocks_double> Running with [nmesh_x, nmesh_y, nmesh_z]  = 50,46,9.  Time taken =   1.445 sec\n",
      "0%.........10%.........20%.........30%.........40%.........50%.........60%.........70%.........80%.........90%.........100% done. Time taken =     2 mins   43 secs\n"
     ]
    },
    {
     "name": "stdout",
     "output_type": "stream",
     "text": [
      "12 / 25\n"
     ]
    },
    {
     "name": "stderr",
     "output_type": "stream",
     "text": [
      "In gridlink_mocks_double> Running with [nmesh_x, nmesh_y, nmesh_z]  = 33,30,9.  Time taken =   0.005 sec\n",
      "In gridlink_mocks_double> Running with [nmesh_x, nmesh_y, nmesh_z]  = 33,30,9.  Time taken =   0.066 sec\n",
      "0%.........10%.........20%.........30%.........40%.........50%.........60%.........70%.........80%.........90%.........100% done. Time taken =  0.056 secs\n",
      "In gridlink_mocks_double> Running with [nmesh_x, nmesh_y, nmesh_z]  = 33,30,9.  Time taken =   0.002 sec\n",
      "countpairs_mocks_double> gridlink seems inefficient. nmesh = (33, 30, 9); avg_np = 794. Boosting bin refine factor - should lead to better performance\n",
      "In gridlink_mocks_double> Running with [nmesh_x, nmesh_y, nmesh_z]  = 50,45,9.  Time taken =   0.005 sec\n",
      "In gridlink_mocks_double> Running with [nmesh_x, nmesh_y, nmesh_z]  = 50,45,9.  Time taken =   1.284 sec\n",
      "0%.........10%.........20%.........30%.........40%.........50%.........60%.........70%.........80%.........90%.........100% done. Time taken =  0.477 secs\n",
      "In gridlink_mocks_double> Running with [nmesh_x, nmesh_y, nmesh_z]  = 33,30,9.  Time taken =   0.042 sec\n",
      "In gridlink_mocks_double> Running with [nmesh_x, nmesh_y, nmesh_z]  = 33,30,9.  Time taken =   0.122 sec\n",
      "0%.........10%.........20%.........30%.........40%.........50%.........60%.........70%.........80%.........90%.........100% done. Time taken =  7.724 secs\n",
      "In gridlink_mocks_double> Running with [nmesh_x, nmesh_y, nmesh_z]  = 33,30,9.  Time taken =   0.131 sec\n",
      "countpairs_mocks_double> gridlink seems inefficient. nmesh = (33, 30, 9); avg_np = 794. Boosting bin refine factor - should lead to better performance\n",
      "In gridlink_mocks_double> Running with [nmesh_x, nmesh_y, nmesh_z]  = 50,46,9.  Time taken =   0.118 sec\n",
      "In gridlink_mocks_double> Running with [nmesh_x, nmesh_y, nmesh_z]  = 50,46,9.  Time taken =   1.231 sec\n",
      "0%.........10%.........20%.........30%.........40%.........50%.........60%.........70%.........80%.........90%.........100% done. Time taken =     2 mins   38 secs\n"
     ]
    },
    {
     "name": "stdout",
     "output_type": "stream",
     "text": [
      "13 / 25\n"
     ]
    },
    {
     "name": "stderr",
     "output_type": "stream",
     "text": [
      "In gridlink_mocks_double> Running with [nmesh_x, nmesh_y, nmesh_z]  = 32,30,9.  Time taken =   0.005 sec\n",
      "In gridlink_mocks_double> Running with [nmesh_x, nmesh_y, nmesh_z]  = 32,30,9.  Time taken =   0.066 sec\n",
      "0%.........10%.........20%.........30%.........40%.........50%.........60%.........70%.........80%.........90%.........100% done. Time taken =  0.061 secs\n",
      "In gridlink_mocks_double> Running with [nmesh_x, nmesh_y, nmesh_z]  = 33,30,9.  Time taken =   0.003 sec\n",
      "countpairs_mocks_double> gridlink seems inefficient. nmesh = (33, 30, 9); avg_np = 687. Boosting bin refine factor - should lead to better performance\n",
      "In gridlink_mocks_double> Running with [nmesh_x, nmesh_y, nmesh_z]  = 49,45,9.  Time taken =   0.005 sec\n",
      "In gridlink_mocks_double> Running with [nmesh_x, nmesh_y, nmesh_z]  = 49,45,9.  Time taken =   1.258 sec\n",
      "0%.........10%.........20%.........30%.........40%.........50%.........60%.........70%.........80%.........90%.........100% done. Time taken =  0.463 secs\n",
      "In gridlink_mocks_double> Running with [nmesh_x, nmesh_y, nmesh_z]  = 32,30,9.  Time taken =   0.041 sec\n",
      "In gridlink_mocks_double> Running with [nmesh_x, nmesh_y, nmesh_z]  = 32,30,9.  Time taken =   0.120 sec\n",
      "0%.........10%.........20%.........30%.........40%.........50%.........60%.........70%.........80%.........90%.........100% done. Time taken =  7.585 secs\n",
      "In gridlink_mocks_double> Running with [nmesh_x, nmesh_y, nmesh_z]  = 33,30,9.  Time taken =   0.162 sec\n",
      "countpairs_mocks_double> gridlink seems inefficient. nmesh = (33, 30, 9); avg_np = 687. Boosting bin refine factor - should lead to better performance\n",
      "In gridlink_mocks_double> Running with [nmesh_x, nmesh_y, nmesh_z]  = 49,46,9.  Time taken =   0.192 sec\n",
      "In gridlink_mocks_double> Running with [nmesh_x, nmesh_y, nmesh_z]  = 49,46,9.  Time taken =   1.166 sec\n",
      "0%.........10%.........20%.........30%.........40%.........50%.........60%.........70%.........80%.........90%.........100% done. Time taken =     2 mins   11 secs\n"
     ]
    },
    {
     "name": "stdout",
     "output_type": "stream",
     "text": [
      "14 / 25\n"
     ]
    },
    {
     "name": "stderr",
     "output_type": "stream",
     "text": [
      "In gridlink_mocks_double> Running with [nmesh_x, nmesh_y, nmesh_z]  = 33,30,9.  Time taken =   0.011 sec\n",
      "In gridlink_mocks_double> Running with [nmesh_x, nmesh_y, nmesh_z]  = 33,30,9.  Time taken =   0.050 sec\n",
      "0%.........10%.........20%.........30%.........40%.........50%.........60%.........70%.........80%.........90%.........100% done. Time taken =  0.048 secs\n",
      "In gridlink_mocks_double> Running with [nmesh_x, nmesh_y, nmesh_z]  = 33,30,9.  Time taken =   0.003 sec\n",
      "countpairs_mocks_double> gridlink seems inefficient. nmesh = (33, 30, 9); avg_np = 630. Boosting bin refine factor - should lead to better performance\n",
      "In gridlink_mocks_double> Running with [nmesh_x, nmesh_y, nmesh_z]  = 50,45,9.  Time taken =   0.006 sec\n",
      "In gridlink_mocks_double> Running with [nmesh_x, nmesh_y, nmesh_z]  = 50,45,9.  Time taken =   1.367 sec\n",
      "0%.........10%.........20%.........30%.........40%.........50%.........60%.........70%.........80%.........90%.........100% done. Time taken =  0.342 secs\n",
      "In gridlink_mocks_double> Running with [nmesh_x, nmesh_y, nmesh_z]  = 33,30,9.  Time taken =   0.038 sec\n",
      "In gridlink_mocks_double> Running with [nmesh_x, nmesh_y, nmesh_z]  = 33,30,9.  Time taken =   0.120 sec\n",
      "0%.........10%.........20%.........30%.........40%.........50%.........60%.........70%.........80%.........90%.........100% done. Time taken =  5.857 secs\n",
      "In gridlink_mocks_double> Running with [nmesh_x, nmesh_y, nmesh_z]  = 33,30,9.  Time taken =   0.097 sec\n",
      "countpairs_mocks_double> gridlink seems inefficient. nmesh = (33, 30, 9); avg_np = 630. Boosting bin refine factor - should lead to better performance\n",
      "In gridlink_mocks_double> Running with [nmesh_x, nmesh_y, nmesh_z]  = 50,46,9.  Time taken =   0.124 sec\n",
      "In gridlink_mocks_double> Running with [nmesh_x, nmesh_y, nmesh_z]  = 50,46,9.  Time taken =   1.185 sec\n",
      "0%.........10%.........20%.........30%.........40%.........50%.........60%.........70%.........80%.........90%.........100% done. Time taken =   107 secs\n"
     ]
    },
    {
     "name": "stdout",
     "output_type": "stream",
     "text": [
      "15 / 25\n"
     ]
    },
    {
     "name": "stderr",
     "output_type": "stream",
     "text": [
      "In gridlink_mocks_double> Running with [nmesh_x, nmesh_y, nmesh_z]  = 33,30,9.  Time taken =   0.003 sec\n",
      "In gridlink_mocks_double> Running with [nmesh_x, nmesh_y, nmesh_z]  = 33,30,9.  Time taken =   0.050 sec\n",
      "0%.........10%.........20%.........30%.........40%.........50%.........60%.........70%.........80%.........90%.........100% done. Time taken =  0.062 secs\n",
      "In gridlink_mocks_double> Running with [nmesh_x, nmesh_y, nmesh_z]  = 33,30,9.  Time taken =   0.003 sec\n",
      "countpairs_mocks_double> gridlink seems inefficient. nmesh = (33, 30, 9); avg_np = 754. Boosting bin refine factor - should lead to better performance\n",
      "In gridlink_mocks_double> Running with [nmesh_x, nmesh_y, nmesh_z]  = 50,45,9.  Time taken =   0.005 sec\n",
      "In gridlink_mocks_double> Running with [nmesh_x, nmesh_y, nmesh_z]  = 50,45,9.  Time taken =   1.238 sec\n",
      "0%.........10%.........20%.........30%.........40%.........50%.........60%.........70%.........80%.........90%.........100% done. Time taken =  0.415 secs\n",
      "In gridlink_mocks_double> Running with [nmesh_x, nmesh_y, nmesh_z]  = 33,30,9.  Time taken =   0.045 sec\n",
      "In gridlink_mocks_double> Running with [nmesh_x, nmesh_y, nmesh_z]  = 33,30,9.  Time taken =   0.134 sec\n",
      "0%.........10%.........20%.........30%.........40%.........50%.........60%.........70%.........80%.........90%.........100% done. Time taken =  7.403 secs\n",
      "In gridlink_mocks_double> Running with [nmesh_x, nmesh_y, nmesh_z]  = 33,30,9.  Time taken =   0.096 sec\n",
      "countpairs_mocks_double> gridlink seems inefficient. nmesh = (33, 30, 9); avg_np = 754. Boosting bin refine factor - should lead to better performance\n",
      "In gridlink_mocks_double> Running with [nmesh_x, nmesh_y, nmesh_z]  = 50,46,9.  Time taken =   0.121 sec\n",
      "In gridlink_mocks_double> Running with [nmesh_x, nmesh_y, nmesh_z]  = 50,46,9.  Time taken =   1.151 sec\n",
      "0%.........10%.........20%.........30%.........40%.........50%.........60%.........70%.........80%.........90%.........100% done. Time taken =     2 mins   27 secs\n"
     ]
    },
    {
     "name": "stdout",
     "output_type": "stream",
     "text": [
      "16 / 25\n"
     ]
    },
    {
     "name": "stderr",
     "output_type": "stream",
     "text": [
      "In gridlink_mocks_double> Running with [nmesh_x, nmesh_y, nmesh_z]  = 33,30,9.  Time taken =   0.006 sec\n",
      "In gridlink_mocks_double> Running with [nmesh_x, nmesh_y, nmesh_z]  = 33,30,9.  Time taken =   0.079 sec\n",
      "0%.........10%.........20%.........30%.........40%.........50%.........60%.........70%.........80%.........90%.........100% done. Time taken =  0.088 secs\n",
      "In gridlink_mocks_double> Running with [nmesh_x, nmesh_y, nmesh_z]  = 33,30,9.  Time taken =   0.003 sec\n",
      "countpairs_mocks_double> gridlink seems inefficient. nmesh = (33, 30, 9); avg_np = 794. Boosting bin refine factor - should lead to better performance\n",
      "In gridlink_mocks_double> Running with [nmesh_x, nmesh_y, nmesh_z]  = 50,45,9.  Time taken =   0.006 sec\n",
      "In gridlink_mocks_double> Running with [nmesh_x, nmesh_y, nmesh_z]  = 50,45,9.  Time taken =   1.409 sec\n",
      "0%.........10%.........20%.........30%.........40%.........50%.........60%.........70%.........80%.........90%.........100% done. Time taken =  0.442 secs\n",
      "In gridlink_mocks_double> Running with [nmesh_x, nmesh_y, nmesh_z]  = 33,30,9.  Time taken =   0.043 sec\n",
      "In gridlink_mocks_double> Running with [nmesh_x, nmesh_y, nmesh_z]  = 33,30,9.  Time taken =   0.145 sec\n",
      "0%.........10%.........20%.........30%.........40%.........50%.........60%.........70%.........80%.........90%.........100% done. Time taken =  8.322 secs\n",
      "In gridlink_mocks_double> Running with [nmesh_x, nmesh_y, nmesh_z]  = 33,30,9.  Time taken =   0.126 sec\n",
      "countpairs_mocks_double> gridlink seems inefficient. nmesh = (33, 30, 9); avg_np = 794. Boosting bin refine factor - should lead to better performance\n",
      "In gridlink_mocks_double> Running with [nmesh_x, nmesh_y, nmesh_z]  = 50,46,9.  Time taken =   0.128 sec\n",
      "In gridlink_mocks_double> Running with [nmesh_x, nmesh_y, nmesh_z]  = 50,46,9.  Time taken =   1.533 sec\n",
      "0%.........10%.........20%.........30%.........40%.........50%.........60%.........70%.........80%.........90%.........100% done. Time taken =     2 mins   30 secs\n"
     ]
    },
    {
     "name": "stdout",
     "output_type": "stream",
     "text": [
      "17 / 25\n"
     ]
    },
    {
     "name": "stderr",
     "output_type": "stream",
     "text": [
      "In gridlink_mocks_double> Running with [nmesh_x, nmesh_y, nmesh_z]  = 33,30,9.  Time taken =   0.005 sec\n",
      "In gridlink_mocks_double> Running with [nmesh_x, nmesh_y, nmesh_z]  = 33,30,9.  Time taken =   0.058 sec\n",
      "0%.........10%.........20%.........30%.........40%.........50%.........60%.........70%.........80%.........90%.........100% done. Time taken =  0.062 secs\n",
      "In gridlink_mocks_double> Running with [nmesh_x, nmesh_y, nmesh_z]  = 33,30,9.  Time taken =   0.004 sec\n",
      "countpairs_mocks_double> gridlink seems inefficient. nmesh = (33, 30, 9); avg_np = 794. Boosting bin refine factor - should lead to better performance\n",
      "In gridlink_mocks_double> Running with [nmesh_x, nmesh_y, nmesh_z]  = 50,45,9.  Time taken =   0.009 sec\n",
      "In gridlink_mocks_double> Running with [nmesh_x, nmesh_y, nmesh_z]  = 50,45,9.  Time taken =   1.439 sec\n",
      "0%.........10%.........20%.........30%.........40%.........50%.........60%.........70%.........80%.........90%.........100% done. Time taken =  0.465 secs\n",
      "In gridlink_mocks_double> Running with [nmesh_x, nmesh_y, nmesh_z]  = 33,30,9.  Time taken =   0.055 sec\n",
      "In gridlink_mocks_double> Running with [nmesh_x, nmesh_y, nmesh_z]  = 33,30,9.  Time taken =   0.127 sec\n",
      "0%.........10%.........20%.........30%.........40%.........50%.........60%.........70%.........80%.........90%.........100% done. Time taken =  8.595 secs\n",
      "In gridlink_mocks_double> Running with [nmesh_x, nmesh_y, nmesh_z]  = 33,30,9.  Time taken =   0.146 sec\n",
      "countpairs_mocks_double> gridlink seems inefficient. nmesh = (33, 30, 9); avg_np = 794. Boosting bin refine factor - should lead to better performance\n",
      "In gridlink_mocks_double> Running with [nmesh_x, nmesh_y, nmesh_z]  = 50,46,9.  Time taken =   0.142 sec\n",
      "In gridlink_mocks_double> Running with [nmesh_x, nmesh_y, nmesh_z]  = 50,46,9.  Time taken =   1.475 sec\n",
      "0%.........10%.........20%.........30%.........40%.........50%.........60%.........70%.........80%.........90%.........100% done. Time taken =     2 mins   38 secs\n"
     ]
    },
    {
     "name": "stdout",
     "output_type": "stream",
     "text": [
      "18 / 25\n"
     ]
    },
    {
     "name": "stderr",
     "output_type": "stream",
     "text": [
      "In gridlink_mocks_double> Running with [nmesh_x, nmesh_y, nmesh_z]  = 33,30,9.  Time taken =   0.004 sec\n",
      "In gridlink_mocks_double> Running with [nmesh_x, nmesh_y, nmesh_z]  = 33,30,9.  Time taken =   0.038 sec\n",
      "0%.........10%.........20%.........30%.........40%.........50%.........60%.........70%.........80%.........90%.........100% done. Time taken =  0.048 secs\n",
      "In gridlink_mocks_double> Running with [nmesh_x, nmesh_y, nmesh_z]  = 33,30,9.  Time taken =   0.003 sec\n",
      "countpairs_mocks_double> gridlink seems inefficient. nmesh = (33, 30, 9); avg_np = 747. Boosting bin refine factor - should lead to better performance\n",
      "In gridlink_mocks_double> Running with [nmesh_x, nmesh_y, nmesh_z]  = 50,45,9.  Time taken =   0.006 sec\n",
      "In gridlink_mocks_double> Running with [nmesh_x, nmesh_y, nmesh_z]  = 50,45,9.  Time taken =   1.139 sec\n",
      "0%.........10%.........20%.........30%.........40%.........50%.........60%.........70%.........80%.........90%.........100% done. Time taken =  0.374 secs\n",
      "In gridlink_mocks_double> Running with [nmesh_x, nmesh_y, nmesh_z]  = 33,30,9.  Time taken =   0.039 sec\n",
      "In gridlink_mocks_double> Running with [nmesh_x, nmesh_y, nmesh_z]  = 33,30,9.  Time taken =   0.108 sec\n",
      "0%.........10%.........20%.........30%.........40%.........50%.........60%.........70%.........80%.........90%.........100% done. Time taken =  7.055 secs\n",
      "In gridlink_mocks_double> Running with [nmesh_x, nmesh_y, nmesh_z]  = 33,30,9.  Time taken =   0.106 sec\n",
      "countpairs_mocks_double> gridlink seems inefficient. nmesh = (33, 30, 9); avg_np = 747. Boosting bin refine factor - should lead to better performance\n",
      "In gridlink_mocks_double> Running with [nmesh_x, nmesh_y, nmesh_z]  = 50,45,9.  Time taken =   0.122 sec\n",
      "In gridlink_mocks_double> Running with [nmesh_x, nmesh_y, nmesh_z]  = 50,45,9.  Time taken =   1.168 sec\n",
      "0%.........10%.........20%.........30%.........40%.........50%.........60%.........70%.........80%.........90%.........100% done. Time taken =     2 mins   37 secs\n"
     ]
    },
    {
     "name": "stdout",
     "output_type": "stream",
     "text": [
      "19 / 25\n"
     ]
    },
    {
     "name": "stderr",
     "output_type": "stream",
     "text": [
      "In gridlink_mocks_double> Running with [nmesh_x, nmesh_y, nmesh_z]  = 33,30,9.  Time taken =   0.003 sec\n",
      "In gridlink_mocks_double> Running with [nmesh_x, nmesh_y, nmesh_z]  = 33,30,9.  Time taken =   0.039 sec\n",
      "0%.........10%.........20%.........30%.........40%.........50%.........60%.........70%.........80%.........90%.........100% done. Time taken =  0.056 secs\n",
      "In gridlink_mocks_double> Running with [nmesh_x, nmesh_y, nmesh_z]  = 33,30,9.  Time taken =   0.003 sec\n",
      "countpairs_mocks_double> gridlink seems inefficient. nmesh = (33, 30, 9); avg_np = 709. Boosting bin refine factor - should lead to better performance\n",
      "In gridlink_mocks_double> Running with [nmesh_x, nmesh_y, nmesh_z]  = 50,45,9.  Time taken =   0.005 sec\n",
      "In gridlink_mocks_double> Running with [nmesh_x, nmesh_y, nmesh_z]  = 50,45,9.  Time taken =   1.158 sec\n",
      "0%.........10%.........20%.........30%.........40%.........50%.........60%.........70%.........80%.........90%.........100% done. Time taken =  0.421 secs\n",
      "In gridlink_mocks_double> Running with [nmesh_x, nmesh_y, nmesh_z]  = 33,30,9.  Time taken =   0.049 sec\n",
      "In gridlink_mocks_double> Running with [nmesh_x, nmesh_y, nmesh_z]  = 33,30,9.  Time taken =   0.155 sec\n",
      "0%.........10%.........20%.........30%.........40%.........50%.........60%.........70%.........80%.........90%.........100% done. Time taken =  7.267 secs\n",
      "In gridlink_mocks_double> Running with [nmesh_x, nmesh_y, nmesh_z]  = 33,30,9.  Time taken =   0.091 sec\n",
      "countpairs_mocks_double> gridlink seems inefficient. nmesh = (33, 30, 9); avg_np = 709. Boosting bin refine factor - should lead to better performance\n",
      "In gridlink_mocks_double> Running with [nmesh_x, nmesh_y, nmesh_z]  = 50,46,9.  Time taken =   0.135 sec\n",
      "In gridlink_mocks_double> Running with [nmesh_x, nmesh_y, nmesh_z]  = 50,46,9.  Time taken =   1.385 sec\n",
      "0%.........10%.........20%.........30%.........40%.........50%.........60%.........70%.........80%.........90%.........100% done. Time taken =     2 mins   22 secs\n"
     ]
    },
    {
     "name": "stdout",
     "output_type": "stream",
     "text": [
      "20 / 25\n"
     ]
    },
    {
     "name": "stderr",
     "output_type": "stream",
     "text": [
      "In gridlink_mocks_double> Running with [nmesh_x, nmesh_y, nmesh_z]  = 33,30,9.  Time taken =   0.004 sec\n",
      "In gridlink_mocks_double> Running with [nmesh_x, nmesh_y, nmesh_z]  = 33,30,9.  Time taken =   0.052 sec\n",
      "0%.........10%.........20%.........30%.........40%.........50%.........60%.........70%.........80%.........90%.........100% done. Time taken =  0.059 secs\n",
      "In gridlink_mocks_double> Running with [nmesh_x, nmesh_y, nmesh_z]  = 33,30,9.  Time taken =   0.002 sec\n",
      "countpairs_mocks_double> gridlink seems inefficient. nmesh = (33, 30, 9); avg_np = 782. Boosting bin refine factor - should lead to better performance\n",
      "In gridlink_mocks_double> Running with [nmesh_x, nmesh_y, nmesh_z]  = 50,45,9.  Time taken =   0.005 sec\n",
      "In gridlink_mocks_double> Running with [nmesh_x, nmesh_y, nmesh_z]  = 50,45,9.  Time taken =   1.437 sec\n",
      "0%.........10%.........20%.........30%.........40%.........50%.........60%.........70%.........80%.........90%.........100% done. Time taken =  0.445 secs\n",
      "In gridlink_mocks_double> Running with [nmesh_x, nmesh_y, nmesh_z]  = 33,30,9.  Time taken =   0.043 sec\n",
      "In gridlink_mocks_double> Running with [nmesh_x, nmesh_y, nmesh_z]  = 33,30,9.  Time taken =   0.113 sec\n",
      "0%.........10%.........20%.........30%.........40%.........50%.........60%.........70%.........80%.........90%.........100% done. Time taken =  7.782 secs\n",
      "In gridlink_mocks_double> Running with [nmesh_x, nmesh_y, nmesh_z]  = 33,30,9.  Time taken =   0.112 sec\n",
      "countpairs_mocks_double> gridlink seems inefficient. nmesh = (33, 30, 9); avg_np = 782. Boosting bin refine factor - should lead to better performance\n",
      "In gridlink_mocks_double> Running with [nmesh_x, nmesh_y, nmesh_z]  = 50,46,9.  Time taken =   0.124 sec\n",
      "In gridlink_mocks_double> Running with [nmesh_x, nmesh_y, nmesh_z]  = 50,46,9.  Time taken =   1.340 sec\n",
      "0%.........10%.........20%.........30%.........40%.........50%.........60%.........70%.........80%.........90%.........100% done. Time taken =     2 mins   37 secs\n"
     ]
    },
    {
     "name": "stdout",
     "output_type": "stream",
     "text": [
      "21 / 25\n"
     ]
    },
    {
     "name": "stderr",
     "output_type": "stream",
     "text": [
      "In gridlink_mocks_double> Running with [nmesh_x, nmesh_y, nmesh_z]  = 33,30,9.  Time taken =   0.014 sec\n",
      "In gridlink_mocks_double> Running with [nmesh_x, nmesh_y, nmesh_z]  = 33,30,9.  Time taken =   0.055 sec\n",
      "0%.........10%.........20%.........30%.........40%.........50%.........60%.........70%.........80%.........90%.........100% done. Time taken =  0.065 secs\n",
      "In gridlink_mocks_double> Running with [nmesh_x, nmesh_y, nmesh_z]  = 33,30,9.  Time taken =   0.002 sec\n",
      "countpairs_mocks_double> gridlink seems inefficient. nmesh = (33, 30, 9); avg_np = 794. Boosting bin refine factor - should lead to better performance\n",
      "In gridlink_mocks_double> Running with [nmesh_x, nmesh_y, nmesh_z]  = 50,45,9.  Time taken =   0.004 sec\n",
      "In gridlink_mocks_double> Running with [nmesh_x, nmesh_y, nmesh_z]  = 50,45,9.  Time taken =   1.209 sec\n",
      "0%.........10%.........20%.........30%.........40%.........50%.........60%.........70%.........80%.........90%.........100% done. Time taken =  0.409 secs\n",
      "In gridlink_mocks_double> Running with [nmesh_x, nmesh_y, nmesh_z]  = 33,30,9.  Time taken =   0.050 sec\n",
      "In gridlink_mocks_double> Running with [nmesh_x, nmesh_y, nmesh_z]  = 33,30,9.  Time taken =   0.131 sec\n",
      "0%.........10%.........20%.........30%.........40%.........50%.........60%.........70%.........80%.........90%.........100% done. Time taken =  7.796 secs\n",
      "In gridlink_mocks_double> Running with [nmesh_x, nmesh_y, nmesh_z]  = 33,30,9.  Time taken =   0.113 sec\n",
      "countpairs_mocks_double> gridlink seems inefficient. nmesh = (33, 30, 9); avg_np = 794. Boosting bin refine factor - should lead to better performance\n",
      "In gridlink_mocks_double> Running with [nmesh_x, nmesh_y, nmesh_z]  = 50,46,9.  Time taken =   0.120 sec\n",
      "In gridlink_mocks_double> Running with [nmesh_x, nmesh_y, nmesh_z]  = 50,46,9.  Time taken =   1.139 sec\n",
      "0%.........10%.........20%.........30%.........40%.........50%.........60%.........70%.........80%.........90%.........100% done. Time taken =     2 mins   40 secs\n"
     ]
    },
    {
     "name": "stdout",
     "output_type": "stream",
     "text": [
      "22 / 25\n"
     ]
    },
    {
     "name": "stderr",
     "output_type": "stream",
     "text": [
      "In gridlink_mocks_double> Running with [nmesh_x, nmesh_y, nmesh_z]  = 33,30,9.  Time taken =   0.003 sec\n",
      "In gridlink_mocks_double> Running with [nmesh_x, nmesh_y, nmesh_z]  = 33,30,9.  Time taken =   0.047 sec\n",
      "0%.........10%.........20%.........30%.........40%.........50%.........60%.........70%.........80%.........90%.........100% done. Time taken =  0.063 secs\n",
      "In gridlink_mocks_double> Running with [nmesh_x, nmesh_y, nmesh_z]  = 33,30,9.  Time taken =   0.002 sec\n",
      "countpairs_mocks_double> gridlink seems inefficient. nmesh = (33, 30, 9); avg_np = 794. Boosting bin refine factor - should lead to better performance\n",
      "In gridlink_mocks_double> Running with [nmesh_x, nmesh_y, nmesh_z]  = 50,45,9.  Time taken =   0.005 sec\n",
      "In gridlink_mocks_double> Running with [nmesh_x, nmesh_y, nmesh_z]  = 50,45,9.  Time taken =   1.381 sec\n",
      "0%.........10%.........20%.........30%.........40%.........50%.........60%.........70%.........80%.........90%.........100% done. Time taken =  0.448 secs\n",
      "In gridlink_mocks_double> Running with [nmesh_x, nmesh_y, nmesh_z]  = 33,30,9.  Time taken =   0.059 sec\n",
      "In gridlink_mocks_double> Running with [nmesh_x, nmesh_y, nmesh_z]  = 33,30,9.  Time taken =   0.121 sec\n",
      "0%.........10%.........20%.........30%.........40%.........50%.........60%.........70%.........80%.........90%.........100% done. Time taken =  8.059 secs\n",
      "In gridlink_mocks_double> Running with [nmesh_x, nmesh_y, nmesh_z]  = 33,30,9.  Time taken =   0.186 sec\n",
      "countpairs_mocks_double> gridlink seems inefficient. nmesh = (33, 30, 9); avg_np = 794. Boosting bin refine factor - should lead to better performance\n",
      "In gridlink_mocks_double> Running with [nmesh_x, nmesh_y, nmesh_z]  = 50,46,9.  Time taken =   0.191 sec\n",
      "In gridlink_mocks_double> Running with [nmesh_x, nmesh_y, nmesh_z]  = 50,46,9.  Time taken =   1.537 sec\n",
      "0%.........10%.........20%.........30%.........40%.........50%.........60%.........70%.........80%.........90%.........100% done. Time taken =     2 mins   42 secs\n"
     ]
    },
    {
     "name": "stdout",
     "output_type": "stream",
     "text": [
      "23 / 25\n"
     ]
    },
    {
     "name": "stderr",
     "output_type": "stream",
     "text": [
      "In gridlink_mocks_double> Running with [nmesh_x, nmesh_y, nmesh_z]  = 33,30,9.  Time taken =   0.005 sec\n",
      "In gridlink_mocks_double> Running with [nmesh_x, nmesh_y, nmesh_z]  = 33,30,9.  Time taken =   0.076 sec\n",
      "0%.........10%.........20%.........30%.........40%.........50%.........60%.........70%.........80%.........90%.........100% done. Time taken =  0.063 secs\n",
      "In gridlink_mocks_double> Running with [nmesh_x, nmesh_y, nmesh_z]  = 33,30,9.  Time taken =   0.003 sec\n",
      "countpairs_mocks_double> gridlink seems inefficient. nmesh = (33, 30, 9); avg_np = 719. Boosting bin refine factor - should lead to better performance\n",
      "In gridlink_mocks_double> Running with [nmesh_x, nmesh_y, nmesh_z]  = 50,45,9.  Time taken =   0.005 sec\n",
      "In gridlink_mocks_double> Running with [nmesh_x, nmesh_y, nmesh_z]  = 50,45,9.  Time taken =   1.218 sec\n",
      "0%.........10%.........20%.........30%.........40%.........50%.........60%.........70%.........80%.........90%.........100% done. Time taken =  0.428 secs\n",
      "In gridlink_mocks_double> Running with [nmesh_x, nmesh_y, nmesh_z]  = 33,30,9.  Time taken =   0.039 sec\n",
      "In gridlink_mocks_double> Running with [nmesh_x, nmesh_y, nmesh_z]  = 33,30,9.  Time taken =   0.130 sec\n",
      "0%.........10%.........20%.........30%.........40%.........50%.........60%.........70%.........80%.........90%.........100% done. Time taken =  7.658 secs\n",
      "In gridlink_mocks_double> Running with [nmesh_x, nmesh_y, nmesh_z]  = 33,30,9.  Time taken =   0.103 sec\n",
      "countpairs_mocks_double> gridlink seems inefficient. nmesh = (33, 30, 9); avg_np = 719. Boosting bin refine factor - should lead to better performance\n",
      "In gridlink_mocks_double> Running with [nmesh_x, nmesh_y, nmesh_z]  = 50,46,9.  Time taken =   0.122 sec\n",
      "In gridlink_mocks_double> Running with [nmesh_x, nmesh_y, nmesh_z]  = 50,46,9.  Time taken =   1.261 sec\n",
      "0%.........10%.........20%.........30%.........40%.........50%.........60%.........70%.........80%.........90%.........100% done. Time taken =     2 mins   28 secs\n"
     ]
    },
    {
     "name": "stdout",
     "output_type": "stream",
     "text": [
      "24 / 25\n"
     ]
    },
    {
     "name": "stderr",
     "output_type": "stream",
     "text": [
      "In gridlink_mocks_double> Running with [nmesh_x, nmesh_y, nmesh_z]  = 33,30,9.  Time taken =   0.004 sec\n",
      "In gridlink_mocks_double> Running with [nmesh_x, nmesh_y, nmesh_z]  = 33,30,9.  Time taken =   0.032 sec\n",
      "0%.........10%.........20%.........30%.........40%.........50%.........60%.........70%.........80%.........90%.........100% done. Time taken =  0.057 secs\n",
      "In gridlink_mocks_double> Running with [nmesh_x, nmesh_y, nmesh_z]  = 33,30,9.  Time taken =   0.002 sec\n",
      "countpairs_mocks_double> gridlink seems inefficient. nmesh = (33, 30, 9); avg_np = 756. Boosting bin refine factor - should lead to better performance\n",
      "In gridlink_mocks_double> Running with [nmesh_x, nmesh_y, nmesh_z]  = 50,45,9.  Time taken =   0.004 sec\n",
      "In gridlink_mocks_double> Running with [nmesh_x, nmesh_y, nmesh_z]  = 50,45,9.  Time taken =   1.068 sec\n",
      "0%.........10%.........20%.........30%.........40%.........50%.........60%.........70%.........80%.........90%.........100% done. Time taken =  0.407 secs\n",
      "In gridlink_mocks_double> Running with [nmesh_x, nmesh_y, nmesh_z]  = 33,30,9.  Time taken =   0.053 sec\n",
      "In gridlink_mocks_double> Running with [nmesh_x, nmesh_y, nmesh_z]  = 33,30,9.  Time taken =   0.116 sec\n",
      "0%.........10%.........20%.........30%.........40%.........50%.........60%.........70%.........80%.........90%.........100% done. Time taken =  7.115 secs\n",
      "In gridlink_mocks_double> Running with [nmesh_x, nmesh_y, nmesh_z]  = 33,30,9.  Time taken =   0.114 sec\n",
      "countpairs_mocks_double> gridlink seems inefficient. nmesh = (33, 30, 9); avg_np = 756. Boosting bin refine factor - should lead to better performance\n",
      "In gridlink_mocks_double> Running with [nmesh_x, nmesh_y, nmesh_z]  = 50,46,9.  Time taken =   0.144 sec\n",
      "In gridlink_mocks_double> Running with [nmesh_x, nmesh_y, nmesh_z]  = 50,46,9.  Time taken =   1.147 sec\n",
      "0%.........10%.........20%.........30%.........40%.........50%.........60%.........70%.........80%.........90%.........100% done. Time taken =     2 mins   33 secs\n"
     ]
    },
    {
     "name": "stdout",
     "output_type": "stream",
     "text": [
      "25 / 25\n"
     ]
    },
    {
     "name": "stderr",
     "output_type": "stream",
     "text": [
      "In gridlink_mocks_double> Running with [nmesh_x, nmesh_y, nmesh_z]  = 33,30,9.  Time taken =   0.004 sec\n",
      "In gridlink_mocks_double> Running with [nmesh_x, nmesh_y, nmesh_z]  = 33,30,9.  Time taken =   0.042 sec\n",
      "0%.........10%.........20%.........30%.........40%.........50%.........60%.........70%.........80%.........90%.........100% done. Time taken =  0.060 secs\n",
      "In gridlink_mocks_double> Running with [nmesh_x, nmesh_y, nmesh_z]  = 33,30,9.  Time taken =   0.005 sec\n",
      "countpairs_mocks_double> gridlink seems inefficient. nmesh = (33, 30, 9); avg_np = 794. Boosting bin refine factor - should lead to better performance\n",
      "In gridlink_mocks_double> Running with [nmesh_x, nmesh_y, nmesh_z]  = 50,45,9.  Time taken =   0.006 sec\n",
      "In gridlink_mocks_double> Running with [nmesh_x, nmesh_y, nmesh_z]  = 50,45,9.  Time taken =   1.222 sec\n",
      "0%.........10%.........20%.........30%.........40%.........50%.........60%.........70%.........80%.........90%.........100% done. Time taken =  0.447 secs\n",
      "In gridlink_mocks_double> Running with [nmesh_x, nmesh_y, nmesh_z]  = 33,30,9.  Time taken =   0.042 sec\n",
      "In gridlink_mocks_double> Running with [nmesh_x, nmesh_y, nmesh_z]  = 33,30,9.  Time taken =   0.102 sec\n",
      "0%.........10%.........20%.........30%.........40%.........50%.........60%.........70%.........80%.........90%.........100% done. Time taken =  8.214 secs\n",
      "In gridlink_mocks_double> Running with [nmesh_x, nmesh_y, nmesh_z]  = 33,30,9.  Time taken =   0.117 sec\n",
      "countpairs_mocks_double> gridlink seems inefficient. nmesh = (33, 30, 9); avg_np = 794. Boosting bin refine factor - should lead to better performance\n",
      "In gridlink_mocks_double> Running with [nmesh_x, nmesh_y, nmesh_z]  = 50,46,9.  Time taken =   0.119 sec\n",
      "In gridlink_mocks_double> Running with [nmesh_x, nmesh_y, nmesh_z]  = 50,46,9.  Time taken =   1.363 sec\n",
      "0%.........10%.........20%.........30%.........40%.........50%.........60%.........70%.........80%.........90%.........100% done. Time taken =     2 mins   28 secs\n"
     ]
    }
   ],
   "source": [
    "from __future__ import division\n",
    "import numpy as np\n",
    "import math\n",
    "from astropy import units as u\n",
    "from astropy.coordinates import SkyCoord, match_coordinates_sky\n",
    "import astropy.coordinates as coord\n",
    "from astropy.cosmology import FlatLambdaCDM\n",
    "from astropy.table import Table\n",
    "from astropy.io import fits\n",
    "import time\n",
    "from numpy.lib.recfunctions import append_fields\n",
    "#from kde import weighted_gaussian_kde\n",
    "from scipy import stats\n",
    "from astropy.cosmology import FlatLambdaCDM,Planck15\n",
    "import sys\n",
    "from time import gmtime, strftime\n",
    "\n",
    "import matplotlib.pyplot as plt\n",
    "from matplotlib.colors import LogNorm\n",
    "%matplotlib inline\n",
    "\n",
    "from astropy.table import Table\n",
    "from astropy.io import fits\n",
    "import numpy as np\n",
    "import math\n",
    "from astropy.io import ascii\n",
    "##Read in the cosmology\n",
    "cosmo = FlatLambdaCDM(H0=70, Om0=0.3)\n",
    "\n",
    "import clustering.clustering.projected_correlation_functions as w\n",
    "import clustering.clustering.randomsEdited as rand\n",
    "from clustering.clustering.utils import wp_d1d2,wp_dd\n",
    "\n",
    "# read in orignal Peas file\n",
    "t=Table.read('../codes/MainCatalogues/dr12PeastoPortStarforming.fits',format='fits')\n",
    "peas=np.array(t)\n",
    "\n",
    "#Add new array field of comoving distances needed for Corrfunc inputs\n",
    "cdists = np.array([cosmo.comoving_distance(z).value for z in peas['z']])*cosmo.h\n",
    "peas = append_fields(peas, 'cdist', cdists)\n",
    "\n",
    "# append the field and make back into normal array\n",
    "peas=np.array(peas)\n",
    "\n",
    "LRG= Table.read('../codes/MainCatalogues/LRG/LRGzcat.fits')\n",
    "LRGr=Table.read('../codes/MainCatalogues/LRG/LRGRandzcat.fits')\n",
    "rzpea = np.load('../codes/output/rzpeasNEW.npy')\n",
    "\n",
    "bins = np.array([.1,.5,1,3,6,8,10,15,20,30,40,50,60,80,100])\n",
    "## Run a clustering CROSS CORRELATION b/w the peas & LRGs w/ bootstrap - this is jackknife only\n",
    "pimax = 60\n",
    "print(strftime(\"%Y-%m-%d %H:%M:%S\", gmtime()))\n",
    "## with errors? bootstrapped - idk\n",
    "rp_xc_Pjackpi40LS,wp_xc_Pjackpi40LS,wp_xc_err_Pjackpi40LS,cov_xc_Pjackpi40LS = w.cross_wp(d1=peas, \n",
    "d2=LRG, r1=rzpea, r2=LRGr, bins=bins,pimax=pimax,m=5, estimator='L')\n",
    "\n",
    "np.save('output/CCFResults/LandySzalay/rp_xc_Pjackpi60LS.npy', rp_xc_Pjackpi40LS)\n",
    "np.save('output/CCFResults/LandySzalay/wp_xc_Pjackpi60LS.npy',wp_xc_Pjackpi40LS)\n",
    "np.save('output/CCFResults/LandySzalay/wp_xc_err_Pjackpi60LS.npy', wp_xc_err_Pjackpi40LS)\n",
    "np.save('output/CCFResults/LandySzalay/cov_xc_Pjackpi60LS.npy',cov_xc_Pjackpi40LS)"
   ]
  },
  {
   "cell_type": "code",
   "execution_count": 2,
   "metadata": {},
   "outputs": [
    {
     "name": "stdout",
     "output_type": "stream",
     "text": [
      "2020-10-25 22:19:15\n"
     ]
    },
    {
     "name": "stderr",
     "output_type": "stream",
     "text": [
      "In gridlink_mocks_double> Running with [nmesh_x, nmesh_y, nmesh_z]  = 37,33,10.  Time taken =   0.006 sec\n",
      "In gridlink_mocks_double> Running with [nmesh_x, nmesh_y, nmesh_z]  = 37,33,10.  Time taken =   0.058 sec\n",
      "Using AVX512 kernel\n",
      "0%.........10%.........20%.........30%.........40%.........50%.........60%.........70%.........80%.........90%.........100% done. Time taken =  0.044 secs\n",
      "In gridlink_mocks_double> Running with [nmesh_x, nmesh_y, nmesh_z]  = 37,33,10.  Time taken =   0.015 sec\n",
      "countpairs_mocks_double> gridlink seems inefficient. nmesh = (37, 33, 10); avg_np = 579. Boosting bin refine factor - should lead to better performance\n",
      "In gridlink_mocks_double> Running with [nmesh_x, nmesh_y, nmesh_z]  = 56,50,10.  Time taken =   0.015 sec\n",
      "In gridlink_mocks_double> Running with [nmesh_x, nmesh_y, nmesh_z]  = 56,50,10.  Time taken =   1.885 sec\n",
      "0%.........10%.........20%.........30%.........40%.........50%.........60%.........70%.........80%.........90%.........100% done. Time taken =  0.291 secs\n"
     ]
    },
    {
     "name": "stdout",
     "output_type": "stream",
     "text": [
      "Warning: found negative RA values, wrapping into [0.0, 360.0]  range\n"
     ]
    },
    {
     "name": "stderr",
     "output_type": "stream",
     "text": [
      "In gridlink_mocks_double> Running with [nmesh_x, nmesh_y, nmesh_z]  = 37,33,10.  Time taken =   0.051 sec\n",
      "In gridlink_mocks_double> Running with [nmesh_x, nmesh_y, nmesh_z]  = 37,33,10.  Time taken =   0.095 sec\n",
      "0%.........10%.........20%.........30%.........40%.........50%.........60%.........70%.........80%.........90%.........100% done. Time taken =  1.329 secs\n"
     ]
    },
    {
     "name": "stdout",
     "output_type": "stream",
     "text": [
      "Warning: found negative RA values, wrapping into [0.0, 360.0]  range\n"
     ]
    },
    {
     "name": "stderr",
     "output_type": "stream",
     "text": [
      "In gridlink_mocks_double> Running with [nmesh_x, nmesh_y, nmesh_z]  = 37,33,10.  Time taken =   0.097 sec\n",
      "countpairs_mocks_double> gridlink seems inefficient. nmesh = (37, 33, 10); avg_np = 579. Boosting bin refine factor - should lead to better performance\n",
      "In gridlink_mocks_double> Running with [nmesh_x, nmesh_y, nmesh_z]  = 56,50,10.  Time taken =   0.101 sec\n",
      "In gridlink_mocks_double> Running with [nmesh_x, nmesh_y, nmesh_z]  = 56,50,10.  Time taken =   1.938 sec\n",
      "0%.........10%.........20%.........30%.........40%.........50%.........60%.........70%.........80%.........90%.........100% done. Time taken = 35.838 secs\n",
      "/data/home/mokyay/Research Files/Green-Peas/codes/clustering/clustering/error.py:204: FutureWarning: elementwise == comparison failed and returning scalar instead; this will raise an error or perform elementwise comparison in the future.\n",
      "  if cat==None:\n",
      "/home/mokyay/anaconda3/lib/python3.7/site-packages/astropy/table/table.py:3064: FutureWarning: elementwise == comparison failed and returning scalar instead; this will raise an error or perform elementwise comparison in the future.\n",
      "  result = self.as_array() == other\n"
     ]
    },
    {
     "name": "stdout",
     "output_type": "stream",
     "text": [
      "Using  25  jacknife samples\n",
      "1 / 25\n"
     ]
    },
    {
     "name": "stderr",
     "output_type": "stream",
     "text": [
      "In gridlink_mocks_double> Running with [nmesh_x, nmesh_y, nmesh_z]  = 37,33,10.  Time taken =   0.005 sec\n",
      "In gridlink_mocks_double> Running with [nmesh_x, nmesh_y, nmesh_z]  = 37,33,10.  Time taken =   0.045 sec\n",
      "0%.........10%.........20%.........30%.........40%.........50%.........60%.........70%.........80%.........90%.........100% done. Time taken =  0.034 secs\n",
      "In gridlink_mocks_double> Running with [nmesh_x, nmesh_y, nmesh_z]  = 37,33,10.  Time taken =   0.003 sec\n",
      "countpairs_mocks_double> gridlink seems inefficient. nmesh = (37, 33, 10); avg_np = 579. Boosting bin refine factor - should lead to better performance\n",
      "In gridlink_mocks_double> Running with [nmesh_x, nmesh_y, nmesh_z]  = 56,50,10.  Time taken =   0.006 sec\n",
      "In gridlink_mocks_double> Running with [nmesh_x, nmesh_y, nmesh_z]  = 56,50,10.  Time taken =   1.107 sec\n",
      "0%.........10%.........20%.........30%.........40%.........50%.........60%.........70%.........80%.........90%.........100% done. Time taken =  0.237 secs\n",
      "In gridlink_mocks_double> Running with [nmesh_x, nmesh_y, nmesh_z]  = 37,33,10.  Time taken =   0.045 sec\n",
      "In gridlink_mocks_double> Running with [nmesh_x, nmesh_y, nmesh_z]  = 37,33,10.  Time taken =   0.103 sec\n",
      "0%.........10%.........20%.........30%.........40%.........50%.........60%.........70%.........80%.........90%.........100% done. Time taken =  3.636 secs\n",
      "In gridlink_mocks_double> Running with [nmesh_x, nmesh_y, nmesh_z]  = 37,33,10.  Time taken =   0.090 sec\n",
      "countpairs_mocks_double> gridlink seems inefficient. nmesh = (37, 33, 10); avg_np = 579. Boosting bin refine factor - should lead to better performance\n",
      "In gridlink_mocks_double> Running with [nmesh_x, nmesh_y, nmesh_z]  = 56,50,10.  Time taken =   0.070 sec\n",
      "In gridlink_mocks_double> Running with [nmesh_x, nmesh_y, nmesh_z]  = 56,50,10.  Time taken =   1.130 sec\n",
      "0%.........10%.........20%.........30%.........40%.........50%.........60%.........70%.........80%.........90%.........100% done. Time taken =    94 secs\n"
     ]
    },
    {
     "name": "stdout",
     "output_type": "stream",
     "text": [
      "2 / 25\n"
     ]
    },
    {
     "name": "stderr",
     "output_type": "stream",
     "text": [
      "In gridlink_mocks_double> Running with [nmesh_x, nmesh_y, nmesh_z]  = 37,33,10.  Time taken =   0.005 sec\n",
      "In gridlink_mocks_double> Running with [nmesh_x, nmesh_y, nmesh_z]  = 37,33,10.  Time taken =   0.054 sec\n",
      "0%.........10%.........20%.........30%.........40%.........50%.........60%.........70%.........80%.........90%.........100% done. Time taken =  0.049 secs\n",
      "In gridlink_mocks_double> Running with [nmesh_x, nmesh_y, nmesh_z]  = 37,33,10.  Time taken =   0.003 sec\n",
      "countpairs_mocks_double> gridlink seems inefficient. nmesh = (37, 33, 10); avg_np = 579. Boosting bin refine factor - should lead to better performance\n",
      "In gridlink_mocks_double> Running with [nmesh_x, nmesh_y, nmesh_z]  = 56,50,10.  Time taken =   0.006 sec\n",
      "In gridlink_mocks_double> Running with [nmesh_x, nmesh_y, nmesh_z]  = 56,50,10.  Time taken =   1.092 sec\n",
      "0%.........10%.........20%.........30%.........40%.........50%.........60%.........70%.........80%.........90%.........100% done. Time taken =  0.238 secs\n",
      "In gridlink_mocks_double> Running with [nmesh_x, nmesh_y, nmesh_z]  = 37,33,10.  Time taken =   0.045 sec\n",
      "In gridlink_mocks_double> Running with [nmesh_x, nmesh_y, nmesh_z]  = 37,33,10.  Time taken =   0.098 sec\n",
      "0%.........10%.........20%.........30%.........40%.........50%.........60%.........70%.........80%.........90%.........100% done. Time taken =  3.744 secs\n",
      "In gridlink_mocks_double> Running with [nmesh_x, nmesh_y, nmesh_z]  = 37,33,10.  Time taken =   0.090 sec\n",
      "countpairs_mocks_double> gridlink seems inefficient. nmesh = (37, 33, 10); avg_np = 579. Boosting bin refine factor - should lead to better performance\n",
      "In gridlink_mocks_double> Running with [nmesh_x, nmesh_y, nmesh_z]  = 56,50,10.  Time taken =   0.070 sec\n",
      "In gridlink_mocks_double> Running with [nmesh_x, nmesh_y, nmesh_z]  = 56,50,10.  Time taken =   1.153 sec\n",
      "0%.........10%.........20%.........30%.........40%.........50%.........60%.........70%.........80%.........90%.........100% done. Time taken =    92 secs\n"
     ]
    },
    {
     "name": "stdout",
     "output_type": "stream",
     "text": [
      "3 / 25\n"
     ]
    },
    {
     "name": "stderr",
     "output_type": "stream",
     "text": [
      "In gridlink_mocks_double> Running with [nmesh_x, nmesh_y, nmesh_z]  = 37,33,10.  Time taken =   0.005 sec\n",
      "In gridlink_mocks_double> Running with [nmesh_x, nmesh_y, nmesh_z]  = 37,33,10.  Time taken =   0.045 sec\n",
      "0%.........10%.........20%.........30%.........40%.........50%.........60%.........70%.........80%.........90%.........100% done. Time taken =  0.037 secs\n",
      "In gridlink_mocks_double> Running with [nmesh_x, nmesh_y, nmesh_z]  = 37,33,10.  Time taken =   0.003 sec\n",
      "countpairs_mocks_double> gridlink seems inefficient. nmesh = (37, 33, 10); avg_np = 511. Boosting bin refine factor - should lead to better performance\n",
      "In gridlink_mocks_double> Running with [nmesh_x, nmesh_y, nmesh_z]  = 56,50,10.  Time taken =   0.006 sec\n",
      "In gridlink_mocks_double> Running with [nmesh_x, nmesh_y, nmesh_z]  = 56,50,10.  Time taken =   1.016 sec\n",
      "0%.........10%.........20%.........30%.........40%.........50%.........60%.........70%.........80%.........90%.........100% done. Time taken =  0.212 secs\n",
      "In gridlink_mocks_double> Running with [nmesh_x, nmesh_y, nmesh_z]  = 37,33,10.  Time taken =   0.043 sec\n",
      "In gridlink_mocks_double> Running with [nmesh_x, nmesh_y, nmesh_z]  = 37,33,10.  Time taken =   0.006 sec\n",
      "0%.........10%.........20%.........30%.........40%.........50%.........60%.........70%.........80%.........90%.........100% done. Time taken =  0.082 secs\n",
      "In gridlink_mocks_double> Running with [nmesh_x, nmesh_y, nmesh_z]  = 37,33,10.  Time taken =   0.003 sec\n",
      "countpairs_mocks_double> gridlink seems inefficient. nmesh = (37, 33, 10); avg_np = 511. Boosting bin refine factor - should lead to better performance\n",
      "In gridlink_mocks_double> Running with [nmesh_x, nmesh_y, nmesh_z]  = 56,50,10.  Time taken =   0.006 sec\n",
      "In gridlink_mocks_double> Running with [nmesh_x, nmesh_y, nmesh_z]  = 56,50,10.  Time taken =   1.027 sec\n",
      "0%.........10%.........20%.........30%.........40%.........50%.........60%.........70%.........80%.........90%.........100% done. Time taken =  0.212 secs\n"
     ]
    },
    {
     "name": "stdout",
     "output_type": "stream",
     "text": [
      "4 / 25\n"
     ]
    },
    {
     "name": "stderr",
     "output_type": "stream",
     "text": [
      "In gridlink_mocks_double> Running with [nmesh_x, nmesh_y, nmesh_z]  = 37,33,10.  Time taken =   0.005 sec\n",
      "In gridlink_mocks_double> Running with [nmesh_x, nmesh_y, nmesh_z]  = 37,33,10.  Time taken =   0.056 sec\n",
      "0%.........10%.........20%.........30%.........40%.........50%.........60%.........70%.........80%.........90%.........100% done. Time taken =  0.038 secs\n",
      "In gridlink_mocks_double> Running with [nmesh_x, nmesh_y, nmesh_z]  = 37,33,10.  Time taken =   0.003 sec\n",
      "countpairs_mocks_double> gridlink seems inefficient. nmesh = (37, 33, 10); avg_np = 548. Boosting bin refine factor - should lead to better performance\n",
      "In gridlink_mocks_double> Running with [nmesh_x, nmesh_y, nmesh_z]  = 56,50,10.  Time taken =   0.006 sec\n",
      "In gridlink_mocks_double> Running with [nmesh_x, nmesh_y, nmesh_z]  = 56,50,10.  Time taken =   1.090 sec\n",
      "0%.........10%.........20%.........30%.........40%.........50%.........60%.........70%.........80%.........90%.........100% done. Time taken =  0.224 secs\n",
      "In gridlink_mocks_double> Running with [nmesh_x, nmesh_y, nmesh_z]  = 37,33,10.  Time taken =   0.042 sec\n",
      "In gridlink_mocks_double> Running with [nmesh_x, nmesh_y, nmesh_z]  = 37,33,10.  Time taken =   0.097 sec\n",
      "0%.........10%.........20%.........30%.........40%.........50%.........60%.........70%.........80%.........90%.........100% done. Time taken =  3.602 secs\n",
      "In gridlink_mocks_double> Running with [nmesh_x, nmesh_y, nmesh_z]  = 37,33,10.  Time taken =   0.092 sec\n",
      "countpairs_mocks_double> gridlink seems inefficient. nmesh = (37, 33, 10); avg_np = 548. Boosting bin refine factor - should lead to better performance\n",
      "In gridlink_mocks_double> Running with [nmesh_x, nmesh_y, nmesh_z]  = 56,50,10.  Time taken =   0.075 sec\n",
      "In gridlink_mocks_double> Running with [nmesh_x, nmesh_y, nmesh_z]  = 56,50,10.  Time taken =   1.104 sec\n",
      "0%.........10%.........20%.........30%.........40%.........50%.........60%.........70%.........80%.........90%.........100% done. Time taken =    93 secs\n"
     ]
    },
    {
     "name": "stdout",
     "output_type": "stream",
     "text": [
      "5 / 25\n"
     ]
    },
    {
     "name": "stderr",
     "output_type": "stream",
     "text": [
      "In gridlink_mocks_double> Running with [nmesh_x, nmesh_y, nmesh_z]  = 37,33,10.  Time taken =   0.004 sec\n",
      "In gridlink_mocks_double> Running with [nmesh_x, nmesh_y, nmesh_z]  = 37,33,10.  Time taken =   0.048 sec\n",
      "0%.........10%.........20%.........30%.........40%.........50%.........60%.........70%.........80%.........90%.........100% done. Time taken =  0.035 secs\n",
      "In gridlink_mocks_double> Running with [nmesh_x, nmesh_y, nmesh_z]  = 37,33,10.  Time taken =   0.003 sec\n",
      "countpairs_mocks_double> gridlink seems inefficient. nmesh = (37, 33, 10); avg_np = 579. Boosting bin refine factor - should lead to better performance\n",
      "In gridlink_mocks_double> Running with [nmesh_x, nmesh_y, nmesh_z]  = 56,50,10.  Time taken =   0.006 sec\n",
      "In gridlink_mocks_double> Running with [nmesh_x, nmesh_y, nmesh_z]  = 56,50,10.  Time taken =   1.132 sec\n",
      "0%.........10%.........20%.........30%.........40%.........50%.........60%.........70%.........80%.........90%.........100% done. Time taken =  0.277 secs\n",
      "In gridlink_mocks_double> Running with [nmesh_x, nmesh_y, nmesh_z]  = 37,33,10.  Time taken =   0.042 sec\n",
      "In gridlink_mocks_double> Running with [nmesh_x, nmesh_y, nmesh_z]  = 37,33,10.  Time taken =   0.095 sec\n",
      "0%.........10%.........20%.........30%.........40%.........50%.........60%.........70%.........80%.........90%.........100% done. Time taken =  3.681 secs\n",
      "In gridlink_mocks_double> Running with [nmesh_x, nmesh_y, nmesh_z]  = 37,33,10.  Time taken =   0.091 sec\n",
      "countpairs_mocks_double> gridlink seems inefficient. nmesh = (37, 33, 10); avg_np = 579. Boosting bin refine factor - should lead to better performance\n",
      "In gridlink_mocks_double> Running with [nmesh_x, nmesh_y, nmesh_z]  = 56,50,10.  Time taken =   0.071 sec\n",
      "In gridlink_mocks_double> Running with [nmesh_x, nmesh_y, nmesh_z]  = 56,50,10.  Time taken =   1.135 sec\n",
      "0%.........10%.........20%.........30%.........40%.........50%.........60%.........70%.........80%.........90%.........100% done. Time taken =    95 secs\n"
     ]
    },
    {
     "name": "stdout",
     "output_type": "stream",
     "text": [
      "6 / 25\n"
     ]
    },
    {
     "name": "stderr",
     "output_type": "stream",
     "text": [
      "In gridlink_mocks_double> Running with [nmesh_x, nmesh_y, nmesh_z]  = 37,33,10.  Time taken =   0.005 sec\n",
      "In gridlink_mocks_double> Running with [nmesh_x, nmesh_y, nmesh_z]  = 37,33,10.  Time taken =   0.046 sec\n",
      "0%.........10%.........20%.........30%.........40%.........50%.........60%.........70%.........80%.........90%.........100% done. Time taken =  0.039 secs\n",
      "In gridlink_mocks_double> Running with [nmesh_x, nmesh_y, nmesh_z]  = 37,33,10.  Time taken =   0.003 sec\n",
      "countpairs_mocks_double> gridlink seems inefficient. nmesh = (37, 33, 10); avg_np = 579. Boosting bin refine factor - should lead to better performance\n",
      "In gridlink_mocks_double> Running with [nmesh_x, nmesh_y, nmesh_z]  = 56,50,10.  Time taken =   0.006 sec\n",
      "In gridlink_mocks_double> Running with [nmesh_x, nmesh_y, nmesh_z]  = 56,50,10.  Time taken =   1.110 sec\n",
      "0%.........10%.........20%.........30%.........40%.........50%.........60%.........70%.........80%.........90%.........100% done. Time taken =  0.258 secs\n",
      "In gridlink_mocks_double> Running with [nmesh_x, nmesh_y, nmesh_z]  = 37,33,10.  Time taken =   0.045 sec\n",
      "In gridlink_mocks_double> Running with [nmesh_x, nmesh_y, nmesh_z]  = 37,33,10.  Time taken =   0.097 sec\n",
      "0%.........10%.........20%.........30%.........40%.........50%.........60%.........70%.........80%.........90%.........100% done. Time taken =  3.858 secs\n",
      "In gridlink_mocks_double> Running with [nmesh_x, nmesh_y, nmesh_z]  = 37,33,10.  Time taken =   0.090 sec\n",
      "countpairs_mocks_double> gridlink seems inefficient. nmesh = (37, 33, 10); avg_np = 579. Boosting bin refine factor - should lead to better performance\n",
      "In gridlink_mocks_double> Running with [nmesh_x, nmesh_y, nmesh_z]  = 56,50,10.  Time taken =   0.092 sec\n",
      "In gridlink_mocks_double> Running with [nmesh_x, nmesh_y, nmesh_z]  = 56,50,10.  Time taken =   1.181 sec\n",
      "0%.........10%.........20%.........30%.........40%.........50%.........60%.........70%.........80%.........90%.........100% done. Time taken =    93 secs\n"
     ]
    },
    {
     "name": "stdout",
     "output_type": "stream",
     "text": [
      "7 / 25\n"
     ]
    },
    {
     "name": "stderr",
     "output_type": "stream",
     "text": [
      "In gridlink_mocks_double> Running with [nmesh_x, nmesh_y, nmesh_z]  = 37,33,10.  Time taken =   0.004 sec\n",
      "In gridlink_mocks_double> Running with [nmesh_x, nmesh_y, nmesh_z]  = 37,33,10.  Time taken =   0.044 sec\n",
      "0%.........10%.........20%.........30%.........40%.........50%.........60%.........70%.........80%.........90%.........100% done. Time taken =  0.042 secs\n",
      "In gridlink_mocks_double> Running with [nmesh_x, nmesh_y, nmesh_z]  = 37,33,10.  Time taken =   0.003 sec\n",
      "countpairs_mocks_double> gridlink seems inefficient. nmesh = (37, 33, 10); avg_np = 579. Boosting bin refine factor - should lead to better performance\n",
      "In gridlink_mocks_double> Running with [nmesh_x, nmesh_y, nmesh_z]  = 56,50,10.  Time taken =   0.006 sec\n",
      "In gridlink_mocks_double> Running with [nmesh_x, nmesh_y, nmesh_z]  = 56,50,10.  Time taken =   1.104 sec\n",
      "0%.........10%.........20%.........30%.........40%.........50%.........60%.........70%.........80%.........90%.........100% done. Time taken =  0.263 secs\n",
      "In gridlink_mocks_double> Running with [nmesh_x, nmesh_y, nmesh_z]  = 37,33,10.  Time taken =   0.046 sec\n",
      "In gridlink_mocks_double> Running with [nmesh_x, nmesh_y, nmesh_z]  = 37,33,10.  Time taken =   0.111 sec\n",
      "0%.........10%.........20%.........30%.........40%.........50%.........60%.........70%.........80%.........90%.........100% done. Time taken =  3.961 secs\n",
      "In gridlink_mocks_double> Running with [nmesh_x, nmesh_y, nmesh_z]  = 37,33,10.  Time taken =   0.088 sec\n",
      "countpairs_mocks_double> gridlink seems inefficient. nmesh = (37, 33, 10); avg_np = 579. Boosting bin refine factor - should lead to better performance\n",
      "In gridlink_mocks_double> Running with [nmesh_x, nmesh_y, nmesh_z]  = 56,50,10.  Time taken =   0.075 sec\n",
      "In gridlink_mocks_double> Running with [nmesh_x, nmesh_y, nmesh_z]  = 56,50,10.  Time taken =   1.163 sec\n",
      "0%.........10%.........20%.........30%.........40%.........50%.........60%.........70%.........80%.........90%.........100% done. Time taken =    93 secs\n"
     ]
    },
    {
     "name": "stdout",
     "output_type": "stream",
     "text": [
      "8 / 25\n"
     ]
    },
    {
     "name": "stderr",
     "output_type": "stream",
     "text": [
      "In gridlink_mocks_double> Running with [nmesh_x, nmesh_y, nmesh_z]  = 37,33,10.  Time taken =   0.005 sec\n",
      "In gridlink_mocks_double> Running with [nmesh_x, nmesh_y, nmesh_z]  = 37,33,10.  Time taken =   0.051 sec\n",
      "0%.........10%.........20%.........30%.........40%.........50%.........60%.........70%.........80%.........90%.........100% done. Time taken =  0.034 secs\n",
      "In gridlink_mocks_double> Running with [nmesh_x, nmesh_y, nmesh_z]  = 37,33,10.  Time taken =   0.006 sec\n",
      "countpairs_mocks_double> gridlink seems inefficient. nmesh = (37, 33, 10); avg_np = 555. Boosting bin refine factor - should lead to better performance\n",
      "In gridlink_mocks_double> Running with [nmesh_x, nmesh_y, nmesh_z]  = 56,50,10.  Time taken =   0.008 sec\n",
      "In gridlink_mocks_double> Running with [nmesh_x, nmesh_y, nmesh_z]  = 56,50,10.  Time taken =   1.176 sec\n",
      "0%.........10%.........20%.........30%.........40%.........50%.........60%.........70%.........80%.........90%.........100% done. Time taken =  0.288 secs\n",
      "In gridlink_mocks_double> Running with [nmesh_x, nmesh_y, nmesh_z]  = 37,33,10.  Time taken =   0.057 sec\n",
      "In gridlink_mocks_double> Running with [nmesh_x, nmesh_y, nmesh_z]  = 37,33,10.  Time taken =   0.115 sec\n",
      "0%.........10%.........20%.........30%.........40%.........50%.........60%.........70%.........80%.........90%.........100% done. Time taken =  4.000 secs\n",
      "In gridlink_mocks_double> Running with [nmesh_x, nmesh_y, nmesh_z]  = 37,33,10.  Time taken =   0.093 sec\n",
      "countpairs_mocks_double> gridlink seems inefficient. nmesh = (37, 33, 10); avg_np = 555. Boosting bin refine factor - should lead to better performance\n",
      "In gridlink_mocks_double> Running with [nmesh_x, nmesh_y, nmesh_z]  = 56,50,10.  Time taken =   0.081 sec\n",
      "In gridlink_mocks_double> Running with [nmesh_x, nmesh_y, nmesh_z]  = 56,50,10.  Time taken =   1.227 sec\n",
      "0%.........10%.........20%.........30%.........40%.........50%.........60%.........70%.........80%.........90%.........100% done. Time taken =    90 secs\n"
     ]
    },
    {
     "name": "stdout",
     "output_type": "stream",
     "text": [
      "9 / 25\n"
     ]
    },
    {
     "name": "stderr",
     "output_type": "stream",
     "text": [
      "In gridlink_mocks_double> Running with [nmesh_x, nmesh_y, nmesh_z]  = 37,33,10.  Time taken =   0.005 sec\n",
      "In gridlink_mocks_double> Running with [nmesh_x, nmesh_y, nmesh_z]  = 37,33,10.  Time taken =   0.048 sec\n",
      "0%.........10%.........20%.........30%.........40%.........50%.........60%.........70%.........80%.........90%.........100% done. Time taken =  0.038 secs\n",
      "In gridlink_mocks_double> Running with [nmesh_x, nmesh_y, nmesh_z]  = 37,33,10.  Time taken =   0.003 sec\n",
      "countpairs_mocks_double> gridlink seems inefficient. nmesh = (37, 33, 10); avg_np = 541. Boosting bin refine factor - should lead to better performance\n",
      "In gridlink_mocks_double> Running with [nmesh_x, nmesh_y, nmesh_z]  = 56,50,10.  Time taken =   0.006 sec\n",
      "In gridlink_mocks_double> Running with [nmesh_x, nmesh_y, nmesh_z]  = 56,50,10.  Time taken =   1.123 sec\n",
      "0%.........10%.........20%.........30%.........40%.........50%.........60%.........70%.........80%.........90%.........100% done. Time taken =  0.231 secs\n",
      "In gridlink_mocks_double> Running with [nmesh_x, nmesh_y, nmesh_z]  = 37,33,10.  Time taken =   0.043 sec\n",
      "In gridlink_mocks_double> Running with [nmesh_x, nmesh_y, nmesh_z]  = 37,33,10.  Time taken =   0.093 sec\n",
      "0%.........10%.........20%.........30%.........40%.........50%.........60%.........70%.........80%.........90%.........100% done. Time taken =  3.790 secs\n",
      "In gridlink_mocks_double> Running with [nmesh_x, nmesh_y, nmesh_z]  = 37,33,10.  Time taken =   0.100 sec\n",
      "countpairs_mocks_double> gridlink seems inefficient. nmesh = (37, 33, 10); avg_np = 541. Boosting bin refine factor - should lead to better performance\n",
      "In gridlink_mocks_double> Running with [nmesh_x, nmesh_y, nmesh_z]  = 56,50,10.  Time taken =   0.071 sec\n",
      "In gridlink_mocks_double> Running with [nmesh_x, nmesh_y, nmesh_z]  = 56,50,10.  Time taken =   1.106 sec\n",
      "0%.........10%.........20%.........30%.........40%.........50%.........60%.........70%.........80%.........90%.........100% done. Time taken =    92 secs\n"
     ]
    },
    {
     "name": "stdout",
     "output_type": "stream",
     "text": [
      "10 / 25\n"
     ]
    },
    {
     "name": "stderr",
     "output_type": "stream",
     "text": [
      "In gridlink_mocks_double> Running with [nmesh_x, nmesh_y, nmesh_z]  = 37,33,10.  Time taken =   0.005 sec\n",
      "In gridlink_mocks_double> Running with [nmesh_x, nmesh_y, nmesh_z]  = 37,33,10.  Time taken =   0.045 sec\n",
      "0%.........10%.........20%.........30%.........40%.........50%.........60%.........70%.........80%.........90%.........100% done. Time taken =  0.040 secs\n",
      "In gridlink_mocks_double> Running with [nmesh_x, nmesh_y, nmesh_z]  = 37,33,10.  Time taken =   0.003 sec\n",
      "countpairs_mocks_double> gridlink seems inefficient. nmesh = (37, 33, 10); avg_np = 573. Boosting bin refine factor - should lead to better performance\n",
      "In gridlink_mocks_double> Running with [nmesh_x, nmesh_y, nmesh_z]  = 56,50,10.  Time taken =   0.006 sec\n",
      "In gridlink_mocks_double> Running with [nmesh_x, nmesh_y, nmesh_z]  = 56,50,10.  Time taken =   1.111 sec\n",
      "0%.........10%.........20%.........30%.........40%.........50%.........60%.........70%.........80%.........90%.........100% done. Time taken =  0.266 secs\n",
      "In gridlink_mocks_double> Running with [nmesh_x, nmesh_y, nmesh_z]  = 37,33,10.  Time taken =   0.045 sec\n",
      "In gridlink_mocks_double> Running with [nmesh_x, nmesh_y, nmesh_z]  = 37,33,10.  Time taken =   0.094 sec\n",
      "0%.........10%.........20%.........30%.........40%.........50%.........60%.........70%.........80%.........90%.........100% done. Time taken =  3.895 secs\n",
      "In gridlink_mocks_double> Running with [nmesh_x, nmesh_y, nmesh_z]  = 37,33,10.  Time taken =   0.092 sec\n",
      "countpairs_mocks_double> gridlink seems inefficient. nmesh = (37, 33, 10); avg_np = 573. Boosting bin refine factor - should lead to better performance\n",
      "In gridlink_mocks_double> Running with [nmesh_x, nmesh_y, nmesh_z]  = 56,50,10.  Time taken =   0.071 sec\n",
      "In gridlink_mocks_double> Running with [nmesh_x, nmesh_y, nmesh_z]  = 56,50,10.  Time taken =   1.142 sec\n",
      "0%.........10%.........20%.........30%.........40%.........50%.........60%.........70%.........80%.........90%.........100% done. Time taken =    93 secs\n"
     ]
    },
    {
     "name": "stdout",
     "output_type": "stream",
     "text": [
      "11 / 25\n"
     ]
    },
    {
     "name": "stderr",
     "output_type": "stream",
     "text": [
      "In gridlink_mocks_double> Running with [nmesh_x, nmesh_y, nmesh_z]  = 37,33,10.  Time taken =   0.003 sec\n",
      "In gridlink_mocks_double> Running with [nmesh_x, nmesh_y, nmesh_z]  = 37,33,10.  Time taken =   0.038 sec\n",
      "0%.........10%.........20%.........30%.........40%.........50%.........60%.........70%.........80%.........90%.........100% done. Time taken =  0.035 secs\n",
      "In gridlink_mocks_double> Running with [nmesh_x, nmesh_y, nmesh_z]  = 37,33,10.  Time taken =   0.004 sec\n",
      "countpairs_mocks_double> gridlink seems inefficient. nmesh = (37, 33, 10); avg_np = 579. Boosting bin refine factor - should lead to better performance\n",
      "In gridlink_mocks_double> Running with [nmesh_x, nmesh_y, nmesh_z]  = 56,50,10.  Time taken =   0.006 sec\n",
      "In gridlink_mocks_double> Running with [nmesh_x, nmesh_y, nmesh_z]  = 56,50,10.  Time taken =   1.134 sec\n",
      "0%.........10%.........20%.........30%.........40%.........50%.........60%.........70%.........80%.........90%.........100% done. Time taken =  0.242 secs\n",
      "In gridlink_mocks_double> Running with [nmesh_x, nmesh_y, nmesh_z]  = 37,33,10.  Time taken =   0.043 sec\n",
      "In gridlink_mocks_double> Running with [nmesh_x, nmesh_y, nmesh_z]  = 37,33,10.  Time taken =   0.096 sec\n",
      "0%.........10%.........20%.........30%.........40%.........50%.........60%.........70%.........80%.........90%.........100% done. Time taken =  3.649 secs\n",
      "In gridlink_mocks_double> Running with [nmesh_x, nmesh_y, nmesh_z]  = 37,33,10.  Time taken =   0.092 sec\n",
      "countpairs_mocks_double> gridlink seems inefficient. nmesh = (37, 33, 10); avg_np = 579. Boosting bin refine factor - should lead to better performance\n",
      "In gridlink_mocks_double> Running with [nmesh_x, nmesh_y, nmesh_z]  = 56,50,10.  Time taken =   0.072 sec\n",
      "In gridlink_mocks_double> Running with [nmesh_x, nmesh_y, nmesh_z]  = 56,50,10.  Time taken =   1.160 sec\n",
      "0%.........10%.........20%.........30%.........40%.........50%.........60%.........70%.........80%.........90%.........100% done. Time taken =    94 secs\n"
     ]
    },
    {
     "name": "stdout",
     "output_type": "stream",
     "text": [
      "12 / 25\n"
     ]
    },
    {
     "name": "stderr",
     "output_type": "stream",
     "text": [
      "In gridlink_mocks_double> Running with [nmesh_x, nmesh_y, nmesh_z]  = 37,33,10.  Time taken =   0.005 sec\n",
      "In gridlink_mocks_double> Running with [nmesh_x, nmesh_y, nmesh_z]  = 37,33,10.  Time taken =   0.046 sec\n",
      "0%.........10%.........20%.........30%.........40%.........50%.........60%.........70%.........80%.........90%.........100% done. Time taken =  0.040 secs\n",
      "In gridlink_mocks_double> Running with [nmesh_x, nmesh_y, nmesh_z]  = 37,33,10.  Time taken =   0.003 sec\n",
      "countpairs_mocks_double> gridlink seems inefficient. nmesh = (37, 33, 10); avg_np = 579. Boosting bin refine factor - should lead to better performance\n",
      "In gridlink_mocks_double> Running with [nmesh_x, nmesh_y, nmesh_z]  = 56,50,10.  Time taken =   0.006 sec\n",
      "In gridlink_mocks_double> Running with [nmesh_x, nmesh_y, nmesh_z]  = 56,50,10.  Time taken =   1.117 sec\n",
      "0%.........10%.........20%.........30%.........40%.........50%.........60%.........70%.........80%.........90%.........100% done. Time taken =  0.238 secs\n",
      "In gridlink_mocks_double> Running with [nmesh_x, nmesh_y, nmesh_z]  = 37,33,10.  Time taken =   0.043 sec\n",
      "In gridlink_mocks_double> Running with [nmesh_x, nmesh_y, nmesh_z]  = 37,33,10.  Time taken =   0.095 sec\n",
      "0%.........10%.........20%.........30%.........40%.........50%.........60%.........70%.........80%.........90%.........100% done. Time taken =  3.565 secs\n",
      "In gridlink_mocks_double> Running with [nmesh_x, nmesh_y, nmesh_z]  = 37,33,10.  Time taken =   0.095 sec\n",
      "countpairs_mocks_double> gridlink seems inefficient. nmesh = (37, 33, 10); avg_np = 579. Boosting bin refine factor - should lead to better performance\n",
      "In gridlink_mocks_double> Running with [nmesh_x, nmesh_y, nmesh_z]  = 56,50,10.  Time taken =   0.075 sec\n",
      "In gridlink_mocks_double> Running with [nmesh_x, nmesh_y, nmesh_z]  = 56,50,10.  Time taken =   1.164 sec\n",
      "0%.........10%.........20%.........30%.........40%.........50%.........60%.........70%.........80%.........90%.........100% done. Time taken =    97 secs\n"
     ]
    },
    {
     "name": "stdout",
     "output_type": "stream",
     "text": [
      "13 / 25\n"
     ]
    },
    {
     "name": "stderr",
     "output_type": "stream",
     "text": [
      "In gridlink_mocks_double> Running with [nmesh_x, nmesh_y, nmesh_z]  = 36,33,10.  Time taken =   0.003 sec\n",
      "In gridlink_mocks_double> Running with [nmesh_x, nmesh_y, nmesh_z]  = 36,33,10.  Time taken =   0.033 sec\n",
      "0%.........10%.........20%.........30%.........40%.........50%.........60%.........70%.........80%.........90%.........100% done. Time taken =  0.035 secs\n",
      "In gridlink_mocks_double> Running with [nmesh_x, nmesh_y, nmesh_z]  = 36,33,10.  Time taken =   0.003 sec\n",
      "countpairs_mocks_double> gridlink seems inefficient. nmesh = (36, 33, 10); avg_np = 515. Boosting bin refine factor - should lead to better performance\n",
      "In gridlink_mocks_double> Running with [nmesh_x, nmesh_y, nmesh_z]  = 55,50,10.  Time taken =   0.006 sec\n",
      "In gridlink_mocks_double> Running with [nmesh_x, nmesh_y, nmesh_z]  = 55,50,10.  Time taken =   1.026 sec\n",
      "0%.........10%.........20%.........30%.........40%.........50%.........60%.........70%.........80%.........90%.........100% done. Time taken =  0.221 secs\n",
      "In gridlink_mocks_double> Running with [nmesh_x, nmesh_y, nmesh_z]  = 36,33,10.  Time taken =   0.039 sec\n",
      "In gridlink_mocks_double> Running with [nmesh_x, nmesh_y, nmesh_z]  = 36,33,10.  Time taken =   0.115 sec\n",
      "0%.........10%.........20%.........30%.........40%.........50%.........60%.........70%.........80%.........90%.........100% done. Time taken =  3.830 secs\n",
      "In gridlink_mocks_double> Running with [nmesh_x, nmesh_y, nmesh_z]  = 36,33,10.  Time taken =   0.094 sec\n",
      "countpairs_mocks_double> gridlink seems inefficient. nmesh = (36, 33, 10); avg_np = 515. Boosting bin refine factor - should lead to better performance\n",
      "In gridlink_mocks_double> Running with [nmesh_x, nmesh_y, nmesh_z]  = 55,50,10.  Time taken =   0.080 sec\n",
      "In gridlink_mocks_double> Running with [nmesh_x, nmesh_y, nmesh_z]  = 55,50,10.  Time taken =   1.026 sec\n",
      "0%.........10%.........20%.........30%.........40%.........50%.........60%.........70%.........80%.........90%.........100% done. Time taken =    95 secs\n"
     ]
    },
    {
     "name": "stdout",
     "output_type": "stream",
     "text": [
      "14 / 25\n"
     ]
    },
    {
     "name": "stderr",
     "output_type": "stream",
     "text": [
      "In gridlink_mocks_double> Running with [nmesh_x, nmesh_y, nmesh_z]  = 37,33,10.  Time taken =   0.006 sec\n",
      "In gridlink_mocks_double> Running with [nmesh_x, nmesh_y, nmesh_z]  = 37,33,10.  Time taken =   0.040 sec\n",
      "0%.........10%.........20%.........30%.........40%.........50%.........60%.........70%.........80%.........90%.........100% done. Time taken =  0.028 secs\n",
      "In gridlink_mocks_double> Running with [nmesh_x, nmesh_y, nmesh_z]  = 37,33,10.  Time taken =   0.003 sec\n",
      "countpairs_mocks_double> gridlink seems inefficient. nmesh = (37, 33, 10); avg_np = 460. Boosting bin refine factor - should lead to better performance\n",
      "In gridlink_mocks_double> Running with [nmesh_x, nmesh_y, nmesh_z]  = 56,50,10.  Time taken =   0.006 sec\n",
      "In gridlink_mocks_double> Running with [nmesh_x, nmesh_y, nmesh_z]  = 56,50,10.  Time taken =   0.939 sec\n",
      "0%.........10%.........20%.........30%.........40%.........50%.........60%.........70%.........80%.........90%.........100% done. Time taken =  0.216 secs\n",
      "In gridlink_mocks_double> Running with [nmesh_x, nmesh_y, nmesh_z]  = 37,33,10.  Time taken =   0.039 sec\n",
      "In gridlink_mocks_double> Running with [nmesh_x, nmesh_y, nmesh_z]  = 37,33,10.  Time taken =   0.100 sec\n",
      "0%.........10%.........20%.........30%.........40%.........50%.........60%.........70%.........80%.........90%.........100% done. Time taken =  3.745 secs\n",
      "In gridlink_mocks_double> Running with [nmesh_x, nmesh_y, nmesh_z]  = 37,33,10.  Time taken =   0.094 sec\n",
      "countpairs_mocks_double> gridlink seems inefficient. nmesh = (37, 33, 10); avg_np = 460. Boosting bin refine factor - should lead to better performance\n",
      "In gridlink_mocks_double> Running with [nmesh_x, nmesh_y, nmesh_z]  = 56,50,10.  Time taken =   0.092 sec\n",
      "In gridlink_mocks_double> Running with [nmesh_x, nmesh_y, nmesh_z]  = 56,50,10.  Time taken =   0.913 sec\n",
      "0%.........10%.........20%.........30%.........40%.........50%.........60%.........70%.........80%.........90%.........100% done. Time taken =    93 secs\n"
     ]
    },
    {
     "name": "stdout",
     "output_type": "stream",
     "text": [
      "15 / 25\n"
     ]
    },
    {
     "name": "stderr",
     "output_type": "stream",
     "text": [
      "In gridlink_mocks_double> Running with [nmesh_x, nmesh_y, nmesh_z]  = 37,33,10.  Time taken =   0.003 sec\n",
      "In gridlink_mocks_double> Running with [nmesh_x, nmesh_y, nmesh_z]  = 37,33,10.  Time taken =   0.037 sec\n",
      "0%.........10%.........20%.........30%.........40%.........50%.........60%.........70%.........80%.........90%.........100% done. Time taken =  0.038 secs\n",
      "In gridlink_mocks_double> Running with [nmesh_x, nmesh_y, nmesh_z]  = 37,33,10.  Time taken =   0.006 sec\n",
      "countpairs_mocks_double> gridlink seems inefficient. nmesh = (37, 33, 10); avg_np = 550. Boosting bin refine factor - should lead to better performance\n",
      "In gridlink_mocks_double> Running with [nmesh_x, nmesh_y, nmesh_z]  = 56,50,10.  Time taken =   0.009 sec\n",
      "In gridlink_mocks_double> Running with [nmesh_x, nmesh_y, nmesh_z]  = 56,50,10.  Time taken =   1.149 sec\n",
      "0%.........10%.........20%.........30%.........40%.........50%.........60%.........70%.........80%.........90%.........100% done. Time taken =  0.262 secs\n",
      "In gridlink_mocks_double> Running with [nmesh_x, nmesh_y, nmesh_z]  = 37,33,10.  Time taken =   0.042 sec\n",
      "In gridlink_mocks_double> Running with [nmesh_x, nmesh_y, nmesh_z]  = 37,33,10.  Time taken =   0.118 sec\n",
      "0%.........10%.........20%.........30%.........40%.........50%.........60%.........70%.........80%.........90%.........100% done. Time taken =  3.906 secs\n",
      "In gridlink_mocks_double> Running with [nmesh_x, nmesh_y, nmesh_z]  = 37,33,10.  Time taken =   0.088 sec\n",
      "countpairs_mocks_double> gridlink seems inefficient. nmesh = (37, 33, 10); avg_np = 550. Boosting bin refine factor - should lead to better performance\n",
      "In gridlink_mocks_double> Running with [nmesh_x, nmesh_y, nmesh_z]  = 56,50,10.  Time taken =   0.089 sec\n",
      "In gridlink_mocks_double> Running with [nmesh_x, nmesh_y, nmesh_z]  = 56,50,10.  Time taken =   1.082 sec\n",
      "0%.........10%.........20%.........30%.........40%.........50%.........60%.........70%.........80%.........90%.........100% done. Time taken =    92 secs\n"
     ]
    },
    {
     "name": "stdout",
     "output_type": "stream",
     "text": [
      "16 / 25\n"
     ]
    },
    {
     "name": "stderr",
     "output_type": "stream",
     "text": [
      "In gridlink_mocks_double> Running with [nmesh_x, nmesh_y, nmesh_z]  = 37,33,10.  Time taken =   0.005 sec\n",
      "In gridlink_mocks_double> Running with [nmesh_x, nmesh_y, nmesh_z]  = 37,33,10.  Time taken =   0.047 sec\n",
      "0%.........10%.........20%.........30%.........40%.........50%.........60%.........70%.........80%.........90%.........100% done. Time taken =  0.040 secs\n",
      "In gridlink_mocks_double> Running with [nmesh_x, nmesh_y, nmesh_z]  = 37,33,10.  Time taken =   0.003 sec\n",
      "countpairs_mocks_double> gridlink seems inefficient. nmesh = (37, 33, 10); avg_np = 579. Boosting bin refine factor - should lead to better performance\n",
      "In gridlink_mocks_double> Running with [nmesh_x, nmesh_y, nmesh_z]  = 56,50,10.  Time taken =   0.006 sec\n",
      "In gridlink_mocks_double> Running with [nmesh_x, nmesh_y, nmesh_z]  = 56,50,10.  Time taken =   1.145 sec\n",
      "0%.........10%.........20%.........30%.........40%.........50%.........60%.........70%.........80%.........90%.........100% done. Time taken =  0.272 secs\n",
      "In gridlink_mocks_double> Running with [nmesh_x, nmesh_y, nmesh_z]  = 37,33,10.  Time taken =   0.071 sec\n",
      "In gridlink_mocks_double> Running with [nmesh_x, nmesh_y, nmesh_z]  = 37,33,10.  Time taken =   0.119 sec\n",
      "0%.........10%.........20%.........30%.........40%.........50%.........60%.........70%.........80%.........90%.........100% done. Time taken =  3.891 secs\n",
      "In gridlink_mocks_double> Running with [nmesh_x, nmesh_y, nmesh_z]  = 37,33,10.  Time taken =   0.091 sec\n",
      "countpairs_mocks_double> gridlink seems inefficient. nmesh = (37, 33, 10); avg_np = 579. Boosting bin refine factor - should lead to better performance\n",
      "In gridlink_mocks_double> Running with [nmesh_x, nmesh_y, nmesh_z]  = 56,50,10.  Time taken =   0.070 sec\n",
      "In gridlink_mocks_double> Running with [nmesh_x, nmesh_y, nmesh_z]  = 56,50,10.  Time taken =   1.184 sec\n",
      "0%.........10%.........20%.........30%.........40%.........50%.........60%.........70%.........80%.........90%.........100% done. Time taken =    92 secs\n"
     ]
    },
    {
     "name": "stdout",
     "output_type": "stream",
     "text": [
      "17 / 25\n"
     ]
    },
    {
     "name": "stderr",
     "output_type": "stream",
     "text": [
      "In gridlink_mocks_double> Running with [nmesh_x, nmesh_y, nmesh_z]  = 37,33,10.  Time taken =   0.004 sec\n",
      "In gridlink_mocks_double> Running with [nmesh_x, nmesh_y, nmesh_z]  = 37,33,10.  Time taken =   0.046 sec\n",
      "0%.........10%.........20%.........30%.........40%.........50%.........60%.........70%.........80%.........90%.........100% done. Time taken =  0.041 secs\n",
      "In gridlink_mocks_double> Running with [nmesh_x, nmesh_y, nmesh_z]  = 37,33,10.  Time taken =   0.004 sec\n",
      "countpairs_mocks_double> gridlink seems inefficient. nmesh = (37, 33, 10); avg_np = 579. Boosting bin refine factor - should lead to better performance\n",
      "In gridlink_mocks_double> Running with [nmesh_x, nmesh_y, nmesh_z]  = 56,50,10.  Time taken =   0.006 sec\n",
      "In gridlink_mocks_double> Running with [nmesh_x, nmesh_y, nmesh_z]  = 56,50,10.  Time taken =   1.111 sec\n",
      "0%.........10%.........20%.........30%.........40%.........50%.........60%.........70%.........80%.........90%.........100% done. Time taken =  0.253 secs\n",
      "In gridlink_mocks_double> Running with [nmesh_x, nmesh_y, nmesh_z]  = 37,33,10.  Time taken =   0.046 sec\n",
      "In gridlink_mocks_double> Running with [nmesh_x, nmesh_y, nmesh_z]  = 37,33,10.  Time taken =   0.096 sec\n",
      "0%.........10%.........20%.........30%.........40%.........50%.........60%.........70%.........80%.........90%.........100% done. Time taken =  3.988 secs\n",
      "In gridlink_mocks_double> Running with [nmesh_x, nmesh_y, nmesh_z]  = 37,33,10.  Time taken =   0.115 sec\n",
      "countpairs_mocks_double> gridlink seems inefficient. nmesh = (37, 33, 10); avg_np = 579. Boosting bin refine factor - should lead to better performance\n",
      "In gridlink_mocks_double> Running with [nmesh_x, nmesh_y, nmesh_z]  = 56,50,10.  Time taken =   0.081 sec\n",
      "In gridlink_mocks_double> Running with [nmesh_x, nmesh_y, nmesh_z]  = 56,50,10.  Time taken =   1.198 sec\n",
      "0%.........10%.........20%.........30%.........40%.........50%.........60%.........70%.........80%.........90%.........100% done. Time taken =    92 secs\n"
     ]
    },
    {
     "name": "stdout",
     "output_type": "stream",
     "text": [
      "18 / 25\n"
     ]
    },
    {
     "name": "stderr",
     "output_type": "stream",
     "text": [
      "In gridlink_mocks_double> Running with [nmesh_x, nmesh_y, nmesh_z]  = 37,33,10.  Time taken =   0.006 sec\n",
      "In gridlink_mocks_double> Running with [nmesh_x, nmesh_y, nmesh_z]  = 37,33,10.  Time taken =   0.049 sec\n",
      "0%.........10%.........20%.........30%.........40%.........50%.........60%.........70%.........80%.........90%.........100% done. Time taken =  0.037 secs\n",
      "In gridlink_mocks_double> Running with [nmesh_x, nmesh_y, nmesh_z]  = 37,33,10.  Time taken =   0.003 sec\n",
      "countpairs_mocks_double> gridlink seems inefficient. nmesh = (37, 33, 10); avg_np = 545. Boosting bin refine factor - should lead to better performance\n",
      "In gridlink_mocks_double> Running with [nmesh_x, nmesh_y, nmesh_z]  = 56,50,10.  Time taken =   0.006 sec\n",
      "In gridlink_mocks_double> Running with [nmesh_x, nmesh_y, nmesh_z]  = 56,50,10.  Time taken =   1.072 sec\n",
      "0%.........10%.........20%.........30%.........40%.........50%.........60%.........70%.........80%.........90%.........100% done. Time taken =  0.262 secs\n",
      "In gridlink_mocks_double> Running with [nmesh_x, nmesh_y, nmesh_z]  = 37,33,10.  Time taken =   0.042 sec\n",
      "In gridlink_mocks_double> Running with [nmesh_x, nmesh_y, nmesh_z]  = 37,33,10.  Time taken =   0.098 sec\n",
      "0%.........10%.........20%.........30%.........40%.........50%.........60%.........70%.........80%.........90%.........100% done. Time taken =  3.649 secs\n",
      "In gridlink_mocks_double> Running with [nmesh_x, nmesh_y, nmesh_z]  = 37,33,10.  Time taken =   0.095 sec\n",
      "countpairs_mocks_double> gridlink seems inefficient. nmesh = (37, 33, 10); avg_np = 545. Boosting bin refine factor - should lead to better performance\n",
      "In gridlink_mocks_double> Running with [nmesh_x, nmesh_y, nmesh_z]  = 56,50,10.  Time taken =   0.089 sec\n",
      "In gridlink_mocks_double> Running with [nmesh_x, nmesh_y, nmesh_z]  = 56,50,10.  Time taken =   1.089 sec\n",
      "0%.........10%.........20%.........30%.........40%.........50%.........60%.........70%.........80%.........90%.........100% done. Time taken =    93 secs\n"
     ]
    },
    {
     "name": "stdout",
     "output_type": "stream",
     "text": [
      "19 / 25\n"
     ]
    },
    {
     "name": "stderr",
     "output_type": "stream",
     "text": [
      "In gridlink_mocks_double> Running with [nmesh_x, nmesh_y, nmesh_z]  = 37,33,10.  Time taken =   0.003 sec\n",
      "In gridlink_mocks_double> Running with [nmesh_x, nmesh_y, nmesh_z]  = 37,33,10.  Time taken =   0.032 sec\n",
      "0%.........10%.........20%.........30%.........40%.........50%.........60%.........70%.........80%.........90%.........100% done. Time taken =  0.033 secs\n",
      "In gridlink_mocks_double> Running with [nmesh_x, nmesh_y, nmesh_z]  = 37,33,10.  Time taken =   0.003 sec\n",
      "countpairs_mocks_double> gridlink seems inefficient. nmesh = (37, 33, 10); avg_np = 517. Boosting bin refine factor - should lead to better performance\n",
      "In gridlink_mocks_double> Running with [nmesh_x, nmesh_y, nmesh_z]  = 56,50,10.  Time taken =   0.006 sec\n",
      "In gridlink_mocks_double> Running with [nmesh_x, nmesh_y, nmesh_z]  = 56,50,10.  Time taken =   1.022 sec\n",
      "0%.........10%.........20%.........30%.........40%.........50%.........60%.........70%.........80%.........90%.........100% done. Time taken =  0.232 secs\n",
      "In gridlink_mocks_double> Running with [nmesh_x, nmesh_y, nmesh_z]  = 37,33,10.  Time taken =   0.041 sec\n",
      "In gridlink_mocks_double> Running with [nmesh_x, nmesh_y, nmesh_z]  = 37,33,10.  Time taken =   0.104 sec\n",
      "0%.........10%.........20%.........30%.........40%.........50%.........60%.........70%.........80%.........90%.........100% done. Time taken =  4.104 secs\n",
      "In gridlink_mocks_double> Running with [nmesh_x, nmesh_y, nmesh_z]  = 37,33,10.  Time taken =   0.098 sec\n",
      "countpairs_mocks_double> gridlink seems inefficient. nmesh = (37, 33, 10); avg_np = 517. Boosting bin refine factor - should lead to better performance\n",
      "In gridlink_mocks_double> Running with [nmesh_x, nmesh_y, nmesh_z]  = 56,50,10.  Time taken =   0.085 sec\n",
      "In gridlink_mocks_double> Running with [nmesh_x, nmesh_y, nmesh_z]  = 56,50,10.  Time taken =   1.036 sec\n",
      "0%.........10%.........20%.........30%.........40%.........50%.........60%.........70%.........80%.........90%.........100% done. Time taken =    93 secs\n"
     ]
    },
    {
     "name": "stdout",
     "output_type": "stream",
     "text": [
      "20 / 25\n"
     ]
    },
    {
     "name": "stderr",
     "output_type": "stream",
     "text": [
      "In gridlink_mocks_double> Running with [nmesh_x, nmesh_y, nmesh_z]  = 37,33,10.  Time taken =   0.005 sec\n",
      "In gridlink_mocks_double> Running with [nmesh_x, nmesh_y, nmesh_z]  = 37,33,10.  Time taken =   0.045 sec\n",
      "0%.........10%.........20%.........30%.........40%.........50%.........60%.........70%.........80%.........90%.........100% done. Time taken =  0.040 secs\n",
      "In gridlink_mocks_double> Running with [nmesh_x, nmesh_y, nmesh_z]  = 37,33,10.  Time taken =   0.003 sec\n",
      "countpairs_mocks_double> gridlink seems inefficient. nmesh = (37, 33, 10); avg_np = 571. Boosting bin refine factor - should lead to better performance\n",
      "In gridlink_mocks_double> Running with [nmesh_x, nmesh_y, nmesh_z]  = 56,50,10.  Time taken =   0.006 sec\n",
      "In gridlink_mocks_double> Running with [nmesh_x, nmesh_y, nmesh_z]  = 56,50,10.  Time taken =   1.217 sec\n",
      "0%.........10%.........20%.........30%.........40%.........50%.........60%.........70%.........80%.........90%.........100% done. Time taken =  0.285 secs\n",
      "In gridlink_mocks_double> Running with [nmesh_x, nmesh_y, nmesh_z]  = 37,33,10.  Time taken =   0.044 sec\n",
      "In gridlink_mocks_double> Running with [nmesh_x, nmesh_y, nmesh_z]  = 37,33,10.  Time taken =   0.102 sec\n",
      "0%.........10%.........20%.........30%.........40%.........50%.........60%.........70%.........80%.........90%.........100% done. Time taken =  3.848 secs\n",
      "In gridlink_mocks_double> Running with [nmesh_x, nmesh_y, nmesh_z]  = 37,33,10.  Time taken =   0.098 sec\n",
      "countpairs_mocks_double> gridlink seems inefficient. nmesh = (37, 33, 10); avg_np = 571. Boosting bin refine factor - should lead to better performance\n",
      "In gridlink_mocks_double> Running with [nmesh_x, nmesh_y, nmesh_z]  = 56,50,10.  Time taken =   0.071 sec\n",
      "In gridlink_mocks_double> Running with [nmesh_x, nmesh_y, nmesh_z]  = 56,50,10.  Time taken =   1.211 sec\n",
      "0%.........10%.........20%.........30%.........40%.........50%.........60%.........70%.........80%.........90%.........100% done. Time taken =    92 secs\n"
     ]
    },
    {
     "name": "stdout",
     "output_type": "stream",
     "text": [
      "21 / 25\n"
     ]
    },
    {
     "name": "stderr",
     "output_type": "stream",
     "text": [
      "In gridlink_mocks_double> Running with [nmesh_x, nmesh_y, nmesh_z]  = 37,33,10.  Time taken =   0.003 sec\n",
      "In gridlink_mocks_double> Running with [nmesh_x, nmesh_y, nmesh_z]  = 37,33,10.  Time taken =   0.038 sec\n",
      "0%.........10%.........20%.........30%.........40%.........50%.........60%.........70%.........80%.........90%.........100% done. Time taken =  0.039 secs\n",
      "In gridlink_mocks_double> Running with [nmesh_x, nmesh_y, nmesh_z]  = 37,33,10.  Time taken =   0.004 sec\n",
      "countpairs_mocks_double> gridlink seems inefficient. nmesh = (37, 33, 10); avg_np = 579. Boosting bin refine factor - should lead to better performance\n",
      "In gridlink_mocks_double> Running with [nmesh_x, nmesh_y, nmesh_z]  = 56,50,10.  Time taken =   0.008 sec\n",
      "In gridlink_mocks_double> Running with [nmesh_x, nmesh_y, nmesh_z]  = 56,50,10.  Time taken =   1.112 sec\n",
      "0%.........10%.........20%.........30%.........40%.........50%.........60%.........70%.........80%.........90%.........100% done. Time taken =  0.263 secs\n",
      "In gridlink_mocks_double> Running with [nmesh_x, nmesh_y, nmesh_z]  = 37,33,10.  Time taken =   0.045 sec\n",
      "In gridlink_mocks_double> Running with [nmesh_x, nmesh_y, nmesh_z]  = 37,33,10.  Time taken =   0.097 sec\n",
      "0%.........10%.........20%.........30%.........40%.........50%.........60%.........70%.........80%.........90%.........100% done. Time taken =  3.651 secs\n",
      "In gridlink_mocks_double> Running with [nmesh_x, nmesh_y, nmesh_z]  = 37,33,10.  Time taken =   0.087 sec\n",
      "countpairs_mocks_double> gridlink seems inefficient. nmesh = (37, 33, 10); avg_np = 579. Boosting bin refine factor - should lead to better performance\n",
      "In gridlink_mocks_double> Running with [nmesh_x, nmesh_y, nmesh_z]  = 56,50,10.  Time taken =   0.071 sec\n",
      "In gridlink_mocks_double> Running with [nmesh_x, nmesh_y, nmesh_z]  = 56,50,10.  Time taken =   1.112 sec\n",
      "0%.........10%.........20%.........30%.........40%.........50%.........60%.........70%.........80%.........90%.........100% done. Time taken =    89 secs\n"
     ]
    },
    {
     "name": "stdout",
     "output_type": "stream",
     "text": [
      "22 / 25\n"
     ]
    },
    {
     "name": "stderr",
     "output_type": "stream",
     "text": [
      "In gridlink_mocks_double> Running with [nmesh_x, nmesh_y, nmesh_z]  = 37,33,10.  Time taken =   0.005 sec\n",
      "In gridlink_mocks_double> Running with [nmesh_x, nmesh_y, nmesh_z]  = 37,33,10.  Time taken =   0.046 sec\n",
      "0%.........10%.........20%.........30%.........40%.........50%.........60%.........70%.........80%.........90%.........100% done. Time taken =  0.041 secs\n",
      "In gridlink_mocks_double> Running with [nmesh_x, nmesh_y, nmesh_z]  = 37,33,10.  Time taken =   0.003 sec\n",
      "countpairs_mocks_double> gridlink seems inefficient. nmesh = (37, 33, 10); avg_np = 579. Boosting bin refine factor - should lead to better performance\n",
      "In gridlink_mocks_double> Running with [nmesh_x, nmesh_y, nmesh_z]  = 56,50,10.  Time taken =   0.007 sec\n",
      "In gridlink_mocks_double> Running with [nmesh_x, nmesh_y, nmesh_z]  = 56,50,10.  Time taken =   1.122 sec\n",
      "0%.........10%.........20%.........30%.........40%.........50%.........60%.........70%.........80%.........90%.........100% done. Time taken =  0.238 secs\n",
      "In gridlink_mocks_double> Running with [nmesh_x, nmesh_y, nmesh_z]  = 37,33,10.  Time taken =   0.043 sec\n",
      "In gridlink_mocks_double> Running with [nmesh_x, nmesh_y, nmesh_z]  = 37,33,10.  Time taken =   0.096 sec\n",
      "0%.........10%.........20%.........30%.........40%.........50%.........60%.........70%.........80%.........90%.........100% done. Time taken =  3.534 secs\n",
      "In gridlink_mocks_double> Running with [nmesh_x, nmesh_y, nmesh_z]  = 37,33,10.  Time taken =   0.093 sec\n",
      "countpairs_mocks_double> gridlink seems inefficient. nmesh = (37, 33, 10); avg_np = 579. Boosting bin refine factor - should lead to better performance\n",
      "In gridlink_mocks_double> Running with [nmesh_x, nmesh_y, nmesh_z]  = 56,50,10.  Time taken =   0.072 sec\n",
      "In gridlink_mocks_double> Running with [nmesh_x, nmesh_y, nmesh_z]  = 56,50,10.  Time taken =   1.127 sec\n",
      "0%.........10%.........20%.........30%.........40%.........50%.........60%.........70%.........80%.........90%.........100% done. Time taken =    90 secs\n"
     ]
    },
    {
     "name": "stdout",
     "output_type": "stream",
     "text": [
      "23 / 25\n"
     ]
    },
    {
     "name": "stderr",
     "output_type": "stream",
     "text": [
      "In gridlink_mocks_double> Running with [nmesh_x, nmesh_y, nmesh_z]  = 37,33,10.  Time taken =   0.003 sec\n",
      "In gridlink_mocks_double> Running with [nmesh_x, nmesh_y, nmesh_z]  = 37,33,10.  Time taken =   0.034 sec\n",
      "0%.........10%.........20%.........30%.........40%.........50%.........60%.........70%.........80%.........90%.........100% done. Time taken =  0.033 secs\n",
      "In gridlink_mocks_double> Running with [nmesh_x, nmesh_y, nmesh_z]  = 37,33,10.  Time taken =   0.003 sec\n",
      "countpairs_mocks_double> gridlink seems inefficient. nmesh = (37, 33, 10); avg_np = 525. Boosting bin refine factor - should lead to better performance\n",
      "In gridlink_mocks_double> Running with [nmesh_x, nmesh_y, nmesh_z]  = 56,50,10.  Time taken =   0.006 sec\n",
      "In gridlink_mocks_double> Running with [nmesh_x, nmesh_y, nmesh_z]  = 56,50,10.  Time taken =   1.011 sec\n",
      "0%.........10%.........20%.........30%.........40%.........50%.........60%.........70%.........80%.........90%.........100% done. Time taken =  0.233 secs\n",
      "In gridlink_mocks_double> Running with [nmesh_x, nmesh_y, nmesh_z]  = 37,33,10.  Time taken =   0.039 sec\n",
      "In gridlink_mocks_double> Running with [nmesh_x, nmesh_y, nmesh_z]  = 37,33,10.  Time taken =   0.094 sec\n",
      "0%.........10%.........20%.........30%.........40%.........50%.........60%.........70%.........80%.........90%.........100% done. Time taken =  1.790 secs\n",
      "In gridlink_mocks_double> Running with [nmesh_x, nmesh_y, nmesh_z]  = 37,33,10.  Time taken =   0.085 sec\n",
      "countpairs_mocks_double> gridlink seems inefficient. nmesh = (37, 33, 10); avg_np = 525. Boosting bin refine factor - should lead to better performance\n",
      "In gridlink_mocks_double> Running with [nmesh_x, nmesh_y, nmesh_z]  = 56,50,10.  Time taken =   0.070 sec\n",
      "In gridlink_mocks_double> Running with [nmesh_x, nmesh_y, nmesh_z]  = 56,50,10.  Time taken =   1.006 sec\n",
      "0%.........10%.........20%.........30%.........40%.........50%.........60%.........70%.........80%.........90%.........100% done. Time taken = 49.373 secs\n"
     ]
    },
    {
     "name": "stdout",
     "output_type": "stream",
     "text": [
      "24 / 25\n"
     ]
    },
    {
     "name": "stderr",
     "output_type": "stream",
     "text": [
      "In gridlink_mocks_double> Running with [nmesh_x, nmesh_y, nmesh_z]  = 37,33,10.  Time taken =   0.005 sec\n",
      "In gridlink_mocks_double> Running with [nmesh_x, nmesh_y, nmesh_z]  = 37,33,10.  Time taken =   0.044 sec\n",
      "0%.........10%.........20%.........30%.........40%.........50%.........60%.........70%.........80%.........90%.........100% done. Time taken =  0.042 secs\n",
      "In gridlink_mocks_double> Running with [nmesh_x, nmesh_y, nmesh_z]  = 37,33,10.  Time taken =   0.003 sec\n",
      "countpairs_mocks_double> gridlink seems inefficient. nmesh = (37, 33, 10); avg_np = 552. Boosting bin refine factor - should lead to better performance\n",
      "In gridlink_mocks_double> Running with [nmesh_x, nmesh_y, nmesh_z]  = 56,50,10.  Time taken =   0.006 sec\n",
      "In gridlink_mocks_double> Running with [nmesh_x, nmesh_y, nmesh_z]  = 56,50,10.  Time taken =   1.065 sec\n",
      "0%.........10%.........20%.........30%.........40%.........50%.........60%.........70%.........80%.........90%.........100% done. Time taken =  0.233 secs\n",
      "In gridlink_mocks_double> Running with [nmesh_x, nmesh_y, nmesh_z]  = 37,33,10.  Time taken =   0.044 sec\n",
      "In gridlink_mocks_double> Running with [nmesh_x, nmesh_y, nmesh_z]  = 37,33,10.  Time taken =   0.097 sec\n",
      "0%.........10%.........20%.........30%.........40%.........50%.........60%.........70%.........80%.........90%.........100% done. Time taken =  3.526 secs\n",
      "In gridlink_mocks_double> Running with [nmesh_x, nmesh_y, nmesh_z]  = 37,33,10.  Time taken =   0.091 sec\n",
      "countpairs_mocks_double> gridlink seems inefficient. nmesh = (37, 33, 10); avg_np = 552. Boosting bin refine factor - should lead to better performance\n",
      "In gridlink_mocks_double> Running with [nmesh_x, nmesh_y, nmesh_z]  = 56,50,10.  Time taken =   0.071 sec\n",
      "In gridlink_mocks_double> Running with [nmesh_x, nmesh_y, nmesh_z]  = 56,50,10.  Time taken =   1.096 sec\n",
      "0%.........10%.........20%.........30%.........40%.........50%.........60%.........70%.........80%.........90%.........100% done. Time taken =    90 secs\n"
     ]
    },
    {
     "name": "stdout",
     "output_type": "stream",
     "text": [
      "25 / 25\n"
     ]
    },
    {
     "name": "stderr",
     "output_type": "stream",
     "text": [
      "In gridlink_mocks_double> Running with [nmesh_x, nmesh_y, nmesh_z]  = 37,33,10.  Time taken =   0.003 sec\n",
      "In gridlink_mocks_double> Running with [nmesh_x, nmesh_y, nmesh_z]  = 37,33,10.  Time taken =   0.038 sec\n",
      "0%.........10%.........20%.........30%.........40%.........50%.........60%.........70%.........80%.........90%.........100% done. Time taken =  0.039 secs\n",
      "In gridlink_mocks_double> Running with [nmesh_x, nmesh_y, nmesh_z]  = 37,33,10.  Time taken =   0.003 sec\n",
      "countpairs_mocks_double> gridlink seems inefficient. nmesh = (37, 33, 10); avg_np = 579. Boosting bin refine factor - should lead to better performance\n",
      "In gridlink_mocks_double> Running with [nmesh_x, nmesh_y, nmesh_z]  = 56,50,10.  Time taken =   0.006 sec\n",
      "In gridlink_mocks_double> Running with [nmesh_x, nmesh_y, nmesh_z]  = 56,50,10.  Time taken =   1.095 sec\n",
      "0%.........10%.........20%.........30%.........40%.........50%.........60%.........70%.........80%.........90%.........100% done. Time taken =  0.261 secs\n",
      "In gridlink_mocks_double> Running with [nmesh_x, nmesh_y, nmesh_z]  = 37,33,10.  Time taken =   0.044 sec\n",
      "In gridlink_mocks_double> Running with [nmesh_x, nmesh_y, nmesh_z]  = 37,33,10.  Time taken =   0.095 sec\n",
      "0%.........10%.........20%.........30%.........40%.........50%.........60%.........70%.........80%.........90%.........100% done. Time taken =  3.549 secs\n",
      "In gridlink_mocks_double> Running with [nmesh_x, nmesh_y, nmesh_z]  = 37,33,10.  Time taken =   0.087 sec\n",
      "countpairs_mocks_double> gridlink seems inefficient. nmesh = (37, 33, 10); avg_np = 579. Boosting bin refine factor - should lead to better performance\n",
      "In gridlink_mocks_double> Running with [nmesh_x, nmesh_y, nmesh_z]  = 56,50,10.  Time taken =   0.070 sec\n",
      "In gridlink_mocks_double> Running with [nmesh_x, nmesh_y, nmesh_z]  = 56,50,10.  Time taken =   1.139 sec\n",
      "0%.........10%.........20%.........30%.........40%.........50%.........60%.........70%.........80%.........90%.........100% done. Time taken =    88 secs\n"
     ]
    }
   ],
   "source": [
    "## Run a clustering CROSS CORRELATION b/w the peas & LRGs w/ bootstrap - this is jackknife only\n",
    "pimax = 30\n",
    "print(strftime(\"%Y-%m-%d %H:%M:%S\", gmtime()))\n",
    "## with errors? bootstrapped - idk\n",
    "rp_xc_Pjackpi30LS,wp_xc_Pjackpi30LS,wp_xc_err_Pjackpi30LS,cov_xc_Pjackpi30LS = w.cross_wp(d1=peas, \n",
    "d2=LRG, r1=rzpea, r2=LRGr, bins=bins,pimax=pimax,m=5, estimator='L')\n",
    "\n",
    "np.save('output/CCFResults/LandySzalay/rp_xc_Pjackpi30LS.npy', rp_xc_Pjackpi30LS)\n",
    "np.save('output/CCFResults/LandySzalay/wp_xc_Pjackpi30LS.npy',wp_xc_Pjackpi30LS)\n",
    "np.save('output/CCFResults/LandySzalay/wp_xc_err_Pjackpi30LS.npy', wp_xc_err_Pjackpi30LS)\n",
    "np.save('output/CCFResults/LandySzalay/cov_xc_Pjackpi30LS.npy',cov_xc_Pjackpi30LS)"
   ]
  },
  {
   "cell_type": "code",
   "execution_count": null,
   "metadata": {},
   "outputs": [],
   "source": []
  }
 ],
 "metadata": {
  "kernelspec": {
   "display_name": "Python 3",
   "language": "python",
   "name": "python3"
  },
  "language_info": {
   "codemirror_mode": {
    "name": "ipython",
    "version": 3
   },
   "file_extension": ".py",
   "mimetype": "text/x-python",
   "name": "python",
   "nbconvert_exporter": "python",
   "pygments_lexer": "ipython3",
   "version": "3.7.6"
  }
 },
 "nbformat": 4,
 "nbformat_minor": 4
}
