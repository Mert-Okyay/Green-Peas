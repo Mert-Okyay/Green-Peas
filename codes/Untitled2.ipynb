{
 "cells": [
  {
   "cell_type": "code",
   "execution_count": 1,
   "metadata": {},
   "outputs": [
    {
     "name": "stdout",
     "output_type": "stream",
     "text": [
      "2020-11-11 04:24:39\n"
     ]
    },
    {
     "name": "stderr",
     "output_type": "stream",
     "text": [
      "In gridlink_mocks_double> Running with [nmesh_x, nmesh_y, nmesh_z]  = 38,34,10.  Time taken =   0.007 sec\n",
      "In gridlink_mocks_double> Running with [nmesh_x, nmesh_y, nmesh_z]  = 38,34,10.  Time taken =   0.048 sec\n",
      "Using AVX512 kernel\n",
      "0%.........10%.........20%.........30%.........40%.........50%.........60%.........70%.........80%.........90%.........100% done. Time taken =  0.040 secs\n",
      "In gridlink_mocks_double> Running with [nmesh_x, nmesh_y, nmesh_z]  = 38,34,10.  Time taken =   0.014 sec\n",
      "countpairs_mocks_double> gridlink seems inefficient. nmesh = (38, 34, 10); avg_np = 547. Boosting bin refine factor - should lead to better performance\n",
      "In gridlink_mocks_double> Running with [nmesh_x, nmesh_y, nmesh_z]  = 58,52,10.  Time taken =   0.017 sec\n",
      "In gridlink_mocks_double> Running with [nmesh_x, nmesh_y, nmesh_z]  = 58,52,10.  Time taken =   1.828 sec\n",
      "0%.........10%.........20%.........30%.........40%.........50%.........60%.........70%.........80%.........90%.........100% done. Time taken =  0.228 secs\n"
     ]
    },
    {
     "name": "stdout",
     "output_type": "stream",
     "text": [
      "Warning: found negative RA values, wrapping into [0.0, 360.0]  range\n"
     ]
    },
    {
     "name": "stderr",
     "output_type": "stream",
     "text": [
      "In gridlink_mocks_double> Running with [nmesh_x, nmesh_y, nmesh_z]  = 38,35,10.  Time taken =   0.050 sec\n",
      "In gridlink_mocks_double> Running with [nmesh_x, nmesh_y, nmesh_z]  = 38,35,10.  Time taken =   0.164 sec\n",
      "0%.........10%.........20%.........30%.........40%.........50%.........60%.........70%.........80%.........90%.........100% done. Time taken =  1.912 secs\n"
     ]
    },
    {
     "name": "stdout",
     "output_type": "stream",
     "text": [
      "Warning: found negative RA values, wrapping into [0.0, 360.0]  range\n"
     ]
    },
    {
     "name": "stderr",
     "output_type": "stream",
     "text": [
      "In gridlink_mocks_double> Running with [nmesh_x, nmesh_y, nmesh_z]  = 38,35,10.  Time taken =   0.163 sec\n",
      "countpairs_mocks_double> gridlink seems inefficient. nmesh = (38, 35, 10); avg_np = 532. Boosting bin refine factor - should lead to better performance\n",
      "In gridlink_mocks_double> Running with [nmesh_x, nmesh_y, nmesh_z]  = 58,53,10.  Time taken =   0.242 sec\n",
      "In gridlink_mocks_double> Running with [nmesh_x, nmesh_y, nmesh_z]  = 58,53,10.  Time taken =   1.978 sec\n",
      "0%.........10%.........20%.........30%.........40%.........50%.........60%.........70%.........80%.........90%.........100% done. Time taken = 33.972 secs\n",
      "/data/home/mokyay/Research_stuff/Green-Peas/codes/clustering/clustering/error.py:204: FutureWarning: elementwise == comparison failed and returning scalar instead; this will raise an error or perform elementwise comparison in the future.\n",
      "  if cat==None:\n",
      "/home/mokyay/anaconda3/lib/python3.7/site-packages/astropy/table/table.py:3064: FutureWarning: elementwise == comparison failed and returning scalar instead; this will raise an error or perform elementwise comparison in the future.\n",
      "  result = self.as_array() == other\n"
     ]
    },
    {
     "name": "stdout",
     "output_type": "stream",
     "text": [
      "Using  25  jacknife samples\n",
      "1 / 25\n"
     ]
    },
    {
     "name": "stderr",
     "output_type": "stream",
     "text": [
      "In gridlink_mocks_double> Running with [nmesh_x, nmesh_y, nmesh_z]  = 38,34,10.  Time taken =   0.006 sec\n",
      "In gridlink_mocks_double> Running with [nmesh_x, nmesh_y, nmesh_z]  = 38,34,10.  Time taken =   0.048 sec\n",
      "0%.........10%.........20%.........30%.........40%.........50%.........60%.........70%.........80%.........90%.........100% done. Time taken =  0.038 secs\n",
      "In gridlink_mocks_double> Running with [nmesh_x, nmesh_y, nmesh_z]  = 38,34,10.  Time taken =   0.003 sec\n",
      "countpairs_mocks_double> gridlink seems inefficient. nmesh = (38, 34, 10); avg_np = 547. Boosting bin refine factor - should lead to better performance\n",
      "In gridlink_mocks_double> Running with [nmesh_x, nmesh_y, nmesh_z]  = 58,52,10.  Time taken =   0.007 sec\n",
      "In gridlink_mocks_double> Running with [nmesh_x, nmesh_y, nmesh_z]  = 58,52,10.  Time taken =   1.108 sec\n",
      "0%.........10%.........20%.........30%.........40%.........50%.........60%.........70%.........80%.........90%.........100% done. Time taken =  0.223 secs\n",
      "In gridlink_mocks_double> Running with [nmesh_x, nmesh_y, nmesh_z]  = 38,35,10.  Time taken =   0.052 sec\n",
      "In gridlink_mocks_double> Running with [nmesh_x, nmesh_y, nmesh_z]  = 38,35,10.  Time taken =   0.113 sec\n",
      "0%.........10%.........20%.........30%.........40%.........50%.........60%.........70%.........80%.........90%.........100% done. Time taken =  3.672 secs\n",
      "In gridlink_mocks_double> Running with [nmesh_x, nmesh_y, nmesh_z]  = 38,35,10.  Time taken =   0.108 sec\n",
      "countpairs_mocks_double> gridlink seems inefficient. nmesh = (38, 35, 10); avg_np = 532. Boosting bin refine factor - should lead to better performance\n",
      "In gridlink_mocks_double> Running with [nmesh_x, nmesh_y, nmesh_z]  = 58,52,10.  Time taken =   0.125 sec\n",
      "In gridlink_mocks_double> Running with [nmesh_x, nmesh_y, nmesh_z]  = 58,52,10.  Time taken =   1.151 sec\n",
      "0%.........10%.........20%.........30%.........40%.........50%.........60%.........70%.........80%.........90%.........100% done. Time taken =    63 secs\n"
     ]
    },
    {
     "name": "stdout",
     "output_type": "stream",
     "text": [
      "2 / 25\n"
     ]
    },
    {
     "name": "stderr",
     "output_type": "stream",
     "text": [
      "In gridlink_mocks_double> Running with [nmesh_x, nmesh_y, nmesh_z]  = 38,34,10.  Time taken =   0.005 sec\n",
      "In gridlink_mocks_double> Running with [nmesh_x, nmesh_y, nmesh_z]  = 38,34,10.  Time taken =   0.049 sec\n",
      "0%.........10%.........20%.........30%.........40%.........50%.........60%.........70%.........80%.........90%.........100% done. Time taken =  0.035 secs\n",
      "In gridlink_mocks_double> Running with [nmesh_x, nmesh_y, nmesh_z]  = 38,34,10.  Time taken =   0.003 sec\n",
      "countpairs_mocks_double> gridlink seems inefficient. nmesh = (38, 34, 10); avg_np = 547. Boosting bin refine factor - should lead to better performance\n",
      "In gridlink_mocks_double> Running with [nmesh_x, nmesh_y, nmesh_z]  = 58,52,10.  Time taken =   0.007 sec\n",
      "In gridlink_mocks_double> Running with [nmesh_x, nmesh_y, nmesh_z]  = 58,52,10.  Time taken =   1.230 sec\n",
      "0%.........10%.........20%.........30%.........40%.........50%.........60%.........70%.........80%.........90%.........100% done. Time taken =  0.212 secs\n",
      "In gridlink_mocks_double> Running with [nmesh_x, nmesh_y, nmesh_z]  = 38,35,10.  Time taken =   0.048 sec\n",
      "In gridlink_mocks_double> Running with [nmesh_x, nmesh_y, nmesh_z]  = 38,35,10.  Time taken =   0.113 sec\n",
      "0%.........10%.........20%.........30%.........40%.........50%.........60%.........70%.........80%.........90%.........100% done. Time taken =  3.740 secs\n",
      "In gridlink_mocks_double> Running with [nmesh_x, nmesh_y, nmesh_z]  = 38,35,10.  Time taken =   0.106 sec\n",
      "countpairs_mocks_double> gridlink seems inefficient. nmesh = (38, 35, 10); avg_np = 532. Boosting bin refine factor - should lead to better performance\n",
      "In gridlink_mocks_double> Running with [nmesh_x, nmesh_y, nmesh_z]  = 58,52,10.  Time taken =   0.181 sec\n",
      "In gridlink_mocks_double> Running with [nmesh_x, nmesh_y, nmesh_z]  = 58,52,10.  Time taken =   1.128 sec\n",
      "0%.........10%.........20%.........30%.........40%.........50%.........60%.........70%.........80%.........90%.........100% done. Time taken =    66 secs\n"
     ]
    },
    {
     "name": "stdout",
     "output_type": "stream",
     "text": [
      "3 / 25\n"
     ]
    },
    {
     "name": "stderr",
     "output_type": "stream",
     "text": [
      "In gridlink_mocks_double> Running with [nmesh_x, nmesh_y, nmesh_z]  = 38,34,10.  Time taken =   0.005 sec\n",
      "In gridlink_mocks_double> Running with [nmesh_x, nmesh_y, nmesh_z]  = 38,34,10.  Time taken =   0.044 sec\n",
      "0%.........10%.........20%.........30%.........40%.........50%.........60%.........70%.........80%.........90%.........100% done. Time taken =  0.032 secs\n",
      "In gridlink_mocks_double> Running with [nmesh_x, nmesh_y, nmesh_z]  = 38,34,10.  Time taken =   0.003 sec\n",
      "countpairs_mocks_double> gridlink seems inefficient. nmesh = (38, 34, 10); avg_np = 483. Boosting bin refine factor - should lead to better performance\n",
      "In gridlink_mocks_double> Running with [nmesh_x, nmesh_y, nmesh_z]  = 58,52,10.  Time taken =   0.007 sec\n",
      "In gridlink_mocks_double> Running with [nmesh_x, nmesh_y, nmesh_z]  = 58,52,10.  Time taken =   0.996 sec\n",
      "0%.........10%.........20%.........30%.........40%.........50%.........60%.........70%.........80%.........90%.........100% done. Time taken =  0.172 secs\n",
      "In gridlink_mocks_double> Running with [nmesh_x, nmesh_y, nmesh_z]  = 38,34,10.  Time taken =   0.041 sec\n",
      "In gridlink_mocks_double> Running with [nmesh_x, nmesh_y, nmesh_z]  = 38,34,10.  Time taken =   0.092 sec\n",
      "0%.........10%.........20%.........30%.........40%.........50%.........60%.........70%.........80%.........90%.........100% done. Time taken =  2.841 secs\n",
      "In gridlink_mocks_double> Running with [nmesh_x, nmesh_y, nmesh_z]  = 38,34,10.  Time taken =   0.097 sec\n",
      "countpairs_mocks_double> gridlink seems inefficient. nmesh = (38, 34, 10); avg_np = 483. Boosting bin refine factor - should lead to better performance\n",
      "In gridlink_mocks_double> Running with [nmesh_x, nmesh_y, nmesh_z]  = 58,52,10.  Time taken =   0.117 sec\n",
      "In gridlink_mocks_double> Running with [nmesh_x, nmesh_y, nmesh_z]  = 58,52,10.  Time taken =   1.074 sec\n",
      "0%.........10%.........20%.........30%.........40%.........50%.........60%.........70%.........80%.........90%.........100% done. Time taken = 55.200 secs\n"
     ]
    },
    {
     "name": "stdout",
     "output_type": "stream",
     "text": [
      "4 / 25\n"
     ]
    },
    {
     "name": "stderr",
     "output_type": "stream",
     "text": [
      "In gridlink_mocks_double> Running with [nmesh_x, nmesh_y, nmesh_z]  = 38,34,10.  Time taken =   0.004 sec\n",
      "In gridlink_mocks_double> Running with [nmesh_x, nmesh_y, nmesh_z]  = 38,34,10.  Time taken =   0.036 sec\n",
      "0%.........10%.........20%.........30%.........40%.........50%.........60%.........70%.........80%.........90%.........100% done. Time taken =  0.033 secs\n",
      "In gridlink_mocks_double> Running with [nmesh_x, nmesh_y, nmesh_z]  = 38,34,10.  Time taken =   0.003 sec\n",
      "countpairs_mocks_double> gridlink seems inefficient. nmesh = (38, 34, 10); avg_np = 518. Boosting bin refine factor - should lead to better performance\n",
      "In gridlink_mocks_double> Running with [nmesh_x, nmesh_y, nmesh_z]  = 58,52,10.  Time taken =   0.007 sec\n",
      "In gridlink_mocks_double> Running with [nmesh_x, nmesh_y, nmesh_z]  = 58,52,10.  Time taken =   1.103 sec\n",
      "0%.........10%.........20%.........30%.........40%.........50%.........60%.........70%.........80%.........90%.........100% done. Time taken =  0.249 secs\n",
      "In gridlink_mocks_double> Running with [nmesh_x, nmesh_y, nmesh_z]  = 38,35,10.  Time taken =   0.044 sec\n",
      "In gridlink_mocks_double> Running with [nmesh_x, nmesh_y, nmesh_z]  = 38,35,10.  Time taken =   0.103 sec\n",
      "0%.........10%.........20%.........30%.........40%.........50%.........60%.........70%.........80%.........90%.........100% done. Time taken =  3.262 secs\n",
      "In gridlink_mocks_double> Running with [nmesh_x, nmesh_y, nmesh_z]  = 38,35,10.  Time taken =   0.090 sec\n",
      "countpairs_mocks_double> gridlink seems inefficient. nmesh = (38, 35, 10); avg_np = 503. Boosting bin refine factor - should lead to better performance\n",
      "In gridlink_mocks_double> Running with [nmesh_x, nmesh_y, nmesh_z]  = 58,52,10.  Time taken =   0.106 sec\n",
      "In gridlink_mocks_double> Running with [nmesh_x, nmesh_y, nmesh_z]  = 58,52,10.  Time taken =   1.032 sec\n",
      "0%.........10%.........20%.........30%.........40%.........50%.........60%.........70%.........80%.........90%.........100% done. Time taken =    61 secs\n"
     ]
    },
    {
     "name": "stdout",
     "output_type": "stream",
     "text": [
      "5 / 25\n"
     ]
    },
    {
     "name": "stderr",
     "output_type": "stream",
     "text": [
      "In gridlink_mocks_double> Running with [nmesh_x, nmesh_y, nmesh_z]  = 38,34,10.  Time taken =   0.005 sec\n",
      "In gridlink_mocks_double> Running with [nmesh_x, nmesh_y, nmesh_z]  = 38,34,10.  Time taken =   0.058 sec\n",
      "0%.........10%.........20%.........30%.........40%.........50%.........60%.........70%.........80%.........90%.........100% done. Time taken =  0.037 secs\n",
      "In gridlink_mocks_double> Running with [nmesh_x, nmesh_y, nmesh_z]  = 38,34,10.  Time taken =   0.004 sec\n",
      "countpairs_mocks_double> gridlink seems inefficient. nmesh = (38, 34, 10); avg_np = 547. Boosting bin refine factor - should lead to better performance\n",
      "In gridlink_mocks_double> Running with [nmesh_x, nmesh_y, nmesh_z]  = 58,52,10.  Time taken =   0.007 sec\n",
      "In gridlink_mocks_double> Running with [nmesh_x, nmesh_y, nmesh_z]  = 58,52,10.  Time taken =   1.105 sec\n",
      "0%.........10%.........20%.........30%.........40%.........50%.........60%.........70%.........80%.........90%.........100% done. Time taken =  0.214 secs\n",
      "In gridlink_mocks_double> Running with [nmesh_x, nmesh_y, nmesh_z]  = 38,35,10.  Time taken =   0.064 sec\n",
      "In gridlink_mocks_double> Running with [nmesh_x, nmesh_y, nmesh_z]  = 38,35,10.  Time taken =   0.151 sec\n",
      "0%.........10%.........20%.........30%.........40%.........50%.........60%.........70%.........80%.........90%.........100% done. Time taken =  3.928 secs\n",
      "In gridlink_mocks_double> Running with [nmesh_x, nmesh_y, nmesh_z]  = 38,35,10.  Time taken =   0.121 sec\n",
      "countpairs_mocks_double> gridlink seems inefficient. nmesh = (38, 35, 10); avg_np = 532. Boosting bin refine factor - should lead to better performance\n",
      "In gridlink_mocks_double> Running with [nmesh_x, nmesh_y, nmesh_z]  = 58,52,10.  Time taken =   0.129 sec\n",
      "In gridlink_mocks_double> Running with [nmesh_x, nmesh_y, nmesh_z]  = 58,52,10.  Time taken =   1.310 sec\n",
      "0%.........10%.........20%.........30%.........40%.........50%.........60%.........70%.........80%.........90%.........100% done. Time taken =    69 secs\n"
     ]
    },
    {
     "name": "stdout",
     "output_type": "stream",
     "text": [
      "6 / 25\n"
     ]
    },
    {
     "name": "stderr",
     "output_type": "stream",
     "text": [
      "In gridlink_mocks_double> Running with [nmesh_x, nmesh_y, nmesh_z]  = 38,34,10.  Time taken =   0.008 sec\n",
      "In gridlink_mocks_double> Running with [nmesh_x, nmesh_y, nmesh_z]  = 38,34,10.  Time taken =   0.043 sec\n",
      "0%.........10%.........20%.........30%.........40%.........50%.........60%.........70%.........80%.........90%.........100% done. Time taken =  0.036 secs\n",
      "In gridlink_mocks_double> Running with [nmesh_x, nmesh_y, nmesh_z]  = 38,34,10.  Time taken =   0.004 sec\n",
      "countpairs_mocks_double> gridlink seems inefficient. nmesh = (38, 34, 10); avg_np = 547. Boosting bin refine factor - should lead to better performance\n",
      "In gridlink_mocks_double> Running with [nmesh_x, nmesh_y, nmesh_z]  = 58,52,10.  Time taken =   0.007 sec\n",
      "In gridlink_mocks_double> Running with [nmesh_x, nmesh_y, nmesh_z]  = 58,52,10.  Time taken =   1.178 sec\n",
      "0%.........10%.........20%.........30%.........40%.........50%.........60%.........70%.........80%.........90%.........100% done. Time taken =  0.217 secs\n",
      "In gridlink_mocks_double> Running with [nmesh_x, nmesh_y, nmesh_z]  = 38,35,10.  Time taken =   0.047 sec\n",
      "In gridlink_mocks_double> Running with [nmesh_x, nmesh_y, nmesh_z]  = 38,35,10.  Time taken =   0.121 sec\n",
      "0%.........10%.........20%.........30%.........40%.........50%.........60%.........70%.........80%.........90%.........100% done. Time taken =  3.997 secs\n",
      "In gridlink_mocks_double> Running with [nmesh_x, nmesh_y, nmesh_z]  = 38,35,10.  Time taken =   0.124 sec\n",
      "countpairs_mocks_double> gridlink seems inefficient. nmesh = (38, 35, 10); avg_np = 532. Boosting bin refine factor - should lead to better performance\n",
      "In gridlink_mocks_double> Running with [nmesh_x, nmesh_y, nmesh_z]  = 58,52,10.  Time taken =   0.228 sec\n",
      "In gridlink_mocks_double> Running with [nmesh_x, nmesh_y, nmesh_z]  = 58,52,10.  Time taken =   1.360 sec\n",
      "0%.........10%.........20%.........30%.........40%.........50%.........60%.........70%.........80%.........90%.........100% done. Time taken =    66 secs\n"
     ]
    },
    {
     "name": "stdout",
     "output_type": "stream",
     "text": [
      "7 / 25\n"
     ]
    },
    {
     "name": "stderr",
     "output_type": "stream",
     "text": [
      "In gridlink_mocks_double> Running with [nmesh_x, nmesh_y, nmesh_z]  = 38,34,10.  Time taken =   0.006 sec\n",
      "In gridlink_mocks_double> Running with [nmesh_x, nmesh_y, nmesh_z]  = 38,34,10.  Time taken =   0.049 sec\n",
      "0%.........10%.........20%.........30%.........40%.........50%.........60%.........70%.........80%.........90%.........100% done. Time taken =  0.037 secs\n",
      "In gridlink_mocks_double> Running with [nmesh_x, nmesh_y, nmesh_z]  = 38,34,10.  Time taken =   0.003 sec\n",
      "countpairs_mocks_double> gridlink seems inefficient. nmesh = (38, 34, 10); avg_np = 547. Boosting bin refine factor - should lead to better performance\n",
      "In gridlink_mocks_double> Running with [nmesh_x, nmesh_y, nmesh_z]  = 58,52,10.  Time taken =   0.007 sec\n",
      "In gridlink_mocks_double> Running with [nmesh_x, nmesh_y, nmesh_z]  = 58,52,10.  Time taken =   1.129 sec\n",
      "0%.........10%.........20%.........30%.........40%.........50%.........60%.........70%.........80%.........90%.........100% done. Time taken =  0.218 secs\n",
      "In gridlink_mocks_double> Running with [nmesh_x, nmesh_y, nmesh_z]  = 38,35,10.  Time taken =   0.046 sec\n",
      "In gridlink_mocks_double> Running with [nmesh_x, nmesh_y, nmesh_z]  = 38,35,10.  Time taken =   0.110 sec\n",
      "0%.........10%.........20%.........30%.........40%.........50%.........60%.........70%.........80%.........90%.........100% done. Time taken =  3.597 secs\n",
      "In gridlink_mocks_double> Running with [nmesh_x, nmesh_y, nmesh_z]  = 38,35,10.  Time taken =   0.107 sec\n",
      "countpairs_mocks_double> gridlink seems inefficient. nmesh = (38, 35, 10); avg_np = 532. Boosting bin refine factor - should lead to better performance\n",
      "In gridlink_mocks_double> Running with [nmesh_x, nmesh_y, nmesh_z]  = 58,52,10.  Time taken =   0.113 sec\n",
      "In gridlink_mocks_double> Running with [nmesh_x, nmesh_y, nmesh_z]  = 58,52,10.  Time taken =   1.266 sec\n",
      "0%.........10%.........20%.........30%.........40%.........50%.........60%.........70%.........80%.........90%.........100% done. Time taken =    66 secs\n"
     ]
    },
    {
     "name": "stdout",
     "output_type": "stream",
     "text": [
      "8 / 25\n"
     ]
    },
    {
     "name": "stderr",
     "output_type": "stream",
     "text": [
      "In gridlink_mocks_double> Running with [nmesh_x, nmesh_y, nmesh_z]  = 38,34,10.  Time taken =   0.004 sec\n",
      "In gridlink_mocks_double> Running with [nmesh_x, nmesh_y, nmesh_z]  = 38,34,10.  Time taken =   0.036 sec\n",
      "0%.........10%.........20%.........30%.........40%.........50%.........60%.........70%.........80%.........90%.........100% done. Time taken =  0.031 secs\n",
      "In gridlink_mocks_double> Running with [nmesh_x, nmesh_y, nmesh_z]  = 38,34,10.  Time taken =   0.003 sec\n",
      "countpairs_mocks_double> gridlink seems inefficient. nmesh = (38, 34, 10); avg_np = 525. Boosting bin refine factor - should lead to better performance\n",
      "In gridlink_mocks_double> Running with [nmesh_x, nmesh_y, nmesh_z]  = 58,51,10.  Time taken =   0.007 sec\n",
      "In gridlink_mocks_double> Running with [nmesh_x, nmesh_y, nmesh_z]  = 58,51,10.  Time taken =   1.095 sec\n",
      "0%.........10%.........20%.........30%.........40%.........50%.........60%.........70%.........80%.........90%.........100% done. Time taken =  0.191 secs\n",
      "In gridlink_mocks_double> Running with [nmesh_x, nmesh_y, nmesh_z]  = 38,35,10.  Time taken =   0.044 sec\n",
      "In gridlink_mocks_double> Running with [nmesh_x, nmesh_y, nmesh_z]  = 38,35,10.  Time taken =   0.111 sec\n",
      "0%.........10%.........20%.........30%.........40%.........50%.........60%.........70%.........80%.........90%.........100% done. Time taken =  3.251 secs\n",
      "In gridlink_mocks_double> Running with [nmesh_x, nmesh_y, nmesh_z]  = 38,35,10.  Time taken =   0.091 sec\n",
      "countpairs_mocks_double> gridlink seems inefficient. nmesh = (38, 35, 10); avg_np = 510. Boosting bin refine factor - should lead to better performance\n",
      "In gridlink_mocks_double> Running with [nmesh_x, nmesh_y, nmesh_z]  = 58,52,10.  Time taken =   0.108 sec\n",
      "In gridlink_mocks_double> Running with [nmesh_x, nmesh_y, nmesh_z]  = 58,52,10.  Time taken =   1.025 sec\n",
      "0%.........10%.........20%.........30%.........40%.........50%.........60%.........70%.........80%.........90%.........100% done. Time taken =    63 secs\n"
     ]
    },
    {
     "name": "stdout",
     "output_type": "stream",
     "text": [
      "9 / 25\n"
     ]
    },
    {
     "name": "stderr",
     "output_type": "stream",
     "text": [
      "In gridlink_mocks_double> Running with [nmesh_x, nmesh_y, nmesh_z]  = 38,34,10.  Time taken =   0.006 sec\n",
      "In gridlink_mocks_double> Running with [nmesh_x, nmesh_y, nmesh_z]  = 38,34,10.  Time taken =   0.043 sec\n",
      "0%.........10%.........20%.........30%.........40%.........50%.........60%.........70%.........80%.........90%.........100% done. Time taken =  0.030 secs\n",
      "In gridlink_mocks_double> Running with [nmesh_x, nmesh_y, nmesh_z]  = 38,34,10.  Time taken =   0.003 sec\n",
      "countpairs_mocks_double> gridlink seems inefficient. nmesh = (38, 34, 10); avg_np = 512. Boosting bin refine factor - should lead to better performance\n",
      "In gridlink_mocks_double> Running with [nmesh_x, nmesh_y, nmesh_z]  = 58,52,10.  Time taken =   0.006 sec\n",
      "In gridlink_mocks_double> Running with [nmesh_x, nmesh_y, nmesh_z]  = 58,52,10.  Time taken =   1.007 sec\n",
      "0%.........10%.........20%.........30%.........40%.........50%.........60%.........70%.........80%.........90%.........100% done. Time taken =  0.172 secs\n",
      "In gridlink_mocks_double> Running with [nmesh_x, nmesh_y, nmesh_z]  = 38,35,10.  Time taken =   0.041 sec\n",
      "In gridlink_mocks_double> Running with [nmesh_x, nmesh_y, nmesh_z]  = 38,35,10.  Time taken =   0.097 sec\n",
      "0%.........10%.........20%.........30%.........40%.........50%.........60%.........70%.........80%.........90%.........100% done. Time taken =  3.012 secs\n",
      "In gridlink_mocks_double> Running with [nmesh_x, nmesh_y, nmesh_z]  = 38,35,10.  Time taken =   0.094 sec\n",
      "countpairs_mocks_double> gridlink seems inefficient. nmesh = (38, 35, 10); avg_np = 497. Boosting bin refine factor - should lead to better performance\n",
      "In gridlink_mocks_double> Running with [nmesh_x, nmesh_y, nmesh_z]  = 58,52,10.  Time taken =   0.101 sec\n",
      "In gridlink_mocks_double> Running with [nmesh_x, nmesh_y, nmesh_z]  = 58,52,10.  Time taken =   1.041 sec\n",
      "0%.........10%.........20%.........30%.........40%.........50%.........60%.........70%.........80%.........90%.........100% done. Time taken = 57.933 secs\n"
     ]
    },
    {
     "name": "stdout",
     "output_type": "stream",
     "text": [
      "10 / 25\n"
     ]
    },
    {
     "name": "stderr",
     "output_type": "stream",
     "text": [
      "In gridlink_mocks_double> Running with [nmesh_x, nmesh_y, nmesh_z]  = 38,34,10.  Time taken =   0.004 sec\n",
      "In gridlink_mocks_double> Running with [nmesh_x, nmesh_y, nmesh_z]  = 38,34,10.  Time taken =   0.048 sec\n",
      "0%.........10%.........20%.........30%.........40%.........50%.........60%.........70%.........80%.........90%.........100% done. Time taken =  0.035 secs\n",
      "In gridlink_mocks_double> Running with [nmesh_x, nmesh_y, nmesh_z]  = 38,34,10.  Time taken =   0.003 sec\n",
      "countpairs_mocks_double> gridlink seems inefficient. nmesh = (38, 34, 10); avg_np = 541. Boosting bin refine factor - should lead to better performance\n",
      "In gridlink_mocks_double> Running with [nmesh_x, nmesh_y, nmesh_z]  = 58,52,10.  Time taken =   0.007 sec\n",
      "In gridlink_mocks_double> Running with [nmesh_x, nmesh_y, nmesh_z]  = 58,52,10.  Time taken =   1.071 sec\n",
      "0%.........10%.........20%.........30%.........40%.........50%.........60%.........70%.........80%.........90%.........100% done. Time taken =  0.199 secs\n",
      "In gridlink_mocks_double> Running with [nmesh_x, nmesh_y, nmesh_z]  = 38,35,10.  Time taken =   0.045 sec\n",
      "In gridlink_mocks_double> Running with [nmesh_x, nmesh_y, nmesh_z]  = 38,35,10.  Time taken =   0.132 sec\n",
      "0%.........10%.........20%.........30%.........40%.........50%.........60%.........70%.........80%.........90%.........100% done. Time taken =  3.614 secs\n",
      "In gridlink_mocks_double> Running with [nmesh_x, nmesh_y, nmesh_z]  = 38,35,10.  Time taken =   0.104 sec\n",
      "countpairs_mocks_double> gridlink seems inefficient. nmesh = (38, 35, 10); avg_np = 526. Boosting bin refine factor - should lead to better performance\n",
      "In gridlink_mocks_double> Running with [nmesh_x, nmesh_y, nmesh_z]  = 58,52,10.  Time taken =   0.112 sec\n",
      "In gridlink_mocks_double> Running with [nmesh_x, nmesh_y, nmesh_z]  = 58,52,10.  Time taken =   1.062 sec\n",
      "0%.........10%.........20%.........30%.........40%.........50%.........60%.........70%.........80%.........90%.........100% done. Time taken =    63 secs\n"
     ]
    },
    {
     "name": "stdout",
     "output_type": "stream",
     "text": [
      "11 / 25\n"
     ]
    },
    {
     "name": "stderr",
     "output_type": "stream",
     "text": [
      "In gridlink_mocks_double> Running with [nmesh_x, nmesh_y, nmesh_z]  = 38,34,10.  Time taken =   0.005 sec\n",
      "In gridlink_mocks_double> Running with [nmesh_x, nmesh_y, nmesh_z]  = 38,34,10.  Time taken =   0.048 sec\n",
      "0%.........10%.........20%.........30%.........40%.........50%.........60%.........70%.........80%.........90%.........100% done. Time taken =  0.036 secs\n",
      "In gridlink_mocks_double> Running with [nmesh_x, nmesh_y, nmesh_z]  = 38,34,10.  Time taken =   0.003 sec\n",
      "countpairs_mocks_double> gridlink seems inefficient. nmesh = (38, 34, 10); avg_np = 547. Boosting bin refine factor - should lead to better performance\n",
      "In gridlink_mocks_double> Running with [nmesh_x, nmesh_y, nmesh_z]  = 58,52,10.  Time taken =   0.007 sec\n",
      "In gridlink_mocks_double> Running with [nmesh_x, nmesh_y, nmesh_z]  = 58,52,10.  Time taken =   1.139 sec\n",
      "0%.........10%.........20%.........30%.........40%.........50%.........60%.........70%.........80%.........90%.........100% done. Time taken =  0.208 secs\n",
      "In gridlink_mocks_double> Running with [nmesh_x, nmesh_y, nmesh_z]  = 38,35,10.  Time taken =   0.048 sec\n",
      "In gridlink_mocks_double> Running with [nmesh_x, nmesh_y, nmesh_z]  = 38,35,10.  Time taken =   0.111 sec\n",
      "0%.........10%.........20%.........30%.........40%.........50%.........60%.........70%.........80%.........90%.........100% done. Time taken =  3.687 secs\n",
      "In gridlink_mocks_double> Running with [nmesh_x, nmesh_y, nmesh_z]  = 38,35,10.  Time taken =   0.101 sec\n",
      "countpairs_mocks_double> gridlink seems inefficient. nmesh = (38, 35, 10); avg_np = 532. Boosting bin refine factor - should lead to better performance\n",
      "In gridlink_mocks_double> Running with [nmesh_x, nmesh_y, nmesh_z]  = 58,52,10.  Time taken =   0.131 sec\n",
      "In gridlink_mocks_double> Running with [nmesh_x, nmesh_y, nmesh_z]  = 58,52,10.  Time taken =   1.184 sec\n",
      "0%.........10%.........20%.........30%.........40%.........50%.........60%.........70%.........80%.........90%.........100% done. Time taken =    64 secs\n"
     ]
    },
    {
     "name": "stdout",
     "output_type": "stream",
     "text": [
      "12 / 25\n"
     ]
    },
    {
     "name": "stderr",
     "output_type": "stream",
     "text": [
      "In gridlink_mocks_double> Running with [nmesh_x, nmesh_y, nmesh_z]  = 38,34,10.  Time taken =   0.004 sec\n",
      "In gridlink_mocks_double> Running with [nmesh_x, nmesh_y, nmesh_z]  = 38,34,10.  Time taken =   0.052 sec\n",
      "0%.........10%.........20%.........30%.........40%.........50%.........60%.........70%.........80%.........90%.........100% done. Time taken =  0.039 secs\n",
      "In gridlink_mocks_double> Running with [nmesh_x, nmesh_y, nmesh_z]  = 38,34,10.  Time taken =   0.003 sec\n",
      "countpairs_mocks_double> gridlink seems inefficient. nmesh = (38, 34, 10); avg_np = 547. Boosting bin refine factor - should lead to better performance\n",
      "In gridlink_mocks_double> Running with [nmesh_x, nmesh_y, nmesh_z]  = 58,52,10.  Time taken =   0.007 sec\n",
      "In gridlink_mocks_double> Running with [nmesh_x, nmesh_y, nmesh_z]  = 58,52,10.  Time taken =   1.155 sec\n",
      "0%.........10%.........20%.........30%.........40%.........50%.........60%.........70%.........80%.........90%.........100% done. Time taken =  0.237 secs\n",
      "In gridlink_mocks_double> Running with [nmesh_x, nmesh_y, nmesh_z]  = 38,35,10.  Time taken =   0.100 sec\n",
      "In gridlink_mocks_double> Running with [nmesh_x, nmesh_y, nmesh_z]  = 38,35,10.  Time taken =   0.176 sec\n",
      "0%.........10%.........20%.........30%.........40%.........50%.........60%.........70%.........80%.........90%.........100% done. Time taken =  4.024 secs\n",
      "In gridlink_mocks_double> Running with [nmesh_x, nmesh_y, nmesh_z]  = 38,35,10.  Time taken =   0.108 sec\n",
      "countpairs_mocks_double> gridlink seems inefficient. nmesh = (38, 35, 10); avg_np = 532. Boosting bin refine factor - should lead to better performance\n",
      "In gridlink_mocks_double> Running with [nmesh_x, nmesh_y, nmesh_z]  = 58,52,10.  Time taken =   0.151 sec\n",
      "In gridlink_mocks_double> Running with [nmesh_x, nmesh_y, nmesh_z]  = 58,52,10.  Time taken =   1.257 sec\n",
      "0%.........10%.........20%.........30%.........40%.........50%.........60%.........70%.........80%.........90%.........100% done. Time taken =    64 secs\n"
     ]
    },
    {
     "name": "stdout",
     "output_type": "stream",
     "text": [
      "13 / 25\n"
     ]
    },
    {
     "name": "stderr",
     "output_type": "stream",
     "text": [
      "In gridlink_mocks_double> Running with [nmesh_x, nmesh_y, nmesh_z]  = 37,34,10.  Time taken =   0.005 sec\n",
      "In gridlink_mocks_double> Running with [nmesh_x, nmesh_y, nmesh_z]  = 37,34,10.  Time taken =   0.054 sec\n",
      "0%.........10%.........20%.........30%.........40%.........50%.........60%.........70%.........80%.........90%.........100% done. Time taken =  0.032 secs\n",
      "In gridlink_mocks_double> Running with [nmesh_x, nmesh_y, nmesh_z]  = 37,34,10.  Time taken =   0.003 sec\n",
      "countpairs_mocks_double> gridlink seems inefficient. nmesh = (37, 34, 10); avg_np = 487. Boosting bin refine factor - should lead to better performance\n",
      "In gridlink_mocks_double> Running with [nmesh_x, nmesh_y, nmesh_z]  = 56,52,10.  Time taken =   0.007 sec\n",
      "In gridlink_mocks_double> Running with [nmesh_x, nmesh_y, nmesh_z]  = 56,52,10.  Time taken =   1.086 sec\n",
      "0%.........10%.........20%.........30%.........40%.........50%.........60%.........70%.........80%.........90%.........100% done. Time taken =  0.253 secs\n",
      "In gridlink_mocks_double> Running with [nmesh_x, nmesh_y, nmesh_z]  = 37,35,10.  Time taken =   0.044 sec\n",
      "In gridlink_mocks_double> Running with [nmesh_x, nmesh_y, nmesh_z]  = 37,35,10.  Time taken =   0.126 sec\n",
      "0%.........10%.........20%.........30%.........40%.........50%.........60%.........70%.........80%.........90%.........100% done. Time taken =  3.463 secs\n",
      "In gridlink_mocks_double> Running with [nmesh_x, nmesh_y, nmesh_z]  = 37,35,10.  Time taken =   0.109 sec\n",
      "countpairs_mocks_double> gridlink seems inefficient. nmesh = (37, 35, 10); avg_np = 473. Boosting bin refine factor - should lead to better performance\n",
      "In gridlink_mocks_double> Running with [nmesh_x, nmesh_y, nmesh_z]  = 56,52,10.  Time taken =   0.113 sec\n",
      "In gridlink_mocks_double> Running with [nmesh_x, nmesh_y, nmesh_z]  = 56,52,10.  Time taken =   1.048 sec\n",
      "0%.........10%.........20%.........30%.........40%.........50%.........60%.........70%.........80%.........90%.........100% done. Time taken = 58.070 secs\n"
     ]
    },
    {
     "name": "stdout",
     "output_type": "stream",
     "text": [
      "14 / 25\n"
     ]
    },
    {
     "name": "stderr",
     "output_type": "stream",
     "text": [
      "In gridlink_mocks_double> Running with [nmesh_x, nmesh_y, nmesh_z]  = 38,34,10.  Time taken =   0.004 sec\n",
      "In gridlink_mocks_double> Running with [nmesh_x, nmesh_y, nmesh_z]  = 38,34,10.  Time taken =   0.033 sec\n",
      "0%.........10%.........20%.........30%.........40%.........50%.........60%.........70%.........80%.........90%.........100% done. Time taken =  0.026 secs\n",
      "In gridlink_mocks_double> Running with [nmesh_x, nmesh_y, nmesh_z]  = 38,34,10.  Time taken =   0.003 sec\n",
      "countpairs_mocks_double> gridlink seems inefficient. nmesh = (38, 34, 10); avg_np = 435. Boosting bin refine factor - should lead to better performance\n",
      "In gridlink_mocks_double> Running with [nmesh_x, nmesh_y, nmesh_z]  = 58,52,10.  Time taken =   0.007 sec\n",
      "In gridlink_mocks_double> Running with [nmesh_x, nmesh_y, nmesh_z]  = 58,52,10.  Time taken =   0.808 sec\n",
      "0%.........10%.........20%.........30%.........40%.........50%.........60%.........70%.........80%.........90%.........100% done. Time taken =  0.145 secs\n",
      "In gridlink_mocks_double> Running with [nmesh_x, nmesh_y, nmesh_z]  = 38,35,10.  Time taken =   0.035 sec\n",
      "In gridlink_mocks_double> Running with [nmesh_x, nmesh_y, nmesh_z]  = 38,35,10.  Time taken =   0.086 sec\n",
      "0%.........10%.........20%.........30%.........40%.........50%.........60%.........70%.........80%.........90%.........100% done. Time taken =  2.435 secs\n",
      "In gridlink_mocks_double> Running with [nmesh_x, nmesh_y, nmesh_z]  = 38,35,10.  Time taken =   0.073 sec\n",
      "countpairs_mocks_double> gridlink seems inefficient. nmesh = (38, 35, 10); avg_np = 422. Boosting bin refine factor - should lead to better performance\n",
      "In gridlink_mocks_double> Running with [nmesh_x, nmesh_y, nmesh_z]  = 58,52,10.  Time taken =   0.091 sec\n",
      "In gridlink_mocks_double> Running with [nmesh_x, nmesh_y, nmesh_z]  = 58,52,10.  Time taken =   0.860 sec\n",
      "0%.........10%.........20%.........30%.........40%.........50%.........60%.........70%.........80%.........90%.........100% done. Time taken = 44.379 secs\n"
     ]
    },
    {
     "name": "stdout",
     "output_type": "stream",
     "text": [
      "15 / 25\n"
     ]
    },
    {
     "name": "stderr",
     "output_type": "stream",
     "text": [
      "In gridlink_mocks_double> Running with [nmesh_x, nmesh_y, nmesh_z]  = 38,34,10.  Time taken =   0.005 sec\n",
      "In gridlink_mocks_double> Running with [nmesh_x, nmesh_y, nmesh_z]  = 38,34,10.  Time taken =   0.046 sec\n",
      "0%.........10%.........20%.........30%.........40%.........50%.........60%.........70%.........80%.........90%.........100% done. Time taken =  0.033 secs\n",
      "In gridlink_mocks_double> Running with [nmesh_x, nmesh_y, nmesh_z]  = 38,34,10.  Time taken =   0.004 sec\n",
      "countpairs_mocks_double> gridlink seems inefficient. nmesh = (38, 34, 10); avg_np = 520. Boosting bin refine factor - should lead to better performance\n",
      "In gridlink_mocks_double> Running with [nmesh_x, nmesh_y, nmesh_z]  = 58,52,10.  Time taken =   0.007 sec\n",
      "In gridlink_mocks_double> Running with [nmesh_x, nmesh_y, nmesh_z]  = 58,52,10.  Time taken =   1.093 sec\n",
      "0%.........10%.........20%.........30%.........40%.........50%.........60%.........70%.........80%.........90%.........100% done. Time taken =  0.215 secs\n",
      "In gridlink_mocks_double> Running with [nmesh_x, nmesh_y, nmesh_z]  = 38,35,10.  Time taken =   0.048 sec\n",
      "In gridlink_mocks_double> Running with [nmesh_x, nmesh_y, nmesh_z]  = 38,35,10.  Time taken =   0.134 sec\n",
      "0%.........10%.........20%.........30%.........40%.........50%.........60%.........70%.........80%.........90%.........100% done. Time taken =  3.452 secs\n",
      "In gridlink_mocks_double> Running with [nmesh_x, nmesh_y, nmesh_z]  = 38,35,10.  Time taken =   0.095 sec\n",
      "countpairs_mocks_double> gridlink seems inefficient. nmesh = (38, 35, 10); avg_np = 505. Boosting bin refine factor - should lead to better performance\n",
      "In gridlink_mocks_double> Running with [nmesh_x, nmesh_y, nmesh_z]  = 58,52,10.  Time taken =   0.110 sec\n",
      "In gridlink_mocks_double> Running with [nmesh_x, nmesh_y, nmesh_z]  = 58,52,10.  Time taken =   1.039 sec\n",
      "0%.........10%.........20%.........30%.........40%.........50%.........60%.........70%.........80%.........90%.........100% done. Time taken =    60 secs\n"
     ]
    },
    {
     "name": "stdout",
     "output_type": "stream",
     "text": [
      "16 / 25\n"
     ]
    },
    {
     "name": "stderr",
     "output_type": "stream",
     "text": [
      "In gridlink_mocks_double> Running with [nmesh_x, nmesh_y, nmesh_z]  = 38,34,10.  Time taken =   0.003 sec\n",
      "In gridlink_mocks_double> Running with [nmesh_x, nmesh_y, nmesh_z]  = 38,34,10.  Time taken =   0.038 sec\n",
      "0%.........10%.........20%.........30%.........40%.........50%.........60%.........70%.........80%.........90%.........100% done. Time taken =  0.032 secs\n",
      "In gridlink_mocks_double> Running with [nmesh_x, nmesh_y, nmesh_z]  = 38,34,10.  Time taken =   0.006 sec\n",
      "countpairs_mocks_double> gridlink seems inefficient. nmesh = (38, 34, 10); avg_np = 547. Boosting bin refine factor - should lead to better performance\n",
      "In gridlink_mocks_double> Running with [nmesh_x, nmesh_y, nmesh_z]  = 58,52,10.  Time taken =   0.009 sec\n",
      "In gridlink_mocks_double> Running with [nmesh_x, nmesh_y, nmesh_z]  = 58,52,10.  Time taken =   1.154 sec\n",
      "0%.........10%.........20%.........30%.........40%.........50%.........60%.........70%.........80%.........90%.........100% done. Time taken =  0.203 secs\n",
      "In gridlink_mocks_double> Running with [nmesh_x, nmesh_y, nmesh_z]  = 38,35,10.  Time taken =   0.045 sec\n",
      "In gridlink_mocks_double> Running with [nmesh_x, nmesh_y, nmesh_z]  = 38,35,10.  Time taken =   0.108 sec\n",
      "0%.........10%.........20%.........30%.........40%.........50%.........60%.........70%.........80%.........90%.........100% done. Time taken =  3.505 secs\n",
      "In gridlink_mocks_double> Running with [nmesh_x, nmesh_y, nmesh_z]  = 38,35,10.  Time taken =   0.103 sec\n",
      "countpairs_mocks_double> gridlink seems inefficient. nmesh = (38, 35, 10); avg_np = 532. Boosting bin refine factor - should lead to better performance\n",
      "In gridlink_mocks_double> Running with [nmesh_x, nmesh_y, nmesh_z]  = 58,52,10.  Time taken =   0.120 sec\n",
      "In gridlink_mocks_double> Running with [nmesh_x, nmesh_y, nmesh_z]  = 58,52,10.  Time taken =   1.104 sec\n",
      "0%.........10%.........20%.........30%.........40%.........50%.........60%.........70%.........80%.........90%.........100% done. Time taken =    68 secs\n"
     ]
    },
    {
     "name": "stdout",
     "output_type": "stream",
     "text": [
      "17 / 25\n"
     ]
    },
    {
     "name": "stderr",
     "output_type": "stream",
     "text": [
      "In gridlink_mocks_double> Running with [nmesh_x, nmesh_y, nmesh_z]  = 38,34,10.  Time taken =   0.005 sec\n",
      "In gridlink_mocks_double> Running with [nmesh_x, nmesh_y, nmesh_z]  = 38,34,10.  Time taken =   0.049 sec\n",
      "0%.........10%.........20%.........30%.........40%.........50%.........60%.........70%.........80%.........90%.........100% done. Time taken =  0.036 secs\n",
      "In gridlink_mocks_double> Running with [nmesh_x, nmesh_y, nmesh_z]  = 38,34,10.  Time taken =   0.003 sec\n",
      "countpairs_mocks_double> gridlink seems inefficient. nmesh = (38, 34, 10); avg_np = 547. Boosting bin refine factor - should lead to better performance\n",
      "In gridlink_mocks_double> Running with [nmesh_x, nmesh_y, nmesh_z]  = 58,52,10.  Time taken =   0.007 sec\n",
      "In gridlink_mocks_double> Running with [nmesh_x, nmesh_y, nmesh_z]  = 58,52,10.  Time taken =   1.104 sec\n",
      "0%.........10%.........20%.........30%.........40%.........50%.........60%.........70%.........80%.........90%.........100% done. Time taken =  0.202 secs\n",
      "In gridlink_mocks_double> Running with [nmesh_x, nmesh_y, nmesh_z]  = 38,35,10.  Time taken =   0.046 sec\n",
      "In gridlink_mocks_double> Running with [nmesh_x, nmesh_y, nmesh_z]  = 38,35,10.  Time taken =   0.108 sec\n",
      "0%.........10%.........20%.........30%.........40%.........50%.........60%.........70%.........80%.........90%.........100% done. Time taken =  3.520 secs\n",
      "In gridlink_mocks_double> Running with [nmesh_x, nmesh_y, nmesh_z]  = 38,35,10.  Time taken =   0.113 sec\n",
      "countpairs_mocks_double> gridlink seems inefficient. nmesh = (38, 35, 10); avg_np = 532. Boosting bin refine factor - should lead to better performance\n",
      "In gridlink_mocks_double> Running with [nmesh_x, nmesh_y, nmesh_z]  = 58,52,10.  Time taken =   0.124 sec\n",
      "In gridlink_mocks_double> Running with [nmesh_x, nmesh_y, nmesh_z]  = 58,52,10.  Time taken =   1.161 sec\n",
      "0%.........10%.........20%.........30%.........40%.........50%.........60%.........70%.........80%.........90%.........100% done. Time taken =    71 secs\n"
     ]
    },
    {
     "name": "stdout",
     "output_type": "stream",
     "text": [
      "18 / 25\n"
     ]
    },
    {
     "name": "stderr",
     "output_type": "stream",
     "text": [
      "In gridlink_mocks_double> Running with [nmesh_x, nmesh_y, nmesh_z]  = 38,34,10.  Time taken =   0.003 sec\n",
      "In gridlink_mocks_double> Running with [nmesh_x, nmesh_y, nmesh_z]  = 38,34,10.  Time taken =   0.035 sec\n",
      "0%.........10%.........20%.........30%.........40%.........50%.........60%.........70%.........80%.........90%.........100% done. Time taken =  0.032 secs\n",
      "In gridlink_mocks_double> Running with [nmesh_x, nmesh_y, nmesh_z]  = 38,34,10.  Time taken =   0.004 sec\n",
      "countpairs_mocks_double> gridlink seems inefficient. nmesh = (38, 34, 10); avg_np = 515. Boosting bin refine factor - should lead to better performance\n",
      "In gridlink_mocks_double> Running with [nmesh_x, nmesh_y, nmesh_z]  = 58,52,10.  Time taken =   0.008 sec\n",
      "In gridlink_mocks_double> Running with [nmesh_x, nmesh_y, nmesh_z]  = 58,52,10.  Time taken =   1.006 sec\n",
      "0%.........10%.........20%.........30%.........40%.........50%.........60%.........70%.........80%.........90%.........100% done. Time taken =  0.190 secs\n",
      "In gridlink_mocks_double> Running with [nmesh_x, nmesh_y, nmesh_z]  = 38,34,10.  Time taken =   0.039 sec\n",
      "In gridlink_mocks_double> Running with [nmesh_x, nmesh_y, nmesh_z]  = 38,34,10.  Time taken =   0.103 sec\n",
      "0%.........10%.........20%.........30%.........40%.........50%.........60%.........70%.........80%.........90%.........100% done. Time taken =  3.267 secs\n",
      "In gridlink_mocks_double> Running with [nmesh_x, nmesh_y, nmesh_z]  = 38,34,10.  Time taken =   0.097 sec\n",
      "countpairs_mocks_double> gridlink seems inefficient. nmesh = (38, 34, 10); avg_np = 515. Boosting bin refine factor - should lead to better performance\n",
      "In gridlink_mocks_double> Running with [nmesh_x, nmesh_y, nmesh_z]  = 58,52,10.  Time taken =   0.114 sec\n",
      "In gridlink_mocks_double> Running with [nmesh_x, nmesh_y, nmesh_z]  = 58,52,10.  Time taken =   1.082 sec\n",
      "0%.........10%.........20%.........30%.........40%.........50%.........60%.........70%.........80%.........90%.........100% done. Time taken =    67 secs\n"
     ]
    },
    {
     "name": "stdout",
     "output_type": "stream",
     "text": [
      "19 / 25\n"
     ]
    },
    {
     "name": "stderr",
     "output_type": "stream",
     "text": [
      "In gridlink_mocks_double> Running with [nmesh_x, nmesh_y, nmesh_z]  = 38,34,10.  Time taken =   0.005 sec\n",
      "In gridlink_mocks_double> Running with [nmesh_x, nmesh_y, nmesh_z]  = 38,34,10.  Time taken =   0.042 sec\n",
      "0%.........10%.........20%.........30%.........40%.........50%.........60%.........70%.........80%.........90%.........100% done. Time taken =  0.034 secs\n",
      "In gridlink_mocks_double> Running with [nmesh_x, nmesh_y, nmesh_z]  = 38,34,10.  Time taken =   0.003 sec\n",
      "countpairs_mocks_double> gridlink seems inefficient. nmesh = (38, 34, 10); avg_np = 489. Boosting bin refine factor - should lead to better performance\n",
      "In gridlink_mocks_double> Running with [nmesh_x, nmesh_y, nmesh_z]  = 58,52,10.  Time taken =   0.007 sec\n",
      "In gridlink_mocks_double> Running with [nmesh_x, nmesh_y, nmesh_z]  = 58,52,10.  Time taken =   0.954 sec\n",
      "0%.........10%.........20%.........30%.........40%.........50%.........60%.........70%.........80%.........90%.........100% done. Time taken =  0.180 secs\n",
      "In gridlink_mocks_double> Running with [nmesh_x, nmesh_y, nmesh_z]  = 38,35,10.  Time taken =   0.040 sec\n",
      "In gridlink_mocks_double> Running with [nmesh_x, nmesh_y, nmesh_z]  = 38,35,10.  Time taken =   0.103 sec\n",
      "0%.........10%.........20%.........30%.........40%.........50%.........60%.........70%.........80%.........90%.........100% done. Time taken =  3.145 secs\n",
      "In gridlink_mocks_double> Running with [nmesh_x, nmesh_y, nmesh_z]  = 38,35,10.  Time taken =   0.101 sec\n",
      "countpairs_mocks_double> gridlink seems inefficient. nmesh = (38, 35, 10); avg_np = 475. Boosting bin refine factor - should lead to better performance\n",
      "In gridlink_mocks_double> Running with [nmesh_x, nmesh_y, nmesh_z]  = 58,52,10.  Time taken =   0.105 sec\n",
      "In gridlink_mocks_double> Running with [nmesh_x, nmesh_y, nmesh_z]  = 58,52,10.  Time taken =   0.995 sec\n",
      "0%.........10%.........20%.........30%.........40%.........50%.........60%.........70%.........80%.........90%.........100% done. Time taken =    62 secs\n"
     ]
    },
    {
     "name": "stdout",
     "output_type": "stream",
     "text": [
      "20 / 25\n"
     ]
    },
    {
     "name": "stderr",
     "output_type": "stream",
     "text": [
      "In gridlink_mocks_double> Running with [nmesh_x, nmesh_y, nmesh_z]  = 38,34,10.  Time taken =   0.004 sec\n",
      "In gridlink_mocks_double> Running with [nmesh_x, nmesh_y, nmesh_z]  = 38,34,10.  Time taken =   0.039 sec\n",
      "0%.........10%.........20%.........30%.........40%.........50%.........60%.........70%.........80%.........90%.........100% done. Time taken =  0.035 secs\n",
      "In gridlink_mocks_double> Running with [nmesh_x, nmesh_y, nmesh_z]  = 38,34,10.  Time taken =   0.003 sec\n",
      "countpairs_mocks_double> gridlink seems inefficient. nmesh = (38, 34, 10); avg_np = 540. Boosting bin refine factor - should lead to better performance\n",
      "In gridlink_mocks_double> Running with [nmesh_x, nmesh_y, nmesh_z]  = 58,52,10.  Time taken =   0.007 sec\n",
      "In gridlink_mocks_double> Running with [nmesh_x, nmesh_y, nmesh_z]  = 58,52,10.  Time taken =   1.221 sec\n",
      "0%.........10%.........20%.........30%.........40%.........50%.........60%.........70%.........80%.........90%.........100% done. Time taken =  0.277 secs\n",
      "In gridlink_mocks_double> Running with [nmesh_x, nmesh_y, nmesh_z]  = 38,35,10.  Time taken =   0.046 sec\n",
      "In gridlink_mocks_double> Running with [nmesh_x, nmesh_y, nmesh_z]  = 38,35,10.  Time taken =   0.128 sec\n",
      "0%.........10%.........20%.........30%.........40%.........50%.........60%.........70%.........80%.........90%.........100% done. Time taken =  3.657 secs\n",
      "In gridlink_mocks_double> Running with [nmesh_x, nmesh_y, nmesh_z]  = 38,35,10.  Time taken =   0.103 sec\n",
      "countpairs_mocks_double> gridlink seems inefficient. nmesh = (38, 35, 10); avg_np = 524. Boosting bin refine factor - should lead to better performance\n",
      "In gridlink_mocks_double> Running with [nmesh_x, nmesh_y, nmesh_z]  = 58,52,10.  Time taken =   0.112 sec\n",
      "In gridlink_mocks_double> Running with [nmesh_x, nmesh_y, nmesh_z]  = 58,52,10.  Time taken =   1.132 sec\n",
      "0%.........10%.........20%.........30%.........40%.........50%.........60%.........70%.........80%.........90%.........100% done. Time taken =    62 secs\n"
     ]
    },
    {
     "name": "stdout",
     "output_type": "stream",
     "text": [
      "21 / 25\n"
     ]
    },
    {
     "name": "stderr",
     "output_type": "stream",
     "text": [
      "In gridlink_mocks_double> Running with [nmesh_x, nmesh_y, nmesh_z]  = 38,34,10.  Time taken =   0.005 sec\n",
      "In gridlink_mocks_double> Running with [nmesh_x, nmesh_y, nmesh_z]  = 38,34,10.  Time taken =   0.049 sec\n",
      "0%.........10%.........20%.........30%.........40%.........50%.........60%.........70%.........80%.........90%.........100% done. Time taken =  0.035 secs\n",
      "In gridlink_mocks_double> Running with [nmesh_x, nmesh_y, nmesh_z]  = 38,34,10.  Time taken =   0.003 sec\n",
      "countpairs_mocks_double> gridlink seems inefficient. nmesh = (38, 34, 10); avg_np = 547. Boosting bin refine factor - should lead to better performance\n",
      "In gridlink_mocks_double> Running with [nmesh_x, nmesh_y, nmesh_z]  = 58,52,10.  Time taken =   0.007 sec\n",
      "In gridlink_mocks_double> Running with [nmesh_x, nmesh_y, nmesh_z]  = 58,52,10.  Time taken =   1.144 sec\n",
      "0%.........10%.........20%.........30%.........40%.........50%.........60%.........70%.........80%.........90%.........100% done. Time taken =  0.225 secs\n",
      "In gridlink_mocks_double> Running with [nmesh_x, nmesh_y, nmesh_z]  = 38,35,10.  Time taken =   0.072 sec\n",
      "In gridlink_mocks_double> Running with [nmesh_x, nmesh_y, nmesh_z]  = 38,35,10.  Time taken =   0.115 sec\n",
      "0%.........10%.........20%.........30%.........40%.........50%.........60%.........70%.........80%.........90%.........100% done. Time taken =  3.914 secs\n",
      "In gridlink_mocks_double> Running with [nmesh_x, nmesh_y, nmesh_z]  = 38,35,10.  Time taken =   0.122 sec\n",
      "countpairs_mocks_double> gridlink seems inefficient. nmesh = (38, 35, 10); avg_np = 532. Boosting bin refine factor - should lead to better performance\n",
      "In gridlink_mocks_double> Running with [nmesh_x, nmesh_y, nmesh_z]  = 58,52,10.  Time taken =   0.191 sec\n",
      "In gridlink_mocks_double> Running with [nmesh_x, nmesh_y, nmesh_z]  = 58,52,10.  Time taken =   1.516 sec\n",
      "0%.........10%.........20%.........30%.........40%.........50%.........60%.........70%.........80%.........90%.........100% done. Time taken =    63 secs\n"
     ]
    },
    {
     "name": "stdout",
     "output_type": "stream",
     "text": [
      "22 / 25\n"
     ]
    },
    {
     "name": "stderr",
     "output_type": "stream",
     "text": [
      "In gridlink_mocks_double> Running with [nmesh_x, nmesh_y, nmesh_z]  = 38,34,10.  Time taken =   0.004 sec\n",
      "In gridlink_mocks_double> Running with [nmesh_x, nmesh_y, nmesh_z]  = 38,34,10.  Time taken =   0.040 sec\n",
      "0%.........10%.........20%.........30%.........40%.........50%.........60%.........70%.........80%.........90%.........100% done. Time taken =  0.039 secs\n",
      "In gridlink_mocks_double> Running with [nmesh_x, nmesh_y, nmesh_z]  = 38,34,10.  Time taken =   0.003 sec\n",
      "countpairs_mocks_double> gridlink seems inefficient. nmesh = (38, 34, 10); avg_np = 547. Boosting bin refine factor - should lead to better performance\n",
      "In gridlink_mocks_double> Running with [nmesh_x, nmesh_y, nmesh_z]  = 58,52,10.  Time taken =   0.009 sec\n",
      "In gridlink_mocks_double> Running with [nmesh_x, nmesh_y, nmesh_z]  = 58,52,10.  Time taken =   1.320 sec\n",
      "0%.........10%.........20%.........30%.........40%.........50%.........60%.........70%.........80%.........90%.........100% done. Time taken =  0.238 secs\n",
      "In gridlink_mocks_double> Running with [nmesh_x, nmesh_y, nmesh_z]  = 38,35,10.  Time taken =   0.050 sec\n",
      "In gridlink_mocks_double> Running with [nmesh_x, nmesh_y, nmesh_z]  = 38,35,10.  Time taken =   0.176 sec\n",
      "0%.........10%.........20%.........30%.........40%.........50%.........60%.........70%.........80%.........90%.........100% done. Time taken =  3.865 secs\n",
      "In gridlink_mocks_double> Running with [nmesh_x, nmesh_y, nmesh_z]  = 38,35,10.  Time taken =   0.119 sec\n",
      "countpairs_mocks_double> gridlink seems inefficient. nmesh = (38, 35, 10); avg_np = 532. Boosting bin refine factor - should lead to better performance\n",
      "In gridlink_mocks_double> Running with [nmesh_x, nmesh_y, nmesh_z]  = 58,52,10.  Time taken =   0.156 sec\n",
      "In gridlink_mocks_double> Running with [nmesh_x, nmesh_y, nmesh_z]  = 58,52,10.  Time taken =   1.099 sec\n",
      "0%.........10%.........20%.........30%.........40%.........50%.........60%.........70%.........80%.........90%.........100% done. Time taken =    63 secs\n"
     ]
    },
    {
     "name": "stdout",
     "output_type": "stream",
     "text": [
      "23 / 25\n"
     ]
    },
    {
     "name": "stderr",
     "output_type": "stream",
     "text": [
      "In gridlink_mocks_double> Running with [nmesh_x, nmesh_y, nmesh_z]  = 38,34,10.  Time taken =   0.005 sec\n",
      "In gridlink_mocks_double> Running with [nmesh_x, nmesh_y, nmesh_z]  = 38,34,10.  Time taken =   0.043 sec\n",
      "0%.........10%.........20%.........30%.........40%.........50%.........60%.........70%.........80%.........90%.........100% done. Time taken =  0.030 secs\n",
      "In gridlink_mocks_double> Running with [nmesh_x, nmesh_y, nmesh_z]  = 38,34,10.  Time taken =   0.003 sec\n",
      "countpairs_mocks_double> gridlink seems inefficient. nmesh = (38, 34, 10); avg_np = 496. Boosting bin refine factor - should lead to better performance\n",
      "In gridlink_mocks_double> Running with [nmesh_x, nmesh_y, nmesh_z]  = 58,52,10.  Time taken =   0.007 sec\n",
      "In gridlink_mocks_double> Running with [nmesh_x, nmesh_y, nmesh_z]  = 58,52,10.  Time taken =   1.077 sec\n",
      "0%.........10%.........20%.........30%.........40%.........50%.........60%.........70%.........80%.........90%.........100% done. Time taken =  0.209 secs\n",
      "In gridlink_mocks_double> Running with [nmesh_x, nmesh_y, nmesh_z]  = 38,35,10.  Time taken =   0.044 sec\n",
      "In gridlink_mocks_double> Running with [nmesh_x, nmesh_y, nmesh_z]  = 38,35,10.  Time taken =   0.101 sec\n",
      "0%.........10%.........20%.........30%.........40%.........50%.........60%.........70%.........80%.........90%.........100% done. Time taken =  3.267 secs\n",
      "In gridlink_mocks_double> Running with [nmesh_x, nmesh_y, nmesh_z]  = 38,35,10.  Time taken =   0.103 sec\n",
      "countpairs_mocks_double> gridlink seems inefficient. nmesh = (38, 35, 10); avg_np = 482. Boosting bin refine factor - should lead to better performance\n",
      "In gridlink_mocks_double> Running with [nmesh_x, nmesh_y, nmesh_z]  = 58,52,10.  Time taken =   0.122 sec\n",
      "In gridlink_mocks_double> Running with [nmesh_x, nmesh_y, nmesh_z]  = 58,52,10.  Time taken =   1.074 sec\n",
      "0%.........10%.........20%.........30%.........40%.........50%.........60%.........70%.........80%.........90%.........100% done. Time taken = 58.927 secs\n"
     ]
    },
    {
     "name": "stdout",
     "output_type": "stream",
     "text": [
      "24 / 25\n"
     ]
    },
    {
     "name": "stderr",
     "output_type": "stream",
     "text": [
      "In gridlink_mocks_double> Running with [nmesh_x, nmesh_y, nmesh_z]  = 38,34,10.  Time taken =   0.005 sec\n",
      "In gridlink_mocks_double> Running with [nmesh_x, nmesh_y, nmesh_z]  = 38,34,10.  Time taken =   0.036 sec\n",
      "0%.........10%.........20%.........30%.........40%.........50%.........60%.........70%.........80%.........90%.........100% done. Time taken =  0.034 secs\n",
      "In gridlink_mocks_double> Running with [nmesh_x, nmesh_y, nmesh_z]  = 38,34,10.  Time taken =   0.004 sec\n",
      "countpairs_mocks_double> gridlink seems inefficient. nmesh = (38, 34, 10); avg_np = 521. Boosting bin refine factor - should lead to better performance\n",
      "In gridlink_mocks_double> Running with [nmesh_x, nmesh_y, nmesh_z]  = 58,52,10.  Time taken =   0.007 sec\n",
      "In gridlink_mocks_double> Running with [nmesh_x, nmesh_y, nmesh_z]  = 58,52,10.  Time taken =   1.049 sec\n",
      "0%.........10%.........20%.........30%.........40%.........50%.........60%.........70%.........80%.........90%.........100% done. Time taken =  0.231 secs\n",
      "In gridlink_mocks_double> Running with [nmesh_x, nmesh_y, nmesh_z]  = 38,35,10.  Time taken =   0.044 sec\n",
      "In gridlink_mocks_double> Running with [nmesh_x, nmesh_y, nmesh_z]  = 38,35,10.  Time taken =   0.107 sec\n",
      "0%.........10%.........20%.........30%.........40%.........50%.........60%.........70%.........80%.........90%.........100% done. Time taken =  3.436 secs\n",
      "In gridlink_mocks_double> Running with [nmesh_x, nmesh_y, nmesh_z]  = 38,35,10.  Time taken =   0.133 sec\n",
      "countpairs_mocks_double> gridlink seems inefficient. nmesh = (38, 35, 10); avg_np = 506. Boosting bin refine factor - should lead to better performance\n",
      "In gridlink_mocks_double> Running with [nmesh_x, nmesh_y, nmesh_z]  = 58,52,10.  Time taken =   0.164 sec\n",
      "In gridlink_mocks_double> Running with [nmesh_x, nmesh_y, nmesh_z]  = 58,52,10.  Time taken =   1.094 sec\n",
      "0%.........10%.........20%.........30%.........40%.........50%.........60%.........70%.........80%.........90%.........100% done. Time taken =    63 secs\n"
     ]
    },
    {
     "name": "stdout",
     "output_type": "stream",
     "text": [
      "25 / 25\n"
     ]
    },
    {
     "name": "stderr",
     "output_type": "stream",
     "text": [
      "In gridlink_mocks_double> Running with [nmesh_x, nmesh_y, nmesh_z]  = 38,34,10.  Time taken =   0.005 sec\n",
      "In gridlink_mocks_double> Running with [nmesh_x, nmesh_y, nmesh_z]  = 38,34,10.  Time taken =   0.048 sec\n",
      "0%.........10%.........20%.........30%.........40%.........50%.........60%.........70%.........80%.........90%.........100% done. Time taken =  0.032 secs\n",
      "In gridlink_mocks_double> Running with [nmesh_x, nmesh_y, nmesh_z]  = 38,34,10.  Time taken =   0.003 sec\n",
      "countpairs_mocks_double> gridlink seems inefficient. nmesh = (38, 34, 10); avg_np = 547. Boosting bin refine factor - should lead to better performance\n",
      "In gridlink_mocks_double> Running with [nmesh_x, nmesh_y, nmesh_z]  = 58,52,10.  Time taken =   0.007 sec\n",
      "In gridlink_mocks_double> Running with [nmesh_x, nmesh_y, nmesh_z]  = 58,52,10.  Time taken =   1.094 sec\n",
      "0%.........10%.........20%.........30%.........40%.........50%.........60%.........70%.........80%.........90%.........100% done. Time taken =  0.212 secs\n",
      "In gridlink_mocks_double> Running with [nmesh_x, nmesh_y, nmesh_z]  = 38,35,10.  Time taken =   0.046 sec\n",
      "In gridlink_mocks_double> Running with [nmesh_x, nmesh_y, nmesh_z]  = 38,35,10.  Time taken =   0.107 sec\n",
      "0%.........10%.........20%.........30%.........40%.........50%.........60%.........70%.........80%.........90%.........100% done. Time taken =  3.473 secs\n",
      "In gridlink_mocks_double> Running with [nmesh_x, nmesh_y, nmesh_z]  = 38,35,10.  Time taken =   0.108 sec\n",
      "countpairs_mocks_double> gridlink seems inefficient. nmesh = (38, 35, 10); avg_np = 532. Boosting bin refine factor - should lead to better performance\n",
      "In gridlink_mocks_double> Running with [nmesh_x, nmesh_y, nmesh_z]  = 58,52,10.  Time taken =   0.190 sec\n",
      "In gridlink_mocks_double> Running with [nmesh_x, nmesh_y, nmesh_z]  = 58,52,10.  Time taken =   1.159 sec\n",
      "0%.........10%.........20%.........30%.........40%.........50%.........60%.........70%.........80%.........90%.........100% done. Time taken =    65 secs\n"
     ]
    }
   ],
   "source": [
    "from __future__ import division\n",
    "import numpy as np\n",
    "import math\n",
    "from astropy import units as u\n",
    "from astropy.coordinates import SkyCoord, match_coordinates_sky\n",
    "import astropy.coordinates as coord\n",
    "from astropy.cosmology import FlatLambdaCDM\n",
    "from astropy.table import Table\n",
    "from astropy.io import fits\n",
    "import time\n",
    "from numpy.lib.recfunctions import append_fields\n",
    "#from kde import weighted_gaussian_kde\n",
    "from scipy import stats\n",
    "from astropy.cosmology import FlatLambdaCDM,Planck15\n",
    "import sys\n",
    "from time import gmtime, strftime\n",
    "\n",
    "import matplotlib.pyplot as plt\n",
    "from matplotlib.colors import LogNorm\n",
    "%matplotlib inline\n",
    "\n",
    "from astropy.table import Table\n",
    "from astropy.io import fits\n",
    "import numpy as np\n",
    "import math\n",
    "from astropy.io import ascii\n",
    "##Read in the cosmology\n",
    "cosmo = FlatLambdaCDM(H0=70, Om0=0.3)\n",
    "\n",
    "import clustering.clustering.projected_correlation_functions as w\n",
    "import clustering.clustering.randomsEdited as rand\n",
    "from clustering.clustering.utils import wp_d1d2,wp_dd\n",
    "\n",
    "# read in orignal Peas file\n",
    "t=Table.read('../codes/MainCatalogues/dr12PeastoPortStarforming.fits',format='fits')\n",
    "peas=np.array(t)\n",
    "\n",
    "#Add new array field of comoving distances needed for Corrfunc inputs\n",
    "cdists = np.array([cosmo.comoving_distance(z).value for z in peas['z']])*cosmo.h\n",
    "peas = append_fields(peas, 'cdist', cdists)\n",
    "\n",
    "# append the field and make back into normal array\n",
    "peas=np.array(peas)\n",
    "\n",
    "LRG= Table.read('../codes/MainCatalogues/LRG/LRGzcat.fits')\n",
    "LRGr=Table.read('../codes/MainCatalogues/LRG/LRGRandzcat.fits')\n",
    "rzpea = np.load('../codes/output/rzpeasNEW.npy')\n",
    "\n",
    "bins = np.array([.1,.5,1,3,6,8,10,15,20,30,40,50,60,80,100])\n",
    "## Run a clustering CROSS CORRELATION b/w the peas & LRGs w/ bootstrap - this is jackknife only\n",
    "pimax = 20\n",
    "print(strftime(\"%Y-%m-%d %H:%M:%S\", gmtime()))\n",
    "## with errors? bootstrapped - idk\n",
    "rp_xc_Pjackpi40LS,wp_xc_Pjackpi40LS,wp_xc_err_Pjackpi40LS,cov_xc_Pjackpi40LS = w.cross_wp(d1=peas, \n",
    "d2=LRG, r1=rzpea, r2=LRGr, bins=bins,pimax=pimax,m=5, estimator='L')\n",
    "\n",
    "np.save('output/CCFResults/LandySzalay/rp_xc_Pjackpi20LS.npy', rp_xc_Pjackpi40LS)\n",
    "np.save('output/CCFResults/LandySzalay/wp_xc_Pjackpi20LS.npy',wp_xc_Pjackpi40LS)\n",
    "np.save('output/CCFResults/LandySzalay/wp_xc_err_Pjackpi20LS.npy', wp_xc_err_Pjackpi40LS)\n",
    "np.save('output/CCFResults/LandySzalay/cov_xc_Pjackpi20LS.npy',cov_xc_Pjackpi40LS)"
   ]
  },
  {
   "cell_type": "code",
   "execution_count": 2,
   "metadata": {},
   "outputs": [
    {
     "name": "stdout",
     "output_type": "stream",
     "text": [
      "2020-10-25 22:19:15\n"
     ]
    },
    {
     "name": "stderr",
     "output_type": "stream",
     "text": [
      "In gridlink_mocks_double> Running with [nmesh_x, nmesh_y, nmesh_z]  = 37,33,10.  Time taken =   0.006 sec\n",
      "In gridlink_mocks_double> Running with [nmesh_x, nmesh_y, nmesh_z]  = 37,33,10.  Time taken =   0.058 sec\n",
      "Using AVX512 kernel\n",
      "0%.........10%.........20%.........30%.........40%.........50%.........60%.........70%.........80%.........90%.........100% done. Time taken =  0.044 secs\n",
      "In gridlink_mocks_double> Running with [nmesh_x, nmesh_y, nmesh_z]  = 37,33,10.  Time taken =   0.015 sec\n",
      "countpairs_mocks_double> gridlink seems inefficient. nmesh = (37, 33, 10); avg_np = 579. Boosting bin refine factor - should lead to better performance\n",
      "In gridlink_mocks_double> Running with [nmesh_x, nmesh_y, nmesh_z]  = 56,50,10.  Time taken =   0.015 sec\n",
      "In gridlink_mocks_double> Running with [nmesh_x, nmesh_y, nmesh_z]  = 56,50,10.  Time taken =   1.885 sec\n",
      "0%.........10%.........20%.........30%.........40%.........50%.........60%.........70%.........80%.........90%.........100% done. Time taken =  0.291 secs\n"
     ]
    },
    {
     "name": "stdout",
     "output_type": "stream",
     "text": [
      "Warning: found negative RA values, wrapping into [0.0, 360.0]  range\n"
     ]
    },
    {
     "name": "stderr",
     "output_type": "stream",
     "text": [
      "In gridlink_mocks_double> Running with [nmesh_x, nmesh_y, nmesh_z]  = 37,33,10.  Time taken =   0.051 sec\n",
      "In gridlink_mocks_double> Running with [nmesh_x, nmesh_y, nmesh_z]  = 37,33,10.  Time taken =   0.095 sec\n",
      "0%.........10%.........20%.........30%.........40%.........50%.........60%.........70%.........80%.........90%.........100% done. Time taken =  1.329 secs\n"
     ]
    },
    {
     "name": "stdout",
     "output_type": "stream",
     "text": [
      "Warning: found negative RA values, wrapping into [0.0, 360.0]  range\n"
     ]
    },
    {
     "name": "stderr",
     "output_type": "stream",
     "text": [
      "In gridlink_mocks_double> Running with [nmesh_x, nmesh_y, nmesh_z]  = 37,33,10.  Time taken =   0.097 sec\n",
      "countpairs_mocks_double> gridlink seems inefficient. nmesh = (37, 33, 10); avg_np = 579. Boosting bin refine factor - should lead to better performance\n",
      "In gridlink_mocks_double> Running with [nmesh_x, nmesh_y, nmesh_z]  = 56,50,10.  Time taken =   0.101 sec\n",
      "In gridlink_mocks_double> Running with [nmesh_x, nmesh_y, nmesh_z]  = 56,50,10.  Time taken =   1.938 sec\n",
      "0%.........10%.........20%.........30%.........40%.........50%.........60%.........70%.........80%.........90%.........100% done. Time taken = 35.838 secs\n",
      "/data/home/mokyay/Research Files/Green-Peas/codes/clustering/clustering/error.py:204: FutureWarning: elementwise == comparison failed and returning scalar instead; this will raise an error or perform elementwise comparison in the future.\n",
      "  if cat==None:\n",
      "/home/mokyay/anaconda3/lib/python3.7/site-packages/astropy/table/table.py:3064: FutureWarning: elementwise == comparison failed and returning scalar instead; this will raise an error or perform elementwise comparison in the future.\n",
      "  result = self.as_array() == other\n"
     ]
    },
    {
     "name": "stdout",
     "output_type": "stream",
     "text": [
      "Using  25  jacknife samples\n",
      "1 / 25\n"
     ]
    },
    {
     "name": "stderr",
     "output_type": "stream",
     "text": [
      "In gridlink_mocks_double> Running with [nmesh_x, nmesh_y, nmesh_z]  = 37,33,10.  Time taken =   0.005 sec\n",
      "In gridlink_mocks_double> Running with [nmesh_x, nmesh_y, nmesh_z]  = 37,33,10.  Time taken =   0.045 sec\n",
      "0%.........10%.........20%.........30%.........40%.........50%.........60%.........70%.........80%.........90%.........100% done. Time taken =  0.034 secs\n",
      "In gridlink_mocks_double> Running with [nmesh_x, nmesh_y, nmesh_z]  = 37,33,10.  Time taken =   0.003 sec\n",
      "countpairs_mocks_double> gridlink seems inefficient. nmesh = (37, 33, 10); avg_np = 579. Boosting bin refine factor - should lead to better performance\n",
      "In gridlink_mocks_double> Running with [nmesh_x, nmesh_y, nmesh_z]  = 56,50,10.  Time taken =   0.006 sec\n",
      "In gridlink_mocks_double> Running with [nmesh_x, nmesh_y, nmesh_z]  = 56,50,10.  Time taken =   1.107 sec\n",
      "0%.........10%.........20%.........30%.........40%.........50%.........60%.........70%.........80%.........90%.........100% done. Time taken =  0.237 secs\n",
      "In gridlink_mocks_double> Running with [nmesh_x, nmesh_y, nmesh_z]  = 37,33,10.  Time taken =   0.045 sec\n",
      "In gridlink_mocks_double> Running with [nmesh_x, nmesh_y, nmesh_z]  = 37,33,10.  Time taken =   0.103 sec\n",
      "0%.........10%.........20%.........30%.........40%.........50%.........60%.........70%.........80%.........90%.........100% done. Time taken =  3.636 secs\n",
      "In gridlink_mocks_double> Running with [nmesh_x, nmesh_y, nmesh_z]  = 37,33,10.  Time taken =   0.090 sec\n",
      "countpairs_mocks_double> gridlink seems inefficient. nmesh = (37, 33, 10); avg_np = 579. Boosting bin refine factor - should lead to better performance\n",
      "In gridlink_mocks_double> Running with [nmesh_x, nmesh_y, nmesh_z]  = 56,50,10.  Time taken =   0.070 sec\n",
      "In gridlink_mocks_double> Running with [nmesh_x, nmesh_y, nmesh_z]  = 56,50,10.  Time taken =   1.130 sec\n",
      "0%.........10%.........20%.........30%.........40%.........50%.........60%.........70%.........80%.........90%.........100% done. Time taken =    94 secs\n"
     ]
    },
    {
     "name": "stdout",
     "output_type": "stream",
     "text": [
      "2 / 25\n"
     ]
    },
    {
     "name": "stderr",
     "output_type": "stream",
     "text": [
      "In gridlink_mocks_double> Running with [nmesh_x, nmesh_y, nmesh_z]  = 37,33,10.  Time taken =   0.005 sec\n",
      "In gridlink_mocks_double> Running with [nmesh_x, nmesh_y, nmesh_z]  = 37,33,10.  Time taken =   0.054 sec\n",
      "0%.........10%.........20%.........30%.........40%.........50%.........60%.........70%.........80%.........90%.........100% done. Time taken =  0.049 secs\n",
      "In gridlink_mocks_double> Running with [nmesh_x, nmesh_y, nmesh_z]  = 37,33,10.  Time taken =   0.003 sec\n",
      "countpairs_mocks_double> gridlink seems inefficient. nmesh = (37, 33, 10); avg_np = 579. Boosting bin refine factor - should lead to better performance\n",
      "In gridlink_mocks_double> Running with [nmesh_x, nmesh_y, nmesh_z]  = 56,50,10.  Time taken =   0.006 sec\n",
      "In gridlink_mocks_double> Running with [nmesh_x, nmesh_y, nmesh_z]  = 56,50,10.  Time taken =   1.092 sec\n",
      "0%.........10%.........20%.........30%.........40%.........50%.........60%.........70%.........80%.........90%.........100% done. Time taken =  0.238 secs\n",
      "In gridlink_mocks_double> Running with [nmesh_x, nmesh_y, nmesh_z]  = 37,33,10.  Time taken =   0.045 sec\n",
      "In gridlink_mocks_double> Running with [nmesh_x, nmesh_y, nmesh_z]  = 37,33,10.  Time taken =   0.098 sec\n",
      "0%.........10%.........20%.........30%.........40%.........50%.........60%.........70%.........80%.........90%.........100% done. Time taken =  3.744 secs\n",
      "In gridlink_mocks_double> Running with [nmesh_x, nmesh_y, nmesh_z]  = 37,33,10.  Time taken =   0.090 sec\n",
      "countpairs_mocks_double> gridlink seems inefficient. nmesh = (37, 33, 10); avg_np = 579. Boosting bin refine factor - should lead to better performance\n",
      "In gridlink_mocks_double> Running with [nmesh_x, nmesh_y, nmesh_z]  = 56,50,10.  Time taken =   0.070 sec\n",
      "In gridlink_mocks_double> Running with [nmesh_x, nmesh_y, nmesh_z]  = 56,50,10.  Time taken =   1.153 sec\n",
      "0%.........10%.........20%.........30%.........40%.........50%.........60%.........70%.........80%.........90%.........100% done. Time taken =    92 secs\n"
     ]
    },
    {
     "name": "stdout",
     "output_type": "stream",
     "text": [
      "3 / 25\n"
     ]
    },
    {
     "name": "stderr",
     "output_type": "stream",
     "text": [
      "In gridlink_mocks_double> Running with [nmesh_x, nmesh_y, nmesh_z]  = 37,33,10.  Time taken =   0.005 sec\n",
      "In gridlink_mocks_double> Running with [nmesh_x, nmesh_y, nmesh_z]  = 37,33,10.  Time taken =   0.045 sec\n",
      "0%.........10%.........20%.........30%.........40%.........50%.........60%.........70%.........80%.........90%.........100% done. Time taken =  0.037 secs\n",
      "In gridlink_mocks_double> Running with [nmesh_x, nmesh_y, nmesh_z]  = 37,33,10.  Time taken =   0.003 sec\n",
      "countpairs_mocks_double> gridlink seems inefficient. nmesh = (37, 33, 10); avg_np = 511. Boosting bin refine factor - should lead to better performance\n",
      "In gridlink_mocks_double> Running with [nmesh_x, nmesh_y, nmesh_z]  = 56,50,10.  Time taken =   0.006 sec\n",
      "In gridlink_mocks_double> Running with [nmesh_x, nmesh_y, nmesh_z]  = 56,50,10.  Time taken =   1.016 sec\n",
      "0%.........10%.........20%.........30%.........40%.........50%.........60%.........70%.........80%.........90%.........100% done. Time taken =  0.212 secs\n",
      "In gridlink_mocks_double> Running with [nmesh_x, nmesh_y, nmesh_z]  = 37,33,10.  Time taken =   0.043 sec\n",
      "In gridlink_mocks_double> Running with [nmesh_x, nmesh_y, nmesh_z]  = 37,33,10.  Time taken =   0.006 sec\n",
      "0%.........10%.........20%.........30%.........40%.........50%.........60%.........70%.........80%.........90%.........100% done. Time taken =  0.082 secs\n",
      "In gridlink_mocks_double> Running with [nmesh_x, nmesh_y, nmesh_z]  = 37,33,10.  Time taken =   0.003 sec\n",
      "countpairs_mocks_double> gridlink seems inefficient. nmesh = (37, 33, 10); avg_np = 511. Boosting bin refine factor - should lead to better performance\n",
      "In gridlink_mocks_double> Running with [nmesh_x, nmesh_y, nmesh_z]  = 56,50,10.  Time taken =   0.006 sec\n",
      "In gridlink_mocks_double> Running with [nmesh_x, nmesh_y, nmesh_z]  = 56,50,10.  Time taken =   1.027 sec\n",
      "0%.........10%.........20%.........30%.........40%.........50%.........60%.........70%.........80%.........90%.........100% done. Time taken =  0.212 secs\n"
     ]
    },
    {
     "name": "stdout",
     "output_type": "stream",
     "text": [
      "4 / 25\n"
     ]
    },
    {
     "name": "stderr",
     "output_type": "stream",
     "text": [
      "In gridlink_mocks_double> Running with [nmesh_x, nmesh_y, nmesh_z]  = 37,33,10.  Time taken =   0.005 sec\n",
      "In gridlink_mocks_double> Running with [nmesh_x, nmesh_y, nmesh_z]  = 37,33,10.  Time taken =   0.056 sec\n",
      "0%.........10%.........20%.........30%.........40%.........50%.........60%.........70%.........80%.........90%.........100% done. Time taken =  0.038 secs\n",
      "In gridlink_mocks_double> Running with [nmesh_x, nmesh_y, nmesh_z]  = 37,33,10.  Time taken =   0.003 sec\n",
      "countpairs_mocks_double> gridlink seems inefficient. nmesh = (37, 33, 10); avg_np = 548. Boosting bin refine factor - should lead to better performance\n",
      "In gridlink_mocks_double> Running with [nmesh_x, nmesh_y, nmesh_z]  = 56,50,10.  Time taken =   0.006 sec\n",
      "In gridlink_mocks_double> Running with [nmesh_x, nmesh_y, nmesh_z]  = 56,50,10.  Time taken =   1.090 sec\n",
      "0%.........10%.........20%.........30%.........40%.........50%.........60%.........70%.........80%.........90%.........100% done. Time taken =  0.224 secs\n",
      "In gridlink_mocks_double> Running with [nmesh_x, nmesh_y, nmesh_z]  = 37,33,10.  Time taken =   0.042 sec\n",
      "In gridlink_mocks_double> Running with [nmesh_x, nmesh_y, nmesh_z]  = 37,33,10.  Time taken =   0.097 sec\n",
      "0%.........10%.........20%.........30%.........40%.........50%.........60%.........70%.........80%.........90%.........100% done. Time taken =  3.602 secs\n",
      "In gridlink_mocks_double> Running with [nmesh_x, nmesh_y, nmesh_z]  = 37,33,10.  Time taken =   0.092 sec\n",
      "countpairs_mocks_double> gridlink seems inefficient. nmesh = (37, 33, 10); avg_np = 548. Boosting bin refine factor - should lead to better performance\n",
      "In gridlink_mocks_double> Running with [nmesh_x, nmesh_y, nmesh_z]  = 56,50,10.  Time taken =   0.075 sec\n",
      "In gridlink_mocks_double> Running with [nmesh_x, nmesh_y, nmesh_z]  = 56,50,10.  Time taken =   1.104 sec\n",
      "0%.........10%.........20%.........30%.........40%.........50%.........60%.........70%.........80%.........90%.........100% done. Time taken =    93 secs\n"
     ]
    },
    {
     "name": "stdout",
     "output_type": "stream",
     "text": [
      "5 / 25\n"
     ]
    },
    {
     "name": "stderr",
     "output_type": "stream",
     "text": [
      "In gridlink_mocks_double> Running with [nmesh_x, nmesh_y, nmesh_z]  = 37,33,10.  Time taken =   0.004 sec\n",
      "In gridlink_mocks_double> Running with [nmesh_x, nmesh_y, nmesh_z]  = 37,33,10.  Time taken =   0.048 sec\n",
      "0%.........10%.........20%.........30%.........40%.........50%.........60%.........70%.........80%.........90%.........100% done. Time taken =  0.035 secs\n",
      "In gridlink_mocks_double> Running with [nmesh_x, nmesh_y, nmesh_z]  = 37,33,10.  Time taken =   0.003 sec\n",
      "countpairs_mocks_double> gridlink seems inefficient. nmesh = (37, 33, 10); avg_np = 579. Boosting bin refine factor - should lead to better performance\n",
      "In gridlink_mocks_double> Running with [nmesh_x, nmesh_y, nmesh_z]  = 56,50,10.  Time taken =   0.006 sec\n",
      "In gridlink_mocks_double> Running with [nmesh_x, nmesh_y, nmesh_z]  = 56,50,10.  Time taken =   1.132 sec\n",
      "0%.........10%.........20%.........30%.........40%.........50%.........60%.........70%.........80%.........90%.........100% done. Time taken =  0.277 secs\n",
      "In gridlink_mocks_double> Running with [nmesh_x, nmesh_y, nmesh_z]  = 37,33,10.  Time taken =   0.042 sec\n",
      "In gridlink_mocks_double> Running with [nmesh_x, nmesh_y, nmesh_z]  = 37,33,10.  Time taken =   0.095 sec\n",
      "0%.........10%.........20%.........30%.........40%.........50%.........60%.........70%.........80%.........90%.........100% done. Time taken =  3.681 secs\n",
      "In gridlink_mocks_double> Running with [nmesh_x, nmesh_y, nmesh_z]  = 37,33,10.  Time taken =   0.091 sec\n",
      "countpairs_mocks_double> gridlink seems inefficient. nmesh = (37, 33, 10); avg_np = 579. Boosting bin refine factor - should lead to better performance\n",
      "In gridlink_mocks_double> Running with [nmesh_x, nmesh_y, nmesh_z]  = 56,50,10.  Time taken =   0.071 sec\n",
      "In gridlink_mocks_double> Running with [nmesh_x, nmesh_y, nmesh_z]  = 56,50,10.  Time taken =   1.135 sec\n",
      "0%.........10%.........20%.........30%.........40%.........50%.........60%.........70%.........80%.........90%.........100% done. Time taken =    95 secs\n"
     ]
    },
    {
     "name": "stdout",
     "output_type": "stream",
     "text": [
      "6 / 25\n"
     ]
    },
    {
     "name": "stderr",
     "output_type": "stream",
     "text": [
      "In gridlink_mocks_double> Running with [nmesh_x, nmesh_y, nmesh_z]  = 37,33,10.  Time taken =   0.005 sec\n",
      "In gridlink_mocks_double> Running with [nmesh_x, nmesh_y, nmesh_z]  = 37,33,10.  Time taken =   0.046 sec\n",
      "0%.........10%.........20%.........30%.........40%.........50%.........60%.........70%.........80%.........90%.........100% done. Time taken =  0.039 secs\n",
      "In gridlink_mocks_double> Running with [nmesh_x, nmesh_y, nmesh_z]  = 37,33,10.  Time taken =   0.003 sec\n",
      "countpairs_mocks_double> gridlink seems inefficient. nmesh = (37, 33, 10); avg_np = 579. Boosting bin refine factor - should lead to better performance\n",
      "In gridlink_mocks_double> Running with [nmesh_x, nmesh_y, nmesh_z]  = 56,50,10.  Time taken =   0.006 sec\n",
      "In gridlink_mocks_double> Running with [nmesh_x, nmesh_y, nmesh_z]  = 56,50,10.  Time taken =   1.110 sec\n",
      "0%.........10%.........20%.........30%.........40%.........50%.........60%.........70%.........80%.........90%.........100% done. Time taken =  0.258 secs\n",
      "In gridlink_mocks_double> Running with [nmesh_x, nmesh_y, nmesh_z]  = 37,33,10.  Time taken =   0.045 sec\n",
      "In gridlink_mocks_double> Running with [nmesh_x, nmesh_y, nmesh_z]  = 37,33,10.  Time taken =   0.097 sec\n",
      "0%.........10%.........20%.........30%.........40%.........50%.........60%.........70%.........80%.........90%.........100% done. Time taken =  3.858 secs\n",
      "In gridlink_mocks_double> Running with [nmesh_x, nmesh_y, nmesh_z]  = 37,33,10.  Time taken =   0.090 sec\n",
      "countpairs_mocks_double> gridlink seems inefficient. nmesh = (37, 33, 10); avg_np = 579. Boosting bin refine factor - should lead to better performance\n",
      "In gridlink_mocks_double> Running with [nmesh_x, nmesh_y, nmesh_z]  = 56,50,10.  Time taken =   0.092 sec\n",
      "In gridlink_mocks_double> Running with [nmesh_x, nmesh_y, nmesh_z]  = 56,50,10.  Time taken =   1.181 sec\n",
      "0%.........10%.........20%.........30%.........40%.........50%.........60%.........70%.........80%.........90%.........100% done. Time taken =    93 secs\n"
     ]
    },
    {
     "name": "stdout",
     "output_type": "stream",
     "text": [
      "7 / 25\n"
     ]
    },
    {
     "name": "stderr",
     "output_type": "stream",
     "text": [
      "In gridlink_mocks_double> Running with [nmesh_x, nmesh_y, nmesh_z]  = 37,33,10.  Time taken =   0.004 sec\n",
      "In gridlink_mocks_double> Running with [nmesh_x, nmesh_y, nmesh_z]  = 37,33,10.  Time taken =   0.044 sec\n",
      "0%.........10%.........20%.........30%.........40%.........50%.........60%.........70%.........80%.........90%.........100% done. Time taken =  0.042 secs\n",
      "In gridlink_mocks_double> Running with [nmesh_x, nmesh_y, nmesh_z]  = 37,33,10.  Time taken =   0.003 sec\n",
      "countpairs_mocks_double> gridlink seems inefficient. nmesh = (37, 33, 10); avg_np = 579. Boosting bin refine factor - should lead to better performance\n",
      "In gridlink_mocks_double> Running with [nmesh_x, nmesh_y, nmesh_z]  = 56,50,10.  Time taken =   0.006 sec\n",
      "In gridlink_mocks_double> Running with [nmesh_x, nmesh_y, nmesh_z]  = 56,50,10.  Time taken =   1.104 sec\n",
      "0%.........10%.........20%.........30%.........40%.........50%.........60%.........70%.........80%.........90%.........100% done. Time taken =  0.263 secs\n",
      "In gridlink_mocks_double> Running with [nmesh_x, nmesh_y, nmesh_z]  = 37,33,10.  Time taken =   0.046 sec\n",
      "In gridlink_mocks_double> Running with [nmesh_x, nmesh_y, nmesh_z]  = 37,33,10.  Time taken =   0.111 sec\n",
      "0%.........10%.........20%.........30%.........40%.........50%.........60%.........70%.........80%.........90%.........100% done. Time taken =  3.961 secs\n",
      "In gridlink_mocks_double> Running with [nmesh_x, nmesh_y, nmesh_z]  = 37,33,10.  Time taken =   0.088 sec\n",
      "countpairs_mocks_double> gridlink seems inefficient. nmesh = (37, 33, 10); avg_np = 579. Boosting bin refine factor - should lead to better performance\n",
      "In gridlink_mocks_double> Running with [nmesh_x, nmesh_y, nmesh_z]  = 56,50,10.  Time taken =   0.075 sec\n",
      "In gridlink_mocks_double> Running with [nmesh_x, nmesh_y, nmesh_z]  = 56,50,10.  Time taken =   1.163 sec\n",
      "0%.........10%.........20%.........30%.........40%.........50%.........60%.........70%.........80%.........90%.........100% done. Time taken =    93 secs\n"
     ]
    },
    {
     "name": "stdout",
     "output_type": "stream",
     "text": [
      "8 / 25\n"
     ]
    },
    {
     "name": "stderr",
     "output_type": "stream",
     "text": [
      "In gridlink_mocks_double> Running with [nmesh_x, nmesh_y, nmesh_z]  = 37,33,10.  Time taken =   0.005 sec\n",
      "In gridlink_mocks_double> Running with [nmesh_x, nmesh_y, nmesh_z]  = 37,33,10.  Time taken =   0.051 sec\n",
      "0%.........10%.........20%.........30%.........40%.........50%.........60%.........70%.........80%.........90%.........100% done. Time taken =  0.034 secs\n",
      "In gridlink_mocks_double> Running with [nmesh_x, nmesh_y, nmesh_z]  = 37,33,10.  Time taken =   0.006 sec\n",
      "countpairs_mocks_double> gridlink seems inefficient. nmesh = (37, 33, 10); avg_np = 555. Boosting bin refine factor - should lead to better performance\n",
      "In gridlink_mocks_double> Running with [nmesh_x, nmesh_y, nmesh_z]  = 56,50,10.  Time taken =   0.008 sec\n",
      "In gridlink_mocks_double> Running with [nmesh_x, nmesh_y, nmesh_z]  = 56,50,10.  Time taken =   1.176 sec\n",
      "0%.........10%.........20%.........30%.........40%.........50%.........60%.........70%.........80%.........90%.........100% done. Time taken =  0.288 secs\n",
      "In gridlink_mocks_double> Running with [nmesh_x, nmesh_y, nmesh_z]  = 37,33,10.  Time taken =   0.057 sec\n",
      "In gridlink_mocks_double> Running with [nmesh_x, nmesh_y, nmesh_z]  = 37,33,10.  Time taken =   0.115 sec\n",
      "0%.........10%.........20%.........30%.........40%.........50%.........60%.........70%.........80%.........90%.........100% done. Time taken =  4.000 secs\n",
      "In gridlink_mocks_double> Running with [nmesh_x, nmesh_y, nmesh_z]  = 37,33,10.  Time taken =   0.093 sec\n",
      "countpairs_mocks_double> gridlink seems inefficient. nmesh = (37, 33, 10); avg_np = 555. Boosting bin refine factor - should lead to better performance\n",
      "In gridlink_mocks_double> Running with [nmesh_x, nmesh_y, nmesh_z]  = 56,50,10.  Time taken =   0.081 sec\n",
      "In gridlink_mocks_double> Running with [nmesh_x, nmesh_y, nmesh_z]  = 56,50,10.  Time taken =   1.227 sec\n",
      "0%.........10%.........20%.........30%.........40%.........50%.........60%.........70%.........80%.........90%.........100% done. Time taken =    90 secs\n"
     ]
    },
    {
     "name": "stdout",
     "output_type": "stream",
     "text": [
      "9 / 25\n"
     ]
    },
    {
     "name": "stderr",
     "output_type": "stream",
     "text": [
      "In gridlink_mocks_double> Running with [nmesh_x, nmesh_y, nmesh_z]  = 37,33,10.  Time taken =   0.005 sec\n",
      "In gridlink_mocks_double> Running with [nmesh_x, nmesh_y, nmesh_z]  = 37,33,10.  Time taken =   0.048 sec\n",
      "0%.........10%.........20%.........30%.........40%.........50%.........60%.........70%.........80%.........90%.........100% done. Time taken =  0.038 secs\n",
      "In gridlink_mocks_double> Running with [nmesh_x, nmesh_y, nmesh_z]  = 37,33,10.  Time taken =   0.003 sec\n",
      "countpairs_mocks_double> gridlink seems inefficient. nmesh = (37, 33, 10); avg_np = 541. Boosting bin refine factor - should lead to better performance\n",
      "In gridlink_mocks_double> Running with [nmesh_x, nmesh_y, nmesh_z]  = 56,50,10.  Time taken =   0.006 sec\n",
      "In gridlink_mocks_double> Running with [nmesh_x, nmesh_y, nmesh_z]  = 56,50,10.  Time taken =   1.123 sec\n",
      "0%.........10%.........20%.........30%.........40%.........50%.........60%.........70%.........80%.........90%.........100% done. Time taken =  0.231 secs\n",
      "In gridlink_mocks_double> Running with [nmesh_x, nmesh_y, nmesh_z]  = 37,33,10.  Time taken =   0.043 sec\n",
      "In gridlink_mocks_double> Running with [nmesh_x, nmesh_y, nmesh_z]  = 37,33,10.  Time taken =   0.093 sec\n",
      "0%.........10%.........20%.........30%.........40%.........50%.........60%.........70%.........80%.........90%.........100% done. Time taken =  3.790 secs\n",
      "In gridlink_mocks_double> Running with [nmesh_x, nmesh_y, nmesh_z]  = 37,33,10.  Time taken =   0.100 sec\n",
      "countpairs_mocks_double> gridlink seems inefficient. nmesh = (37, 33, 10); avg_np = 541. Boosting bin refine factor - should lead to better performance\n",
      "In gridlink_mocks_double> Running with [nmesh_x, nmesh_y, nmesh_z]  = 56,50,10.  Time taken =   0.071 sec\n",
      "In gridlink_mocks_double> Running with [nmesh_x, nmesh_y, nmesh_z]  = 56,50,10.  Time taken =   1.106 sec\n",
      "0%.........10%.........20%.........30%.........40%.........50%.........60%.........70%.........80%.........90%.........100% done. Time taken =    92 secs\n"
     ]
    },
    {
     "name": "stdout",
     "output_type": "stream",
     "text": [
      "10 / 25\n"
     ]
    },
    {
     "name": "stderr",
     "output_type": "stream",
     "text": [
      "In gridlink_mocks_double> Running with [nmesh_x, nmesh_y, nmesh_z]  = 37,33,10.  Time taken =   0.005 sec\n",
      "In gridlink_mocks_double> Running with [nmesh_x, nmesh_y, nmesh_z]  = 37,33,10.  Time taken =   0.045 sec\n",
      "0%.........10%.........20%.........30%.........40%.........50%.........60%.........70%.........80%.........90%.........100% done. Time taken =  0.040 secs\n",
      "In gridlink_mocks_double> Running with [nmesh_x, nmesh_y, nmesh_z]  = 37,33,10.  Time taken =   0.003 sec\n",
      "countpairs_mocks_double> gridlink seems inefficient. nmesh = (37, 33, 10); avg_np = 573. Boosting bin refine factor - should lead to better performance\n",
      "In gridlink_mocks_double> Running with [nmesh_x, nmesh_y, nmesh_z]  = 56,50,10.  Time taken =   0.006 sec\n",
      "In gridlink_mocks_double> Running with [nmesh_x, nmesh_y, nmesh_z]  = 56,50,10.  Time taken =   1.111 sec\n",
      "0%.........10%.........20%.........30%.........40%.........50%.........60%.........70%.........80%.........90%.........100% done. Time taken =  0.266 secs\n",
      "In gridlink_mocks_double> Running with [nmesh_x, nmesh_y, nmesh_z]  = 37,33,10.  Time taken =   0.045 sec\n",
      "In gridlink_mocks_double> Running with [nmesh_x, nmesh_y, nmesh_z]  = 37,33,10.  Time taken =   0.094 sec\n",
      "0%.........10%.........20%.........30%.........40%.........50%.........60%.........70%.........80%.........90%.........100% done. Time taken =  3.895 secs\n",
      "In gridlink_mocks_double> Running with [nmesh_x, nmesh_y, nmesh_z]  = 37,33,10.  Time taken =   0.092 sec\n",
      "countpairs_mocks_double> gridlink seems inefficient. nmesh = (37, 33, 10); avg_np = 573. Boosting bin refine factor - should lead to better performance\n",
      "In gridlink_mocks_double> Running with [nmesh_x, nmesh_y, nmesh_z]  = 56,50,10.  Time taken =   0.071 sec\n",
      "In gridlink_mocks_double> Running with [nmesh_x, nmesh_y, nmesh_z]  = 56,50,10.  Time taken =   1.142 sec\n",
      "0%.........10%.........20%.........30%.........40%.........50%.........60%.........70%.........80%.........90%.........100% done. Time taken =    93 secs\n"
     ]
    },
    {
     "name": "stdout",
     "output_type": "stream",
     "text": [
      "11 / 25\n"
     ]
    },
    {
     "name": "stderr",
     "output_type": "stream",
     "text": [
      "In gridlink_mocks_double> Running with [nmesh_x, nmesh_y, nmesh_z]  = 37,33,10.  Time taken =   0.003 sec\n",
      "In gridlink_mocks_double> Running with [nmesh_x, nmesh_y, nmesh_z]  = 37,33,10.  Time taken =   0.038 sec\n",
      "0%.........10%.........20%.........30%.........40%.........50%.........60%.........70%.........80%.........90%.........100% done. Time taken =  0.035 secs\n",
      "In gridlink_mocks_double> Running with [nmesh_x, nmesh_y, nmesh_z]  = 37,33,10.  Time taken =   0.004 sec\n",
      "countpairs_mocks_double> gridlink seems inefficient. nmesh = (37, 33, 10); avg_np = 579. Boosting bin refine factor - should lead to better performance\n",
      "In gridlink_mocks_double> Running with [nmesh_x, nmesh_y, nmesh_z]  = 56,50,10.  Time taken =   0.006 sec\n",
      "In gridlink_mocks_double> Running with [nmesh_x, nmesh_y, nmesh_z]  = 56,50,10.  Time taken =   1.134 sec\n",
      "0%.........10%.........20%.........30%.........40%.........50%.........60%.........70%.........80%.........90%.........100% done. Time taken =  0.242 secs\n",
      "In gridlink_mocks_double> Running with [nmesh_x, nmesh_y, nmesh_z]  = 37,33,10.  Time taken =   0.043 sec\n",
      "In gridlink_mocks_double> Running with [nmesh_x, nmesh_y, nmesh_z]  = 37,33,10.  Time taken =   0.096 sec\n",
      "0%.........10%.........20%.........30%.........40%.........50%.........60%.........70%.........80%.........90%.........100% done. Time taken =  3.649 secs\n",
      "In gridlink_mocks_double> Running with [nmesh_x, nmesh_y, nmesh_z]  = 37,33,10.  Time taken =   0.092 sec\n",
      "countpairs_mocks_double> gridlink seems inefficient. nmesh = (37, 33, 10); avg_np = 579. Boosting bin refine factor - should lead to better performance\n",
      "In gridlink_mocks_double> Running with [nmesh_x, nmesh_y, nmesh_z]  = 56,50,10.  Time taken =   0.072 sec\n",
      "In gridlink_mocks_double> Running with [nmesh_x, nmesh_y, nmesh_z]  = 56,50,10.  Time taken =   1.160 sec\n",
      "0%.........10%.........20%.........30%.........40%.........50%.........60%.........70%.........80%.........90%.........100% done. Time taken =    94 secs\n"
     ]
    },
    {
     "name": "stdout",
     "output_type": "stream",
     "text": [
      "12 / 25\n"
     ]
    },
    {
     "name": "stderr",
     "output_type": "stream",
     "text": [
      "In gridlink_mocks_double> Running with [nmesh_x, nmesh_y, nmesh_z]  = 37,33,10.  Time taken =   0.005 sec\n",
      "In gridlink_mocks_double> Running with [nmesh_x, nmesh_y, nmesh_z]  = 37,33,10.  Time taken =   0.046 sec\n",
      "0%.........10%.........20%.........30%.........40%.........50%.........60%.........70%.........80%.........90%.........100% done. Time taken =  0.040 secs\n",
      "In gridlink_mocks_double> Running with [nmesh_x, nmesh_y, nmesh_z]  = 37,33,10.  Time taken =   0.003 sec\n",
      "countpairs_mocks_double> gridlink seems inefficient. nmesh = (37, 33, 10); avg_np = 579. Boosting bin refine factor - should lead to better performance\n",
      "In gridlink_mocks_double> Running with [nmesh_x, nmesh_y, nmesh_z]  = 56,50,10.  Time taken =   0.006 sec\n",
      "In gridlink_mocks_double> Running with [nmesh_x, nmesh_y, nmesh_z]  = 56,50,10.  Time taken =   1.117 sec\n",
      "0%.........10%.........20%.........30%.........40%.........50%.........60%.........70%.........80%.........90%.........100% done. Time taken =  0.238 secs\n",
      "In gridlink_mocks_double> Running with [nmesh_x, nmesh_y, nmesh_z]  = 37,33,10.  Time taken =   0.043 sec\n",
      "In gridlink_mocks_double> Running with [nmesh_x, nmesh_y, nmesh_z]  = 37,33,10.  Time taken =   0.095 sec\n",
      "0%.........10%.........20%.........30%.........40%.........50%.........60%.........70%.........80%.........90%.........100% done. Time taken =  3.565 secs\n",
      "In gridlink_mocks_double> Running with [nmesh_x, nmesh_y, nmesh_z]  = 37,33,10.  Time taken =   0.095 sec\n",
      "countpairs_mocks_double> gridlink seems inefficient. nmesh = (37, 33, 10); avg_np = 579. Boosting bin refine factor - should lead to better performance\n",
      "In gridlink_mocks_double> Running with [nmesh_x, nmesh_y, nmesh_z]  = 56,50,10.  Time taken =   0.075 sec\n",
      "In gridlink_mocks_double> Running with [nmesh_x, nmesh_y, nmesh_z]  = 56,50,10.  Time taken =   1.164 sec\n",
      "0%.........10%.........20%.........30%.........40%.........50%.........60%.........70%.........80%.........90%.........100% done. Time taken =    97 secs\n"
     ]
    },
    {
     "name": "stdout",
     "output_type": "stream",
     "text": [
      "13 / 25\n"
     ]
    },
    {
     "name": "stderr",
     "output_type": "stream",
     "text": [
      "In gridlink_mocks_double> Running with [nmesh_x, nmesh_y, nmesh_z]  = 36,33,10.  Time taken =   0.003 sec\n",
      "In gridlink_mocks_double> Running with [nmesh_x, nmesh_y, nmesh_z]  = 36,33,10.  Time taken =   0.033 sec\n",
      "0%.........10%.........20%.........30%.........40%.........50%.........60%.........70%.........80%.........90%.........100% done. Time taken =  0.035 secs\n",
      "In gridlink_mocks_double> Running with [nmesh_x, nmesh_y, nmesh_z]  = 36,33,10.  Time taken =   0.003 sec\n",
      "countpairs_mocks_double> gridlink seems inefficient. nmesh = (36, 33, 10); avg_np = 515. Boosting bin refine factor - should lead to better performance\n",
      "In gridlink_mocks_double> Running with [nmesh_x, nmesh_y, nmesh_z]  = 55,50,10.  Time taken =   0.006 sec\n",
      "In gridlink_mocks_double> Running with [nmesh_x, nmesh_y, nmesh_z]  = 55,50,10.  Time taken =   1.026 sec\n",
      "0%.........10%.........20%.........30%.........40%.........50%.........60%.........70%.........80%.........90%.........100% done. Time taken =  0.221 secs\n",
      "In gridlink_mocks_double> Running with [nmesh_x, nmesh_y, nmesh_z]  = 36,33,10.  Time taken =   0.039 sec\n",
      "In gridlink_mocks_double> Running with [nmesh_x, nmesh_y, nmesh_z]  = 36,33,10.  Time taken =   0.115 sec\n",
      "0%.........10%.........20%.........30%.........40%.........50%.........60%.........70%.........80%.........90%.........100% done. Time taken =  3.830 secs\n",
      "In gridlink_mocks_double> Running with [nmesh_x, nmesh_y, nmesh_z]  = 36,33,10.  Time taken =   0.094 sec\n",
      "countpairs_mocks_double> gridlink seems inefficient. nmesh = (36, 33, 10); avg_np = 515. Boosting bin refine factor - should lead to better performance\n",
      "In gridlink_mocks_double> Running with [nmesh_x, nmesh_y, nmesh_z]  = 55,50,10.  Time taken =   0.080 sec\n",
      "In gridlink_mocks_double> Running with [nmesh_x, nmesh_y, nmesh_z]  = 55,50,10.  Time taken =   1.026 sec\n",
      "0%.........10%.........20%.........30%.........40%.........50%.........60%.........70%.........80%.........90%.........100% done. Time taken =    95 secs\n"
     ]
    },
    {
     "name": "stdout",
     "output_type": "stream",
     "text": [
      "14 / 25\n"
     ]
    },
    {
     "name": "stderr",
     "output_type": "stream",
     "text": [
      "In gridlink_mocks_double> Running with [nmesh_x, nmesh_y, nmesh_z]  = 37,33,10.  Time taken =   0.006 sec\n",
      "In gridlink_mocks_double> Running with [nmesh_x, nmesh_y, nmesh_z]  = 37,33,10.  Time taken =   0.040 sec\n",
      "0%.........10%.........20%.........30%.........40%.........50%.........60%.........70%.........80%.........90%.........100% done. Time taken =  0.028 secs\n",
      "In gridlink_mocks_double> Running with [nmesh_x, nmesh_y, nmesh_z]  = 37,33,10.  Time taken =   0.003 sec\n",
      "countpairs_mocks_double> gridlink seems inefficient. nmesh = (37, 33, 10); avg_np = 460. Boosting bin refine factor - should lead to better performance\n",
      "In gridlink_mocks_double> Running with [nmesh_x, nmesh_y, nmesh_z]  = 56,50,10.  Time taken =   0.006 sec\n",
      "In gridlink_mocks_double> Running with [nmesh_x, nmesh_y, nmesh_z]  = 56,50,10.  Time taken =   0.939 sec\n",
      "0%.........10%.........20%.........30%.........40%.........50%.........60%.........70%.........80%.........90%.........100% done. Time taken =  0.216 secs\n",
      "In gridlink_mocks_double> Running with [nmesh_x, nmesh_y, nmesh_z]  = 37,33,10.  Time taken =   0.039 sec\n",
      "In gridlink_mocks_double> Running with [nmesh_x, nmesh_y, nmesh_z]  = 37,33,10.  Time taken =   0.100 sec\n",
      "0%.........10%.........20%.........30%.........40%.........50%.........60%.........70%.........80%.........90%.........100% done. Time taken =  3.745 secs\n",
      "In gridlink_mocks_double> Running with [nmesh_x, nmesh_y, nmesh_z]  = 37,33,10.  Time taken =   0.094 sec\n",
      "countpairs_mocks_double> gridlink seems inefficient. nmesh = (37, 33, 10); avg_np = 460. Boosting bin refine factor - should lead to better performance\n",
      "In gridlink_mocks_double> Running with [nmesh_x, nmesh_y, nmesh_z]  = 56,50,10.  Time taken =   0.092 sec\n",
      "In gridlink_mocks_double> Running with [nmesh_x, nmesh_y, nmesh_z]  = 56,50,10.  Time taken =   0.913 sec\n",
      "0%.........10%.........20%.........30%.........40%.........50%.........60%.........70%.........80%.........90%.........100% done. Time taken =    93 secs\n"
     ]
    },
    {
     "name": "stdout",
     "output_type": "stream",
     "text": [
      "15 / 25\n"
     ]
    },
    {
     "name": "stderr",
     "output_type": "stream",
     "text": [
      "In gridlink_mocks_double> Running with [nmesh_x, nmesh_y, nmesh_z]  = 37,33,10.  Time taken =   0.003 sec\n",
      "In gridlink_mocks_double> Running with [nmesh_x, nmesh_y, nmesh_z]  = 37,33,10.  Time taken =   0.037 sec\n",
      "0%.........10%.........20%.........30%.........40%.........50%.........60%.........70%.........80%.........90%.........100% done. Time taken =  0.038 secs\n",
      "In gridlink_mocks_double> Running with [nmesh_x, nmesh_y, nmesh_z]  = 37,33,10.  Time taken =   0.006 sec\n",
      "countpairs_mocks_double> gridlink seems inefficient. nmesh = (37, 33, 10); avg_np = 550. Boosting bin refine factor - should lead to better performance\n",
      "In gridlink_mocks_double> Running with [nmesh_x, nmesh_y, nmesh_z]  = 56,50,10.  Time taken =   0.009 sec\n",
      "In gridlink_mocks_double> Running with [nmesh_x, nmesh_y, nmesh_z]  = 56,50,10.  Time taken =   1.149 sec\n",
      "0%.........10%.........20%.........30%.........40%.........50%.........60%.........70%.........80%.........90%.........100% done. Time taken =  0.262 secs\n",
      "In gridlink_mocks_double> Running with [nmesh_x, nmesh_y, nmesh_z]  = 37,33,10.  Time taken =   0.042 sec\n",
      "In gridlink_mocks_double> Running with [nmesh_x, nmesh_y, nmesh_z]  = 37,33,10.  Time taken =   0.118 sec\n",
      "0%.........10%.........20%.........30%.........40%.........50%.........60%.........70%.........80%.........90%.........100% done. Time taken =  3.906 secs\n",
      "In gridlink_mocks_double> Running with [nmesh_x, nmesh_y, nmesh_z]  = 37,33,10.  Time taken =   0.088 sec\n",
      "countpairs_mocks_double> gridlink seems inefficient. nmesh = (37, 33, 10); avg_np = 550. Boosting bin refine factor - should lead to better performance\n",
      "In gridlink_mocks_double> Running with [nmesh_x, nmesh_y, nmesh_z]  = 56,50,10.  Time taken =   0.089 sec\n",
      "In gridlink_mocks_double> Running with [nmesh_x, nmesh_y, nmesh_z]  = 56,50,10.  Time taken =   1.082 sec\n",
      "0%.........10%.........20%.........30%.........40%.........50%.........60%.........70%.........80%.........90%.........100% done. Time taken =    92 secs\n"
     ]
    },
    {
     "name": "stdout",
     "output_type": "stream",
     "text": [
      "16 / 25\n"
     ]
    },
    {
     "name": "stderr",
     "output_type": "stream",
     "text": [
      "In gridlink_mocks_double> Running with [nmesh_x, nmesh_y, nmesh_z]  = 37,33,10.  Time taken =   0.005 sec\n",
      "In gridlink_mocks_double> Running with [nmesh_x, nmesh_y, nmesh_z]  = 37,33,10.  Time taken =   0.047 sec\n",
      "0%.........10%.........20%.........30%.........40%.........50%.........60%.........70%.........80%.........90%.........100% done. Time taken =  0.040 secs\n",
      "In gridlink_mocks_double> Running with [nmesh_x, nmesh_y, nmesh_z]  = 37,33,10.  Time taken =   0.003 sec\n",
      "countpairs_mocks_double> gridlink seems inefficient. nmesh = (37, 33, 10); avg_np = 579. Boosting bin refine factor - should lead to better performance\n",
      "In gridlink_mocks_double> Running with [nmesh_x, nmesh_y, nmesh_z]  = 56,50,10.  Time taken =   0.006 sec\n",
      "In gridlink_mocks_double> Running with [nmesh_x, nmesh_y, nmesh_z]  = 56,50,10.  Time taken =   1.145 sec\n",
      "0%.........10%.........20%.........30%.........40%.........50%.........60%.........70%.........80%.........90%.........100% done. Time taken =  0.272 secs\n",
      "In gridlink_mocks_double> Running with [nmesh_x, nmesh_y, nmesh_z]  = 37,33,10.  Time taken =   0.071 sec\n",
      "In gridlink_mocks_double> Running with [nmesh_x, nmesh_y, nmesh_z]  = 37,33,10.  Time taken =   0.119 sec\n",
      "0%.........10%.........20%.........30%.........40%.........50%.........60%.........70%.........80%.........90%.........100% done. Time taken =  3.891 secs\n",
      "In gridlink_mocks_double> Running with [nmesh_x, nmesh_y, nmesh_z]  = 37,33,10.  Time taken =   0.091 sec\n",
      "countpairs_mocks_double> gridlink seems inefficient. nmesh = (37, 33, 10); avg_np = 579. Boosting bin refine factor - should lead to better performance\n",
      "In gridlink_mocks_double> Running with [nmesh_x, nmesh_y, nmesh_z]  = 56,50,10.  Time taken =   0.070 sec\n",
      "In gridlink_mocks_double> Running with [nmesh_x, nmesh_y, nmesh_z]  = 56,50,10.  Time taken =   1.184 sec\n",
      "0%.........10%.........20%.........30%.........40%.........50%.........60%.........70%.........80%.........90%.........100% done. Time taken =    92 secs\n"
     ]
    },
    {
     "name": "stdout",
     "output_type": "stream",
     "text": [
      "17 / 25\n"
     ]
    },
    {
     "name": "stderr",
     "output_type": "stream",
     "text": [
      "In gridlink_mocks_double> Running with [nmesh_x, nmesh_y, nmesh_z]  = 37,33,10.  Time taken =   0.004 sec\n",
      "In gridlink_mocks_double> Running with [nmesh_x, nmesh_y, nmesh_z]  = 37,33,10.  Time taken =   0.046 sec\n",
      "0%.........10%.........20%.........30%.........40%.........50%.........60%.........70%.........80%.........90%.........100% done. Time taken =  0.041 secs\n",
      "In gridlink_mocks_double> Running with [nmesh_x, nmesh_y, nmesh_z]  = 37,33,10.  Time taken =   0.004 sec\n",
      "countpairs_mocks_double> gridlink seems inefficient. nmesh = (37, 33, 10); avg_np = 579. Boosting bin refine factor - should lead to better performance\n",
      "In gridlink_mocks_double> Running with [nmesh_x, nmesh_y, nmesh_z]  = 56,50,10.  Time taken =   0.006 sec\n",
      "In gridlink_mocks_double> Running with [nmesh_x, nmesh_y, nmesh_z]  = 56,50,10.  Time taken =   1.111 sec\n",
      "0%.........10%.........20%.........30%.........40%.........50%.........60%.........70%.........80%.........90%.........100% done. Time taken =  0.253 secs\n",
      "In gridlink_mocks_double> Running with [nmesh_x, nmesh_y, nmesh_z]  = 37,33,10.  Time taken =   0.046 sec\n",
      "In gridlink_mocks_double> Running with [nmesh_x, nmesh_y, nmesh_z]  = 37,33,10.  Time taken =   0.096 sec\n",
      "0%.........10%.........20%.........30%.........40%.........50%.........60%.........70%.........80%.........90%.........100% done. Time taken =  3.988 secs\n",
      "In gridlink_mocks_double> Running with [nmesh_x, nmesh_y, nmesh_z]  = 37,33,10.  Time taken =   0.115 sec\n",
      "countpairs_mocks_double> gridlink seems inefficient. nmesh = (37, 33, 10); avg_np = 579. Boosting bin refine factor - should lead to better performance\n",
      "In gridlink_mocks_double> Running with [nmesh_x, nmesh_y, nmesh_z]  = 56,50,10.  Time taken =   0.081 sec\n",
      "In gridlink_mocks_double> Running with [nmesh_x, nmesh_y, nmesh_z]  = 56,50,10.  Time taken =   1.198 sec\n",
      "0%.........10%.........20%.........30%.........40%.........50%.........60%.........70%.........80%.........90%.........100% done. Time taken =    92 secs\n"
     ]
    },
    {
     "name": "stdout",
     "output_type": "stream",
     "text": [
      "18 / 25\n"
     ]
    },
    {
     "name": "stderr",
     "output_type": "stream",
     "text": [
      "In gridlink_mocks_double> Running with [nmesh_x, nmesh_y, nmesh_z]  = 37,33,10.  Time taken =   0.006 sec\n",
      "In gridlink_mocks_double> Running with [nmesh_x, nmesh_y, nmesh_z]  = 37,33,10.  Time taken =   0.049 sec\n",
      "0%.........10%.........20%.........30%.........40%.........50%.........60%.........70%.........80%.........90%.........100% done. Time taken =  0.037 secs\n",
      "In gridlink_mocks_double> Running with [nmesh_x, nmesh_y, nmesh_z]  = 37,33,10.  Time taken =   0.003 sec\n",
      "countpairs_mocks_double> gridlink seems inefficient. nmesh = (37, 33, 10); avg_np = 545. Boosting bin refine factor - should lead to better performance\n",
      "In gridlink_mocks_double> Running with [nmesh_x, nmesh_y, nmesh_z]  = 56,50,10.  Time taken =   0.006 sec\n",
      "In gridlink_mocks_double> Running with [nmesh_x, nmesh_y, nmesh_z]  = 56,50,10.  Time taken =   1.072 sec\n",
      "0%.........10%.........20%.........30%.........40%.........50%.........60%.........70%.........80%.........90%.........100% done. Time taken =  0.262 secs\n",
      "In gridlink_mocks_double> Running with [nmesh_x, nmesh_y, nmesh_z]  = 37,33,10.  Time taken =   0.042 sec\n",
      "In gridlink_mocks_double> Running with [nmesh_x, nmesh_y, nmesh_z]  = 37,33,10.  Time taken =   0.098 sec\n",
      "0%.........10%.........20%.........30%.........40%.........50%.........60%.........70%.........80%.........90%.........100% done. Time taken =  3.649 secs\n",
      "In gridlink_mocks_double> Running with [nmesh_x, nmesh_y, nmesh_z]  = 37,33,10.  Time taken =   0.095 sec\n",
      "countpairs_mocks_double> gridlink seems inefficient. nmesh = (37, 33, 10); avg_np = 545. Boosting bin refine factor - should lead to better performance\n",
      "In gridlink_mocks_double> Running with [nmesh_x, nmesh_y, nmesh_z]  = 56,50,10.  Time taken =   0.089 sec\n",
      "In gridlink_mocks_double> Running with [nmesh_x, nmesh_y, nmesh_z]  = 56,50,10.  Time taken =   1.089 sec\n",
      "0%.........10%.........20%.........30%.........40%.........50%.........60%.........70%.........80%.........90%.........100% done. Time taken =    93 secs\n"
     ]
    },
    {
     "name": "stdout",
     "output_type": "stream",
     "text": [
      "19 / 25\n"
     ]
    },
    {
     "name": "stderr",
     "output_type": "stream",
     "text": [
      "In gridlink_mocks_double> Running with [nmesh_x, nmesh_y, nmesh_z]  = 37,33,10.  Time taken =   0.003 sec\n",
      "In gridlink_mocks_double> Running with [nmesh_x, nmesh_y, nmesh_z]  = 37,33,10.  Time taken =   0.032 sec\n",
      "0%.........10%.........20%.........30%.........40%.........50%.........60%.........70%.........80%.........90%.........100% done. Time taken =  0.033 secs\n",
      "In gridlink_mocks_double> Running with [nmesh_x, nmesh_y, nmesh_z]  = 37,33,10.  Time taken =   0.003 sec\n",
      "countpairs_mocks_double> gridlink seems inefficient. nmesh = (37, 33, 10); avg_np = 517. Boosting bin refine factor - should lead to better performance\n",
      "In gridlink_mocks_double> Running with [nmesh_x, nmesh_y, nmesh_z]  = 56,50,10.  Time taken =   0.006 sec\n",
      "In gridlink_mocks_double> Running with [nmesh_x, nmesh_y, nmesh_z]  = 56,50,10.  Time taken =   1.022 sec\n",
      "0%.........10%.........20%.........30%.........40%.........50%.........60%.........70%.........80%.........90%.........100% done. Time taken =  0.232 secs\n",
      "In gridlink_mocks_double> Running with [nmesh_x, nmesh_y, nmesh_z]  = 37,33,10.  Time taken =   0.041 sec\n",
      "In gridlink_mocks_double> Running with [nmesh_x, nmesh_y, nmesh_z]  = 37,33,10.  Time taken =   0.104 sec\n",
      "0%.........10%.........20%.........30%.........40%.........50%.........60%.........70%.........80%.........90%.........100% done. Time taken =  4.104 secs\n",
      "In gridlink_mocks_double> Running with [nmesh_x, nmesh_y, nmesh_z]  = 37,33,10.  Time taken =   0.098 sec\n",
      "countpairs_mocks_double> gridlink seems inefficient. nmesh = (37, 33, 10); avg_np = 517. Boosting bin refine factor - should lead to better performance\n",
      "In gridlink_mocks_double> Running with [nmesh_x, nmesh_y, nmesh_z]  = 56,50,10.  Time taken =   0.085 sec\n",
      "In gridlink_mocks_double> Running with [nmesh_x, nmesh_y, nmesh_z]  = 56,50,10.  Time taken =   1.036 sec\n",
      "0%.........10%.........20%.........30%.........40%.........50%.........60%.........70%.........80%.........90%.........100% done. Time taken =    93 secs\n"
     ]
    },
    {
     "name": "stdout",
     "output_type": "stream",
     "text": [
      "20 / 25\n"
     ]
    },
    {
     "name": "stderr",
     "output_type": "stream",
     "text": [
      "In gridlink_mocks_double> Running with [nmesh_x, nmesh_y, nmesh_z]  = 37,33,10.  Time taken =   0.005 sec\n",
      "In gridlink_mocks_double> Running with [nmesh_x, nmesh_y, nmesh_z]  = 37,33,10.  Time taken =   0.045 sec\n",
      "0%.........10%.........20%.........30%.........40%.........50%.........60%.........70%.........80%.........90%.........100% done. Time taken =  0.040 secs\n",
      "In gridlink_mocks_double> Running with [nmesh_x, nmesh_y, nmesh_z]  = 37,33,10.  Time taken =   0.003 sec\n",
      "countpairs_mocks_double> gridlink seems inefficient. nmesh = (37, 33, 10); avg_np = 571. Boosting bin refine factor - should lead to better performance\n",
      "In gridlink_mocks_double> Running with [nmesh_x, nmesh_y, nmesh_z]  = 56,50,10.  Time taken =   0.006 sec\n",
      "In gridlink_mocks_double> Running with [nmesh_x, nmesh_y, nmesh_z]  = 56,50,10.  Time taken =   1.217 sec\n",
      "0%.........10%.........20%.........30%.........40%.........50%.........60%.........70%.........80%.........90%.........100% done. Time taken =  0.285 secs\n",
      "In gridlink_mocks_double> Running with [nmesh_x, nmesh_y, nmesh_z]  = 37,33,10.  Time taken =   0.044 sec\n",
      "In gridlink_mocks_double> Running with [nmesh_x, nmesh_y, nmesh_z]  = 37,33,10.  Time taken =   0.102 sec\n",
      "0%.........10%.........20%.........30%.........40%.........50%.........60%.........70%.........80%.........90%.........100% done. Time taken =  3.848 secs\n",
      "In gridlink_mocks_double> Running with [nmesh_x, nmesh_y, nmesh_z]  = 37,33,10.  Time taken =   0.098 sec\n",
      "countpairs_mocks_double> gridlink seems inefficient. nmesh = (37, 33, 10); avg_np = 571. Boosting bin refine factor - should lead to better performance\n",
      "In gridlink_mocks_double> Running with [nmesh_x, nmesh_y, nmesh_z]  = 56,50,10.  Time taken =   0.071 sec\n",
      "In gridlink_mocks_double> Running with [nmesh_x, nmesh_y, nmesh_z]  = 56,50,10.  Time taken =   1.211 sec\n",
      "0%.........10%.........20%.........30%.........40%.........50%.........60%.........70%.........80%.........90%.........100% done. Time taken =    92 secs\n"
     ]
    },
    {
     "name": "stdout",
     "output_type": "stream",
     "text": [
      "21 / 25\n"
     ]
    },
    {
     "name": "stderr",
     "output_type": "stream",
     "text": [
      "In gridlink_mocks_double> Running with [nmesh_x, nmesh_y, nmesh_z]  = 37,33,10.  Time taken =   0.003 sec\n",
      "In gridlink_mocks_double> Running with [nmesh_x, nmesh_y, nmesh_z]  = 37,33,10.  Time taken =   0.038 sec\n",
      "0%.........10%.........20%.........30%.........40%.........50%.........60%.........70%.........80%.........90%.........100% done. Time taken =  0.039 secs\n",
      "In gridlink_mocks_double> Running with [nmesh_x, nmesh_y, nmesh_z]  = 37,33,10.  Time taken =   0.004 sec\n",
      "countpairs_mocks_double> gridlink seems inefficient. nmesh = (37, 33, 10); avg_np = 579. Boosting bin refine factor - should lead to better performance\n",
      "In gridlink_mocks_double> Running with [nmesh_x, nmesh_y, nmesh_z]  = 56,50,10.  Time taken =   0.008 sec\n",
      "In gridlink_mocks_double> Running with [nmesh_x, nmesh_y, nmesh_z]  = 56,50,10.  Time taken =   1.112 sec\n",
      "0%.........10%.........20%.........30%.........40%.........50%.........60%.........70%.........80%.........90%.........100% done. Time taken =  0.263 secs\n",
      "In gridlink_mocks_double> Running with [nmesh_x, nmesh_y, nmesh_z]  = 37,33,10.  Time taken =   0.045 sec\n",
      "In gridlink_mocks_double> Running with [nmesh_x, nmesh_y, nmesh_z]  = 37,33,10.  Time taken =   0.097 sec\n",
      "0%.........10%.........20%.........30%.........40%.........50%.........60%.........70%.........80%.........90%.........100% done. Time taken =  3.651 secs\n",
      "In gridlink_mocks_double> Running with [nmesh_x, nmesh_y, nmesh_z]  = 37,33,10.  Time taken =   0.087 sec\n",
      "countpairs_mocks_double> gridlink seems inefficient. nmesh = (37, 33, 10); avg_np = 579. Boosting bin refine factor - should lead to better performance\n",
      "In gridlink_mocks_double> Running with [nmesh_x, nmesh_y, nmesh_z]  = 56,50,10.  Time taken =   0.071 sec\n",
      "In gridlink_mocks_double> Running with [nmesh_x, nmesh_y, nmesh_z]  = 56,50,10.  Time taken =   1.112 sec\n",
      "0%.........10%.........20%.........30%.........40%.........50%.........60%.........70%.........80%.........90%.........100% done. Time taken =    89 secs\n"
     ]
    },
    {
     "name": "stdout",
     "output_type": "stream",
     "text": [
      "22 / 25\n"
     ]
    },
    {
     "name": "stderr",
     "output_type": "stream",
     "text": [
      "In gridlink_mocks_double> Running with [nmesh_x, nmesh_y, nmesh_z]  = 37,33,10.  Time taken =   0.005 sec\n",
      "In gridlink_mocks_double> Running with [nmesh_x, nmesh_y, nmesh_z]  = 37,33,10.  Time taken =   0.046 sec\n",
      "0%.........10%.........20%.........30%.........40%.........50%.........60%.........70%.........80%.........90%.........100% done. Time taken =  0.041 secs\n",
      "In gridlink_mocks_double> Running with [nmesh_x, nmesh_y, nmesh_z]  = 37,33,10.  Time taken =   0.003 sec\n",
      "countpairs_mocks_double> gridlink seems inefficient. nmesh = (37, 33, 10); avg_np = 579. Boosting bin refine factor - should lead to better performance\n",
      "In gridlink_mocks_double> Running with [nmesh_x, nmesh_y, nmesh_z]  = 56,50,10.  Time taken =   0.007 sec\n",
      "In gridlink_mocks_double> Running with [nmesh_x, nmesh_y, nmesh_z]  = 56,50,10.  Time taken =   1.122 sec\n",
      "0%.........10%.........20%.........30%.........40%.........50%.........60%.........70%.........80%.........90%.........100% done. Time taken =  0.238 secs\n",
      "In gridlink_mocks_double> Running with [nmesh_x, nmesh_y, nmesh_z]  = 37,33,10.  Time taken =   0.043 sec\n",
      "In gridlink_mocks_double> Running with [nmesh_x, nmesh_y, nmesh_z]  = 37,33,10.  Time taken =   0.096 sec\n",
      "0%.........10%.........20%.........30%.........40%.........50%.........60%.........70%.........80%.........90%.........100% done. Time taken =  3.534 secs\n",
      "In gridlink_mocks_double> Running with [nmesh_x, nmesh_y, nmesh_z]  = 37,33,10.  Time taken =   0.093 sec\n",
      "countpairs_mocks_double> gridlink seems inefficient. nmesh = (37, 33, 10); avg_np = 579. Boosting bin refine factor - should lead to better performance\n",
      "In gridlink_mocks_double> Running with [nmesh_x, nmesh_y, nmesh_z]  = 56,50,10.  Time taken =   0.072 sec\n",
      "In gridlink_mocks_double> Running with [nmesh_x, nmesh_y, nmesh_z]  = 56,50,10.  Time taken =   1.127 sec\n",
      "0%.........10%.........20%.........30%.........40%.........50%.........60%.........70%.........80%.........90%.........100% done. Time taken =    90 secs\n"
     ]
    },
    {
     "name": "stdout",
     "output_type": "stream",
     "text": [
      "23 / 25\n"
     ]
    },
    {
     "name": "stderr",
     "output_type": "stream",
     "text": [
      "In gridlink_mocks_double> Running with [nmesh_x, nmesh_y, nmesh_z]  = 37,33,10.  Time taken =   0.003 sec\n",
      "In gridlink_mocks_double> Running with [nmesh_x, nmesh_y, nmesh_z]  = 37,33,10.  Time taken =   0.034 sec\n",
      "0%.........10%.........20%.........30%.........40%.........50%.........60%.........70%.........80%.........90%.........100% done. Time taken =  0.033 secs\n",
      "In gridlink_mocks_double> Running with [nmesh_x, nmesh_y, nmesh_z]  = 37,33,10.  Time taken =   0.003 sec\n",
      "countpairs_mocks_double> gridlink seems inefficient. nmesh = (37, 33, 10); avg_np = 525. Boosting bin refine factor - should lead to better performance\n",
      "In gridlink_mocks_double> Running with [nmesh_x, nmesh_y, nmesh_z]  = 56,50,10.  Time taken =   0.006 sec\n",
      "In gridlink_mocks_double> Running with [nmesh_x, nmesh_y, nmesh_z]  = 56,50,10.  Time taken =   1.011 sec\n",
      "0%.........10%.........20%.........30%.........40%.........50%.........60%.........70%.........80%.........90%.........100% done. Time taken =  0.233 secs\n",
      "In gridlink_mocks_double> Running with [nmesh_x, nmesh_y, nmesh_z]  = 37,33,10.  Time taken =   0.039 sec\n",
      "In gridlink_mocks_double> Running with [nmesh_x, nmesh_y, nmesh_z]  = 37,33,10.  Time taken =   0.094 sec\n",
      "0%.........10%.........20%.........30%.........40%.........50%.........60%.........70%.........80%.........90%.........100% done. Time taken =  1.790 secs\n",
      "In gridlink_mocks_double> Running with [nmesh_x, nmesh_y, nmesh_z]  = 37,33,10.  Time taken =   0.085 sec\n",
      "countpairs_mocks_double> gridlink seems inefficient. nmesh = (37, 33, 10); avg_np = 525. Boosting bin refine factor - should lead to better performance\n",
      "In gridlink_mocks_double> Running with [nmesh_x, nmesh_y, nmesh_z]  = 56,50,10.  Time taken =   0.070 sec\n",
      "In gridlink_mocks_double> Running with [nmesh_x, nmesh_y, nmesh_z]  = 56,50,10.  Time taken =   1.006 sec\n",
      "0%.........10%.........20%.........30%.........40%.........50%.........60%.........70%.........80%.........90%.........100% done. Time taken = 49.373 secs\n"
     ]
    },
    {
     "name": "stdout",
     "output_type": "stream",
     "text": [
      "24 / 25\n"
     ]
    },
    {
     "name": "stderr",
     "output_type": "stream",
     "text": [
      "In gridlink_mocks_double> Running with [nmesh_x, nmesh_y, nmesh_z]  = 37,33,10.  Time taken =   0.005 sec\n",
      "In gridlink_mocks_double> Running with [nmesh_x, nmesh_y, nmesh_z]  = 37,33,10.  Time taken =   0.044 sec\n",
      "0%.........10%.........20%.........30%.........40%.........50%.........60%.........70%.........80%.........90%.........100% done. Time taken =  0.042 secs\n",
      "In gridlink_mocks_double> Running with [nmesh_x, nmesh_y, nmesh_z]  = 37,33,10.  Time taken =   0.003 sec\n",
      "countpairs_mocks_double> gridlink seems inefficient. nmesh = (37, 33, 10); avg_np = 552. Boosting bin refine factor - should lead to better performance\n",
      "In gridlink_mocks_double> Running with [nmesh_x, nmesh_y, nmesh_z]  = 56,50,10.  Time taken =   0.006 sec\n",
      "In gridlink_mocks_double> Running with [nmesh_x, nmesh_y, nmesh_z]  = 56,50,10.  Time taken =   1.065 sec\n",
      "0%.........10%.........20%.........30%.........40%.........50%.........60%.........70%.........80%.........90%.........100% done. Time taken =  0.233 secs\n",
      "In gridlink_mocks_double> Running with [nmesh_x, nmesh_y, nmesh_z]  = 37,33,10.  Time taken =   0.044 sec\n",
      "In gridlink_mocks_double> Running with [nmesh_x, nmesh_y, nmesh_z]  = 37,33,10.  Time taken =   0.097 sec\n",
      "0%.........10%.........20%.........30%.........40%.........50%.........60%.........70%.........80%.........90%.........100% done. Time taken =  3.526 secs\n",
      "In gridlink_mocks_double> Running with [nmesh_x, nmesh_y, nmesh_z]  = 37,33,10.  Time taken =   0.091 sec\n",
      "countpairs_mocks_double> gridlink seems inefficient. nmesh = (37, 33, 10); avg_np = 552. Boosting bin refine factor - should lead to better performance\n",
      "In gridlink_mocks_double> Running with [nmesh_x, nmesh_y, nmesh_z]  = 56,50,10.  Time taken =   0.071 sec\n",
      "In gridlink_mocks_double> Running with [nmesh_x, nmesh_y, nmesh_z]  = 56,50,10.  Time taken =   1.096 sec\n",
      "0%.........10%.........20%.........30%.........40%.........50%.........60%.........70%.........80%.........90%.........100% done. Time taken =    90 secs\n"
     ]
    },
    {
     "name": "stdout",
     "output_type": "stream",
     "text": [
      "25 / 25\n"
     ]
    },
    {
     "name": "stderr",
     "output_type": "stream",
     "text": [
      "In gridlink_mocks_double> Running with [nmesh_x, nmesh_y, nmesh_z]  = 37,33,10.  Time taken =   0.003 sec\n",
      "In gridlink_mocks_double> Running with [nmesh_x, nmesh_y, nmesh_z]  = 37,33,10.  Time taken =   0.038 sec\n",
      "0%.........10%.........20%.........30%.........40%.........50%.........60%.........70%.........80%.........90%.........100% done. Time taken =  0.039 secs\n",
      "In gridlink_mocks_double> Running with [nmesh_x, nmesh_y, nmesh_z]  = 37,33,10.  Time taken =   0.003 sec\n",
      "countpairs_mocks_double> gridlink seems inefficient. nmesh = (37, 33, 10); avg_np = 579. Boosting bin refine factor - should lead to better performance\n",
      "In gridlink_mocks_double> Running with [nmesh_x, nmesh_y, nmesh_z]  = 56,50,10.  Time taken =   0.006 sec\n",
      "In gridlink_mocks_double> Running with [nmesh_x, nmesh_y, nmesh_z]  = 56,50,10.  Time taken =   1.095 sec\n",
      "0%.........10%.........20%.........30%.........40%.........50%.........60%.........70%.........80%.........90%.........100% done. Time taken =  0.261 secs\n",
      "In gridlink_mocks_double> Running with [nmesh_x, nmesh_y, nmesh_z]  = 37,33,10.  Time taken =   0.044 sec\n",
      "In gridlink_mocks_double> Running with [nmesh_x, nmesh_y, nmesh_z]  = 37,33,10.  Time taken =   0.095 sec\n",
      "0%.........10%.........20%.........30%.........40%.........50%.........60%.........70%.........80%.........90%.........100% done. Time taken =  3.549 secs\n",
      "In gridlink_mocks_double> Running with [nmesh_x, nmesh_y, nmesh_z]  = 37,33,10.  Time taken =   0.087 sec\n",
      "countpairs_mocks_double> gridlink seems inefficient. nmesh = (37, 33, 10); avg_np = 579. Boosting bin refine factor - should lead to better performance\n",
      "In gridlink_mocks_double> Running with [nmesh_x, nmesh_y, nmesh_z]  = 56,50,10.  Time taken =   0.070 sec\n",
      "In gridlink_mocks_double> Running with [nmesh_x, nmesh_y, nmesh_z]  = 56,50,10.  Time taken =   1.139 sec\n",
      "0%.........10%.........20%.........30%.........40%.........50%.........60%.........70%.........80%.........90%.........100% done. Time taken =    88 secs\n"
     ]
    }
   ],
   "source": [
    "## Run a clustering CROSS CORRELATION b/w the peas & LRGs w/ bootstrap - this is jackknife only\n",
    "pimax = 30\n",
    "print(strftime(\"%Y-%m-%d %H:%M:%S\", gmtime()))\n",
    "## with errors? bootstrapped - idk\n",
    "rp_xc_Pjackpi30LS,wp_xc_Pjackpi30LS,wp_xc_err_Pjackpi30LS,cov_xc_Pjackpi30LS = w.cross_wp(d1=peas, \n",
    "d2=LRG, r1=rzpea, r2=LRGr, bins=bins,pimax=pimax,m=5, estimator='L')\n",
    "\n",
    "np.save('output/CCFResults/LandySzalay/rp_xc_Pjackpi30LS.npy', rp_xc_Pjackpi30LS)\n",
    "np.save('output/CCFResults/LandySzalay/wp_xc_Pjackpi30LS.npy',wp_xc_Pjackpi30LS)\n",
    "np.save('output/CCFResults/LandySzalay/wp_xc_err_Pjackpi30LS.npy', wp_xc_err_Pjackpi30LS)\n",
    "np.save('output/CCFResults/LandySzalay/cov_xc_Pjackpi30LS.npy',cov_xc_Pjackpi30LS)"
   ]
  },
  {
   "cell_type": "code",
   "execution_count": null,
   "metadata": {},
   "outputs": [],
   "source": []
  }
 ],
 "metadata": {
  "kernelspec": {
   "display_name": "Python 3",
   "language": "python",
   "name": "python3"
  },
  "language_info": {
   "codemirror_mode": {
    "name": "ipython",
    "version": 3
   },
   "file_extension": ".py",
   "mimetype": "text/x-python",
   "name": "python",
   "nbconvert_exporter": "python",
   "pygments_lexer": "ipython3",
   "version": "3.7.6"
  }
 },
 "nbformat": 4,
 "nbformat_minor": 4
}
