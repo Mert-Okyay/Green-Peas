{
 "cells": [
  {
   "cell_type": "code",
   "execution_count": 1,
   "metadata": {},
   "outputs": [],
   "source": [
    "from __future__ import division\n",
    "import numpy as np\n",
    "import math\n",
    "from astropy import units as u\n",
    "from astropy.coordinates import SkyCoord, match_coordinates_sky\n",
    "import astropy.coordinates as coord\n",
    "from astropy.cosmology import FlatLambdaCDM\n",
    "from astropy.table import Table\n",
    "from astropy.io import fits\n",
    "import time\n",
    "from numpy.lib.recfunctions import append_fields\n",
    "#from kde import weighted_gaussian_kde\n",
    "from scipy import stats\n",
    "from astropy.cosmology import FlatLambdaCDM,Planck15\n",
    "import sys\n",
    "from time import gmtime, strftime\n",
    "\n",
    "import matplotlib.pyplot as plt\n",
    "from matplotlib.colors import LogNorm\n",
    "%matplotlib inline"
   ]
  },
  {
   "cell_type": "code",
   "execution_count": 1,
   "metadata": {},
   "outputs": [
    {
     "ename": "ModuleNotFoundError",
     "evalue": "No module named 'clustering'",
     "output_type": "error",
     "traceback": [
      "\u001b[1;31m---------------------------------------------------------------------------\u001b[0m",
      "\u001b[1;31mModuleNotFoundError\u001b[0m                       Traceback (most recent call last)",
      "\u001b[1;32m<ipython-input-1-b3482f8ba908>\u001b[0m in \u001b[0;36m<module>\u001b[1;34m\u001b[0m\n\u001b[1;32m----> 1\u001b[1;33m \u001b[1;32mimport\u001b[0m \u001b[0mclustering\u001b[0m\u001b[1;33m\u001b[0m\u001b[1;33m\u001b[0m\u001b[0m\n\u001b[0m\u001b[0;32m      2\u001b[0m \u001b[1;32mimport\u001b[0m \u001b[0mclustering\u001b[0m\u001b[1;33m.\u001b[0m\u001b[0mprojected_correlation_functions\u001b[0m \u001b[1;32mas\u001b[0m \u001b[0mw\u001b[0m\u001b[1;33m\u001b[0m\u001b[1;33m\u001b[0m\u001b[0m\n\u001b[0;32m      3\u001b[0m \u001b[1;32mimport\u001b[0m \u001b[0mclustering\u001b[0m\u001b[1;33m.\u001b[0m\u001b[0mrandoms\u001b[0m \u001b[1;32mas\u001b[0m \u001b[0mrand\u001b[0m\u001b[1;33m\u001b[0m\u001b[1;33m\u001b[0m\u001b[0m\n\u001b[0;32m      4\u001b[0m \u001b[1;32mfrom\u001b[0m \u001b[0mclustering\u001b[0m\u001b[1;33m.\u001b[0m\u001b[0mutils\u001b[0m \u001b[1;32mimport\u001b[0m \u001b[0mwp_d1d2\u001b[0m\u001b[1;33m,\u001b[0m\u001b[0mwp_dd\u001b[0m\u001b[1;33m\u001b[0m\u001b[1;33m\u001b[0m\u001b[0m\n",
      "\u001b[1;31mModuleNotFoundError\u001b[0m: No module named 'clustering'"
     ]
    }
   ],
   "source": [
    "import clustering\n",
    "import clustering.projected_correlation_functions as w\n",
    "import clustering.randoms as rand\n",
    "from clustering.utils import wp_d1d2,wp_dd"
   ]
  },
  {
   "cell_type": "markdown",
   "metadata": {},
   "source": [
    "Read in Cosmology"
   ]
  },
  {
   "cell_type": "code",
   "execution_count": null,
   "metadata": {
    "collapsed": true
   },
   "outputs": [],
   "source": []
  },
  {
   "cell_type": "code",
   "execution_count": 3,
   "metadata": {
    "collapsed": true
   },
   "outputs": [],
   "source": [
    "cosmo = FlatLambdaCDM(H0=70, Om0=0.3)"
   ]
  },
  {
   "cell_type": "markdown",
   "metadata": {},
   "source": [
    "## Looking at Peebles Function Results"
   ]
  },
  {
   "cell_type": "code",
   "execution_count": 4,
   "metadata": {},
   "outputs": [],
   "source": [
    "## Read in LRGs ACF, LRGboot (pimax=60, estimator='P', errtype='b', m=100) Created 7/30/2017\n",
    "##     bins = np.array([1,3,6,8,10,15,20,30,40,50,60])\n",
    "rp_LRGPboot=np.load('output/rp_LRGboot.npy')\n",
    "wp_p_LRGPboot=np.load('output/wp_p_LRGboot.npy')\n",
    "wp_p_err_LRGPboot=np.load('output/wp_p_err_LRGboot.npy')\n",
    "cov_LRGPboot=np.load('output/cov_LRGboot.npy')\n",
    "wp_arr_LRGPboot=np.load('output/wp_arr_LRGboot.npy')\n",
    "\n",
    "## Read in CCF b/w Peas & LRGs, xc_Pboot, (pimax=60, m=100, estimator='P',errtype='b') Created 8/172017\n",
    "rp_xcPboot=np.load('output/rp_xc_Pboot.npy')\n",
    "wp_p_xcPboot=np.load('output/wp_xc_Pboot.npy')\n",
    "wp_p_err_xcPboot=np.load('output/wp_xc_err_Pboot.npy')\n",
    "cov_xcPboot=np.load('output/cov_xc_Pboot.npy')\n",
    "wp_arr_xc_Pboot=np.load('output/wp_arr_xc_Pboot.npy')\n"
   ]
  },
  {
   "cell_type": "code",
   "execution_count": 5,
   "metadata": {},
   "outputs": [
    {
     "data": {
      "image/png": "[encoded data removed]",
      "text/plain": [
       "<matplotlib.figure.Figure at 0x116e12cc0>"
      ]
     },
     "metadata": {},
     "output_type": "display_data"
    }
   ],
   "source": [
    "plt.yscale(\"log\", nonposy='clip')\n",
    "plt.xscale(\"log\", nonposy='clip')\n",
    "\n",
    "#plt.errorbar(rp_peaACF_P,wp_p_peaACF_P,yerr=wp_p_err_peaACF_P,fmt='o',label='Peas ACF')\n",
    "plt.errorbar(rp_LRGPboot,wp_p_LRGPboot,yerr=wp_p_err_LRGPboot,fmt='.',color='r',label='LRG ACF Boostrap Error')\n",
    "plt.errorbar(rp_xcPboot,wp_p_xcPboot,wp_p_err_xcPboot,fmt='<',label='CCF LRG peas')\n",
    "#plt.errorbar(rp_xcPboot,wp_p_ACFxc,wp_p_err_ACFxc,fmt='o',color='g',label='$W_{PP}=W_{PL}^2/W_{LL}$')\n",
    "\n",
    "plt.legend(frameon=True,loc=1,numpoints=1)\n",
    "plt.xlabel('r$_{p}$ [Mpc]',fontsize=16)\n",
    "plt.ylabel('w$_{p}$',fontsize=16)\n",
    "plt.title('Correlation Functions')\n",
    "#plt.plot(rpdm[:-1],wdm0[:-1],label='$w_{P,DM}$ Bolshoi $z=0$')\n",
    "#plt.plot(rpdm[:-1],wdm5[:-1],color='m',label='$w_{P,DM}$ Bolshoi $z=.5$')\n",
    "\n",
    "plt.savefig('../plots/wp_ACFfromCCF.pdf')"
   ]
  },
  {
   "cell_type": "markdown",
   "metadata": {},
   "source": [
    "## Trying Union of All Peas in CCF (DR7+DR12+DR14 no SF limitation...)"
   ]
  },
  {
   "cell_type": "code",
   "execution_count": 6,
   "metadata": {},
   "outputs": [],
   "source": [
    "## note created April 2018, pimax=60, bins = np.array([1,4,8,16,32,40,50,60,100])\n",
    "## thought would take 4 days to run??? but ran in 40 min...\n",
    "#rp_xcPboot,wp_p_xcPboot,wp_p_err_xcPboot,cov_xcPboot,wp_arr_xcPboot = w.cross_wp(d1=peas,d2=LRG, \n",
    "#r1=rzpea, r2=LRGr, bins=bins,pimax=pimax,m=100, estimator='P',errtype='b')\n",
    "allrp_xcPboot=np.load('output/shortrp_xcPboot_all.npy')\n",
    "allwp_p_xcPboot=np.load('output/shortwp_p_xcPboot_all.npy')\n",
    "allwp_p_err_xcPboot=np.load('output/shortwp_p_err_xcPboot_all.npy')\n",
    "allcov_xcPboot=np.load('output/shortcov_xcPboot_all.npy')\n",
    "allwp_arr_xc_Pboot=np.load('output/shortwp_arr_xcPboot_all.npy')"
   ]
  },
  {
   "cell_type": "code",
   "execution_count": 13,
   "metadata": {},
   "outputs": [
    {
     "data": {
      "text/plain": [
       "array([  24.31090074,  -32.79721936,  185.16250854,   10.92344733,\n",
       "         37.23832596,   -2.43094534,    6.76082995,    6.19771165,\n",
       "          5.31216109,    3.5333475 ])"
      ]
     },
     "execution_count": 13,
     "metadata": {},
     "output_type": "execute_result"
    }
   ],
   "source": [
    "wp_p_xcPboot"
   ]
  },
  {
   "cell_type": "code",
   "execution_count": 10,
   "metadata": {},
   "outputs": [],
   "source": [
    "## Created the ACF of the Peas via the CCF with the LRGs\n",
    "wp_p_ACFxc=(wp_p_xcPboot*wp_p_xcPboot)/wp_p_LRGPboot\n",
    "wp_p_err_ACFxc= wp_p_ACFxc*np.sqrt(2*(wp_p_err_xcPboot/wp_p_xcPboot)**2 + (wp_p_err_LRGPboot/wp_p_LRGPboot)**2)\n",
    "\n",
    "allwp_p_ACFxc=(allwp_p_xcPboot*allwp_p_xcPboot)/wp_p_LRGPboot\n",
    "allwp_p_err_ACFxc= allwp_p_ACFxc*np.sqrt(2*(allwp_p_err_xcPboot/allwp_p_xcPboot)**2 + (wp_p_err_LRGPboot/wp_p_LRGPboot)**2)\n"
   ]
  },
  {
   "cell_type": "code",
   "execution_count": 15,
   "metadata": {},
   "outputs": [
    {
     "data": {
      "image/png": "[encoded data removed]",
      "text/plain": [
       "<matplotlib.figure.Figure at 0x117912e80>"
      ]
     },
     "metadata": {},
     "output_type": "display_data"
    }
   ],
   "source": [
    "plt.yscale(\"log\", nonposy='clip')\n",
    "plt.xscale(\"log\", nonposy='clip')\n",
    "\n",
    "#plt.errorbar(rp_peaACF_P,wp_p_peaACF_P,yerr=wp_p_err_peaACF_P,fmt='o',label='Peas ACF')\n",
    "plt.errorbar(rp_LRGPboot,wp_p_LRGPboot,yerr=wp_p_err_LRGPboot,fmt='.',color='r',label='LRG ACF Boostrap Error')\n",
    "plt.errorbar(rp_xcPboot,wp_p_xcPboot,wp_p_err_xcPboot,fmt='<',label='CCF LRG peas')\n",
    "plt.errorbar(allrp_xcPboot,allwp_p_xcPboot,allwp_p_err_xcPboot,fmt='o',color='g',label='CCF LRG ALL peas')\n",
    "plt.errorbar(rp_xcPboot,wp_p_ACFxc,wp_p_err_ACFxc,fmt='o',color='g',label='$W_{PP}=W_{PL}^2/W_{LL}$')\n",
    "\n",
    "plt.legend(frameon=True,loc=1,numpoints=1)\n",
    "plt.xlabel('r$_{p}$ [Mpc]',fontsize=16)\n",
    "plt.ylabel('w$_{p}$',fontsize=16)\n",
    "plt.title('Correlation Functions')\n",
    "#plt.plot(rpdm[:-1],wdm0[:-1],label='$w_{P,DM}$ Bolshoi $z=0$')\n",
    "#plt.plot(rpdm[:-1],wdm5[:-1],color='m',label='$w_{P,DM}$ Bolshoi $z=.5$')\n",
    "\n",
    "plt.savefig('../plots/wp_ACFfromCCF.pdf')"
   ]
  },
  {
   "cell_type": "code",
   "execution_count": null,
   "metadata": {
    "collapsed": true
   },
   "outputs": [],
   "source": []
  },
  {
   "cell_type": "code",
   "execution_count": 6,
   "metadata": {
    "collapsed": true
   },
   "outputs": [],
   "source": [
    "## Read in CCF b/w Peas & LRGs, xc_Pboot, (pimax=60, m=100, estimator='P',errtype='b') Created Oct 2017\n",
    "##    bins = np.array([1,4,8,16,32,40,50,60,100])\n",
    "rp_LRGPboot=np.load('output/rp_LRGrgt1.npy')\n",
    "wp_p_LRGPboot=np.load('output/wp_p_LRGrgt1.npy')\n",
    "wp_p_err_LRGPboot=np.load('output/wp_p_err_LRGrgt1.npy')\n",
    "cov_LRGPboot=np.load('output/cov_LRGrgt1.npy')\n",
    "wp_arr_LRGPboot=np.load('output/wp_arr_LRGrgt1.npy')\n",
    "\n",
    "\n",
    "rp_xcPboot=np.load('output/rp_xcPbootrgt1bg.npy')\n",
    "wp_p_xcPboot=np.load('output/wp_p_xcPbootrgt1bg.npy')\n",
    "wp_p_err_xcPboot=np.load('output/wp_p_err_xcPbootrgt1bg.npy')\n",
    "cov_xcPboot=np.load('output/cov_xcPbootrgt1bg.npy')\n",
    "wp_arr_xc_Pboot=np.load('output/wp_arr_xcPbootrgt1bg.npy')"
   ]
  },
  {
   "cell_type": "code",
   "execution_count": 7,
   "metadata": {},
   "outputs": [
    {
     "name": "stdout",
     "output_type": "stream",
     "text": [
      "[  2.5   6.   12.   24.   36.   45.   55.   80. ]\n",
      "[  2.5   6.   12.   24.   36.   45.   55.   80. ]\n"
     ]
    }
   ],
   "source": [
    "print(rp_xcPboot)\n",
    "print(rp_LRGPboot)"
   ]
  },
  {
   "cell_type": "code",
   "execution_count": 8,
   "metadata": {},
   "outputs": [
    {
     "data": {
      "image/png": "[encoded data removed]",
      "text/plain": [
       "<matplotlib.figure.Figure at 0x117010908>"
      ]
     },
     "metadata": {},
     "output_type": "display_data"
    }
   ],
   "source": [
    "plt.yscale(\"log\", nonposy='clip')\n",
    "plt.xscale(\"log\", nonposy='clip')\n",
    "\n",
    "#plt.errorbar(rp_peaACF_P,wp_p_peaACF_P,yerr=wp_p_err_peaACF_P,fmt='o',label='Peas ACF')\n",
    "plt.errorbar(rp_LRGPboot,wp_p_LRGPboot,yerr=wp_p_err_LRGPboot,fmt='.',color='r',label='ACF LRG')\n",
    "plt.errorbar(rp_xcPboot,wp_p_xcPboot,wp_p_err_xcPboot,fmt='<',label='CCF LRG peas')\n",
    "#plt.errorbar(rp_xcPboot,wp_p_ACFxc,wp_p_err_ACFxc,fmt='o',color='g',label='$W_{PP}=W_{PL}^2/W_{LL}$')\n",
    "\n",
    "plt.legend(frameon=True,loc=1,numpoints=1)\n",
    "plt.xlabel('r$_{p}$ [Mpc]',fontsize=16)\n",
    "plt.ylabel('w$_{p}$',fontsize=16)\n",
    "plt.title('Correlation Functions')\n",
    "#plt.plot(rpdm[:-1],wdm0[:-1],label='$w_{P,DM}$ Bolshoi $z=0$')\n",
    "#plt.plot(rpdm[:-1],wdm5[:-1],color='m',label='$w_{P,DM}$ Bolshoi $z=.5$')\n",
    "\n",
    "plt.savefig('../plots/wp_ACFfromCCF.pdf')"
   ]
  },
  {
   "cell_type": "code",
   "execution_count": 18,
   "metadata": {},
   "outputs": [],
   "source": [
    "## Created the ACF of the Peas via the CCF with the LRGs\n",
    "wp_p_ACFxc=(wp_p_xcPboot*wp_p_xcPboot)/wp_p_LRGPboot\n",
    "wp_p_err_ACFxc= wp_p_ACFxc*np.sqrt(2*(wp_p_err_xcPboot/wp_p_xcPboot)**2 + (wp_p_err_LRGPboot/wp_p_LRGPboot)**2)\n",
    "## division/mult errors propegated by dq/q=sqrt((da/a)^2+etc.)\n"
   ]
  },
  {
   "cell_type": "code",
   "execution_count": 8,
   "metadata": {},
   "outputs": [
    {
     "name": "stdout",
     "output_type": "stream",
     "text": [
      "[[  6.83177314e+03  -6.20980600e+02   8.15047136e+02  -3.70496352e+02\n",
      "    4.83574756e+01   1.65527532e+01   2.17502659e+01  -1.95058996e+01\n",
      "   -8.09098211e+00  -2.20121741e+01]\n",
      " [ -6.20980600e+02   6.27489333e+03  -4.91292918e+02   9.45761226e+01\n",
      "    4.77793431e+01  -7.37265260e+01   2.13483986e+01  -8.68366398e+00\n",
      "    2.35027846e+00   2.07457973e+00]\n",
      " [  8.15047136e+02  -4.91292918e+02   1.22440394e+04   1.59158154e+02\n",
      "   -6.47282281e+01   6.13646957e+01   9.77921667e+01   7.02287008e+01\n",
      "    4.11893573e+01  -1.52440388e+01]\n",
      " [ -3.70496352e+02   9.45761226e+01   1.59158154e+02   5.56750765e+02\n",
      "    9.77360933e+01   1.74965999e+01   5.43446447e+00   2.52206852e+01\n",
      "    1.66828056e+01   5.66312876e+00]\n",
      " [  4.83574756e+01   4.77793431e+01  -6.47282281e+01   9.77360933e+01\n",
      "    2.55231100e+02   3.65343442e+01   1.46102832e+01   7.51204387e+00\n",
      "    8.23519446e+00   3.70031338e-01]\n",
      " [  1.65527532e+01  -7.37265260e+01   6.13646957e+01   1.74965999e+01\n",
      "    3.65343442e+01   5.80465781e+01   1.53878144e+01   8.17875530e+00\n",
      "    4.23308075e+00   8.11364830e-01]\n",
      " [  2.17502659e+01   2.13483986e+01   9.77921667e+01   5.43446447e+00\n",
      "    1.46102832e+01   1.53878144e+01   2.89620389e+01   8.39408457e+00\n",
      "    3.72331546e+00   8.70995185e-01]\n",
      " [ -1.95058996e+01  -8.68366398e+00   7.02287008e+01   2.52206852e+01\n",
      "    7.51204387e+00   8.17875530e+00   8.39408457e+00   1.04156970e+01\n",
      "    4.49395814e+00   8.23049496e-01]\n",
      " [ -8.09098211e+00   2.35027846e+00   4.11893573e+01   1.66828056e+01\n",
      "    8.23519446e+00   4.23308075e+00   3.72331546e+00   4.49395814e+00\n",
      "    6.05870673e+00   1.73522927e+00]\n",
      " [ -2.20121741e+01   2.07457973e+00  -1.52440388e+01   5.66312876e+00\n",
      "    3.70031338e-01   8.11364830e-01   8.70995185e-01   8.23049496e-01\n",
      "    1.73522927e+00   2.80409475e+00]]\n"
     ]
    }
   ],
   "source": [
    "print(cov_xc_Pboot)"
   ]
  },
  {
   "cell_type": "code",
   "execution_count": 11,
   "metadata": {},
   "outputs": [
    {
     "name": "stdout",
     "output_type": "stream",
     "text": [
      "[ 1021.75044755   674.61514331   379.25453248   189.04117831   105.14235834\n",
      "    68.5413169     42.75752957    24.61101803    12.91682928     5.7215873 ]\n",
      "[  24.31090074  -32.79721936  185.16250854   10.92344733   37.23832596\n",
      "   -2.43094534    6.76082995    6.19771165    5.31216109    3.5333475 ]\n",
      "[  5.78438597e-01   1.59447591e+00   9.04014366e+01   6.31194233e-01\n",
      "   1.31887181e+01   8.62179999e-02   1.06902391e+00   1.56074932e+00\n",
      "   2.18467356e+00   2.18200718e+00]\n",
      "[  0.14102821   0.25675091   0.46743152   0.85098909   1.54928027\n",
      "   2.8205642    5.13501822   9.34863035  17.01978177  30.98560543]\n",
      "[  1.54928027   2.8205642    5.13501822   9.34863035  17.01978177\n",
      "  30.98560543]\n"
     ]
    }
   ],
   "source": [
    "print(wp_p_LRGPboot)\n",
    "print(wp_p_xcPboot)\n",
    "print(wp_p_ACFxc)\n",
    "print(rp_LRGPboot)\n",
    "print(rp_xcPboot[4:20])"
   ]
  },
  {
   "cell_type": "code",
   "execution_count": 21,
   "metadata": {},
   "outputs": [
    {
     "data": {
      "image/png": "[encoded data removed]",
      "text/plain": [
       "<matplotlib.figure.Figure at 0x116659b00>"
      ]
     },
     "metadata": {},
     "output_type": "display_data"
    }
   ],
   "source": [
    "plt.yscale(\"log\", nonposy='clip')\n",
    "plt.xscale(\"log\", nonposy='clip')\n",
    "\n",
    "#plt.errorbar(rp_peaACF_P,wp_p_peaACF_P,yerr=wp_p_err_peaACF_P,fmt='o',label='Peas ACF')\n",
    "plt.errorbar(rp_LRGPboot,wp_p_LRGPboot,yerr=wp_p_err_LRGPboot,fmt='.',color='r',label='ACF LRG')\n",
    "plt.errorbar(rp_xcPboot,wp_p_xcPboot,wp_p_err_xcPboot,fmt='<',label='CCF LRG peas')\n",
    "plt.errorbar(rp_xcPboot,wp_p_ACFxc,wp_p_err_ACFxc,fmt='o',color='g',label='$W_{PP}=W_{PL}^2/W_{LL}$')\n",
    "\n",
    "plt.legend(frameon=True,loc=1,numpoints=1)\n",
    "plt.xlabel('r$_{p}$ [Mpc]',fontsize=16)\n",
    "plt.ylabel('w$_{p}$',fontsize=16)\n",
    "plt.title('Correlation Functions')\n",
    "#plt.plot(rpdm[:-1],wdm0[:-1],label='$w_{P,DM}$ Bolshoi $z=0$')\n",
    "#plt.plot(rpdm[:-1],wdm5[:-1],color='m',label='$w_{P,DM}$ Bolshoi $z=.5$')\n",
    "\n",
    "plt.savefig('../plots/wp_ACFfromCCF.pdf')"
   ]
  },
  {
   "cell_type": "markdown",
   "metadata": {},
   "source": [
    "## Fitting Peebles Results with a Gamma function (powerlaw fit to bias)"
   ]
  },
  {
   "cell_type": "code",
   "execution_count": 22,
   "metadata": {
    "collapsed": true
   },
   "outputs": [],
   "source": [
    "## Load scipy gamma function & Curvefit\n",
    "from scipy.special import gamma\n",
    "from scipy.optimize import curve_fit\n",
    "## Gamma is a function from cosmology package (gamma is slope and r0 is amplitude)\n",
    "##https://www.hindawi.com/journals/aa/2012/853701/"
   ]
  },
  {
   "cell_type": "code",
   "execution_count": 23,
   "metadata": {},
   "outputs": [
    {
     "name": "stdout",
     "output_type": "stream",
     "text": [
      "0.19.1\n"
     ]
    }
   ],
   "source": [
    "import scipy\n",
    "print(scipy.version.version)"
   ]
  },
  {
   "cell_type": "code",
   "execution_count": 24,
   "metadata": {
    "collapsed": true
   },
   "outputs": [],
   "source": [
    "# define the function 'A' to represent the gamma function\n",
    "def A(g):\n",
    "    return gamma(1/2)*gamma((g-1)/2)/gamma(g/2) \n",
    "#y is model powerlaw given rp & 2 parameters of fit\n",
    "def y(r,r0,g):\n",
    "    return A(g)*(r0**g)*(r**(1.-g))"
   ]
  },
  {
   "cell_type": "code",
   "execution_count": 16,
   "metadata": {},
   "outputs": [
    {
     "data": {
      "text/plain": [
       "3.1415926535897927"
      ]
     },
     "execution_count": 16,
     "metadata": {},
     "output_type": "execute_result"
    }
   ],
   "source": [
    "y(1,1,2)"
   ]
  },
  {
   "cell_type": "code",
   "execution_count": 30,
   "metadata": {},
   "outputs": [],
   "source": [
    "## Now fit an actual gamma curve to the data rp2 & wp two halo data (so r_p > 1 Mpc)\n",
    "#   y is model powerlaw given rp & 2 parameters of fit\n",
    "#   p0 is guess\n",
    "\n",
    "## Fit to LRGs\n",
    "plawfit=curve_fit(y,rp_LRGPboot ,wp_p_LRGPboot,sigma=cov_LRGPboot ,p0=[2,2])\n",
    "r0LRG=plawfit[0][0]\n",
    "gamLRG=plawfit[0][1]\n",
    "# plug powerlaw fit and darkmatter sigma 8 value, find bias\n",
    "def J(g):\n",
    "    return 72/((3 - g)*(4 - g)*(6 - gamLRG)*2*g)\n",
    "sig_dataLRG = np.sqrt(J(gamLRG)*(r0LRG/8)**gamLRG)\n",
    "sig_dm = (0.8)\n",
    "biasLRG = sig_dataLRG/sig_dm\n",
    "\n",
    "yf_arr_LRG=[]\n",
    "for r in rp_LRGPboot:\n",
    "    yf_arr_LRG.append(y(r,r0LRG,gamLRG))\n"
   ]
  },
  {
   "cell_type": "code",
   "execution_count": 33,
   "metadata": {},
   "outputs": [],
   "source": [
    "## Testing errors used in curve fitting\n",
    "plawfit=curve_fit(y,rp_LRGPboot,wp_p_LRGPboot,sigma=wp_p_err_LRGPboot,p0=[2,2])\n",
    "r0LRGsig=plawfit[0][0]\n",
    "gamLRGsig=plawfit[0][1]\n",
    "plawfit=curve_fit(y,rp_LRGPboot,wp_p_LRGPboot,p0=[2,2])\n",
    "r0LRG=plawfit[0][0]\n",
    "gamLRG=plawfit[0][1]\n",
    "#print(cov_LRGPboot.shape)\n",
    "#len(wp_p_err_LRGPboot)"
   ]
  },
  {
   "cell_type": "code",
   "execution_count": 39,
   "metadata": {},
   "outputs": [],
   "source": [
    "plawfit=curve_fit(y,rp_LRGPboot,wp_p_LRGPboot,sigma=cov_LRGPboot,p0=[2,2])\n",
    "r0LRGcov=plawfit[0][0]\n",
    "gamLRGcov=plawfit[0][1]"
   ]
  },
  {
   "cell_type": "code",
   "execution_count": 40,
   "metadata": {},
   "outputs": [
    {
     "name": "stdout",
     "output_type": "stream",
     "text": [
      "1.92050731778 2.03692189504 1.97894424376\n"
     ]
    }
   ],
   "source": [
    "## Gamma of slope depending on errors used, use covariance matrix\n",
    "print(gamLRG,gamLRGsig,gamLRGcov)\n",
    "### NOTE erros matter, use covariance matrix for calcuations..."
   ]
  },
  {
   "cell_type": "code",
   "execution_count": 41,
   "metadata": {},
   "outputs": [
    {
     "name": "stdout",
     "output_type": "stream",
     "text": [
      "7.97960775835 1.92050731778\n",
      "1.85679725411\n",
      "1.47690912493\n",
      "1.84613640616\n",
      "[79.246266215619229, 33.633588205578995, 17.064030595349319, 8.6574509499024508, 5.8211195048632849, 4.678827306250823, 3.8443405535902198, 2.6639183031605267]\n"
     ]
    }
   ],
   "source": [
    "print(r0LRG,gamLRG)\n",
    "print(J(gamLRG))\n",
    "print(sig_dataLRG)\n",
    "print(biasLRG)\n",
    "print(yf_arr_LRG)"
   ]
  },
  {
   "cell_type": "code",
   "execution_count": 43,
   "metadata": {},
   "outputs": [],
   "source": [
    "## Now fit to xc function\n",
    "plawfit=curve_fit(y,rp_xcPboot ,wp_p_xcPboot, sigma=cov_xcPboot ,p0=[2,2])\n",
    "r0xc=plawfit[0][0]\n",
    "gamxc=plawfit[0][1]\n",
    "# plug powerlaw fit and darkmatter sigma 8 value, find bias\n",
    "def J(g):\n",
    "    return 72/((3 - g)*(4 - g)*(6 - gamxc)*2*g)\n",
    "sig_dataxc = np.sqrt(J(gamxc)*(r0xc/8)**gamxc)\n",
    "sig_dm = (0.8)\n",
    "biasxc = sig_dataxc/sig_dm\n",
    "\n",
    "yf_arr_xc=[]\n",
    "for r in rp_xcPboot:\n",
    "    yf_arr_xc.append(y(r,r0xc,gamxc))\n"
   ]
  },
  {
   "cell_type": "code",
   "execution_count": null,
   "metadata": {
    "collapsed": true
   },
   "outputs": [],
   "source": [
    "print(r0xc,gamxc)\n",
    "print(J(gamxc))\n",
    "print(sig_dataxc)\n",
    "print(biasxc)\n",
    "print(yf_arr_xc)"
   ]
  },
  {
   "cell_type": "code",
   "execution_count": 73,
   "metadata": {},
   "outputs": [
    {
     "name": "stderr",
     "output_type": "stream",
     "text": [
      "/Users/ccardamone/anaconda/lib/python3.5/site-packages/ipykernel/__main__.py:6: RuntimeWarning: invalid value encountered in double_scalars\n"
     ]
    }
   ],
   "source": [
    "##Fit to Peas CF Derived via CCF\n",
    "plawfit=curve_fit(y,rp_xcPboot ,wp_p_ACFxc,sigma=wp_p_err_ACFxc, p0=[2,2])\n",
    "r0ACFxc=plawfit[0][0]\n",
    "gamACFxc=plawfit[0][1]\n",
    "# plug powerlaw fit and darkmatter sigma 8 value, find bias\n",
    "def J(g):\n",
    "    return 72/((3 - g)*(4 - g)*(6 - gamACFxc)*2*g)\n",
    "sig_dataACFxc = np.sqrt(J(gamACFxc)*(r0ACFxc/8)**gamACFxc)\n",
    "sig_dm = (0.8)\n",
    "biasACFxc = sig_dataACFxc/sig_dm\n",
    "\n",
    "yf_arr_ACFxc=[]\n",
    "for r in rp_xcPboot:\n",
    "    yf_arr_ACFxc.append(y(r,r0ACFxc,gamACFxc))"
   ]
  },
  {
   "cell_type": "code",
   "execution_count": 74,
   "metadata": {},
   "outputs": [
    {
     "name": "stdout",
     "output_type": "stream",
     "text": [
      "1.19388056368e-06 1.00000123426\n",
      "1.20000004937\n",
      "0.000423176816223\n",
      "0.000528971020279\n",
      "[1.9345290785690556, 1.9345269881957294, 1.9345253331566483, 1.9345236781189834, 1.9345227099846682, 1.9345221771821135, 1.9345216980383939, 1.9345208033788674]\n"
     ]
    }
   ],
   "source": [
    "print(r0ACFxc,gamACFxc)\n",
    "print(J(gamACFxc))\n",
    "print(sig_dataACFxc)\n",
    "print(biasACFxc)\n",
    "print(yf_arr_ACFxc)"
   ]
  },
  {
   "cell_type": "code",
   "execution_count": 52,
   "metadata": {},
   "outputs": [
    {
     "name": "stdout",
     "output_type": "stream",
     "text": [
      "1.92050731778 1.50277154165 1.00000102994\n"
     ]
    }
   ],
   "source": [
    "print(gamLRG,gamxc,gamACFxc)"
   ]
  },
  {
   "cell_type": "code",
   "execution_count": 53,
   "metadata": {},
   "outputs": [
    {
     "name": "stdout",
     "output_type": "stream",
     "text": [
      "[ 4.38837826  2.98380608]\n",
      "[ 3.20680141  3.70418454]\n",
      "[ 2.34336575  4.59848352]\n",
      "[  2.5   6.   12.   24.   36.   45.   55.   80. ]\n"
     ]
    }
   ],
   "source": [
    "print(wp_p_LRGPboot[4:6])\n",
    "print(wp_p_xcPboot[4:6])\n",
    "print(wp_p_ACFxc[4:6])\n",
    "print(rp_xcPboot)"
   ]
  },
  {
   "cell_type": "code",
   "execution_count": 41,
   "metadata": {},
   "outputs": [
    {
     "name": "stdout",
     "output_type": "stream",
     "text": [
      "0.348588891152 1.11185155249\n",
      "1.21466260104\n",
      "0.193079928349\n",
      "0.241349910436\n",
      "[7.4176136361649796, 6.936809426170929, 6.4871705881802013, 6.0666770059127888, 5.6734395055264732, 5.3056913680252045, 4.9617803918268653, 4.6401614698295068, 4.3393896476266356, 4.0581136316838347]\n"
     ]
    }
   ],
   "source": [
    "print(r0xc,gamxc)\n",
    "print(J(gamxc))\n",
    "print(sig_dataxc)\n",
    "print(biasxc)\n",
    "print(yf_arr_xc)"
   ]
  },
  {
   "cell_type": "code",
   "execution_count": 75,
   "metadata": {},
   "outputs": [
    {
     "name": "stderr",
     "output_type": "stream",
     "text": [
      "/Users/ccardamone/anaconda/lib/python3.5/site-packages/ipykernel/__main__.py:6: RuntimeWarning: invalid value encountered in double_scalars\n"
     ]
    }
   ],
   "source": [
    "plawfit=curve_fit(y,rp_xcPboot ,wp_p_ACFxc, p0=[2,2])\n",
    "r0ACFxc=plawfit[0][0]\n",
    "gamACFxc=plawfit[0][1]\n",
    "# plug powerlaw fit and darkmatter sigma 8 value, find bias\n",
    "def J(g):\n",
    "    return 72/((3 - g)*(4 - g)*(6 - gamACFxc)*2*g)\n",
    "sig_dataACFxc = np.sqrt(J(gamACFxc)*(r0ACFxc/8)**gamACFxc)\n",
    "sig_dm = (0.8)\n",
    "biasACFxc = sig_dataACFxc/sig_dm\n",
    "\n",
    "yf_arr_ACFxc=[]\n",
    "for r in rp_xcPboot:\n",
    "    yf_arr_ACFxc.append(y(r,r0ACFxc,gamACFxc))"
   ]
  },
  {
   "cell_type": "code",
   "execution_count": 76,
   "metadata": {},
   "outputs": [
    {
     "name": "stdout",
     "output_type": "stream",
     "text": [
      "1.19388056368e-06 1.00000123426\n",
      "1.20000004937\n",
      "0.000423176816223\n",
      "0.000528971020279\n",
      "[1.9345290785690556, 1.9345269881957294, 1.9345253331566483, 1.9345236781189834, 1.9345227099846682, 1.9345221771821135, 1.9345216980383939, 1.9345208033788674]\n"
     ]
    }
   ],
   "source": [
    "print(r0ACFxc,gamACFxc)\n",
    "print(J(gamACFxc))\n",
    "print(sig_dataACFxc)\n",
    "print(biasACFxc)\n",
    "print(yf_arr_ACFxc)"
   ]
  },
  {
   "cell_type": "code",
   "execution_count": 70,
   "metadata": {},
   "outputs": [
    {
     "data": {
      "text/plain": [
       "<matplotlib.text.Text at 0x1199b6e48>"
      ]
     },
     "execution_count": 70,
     "metadata": {},
     "output_type": "execute_result"
    },
    {
     "data": {
      "image/png": "[encoded data removed]",
      "text/plain": [
       "<matplotlib.figure.Figure at 0x119d0d400>"
      ]
     },
     "metadata": {},
     "output_type": "display_data"
    }
   ],
   "source": [
    "plt.yscale(\"log\", nonposy='clip')\n",
    "plt.xscale(\"log\", nonposy='clip')\n",
    "plt.axis([1,100,.1,1000])\n",
    "\n",
    "#plt.errorbar(rp_peaACF_P,wp_p_peaACF_P,yerr=wp_p_err_peaACF_P,fmt='o',label='Peas ACF')\n",
    "plt.errorbar(rp_LRGPboot,wp_p_LRGPboot,yerr=wp_p_err_LRGPboot,fmt='.',color='r',label='ACF LRG')\n",
    "plt.errorbar(rp_xcPboot,wp_p_xcPboot,wp_p_err_xcPboot,fmt='<',label='CCF LRG peas')\n",
    "plt.errorbar(rp_xcPboot,wp_p_ACFxc,wp_p_err_ACFxc,fmt='o',color='g',label='$W_{PP}=W_{PL}^2/W_{LL}$')\n",
    "\n",
    "plt.legend(frameon=True,loc=1,numpoints=1)\n",
    "plt.xlabel('r$_{p}$ [Mpc]',fontsize=16)\n",
    "plt.ylabel('w$_{p}$',fontsize=16)\n",
    "plt.title('Correlation Functions')\n",
    "#plt.plot(rpdm[:-1],wdm0[:-1],label='$w_{P,DM}$ Bolshoi $z=0$')\n",
    "#plt.plot(rpdm[:-1],wdm5[:-1],color='m',label='$w_{P,DM}$ Bolshoi $z=.5$')\n",
    "\n",
    "plt.plot(rp_xcPboot,np.array(yf_arr_xc)**2/np.array(yf_arr_LRG),color='g')\n",
    "plt.plot(rp_LRGPboot,yf_arr_LRG,color='r')\n",
    "plt.plot(rp_xcPboot,yf_arr_xc,color='b')\n",
    "plt.text(1.2,100,'$\\gamma=$'+\"{0:.2f}\".format(gamLRG),color='r',fontsize=12)\n",
    "plt.text(3,14,'$\\gamma=$'+\"{0:.2f}\".format(gamxc),color='b',fontsize=12)\n",
    "plt.text(13,.5,'$\\gamma=$'+\"{0:.2f}\".format(gamACFxc),color='g',fontsize=12)\n",
    "\n",
    "#plt.plot(rpdm[:-1],wdm0[:-1],label='$w_{P,DM}$ Bolshoi $z=0$')\n",
    "#plt.plot(rpdm[:-1],wdm5[:-1],color='m',label='$w_{P,DM}$ Bolshoi $z=.5$')\n",
    "\n",
    "#plt.savefig('../plots/wp_ACFfromCCF.pdf')"
   ]
  },
  {
   "cell_type": "code",
   "execution_count": null,
   "metadata": {
    "collapsed": true
   },
   "outputs": [],
   "source": [
    "## Fitting with the covarance matrix, and eventually in comparison to bias from DM instead of a PL \n",
    "# DM clustering depends on the volume of the simulation, we want to use a similar volume, as it's best...\n",
    "\n",
    "## Merry fit with halo tools parameterized tool (Signal not good so useless)\n",
    "## use correlated chisquared not chisquared....\n",
    "\n",
    "\n",
    "Rather than chi squared - take reduced\n",
    "data wp\n",
    "model - Power law or model WP\n",
    "\n",
    "PL fit now with gamma function\n",
    "    (y-wp)^2 / sig^2\n",
    "\n",
    "\n"
   ]
  },
  {
   "cell_type": "markdown",
   "metadata": {},
   "source": [
    "# Testing the pimax value used (60)"
   ]
  },
  {
   "cell_type": "code",
   "execution_count": 50,
   "metadata": {},
   "outputs": [],
   "source": [
    "rp_xc_pi20=np.load('output/rp_xc_pi20.npy')\n",
    "wp_xc_pi20=np.load('output/wp_xc_pi20.npy')\n",
    "wp_xc_err_pi20=np.load('output/wp_xc_err_pi20.npy')\n",
    "rp_xc_pi40=np.load('output/rp_xc_pi40.npy')\n",
    "wp_xc_pi40=np.load('output/wp_xc_pi40.npy')\n",
    "wp_xc_err_pi40=np.load('output/wp_xc_err_pi40.npy')\n",
    "rp_xc_pi60=np.load('output/rp_xc_pi60.npy')\n",
    "wp_xc_pi60=np.load('output/wp_xc_pi60.npy')\n",
    "wp_xc_err_pi60=np.load('output/wp_xc_err_pi60.npy')\n",
    "rp_xc_pi80=np.load('output/rp_xc_pi80.npy')\n",
    "wp_xc_pi80=np.load('output/wp_xc_pi80.npy')\n",
    "wp_xc_err_pi80=np.load('output/wp_xc_err_pi80.npy')\n",
    "rp_xc_pi100=np.load('output/rp_xc_pi100.npy')\n",
    "wp_xc_pi100=np.load('output/wp_xc_pi100.npy')\n",
    "wp_xc_err_pi100=np.load('output/wp_xc_err_pi100.npy')\n",
    "rp_xc_pi120=np.load('output/rp_xc_pi120.npy')\n",
    "wp_xc_pi120=np.load('output/wp_xc_pi120.npy')\n",
    "wp_xc_err_pi120=np.load('output/wp_xc_err_pi120.npy')\n",
    "rp_xc_pi140=np.load('output/rp_xc_pi140.npy')\n",
    "wp_xc_pi140=np.load('output/wp_xc_pi140.npy')\n",
    "wp_xc_err_pi140=np.load('output/wp_xc_err_pi140.npy')\n",
    "rp_xc_pi50=np.load('output/rp_xc_pi50.npy')\n",
    "wp_xc_pi50=np.load('output/wp_xc_pi50.npy')\n",
    "wp_xc_err_pi50=np.load('output/wp_xc_err_pi50.npy')\n",
    "rp_xc_pi70=np.load('output/rp_xc_pi70.npy')\n",
    "wp_xc_pi70=np.load('output/wp_xc_pi70.npy')\n",
    "wp_xc_err_pi70=np.load('output/wp_xc_err_pi70.npy')"
   ]
  },
  {
   "cell_type": "code",
   "execution_count": 51,
   "metadata": {},
   "outputs": [],
   "source": [
    "y10=np.array([wp_xc_pi20[3],wp_xc_pi40[3],wp_xc_pi50[3],wp_xc_pi60[3],wp_xc_pi70[3],wp_xc_pi80[3],wp_xc_pi100[3],wp_xc_pi120[3],wp_xc_pi140[3]])\n",
    "y10err=np.array([wp_xc_err_pi20[3],wp_xc_err_pi40[3],wp_xc_err_pi50[3],wp_xc_err_pi60[3],wp_xc_err_pi70[3],wp_xc_err_pi80[3],wp_xc_err_pi100[3],wp_xc_err_pi120[3],wp_xc_err_pi140[3]])\n",
    "x=np.array([20,40,50,60,70,80,100,120,140])\n",
    "y25=np.array([wp_xc_pi20[6],wp_xc_pi40[6],wp_xc_pi50[6],wp_xc_pi60[6],wp_xc_pi70[6],wp_xc_pi80[6],wp_xc_pi100[6],wp_xc_pi120[6],wp_xc_pi140[6]])\n",
    "y25err=np.array([wp_xc_err_pi20[6],wp_xc_err_pi40[6],wp_xc_err_pi50[6],wp_xc_err_pi60[6],wp_xc_err_pi70[6],wp_xc_err_pi80[6],wp_xc_err_pi100[6],wp_xc_err_pi120[6],wp_xc_err_pi140[6]])\n"
   ]
  },
  {
   "cell_type": "code",
   "execution_count": 52,
   "metadata": {},
   "outputs": [
    {
     "data": {
      "image/png": "[encoded data removed]",
      "text/plain": [
       "<matplotlib.figure.Figure at 0x11678efd0>"
      ]
     },
     "metadata": {},
     "output_type": "display_data"
    }
   ],
   "source": [
    "plt.axis([1,150,1,20])\n",
    "plt.scatter(x,y10)\n",
    "plt.errorbar(x,y10,y10err,color='b',label='w$_{p}$ @ 10 Mpc/h')\n",
    "plt.errorbar(x,y25,y25err,color='m',fmt='<',label='w$_{p}$ @ 25 Mpc/h')\n",
    "plt.legend(frameon=True,numpoints=1,loc=2)\n",
    "plt.xlabel('$\\pi_{max}$',fontsize=16)\n",
    "plt.ylabel('w$_{p}$',fontsize=16)\n",
    "plt.title('w$_{p}$ for a given $\\pi_{max}$, Bootstrap Error Bars, P CCF')\n",
    "\n",
    "plt.savefig('../plots/pimax_wp_10Mpc_25Mpc.pdf')\n"
   ]
  },
  {
   "cell_type": "markdown",
   "metadata": {},
   "source": [
    "Read in Peas/LRG Autocorrelation data for futher analysis"
   ]
  },
  {
   "cell_type": "code",
   "execution_count": 4,
   "metadata": {},
   "outputs": [],
   "source": [
    "## ACF LRGs\n",
    "rp_LRGboot=np.load('output/rp_LRGboot.npy')\n",
    "wp_p_LRGboot=np.load('output/wp_p_LRGboot.npy')\n",
    "wp_p_err_LRGboot=np.load('output/wp_p_err_LRGboot.npy')\n",
    "cov_LRGboot=np.load('output/cov_LRGboot.npy')\n",
    "wp_arr_LRGboot=np.load('output/wp_arr_LRGboot.npy')\n",
    "\n",
    "rp_LRGjack=np.load('output/rp_LRGjack.npy')\n",
    "wp_p_LRGjack=np.load('output/wp_p_LRGjack.npy')\n",
    "wp_p_err_LRGjack=np.load('output/wp_p_err_LRGjack.npy')\n",
    "cov_LRGjack=np.load('output/cov_LRGjack.npy')\n",
    "wp_arr_LRGjack=np.load('output/wp_arr_LRGjack.npy')\n",
    " # With new bins = np.array([1,3,6,8,10,15,20,30,40,50,60])\n",
    "#np.save('output/rp_LRGauto_pi60.npy',rp)\n",
    "#np.save('output/wp_LRGauto_pi60.npy',wp_p)\n",
    "#np.save('output/wp_LRGauto_err_pi60.npy',wp_p_err)\n",
    "\n",
    "## ACF Peas (peebles)\n",
    "rp_boot=np.load('output/rp_boot.npy')\n",
    "wp_p_boot=np.load('output/wp_p_boot.npy')\n",
    "wp_p_err_boot=np.load('output/wp_p_err_boot.npy')\n",
    "cov_boot=np.load('output/cov_boot.npy')\n",
    "wp_arr_boot=np.load('output/wp_arr_boot.npy')\n",
    "\n",
    "#rp_jack=np.load('output/rp_jack.npy')\n",
    "#wp_p_jack=np.load('output/wp_p_jack.npy')\n",
    "#wp_p_err_jack=np.load('output/wp_p_err_jack.npy')\n",
    "#cov_jack=np.load('output/cov_jack.npy')\n",
    "#wp_arr_jack=np.load('output/wp_arr_jack.npy')\n",
    "\n",
    " # With new bins = np.array([1,3,6,8,10,15,20,30,40,50,60])\n",
    "rp_PeasACF_pi60=np.load('output/rp_PeasACF_pi60.npy')\n",
    "wp_PeasACF_pi60=np.load('output/wp_PeasACF_pi60.npy')\n",
    "wp_PeasACF_err_pi60=np.load('output/wp_PeasACF_err_pi60.npy')\n",
    "\n",
    "##Peebles & Bootstrap and bins=bins = np.array([.1,.5,1,3,6,8,10,15,20,30,40,50,60,80,100])\n",
    "rp_peaACF_P=np.load('output/rp_PpeaACF.npy')\n",
    "wp_p_peaACF_P=np.load('output/wp_p_PpeaACF.npy')\n",
    "wp_p_err_peaACF_P=np.load('output/wp_p_err_PpeaACF.npy')\n",
    "cov_peaACF_P=np.load('output/cov_PpeaACF.npy')\n",
    "wp_arr_peaACF_P=np.load('output/wp_arr_PpeaACF.npy')\n",
    "## Landy Szalay and boostrap and bins = np.array([.1,.5,1,3,6,8,10,15,20,30,40,50,60,80,100])\n",
    "rp_peaACF_L=np.load('output/rp_LpeaACF.npy')\n",
    "wp_peaACF_L=np.load('output/wp_p_LpeaACF.npy')\n",
    "wp_err_peaACF_L=np.load('output/wp_p_err_LpeaACF.npy')\n",
    "cov_peaACF_L=np.load('output/cov_LpeaACF.npy')\n",
    "wp_arr_peaACF_L=np.load('output/wp_arr_LpeaACF.npy')\n"
   ]
  },
  {
   "cell_type": "code",
   "execution_count": 5,
   "metadata": {},
   "outputs": [
    {
     "data": {
      "text/latex": [
       "$3.7499705 \\times 10^{9} \\; \\mathrm{Mpc^{3}}$"
      ],
      "text/plain": [
       "<Quantity 3749970473.3941417 Mpc3>"
      ]
     },
     "execution_count": 5,
     "metadata": {},
     "output_type": "execute_result"
    }
   ],
   "source": [
    ".33*(cosmo.comoving_volume(.36) - cosmo.comoving_volume(.11))"
   ]
  },
  {
   "cell_type": "code",
   "execution_count": 55,
   "metadata": {},
   "outputs": [
    {
     "data": {
      "image/png": "[encoded data removed]",
      "text/plain": [
       "<matplotlib.figure.Figure at 0x115dd4e10>"
      ]
     },
     "metadata": {},
     "output_type": "display_data"
    }
   ],
   "source": [
    "plt.yscale(\"log\", nonposy='clip')\n",
    "plt.xscale(\"log\", nonposy='clip')\n",
    "#plt.errorbar(rp_boot,wp_p_boot,yerr=wp_p_err_boot,fmt='.',color='g',label='ACF Boostrap Error')\n",
    "#plt.errorbar(rp_jack,wp_p_jack,yerr=wp_p_err_jack,fmt='.',color='c',label='ACF Jackknife')\n",
    "plt.errorbar(rp_peaACF_L,wp_peaACF_L,yerr=wp_err_peaACF_L,fmt='.',color='b',label='Landy-Szalay ACF')\n",
    "plt.errorbar(rp_peaACF_P,wp_p_peaACF_P,yerr=wp_p_err_peaACF_P,fmt='.',color='g',label='Peebles ACF')\n",
    "#plt.errorbar(rp_LRGjack,wp_p_LRGjack,yerr=wp_p_err_LRGjack,fmt='.',color='m',label='LRG ACF Jackknife')\n",
    "#plt.errorbar(rp_LRGboot,wp_p_LRGboot,yerr=wp_p_err_LRGboot,fmt='.',color='r',label='LRG ACF Boostrap')\n",
    "plt.axis([.1,100,.1,1000])\n",
    "plt.legend(frameon=True,numpoints=1,loc=1)\n",
    "plt.xlabel('r$_{p}$',fontsize=16)\n",
    "plt.ylabel('w$_{p}$',fontsize=16)\n",
    "plt.title('Peebles ACF comparing corrfunc estimators')\n",
    "plt.savefig('../plots/ACF_LSvsPeebles.pdf')"
   ]
  },
  {
   "cell_type": "markdown",
   "metadata": {},
   "source": [
    "Read in cross-correlation for analysis"
   ]
  },
  {
   "cell_type": "code",
   "execution_count": 56,
   "metadata": {
    "collapsed": true
   },
   "outputs": [],
   "source": [
    "rp_xc_Pboot=np.load('output/rp_xc_Pboot.npy')\n",
    "wp_xc_Pboot=np.load('output/wp_xc_Pboot.npy')\n",
    "wp_xc_err_Pboot=np.load('output/wp_xc_err_Pboot.npy')\n",
    "cov_xc_Pboot=np.load('output/cov_xc_Pboot.npy')\n",
    "wp_arr_xc_Pboot=np.load('output/wp_arr_xc_Pboot.npy')\n",
    "\n",
    "rp_xc_Pjack=np.load('output/rp_xc_Pjack.npy')\n",
    "wp_xc_Pjack=np.load('output/wp_xc_Pjack.npy')\n",
    "wp_xc_err_Pjack=np.load('output/wp_xc_err_Pjack.npy')\n",
    "cov_xc_Pjack=np.load('output/cov_xc_Pjack.npy')\n",
    "wp_arr_xc_Pjack=np.load('output/wp_arr_xc_Pjack.npy')\n",
    "\n"
   ]
  },
  {
   "cell_type": "code",
   "execution_count": null,
   "metadata": {},
   "outputs": [],
   "source": []
  },
  {
   "cell_type": "code",
   "execution_count": 57,
   "metadata": {},
   "outputs": [
    {
     "data": {
      "image/png": "[encoded data removed]",
      "text/plain": [
       "<matplotlib.figure.Figure at 0x115dd2e80>"
      ]
     },
     "metadata": {},
     "output_type": "display_data"
    }
   ],
   "source": [
    "plt.yscale(\"log\", nonposy='clip')\n",
    "plt.xscale(\"log\", nonposy='clip')\n",
    "plt.errorbar(rp_xc_Pjack,wp_xc_Pjack,yerr=wp_xc_err_Pjack,fmt='.',color='b',label='Peas LRG CCF jackerr')\n",
    "plt.errorbar(rp_xc_Pboot,wp_xc_Pboot,yerr=wp_xc_err_Pboot,fmt='.',color='g',label='Peas LRG CCF booterr')\n",
    "plt.errorbar(rp_LRGboot,wp_p_LRGboot,yerr=wp_p_err_LRGboot,fmt='.',color='r',label='LRG ACF Boostrap')\n",
    "plt.legend(frameon=True,numpoints=1)\n",
    "plt.xlabel('r$_{p}$',fontsize=16)\n",
    "plt.ylabel('w$_{p}$',fontsize=16)\n",
    "plt.title('Cross-Correlation Functions')\n",
    "\n",
    "plt.savefig('../plots/wp_peasLRG_PeeblesACF.pdf')"
   ]
  },
  {
   "cell_type": "code",
   "execution_count": 58,
   "metadata": {},
   "outputs": [
    {
     "data": {
      "image/png": "[encoded data removed]",
      "text/plain": [
       "<matplotlib.figure.Figure at 0x115194470>"
      ]
     },
     "metadata": {},
     "output_type": "display_data"
    }
   ],
   "source": [
    "plt.yscale(\"log\", nonposy='clip')\n",
    "plt.xscale(\"log\", nonposy='clip')\n",
    "plt.errorbar(rp_peaACF_P,wp_p_peaACF_P,yerr=wp_p_err_peaACF_P,fmt='.',color='g',label='Peas ACF')\n",
    "plt.errorbar(rp_xc_Pboot,wp_xc_Pboot,yerr=wp_xc_err_Pboot,fmt='.',color='b',label='Peas LRG CCF')\n",
    "plt.errorbar(rp_LRGboot,wp_p_LRGboot,yerr=wp_p_err_LRGboot,fmt='.',color='r',label='LRG ACF')\n",
    "plt.legend(frameon=True,numpoints=1,loc=2)\n",
    "plt.xlabel('r$_{p}$',fontsize=16)\n",
    "plt.ylabel('w$_{p}$',fontsize=16)\n",
    "plt.title('Cross-Correlation Functions')\n",
    "plt.axis([.1,100,.1,100000])\n",
    "\n",
    "\n",
    "plt.savefig('../plots/wp_peasLRG_PeeblesACF.pdf')"
   ]
  },
  {
   "cell_type": "markdown",
   "metadata": {},
   "source": [
    "Fit with a powerlaw to determine the bias"
   ]
  },
  {
   "cell_type": "code",
   "execution_count": 59,
   "metadata": {},
   "outputs": [],
   "source": [
    "from scipy.special import gamma\n",
    "from scipy.optimize import curve_fit\n"
   ]
  },
  {
   "cell_type": "code",
   "execution_count": 60,
   "metadata": {
    "collapsed": true
   },
   "outputs": [],
   "source": [
    "#Fit with a powerlaw to determine bias (using the autocorrelation of the LRGs)\n",
    "# Gamma is a function from cosmology package (gamma is slope and r0 is amplitude)\n",
    "##https://www.hindawi.com/journals/aa/2012/853701/\n",
    "def A(g):\n",
    "    return gamma(1/2)*gamma((g-1)/2)/gamma(g/2) \n",
    "#y is model powerlaw given rp & 2 parameters of fit\n",
    "def y(r,r0,g):\n",
    "    return A(g)*(r0**g)*(r**(1.-g))"
   ]
  },
  {
   "cell_type": "code",
   "execution_count": 61,
   "metadata": {},
   "outputs": [
    {
     "data": {
      "text/plain": [
       "3.1415926535897927"
      ]
     },
     "execution_count": 61,
     "metadata": {},
     "output_type": "execute_result"
    }
   ],
   "source": [
    "y(1,1,2)"
   ]
  },
  {
   "cell_type": "code",
   "execution_count": 62,
   "metadata": {},
   "outputs": [
    {
     "data": {
      "text/plain": [
       "array([  0.85098909,   1.54928027,   2.8205642 ,   5.13501822,\n",
       "         9.34863035,  17.01978177,  30.98560543])"
      ]
     },
     "execution_count": 62,
     "metadata": {},
     "output_type": "execute_result"
    }
   ],
   "source": [
    "rp_LRGboot[3:20]  ### try fitting only beyond 1 MPC/h"
   ]
  },
  {
   "cell_type": "code",
   "execution_count": 63,
   "metadata": {},
   "outputs": [],
   "source": [
    "## Now fit an actual curve to the data rp2 & wp two halo data\n",
    "#sigerr=wp_p_err\n",
    "##p0 is guesses\n",
    "#y is model powerlaw given rp & 2 parameters of fit\n",
    "\n",
    "plawfitLRG=curve_fit(y,rp_LRGboot[3:20],wp_p_LRGboot[3:20],p0=[2,2])\n",
    "r0LRG=plawfitLRG[0][0]\n",
    "gamLRG=plawfitLRG[0][1]\n",
    "\n",
    "# plug powerlaw fit and darkmatter sigma 8 value, find bias\n",
    "def J(g):\n",
    "    return 72/((3 - g)*(4 - g)*(6 - gamLRG)*2*g)\n",
    "sig_dataLRG = np.sqrt(J(gamLRG)*(r0LRG/8)**gamLRG)\n",
    "sig_dm = (0.8)\n",
    "biasLRG = sig_dataLRG/sig_dm"
   ]
  },
  {
   "cell_type": "code",
   "execution_count": 64,
   "metadata": {
    "scrolled": true
   },
   "outputs": [
    {
     "name": "stdout",
     "output_type": "stream",
     "text": [
      "gamma(ACF LRG)= 1.868581119\n",
      "r0(ACF LRG)= 7.83874206082\n",
      "sigma(ACF LRG)= 1.36438531944\n",
      "bias(ACF LRG)= 1.7054816493\n"
     ]
    }
   ],
   "source": [
    "print('gamma(ACF LRG)=', gamLRG)\n",
    "print('r0(ACF LRG)=', r0LRG)\n",
    "print('sigma(ACF LRG)=', sig_dataLRG)\n",
    "print('bias(ACF LRG)=', biasLRG)"
   ]
  },
  {
   "cell_type": "code",
   "execution_count": 65,
   "metadata": {},
   "outputs": [
    {
     "name": "stdout",
     "output_type": "stream",
     "text": [
      "[  0.3    0.75   2.     4.5    7.     9.    15.    30.    50.    80.  ] [ -40.         -106.         -120.           95.75168504  -87.67444999\n",
      "   13.92267152  -12.81534078   10.17189795   13.27435017    9.91272396] [ 18.90326251  52.19079218   0.          93.37725748  48.81426978\n",
      "  99.03173263  21.3855393   16.74424441  19.0138914   12.1855491 ]\n"
     ]
    }
   ],
   "source": [
    "print(rp_peaACF_P,wp_p_peaACF_P,wp_p_err_peaACF_P)\n"
   ]
  },
  {
   "cell_type": "code",
   "execution_count": 66,
   "metadata": {},
   "outputs": [
    {
     "name": "stderr",
     "output_type": "stream",
     "text": [
      "/Users/ccardamone/anaconda/lib/python3.5/site-packages/ipykernel/__main__.py:8: RuntimeWarning: invalid value encountered in double_scalars\n"
     ]
    }
   ],
   "source": [
    "## Now fit an actual curve to the data rp2 & wp two halo data\n",
    "#sigerr=wp_p_err\n",
    "##p0 is guesses\n",
    "#y is model powerlaw given rp & 2 parameters of fit\n",
    "plawfitPeas=curve_fit(y,rp_peaACF_P,wp_p_peaACF_P,p0=[2,2])\n",
    "r0Peas=plawfitLRG[0][0]\n",
    "gamPeas=plawfitLRG[0][1]\n",
    "\n",
    "# plug powerlaw fit and darkmatter sigma 8 value, find bias\n",
    "def J(g):\n",
    "    return 72/((3 - g)*(4 - g)*(6 - gamPeas)*2*g)\n",
    "sig_dataPeas =np.sqrt(J(gamPeas)*(r0Peas/8)**gamPeas)\n",
    "sig_dm = (0.8)\n",
    "biasPeas = sig_dataPeas/sig_dm"
   ]
  },
  {
   "cell_type": "code",
   "execution_count": 67,
   "metadata": {},
   "outputs": [
    {
     "name": "stdout",
     "output_type": "stream",
     "text": [
      "gamma(ACF Peas)= 1.868581119\n",
      "r0(ACF Peas)= 7.83874206082\n",
      "sigma(ACF Peas)= 1.36438531944\n",
      "bias(ACF Peas)= 1.7054816493\n"
     ]
    }
   ],
   "source": [
    "print('gamma(ACF Peas)=', gamPeas)\n",
    "print('r0(ACF Peas)=', r0Peas)\n",
    "print('sigma(ACF Peas)=', sig_dataPeas)\n",
    "print('bias(ACF Peas)=', biasPeas)"
   ]
  },
  {
   "cell_type": "code",
   "execution_count": 68,
   "metadata": {},
   "outputs": [
    {
     "data": {
      "text/plain": [
       "<matplotlib.text.Text at 0x1151b1048>"
      ]
     },
     "execution_count": 68,
     "metadata": {},
     "output_type": "execute_result"
    },
    {
     "data": {
      "image/png": "[encoded data removed]",
      "text/plain": [
       "<matplotlib.figure.Figure at 0x116418748>"
      ]
     },
     "metadata": {},
     "output_type": "display_data"
    }
   ],
   "source": [
    "plt.yscale(\"log\", nonposy='clip')\n",
    "plt.xscale(\"log\", nonposy='clip')\n",
    "yf_arr_LRG=[]\n",
    "for r in rp_LRGboot:\n",
    "    yf_arr_LRG.append(y(r,r0LRG,gamLRG))\n",
    "plt.errorbar(rp_LRGboot,wp_p_LRGboot,yerr=wp_p_err_LRGboot,fmt='.',color='k')\n",
    "plt.plot(rp_LRGboot,yf_arr_LRG,color='k')\n",
    "plt.xlabel('r$_{p}$',fontsize=16)\n",
    "plt.ylabel('w$_{p}$',fontsize=16)\n",
    "plt.title('LRG Auto Correlation Function')\n"
   ]
  },
  {
   "cell_type": "code",
   "execution_count": 69,
   "metadata": {},
   "outputs": [],
   "source": [
    "## Read in DM wp's calculated w/ halotools catalogs (bolshoi)\n",
    "wdm0=np.load('output/bolshoi_0_wp_dm.npy')\n",
    "wdm5=np.load('output/bolshoi_0.5_wp_dm.npy')\n",
    "rpbins=np.load('output/bolshoi_rp_used.npy')\n",
    "rpdm=(rpbins[:1] + rpbins[1:])/2."
   ]
  },
  {
   "cell_type": "code",
   "execution_count": 70,
   "metadata": {},
   "outputs": [
    {
     "data": {
      "text/plain": [
       "array([  2.26535261e+01,   1.32231087e+01,   9.45076010e+00,\n",
       "         7.64670246e+00,   5.38409843e+00,   3.44793785e+00,\n",
       "         1.94842531e+00,   7.12685336e-01,   3.00832973e-01,\n",
       "        -1.74625325e-02])"
      ]
     },
     "execution_count": 70,
     "metadata": {},
     "output_type": "execute_result"
    }
   ],
   "source": [
    "wdm5"
   ]
  },
  {
   "cell_type": "code",
   "execution_count": 71,
   "metadata": {},
   "outputs": [
    {
     "data": {
      "text/plain": [
       "array([  24.31090074,  -32.79721936,  185.16250854,   10.92344733,\n",
       "         37.23832596,   -2.43094534,    6.76082995,    6.19771165,\n",
       "          5.31216109,    3.5333475 ])"
      ]
     },
     "execution_count": 71,
     "metadata": {},
     "output_type": "execute_result"
    }
   ],
   "source": [
    "rp_xc_Pboot\n",
    "wp_xc_Pboot"
   ]
  },
  {
   "cell_type": "code",
   "execution_count": 72,
   "metadata": {},
   "outputs": [],
   "source": [
    "## Now fit an actual curve to the data rp2 & wp two halo data\n",
    "#sigerr=wp_p_err\n",
    "##p0 is guesses\n",
    "#y is model powerlaw given rp & 2 parameters of fit\n",
    "\n",
    "plawfit=curve_fit(y,rp_xc_Pboot[3:20] ,wp_xc_Pboot[3:20] ,p0=[2,2])\n",
    "r0xc=plawfit[0][0]\n",
    "gamxc=plawfit[0][1]\n",
    "\n",
    "# plug powerlaw fit and darkmatter sigma 8 value, find bias\n",
    "def J(g):\n",
    "    return 72/((3 - g)*(4 - g)*(6 - gamxc)*2*g)\n",
    "sig_dataxc = np.sqrt(J(gamxc)*(r0xc/8)**gamxc)\n",
    "sig_dm = (0.8)\n",
    "biasxc = sig_dataxc/sig_dm"
   ]
  },
  {
   "cell_type": "code",
   "execution_count": 73,
   "metadata": {},
   "outputs": [
    {
     "name": "stdout",
     "output_type": "stream",
     "text": [
      "gamma(CCF LRG peas)= 1.47288185995\n",
      "r0(CCF LRG peas)= 2.25438288182\n",
      "sigma(CCF LRG peas)= 0.465391975512\n",
      "bias(CCF LRG peas)= 0.58173996939\n"
     ]
    }
   ],
   "source": [
    "print('gamma(CCF LRG peas)=', gamxc)\n",
    "print('r0(CCF LRG peas)=', r0xc)\n",
    "print('sigma(CCF LRG peas)=', sig_dataxc)\n",
    "print('bias(CCF LRG peas)=', biasxc)\n",
    "### Bias is the sqrt (bias LRG * bias peas)"
   ]
  },
  {
   "cell_type": "code",
   "execution_count": 74,
   "metadata": {},
   "outputs": [
    {
     "data": {
      "text/plain": [
       "[<matplotlib.lines.Line2D at 0x1159b11d0>]"
      ]
     },
     "execution_count": 74,
     "metadata": {},
     "output_type": "execute_result"
    },
    {
     "data": {
      "image/png": "[encoded data removed]",
      "text/plain": [
       "<matplotlib.figure.Figure at 0x1159b10f0>"
      ]
     },
     "metadata": {},
     "output_type": "display_data"
    }
   ],
   "source": [
    "plt.yscale(\"log\", nonposy='clip')\n",
    "plt.xscale(\"log\", nonposy='clip')\n",
    "yf_arr_xc=[]\n",
    "for r in rp_xc_Pboot:\n",
    "    yf_arr_xc.append(y(r,r0xc,gamxc))\n",
    "plt.errorbar(rp_xc_Pboot,wp_xc_Pboot,yerr=wp_xc_err_Pboot,fmt='.',color='k')\n",
    "plt.plot(rp_xc_Pboot,yf_arr_xc,color='k')"
   ]
  },
  {
   "cell_type": "code",
   "execution_count": 75,
   "metadata": {},
   "outputs": [
    {
     "data": {
      "image/png": "[encoded data removed]",
      "text/plain": [
       "<matplotlib.figure.Figure at 0x115fba470>"
      ]
     },
     "metadata": {},
     "output_type": "display_data"
    }
   ],
   "source": [
    "plt.yscale(\"log\", nonposy='clip')\n",
    "plt.xscale(\"log\", nonposy='clip')\n",
    "#plt.errorbar(rp_xc_Pjack,wp_xc_Pjack,yerr=wp_xc_err_Pjack,fmt='.',color='b',label='Peas LRG CCF jackerr')\n",
    "plt.errorbar(rp_xc_Pboot,wp_xc_Pboot,yerr=wp_xc_err_Pboot,fmt='.',color='g',label='CCF Peas LRG')\n",
    "plt.errorbar(rp_LRGboot,wp_p_LRGboot,yerr=wp_p_err_LRGboot,fmt='.',color='r',label='ACF LRG')\n",
    "plt.plot(rpdm[:-1],wdm0[:-1],label='$w_{P,DM}$ Bolshoi $z=0$')\n",
    "plt.plot(rpdm[:-1],wdm5[:-1],color='m',label='$w_{P,DM}$ Bolshoi $z=.5$')\n",
    "plt.legend(frameon=True,numpoints=1)\n",
    "plt.xlabel('r$_{p}$',fontsize=16)\n",
    "plt.ylabel('w$_{p}$',fontsize=16)\n",
    "plt.title('CCF & ACF')\n",
    "plt.plot(rp_xc_Pboot[3:20],yf_arr_xc[3:20],color='g')\n",
    "plt.plot(rp_LRGboot[3:20],yf_arr_LRG[3:20],color='r')\n",
    "plt.text(.7,500,'$\\gamma=$'+\"{0:.2f}\".format(gamLRG),color='r',fontsize=12)\n",
    "plt.text(1,5,'$\\gamma=$'+\"{0:.2f}\".format(gamxc),color='g',fontsize=12)\n",
    "\n",
    "plt.savefig('../plots/wp_CCF_DM.pdf')"
   ]
  },
  {
   "cell_type": "code",
   "execution_count": 72,
   "metadata": {},
   "outputs": [
    {
     "name": "stdout",
     "output_type": "stream",
     "text": [
      "0.65956887137 1.84977225952\n"
     ]
    }
   ],
   "source": [
    "print(biasxc,biasLRG)\n"
   ]
  },
  {
   "cell_type": "code",
   "execution_count": 73,
   "metadata": {},
   "outputs": [
    {
     "name": "stdout",
     "output_type": "stream",
     "text": [
      "[ 1021.75044755   674.61514331   379.25453248   189.04117831   105.14235834\n",
      "    68.5413169     42.75752957    24.61101803    12.91682928     5.7215873 ]\n",
      "[  24.31090074  -32.79721936  185.16250854   10.92344733   37.23832596\n",
      "   -2.43094534    6.76082995    6.19771165    5.31216109    3.5333475 ]\n"
     ]
    }
   ],
   "source": [
    "print(wp_p_LRGboot)\n",
    "print(wp_xc_Pboot)\n"
   ]
  },
  {
   "cell_type": "code",
   "execution_count": 78,
   "metadata": {},
   "outputs": [
    {
     "data": {
      "image/png": "[encoded data removed]",
      "text/plain": [
       "<matplotlib.figure.Figure at 0x115fcd898>"
      ]
     },
     "metadata": {},
     "output_type": "display_data"
    }
   ],
   "source": [
    "plt.yscale(\"log\", nonposy='clip')\n",
    "plt.xscale(\"log\", nonposy='clip')\n",
    "y1=(wp_xc_Pboot*wp_xc_Pboot)/wp_p_LRGboot\n",
    "yerr1 = y1*np.sqrt(2*(wp_xc_err_Pboot/wp_xc_Pboot)**2 + (wp_p_err_LRGboot/wp_p_LRGboot)**2)\n",
    "## division/mult errors propegated by dq/q=sqrt((da/a)^2+etc.)\n",
    "plt.errorbar(rp_xc_Pboot,y1,yerr1,fmt='o',label='$W_{PP}=W_{PL}^2/W_{LL}$')\n",
    "plt.errorbar(rp_peaACF_P,wp_p_peaACF_P,yerr=wp_p_err_peaACF_P,fmt='o',label='Peas ACF')\n",
    "plt.legend(frameon=False,loc=2,numpoints=1)\n",
    "plt.xlabel('r$_{p}$',fontsize=16)\n",
    "plt.ylabel('w$_{p}$',fontsize=16)\n",
    "plt.title('ACF two ways')\n",
    "plt.plot(rpdm[:-1],wdm0[:-1],label='$w_{P,DM}$ Bolshoi $z=0$')\n",
    "plt.plot(rpdm[:-1],wdm5[:-1],color='m',label='$w_{P,DM}$ Bolshoi $z=.5$')\n",
    "\n",
    "plt.savefig('../plots/wp_ACFfromCCF.pdf')"
   ]
  },
  {
   "cell_type": "code",
   "execution_count": 126,
   "metadata": {},
   "outputs": [
    {
     "name": "stdout",
     "output_type": "stream",
     "text": [
      "[  2.    4.5   7.    9.   12.5  17.5  25.   35.   45.   55. ]\n",
      "[  2.    3.5   4.5   5.5   8.   10.5  15.5  20.5  25.5  30.5]\n",
      "[ 2.   4.5  7. ]\n"
     ]
    },
    {
     "data": {
      "text/plain": [
       "(array([  2. ,   4.5,   7. ,   9. ,  12.5,  17.5,  25. ,  35. ,  45. ,  55. ]),)"
      ]
     },
     "execution_count": 126,
     "metadata": {},
     "output_type": "execute_result"
    }
   ],
   "source": [
    "### r_p returned from CCF/ACF functions is mid-bin.\n",
    "#Used in ACF of peas: bins = np.array([1,3,6,8,10,15,20,30,40,50,60])\n",
    "### output rpboot is then - [  2.    4.5   7.    9.   12.5  17.5  25.   35.   45.   55. ]\n",
    "#Used in wp_DM: rpbins = np.array([1,3,6,8,10,15,20,30,40,50,60])\n",
    "print(rp_boot)\n",
    "print(rpdm)\n",
    "print(rp_boot[np.array([0,1,2])])\n",
    "#matchrp=np.arr\n",
    "rp_PeasACF_pi60,"
   ]
  },
  {
   "cell_type": "code",
   "execution_count": 125,
   "metadata": {},
   "outputs": [
    {
     "name": "stdout",
     "output_type": "stream",
     "text": [
      "[ -114.          2382.19348295   166.31201435   925.50128441   759.07017527\n",
      "   496.01001092   602.91628285   468.48430535   399.37044794   399.71856368]\n",
      "[ 30.51441626  16.87175972  12.12543956   9.8556689    6.83392563\n",
      "   4.45280993   2.41952342   0.91446521   0.38812959  -0.03417333]\n",
      "[ -3.73593907e+00   1.41194133e+02   1.37159576e+01   9.39054765e+01\n",
      "   1.11073813e+02   1.11392586e+02   2.49188033e+02   5.12304130e+02\n",
      "   1.02896160e+03  -1.16967983e+04]\n"
     ]
    },
    {
     "data": {
      "text/plain": [
       "(array([  2. ,   4.5,   7. ,   9. ,  12.5,  17.5,  25. ,  35. ,  45. ,  55. ]),)"
      ]
     },
     "execution_count": 125,
     "metadata": {},
     "output_type": "execute_result"
    }
   ],
   "source": [
    "print(wp_PeasACF_pi60)\n",
    "print(wdm0)\n",
    "print(wp_PeasACF_pi60/wdm0)\n",
    "B_ACF=wp_PeasACF_pi60/wdm0\n",
    "rp_PeasACF_pi60,"
   ]
  },
  {
   "cell_type": "code",
   "execution_count": 83,
   "metadata": {},
   "outputs": [
    {
     "data": {
      "text/plain": [
       "<matplotlib.legend.Legend at 0x1164797b8>"
      ]
     },
     "execution_count": 83,
     "metadata": {},
     "output_type": "execute_result"
    },
    {
     "data": {
      "image/png": "[encoded data removed]",
      "text/plain": [
       "<matplotlib.figure.Figure at 0x116bcbb70>"
      ]
     },
     "metadata": {},
     "output_type": "display_data"
    }
   ],
   "source": [
    "plt.yscale(\"log\", nonposy='clip')\n",
    "plt.xscale(\"log\", nonposy='clip')\n",
    "B_ACF=np.array(wp_p_peaACF_P/wdm0)\n",
    "B_ACFerr=B_ACF*np.sqrt((wp_p_err_peaACF_P/wp_p_peaACF_P)**2)\n",
    "\n",
    "B_CCF=np.array(y1/wdm0)\n",
    "B_CCFerr=np.sqrt((yerr1/y1)**2)\n",
    "\n",
    "#B_LRGACF=np.array(wp_p_LRG/wdm0)\n",
    "\n",
    "#plt.errorbar(rp_peaACF_P,B_ACF,B_ACFerr,fmt='o', label='from Peas ACF',color='g')\n",
    "plt.errorbar(rp_xc_Pboot,B_CCF,B_CCFerr,fmt='o', label='from CCF',color='b')\n",
    "\n",
    "#plt.legend(frameon=False)\n",
    "#plt.axhline(y=biasxc,color='b')\n",
    "#plt.axhline(y=biasPeas,color='g')\n",
    "\n",
    "plt.xlabel('r$_{p}$',fontsize=16)\n",
    "plt.ylabel('Bias=w$p_{,PP}$/w$p_{,DM}$',fontsize=16)\n",
    "plt.title('Bias')\n",
    "#Bias = wpp/wdm\n",
    "plt.text(.15,1100,'Bias PL fit to ACF = '+\"{0:.2f}\".format(biasPeas),color='g',fontsize=12)\n",
    "plt.legend(frameon=False,loc=1,numpoints=1)\n"
   ]
  },
  {
   "cell_type": "code",
   "execution_count": 105,
   "metadata": {},
   "outputs": [
    {
     "name": "stdout",
     "output_type": "stream",
     "text": [
      "0.790063415881\n"
     ]
    }
   ],
   "source": [
    "print(biasxc/biasLRG)\n"
   ]
  },
  {
   "cell_type": "code",
   "execution_count": null,
   "metadata": {
    "collapsed": true
   },
   "outputs": [],
   "source": [
    "### need w_DM @ peas median z, like .2ish\n",
    "w_DM=1\n",
    "w_LL=wp_p_LRGboot\n",
    "w_PL=wp_xc_Pboot\n",
    "w_PP=w_PL**2/w_LL\n",
    "bias = np.sqrt(w_PP/w_DM)\n"
   ]
  },
  {
   "cell_type": "code",
   "execution_count": 84,
   "metadata": {
    "collapsed": true
   },
   "outputs": [],
   "source": [
    "import numpy as np\n",
    "import matplotlib.pyplot as plt\n",
    "from scipy.optimize import curve_fit"
   ]
  },
  {
   "cell_type": "code",
   "execution_count": 90,
   "metadata": {
    "collapsed": true
   },
   "outputs": [],
   "source": [
    "def func(x, b):\n",
    "#    return (a * x) + b\n",
    "    return b"
   ]
  },
  {
   "cell_type": "code",
   "execution_count": 95,
   "metadata": {},
   "outputs": [
    {
     "data": {
      "text/plain": [
       "[<matplotlib.lines.Line2D at 0x115924dd8>]"
      ]
     },
     "execution_count": 95,
     "metadata": {},
     "output_type": "execute_result"
    },
    {
     "data": {
      "image/png": "[encoded data removed]",
      "text/plain": [
       "<matplotlib.figure.Figure at 0x1168dd9e8>"
      ]
     },
     "metadata": {},
     "output_type": "display_data"
    }
   ],
   "source": [
    "popt, pcov = curve_fit(func, rp_xc_Pboot, B_CCF, sigma=B_CCFerr)\n",
    "plt.plot( rp_xc_Pboot, np.ones(len(rp_xc_Pboot))*popt, 'r-', label='fit')\n"
   ]
  },
  {
   "cell_type": "code",
   "execution_count": 92,
   "metadata": {},
   "outputs": [
    {
     "data": {
      "text/plain": [
       "array([-8.8515584])"
      ]
     },
     "execution_count": 92,
     "metadata": {},
     "output_type": "execute_result"
    }
   ],
   "source": [
    "popt"
   ]
  },
  {
   "cell_type": "code",
   "execution_count": null,
   "metadata": {
    "collapsed": true
   },
   "outputs": [],
   "source": []
  }
 ],
 "metadata": {
  "kernelspec": {
   "display_name": "Python 3",
   "language": "python",
   "name": "python3"
  },
  "language_info": {
   "codemirror_mode": {
    "name": "ipython",
    "version": 3
   },
   "file_extension": ".py",
   "mimetype": "text/x-python",
   "name": "python",
   "nbconvert_exporter": "python",
   "pygments_lexer": "ipython3",
   "version": "3.7.6"
  }
 },
 "nbformat": 4,
 "nbformat_minor": 1
}
