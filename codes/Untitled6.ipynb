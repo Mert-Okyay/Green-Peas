{
 "cells": [
  {
   "cell_type": "code",
   "execution_count": 1,
   "metadata": {},
   "outputs": [
    {
     "name": "stdout",
     "output_type": "stream",
     "text": [
      "2020-11-11 20:46:04\n"
     ]
    },
    {
     "name": "stderr",
     "output_type": "stream",
     "text": [
      "In gridlink_mocks_double> Running with [nmesh_x, nmesh_y, nmesh_z]  = 26,23,7.  Time taken =   0.007 sec\n",
      "In gridlink_mocks_double> Running with [nmesh_x, nmesh_y, nmesh_z]  = 26,23,7.  Time taken =   0.068 sec\n",
      "Using AVX512 kernel\n",
      "0%.........10%.........20%.........30%.........40%.........50%.........60%.........70%.........80%.........90%.........100% done. Time taken =  0.103 secs\n",
      "In gridlink_mocks_double> Running with [nmesh_x, nmesh_y, nmesh_z]  = 26,23,7.  Time taken =   0.005 sec\n",
      "countpairs_mocks_double> gridlink seems inefficient. nmesh = (26, 23, 7); avg_np = 1.69e+03. Boosting bin refine factor - should lead to better performance\n",
      "In gridlink_mocks_double> Running with [nmesh_x, nmesh_y, nmesh_z]  = 39,35,7.  Time taken =   0.003 sec\n",
      "In gridlink_mocks_double> Running with [nmesh_x, nmesh_y, nmesh_z]  = 39,35,7.  Time taken =   1.628 sec\n",
      "0%.........10%.........20%.........30%.........40%.........50%.........60%.........70%.........80%.........90%.........100% done. Time taken =  0.838 secs\n"
     ]
    },
    {
     "name": "stdout",
     "output_type": "stream",
     "text": [
      "Warning: found negative RA values, wrapping into [0.0, 360.0]  range\n"
     ]
    },
    {
     "name": "stderr",
     "output_type": "stream",
     "text": [
      "In gridlink_mocks_double> Running with [nmesh_x, nmesh_y, nmesh_z]  = 26,24,7.  Time taken =   0.052 sec\n",
      "In gridlink_mocks_double> Running with [nmesh_x, nmesh_y, nmesh_z]  = 26,24,7.  Time taken =   0.208 sec\n",
      "0%.........10%.........20%.........30%.........40%.........50%.........60%.........70%.........80%.........90%.........100% done. Time taken =  7.918 secs\n"
     ]
    },
    {
     "name": "stdout",
     "output_type": "stream",
     "text": [
      "Warning: found negative RA values, wrapping into [0.0, 360.0]  range\n"
     ]
    },
    {
     "name": "stderr",
     "output_type": "stream",
     "text": [
      "In gridlink_mocks_double> Running with [nmesh_x, nmesh_y, nmesh_z]  = 26,24,7.  Time taken =   0.149 sec\n",
      "countpairs_mocks_double> gridlink seems inefficient. nmesh = (26, 24, 7); avg_np = 1.62e+03. Boosting bin refine factor - should lead to better performance\n",
      "In gridlink_mocks_double> Running with [nmesh_x, nmesh_y, nmesh_z]  = 39,36,7.  Time taken =   0.184 sec\n",
      "In gridlink_mocks_double> Running with [nmesh_x, nmesh_y, nmesh_z]  = 39,36,7.  Time taken =   1.761 sec\n",
      "0%.........10%.........20%.........30%.........40%.........50%.........60%.........70%.........80%.........90%.........100% done. Time taken =     2 mins   41 secs\n",
      "/data/home/mokyay/Research_stuff/Green-Peas/codes/clustering/clustering/error.py:204: FutureWarning: elementwise == comparison failed and returning scalar instead; this will raise an error or perform elementwise comparison in the future.\n",
      "  if cat==None:\n",
      "/home/mokyay/anaconda3/lib/python3.7/site-packages/astropy/table/table.py:3064: FutureWarning: elementwise == comparison failed and returning scalar instead; this will raise an error or perform elementwise comparison in the future.\n",
      "  result = self.as_array() == other\n"
     ]
    },
    {
     "name": "stdout",
     "output_type": "stream",
     "text": [
      "Using  25  jacknife samples\n",
      "1 / 25\n"
     ]
    },
    {
     "name": "stderr",
     "output_type": "stream",
     "text": [
      "In gridlink_mocks_double> Running with [nmesh_x, nmesh_y, nmesh_z]  = 26,23,7.  Time taken =   0.003 sec\n",
      "In gridlink_mocks_double> Running with [nmesh_x, nmesh_y, nmesh_z]  = 26,23,7.  Time taken =   0.060 sec\n",
      "0%.........10%.........20%.........30%.........40%.........50%.........60%.........70%.........80%.........90%.........100% done. Time taken =  0.078 secs\n",
      "In gridlink_mocks_double> Running with [nmesh_x, nmesh_y, nmesh_z]  = 26,23,7.  Time taken =   0.004 sec\n",
      "countpairs_mocks_double> gridlink seems inefficient. nmesh = (26, 23, 7); avg_np = 1.69e+03. Boosting bin refine factor - should lead to better performance\n",
      "In gridlink_mocks_double> Running with [nmesh_x, nmesh_y, nmesh_z]  = 39,35,7.  Time taken =   0.004 sec\n",
      "In gridlink_mocks_double> Running with [nmesh_x, nmesh_y, nmesh_z]  = 39,35,7.  Time taken =   1.171 sec\n",
      "0%.........10%.........20%.........30%.........40%.........50%.........60%.........70%.........80%.........90%.........100% done. Time taken =  0.776 secs\n",
      "In gridlink_mocks_double> Running with [nmesh_x, nmesh_y, nmesh_z]  = 26,24,7.  Time taken =   0.047 sec\n",
      "In gridlink_mocks_double> Running with [nmesh_x, nmesh_y, nmesh_z]  = 26,24,7.  Time taken =   0.132 sec\n",
      "0%.........10%.........20%.........30%.........40%.........50%.........60%.........70%.........80%.........90%.........100% done. Time taken = 14.439 secs\n",
      "In gridlink_mocks_double> Running with [nmesh_x, nmesh_y, nmesh_z]  = 26,24,7.  Time taken =   0.092 sec\n",
      "countpairs_mocks_double> gridlink seems inefficient. nmesh = (26, 24, 7); avg_np = 1.62e+03. Boosting bin refine factor - should lead to better performance\n",
      "In gridlink_mocks_double> Running with [nmesh_x, nmesh_y, nmesh_z]  = 39,36,7.  Time taken =   0.111 sec\n",
      "In gridlink_mocks_double> Running with [nmesh_x, nmesh_y, nmesh_z]  = 39,36,7.  Time taken =   1.140 sec\n",
      "0%.........10%.........20%.........30%.........40%.........50%.........60%.........70%.........80%.........90%.........100% done. Time taken =     4 mins   49 secs\n"
     ]
    },
    {
     "name": "stdout",
     "output_type": "stream",
     "text": [
      "2 / 25\n"
     ]
    },
    {
     "name": "stderr",
     "output_type": "stream",
     "text": [
      "In gridlink_mocks_double> Running with [nmesh_x, nmesh_y, nmesh_z]  = 26,23,7.  Time taken =   0.002 sec\n",
      "In gridlink_mocks_double> Running with [nmesh_x, nmesh_y, nmesh_z]  = 26,23,7.  Time taken =   0.033 sec\n",
      "0%.........10%.........20%.........30%.........40%.........50%.........60%.........70%.........80%.........90%.........100% done. Time taken =  0.079 secs\n",
      "In gridlink_mocks_double> Running with [nmesh_x, nmesh_y, nmesh_z]  = 26,23,7.  Time taken =   0.001 sec\n",
      "countpairs_mocks_double> gridlink seems inefficient. nmesh = (26, 23, 7); avg_np = 1.69e+03. Boosting bin refine factor - should lead to better performance\n",
      "In gridlink_mocks_double> Running with [nmesh_x, nmesh_y, nmesh_z]  = 39,35,7.  Time taken =   0.002 sec\n",
      "In gridlink_mocks_double> Running with [nmesh_x, nmesh_y, nmesh_z]  = 39,35,7.  Time taken =   1.210 sec\n",
      "0%.........10%.........20%.........30%.........40%.........50%.........60%.........70%.........80%.........90%.........100% done. Time taken =  0.747 secs\n",
      "In gridlink_mocks_double> Running with [nmesh_x, nmesh_y, nmesh_z]  = 26,24,7.  Time taken =   0.038 sec\n",
      "In gridlink_mocks_double> Running with [nmesh_x, nmesh_y, nmesh_z]  = 26,24,7.  Time taken =   0.117 sec\n",
      "0%.........10%.........20%.........30%.........40%.........50%.........60%.........70%.........80%.........90%.........100% done. Time taken = 14.537 secs\n",
      "In gridlink_mocks_double> Running with [nmesh_x, nmesh_y, nmesh_z]  = 26,24,7.  Time taken =   0.090 sec\n",
      "countpairs_mocks_double> gridlink seems inefficient. nmesh = (26, 24, 7); avg_np = 1.62e+03. Boosting bin refine factor - should lead to better performance\n",
      "In gridlink_mocks_double> Running with [nmesh_x, nmesh_y, nmesh_z]  = 39,36,7.  Time taken =   0.096 sec\n",
      "In gridlink_mocks_double> Running with [nmesh_x, nmesh_y, nmesh_z]  = 39,36,7.  Time taken =   1.209 sec\n",
      "0%.........10%.........20%.........30%.........40%.........50%.........60%.........70%.........80%.........90%.........100% done. Time taken =     4 mins   48 secs\n"
     ]
    },
    {
     "name": "stdout",
     "output_type": "stream",
     "text": [
      "3 / 25\n"
     ]
    },
    {
     "name": "stderr",
     "output_type": "stream",
     "text": [
      "In gridlink_mocks_double> Running with [nmesh_x, nmesh_y, nmesh_z]  = 26,23,7.  Time taken =   0.003 sec\n",
      "In gridlink_mocks_double> Running with [nmesh_x, nmesh_y, nmesh_z]  = 26,23,7.  Time taken =   0.030 sec\n",
      "0%.........10%.........20%.........30%.........40%.........50%.........60%.........70%.........80%.........90%.........100% done. Time taken =  0.072 secs\n",
      "In gridlink_mocks_double> Running with [nmesh_x, nmesh_y, nmesh_z]  = 26,23,7.  Time taken =   0.002 sec\n",
      "countpairs_mocks_double> gridlink seems inefficient. nmesh = (26, 23, 7); avg_np = 1.49e+03. Boosting bin refine factor - should lead to better performance\n",
      "In gridlink_mocks_double> Running with [nmesh_x, nmesh_y, nmesh_z]  = 39,35,7.  Time taken =   0.003 sec\n",
      "In gridlink_mocks_double> Running with [nmesh_x, nmesh_y, nmesh_z]  = 39,35,7.  Time taken =   0.960 sec\n",
      "0%.........10%.........20%.........30%.........40%.........50%.........60%.........70%.........80%.........90%.........100% done. Time taken =  0.590 secs\n",
      "In gridlink_mocks_double> Running with [nmesh_x, nmesh_y, nmesh_z]  = 26,23,7.  Time taken =   0.036 sec\n",
      "In gridlink_mocks_double> Running with [nmesh_x, nmesh_y, nmesh_z]  = 26,23,7.  Time taken =   0.099 sec\n",
      "0%.........10%.........20%.........30%.........40%.........50%.........60%.........70%.........80%.........90%.........100% done. Time taken = 11.442 secs\n",
      "In gridlink_mocks_double> Running with [nmesh_x, nmesh_y, nmesh_z]  = 26,23,7.  Time taken =   0.073 sec\n",
      "countpairs_mocks_double> gridlink seems inefficient. nmesh = (26, 23, 7); avg_np = 1.49e+03. Boosting bin refine factor - should lead to better performance\n",
      "In gridlink_mocks_double> Running with [nmesh_x, nmesh_y, nmesh_z]  = 39,35,7.  Time taken =   0.080 sec\n",
      "In gridlink_mocks_double> Running with [nmesh_x, nmesh_y, nmesh_z]  = 39,35,7.  Time taken =   0.976 sec\n",
      "0%.........10%.........20%.........30%.........40%.........50%.........60%.........70%.........80%.........90%.........100% done. Time taken =     3 mins   55 secs\n"
     ]
    },
    {
     "name": "stdout",
     "output_type": "stream",
     "text": [
      "4 / 25\n"
     ]
    },
    {
     "name": "stderr",
     "output_type": "stream",
     "text": [
      "In gridlink_mocks_double> Running with [nmesh_x, nmesh_y, nmesh_z]  = 26,23,7.  Time taken =   0.002 sec\n",
      "In gridlink_mocks_double> Running with [nmesh_x, nmesh_y, nmesh_z]  = 26,23,7.  Time taken =   0.031 sec\n",
      "0%.........10%.........20%.........30%.........40%.........50%.........60%.........70%.........80%.........90%.........100% done. Time taken =  0.073 secs\n",
      "In gridlink_mocks_double> Running with [nmesh_x, nmesh_y, nmesh_z]  = 26,23,7.  Time taken =   0.002 sec\n",
      "countpairs_mocks_double> gridlink seems inefficient. nmesh = (26, 23, 7); avg_np = 1.6e+03. Boosting bin refine factor - should lead to better performance\n",
      "In gridlink_mocks_double> Running with [nmesh_x, nmesh_y, nmesh_z]  = 39,35,7.  Time taken =   0.002 sec\n",
      "In gridlink_mocks_double> Running with [nmesh_x, nmesh_y, nmesh_z]  = 39,35,7.  Time taken =   1.101 sec\n",
      "0%.........10%.........20%.........30%.........40%.........50%.........60%.........70%.........80%.........90%.........100% done. Time taken =  0.647 secs\n",
      "In gridlink_mocks_double> Running with [nmesh_x, nmesh_y, nmesh_z]  = 26,24,7.  Time taken =   0.036 sec\n",
      "In gridlink_mocks_double> Running with [nmesh_x, nmesh_y, nmesh_z]  = 26,24,7.  Time taken =   0.106 sec\n",
      "0%.........10%.........20%.........30%.........40%.........50%.........60%.........70%.........80%.........90%.........100% done. Time taken = 12.875 secs\n",
      "In gridlink_mocks_double> Running with [nmesh_x, nmesh_y, nmesh_z]  = 26,24,7.  Time taken =   0.086 sec\n",
      "countpairs_mocks_double> gridlink seems inefficient. nmesh = (26, 24, 7); avg_np = 1.53e+03. Boosting bin refine factor - should lead to better performance\n",
      "In gridlink_mocks_double> Running with [nmesh_x, nmesh_y, nmesh_z]  = 39,36,7.  Time taken =   0.098 sec\n",
      "In gridlink_mocks_double> Running with [nmesh_x, nmesh_y, nmesh_z]  = 39,36,7.  Time taken =   1.103 sec\n",
      "0%.........10%.........20%.........30%.........40%.........50%.........60%.........70%.........80%.........90%.........100% done. Time taken =     4 mins   26 secs\n"
     ]
    },
    {
     "name": "stdout",
     "output_type": "stream",
     "text": [
      "5 / 25\n"
     ]
    },
    {
     "name": "stderr",
     "output_type": "stream",
     "text": [
      "In gridlink_mocks_double> Running with [nmesh_x, nmesh_y, nmesh_z]  = 26,23,7.  Time taken =   0.003 sec\n",
      "In gridlink_mocks_double> Running with [nmesh_x, nmesh_y, nmesh_z]  = 26,23,7.  Time taken =   0.055 sec\n",
      "0%.........10%.........20%.........30%.........40%.........50%.........60%.........70%.........80%.........90%.........100% done. Time taken =  0.086 secs\n",
      "In gridlink_mocks_double> Running with [nmesh_x, nmesh_y, nmesh_z]  = 26,23,7.  Time taken =   0.003 sec\n",
      "countpairs_mocks_double> gridlink seems inefficient. nmesh = (26, 23, 7); avg_np = 1.69e+03. Boosting bin refine factor - should lead to better performance\n",
      "In gridlink_mocks_double> Running with [nmesh_x, nmesh_y, nmesh_z]  = 39,35,7.  Time taken =   0.005 sec\n",
      "In gridlink_mocks_double> Running with [nmesh_x, nmesh_y, nmesh_z]  = 39,35,7.  Time taken =   1.259 sec\n",
      "0%.........10%.........20%.........30%.........40%.........50%.........60%.........70%.........80%.........90%.........100% done. Time taken =  0.781 secs\n",
      "In gridlink_mocks_double> Running with [nmesh_x, nmesh_y, nmesh_z]  = 26,24,7.  Time taken =   0.037 sec\n",
      "In gridlink_mocks_double> Running with [nmesh_x, nmesh_y, nmesh_z]  = 26,24,7.  Time taken =   0.148 sec\n",
      "0%.........10%.........20%.........30%.........40%.........50%.........60%.........70%.........80%.........90%.........100% done. Time taken = 14.509 secs\n",
      "In gridlink_mocks_double> Running with [nmesh_x, nmesh_y, nmesh_z]  = 26,24,7.  Time taken =   0.088 sec\n",
      "countpairs_mocks_double> gridlink seems inefficient. nmesh = (26, 24, 7); avg_np = 1.62e+03. Boosting bin refine factor - should lead to better performance\n",
      "In gridlink_mocks_double> Running with [nmesh_x, nmesh_y, nmesh_z]  = 39,36,7.  Time taken =   0.083 sec\n",
      "In gridlink_mocks_double> Running with [nmesh_x, nmesh_y, nmesh_z]  = 39,36,7.  Time taken =   1.035 sec\n",
      "0%.........10%.........20%.........30%.........40%.........50%.........60%.........70%.........80%.........90%.........100% done. Time taken =     4 mins   48 secs\n"
     ]
    },
    {
     "name": "stdout",
     "output_type": "stream",
     "text": [
      "6 / 25\n"
     ]
    },
    {
     "name": "stderr",
     "output_type": "stream",
     "text": [
      "In gridlink_mocks_double> Running with [nmesh_x, nmesh_y, nmesh_z]  = 26,23,7.  Time taken =   0.002 sec\n",
      "In gridlink_mocks_double> Running with [nmesh_x, nmesh_y, nmesh_z]  = 26,23,7.  Time taken =   0.052 sec\n",
      "0%.........10%.........20%.........30%.........40%.........50%.........60%.........70%.........80%.........90%.........100% done. Time taken =  0.083 secs\n",
      "In gridlink_mocks_double> Running with [nmesh_x, nmesh_y, nmesh_z]  = 26,23,7.  Time taken =   0.004 sec\n",
      "countpairs_mocks_double> gridlink seems inefficient. nmesh = (26, 23, 7); avg_np = 1.69e+03. Boosting bin refine factor - should lead to better performance\n",
      "In gridlink_mocks_double> Running with [nmesh_x, nmesh_y, nmesh_z]  = 39,35,7.  Time taken =   0.003 sec\n",
      "In gridlink_mocks_double> Running with [nmesh_x, nmesh_y, nmesh_z]  = 39,35,7.  Time taken =   1.518 sec\n",
      "0%.........10%.........20%.........30%.........40%.........50%.........60%.........70%.........80%.........90%.........100% done. Time taken =  0.820 secs\n",
      "In gridlink_mocks_double> Running with [nmesh_x, nmesh_y, nmesh_z]  = 26,24,7.  Time taken =   0.047 sec\n",
      "In gridlink_mocks_double> Running with [nmesh_x, nmesh_y, nmesh_z]  = 26,24,7.  Time taken =   0.132 sec\n",
      "0%.........10%.........20%.........30%.........40%.........50%.........60%.........70%.........80%.........90%.........100% done. Time taken = 15.708 secs\n",
      "In gridlink_mocks_double> Running with [nmesh_x, nmesh_y, nmesh_z]  = 26,24,7.  Time taken =   0.158 sec\n",
      "countpairs_mocks_double> gridlink seems inefficient. nmesh = (26, 24, 7); avg_np = 1.62e+03. Boosting bin refine factor - should lead to better performance\n",
      "In gridlink_mocks_double> Running with [nmesh_x, nmesh_y, nmesh_z]  = 39,36,7.  Time taken =   0.156 sec\n",
      "In gridlink_mocks_double> Running with [nmesh_x, nmesh_y, nmesh_z]  = 39,36,7.  Time taken =   1.568 sec\n",
      "0%.........10%.........20%.........30%.........40%.........50%.........60%.........70%.........80%.........90%.........100% done. Time taken =     4 mins   53 secs\n"
     ]
    },
    {
     "name": "stdout",
     "output_type": "stream",
     "text": [
      "7 / 25\n"
     ]
    },
    {
     "name": "stderr",
     "output_type": "stream",
     "text": [
      "In gridlink_mocks_double> Running with [nmesh_x, nmesh_y, nmesh_z]  = 26,23,7.  Time taken =   0.002 sec\n",
      "In gridlink_mocks_double> Running with [nmesh_x, nmesh_y, nmesh_z]  = 26,23,7.  Time taken =   0.031 sec\n",
      "0%.........10%.........20%.........30%.........40%.........50%.........60%.........70%.........80%.........90%.........100% done. Time taken =  0.083 secs\n",
      "In gridlink_mocks_double> Running with [nmesh_x, nmesh_y, nmesh_z]  = 26,23,7.  Time taken =   0.001 sec\n",
      "countpairs_mocks_double> gridlink seems inefficient. nmesh = (26, 23, 7); avg_np = 1.69e+03. Boosting bin refine factor - should lead to better performance\n",
      "In gridlink_mocks_double> Running with [nmesh_x, nmesh_y, nmesh_z]  = 39,35,7.  Time taken =   0.002 sec\n",
      "In gridlink_mocks_double> Running with [nmesh_x, nmesh_y, nmesh_z]  = 39,35,7.  Time taken =   1.153 sec\n",
      "0%.........10%.........20%.........30%.........40%.........50%.........60%.........70%.........80%.........90%.........100% done. Time taken =  0.790 secs\n",
      "In gridlink_mocks_double> Running with [nmesh_x, nmesh_y, nmesh_z]  = 26,24,7.  Time taken =   0.044 sec\n",
      "In gridlink_mocks_double> Running with [nmesh_x, nmesh_y, nmesh_z]  = 26,24,7.  Time taken =   0.120 sec\n",
      "0%.........10%.........20%.........30%.........40%.........50%.........60%.........70%.........80%.........90%.........100% done. Time taken = 13.487 secs\n",
      "In gridlink_mocks_double> Running with [nmesh_x, nmesh_y, nmesh_z]  = 26,24,7.  Time taken =   0.083 sec\n",
      "countpairs_mocks_double> gridlink seems inefficient. nmesh = (26, 24, 7); avg_np = 1.62e+03. Boosting bin refine factor - should lead to better performance\n",
      "In gridlink_mocks_double> Running with [nmesh_x, nmesh_y, nmesh_z]  = 39,36,7.  Time taken =   0.103 sec\n",
      "In gridlink_mocks_double> Running with [nmesh_x, nmesh_y, nmesh_z]  = 39,36,7.  Time taken =   1.175 sec\n",
      "0%.........10%.........20%.........30%.........40%.........50%.........60%.........70%.........80%.........90%.........100% done. Time taken =     4 mins   53 secs\n"
     ]
    },
    {
     "name": "stdout",
     "output_type": "stream",
     "text": [
      "8 / 25\n"
     ]
    },
    {
     "name": "stderr",
     "output_type": "stream",
     "text": [
      "In gridlink_mocks_double> Running with [nmesh_x, nmesh_y, nmesh_z]  = 26,23,7.  Time taken =   0.002 sec\n",
      "In gridlink_mocks_double> Running with [nmesh_x, nmesh_y, nmesh_z]  = 26,23,7.  Time taken =   0.038 sec\n",
      "0%.........10%.........20%.........30%.........40%.........50%.........60%.........70%.........80%.........90%.........100% done. Time taken =  0.070 secs\n",
      "In gridlink_mocks_double> Running with [nmesh_x, nmesh_y, nmesh_z]  = 26,23,7.  Time taken =   0.002 sec\n",
      "countpairs_mocks_double> gridlink seems inefficient. nmesh = (26, 23, 7); avg_np = 1.62e+03. Boosting bin refine factor - should lead to better performance\n",
      "In gridlink_mocks_double> Running with [nmesh_x, nmesh_y, nmesh_z]  = 39,35,7.  Time taken =   0.003 sec\n",
      "In gridlink_mocks_double> Running with [nmesh_x, nmesh_y, nmesh_z]  = 39,35,7.  Time taken =   1.189 sec\n",
      "0%.........10%.........20%.........30%.........40%.........50%.........60%.........70%.........80%.........90%.........100% done. Time taken =  0.721 secs\n",
      "In gridlink_mocks_double> Running with [nmesh_x, nmesh_y, nmesh_z]  = 26,24,7.  Time taken =   0.035 sec\n",
      "In gridlink_mocks_double> Running with [nmesh_x, nmesh_y, nmesh_z]  = 26,24,7.  Time taken =   0.114 sec\n",
      "0%.........10%.........20%.........30%.........40%.........50%.........60%.........70%.........80%.........90%.........100% done. Time taken = 13.289 secs\n",
      "In gridlink_mocks_double> Running with [nmesh_x, nmesh_y, nmesh_z]  = 26,24,7.  Time taken =   0.082 sec\n",
      "countpairs_mocks_double> gridlink seems inefficient. nmesh = (26, 24, 7); avg_np = 1.55e+03. Boosting bin refine factor - should lead to better performance\n",
      "In gridlink_mocks_double> Running with [nmesh_x, nmesh_y, nmesh_z]  = 39,36,7.  Time taken =   0.101 sec\n",
      "In gridlink_mocks_double> Running with [nmesh_x, nmesh_y, nmesh_z]  = 39,36,7.  Time taken =   1.110 sec\n",
      "0%.........10%.........20%.........30%.........40%.........50%.........60%.........70%.........80%.........90%.........100% done. Time taken =     4 mins   40 secs\n"
     ]
    },
    {
     "name": "stdout",
     "output_type": "stream",
     "text": [
      "9 / 25\n"
     ]
    },
    {
     "name": "stderr",
     "output_type": "stream",
     "text": [
      "In gridlink_mocks_double> Running with [nmesh_x, nmesh_y, nmesh_z]  = 26,23,7.  Time taken =   0.009 sec\n",
      "In gridlink_mocks_double> Running with [nmesh_x, nmesh_y, nmesh_z]  = 26,23,7.  Time taken =   0.053 sec\n",
      "0%.........10%.........20%.........30%.........40%.........50%.........60%.........70%.........80%.........90%.........100% done. Time taken =  0.073 secs\n",
      "In gridlink_mocks_double> Running with [nmesh_x, nmesh_y, nmesh_z]  = 26,23,7.  Time taken =   0.001 sec\n",
      "countpairs_mocks_double> gridlink seems inefficient. nmesh = (26, 23, 7); avg_np = 1.58e+03. Boosting bin refine factor - should lead to better performance\n",
      "In gridlink_mocks_double> Running with [nmesh_x, nmesh_y, nmesh_z]  = 39,35,7.  Time taken =   0.002 sec\n",
      "In gridlink_mocks_double> Running with [nmesh_x, nmesh_y, nmesh_z]  = 39,35,7.  Time taken =   1.345 sec\n",
      "0%.........10%.........20%.........30%.........40%.........50%.........60%.........70%.........80%.........90%.........100% done. Time taken =  0.724 secs\n",
      "In gridlink_mocks_double> Running with [nmesh_x, nmesh_y, nmesh_z]  = 26,24,7.  Time taken =   0.057 sec\n",
      "In gridlink_mocks_double> Running with [nmesh_x, nmesh_y, nmesh_z]  = 26,24,7.  Time taken =   0.104 sec\n",
      "0%.........10%.........20%.........30%.........40%.........50%.........60%.........70%.........80%.........90%.........100% done. Time taken = 12.615 secs\n",
      "In gridlink_mocks_double> Running with [nmesh_x, nmesh_y, nmesh_z]  = 26,24,7.  Time taken =   0.103 sec\n",
      "countpairs_mocks_double> gridlink seems inefficient. nmesh = (26, 24, 7); avg_np = 1.51e+03. Boosting bin refine factor - should lead to better performance\n",
      "In gridlink_mocks_double> Running with [nmesh_x, nmesh_y, nmesh_z]  = 39,36,7.  Time taken =   0.115 sec\n",
      "In gridlink_mocks_double> Running with [nmesh_x, nmesh_y, nmesh_z]  = 39,36,7.  Time taken =   1.291 sec\n",
      "0%.........10%.........20%.........30%.........40%.........50%.........60%.........70%.........80%.........90%.........100% done. Time taken =     4 mins   17 secs\n"
     ]
    },
    {
     "name": "stdout",
     "output_type": "stream",
     "text": [
      "10 / 25\n"
     ]
    },
    {
     "name": "stderr",
     "output_type": "stream",
     "text": [
      "In gridlink_mocks_double> Running with [nmesh_x, nmesh_y, nmesh_z]  = 26,23,7.  Time taken =   0.003 sec\n",
      "In gridlink_mocks_double> Running with [nmesh_x, nmesh_y, nmesh_z]  = 26,23,7.  Time taken =   0.064 sec\n",
      "0%.........10%.........20%.........30%.........40%.........50%.........60%.........70%.........80%.........90%.........100% done. Time taken =  0.085 secs\n",
      "In gridlink_mocks_double> Running with [nmesh_x, nmesh_y, nmesh_z]  = 26,23,7.  Time taken =   0.003 sec\n",
      "countpairs_mocks_double> gridlink seems inefficient. nmesh = (26, 23, 7); avg_np = 1.67e+03. Boosting bin refine factor - should lead to better performance\n",
      "In gridlink_mocks_double> Running with [nmesh_x, nmesh_y, nmesh_z]  = 39,35,7.  Time taken =   0.005 sec\n",
      "In gridlink_mocks_double> Running with [nmesh_x, nmesh_y, nmesh_z]  = 39,35,7.  Time taken =   1.366 sec\n",
      "0%.........10%.........20%.........30%.........40%.........50%.........60%.........70%.........80%.........90%.........100% done. Time taken =  0.723 secs\n",
      "In gridlink_mocks_double> Running with [nmesh_x, nmesh_y, nmesh_z]  = 26,24,7.  Time taken =   0.035 sec\n",
      "In gridlink_mocks_double> Running with [nmesh_x, nmesh_y, nmesh_z]  = 26,24,7.  Time taken =   0.122 sec\n",
      "0%.........10%.........20%.........30%.........40%.........50%.........60%.........70%.........80%.........90%.........100% done. Time taken = 14.665 secs\n",
      "In gridlink_mocks_double> Running with [nmesh_x, nmesh_y, nmesh_z]  = 26,24,7.  Time taken =   0.081 sec\n",
      "countpairs_mocks_double> gridlink seems inefficient. nmesh = (26, 24, 7); avg_np = 1.6e+03. Boosting bin refine factor - should lead to better performance\n",
      "In gridlink_mocks_double> Running with [nmesh_x, nmesh_y, nmesh_z]  = 39,36,7.  Time taken =   0.144 sec\n",
      "In gridlink_mocks_double> Running with [nmesh_x, nmesh_y, nmesh_z]  = 39,36,7.  Time taken =   1.065 sec\n",
      "0%.........10%.........20%.........30%.........40%.........50%.........60%.........70%.........80%.........90%.........100% done. Time taken =     4 mins   48 secs\n"
     ]
    },
    {
     "name": "stdout",
     "output_type": "stream",
     "text": [
      "11 / 25\n"
     ]
    },
    {
     "name": "stderr",
     "output_type": "stream",
     "text": [
      "In gridlink_mocks_double> Running with [nmesh_x, nmesh_y, nmesh_z]  = 26,23,7.  Time taken =   0.002 sec\n",
      "In gridlink_mocks_double> Running with [nmesh_x, nmesh_y, nmesh_z]  = 26,23,7.  Time taken =   0.026 sec\n",
      "0%.........10%.........20%.........30%.........40%.........50%.........60%.........70%.........80%.........90%.........100% done. Time taken =  0.081 secs\n",
      "In gridlink_mocks_double> Running with [nmesh_x, nmesh_y, nmesh_z]  = 26,23,7.  Time taken =   0.004 sec\n",
      "countpairs_mocks_double> gridlink seems inefficient. nmesh = (26, 23, 7); avg_np = 1.69e+03. Boosting bin refine factor - should lead to better performance\n",
      "In gridlink_mocks_double> Running with [nmesh_x, nmesh_y, nmesh_z]  = 39,35,7.  Time taken =   0.003 sec\n",
      "In gridlink_mocks_double> Running with [nmesh_x, nmesh_y, nmesh_z]  = 39,35,7.  Time taken =   1.094 sec\n",
      "0%.........10%.........20%.........30%.........40%.........50%.........60%.........70%.........80%.........90%.........100% done. Time taken =  0.764 secs\n",
      "In gridlink_mocks_double> Running with [nmesh_x, nmesh_y, nmesh_z]  = 26,24,7.  Time taken =   0.060 sec\n",
      "In gridlink_mocks_double> Running with [nmesh_x, nmesh_y, nmesh_z]  = 26,24,7.  Time taken =   0.187 sec\n",
      "0%.........10%.........20%.........30%.........40%.........50%.........60%.........70%.........80%.........90%.........100% done. Time taken = 14.468 secs\n",
      "In gridlink_mocks_double> Running with [nmesh_x, nmesh_y, nmesh_z]  = 26,24,7.  Time taken =   0.148 sec\n",
      "countpairs_mocks_double> gridlink seems inefficient. nmesh = (26, 24, 7); avg_np = 1.62e+03. Boosting bin refine factor - should lead to better performance\n",
      "In gridlink_mocks_double> Running with [nmesh_x, nmesh_y, nmesh_z]  = 39,36,7.  Time taken =   0.156 sec\n",
      "In gridlink_mocks_double> Running with [nmesh_x, nmesh_y, nmesh_z]  = 39,36,7.  Time taken =   1.329 sec\n",
      "0%.........10%.........20%.........30%.........40%.........50%.........60%.........70%.........80%.........90%.........100% done. Time taken =     4 mins   54 secs\n"
     ]
    },
    {
     "name": "stdout",
     "output_type": "stream",
     "text": [
      "12 / 25\n"
     ]
    },
    {
     "name": "stderr",
     "output_type": "stream",
     "text": [
      "In gridlink_mocks_double> Running with [nmesh_x, nmesh_y, nmesh_z]  = 26,23,7.  Time taken =   0.002 sec\n",
      "In gridlink_mocks_double> Running with [nmesh_x, nmesh_y, nmesh_z]  = 26,23,7.  Time taken =   0.039 sec\n",
      "0%.........10%.........20%.........30%.........40%.........50%.........60%.........70%.........80%.........90%.........100% done. Time taken =  0.079 secs\n",
      "In gridlink_mocks_double> Running with [nmesh_x, nmesh_y, nmesh_z]  = 26,23,7.  Time taken =   0.002 sec\n",
      "countpairs_mocks_double> gridlink seems inefficient. nmesh = (26, 23, 7); avg_np = 1.69e+03. Boosting bin refine factor - should lead to better performance\n",
      "In gridlink_mocks_double> Running with [nmesh_x, nmesh_y, nmesh_z]  = 39,35,7.  Time taken =   0.003 sec\n",
      "In gridlink_mocks_double> Running with [nmesh_x, nmesh_y, nmesh_z]  = 39,35,7.  Time taken =   1.278 sec\n",
      "0%.........10%.........20%.........30%.........40%.........50%.........60%.........70%.........80%.........90%.........100% done. Time taken =  0.789 secs\n",
      "In gridlink_mocks_double> Running with [nmesh_x, nmesh_y, nmesh_z]  = 26,24,7.  Time taken =   0.041 sec\n",
      "In gridlink_mocks_double> Running with [nmesh_x, nmesh_y, nmesh_z]  = 26,24,7.  Time taken =   0.126 sec\n",
      "0%.........10%.........20%.........30%.........40%.........50%.........60%.........70%.........80%.........90%.........100% done. Time taken = 13.459 secs\n",
      "In gridlink_mocks_double> Running with [nmesh_x, nmesh_y, nmesh_z]  = 26,24,7.  Time taken =   0.091 sec\n",
      "countpairs_mocks_double> gridlink seems inefficient. nmesh = (26, 24, 7); avg_np = 1.62e+03. Boosting bin refine factor - should lead to better performance\n",
      "In gridlink_mocks_double> Running with [nmesh_x, nmesh_y, nmesh_z]  = 39,36,7.  Time taken =   0.120 sec\n",
      "In gridlink_mocks_double> Running with [nmesh_x, nmesh_y, nmesh_z]  = 39,36,7.  Time taken =   1.102 sec\n",
      "0%.........10%.........20%.........30%.........40%.........50%.........60%.........70%.........80%.........90%.........100% done. Time taken =     4 mins   49 secs\n"
     ]
    },
    {
     "name": "stdout",
     "output_type": "stream",
     "text": [
      "13 / 25\n"
     ]
    },
    {
     "name": "stderr",
     "output_type": "stream",
     "text": [
      "In gridlink_mocks_double> Running with [nmesh_x, nmesh_y, nmesh_z]  = 25,23,7.  Time taken =   0.008 sec\n",
      "In gridlink_mocks_double> Running with [nmesh_x, nmesh_y, nmesh_z]  = 25,23,7.  Time taken =   0.032 sec\n",
      "0%.........10%.........20%.........30%.........40%.........50%.........60%.........70%.........80%.........90%.........100% done. Time taken =  0.076 secs\n",
      "In gridlink_mocks_double> Running with [nmesh_x, nmesh_y, nmesh_z]  = 25,23,7.  Time taken =   0.003 sec\n",
      "countpairs_mocks_double> gridlink seems inefficient. nmesh = (25, 23, 7); avg_np = 1.52e+03. Boosting bin refine factor - should lead to better performance\n",
      "In gridlink_mocks_double> Running with [nmesh_x, nmesh_y, nmesh_z]  = 38,35,7.  Time taken =   0.003 sec\n",
      "In gridlink_mocks_double> Running with [nmesh_x, nmesh_y, nmesh_z]  = 38,35,7.  Time taken =   1.139 sec\n",
      "0%.........10%.........20%.........30%.........40%.........50%.........60%.........70%.........80%.........90%.........100% done. Time taken =  0.722 secs\n",
      "In gridlink_mocks_double> Running with [nmesh_x, nmesh_y, nmesh_z]  = 25,24,7.  Time taken =   0.052 sec\n",
      "In gridlink_mocks_double> Running with [nmesh_x, nmesh_y, nmesh_z]  = 25,24,7.  Time taken =   0.163 sec\n",
      "0%.........10%.........20%.........30%.........40%.........50%.........60%.........70%.........80%.........90%.........100% done. Time taken = 14.038 secs\n",
      "In gridlink_mocks_double> Running with [nmesh_x, nmesh_y, nmesh_z]  = 25,24,7.  Time taken =   0.090 sec\n",
      "countpairs_mocks_double> gridlink seems inefficient. nmesh = (25, 24, 7); avg_np = 1.46e+03. Boosting bin refine factor - should lead to better performance\n",
      "In gridlink_mocks_double> Running with [nmesh_x, nmesh_y, nmesh_z]  = 38,36,7.  Time taken =   0.087 sec\n",
      "In gridlink_mocks_double> Running with [nmesh_x, nmesh_y, nmesh_z]  = 38,36,7.  Time taken =   1.034 sec\n",
      "0%.........10%.........20%.........30%.........40%.........50%.........60%.........70%.........80%.........90%.........100% done. Time taken =     4 mins   21 secs\n"
     ]
    },
    {
     "name": "stdout",
     "output_type": "stream",
     "text": [
      "14 / 25\n"
     ]
    },
    {
     "name": "stderr",
     "output_type": "stream",
     "text": [
      "In gridlink_mocks_double> Running with [nmesh_x, nmesh_y, nmesh_z]  = 26,23,7.  Time taken =   0.002 sec\n",
      "In gridlink_mocks_double> Running with [nmesh_x, nmesh_y, nmesh_z]  = 26,23,7.  Time taken =   0.028 sec\n",
      "0%.........10%.........20%.........30%.........40%.........50%.........60%.........70%.........80%.........90%.........100% done. Time taken =  0.056 secs\n",
      "In gridlink_mocks_double> Running with [nmesh_x, nmesh_y, nmesh_z]  = 26,23,7.  Time taken =   0.002 sec\n",
      "countpairs_mocks_double> gridlink seems inefficient. nmesh = (26, 23, 7); avg_np = 1.34e+03. Boosting bin refine factor - should lead to better performance\n",
      "In gridlink_mocks_double> Running with [nmesh_x, nmesh_y, nmesh_z]  = 39,35,7.  Time taken =   0.002 sec\n",
      "In gridlink_mocks_double> Running with [nmesh_x, nmesh_y, nmesh_z]  = 39,35,7.  Time taken =   0.831 sec\n",
      "0%.........10%.........20%.........30%.........40%.........50%.........60%.........70%.........80%.........90%.........100% done. Time taken =  0.495 secs\n",
      "In gridlink_mocks_double> Running with [nmesh_x, nmesh_y, nmesh_z]  = 26,24,7.  Time taken =   0.033 sec\n",
      "In gridlink_mocks_double> Running with [nmesh_x, nmesh_y, nmesh_z]  = 26,24,7.  Time taken =   0.080 sec\n",
      "0%.........10%.........20%.........30%.........40%.........50%.........60%.........70%.........80%.........90%.........100% done. Time taken =  8.724 secs\n",
      "In gridlink_mocks_double> Running with [nmesh_x, nmesh_y, nmesh_z]  = 26,24,7.  Time taken =   0.070 sec\n",
      "countpairs_mocks_double> gridlink seems inefficient. nmesh = (26, 24, 7); avg_np = 1.29e+03. Boosting bin refine factor - should lead to better performance\n",
      "In gridlink_mocks_double> Running with [nmesh_x, nmesh_y, nmesh_z]  = 39,36,7.  Time taken =   0.087 sec\n",
      "In gridlink_mocks_double> Running with [nmesh_x, nmesh_y, nmesh_z]  = 39,36,7.  Time taken =   0.892 sec\n",
      "0%.........10%.........20%.........30%.........40%.........50%.........60%.........70%.........80%.........90%.........100% done. Time taken =     3 mins   17 secs\n"
     ]
    },
    {
     "name": "stdout",
     "output_type": "stream",
     "text": [
      "15 / 25\n"
     ]
    },
    {
     "name": "stderr",
     "output_type": "stream",
     "text": [
      "In gridlink_mocks_double> Running with [nmesh_x, nmesh_y, nmesh_z]  = 26,23,7.  Time taken =   0.002 sec\n",
      "In gridlink_mocks_double> Running with [nmesh_x, nmesh_y, nmesh_z]  = 26,23,7.  Time taken =   0.024 sec\n",
      "0%.........10%.........20%.........30%.........40%.........50%.........60%.........70%.........80%.........90%.........100% done. Time taken =  0.073 secs\n",
      "In gridlink_mocks_double> Running with [nmesh_x, nmesh_y, nmesh_z]  = 26,23,7.  Time taken =   0.003 sec\n",
      "countpairs_mocks_double> gridlink seems inefficient. nmesh = (26, 23, 7); avg_np = 1.61e+03. Boosting bin refine factor - should lead to better performance\n",
      "In gridlink_mocks_double> Running with [nmesh_x, nmesh_y, nmesh_z]  = 39,35,7.  Time taken =   0.003 sec\n",
      "In gridlink_mocks_double> Running with [nmesh_x, nmesh_y, nmesh_z]  = 39,35,7.  Time taken =   1.079 sec\n",
      "0%.........10%.........20%.........30%.........40%.........50%.........60%.........70%.........80%.........90%.........100% done. Time taken =  0.686 secs\n",
      "In gridlink_mocks_double> Running with [nmesh_x, nmesh_y, nmesh_z]  = 26,24,7.  Time taken =   0.036 sec\n",
      "In gridlink_mocks_double> Running with [nmesh_x, nmesh_y, nmesh_z]  = 26,24,7.  Time taken =   0.097 sec\n",
      "0%.........10%.........20%.........30%.........40%.........50%.........60%.........70%.........80%.........90%.........100% done. Time taken = 12.685 secs\n",
      "In gridlink_mocks_double> Running with [nmesh_x, nmesh_y, nmesh_z]  = 26,24,7.  Time taken =   0.089 sec\n",
      "countpairs_mocks_double> gridlink seems inefficient. nmesh = (26, 24, 7); avg_np = 1.54e+03. Boosting bin refine factor - should lead to better performance\n",
      "In gridlink_mocks_double> Running with [nmesh_x, nmesh_y, nmesh_z]  = 39,36,7.  Time taken =   0.077 sec\n",
      "In gridlink_mocks_double> Running with [nmesh_x, nmesh_y, nmesh_z]  = 39,36,7.  Time taken =   1.113 sec\n",
      "0%.........10%.........20%.........30%.........40%.........50%.........60%.........70%.........80%.........90%.........100% done. Time taken =     4 mins   22 secs\n"
     ]
    },
    {
     "name": "stdout",
     "output_type": "stream",
     "text": [
      "16 / 25\n"
     ]
    },
    {
     "name": "stderr",
     "output_type": "stream",
     "text": [
      "In gridlink_mocks_double> Running with [nmesh_x, nmesh_y, nmesh_z]  = 26,23,7.  Time taken =   0.002 sec\n",
      "In gridlink_mocks_double> Running with [nmesh_x, nmesh_y, nmesh_z]  = 26,23,7.  Time taken =   0.039 sec\n",
      "0%.........10%.........20%.........30%.........40%.........50%.........60%.........70%.........80%.........90%.........100% done. Time taken =  0.082 secs\n",
      "In gridlink_mocks_double> Running with [nmesh_x, nmesh_y, nmesh_z]  = 26,23,7.  Time taken =   0.001 sec\n",
      "countpairs_mocks_double> gridlink seems inefficient. nmesh = (26, 23, 7); avg_np = 1.69e+03. Boosting bin refine factor - should lead to better performance\n",
      "In gridlink_mocks_double> Running with [nmesh_x, nmesh_y, nmesh_z]  = 39,35,7.  Time taken =   0.002 sec\n",
      "In gridlink_mocks_double> Running with [nmesh_x, nmesh_y, nmesh_z]  = 39,35,7.  Time taken =   1.087 sec\n",
      "0%.........10%.........20%.........30%.........40%.........50%.........60%.........70%.........80%.........90%.........100% done. Time taken =  0.789 secs\n",
      "In gridlink_mocks_double> Running with [nmesh_x, nmesh_y, nmesh_z]  = 26,24,7.  Time taken =   0.036 sec\n",
      "In gridlink_mocks_double> Running with [nmesh_x, nmesh_y, nmesh_z]  = 26,24,7.  Time taken =   0.108 sec\n",
      "0%.........10%.........20%.........30%.........40%.........50%.........60%.........70%.........80%.........90%.........100% done. Time taken = 14.588 secs\n",
      "In gridlink_mocks_double> Running with [nmesh_x, nmesh_y, nmesh_z]  = 26,24,7.  Time taken =   0.116 sec\n",
      "countpairs_mocks_double> gridlink seems inefficient. nmesh = (26, 24, 7); avg_np = 1.62e+03. Boosting bin refine factor - should lead to better performance\n",
      "In gridlink_mocks_double> Running with [nmesh_x, nmesh_y, nmesh_z]  = 39,36,7.  Time taken =   0.115 sec\n",
      "In gridlink_mocks_double> Running with [nmesh_x, nmesh_y, nmesh_z]  = 39,36,7.  Time taken =   1.255 sec\n",
      "0%.........10%.........20%.........30%.........40%.........50%.........60%.........70%.........80%.........90%.........100% done. Time taken =     4 mins   31 secs\n"
     ]
    },
    {
     "name": "stdout",
     "output_type": "stream",
     "text": [
      "17 / 25\n"
     ]
    },
    {
     "name": "stderr",
     "output_type": "stream",
     "text": [
      "In gridlink_mocks_double> Running with [nmesh_x, nmesh_y, nmesh_z]  = 26,23,7.  Time taken =   0.002 sec\n",
      "In gridlink_mocks_double> Running with [nmesh_x, nmesh_y, nmesh_z]  = 26,23,7.  Time taken =   0.034 sec\n",
      "0%.........10%.........20%.........30%.........40%.........50%.........60%.........70%.........80%.........90%.........100% done. Time taken =  0.083 secs\n",
      "In gridlink_mocks_double> Running with [nmesh_x, nmesh_y, nmesh_z]  = 26,23,7.  Time taken =   0.001 sec\n",
      "countpairs_mocks_double> gridlink seems inefficient. nmesh = (26, 23, 7); avg_np = 1.69e+03. Boosting bin refine factor - should lead to better performance\n",
      "In gridlink_mocks_double> Running with [nmesh_x, nmesh_y, nmesh_z]  = 39,35,7.  Time taken =   0.002 sec\n",
      "In gridlink_mocks_double> Running with [nmesh_x, nmesh_y, nmesh_z]  = 39,35,7.  Time taken =   1.087 sec\n",
      "0%.........10%.........20%.........30%.........40%.........50%.........60%.........70%.........80%.........90%.........100% done. Time taken =  0.732 secs\n",
      "In gridlink_mocks_double> Running with [nmesh_x, nmesh_y, nmesh_z]  = 26,24,7.  Time taken =   0.037 sec\n",
      "In gridlink_mocks_double> Running with [nmesh_x, nmesh_y, nmesh_z]  = 26,24,7.  Time taken =   0.110 sec\n",
      "0%.........10%.........20%.........30%.........40%.........50%.........60%.........70%.........80%.........90%.........100% done. Time taken = 14.019 secs\n",
      "In gridlink_mocks_double> Running with [nmesh_x, nmesh_y, nmesh_z]  = 26,24,7.  Time taken =   0.135 sec\n",
      "countpairs_mocks_double> gridlink seems inefficient. nmesh = (26, 24, 7); avg_np = 1.62e+03. Boosting bin refine factor - should lead to better performance\n",
      "In gridlink_mocks_double> Running with [nmesh_x, nmesh_y, nmesh_z]  = 39,36,7.  Time taken =   0.126 sec\n",
      "In gridlink_mocks_double> Running with [nmesh_x, nmesh_y, nmesh_z]  = 39,36,7.  Time taken =   1.169 sec\n",
      "0%.........10%.........20%.........30%.........40%.........50%.........60%.........70%.........80%.........90%.........100% done. Time taken =     4 mins   31 secs\n"
     ]
    },
    {
     "name": "stdout",
     "output_type": "stream",
     "text": [
      "18 / 25\n"
     ]
    },
    {
     "name": "stderr",
     "output_type": "stream",
     "text": [
      "In gridlink_mocks_double> Running with [nmesh_x, nmesh_y, nmesh_z]  = 26,23,7.  Time taken =   0.002 sec\n",
      "In gridlink_mocks_double> Running with [nmesh_x, nmesh_y, nmesh_z]  = 26,23,7.  Time taken =   0.036 sec\n",
      "0%.........10%.........20%.........30%.........40%.........50%.........60%.........70%.........80%.........90%.........100% done. Time taken =  0.073 secs\n",
      "In gridlink_mocks_double> Running with [nmesh_x, nmesh_y, nmesh_z]  = 26,23,7.  Time taken =   0.001 sec\n",
      "countpairs_mocks_double> gridlink seems inefficient. nmesh = (26, 23, 7); avg_np = 1.59e+03. Boosting bin refine factor - should lead to better performance\n",
      "In gridlink_mocks_double> Running with [nmesh_x, nmesh_y, nmesh_z]  = 39,35,7.  Time taken =   0.002 sec\n",
      "In gridlink_mocks_double> Running with [nmesh_x, nmesh_y, nmesh_z]  = 39,35,7.  Time taken =   0.947 sec\n",
      "0%.........10%.........20%.........30%.........40%.........50%.........60%.........70%.........80%.........90%.........100% done. Time taken =  0.671 secs\n",
      "In gridlink_mocks_double> Running with [nmesh_x, nmesh_y, nmesh_z]  = 26,23,7.  Time taken =   0.033 sec\n",
      "In gridlink_mocks_double> Running with [nmesh_x, nmesh_y, nmesh_z]  = 26,23,7.  Time taken =   0.096 sec\n",
      "0%.........10%.........20%.........30%.........40%.........50%.........60%.........70%.........80%.........90%.........100% done. Time taken = 12.023 secs\n",
      "In gridlink_mocks_double> Running with [nmesh_x, nmesh_y, nmesh_z]  = 26,23,7.  Time taken =   0.085 sec\n",
      "countpairs_mocks_double> gridlink seems inefficient. nmesh = (26, 23, 7); avg_np = 1.59e+03. Boosting bin refine factor - should lead to better performance\n",
      "In gridlink_mocks_double> Running with [nmesh_x, nmesh_y, nmesh_z]  = 39,35,7.  Time taken =   0.079 sec\n",
      "In gridlink_mocks_double> Running with [nmesh_x, nmesh_y, nmesh_z]  = 39,35,7.  Time taken =   0.952 sec\n",
      "0%.........10%.........20%.........30%.........40%.........50%.........60%.........70%.........80%.........90%.........100% done. Time taken =     4 mins    8 secs\n"
     ]
    },
    {
     "name": "stdout",
     "output_type": "stream",
     "text": [
      "19 / 25\n"
     ]
    },
    {
     "name": "stderr",
     "output_type": "stream",
     "text": [
      "In gridlink_mocks_double> Running with [nmesh_x, nmesh_y, nmesh_z]  = 26,23,7.  Time taken =   0.002 sec\n",
      "In gridlink_mocks_double> Running with [nmesh_x, nmesh_y, nmesh_z]  = 26,23,7.  Time taken =   0.024 sec\n",
      "0%.........10%.........20%.........30%.........40%.........50%.........60%.........70%.........80%.........90%.........100% done. Time taken =  0.068 secs\n",
      "In gridlink_mocks_double> Running with [nmesh_x, nmesh_y, nmesh_z]  = 26,23,7.  Time taken =   0.001 sec\n",
      "countpairs_mocks_double> gridlink seems inefficient. nmesh = (26, 23, 7); avg_np = 1.51e+03. Boosting bin refine factor - should lead to better performance\n",
      "In gridlink_mocks_double> Running with [nmesh_x, nmesh_y, nmesh_z]  = 39,35,7.  Time taken =   0.002 sec\n",
      "In gridlink_mocks_double> Running with [nmesh_x, nmesh_y, nmesh_z]  = 39,35,7.  Time taken =   0.938 sec\n",
      "0%.........10%.........20%.........30%.........40%.........50%.........60%.........70%.........80%.........90%.........100% done. Time taken =  0.621 secs\n",
      "In gridlink_mocks_double> Running with [nmesh_x, nmesh_y, nmesh_z]  = 26,24,7.  Time taken =   0.029 sec\n",
      "In gridlink_mocks_double> Running with [nmesh_x, nmesh_y, nmesh_z]  = 26,24,7.  Time taken =   0.106 sec\n",
      "0%.........10%.........20%.........30%.........40%.........50%.........60%.........70%.........80%.........90%.........100% done. Time taken = 11.356 secs\n",
      "In gridlink_mocks_double> Running with [nmesh_x, nmesh_y, nmesh_z]  = 26,24,7.  Time taken =   0.072 sec\n",
      "countpairs_mocks_double> gridlink seems inefficient. nmesh = (26, 24, 7); avg_np = 1.45e+03. Boosting bin refine factor - should lead to better performance\n",
      "In gridlink_mocks_double> Running with [nmesh_x, nmesh_y, nmesh_z]  = 39,36,7.  Time taken =   0.075 sec\n",
      "In gridlink_mocks_double> Running with [nmesh_x, nmesh_y, nmesh_z]  = 39,36,7.  Time taken =   0.972 sec\n",
      "0%.........10%.........20%.........30%.........40%.........50%.........60%.........70%.........80%.........90%.........100% done. Time taken =     3 mins   53 secs\n"
     ]
    },
    {
     "name": "stdout",
     "output_type": "stream",
     "text": [
      "20 / 25\n"
     ]
    },
    {
     "name": "stderr",
     "output_type": "stream",
     "text": [
      "In gridlink_mocks_double> Running with [nmesh_x, nmesh_y, nmesh_z]  = 26,23,7.  Time taken =   0.002 sec\n",
      "In gridlink_mocks_double> Running with [nmesh_x, nmesh_y, nmesh_z]  = 26,23,7.  Time taken =   0.032 sec\n",
      "0%.........10%.........20%.........30%.........40%.........50%.........60%.........70%.........80%.........90%.........100% done. Time taken =  0.070 secs\n",
      "In gridlink_mocks_double> Running with [nmesh_x, nmesh_y, nmesh_z]  = 26,23,7.  Time taken =   0.001 sec\n",
      "countpairs_mocks_double> gridlink seems inefficient. nmesh = (26, 23, 7); avg_np = 1.67e+03. Boosting bin refine factor - should lead to better performance\n",
      "In gridlink_mocks_double> Running with [nmesh_x, nmesh_y, nmesh_z]  = 39,35,7.  Time taken =   0.003 sec\n",
      "In gridlink_mocks_double> Running with [nmesh_x, nmesh_y, nmesh_z]  = 39,35,7.  Time taken =   0.952 sec\n",
      "0%.........10%.........20%.........30%.........40%.........50%.........60%.........70%.........80%.........90%.........100% done. Time taken =  0.626 secs\n",
      "In gridlink_mocks_double> Running with [nmesh_x, nmesh_y, nmesh_z]  = 26,24,7.  Time taken =   0.032 sec\n",
      "In gridlink_mocks_double> Running with [nmesh_x, nmesh_y, nmesh_z]  = 26,24,7.  Time taken =   0.094 sec\n",
      "0%.........10%.........20%.........30%.........40%.........50%.........60%.........70%.........80%.........90%.........100% done. Time taken = 11.633 secs\n",
      "In gridlink_mocks_double> Running with [nmesh_x, nmesh_y, nmesh_z]  = 26,24,7.  Time taken =   0.079 sec\n",
      "countpairs_mocks_double> gridlink seems inefficient. nmesh = (26, 24, 7); avg_np = 1.6e+03. Boosting bin refine factor - should lead to better performance\n",
      "In gridlink_mocks_double> Running with [nmesh_x, nmesh_y, nmesh_z]  = 39,36,7.  Time taken =   0.094 sec\n",
      "In gridlink_mocks_double> Running with [nmesh_x, nmesh_y, nmesh_z]  = 39,36,7.  Time taken =   0.965 sec\n",
      "0%.........10%.........20%.........30%.........40%.........50%.........60%.........70%.........80%.........90%.........100% done. Time taken =     3 mins   59 secs\n"
     ]
    },
    {
     "name": "stdout",
     "output_type": "stream",
     "text": [
      "21 / 25\n"
     ]
    },
    {
     "name": "stderr",
     "output_type": "stream",
     "text": [
      "In gridlink_mocks_double> Running with [nmesh_x, nmesh_y, nmesh_z]  = 26,23,7.  Time taken =   0.002 sec\n",
      "In gridlink_mocks_double> Running with [nmesh_x, nmesh_y, nmesh_z]  = 26,23,7.  Time taken =   0.025 sec\n",
      "0%.........10%.........20%.........30%.........40%.........50%.........60%.........70%.........80%.........90%.........100% done. Time taken =  0.074 secs\n",
      "In gridlink_mocks_double> Running with [nmesh_x, nmesh_y, nmesh_z]  = 26,23,7.  Time taken =   0.001 sec\n",
      "countpairs_mocks_double> gridlink seems inefficient. nmesh = (26, 23, 7); avg_np = 1.69e+03. Boosting bin refine factor - should lead to better performance\n",
      "In gridlink_mocks_double> Running with [nmesh_x, nmesh_y, nmesh_z]  = 39,35,7.  Time taken =   0.003 sec\n",
      "In gridlink_mocks_double> Running with [nmesh_x, nmesh_y, nmesh_z]  = 39,35,7.  Time taken =   0.899 sec\n",
      "0%.........10%.........20%.........30%.........40%.........50%.........60%.........70%.........80%.........90%.........100% done. Time taken =  0.660 secs\n",
      "In gridlink_mocks_double> Running with [nmesh_x, nmesh_y, nmesh_z]  = 26,24,7.  Time taken =   0.030 sec\n",
      "In gridlink_mocks_double> Running with [nmesh_x, nmesh_y, nmesh_z]  = 26,24,7.  Time taken =   0.095 sec\n",
      "0%.........10%.........20%.........30%.........40%.........50%.........60%.........70%.........80%.........90%.........100% done. Time taken = 11.571 secs\n",
      "In gridlink_mocks_double> Running with [nmesh_x, nmesh_y, nmesh_z]  = 26,24,7.  Time taken =   0.088 sec\n",
      "countpairs_mocks_double> gridlink seems inefficient. nmesh = (26, 24, 7); avg_np = 1.62e+03. Boosting bin refine factor - should lead to better performance\n",
      "In gridlink_mocks_double> Running with [nmesh_x, nmesh_y, nmesh_z]  = 39,36,7.  Time taken =   0.075 sec\n",
      "In gridlink_mocks_double> Running with [nmesh_x, nmesh_y, nmesh_z]  = 39,36,7.  Time taken =   0.945 sec\n",
      "0%.........10%.........20%.........30%.........40%.........50%.........60%.........70%.........80%.........90%.........100% done. Time taken =     4 mins\n"
     ]
    },
    {
     "name": "stdout",
     "output_type": "stream",
     "text": [
      "22 / 25\n"
     ]
    },
    {
     "name": "stderr",
     "output_type": "stream",
     "text": [
      "In gridlink_mocks_double> Running with [nmesh_x, nmesh_y, nmesh_z]  = 26,23,7.  Time taken =   0.002 sec\n",
      "In gridlink_mocks_double> Running with [nmesh_x, nmesh_y, nmesh_z]  = 26,23,7.  Time taken =   0.032 sec\n",
      "0%.........10%.........20%.........30%.........40%.........50%.........60%.........70%.........80%.........90%.........100% done. Time taken =  0.069 secs\n",
      "In gridlink_mocks_double> Running with [nmesh_x, nmesh_y, nmesh_z]  = 26,23,7.  Time taken =   0.001 sec\n",
      "countpairs_mocks_double> gridlink seems inefficient. nmesh = (26, 23, 7); avg_np = 1.69e+03. Boosting bin refine factor - should lead to better performance\n",
      "In gridlink_mocks_double> Running with [nmesh_x, nmesh_y, nmesh_z]  = 39,35,7.  Time taken =   0.002 sec\n",
      "In gridlink_mocks_double> Running with [nmesh_x, nmesh_y, nmesh_z]  = 39,35,7.  Time taken =   0.911 sec\n",
      "0%.........10%.........20%.........30%.........40%.........50%.........60%.........70%.........80%.........90%.........100% done. Time taken =  0.629 secs\n",
      "In gridlink_mocks_double> Running with [nmesh_x, nmesh_y, nmesh_z]  = 26,24,7.  Time taken =   0.032 sec\n",
      "In gridlink_mocks_double> Running with [nmesh_x, nmesh_y, nmesh_z]  = 26,24,7.  Time taken =   0.092 sec\n",
      "0%.........10%.........20%.........30%.........40%.........50%.........60%.........70%.........80%.........90%.........100% done. Time taken = 11.472 secs\n",
      "In gridlink_mocks_double> Running with [nmesh_x, nmesh_y, nmesh_z]  = 26,24,7.  Time taken =   0.076 sec\n",
      "countpairs_mocks_double> gridlink seems inefficient. nmesh = (26, 24, 7); avg_np = 1.62e+03. Boosting bin refine factor - should lead to better performance\n",
      "In gridlink_mocks_double> Running with [nmesh_x, nmesh_y, nmesh_z]  = 39,36,7.  Time taken =   0.077 sec\n",
      "In gridlink_mocks_double> Running with [nmesh_x, nmesh_y, nmesh_z]  = 39,36,7.  Time taken =   0.939 sec\n",
      "0%.........10%.........20%.........30%.........40%.........50%.........60%.........70%.........80%.........90%.........100% done. Time taken =     3 mins   55 secs\n"
     ]
    },
    {
     "name": "stdout",
     "output_type": "stream",
     "text": [
      "23 / 25\n"
     ]
    },
    {
     "name": "stderr",
     "output_type": "stream",
     "text": [
      "In gridlink_mocks_double> Running with [nmesh_x, nmesh_y, nmesh_z]  = 26,23,7.  Time taken =   0.002 sec\n",
      "In gridlink_mocks_double> Running with [nmesh_x, nmesh_y, nmesh_z]  = 26,23,7.  Time taken =   0.030 sec\n",
      "0%.........10%.........20%.........30%.........40%.........50%.........60%.........70%.........80%.........90%.........100% done. Time taken =  0.076 secs\n",
      "In gridlink_mocks_double> Running with [nmesh_x, nmesh_y, nmesh_z]  = 26,23,7.  Time taken =   0.003 sec\n",
      "countpairs_mocks_double> gridlink seems inefficient. nmesh = (26, 23, 7); avg_np = 1.53e+03. Boosting bin refine factor - should lead to better performance\n",
      "In gridlink_mocks_double> Running with [nmesh_x, nmesh_y, nmesh_z]  = 39,35,7.  Time taken =   0.002 sec\n",
      "In gridlink_mocks_double> Running with [nmesh_x, nmesh_y, nmesh_z]  = 39,35,7.  Time taken =   0.844 sec\n",
      "0%.........10%.........20%.........30%.........40%.........50%.........60%.........70%.........80%.........90%.........100% done. Time taken =  0.572 secs\n",
      "In gridlink_mocks_double> Running with [nmesh_x, nmesh_y, nmesh_z]  = 26,24,7.  Time taken =   0.027 sec\n",
      "In gridlink_mocks_double> Running with [nmesh_x, nmesh_y, nmesh_z]  = 26,24,7.  Time taken =   0.088 sec\n",
      "0%.........10%.........20%.........30%.........40%.........50%.........60%.........70%.........80%.........90%.........100% done. Time taken = 10.619 secs\n",
      "In gridlink_mocks_double> Running with [nmesh_x, nmesh_y, nmesh_z]  = 26,24,7.  Time taken =   0.072 sec\n",
      "countpairs_mocks_double> gridlink seems inefficient. nmesh = (26, 24, 7); avg_np = 1.47e+03. Boosting bin refine factor - should lead to better performance\n",
      "In gridlink_mocks_double> Running with [nmesh_x, nmesh_y, nmesh_z]  = 39,36,7.  Time taken =   0.072 sec\n",
      "In gridlink_mocks_double> Running with [nmesh_x, nmesh_y, nmesh_z]  = 39,36,7.  Time taken =   0.884 sec\n",
      "0%.........10%.........20%.........30%.........40%.........50%.........60%.........70%.........80%.........90%.........100% done. Time taken =     3 mins   35 secs\n"
     ]
    },
    {
     "name": "stdout",
     "output_type": "stream",
     "text": [
      "24 / 25\n"
     ]
    },
    {
     "name": "stderr",
     "output_type": "stream",
     "text": [
      "In gridlink_mocks_double> Running with [nmesh_x, nmesh_y, nmesh_z]  = 26,23,7.  Time taken =   0.003 sec\n",
      "In gridlink_mocks_double> Running with [nmesh_x, nmesh_y, nmesh_z]  = 26,23,7.  Time taken =   0.030 sec\n",
      "0%.........10%.........20%.........30%.........40%.........50%.........60%.........70%.........80%.........90%.........100% done. Time taken =  0.067 secs\n",
      "In gridlink_mocks_double> Running with [nmesh_x, nmesh_y, nmesh_z]  = 26,23,7.  Time taken =   0.001 sec\n",
      "countpairs_mocks_double> gridlink seems inefficient. nmesh = (26, 23, 7); avg_np = 1.61e+03. Boosting bin refine factor - should lead to better performance\n",
      "In gridlink_mocks_double> Running with [nmesh_x, nmesh_y, nmesh_z]  = 39,35,7.  Time taken =   0.002 sec\n",
      "In gridlink_mocks_double> Running with [nmesh_x, nmesh_y, nmesh_z]  = 39,35,7.  Time taken =   0.879 sec\n",
      "0%.........10%.........20%.........30%.........40%.........50%.........60%.........70%.........80%.........90%.........100% done. Time taken =  0.595 secs\n",
      "In gridlink_mocks_double> Running with [nmesh_x, nmesh_y, nmesh_z]  = 26,24,7.  Time taken =   0.029 sec\n",
      "In gridlink_mocks_double> Running with [nmesh_x, nmesh_y, nmesh_z]  = 26,24,7.  Time taken =   0.088 sec\n",
      "0%.........10%.........20%.........30%.........40%.........50%.........60%.........70%.........80%.........90%.........100% done. Time taken = 10.924 secs\n",
      "In gridlink_mocks_double> Running with [nmesh_x, nmesh_y, nmesh_z]  = 26,24,7.  Time taken =   0.080 sec\n",
      "countpairs_mocks_double> gridlink seems inefficient. nmesh = (26, 24, 7); avg_np = 1.54e+03. Boosting bin refine factor - should lead to better performance\n",
      "In gridlink_mocks_double> Running with [nmesh_x, nmesh_y, nmesh_z]  = 39,36,7.  Time taken =   0.072 sec\n",
      "In gridlink_mocks_double> Running with [nmesh_x, nmesh_y, nmesh_z]  = 39,36,7.  Time taken =   0.906 sec\n",
      "0%.........10%.........20%.........30%.........40%.........50%.........60%.........70%.........80%.........90%.........100% done. Time taken =     3 mins   46 secs\n"
     ]
    },
    {
     "name": "stdout",
     "output_type": "stream",
     "text": [
      "25 / 25\n"
     ]
    },
    {
     "name": "stderr",
     "output_type": "stream",
     "text": [
      "In gridlink_mocks_double> Running with [nmesh_x, nmesh_y, nmesh_z]  = 26,23,7.  Time taken =   0.002 sec\n",
      "In gridlink_mocks_double> Running with [nmesh_x, nmesh_y, nmesh_z]  = 26,23,7.  Time taken =   0.025 sec\n",
      "0%.........10%.........20%.........30%.........40%.........50%.........60%.........70%.........80%.........90%.........100% done. Time taken =  0.068 secs\n",
      "In gridlink_mocks_double> Running with [nmesh_x, nmesh_y, nmesh_z]  = 26,23,7.  Time taken =   0.001 sec\n",
      "countpairs_mocks_double> gridlink seems inefficient. nmesh = (26, 23, 7); avg_np = 1.69e+03. Boosting bin refine factor - should lead to better performance\n",
      "In gridlink_mocks_double> Running with [nmesh_x, nmesh_y, nmesh_z]  = 39,35,7.  Time taken =   0.002 sec\n",
      "In gridlink_mocks_double> Running with [nmesh_x, nmesh_y, nmesh_z]  = 39,35,7.  Time taken =   0.909 sec\n",
      "0%.........10%.........20%.........30%.........40%.........50%.........60%.........70%.........80%.........90%.........100% done. Time taken =  0.619 secs\n",
      "In gridlink_mocks_double> Running with [nmesh_x, nmesh_y, nmesh_z]  = 26,24,7.  Time taken =   0.029 sec\n",
      "In gridlink_mocks_double> Running with [nmesh_x, nmesh_y, nmesh_z]  = 26,24,7.  Time taken =   0.094 sec\n",
      "0%.........10%.........20%.........30%.........40%.........50%.........60%.........70%.........80%.........90%.........100% done. Time taken = 11.232 secs\n",
      "In gridlink_mocks_double> Running with [nmesh_x, nmesh_y, nmesh_z]  = 26,24,7.  Time taken =   0.073 sec\n",
      "countpairs_mocks_double> gridlink seems inefficient. nmesh = (26, 24, 7); avg_np = 1.62e+03. Boosting bin refine factor - should lead to better performance\n",
      "In gridlink_mocks_double> Running with [nmesh_x, nmesh_y, nmesh_z]  = 39,36,7.  Time taken =   0.077 sec\n",
      "In gridlink_mocks_double> Running with [nmesh_x, nmesh_y, nmesh_z]  = 39,36,7.  Time taken =   0.932 sec\n",
      "0%.........10%.........20%.........30%.........40%.........50%.........60%.........70%.........80%.........90%.........100% done. Time taken =     3 mins   51 secs\n"
     ]
    }
   ],
   "source": [
    "from __future__ import division\n",
    "import numpy as np\n",
    "import math\n",
    "from astropy import units as u\n",
    "from astropy.coordinates import SkyCoord, match_coordinates_sky\n",
    "import astropy.coordinates as coord\n",
    "from astropy.cosmology import FlatLambdaCDM\n",
    "from astropy.table import Table\n",
    "from astropy.io import fits\n",
    "import time\n",
    "from numpy.lib.recfunctions import append_fields\n",
    "#from kde import weighted_gaussian_kde\n",
    "from scipy import stats\n",
    "from astropy.cosmology import FlatLambdaCDM,Planck15\n",
    "import sys\n",
    "from time import gmtime, strftime\n",
    "\n",
    "import matplotlib.pyplot as plt\n",
    "from matplotlib.colors import LogNorm\n",
    "%matplotlib inline\n",
    "\n",
    "from astropy.table import Table\n",
    "from astropy.io import fits\n",
    "import numpy as np\n",
    "import math\n",
    "from astropy.io import ascii\n",
    "##Read in the cosmology\n",
    "cosmo = FlatLambdaCDM(H0=70, Om0=0.3)\n",
    "\n",
    "import clustering.clustering.projected_correlation_functions as w\n",
    "import clustering.clustering.randomsEdited as rand\n",
    "from clustering.clustering.utils import wp_d1d2,wp_dd\n",
    "\n",
    "# read in orignal Peas file\n",
    "t=Table.read('../codes/MainCatalogues/dr12PeastoPortStarforming.fits',format='fits')\n",
    "peas=np.array(t)\n",
    "\n",
    "#Add new array field of comoving distances needed for Corrfunc inputs\n",
    "cdists = np.array([cosmo.comoving_distance(z).value for z in peas['z']])*cosmo.h\n",
    "peas = append_fields(peas, 'cdist', cdists)\n",
    "\n",
    "# append the field and make back into normal array\n",
    "peas=np.array(peas)\n",
    "\n",
    "LRG= Table.read('../codes/MainCatalogues/LRG/LRGzcat.fits')\n",
    "LRGr=Table.read('../codes/MainCatalogues/LRG/LRGRandzcat.fits')\n",
    "rzpea = np.load('../codes/output/rzpeasNEW.npy')\n",
    "\n",
    "bins = np.array([.1,.5,1,3,6,8,10,15,20,30,40,50,60,80,100])\n",
    "## Run a clustering CROSS CORRELATION b/w the peas & LRGs w/ bootstrap - this is jackknife only\n",
    "pimax = 110\n",
    "print(strftime(\"%Y-%m-%d %H:%M:%S\", gmtime()))\n",
    "## with errors? bootstrapped - idk\n",
    "rp_xc_Pjackpi40LS,wp_xc_Pjackpi40LS,wp_xc_err_Pjackpi40LS,cov_xc_Pjackpi40LS = w.cross_wp(d1=peas, \n",
    "d2=LRG, r1=rzpea, r2=LRGr, bins=bins,pimax=pimax,m=5, estimator='L')\n",
    "\n",
    "np.save('output/CCFResults/LandySzalay/rp_xc_Pjackpi110LS.npy', rp_xc_Pjackpi40LS)\n",
    "np.save('output/CCFResults/LandySzalay/wp_xc_Pjackpi110LS.npy',wp_xc_Pjackpi40LS)\n",
    "np.save('output/CCFResults/LandySzalay/wp_xc_err_Pjackpi110LS.npy', wp_xc_err_Pjackpi40LS)\n",
    "np.save('output/CCFResults/LandySzalay/cov_xc_Pjackpi110LS.npy',cov_xc_Pjackpi40LS)"
   ]
  },
  {
   "cell_type": "code",
   "execution_count": null,
   "metadata": {},
   "outputs": [],
   "source": []
  }
 ],
 "metadata": {
  "kernelspec": {
   "display_name": "Python 3",
   "language": "python",
   "name": "python3"
  },
  "language_info": {
   "codemirror_mode": {
    "name": "ipython",
    "version": 3
   },
   "file_extension": ".py",
   "mimetype": "text/x-python",
   "name": "python",
   "nbconvert_exporter": "python",
   "pygments_lexer": "ipython3",
   "version": "3.7.6"
  }
 },
 "nbformat": 4,
 "nbformat_minor": 4
}
