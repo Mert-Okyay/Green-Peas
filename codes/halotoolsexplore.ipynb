{
 "cells": [
  {
   "cell_type": "code",
   "execution_count": 1,
   "metadata": {},
   "outputs": [],
   "source": [
    "import numpy as np\n",
    "import math\n",
    "from astropy import units as u\n",
    "from astropy.coordinates import SkyCoord, match_coordinates_sky\n",
    "import astropy.coordinates as coord\n",
    "from astropy.cosmology import FlatLambdaCDM\n",
    "from astropy.table import Table\n",
    "from astropy.io import fits\n",
    "import time\n",
    "from numpy.lib.recfunctions import append_fields\n",
    "from astropy.cosmology import FlatLambdaCDM,Planck15\n",
    "import sys\n",
    "from time import gmtime, strftime\n",
    "\n",
    "import matplotlib.pyplot as plt\n",
    "from matplotlib.colors import LogNorm\n",
    "%matplotlib inline\n"
   ]
  },
  {
   "cell_type": "code",
   "execution_count": 2,
   "metadata": {},
   "outputs": [
    {
     "ename": "ModuleNotFoundError",
     "evalue": "No module named 'halotools'",
     "output_type": "error",
     "traceback": [
      "\u001b[0;31m---------------------------------------------------------------------------\u001b[0m",
      "\u001b[0;31mModuleNotFoundError\u001b[0m                       Traceback (most recent call last)",
      "\u001b[0;32m<ipython-input-2-cd6d6af80cf3>\u001b[0m in \u001b[0;36m<module>\u001b[0;34m\u001b[0m\n\u001b[0;32m----> 1\u001b[0;31m \u001b[0;32mimport\u001b[0m \u001b[0mhalotools\u001b[0m\u001b[0;34m\u001b[0m\u001b[0;34m\u001b[0m\u001b[0m\n\u001b[0m\u001b[1;32m      2\u001b[0m \u001b[0;31m##Basically tests HaloTools Catalogue'\u001b[0m\u001b[0;34m\u001b[0m\u001b[0;34m\u001b[0m\u001b[0;34m\u001b[0m\u001b[0m\n\u001b[1;32m      3\u001b[0m \u001b[0;31m##Creates the bolshoi simulation in redshift 0 and 0.5\u001b[0m\u001b[0;34m\u001b[0m\u001b[0;34m\u001b[0m\u001b[0;34m\u001b[0m\u001b[0m\n",
      "\u001b[0;31mModuleNotFoundError\u001b[0m: No module named 'halotools'"
     ]
    }
   ],
   "source": [
    "import halotools\n",
    "##Basically tests HaloTools Catalogue'\n",
    "##Creates the bolshoi simulation in redshift 0 and 0.5"
   ]
  },
  {
   "cell_type": "code",
   "execution_count": 4,
   "metadata": {},
   "outputs": [],
   "source": [
    "from halotools.empirical_models import PrebuiltHodModelFactory, PrebuiltSubhaloModelFactory\n",
    "from halotools.mock_observables import return_xyz_formatted_array\n",
    "from halotools.mock_observables import wp\n",
    "from halotools.sim_manager import CachedHaloCatalog\n",
    "from scipy import interpolate\n",
    "\n",
    "\n",
    "##CAN SKIP UNTIL [13] IF YOU HAVE THE FILES IN ..\\codes\\halotoolsexplore\\"
   ]
  },
  {
   "cell_type": "code",
   "execution_count": 4,
   "metadata": {},
   "outputs": [],
   "source": [
    "#import halotools\n",
    "#halotools.test()"
   ]
  },
  {
   "cell_type": "code",
   "execution_count": 5,
   "metadata": {},
   "outputs": [],
   "source": [
    "#halotools.test_installation()"
   ]
  },
  {
   "cell_type": "code",
   "execution_count": 8,
   "metadata": {},
   "outputs": [
    {
     "name": "stdout",
     "output_type": "stream",
     "text": [
      "[ 0.3   0.55  1.55  3.05  4.05  5.05  7.55 10.05 15.05 20.05 25.05 30.05\n",
      " 40.05]\n",
      "HHHHHHHHHHHHHHHHHHHHHHHHHHHHHHHHHHHH\n",
      "[ 0.3   0.55  1.55  3.05  4.05  5.05  7.55 10.05 15.05 20.05 25.05 30.05\n",
      " 40.05 50.05]\n",
      "Wall time: 0 ns\n"
     ]
    }
   ],
   "source": [
    "%%time\n",
    "##what's going on with the bins??\n",
    "rpbins80 = np.array([.1,.5,1,3,6,8,10,15,20,30,40,50,60,80])\n",
    "rpbins100 = np.array([.1,.5,1,3,6,8,10,15,20,30,40,50,60,80,100])\n",
    "#print(rpbins)\n",
    "rp_bin_centers80 = (rpbins80[:1] + rpbins80[1:])/2.\n",
    "print(rp_bin_centers80)\n",
    "print('HHHHHHHHHHHHHHHHHHHHHHHHHHHHHHHHHHHH')\n",
    "rp_bin_centers100 = (rpbins100[:1] + rpbins100[1:])/2.\n",
    "print(rp_bin_centers100)"
   ]
  },
  {
   "cell_type": "code",
   "execution_count": 6,
   "metadata": {},
   "outputs": [],
   "source": [
    "#from halotools.sim_manager import DownloadManager\n",
    "#dman = DownloadManager()\n",
    "#dman.download_processed_halo_table('bolshoi', 'rockstar', 0.5) \n",
    "#dman.download_processed_halo_table('bolshoi', 'rockstar', 0) \n",
    "### NOTE: bolshoi=WMAP5 cosmology with Lbox = 250 Mpc/h and particle mass of ~1e8 Msun/h.\n",
    "### NOTE: bolplanck=Planck 2013 cosmology with Lbox = 250 Mpc/h and particle mass of ~1e8 Msun/h."
   ]
  },
  {
   "cell_type": "code",
   "execution_count": 7,
   "metadata": {},
   "outputs": [],
   "source": [
    "##The halos are stored in the halo_table attribute in the form of an Astropy Table.\n",
    "##halos = halocat.halo_table # doctest: +SKIP\n",
    "##As with any Astropy Table, the properties of the halos can be accessed in the same manner as a Numpy structured array or python dictionary\n",
    "\n",
    "halocat = CachedHaloCatalog(simname = 'bolshoi', redshift = 0., halo_finder = 'rockstar')\n",
    "halos = halocat.halo_table\n"
   ]
  },
  {
   "cell_type": "code",
   "execution_count": 8,
   "metadata": {},
   "outputs": [],
   "source": [
    "#halos\n",
    "#print(halos['halo_x'])"
   ]
  },
  {
   "cell_type": "code",
   "execution_count": 9,
   "metadata": {},
   "outputs": [],
   "source": [
    "#print(halos['halo_y'])"
   ]
  },
  {
   "cell_type": "code",
   "execution_count": 10,
   "metadata": {},
   "outputs": [],
   "source": [
    "x = halos['halo_x']\n",
    "y = halos['halo_y']\n",
    "z = halos['halo_z']\n",
    "all_positions = return_xyz_formatted_array(x, y, z)\n",
    "rpbins = np.array([1,3,6,8,10,15,20,30,40,50,60])\n",
    "\n",
    "##the two point correlation function in the halocat space\n",
    "wdm = wp(all_positions, rpbins, 60,period=halocat.Lbox, num_threads=4)"
   ]
  },
  {
   "cell_type": "code",
   "execution_count": 11,
   "metadata": {},
   "outputs": [],
   "source": [
    "halocat5 = CachedHaloCatalog(simname = 'bolshoi', redshift = 0.5, halo_finder = 'rockstar')\n",
    "halos5 = halocat5.halo_table\n"
   ]
  },
  {
   "cell_type": "code",
   "execution_count": 12,
   "metadata": {},
   "outputs": [],
   "source": [
    "x5 = halos5['halo_x']\n",
    "y5 = halos5['halo_y']\n",
    "z5 = halos5['halo_z']\n",
    "all_positions5 = return_xyz_formatted_array(x5, y5, z5)\n",
    "rpbins5 = np.array([1,3,6,8,10,15,20,30,40,50,60])\n",
    "\n",
    "wdm5 = wp(all_positions5, rpbins5, 60,period=halocat5.Lbox, num_threads=4)"
   ]
  },
  {
   "cell_type": "code",
   "execution_count": 13,
   "metadata": {
    "scrolled": true
   },
   "outputs": [],
   "source": [
    "##np.save('output\\bolshoi_0_wp_dm.npy',wdm)\n",
    "np.save('C:/Users/mxo431/Desktop/environments/codes/halotoolsexplore/output/bolshoi_0_wp_dm.npy',wdm)\n",
    "np.save('C:/Users/mxo431/Desktop/environments/codes/halotoolsexplore/output/bolshoi_0.5_wp_dm.npy',wdm5)\n",
    "np.save('C:/Users/mxo431/Desktop/environments/codes/halotoolsexplore/output/bolshoi_rp_used.npy',rpbins)"
   ]
  },
  {
   "cell_type": "code",
   "execution_count": 13,
   "metadata": {},
   "outputs": [],
   "source": [
    "wdm=np.load('C:/Users/mxo431/Desktop/environments/codes/halotoolsexplore/output/bolshoi_0_wp_dm.npy')\n",
    "wdm5=np.load('C:/Users/mxo431/Desktop/environments/codes/halotoolsexplore/output/bolshoi_0.5_wp_dm.npy')\n",
    "rpbins=np.load('C:/Users/mxo431/Desktop/environments/codes/halotoolsexplore/output/bolshoi_rp_used.npy')"
   ]
  },
  {
   "cell_type": "code",
   "execution_count": 32,
   "metadata": {},
   "outputs": [
    {
     "data": {
      "image/png": "[encoded data removed]",
      "text/plain": [
       "<Figure size 432x288 with 1 Axes>"
      ]
     },
     "metadata": {
      "needs_background": "light"
     },
     "output_type": "display_data"
    }
   ],
   "source": [
    "rpbins = np.array([1,3,6,8,10,15,20,30,40,50,60])\n",
    "rp_bin_centers = (rpbins[:1] + rpbins[1:])/2.\n",
    "\n",
    "plt.loglog(rp_bin_centers,wdm, label= 'bolshoi z = 0')\n",
    "plt.loglog(rp_bin_centers,wdm5,color='r', label = 'bolshoi z = 0.5')\n",
    "\n",
    "plt.axis([.1,100,.1,100])\n",
    "plt.legend(frameon=True,numpoints=1,loc=1)\n",
    "plt.xlabel('r$_{p}$ [Mpc/h]',fontsize=16)\n",
    "plt.ylabel('w$_{p}$',fontsize=16)\n",
    "plt.savefig('C:/Users/mxo431/Desktop/environments/codes/halotoolsexplore/plots/corrfunctSFpeas_bolshoi.pdf')"
   ]
  },
  {
   "cell_type": "code",
   "execution_count": 18,
   "metadata": {},
   "outputs": [
    {
     "data": {
      "text/plain": [
       "Text(0, 0.5, 'w$_{p}$')"
      ]
     },
     "execution_count": 18,
     "metadata": {},
     "output_type": "execute_result"
    },
    {
     "data": {
      "image/png": "[encoded data removed]",
      "text/plain": [
       "<Figure size 432x288 with 1 Axes>"
      ]
     },
     "metadata": {
      "needs_background": "light"
     },
     "output_type": "display_data"
    }
   ],
   "source": [
    "##Correlation function graphes versis the perpendicular distance along the line of sight\n",
    "\n",
    "plt.yscale(\"log\", nonposy='clip')\n",
    "plt.xscale(\"log\", nonposx='clip')\n",
    "\n",
    "plt.plot(rp_bin_centers,wdm,label='Bolshoi z=0')\n",
    "plt.plot(rp_bin_centers,wdm5,color='m',label='Bolshoi z=0.5')\n",
    "\n",
    "plt.axis([.1,100,.1,100])\n",
    "plt.legend(frameon=True,numpoints=1,loc=1)\n",
    "plt.xlabel('r$_{p}$ [Mpc/h]',fontsize=16)\n",
    "plt.ylabel('w$_{p}$',fontsize=16)\n",
    "#plt.title('Peebles ACF')\n",
    "#plt.savefig('../plots/corrfunctSFpeas.pdf')"
   ]
  },
  {
   "cell_type": "code",
   "execution_count": 15,
   "metadata": {},
   "outputs": [
    {
     "name": "stdout",
     "output_type": "stream",
     "text": [
      "[ 30.51441626  16.87175972  12.12543956   9.8556689    6.83392563\n",
      "   4.45280993   2.41952342   0.91446521   0.38812959  -0.03417333]\n"
     ]
    },
    {
     "data": {
      "text/plain": [
       "array([ 1,  3,  6,  8, 10, 15, 20, 30, 40, 50, 60])"
      ]
     },
     "execution_count": 15,
     "metadata": {},
     "output_type": "execute_result"
    }
   ],
   "source": [
    "print(wdm)\n",
    "rpbins"
   ]
  },
  {
   "cell_type": "code",
   "execution_count": 30,
   "metadata": {},
   "outputs": [
    {
     "name": "stdout",
     "output_type": "stream",
     "text": [
      "[ 3.04646775e+01  1.68230107e+01  1.21303801e+01  9.85187147e+00\n",
      "  6.87538001e+00  4.48437652e+00  2.43551078e+00  9.36437780e-01\n",
      "  3.90418842e-01 -2.44301560e-02]\n"
     ]
    },
    {
     "data": {
      "text/plain": [
       "array([ 1,  3,  6,  8, 10, 15, 20, 30, 40, 50, 60])"
      ]
     },
     "execution_count": 30,
     "metadata": {},
     "output_type": "execute_result"
    }
   ],
   "source": [
    "print(wdm)\n",
    "rpbins"
   ]
  },
  {
   "cell_type": "code",
   "execution_count": null,
   "metadata": {},
   "outputs": [],
   "source": []
  }
 ],
 "metadata": {
  "kernelspec": {
   "display_name": "Python 3",
   "language": "python",
   "name": "python3"
  },
  "language_info": {
   "codemirror_mode": {
    "name": "ipython",
    "version": 3
   },
   "file_extension": ".py",
   "mimetype": "text/x-python",
   "name": "python",
   "nbconvert_exporter": "python",
   "pygments_lexer": "ipython3",
   "version": "3.7.6"
  }
 },
 "nbformat": 4,
 "nbformat_minor": 1
}
