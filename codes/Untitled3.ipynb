{
 "cells": [
  {
   "cell_type": "code",
   "execution_count": 1,
   "metadata": {},
   "outputs": [
    {
     "name": "stdout",
     "output_type": "stream",
     "text": [
      "2020-10-25 01:41:58\n"
     ]
    },
    {
     "name": "stderr",
     "output_type": "stream",
     "text": [
      "In gridlink_mocks_double> Running with [nmesh_x, nmesh_y, nmesh_z]  = 29,26,8.  Time taken =   0.011 sec\n",
      "In gridlink_mocks_double> Running with [nmesh_x, nmesh_y, nmesh_z]  = 29,26,8.  Time taken =   0.053 sec\n",
      "Using AVX512 kernel\n",
      "0%.........10%.........20%.........30%.........40%.........50%.........60%.........70%.........80%.........90%.........100% done. Time taken =  0.091 secs\n",
      "In gridlink_mocks_double> Running with [nmesh_x, nmesh_y, nmesh_z]  = 29,26,8.  Time taken =   0.006 sec\n",
      "countpairs_mocks_double> gridlink seems inefficient. nmesh = (29, 26, 8); avg_np = 1.17e+03. Boosting bin refine factor - should lead to better performance\n",
      "In gridlink_mocks_double> Running with [nmesh_x, nmesh_y, nmesh_z]  = 44,39,8.  Time taken =   0.007 sec\n",
      "In gridlink_mocks_double> Running with [nmesh_x, nmesh_y, nmesh_z]  = 44,39,8.  Time taken =   2.126 sec\n",
      "0%.........10%.........20%.........30%.........40%.........50%.........60%.........70%.........80%.........90%.........100% done. Time taken =  0.660 secs\n"
     ]
    },
    {
     "name": "stdout",
     "output_type": "stream",
     "text": [
      "Warning: found negative RA values, wrapping into [0.0, 360.0]  range\n"
     ]
    },
    {
     "name": "stderr",
     "output_type": "stream",
     "text": [
      "In gridlink_mocks_double> Running with [nmesh_x, nmesh_y, nmesh_z]  = 29,26,8.  Time taken =   0.042 sec\n",
      "In gridlink_mocks_double> Running with [nmesh_x, nmesh_y, nmesh_z]  = 29,26,8.  Time taken =   0.101 sec\n",
      "0%.........10%.........20%.........30%.........40%.........50%.........60%.........70%.........80%.........90%.........100% done. Time taken =  3.749 secs\n"
     ]
    },
    {
     "name": "stdout",
     "output_type": "stream",
     "text": [
      "Warning: found negative RA values, wrapping into [0.0, 360.0]  range\n"
     ]
    },
    {
     "name": "stderr",
     "output_type": "stream",
     "text": [
      "In gridlink_mocks_double> Running with [nmesh_x, nmesh_y, nmesh_z]  = 29,26,8.  Time taken =   0.126 sec\n",
      "countpairs_mocks_double> gridlink seems inefficient. nmesh = (29, 26, 8); avg_np = 1.17e+03. Boosting bin refine factor - should lead to better performance\n",
      "In gridlink_mocks_double> Running with [nmesh_x, nmesh_y, nmesh_z]  = 44,39,8.  Time taken =   0.121 sec\n",
      "In gridlink_mocks_double> Running with [nmesh_x, nmesh_y, nmesh_z]  = 44,39,8.  Time taken =   1.733 sec\n",
      "0%.........10%.........20%.........30%.........40%.........50%.........60%.........70%.........80%.........90%.........100% done. Time taken =   101 secs\n",
      "/data/home/mokyay/Research Files/Green-Peas/codes/clustering/clustering/error.py:204: FutureWarning: elementwise == comparison failed and returning scalar instead; this will raise an error or perform elementwise comparison in the future.\n",
      "  if cat==None:\n",
      "/home/mokyay/anaconda3/lib/python3.7/site-packages/astropy/table/table.py:3064: FutureWarning: elementwise == comparison failed and returning scalar instead; this will raise an error or perform elementwise comparison in the future.\n",
      "  result = self.as_array() == other\n"
     ]
    },
    {
     "name": "stdout",
     "output_type": "stream",
     "text": [
      "Using  25  jacknife samples\n",
      "1 / 25\n"
     ]
    },
    {
     "name": "stderr",
     "output_type": "stream",
     "text": [
      "In gridlink_mocks_double> Running with [nmesh_x, nmesh_y, nmesh_z]  = 29,26,8.  Time taken =   0.006 sec\n",
      "In gridlink_mocks_double> Running with [nmesh_x, nmesh_y, nmesh_z]  = 29,26,8.  Time taken =   0.042 sec\n",
      "0%.........10%.........20%.........30%.........40%.........50%.........60%.........70%.........80%.........90%.........100% done. Time taken =  0.074 secs\n",
      "In gridlink_mocks_double> Running with [nmesh_x, nmesh_y, nmesh_z]  = 29,26,8.  Time taken =   0.003 sec\n",
      "countpairs_mocks_double> gridlink seems inefficient. nmesh = (29, 26, 8); avg_np = 1.17e+03. Boosting bin refine factor - should lead to better performance\n",
      "In gridlink_mocks_double> Running with [nmesh_x, nmesh_y, nmesh_z]  = 44,39,8.  Time taken =   0.004 sec\n",
      "In gridlink_mocks_double> Running with [nmesh_x, nmesh_y, nmesh_z]  = 44,39,8.  Time taken =   1.250 sec\n",
      "0%.........10%.........20%.........30%.........40%.........50%.........60%.........70%.........80%.........90%.........100% done. Time taken =  0.622 secs\n",
      "In gridlink_mocks_double> Running with [nmesh_x, nmesh_y, nmesh_z]  = 29,26,8.  Time taken =   0.039 sec\n",
      "In gridlink_mocks_double> Running with [nmesh_x, nmesh_y, nmesh_z]  = 29,26,8.  Time taken =   0.108 sec\n",
      "0%.........10%.........20%.........30%.........40%.........50%.........60%.........70%.........80%.........90%.........100% done. Time taken =  9.829 secs\n",
      "In gridlink_mocks_double> Running with [nmesh_x, nmesh_y, nmesh_z]  = 29,26,8.  Time taken =   0.099 sec\n",
      "countpairs_mocks_double> gridlink seems inefficient. nmesh = (29, 26, 8); avg_np = 1.17e+03. Boosting bin refine factor - should lead to better performance\n",
      "In gridlink_mocks_double> Running with [nmesh_x, nmesh_y, nmesh_z]  = 44,39,8.  Time taken =   0.069 sec\n",
      "In gridlink_mocks_double> Running with [nmesh_x, nmesh_y, nmesh_z]  = 44,39,8.  Time taken =   1.226 sec\n",
      "0%.........10%.........20%.........30%.........40%.........50%.........60%.........70%.........80%.........90%.........100% done. Time taken =     4 mins   36 secs\n"
     ]
    },
    {
     "name": "stdout",
     "output_type": "stream",
     "text": [
      "2 / 25\n"
     ]
    },
    {
     "name": "stderr",
     "output_type": "stream",
     "text": [
      "In gridlink_mocks_double> Running with [nmesh_x, nmesh_y, nmesh_z]  = 29,26,8.  Time taken =   0.003 sec\n",
      "In gridlink_mocks_double> Running with [nmesh_x, nmesh_y, nmesh_z]  = 29,26,8.  Time taken =   0.049 sec\n",
      "0%.........10%.........20%.........30%.........40%.........50%.........60%.........70%.........80%.........90%.........100% done. Time taken =  0.077 secs\n",
      "In gridlink_mocks_double> Running with [nmesh_x, nmesh_y, nmesh_z]  = 29,26,8.  Time taken =   0.002 sec\n",
      "countpairs_mocks_double> gridlink seems inefficient. nmesh = (29, 26, 8); avg_np = 1.17e+03. Boosting bin refine factor - should lead to better performance\n",
      "In gridlink_mocks_double> Running with [nmesh_x, nmesh_y, nmesh_z]  = 44,39,8.  Time taken =   0.004 sec\n",
      "In gridlink_mocks_double> Running with [nmesh_x, nmesh_y, nmesh_z]  = 44,39,8.  Time taken =   1.181 sec\n",
      "0%.........10%.........20%.........30%.........40%.........50%.........60%.........70%.........80%.........90%.........100% done. Time taken =  0.630 secs\n",
      "In gridlink_mocks_double> Running with [nmesh_x, nmesh_y, nmesh_z]  = 29,26,8.  Time taken =   0.049 sec\n",
      "In gridlink_mocks_double> Running with [nmesh_x, nmesh_y, nmesh_z]  = 29,26,8.  Time taken =   0.124 sec\n",
      "0%.........10%.........20%.........30%.........40%.........50%.........60%.........70%.........80%.........90%.........100% done. Time taken =  9.625 secs\n",
      "In gridlink_mocks_double> Running with [nmesh_x, nmesh_y, nmesh_z]  = 29,26,8.  Time taken =   0.116 sec\n",
      "countpairs_mocks_double> gridlink seems inefficient. nmesh = (29, 26, 8); avg_np = 1.17e+03. Boosting bin refine factor - should lead to better performance\n",
      "In gridlink_mocks_double> Running with [nmesh_x, nmesh_y, nmesh_z]  = 44,39,8.  Time taken =   0.085 sec\n",
      "In gridlink_mocks_double> Running with [nmesh_x, nmesh_y, nmesh_z]  = 44,39,8.  Time taken =   1.271 sec\n",
      "0%.........10%.........20%.........30%.........40%.........50%.........60%.........70%.........80%.........90%.........100% done. Time taken =     4 mins   24 secs\n"
     ]
    },
    {
     "name": "stdout",
     "output_type": "stream",
     "text": [
      "3 / 25\n"
     ]
    },
    {
     "name": "stderr",
     "output_type": "stream",
     "text": [
      "In gridlink_mocks_double> Running with [nmesh_x, nmesh_y, nmesh_z]  = 29,26,8.  Time taken =   0.002 sec\n",
      "In gridlink_mocks_double> Running with [nmesh_x, nmesh_y, nmesh_z]  = 29,26,8.  Time taken =   0.071 sec\n",
      "0%.........10%.........20%.........30%.........40%.........50%.........60%.........70%.........80%.........90%.........100% done. Time taken =  0.073 secs\n",
      "In gridlink_mocks_double> Running with [nmesh_x, nmesh_y, nmesh_z]  = 29,26,8.  Time taken =   0.002 sec\n",
      "countpairs_mocks_double> gridlink seems inefficient. nmesh = (29, 26, 8); avg_np = 1.04e+03. Boosting bin refine factor - should lead to better performance\n",
      "In gridlink_mocks_double> Running with [nmesh_x, nmesh_y, nmesh_z]  = 44,39,8.  Time taken =   0.006 sec\n",
      "In gridlink_mocks_double> Running with [nmesh_x, nmesh_y, nmesh_z]  = 44,39,8.  Time taken =   1.288 sec\n",
      "0%.........10%.........20%.........30%.........40%.........50%.........60%.........70%.........80%.........90%.........100% done. Time taken =  0.548 secs\n",
      "In gridlink_mocks_double> Running with [nmesh_x, nmesh_y, nmesh_z]  = 29,26,8.  Time taken =   0.035 sec\n",
      "In gridlink_mocks_double> Running with [nmesh_x, nmesh_y, nmesh_z]  = 29,26,8.  Time taken =   0.004 sec\n",
      "0%.........10%.........20%.........30%.........40%.........50%.........60%.........70%.........80%.........90%.........100% done. Time taken =  0.162 secs\n",
      "In gridlink_mocks_double> Running with [nmesh_x, nmesh_y, nmesh_z]  = 29,26,8.  Time taken =   0.002 sec\n",
      "countpairs_mocks_double> gridlink seems inefficient. nmesh = (29, 26, 8); avg_np = 1.04e+03. Boosting bin refine factor - should lead to better performance\n",
      "In gridlink_mocks_double> Running with [nmesh_x, nmesh_y, nmesh_z]  = 44,39,8.  Time taken =   0.004 sec\n",
      "In gridlink_mocks_double> Running with [nmesh_x, nmesh_y, nmesh_z]  = 44,39,8.  Time taken =   1.153 sec\n",
      "0%.........10%.........20%.........30%.........40%.........50%.........60%.........70%.........80%.........90%.........100% done. Time taken =  0.577 secs\n"
     ]
    },
    {
     "name": "stdout",
     "output_type": "stream",
     "text": [
      "4 / 25\n"
     ]
    },
    {
     "name": "stderr",
     "output_type": "stream",
     "text": [
      "In gridlink_mocks_double> Running with [nmesh_x, nmesh_y, nmesh_z]  = 29,26,8.  Time taken =   0.011 sec\n",
      "In gridlink_mocks_double> Running with [nmesh_x, nmesh_y, nmesh_z]  = 29,26,8.  Time taken =   0.079 sec\n",
      "0%.........10%.........20%.........30%.........40%.........50%.........60%.........70%.........80%.........90%.........100% done. Time taken =  0.078 secs\n",
      "In gridlink_mocks_double> Running with [nmesh_x, nmesh_y, nmesh_z]  = 29,26,8.  Time taken =   0.003 sec\n",
      "countpairs_mocks_double> gridlink seems inefficient. nmesh = (29, 26, 8); avg_np = 1.11e+03. Boosting bin refine factor - should lead to better performance\n",
      "In gridlink_mocks_double> Running with [nmesh_x, nmesh_y, nmesh_z]  = 44,39,8.  Time taken =   0.012 sec\n",
      "In gridlink_mocks_double> Running with [nmesh_x, nmesh_y, nmesh_z]  = 44,39,8.  Time taken =   1.619 sec\n",
      "0%.........10%.........20%.........30%.........40%.........50%.........60%.........70%.........80%.........90%.........100% done. Time taken =  0.586 secs\n",
      "In gridlink_mocks_double> Running with [nmesh_x, nmesh_y, nmesh_z]  = 29,26,8.  Time taken =   0.072 sec\n",
      "In gridlink_mocks_double> Running with [nmesh_x, nmesh_y, nmesh_z]  = 29,26,8.  Time taken =   0.140 sec\n",
      "0%.........10%.........20%.........30%.........40%.........50%.........60%.........70%.........80%.........90%.........100% done. Time taken =  9.713 secs\n",
      "In gridlink_mocks_double> Running with [nmesh_x, nmesh_y, nmesh_z]  = 29,26,8.  Time taken =   0.099 sec\n",
      "countpairs_mocks_double> gridlink seems inefficient. nmesh = (29, 26, 8); avg_np = 1.11e+03. Boosting bin refine factor - should lead to better performance\n",
      "In gridlink_mocks_double> Running with [nmesh_x, nmesh_y, nmesh_z]  = 44,39,8.  Time taken =   0.084 sec\n",
      "In gridlink_mocks_double> Running with [nmesh_x, nmesh_y, nmesh_z]  = 44,39,8.  Time taken =   1.193 sec\n",
      "0%.........10%.........20%.........30%.........40%.........50%.........60%.........70%.........80%.........90%.........100% done. Time taken =     4 mins   17 secs\n"
     ]
    },
    {
     "name": "stdout",
     "output_type": "stream",
     "text": [
      "5 / 25\n"
     ]
    },
    {
     "name": "stderr",
     "output_type": "stream",
     "text": [
      "In gridlink_mocks_double> Running with [nmesh_x, nmesh_y, nmesh_z]  = 29,26,8.  Time taken =   0.003 sec\n",
      "In gridlink_mocks_double> Running with [nmesh_x, nmesh_y, nmesh_z]  = 29,26,8.  Time taken =   0.046 sec\n",
      "0%.........10%.........20%.........30%.........40%.........50%.........60%.........70%.........80%.........90%.........100% done. Time taken =  0.090 secs\n",
      "In gridlink_mocks_double> Running with [nmesh_x, nmesh_y, nmesh_z]  = 29,26,8.  Time taken =   0.002 sec\n",
      "countpairs_mocks_double> gridlink seems inefficient. nmesh = (29, 26, 8); avg_np = 1.17e+03. Boosting bin refine factor - should lead to better performance\n",
      "In gridlink_mocks_double> Running with [nmesh_x, nmesh_y, nmesh_z]  = 44,39,8.  Time taken =   0.004 sec\n",
      "In gridlink_mocks_double> Running with [nmesh_x, nmesh_y, nmesh_z]  = 44,39,8.  Time taken =   1.301 sec\n",
      "0%.........10%.........20%.........30%.........40%.........50%.........60%.........70%.........80%.........90%.........100% done. Time taken =  0.652 secs\n",
      "In gridlink_mocks_double> Running with [nmesh_x, nmesh_y, nmesh_z]  = 29,26,8.  Time taken =   0.042 sec\n",
      "In gridlink_mocks_double> Running with [nmesh_x, nmesh_y, nmesh_z]  = 29,26,8.  Time taken =   0.114 sec\n",
      "0%.........10%.........20%.........30%.........40%.........50%.........60%.........70%.........80%.........90%.........100% done. Time taken = 10.424 secs\n",
      "In gridlink_mocks_double> Running with [nmesh_x, nmesh_y, nmesh_z]  = 29,26,8.  Time taken =   0.118 sec\n",
      "countpairs_mocks_double> gridlink seems inefficient. nmesh = (29, 26, 8); avg_np = 1.17e+03. Boosting bin refine factor - should lead to better performance\n",
      "In gridlink_mocks_double> Running with [nmesh_x, nmesh_y, nmesh_z]  = 44,39,8.  Time taken =   0.085 sec\n",
      "In gridlink_mocks_double> Running with [nmesh_x, nmesh_y, nmesh_z]  = 44,39,8.  Time taken =   1.671 sec\n",
      "0%.........10%.........20%.........30%.........40%.........50%.........60%.........70%.........80%.........90%.........100% done. Time taken =     4 mins   22 secs\n"
     ]
    },
    {
     "name": "stdout",
     "output_type": "stream",
     "text": [
      "6 / 25\n"
     ]
    },
    {
     "name": "stderr",
     "output_type": "stream",
     "text": [
      "In gridlink_mocks_double> Running with [nmesh_x, nmesh_y, nmesh_z]  = 29,26,8.  Time taken =   0.003 sec\n",
      "In gridlink_mocks_double> Running with [nmesh_x, nmesh_y, nmesh_z]  = 29,26,8.  Time taken =   0.050 sec\n",
      "0%.........10%.........20%.........30%.........40%.........50%.........60%.........70%.........80%.........90%.........100% done. Time taken =  0.078 secs\n",
      "In gridlink_mocks_double> Running with [nmesh_x, nmesh_y, nmesh_z]  = 29,26,8.  Time taken =   0.002 sec\n",
      "countpairs_mocks_double> gridlink seems inefficient. nmesh = (29, 26, 8); avg_np = 1.17e+03. Boosting bin refine factor - should lead to better performance\n",
      "In gridlink_mocks_double> Running with [nmesh_x, nmesh_y, nmesh_z]  = 44,39,8.  Time taken =   0.004 sec\n",
      "In gridlink_mocks_double> Running with [nmesh_x, nmesh_y, nmesh_z]  = 44,39,8.  Time taken =   1.221 sec\n",
      "0%.........10%.........20%.........30%.........40%.........50%.........60%.........70%.........80%.........90%.........100% done. Time taken =  0.612 secs\n",
      "In gridlink_mocks_double> Running with [nmesh_x, nmesh_y, nmesh_z]  = 29,26,8.  Time taken =   0.049 sec\n",
      "In gridlink_mocks_double> Running with [nmesh_x, nmesh_y, nmesh_z]  = 29,26,8.  Time taken =   0.122 sec\n",
      "0%.........10%.........20%.........30%.........40%.........50%.........60%.........70%.........80%.........90%.........100% done. Time taken =  9.714 secs\n",
      "In gridlink_mocks_double> Running with [nmesh_x, nmesh_y, nmesh_z]  = 29,26,8.  Time taken =   0.101 sec\n",
      "countpairs_mocks_double> gridlink seems inefficient. nmesh = (29, 26, 8); avg_np = 1.17e+03. Boosting bin refine factor - should lead to better performance\n",
      "In gridlink_mocks_double> Running with [nmesh_x, nmesh_y, nmesh_z]  = 44,39,8.  Time taken =   0.121 sec\n",
      "In gridlink_mocks_double> Running with [nmesh_x, nmesh_y, nmesh_z]  = 44,39,8.  Time taken =   1.385 sec\n",
      "0%.........10%.........20%.........30%.........40%.........50%.........60%.........70%.........80%.........90%.........100% done. Time taken =     4 mins   23 secs\n"
     ]
    },
    {
     "name": "stdout",
     "output_type": "stream",
     "text": [
      "7 / 25\n"
     ]
    },
    {
     "name": "stderr",
     "output_type": "stream",
     "text": [
      "In gridlink_mocks_double> Running with [nmesh_x, nmesh_y, nmesh_z]  = 29,26,8.  Time taken =   0.002 sec\n",
      "In gridlink_mocks_double> Running with [nmesh_x, nmesh_y, nmesh_z]  = 29,26,8.  Time taken =   0.056 sec\n",
      "0%.........10%.........20%.........30%.........40%.........50%.........60%.........70%.........80%.........90%.........100% done. Time taken =  0.085 secs\n",
      "In gridlink_mocks_double> Running with [nmesh_x, nmesh_y, nmesh_z]  = 29,26,8.  Time taken =   0.002 sec\n",
      "countpairs_mocks_double> gridlink seems inefficient. nmesh = (29, 26, 8); avg_np = 1.17e+03. Boosting bin refine factor - should lead to better performance\n",
      "In gridlink_mocks_double> Running with [nmesh_x, nmesh_y, nmesh_z]  = 44,39,8.  Time taken =   0.004 sec\n",
      "In gridlink_mocks_double> Running with [nmesh_x, nmesh_y, nmesh_z]  = 44,39,8.  Time taken =   1.210 sec\n",
      "0%.........10%.........20%.........30%.........40%.........50%.........60%.........70%.........80%.........90%.........100% done. Time taken =  0.665 secs\n",
      "In gridlink_mocks_double> Running with [nmesh_x, nmesh_y, nmesh_z]  = 29,26,8.  Time taken =   0.049 sec\n",
      "In gridlink_mocks_double> Running with [nmesh_x, nmesh_y, nmesh_z]  = 29,26,8.  Time taken =   0.119 sec\n",
      "0%.........10%.........20%.........30%.........40%.........50%.........60%.........70%.........80%.........90%.........100% done. Time taken = 10.056 secs\n",
      "In gridlink_mocks_double> Running with [nmesh_x, nmesh_y, nmesh_z]  = 29,26,8.  Time taken =   0.147 sec\n",
      "countpairs_mocks_double> gridlink seems inefficient. nmesh = (29, 26, 8); avg_np = 1.17e+03. Boosting bin refine factor - should lead to better performance\n",
      "In gridlink_mocks_double> Running with [nmesh_x, nmesh_y, nmesh_z]  = 44,39,8.  Time taken =   0.090 sec\n",
      "In gridlink_mocks_double> Running with [nmesh_x, nmesh_y, nmesh_z]  = 44,39,8.  Time taken =   1.307 sec\n",
      "0%.........10%.........20%.........30%.........40%.........50%.........60%.........70%.........80%.........90%.........100% done. Time taken =     4 mins   23 secs\n"
     ]
    },
    {
     "name": "stdout",
     "output_type": "stream",
     "text": [
      "8 / 25\n"
     ]
    },
    {
     "name": "stderr",
     "output_type": "stream",
     "text": [
      "In gridlink_mocks_double> Running with [nmesh_x, nmesh_y, nmesh_z]  = 29,26,8.  Time taken =   0.003 sec\n",
      "In gridlink_mocks_double> Running with [nmesh_x, nmesh_y, nmesh_z]  = 29,26,8.  Time taken =   0.042 sec\n",
      "0%.........10%.........20%.........30%.........40%.........50%.........60%.........70%.........80%.........90%.........100% done. Time taken =  0.084 secs\n",
      "In gridlink_mocks_double> Running with [nmesh_x, nmesh_y, nmesh_z]  = 29,26,8.  Time taken =   0.002 sec\n",
      "countpairs_mocks_double> gridlink seems inefficient. nmesh = (29, 26, 8); avg_np = 1.12e+03. Boosting bin refine factor - should lead to better performance\n",
      "In gridlink_mocks_double> Running with [nmesh_x, nmesh_y, nmesh_z]  = 44,39,8.  Time taken =   0.004 sec\n",
      "In gridlink_mocks_double> Running with [nmesh_x, nmesh_y, nmesh_z]  = 44,39,8.  Time taken =   1.423 sec\n",
      "0%.........10%.........20%.........30%.........40%.........50%.........60%.........70%.........80%.........90%.........100% done. Time taken =  0.627 secs\n",
      "In gridlink_mocks_double> Running with [nmesh_x, nmesh_y, nmesh_z]  = 29,26,8.  Time taken =   0.061 sec\n",
      "In gridlink_mocks_double> Running with [nmesh_x, nmesh_y, nmesh_z]  = 29,26,8.  Time taken =   0.167 sec\n",
      "0%.........10%.........20%.........30%.........40%.........50%.........60%.........70%.........80%.........90%.........100% done. Time taken = 10.054 secs\n",
      "In gridlink_mocks_double> Running with [nmesh_x, nmesh_y, nmesh_z]  = 29,26,8.  Time taken =   0.123 sec\n",
      "countpairs_mocks_double> gridlink seems inefficient. nmesh = (29, 26, 8); avg_np = 1.12e+03. Boosting bin refine factor - should lead to better performance\n",
      "In gridlink_mocks_double> Running with [nmesh_x, nmesh_y, nmesh_z]  = 44,39,8.  Time taken =   0.083 sec\n",
      "In gridlink_mocks_double> Running with [nmesh_x, nmesh_y, nmesh_z]  = 44,39,8.  Time taken =   1.197 sec\n",
      "0%.........10%.........20%.........30%.........40%.........50%.........60%.........70%.........80%.........90%.........100% done. Time taken =     4 mins   31 secs\n"
     ]
    },
    {
     "name": "stdout",
     "output_type": "stream",
     "text": [
      "9 / 25\n"
     ]
    },
    {
     "name": "stderr",
     "output_type": "stream",
     "text": [
      "In gridlink_mocks_double> Running with [nmesh_x, nmesh_y, nmesh_z]  = 29,26,8.  Time taken =   0.003 sec\n",
      "In gridlink_mocks_double> Running with [nmesh_x, nmesh_y, nmesh_z]  = 29,26,8.  Time taken =   0.042 sec\n",
      "0%.........10%.........20%.........30%.........40%.........50%.........60%.........70%.........80%.........90%.........100% done. Time taken =  0.077 secs\n",
      "In gridlink_mocks_double> Running with [nmesh_x, nmesh_y, nmesh_z]  = 29,26,8.  Time taken =   0.003 sec\n",
      "countpairs_mocks_double> gridlink seems inefficient. nmesh = (29, 26, 8); avg_np = 1.1e+03. Boosting bin refine factor - should lead to better performance\n",
      "In gridlink_mocks_double> Running with [nmesh_x, nmesh_y, nmesh_z]  = 44,39,8.  Time taken =   0.004 sec\n",
      "In gridlink_mocks_double> Running with [nmesh_x, nmesh_y, nmesh_z]  = 44,39,8.  Time taken =   1.250 sec\n",
      "0%.........10%.........20%.........30%.........40%.........50%.........60%.........70%.........80%.........90%.........100% done. Time taken =  0.589 secs\n",
      "In gridlink_mocks_double> Running with [nmesh_x, nmesh_y, nmesh_z]  = 29,26,8.  Time taken =   0.044 sec\n",
      "In gridlink_mocks_double> Running with [nmesh_x, nmesh_y, nmesh_z]  = 29,26,8.  Time taken =   0.113 sec\n",
      "0%.........10%.........20%.........30%.........40%.........50%.........60%.........70%.........80%.........90%.........100% done. Time taken = 10.881 secs\n",
      "In gridlink_mocks_double> Running with [nmesh_x, nmesh_y, nmesh_z]  = 29,26,8.  Time taken =   0.110 sec\n",
      "countpairs_mocks_double> gridlink seems inefficient. nmesh = (29, 26, 8); avg_np = 1.1e+03. Boosting bin refine factor - should lead to better performance\n",
      "In gridlink_mocks_double> Running with [nmesh_x, nmesh_y, nmesh_z]  = 44,39,8.  Time taken =   0.084 sec\n",
      "In gridlink_mocks_double> Running with [nmesh_x, nmesh_y, nmesh_z]  = 44,39,8.  Time taken =   1.134 sec\n",
      "0%.........10%.........20%.........30%.........40%.........50%.........60%.........70%.........80%.........90%.........100% done. Time taken =     4 mins   28 secs\n"
     ]
    },
    {
     "name": "stdout",
     "output_type": "stream",
     "text": [
      "10 / 25\n"
     ]
    },
    {
     "name": "stderr",
     "output_type": "stream",
     "text": [
      "In gridlink_mocks_double> Running with [nmesh_x, nmesh_y, nmesh_z]  = 29,26,8.  Time taken =   0.002 sec\n",
      "In gridlink_mocks_double> Running with [nmesh_x, nmesh_y, nmesh_z]  = 29,26,8.  Time taken =   0.074 sec\n",
      "0%.........10%.........20%.........30%.........40%.........50%.........60%.........70%.........80%.........90%.........100% done. Time taken =  0.075 secs\n",
      "In gridlink_mocks_double> Running with [nmesh_x, nmesh_y, nmesh_z]  = 29,26,8.  Time taken =   0.002 sec\n",
      "countpairs_mocks_double> gridlink seems inefficient. nmesh = (29, 26, 8); avg_np = 1.16e+03. Boosting bin refine factor - should lead to better performance\n",
      "In gridlink_mocks_double> Running with [nmesh_x, nmesh_y, nmesh_z]  = 44,39,8.  Time taken =   0.004 sec\n",
      "In gridlink_mocks_double> Running with [nmesh_x, nmesh_y, nmesh_z]  = 44,39,8.  Time taken =   1.326 sec\n",
      "0%.........10%.........20%.........30%.........40%.........50%.........60%.........70%.........80%.........90%.........100% done. Time taken =  0.632 secs\n",
      "In gridlink_mocks_double> Running with [nmesh_x, nmesh_y, nmesh_z]  = 29,26,8.  Time taken =   0.038 sec\n",
      "In gridlink_mocks_double> Running with [nmesh_x, nmesh_y, nmesh_z]  = 29,26,8.  Time taken =   0.165 sec\n",
      "0%.........10%.........20%.........30%.........40%.........50%.........60%.........70%.........80%.........90%.........100% done. Time taken =  9.531 secs\n",
      "In gridlink_mocks_double> Running with [nmesh_x, nmesh_y, nmesh_z]  = 29,26,8.  Time taken =   0.115 sec\n",
      "countpairs_mocks_double> gridlink seems inefficient. nmesh = (29, 26, 8); avg_np = 1.16e+03. Boosting bin refine factor - should lead to better performance\n",
      "In gridlink_mocks_double> Running with [nmesh_x, nmesh_y, nmesh_z]  = 44,39,8.  Time taken =   0.083 sec\n",
      "In gridlink_mocks_double> Running with [nmesh_x, nmesh_y, nmesh_z]  = 44,39,8.  Time taken =   1.458 sec\n",
      "0%.........10%.........20%.........30%.........40%.........50%.........60%.........70%.........80%.........90%.........100% done. Time taken =     4 mins   29 secs\n"
     ]
    },
    {
     "name": "stdout",
     "output_type": "stream",
     "text": [
      "11 / 25\n"
     ]
    },
    {
     "name": "stderr",
     "output_type": "stream",
     "text": [
      "In gridlink_mocks_double> Running with [nmesh_x, nmesh_y, nmesh_z]  = 29,26,8.  Time taken =   0.006 sec\n",
      "In gridlink_mocks_double> Running with [nmesh_x, nmesh_y, nmesh_z]  = 29,26,8.  Time taken =   0.068 sec\n",
      "0%.........10%.........20%.........30%.........40%.........50%.........60%.........70%.........80%.........90%.........100% done. Time taken =  0.087 secs\n",
      "In gridlink_mocks_double> Running with [nmesh_x, nmesh_y, nmesh_z]  = 29,26,8.  Time taken =   0.004 sec\n",
      "countpairs_mocks_double> gridlink seems inefficient. nmesh = (29, 26, 8); avg_np = 1.17e+03. Boosting bin refine factor - should lead to better performance\n",
      "In gridlink_mocks_double> Running with [nmesh_x, nmesh_y, nmesh_z]  = 44,39,8.  Time taken =   0.007 sec\n",
      "In gridlink_mocks_double> Running with [nmesh_x, nmesh_y, nmesh_z]  = 44,39,8.  Time taken =   1.168 sec\n",
      "0%.........10%.........20%.........30%.........40%.........50%.........60%.........70%.........80%.........90%.........100% done. Time taken =  0.665 secs\n",
      "In gridlink_mocks_double> Running with [nmesh_x, nmesh_y, nmesh_z]  = 29,26,8.  Time taken =   0.052 sec\n",
      "In gridlink_mocks_double> Running with [nmesh_x, nmesh_y, nmesh_z]  = 29,26,8.  Time taken =   0.127 sec\n",
      "0%.........10%.........20%.........30%.........40%.........50%.........60%.........70%.........80%.........90%.........100% done. Time taken =  9.717 secs\n",
      "In gridlink_mocks_double> Running with [nmesh_x, nmesh_y, nmesh_z]  = 29,26,8.  Time taken =   0.094 sec\n",
      "countpairs_mocks_double> gridlink seems inefficient. nmesh = (29, 26, 8); avg_np = 1.17e+03. Boosting bin refine factor - should lead to better performance\n",
      "In gridlink_mocks_double> Running with [nmesh_x, nmesh_y, nmesh_z]  = 44,39,8.  Time taken =   0.083 sec\n",
      "In gridlink_mocks_double> Running with [nmesh_x, nmesh_y, nmesh_z]  = 44,39,8.  Time taken =   1.270 sec\n",
      "0%.........10%.........20%.........30%.........40%.........50%.........60%.........70%.........80%.........90%.........100% done. Time taken =     4 mins   31 secs\n"
     ]
    },
    {
     "name": "stdout",
     "output_type": "stream",
     "text": [
      "12 / 25\n"
     ]
    },
    {
     "name": "stderr",
     "output_type": "stream",
     "text": [
      "In gridlink_mocks_double> Running with [nmesh_x, nmesh_y, nmesh_z]  = 29,26,8.  Time taken =   0.002 sec\n",
      "In gridlink_mocks_double> Running with [nmesh_x, nmesh_y, nmesh_z]  = 29,26,8.  Time taken =   0.050 sec\n",
      "0%.........10%.........20%.........30%.........40%.........50%.........60%.........70%.........80%.........90%.........100% done. Time taken =  0.077 secs\n",
      "In gridlink_mocks_double> Running with [nmesh_x, nmesh_y, nmesh_z]  = 29,26,8.  Time taken =   0.003 sec\n",
      "countpairs_mocks_double> gridlink seems inefficient. nmesh = (29, 26, 8); avg_np = 1.17e+03. Boosting bin refine factor - should lead to better performance\n",
      "In gridlink_mocks_double> Running with [nmesh_x, nmesh_y, nmesh_z]  = 44,39,8.  Time taken =   0.004 sec\n",
      "In gridlink_mocks_double> Running with [nmesh_x, nmesh_y, nmesh_z]  = 44,39,8.  Time taken =   1.259 sec\n",
      "0%.........10%.........20%.........30%.........40%.........50%.........60%.........70%.........80%.........90%.........100% done. Time taken =  0.634 secs\n",
      "In gridlink_mocks_double> Running with [nmesh_x, nmesh_y, nmesh_z]  = 29,26,8.  Time taken =   0.043 sec\n",
      "In gridlink_mocks_double> Running with [nmesh_x, nmesh_y, nmesh_z]  = 29,26,8.  Time taken =   0.112 sec\n",
      "0%.........10%.........20%.........30%.........40%.........50%.........60%.........70%.........80%.........90%.........100% done. Time taken =  9.135 secs\n",
      "In gridlink_mocks_double> Running with [nmesh_x, nmesh_y, nmesh_z]  = 29,26,8.  Time taken =   0.124 sec\n",
      "countpairs_mocks_double> gridlink seems inefficient. nmesh = (29, 26, 8); avg_np = 1.17e+03. Boosting bin refine factor - should lead to better performance\n",
      "In gridlink_mocks_double> Running with [nmesh_x, nmesh_y, nmesh_z]  = 44,39,8.  Time taken =   0.089 sec\n",
      "In gridlink_mocks_double> Running with [nmesh_x, nmesh_y, nmesh_z]  = 44,39,8.  Time taken =   1.223 sec\n",
      "0%.........10%.........20%.........30%.........40%.........50%.........60%.........70%.........80%.........90%.........100% done. Time taken =     4 mins   24 secs\n"
     ]
    },
    {
     "name": "stdout",
     "output_type": "stream",
     "text": [
      "13 / 25\n"
     ]
    },
    {
     "name": "stderr",
     "output_type": "stream",
     "text": [
      "In gridlink_mocks_double> Running with [nmesh_x, nmesh_y, nmesh_z]  = 28,26,8.  Time taken =   0.003 sec\n",
      "In gridlink_mocks_double> Running with [nmesh_x, nmesh_y, nmesh_z]  = 28,26,8.  Time taken =   0.037 sec\n",
      "0%.........10%.........20%.........30%.........40%.........50%.........60%.........70%.........80%.........90%.........100% done. Time taken =  0.073 secs\n",
      "In gridlink_mocks_double> Running with [nmesh_x, nmesh_y, nmesh_z]  = 28,26,8.  Time taken =   0.002 sec\n",
      "countpairs_mocks_double> gridlink seems inefficient. nmesh = (28, 26, 8); avg_np = 1.05e+03. Boosting bin refine factor - should lead to better performance\n",
      "In gridlink_mocks_double> Running with [nmesh_x, nmesh_y, nmesh_z]  = 42,39,8.  Time taken =   0.003 sec\n",
      "In gridlink_mocks_double> Running with [nmesh_x, nmesh_y, nmesh_z]  = 42,39,8.  Time taken =   1.094 sec\n",
      "0%.........10%.........20%.........30%.........40%.........50%.........60%.........70%.........80%.........90%.........100% done. Time taken =  0.578 secs\n",
      "In gridlink_mocks_double> Running with [nmesh_x, nmesh_y, nmesh_z]  = 28,26,8.  Time taken =   0.034 sec\n",
      "In gridlink_mocks_double> Running with [nmesh_x, nmesh_y, nmesh_z]  = 28,26,8.  Time taken =   0.130 sec\n",
      "0%.........10%.........20%.........30%.........40%.........50%.........60%.........70%.........80%.........90%.........100% done. Time taken =  9.629 secs\n",
      "In gridlink_mocks_double> Running with [nmesh_x, nmesh_y, nmesh_z]  = 28,26,8.  Time taken =   0.095 sec\n",
      "countpairs_mocks_double> gridlink seems inefficient. nmesh = (28, 26, 8); avg_np = 1.05e+03. Boosting bin refine factor - should lead to better performance\n",
      "In gridlink_mocks_double> Running with [nmesh_x, nmesh_y, nmesh_z]  = 42,39,8.  Time taken =   0.071 sec\n",
      "In gridlink_mocks_double> Running with [nmesh_x, nmesh_y, nmesh_z]  = 42,39,8.  Time taken =   1.123 sec\n",
      "0%.........10%.........20%.........30%.........40%.........50%.........60%.........70%.........80%.........90%.........100% done. Time taken =     4 mins   25 secs\n"
     ]
    },
    {
     "name": "stdout",
     "output_type": "stream",
     "text": [
      "14 / 25\n"
     ]
    },
    {
     "name": "stderr",
     "output_type": "stream",
     "text": [
      "In gridlink_mocks_double> Running with [nmesh_x, nmesh_y, nmesh_z]  = 29,26,8.  Time taken =   0.003 sec\n",
      "In gridlink_mocks_double> Running with [nmesh_x, nmesh_y, nmesh_z]  = 29,26,8.  Time taken =   0.041 sec\n",
      "0%.........10%.........20%.........30%.........40%.........50%.........60%.........70%.........80%.........90%.........100% done. Time taken =  0.059 secs\n",
      "In gridlink_mocks_double> Running with [nmesh_x, nmesh_y, nmesh_z]  = 29,26,8.  Time taken =   0.003 sec\n",
      "countpairs_mocks_double> gridlink seems inefficient. nmesh = (29, 26, 8); avg_np = 931. Boosting bin refine factor - should lead to better performance\n",
      "In gridlink_mocks_double> Running with [nmesh_x, nmesh_y, nmesh_z]  = 44,39,8.  Time taken =   0.005 sec\n",
      "In gridlink_mocks_double> Running with [nmesh_x, nmesh_y, nmesh_z]  = 44,39,8.  Time taken =   1.319 sec\n",
      "0%.........10%.........20%.........30%.........40%.........50%.........60%.........70%.........80%.........90%.........100% done. Time taken =  0.462 secs\n",
      "In gridlink_mocks_double> Running with [nmesh_x, nmesh_y, nmesh_z]  = 29,26,8.  Time taken =   0.065 sec\n",
      "In gridlink_mocks_double> Running with [nmesh_x, nmesh_y, nmesh_z]  = 29,26,8.  Time taken =   0.177 sec\n",
      "0%.........10%.........20%.........30%.........40%.........50%.........60%.........70%.........80%.........90%.........100% done. Time taken = 11.909 secs\n",
      "In gridlink_mocks_double> Running with [nmesh_x, nmesh_y, nmesh_z]  = 29,26,8.  Time taken =   0.147 sec\n",
      "countpairs_mocks_double> gridlink seems inefficient. nmesh = (29, 26, 8); avg_np = 931. Boosting bin refine factor - should lead to better performance\n",
      "In gridlink_mocks_double> Running with [nmesh_x, nmesh_y, nmesh_z]  = 44,39,8.  Time taken =   0.109 sec\n",
      "In gridlink_mocks_double> Running with [nmesh_x, nmesh_y, nmesh_z]  = 44,39,8.  Time taken =   1.458 sec\n",
      "0%.........10%.........20%.........30%.........40%.........50%.........60%.........70%.........80%.........90%.........100% done. Time taken =     4 mins   25 secs\n"
     ]
    },
    {
     "name": "stdout",
     "output_type": "stream",
     "text": [
      "15 / 25\n"
     ]
    },
    {
     "name": "stderr",
     "output_type": "stream",
     "text": [
      "In gridlink_mocks_double> Running with [nmesh_x, nmesh_y, nmesh_z]  = 29,26,8.  Time taken =   0.002 sec\n",
      "In gridlink_mocks_double> Running with [nmesh_x, nmesh_y, nmesh_z]  = 29,26,8.  Time taken =   0.031 sec\n",
      "0%.........10%.........20%.........30%.........40%.........50%.........60%.........70%.........80%.........90%.........100% done. Time taken =  0.069 secs\n",
      "In gridlink_mocks_double> Running with [nmesh_x, nmesh_y, nmesh_z]  = 29,26,8.  Time taken =   0.003 sec\n",
      "countpairs_mocks_double> gridlink seems inefficient. nmesh = (29, 26, 8); avg_np = 1.11e+03. Boosting bin refine factor - should lead to better performance\n",
      "In gridlink_mocks_double> Running with [nmesh_x, nmesh_y, nmesh_z]  = 44,39,8.  Time taken =   0.005 sec\n",
      "In gridlink_mocks_double> Running with [nmesh_x, nmesh_y, nmesh_z]  = 44,39,8.  Time taken =   1.103 sec\n",
      "0%.........10%.........20%.........30%.........40%.........50%.........60%.........70%.........80%.........90%.........100% done. Time taken =  0.567 secs\n",
      "In gridlink_mocks_double> Running with [nmesh_x, nmesh_y, nmesh_z]  = 29,26,8.  Time taken =   0.047 sec\n",
      "In gridlink_mocks_double> Running with [nmesh_x, nmesh_y, nmesh_z]  = 29,26,8.  Time taken =   0.124 sec\n",
      "0%.........10%.........20%.........30%.........40%.........50%.........60%.........70%.........80%.........90%.........100% done. Time taken =  9.642 secs\n",
      "In gridlink_mocks_double> Running with [nmesh_x, nmesh_y, nmesh_z]  = 29,26,8.  Time taken =   0.097 sec\n",
      "countpairs_mocks_double> gridlink seems inefficient. nmesh = (29, 26, 8); avg_np = 1.11e+03. Boosting bin refine factor - should lead to better performance\n",
      "In gridlink_mocks_double> Running with [nmesh_x, nmesh_y, nmesh_z]  = 44,39,8.  Time taken =   0.073 sec\n",
      "In gridlink_mocks_double> Running with [nmesh_x, nmesh_y, nmesh_z]  = 44,39,8.  Time taken =   1.131 sec\n",
      "0%.........10%.........20%.........30%.........40%.........50%.........60%.........70%.........80%.........90%.........100% done. Time taken =     4 mins   20 secs\n"
     ]
    },
    {
     "name": "stdout",
     "output_type": "stream",
     "text": [
      "16 / 25\n"
     ]
    },
    {
     "name": "stderr",
     "output_type": "stream",
     "text": [
      "In gridlink_mocks_double> Running with [nmesh_x, nmesh_y, nmesh_z]  = 29,26,8.  Time taken =   0.003 sec\n",
      "In gridlink_mocks_double> Running with [nmesh_x, nmesh_y, nmesh_z]  = 29,26,8.  Time taken =   0.050 sec\n",
      "0%.........10%.........20%.........30%.........40%.........50%.........60%.........70%.........80%.........90%.........100% done. Time taken =  0.080 secs\n",
      "In gridlink_mocks_double> Running with [nmesh_x, nmesh_y, nmesh_z]  = 29,26,8.  Time taken =   0.007 sec\n",
      "countpairs_mocks_double> gridlink seems inefficient. nmesh = (29, 26, 8); avg_np = 1.17e+03. Boosting bin refine factor - should lead to better performance\n",
      "In gridlink_mocks_double> Running with [nmesh_x, nmesh_y, nmesh_z]  = 44,39,8.  Time taken =   0.012 sec\n",
      "In gridlink_mocks_double> Running with [nmesh_x, nmesh_y, nmesh_z]  = 44,39,8.  Time taken =   1.360 sec\n",
      "0%.........10%.........20%.........30%.........40%.........50%.........60%.........70%.........80%.........90%.........100% done. Time taken =  0.637 secs\n",
      "In gridlink_mocks_double> Running with [nmesh_x, nmesh_y, nmesh_z]  = 29,26,8.  Time taken =   0.050 sec\n",
      "In gridlink_mocks_double> Running with [nmesh_x, nmesh_y, nmesh_z]  = 29,26,8.  Time taken =   0.115 sec\n",
      "0%.........10%.........20%.........30%.........40%.........50%.........60%.........70%.........80%.........90%.........100% done. Time taken = 10.801 secs\n",
      "In gridlink_mocks_double> Running with [nmesh_x, nmesh_y, nmesh_z]  = 29,26,8.  Time taken =   0.114 sec\n",
      "countpairs_mocks_double> gridlink seems inefficient. nmesh = (29, 26, 8); avg_np = 1.17e+03. Boosting bin refine factor - should lead to better performance\n",
      "In gridlink_mocks_double> Running with [nmesh_x, nmesh_y, nmesh_z]  = 44,39,8.  Time taken =   0.114 sec\n",
      "In gridlink_mocks_double> Running with [nmesh_x, nmesh_y, nmesh_z]  = 44,39,8.  Time taken =   1.251 sec\n",
      "0%.........10%.........20%.........30%.........40%.........50%.........60%.........70%.........80%.........90%.........100% done. Time taken =     4 mins   22 secs\n"
     ]
    },
    {
     "name": "stdout",
     "output_type": "stream",
     "text": [
      "17 / 25\n"
     ]
    },
    {
     "name": "stderr",
     "output_type": "stream",
     "text": [
      "In gridlink_mocks_double> Running with [nmesh_x, nmesh_y, nmesh_z]  = 29,26,8.  Time taken =   0.003 sec\n",
      "In gridlink_mocks_double> Running with [nmesh_x, nmesh_y, nmesh_z]  = 29,26,8.  Time taken =   0.047 sec\n",
      "0%.........10%.........20%.........30%.........40%.........50%.........60%.........70%.........80%.........90%.........100% done. Time taken =  0.077 secs\n",
      "In gridlink_mocks_double> Running with [nmesh_x, nmesh_y, nmesh_z]  = 29,26,8.  Time taken =   0.002 sec\n",
      "countpairs_mocks_double> gridlink seems inefficient. nmesh = (29, 26, 8); avg_np = 1.17e+03. Boosting bin refine factor - should lead to better performance\n",
      "In gridlink_mocks_double> Running with [nmesh_x, nmesh_y, nmesh_z]  = 44,39,8.  Time taken =   0.004 sec\n",
      "In gridlink_mocks_double> Running with [nmesh_x, nmesh_y, nmesh_z]  = 44,39,8.  Time taken =   1.275 sec\n",
      "0%.........10%.........20%.........30%.........40%.........50%.........60%.........70%.........80%.........90%.........100% done. Time taken =  0.646 secs\n",
      "In gridlink_mocks_double> Running with [nmesh_x, nmesh_y, nmesh_z]  = 29,26,8.  Time taken =   0.044 sec\n",
      "In gridlink_mocks_double> Running with [nmesh_x, nmesh_y, nmesh_z]  = 29,26,8.  Time taken =   0.170 sec\n",
      "0%.........10%.........20%.........30%.........40%.........50%.........60%.........70%.........80%.........90%.........100% done. Time taken = 10.047 secs\n",
      "In gridlink_mocks_double> Running with [nmesh_x, nmesh_y, nmesh_z]  = 29,26,8.  Time taken =   0.142 sec\n",
      "countpairs_mocks_double> gridlink seems inefficient. nmesh = (29, 26, 8); avg_np = 1.17e+03. Boosting bin refine factor - should lead to better performance\n",
      "In gridlink_mocks_double> Running with [nmesh_x, nmesh_y, nmesh_z]  = 44,39,8.  Time taken =   0.112 sec\n",
      "In gridlink_mocks_double> Running with [nmesh_x, nmesh_y, nmesh_z]  = 44,39,8.  Time taken =   1.474 sec\n",
      "0%.........10%.........20%.........30%.........40%.........50%.........60%.........70%.........80%.........90%.........100% done. Time taken =     4 mins   15 secs\n"
     ]
    },
    {
     "name": "stdout",
     "output_type": "stream",
     "text": [
      "18 / 25\n"
     ]
    },
    {
     "name": "stderr",
     "output_type": "stream",
     "text": [
      "In gridlink_mocks_double> Running with [nmesh_x, nmesh_y, nmesh_z]  = 29,26,8.  Time taken =   0.007 sec\n",
      "In gridlink_mocks_double> Running with [nmesh_x, nmesh_y, nmesh_z]  = 29,26,8.  Time taken =   0.048 sec\n",
      "0%.........10%.........20%.........30%.........40%.........50%.........60%.........70%.........80%.........90%.........100% done. Time taken =  0.069 secs\n",
      "In gridlink_mocks_double> Running with [nmesh_x, nmesh_y, nmesh_z]  = 29,26,8.  Time taken =   0.002 sec\n",
      "countpairs_mocks_double> gridlink seems inefficient. nmesh = (29, 26, 8); avg_np = 1.1e+03. Boosting bin refine factor - should lead to better performance\n",
      "In gridlink_mocks_double> Running with [nmesh_x, nmesh_y, nmesh_z]  = 44,39,8.  Time taken =   0.004 sec\n",
      "In gridlink_mocks_double> Running with [nmesh_x, nmesh_y, nmesh_z]  = 44,39,8.  Time taken =   1.391 sec\n",
      "0%.........10%.........20%.........30%.........40%.........50%.........60%.........70%.........80%.........90%.........100% done. Time taken =  0.582 secs\n",
      "In gridlink_mocks_double> Running with [nmesh_x, nmesh_y, nmesh_z]  = 29,26,8.  Time taken =   0.055 sec\n",
      "In gridlink_mocks_double> Running with [nmesh_x, nmesh_y, nmesh_z]  = 29,26,8.  Time taken =   0.152 sec\n",
      "0%.........10%.........20%.........30%.........40%.........50%.........60%.........70%.........80%.........90%.........100% done. Time taken =  9.528 secs\n",
      "In gridlink_mocks_double> Running with [nmesh_x, nmesh_y, nmesh_z]  = 29,26,8.  Time taken =   0.105 sec\n",
      "countpairs_mocks_double> gridlink seems inefficient. nmesh = (29, 26, 8); avg_np = 1.1e+03. Boosting bin refine factor - should lead to better performance\n",
      "In gridlink_mocks_double> Running with [nmesh_x, nmesh_y, nmesh_z]  = 44,39,8.  Time taken =   0.079 sec\n",
      "In gridlink_mocks_double> Running with [nmesh_x, nmesh_y, nmesh_z]  = 44,39,8.  Time taken =   1.127 sec\n",
      "0%.........10%.........20%.........30%.........40%.........50%.........60%.........70%.........80%.........90%.........100% done. Time taken =     4 mins    5 secs\n"
     ]
    },
    {
     "name": "stdout",
     "output_type": "stream",
     "text": [
      "19 / 25\n"
     ]
    },
    {
     "name": "stderr",
     "output_type": "stream",
     "text": [
      "In gridlink_mocks_double> Running with [nmesh_x, nmesh_y, nmesh_z]  = 29,26,8.  Time taken =   0.002 sec\n",
      "In gridlink_mocks_double> Running with [nmesh_x, nmesh_y, nmesh_z]  = 29,26,8.  Time taken =   0.031 sec\n",
      "0%.........10%.........20%.........30%.........40%.........50%.........60%.........70%.........80%.........90%.........100% done. Time taken =  0.070 secs\n",
      "In gridlink_mocks_double> Running with [nmesh_x, nmesh_y, nmesh_z]  = 29,26,8.  Time taken =   0.002 sec\n",
      "countpairs_mocks_double> gridlink seems inefficient. nmesh = (29, 26, 8); avg_np = 1.05e+03. Boosting bin refine factor - should lead to better performance\n",
      "In gridlink_mocks_double> Running with [nmesh_x, nmesh_y, nmesh_z]  = 44,39,8.  Time taken =   0.004 sec\n",
      "In gridlink_mocks_double> Running with [nmesh_x, nmesh_y, nmesh_z]  = 44,39,8.  Time taken =   1.073 sec\n",
      "0%.........10%.........20%.........30%.........40%.........50%.........60%.........70%.........80%.........90%.........100% done. Time taken =  0.554 secs\n",
      "In gridlink_mocks_double> Running with [nmesh_x, nmesh_y, nmesh_z]  = 29,26,8.  Time taken =   0.040 sec\n",
      "In gridlink_mocks_double> Running with [nmesh_x, nmesh_y, nmesh_z]  = 29,26,8.  Time taken =   0.105 sec\n",
      "0%.........10%.........20%.........30%.........40%.........50%.........60%.........70%.........80%.........90%.........100% done. Time taken =  8.524 secs\n",
      "In gridlink_mocks_double> Running with [nmesh_x, nmesh_y, nmesh_z]  = 29,26,8.  Time taken =   0.090 sec\n",
      "countpairs_mocks_double> gridlink seems inefficient. nmesh = (29, 26, 8); avg_np = 1.05e+03. Boosting bin refine factor - should lead to better performance\n",
      "In gridlink_mocks_double> Running with [nmesh_x, nmesh_y, nmesh_z]  = 44,39,8.  Time taken =   0.076 sec\n",
      "In gridlink_mocks_double> Running with [nmesh_x, nmesh_y, nmesh_z]  = 44,39,8.  Time taken =   1.034 sec\n",
      "0%.........10%.........20%.........30%.........40%.........50%.........60%.........70%.........80%.........90%.........100% done. Time taken =     4 mins   10 secs\n"
     ]
    },
    {
     "name": "stdout",
     "output_type": "stream",
     "text": [
      "20 / 25\n"
     ]
    },
    {
     "name": "stderr",
     "output_type": "stream",
     "text": [
      "In gridlink_mocks_double> Running with [nmesh_x, nmesh_y, nmesh_z]  = 29,26,8.  Time taken =   0.002 sec\n",
      "In gridlink_mocks_double> Running with [nmesh_x, nmesh_y, nmesh_z]  = 29,26,8.  Time taken =   0.036 sec\n",
      "0%.........10%.........20%.........30%.........40%.........50%.........60%.........70%.........80%.........90%.........100% done. Time taken =  0.071 secs\n",
      "In gridlink_mocks_double> Running with [nmesh_x, nmesh_y, nmesh_z]  = 29,26,8.  Time taken =   0.002 sec\n",
      "countpairs_mocks_double> gridlink seems inefficient. nmesh = (29, 26, 8); avg_np = 1.16e+03. Boosting bin refine factor - should lead to better performance\n",
      "In gridlink_mocks_double> Running with [nmesh_x, nmesh_y, nmesh_z]  = 44,39,8.  Time taken =   0.003 sec\n",
      "In gridlink_mocks_double> Running with [nmesh_x, nmesh_y, nmesh_z]  = 44,39,8.  Time taken =   1.147 sec\n",
      "0%.........10%.........20%.........30%.........40%.........50%.........60%.........70%.........80%.........90%.........100% done. Time taken =  0.613 secs\n",
      "In gridlink_mocks_double> Running with [nmesh_x, nmesh_y, nmesh_z]  = 29,26,8.  Time taken =   0.037 sec\n",
      "In gridlink_mocks_double> Running with [nmesh_x, nmesh_y, nmesh_z]  = 29,26,8.  Time taken =   0.102 sec\n",
      "0%.........10%.........20%.........30%.........40%.........50%.........60%.........70%.........80%.........90%.........100% done. Time taken =  9.121 secs\n",
      "In gridlink_mocks_double> Running with [nmesh_x, nmesh_y, nmesh_z]  = 29,26,8.  Time taken =   0.110 sec\n",
      "countpairs_mocks_double> gridlink seems inefficient. nmesh = (29, 26, 8); avg_np = 1.16e+03. Boosting bin refine factor - should lead to better performance\n",
      "In gridlink_mocks_double> Running with [nmesh_x, nmesh_y, nmesh_z]  = 44,39,8.  Time taken =   0.081 sec\n",
      "In gridlink_mocks_double> Running with [nmesh_x, nmesh_y, nmesh_z]  = 44,39,8.  Time taken =   1.399 sec\n",
      "0%.........10%.........20%.........30%.........40%.........50%.........60%.........70%.........80%.........90%.........100% done. Time taken =     4 mins   10 secs\n"
     ]
    },
    {
     "name": "stdout",
     "output_type": "stream",
     "text": [
      "21 / 25\n"
     ]
    },
    {
     "name": "stderr",
     "output_type": "stream",
     "text": [
      "In gridlink_mocks_double> Running with [nmesh_x, nmesh_y, nmesh_z]  = 29,26,8.  Time taken =   0.002 sec\n",
      "In gridlink_mocks_double> Running with [nmesh_x, nmesh_y, nmesh_z]  = 29,26,8.  Time taken =   0.030 sec\n",
      "0%.........10%.........20%.........30%.........40%.........50%.........60%.........70%.........80%.........90%.........100% done. Time taken =  0.076 secs\n",
      "In gridlink_mocks_double> Running with [nmesh_x, nmesh_y, nmesh_z]  = 29,26,8.  Time taken =   0.002 sec\n",
      "countpairs_mocks_double> gridlink seems inefficient. nmesh = (29, 26, 8); avg_np = 1.17e+03. Boosting bin refine factor - should lead to better performance\n",
      "In gridlink_mocks_double> Running with [nmesh_x, nmesh_y, nmesh_z]  = 44,39,8.  Time taken =   0.003 sec\n",
      "In gridlink_mocks_double> Running with [nmesh_x, nmesh_y, nmesh_z]  = 44,39,8.  Time taken =   1.078 sec\n",
      "0%.........10%.........20%.........30%.........40%.........50%.........60%.........70%.........80%.........90%.........100% done. Time taken =  0.584 secs\n",
      "In gridlink_mocks_double> Running with [nmesh_x, nmesh_y, nmesh_z]  = 29,26,8.  Time taken =   0.039 sec\n",
      "In gridlink_mocks_double> Running with [nmesh_x, nmesh_y, nmesh_z]  = 29,26,8.  Time taken =   0.114 sec\n",
      "0%.........10%.........20%.........30%.........40%.........50%.........60%.........70%.........80%.........90%.........100% done. Time taken =  9.293 secs\n",
      "In gridlink_mocks_double> Running with [nmesh_x, nmesh_y, nmesh_z]  = 29,26,8.  Time taken =   0.105 sec\n",
      "countpairs_mocks_double> gridlink seems inefficient. nmesh = (29, 26, 8); avg_np = 1.17e+03. Boosting bin refine factor - should lead to better performance\n",
      "In gridlink_mocks_double> Running with [nmesh_x, nmesh_y, nmesh_z]  = 44,39,8.  Time taken =   0.068 sec\n",
      "In gridlink_mocks_double> Running with [nmesh_x, nmesh_y, nmesh_z]  = 44,39,8.  Time taken =   1.087 sec\n",
      "0%.........10%.........20%.........30%.........40%.........50%.........60%.........70%.........80%.........90%.........100% done. Time taken =     4 mins   10 secs\n"
     ]
    },
    {
     "name": "stdout",
     "output_type": "stream",
     "text": [
      "22 / 25\n"
     ]
    },
    {
     "name": "stderr",
     "output_type": "stream",
     "text": [
      "In gridlink_mocks_double> Running with [nmesh_x, nmesh_y, nmesh_z]  = 29,26,8.  Time taken =   0.003 sec\n",
      "In gridlink_mocks_double> Running with [nmesh_x, nmesh_y, nmesh_z]  = 29,26,8.  Time taken =   0.040 sec\n",
      "0%.........10%.........20%.........30%.........40%.........50%.........60%.........70%.........80%.........90%.........100% done. Time taken =  0.081 secs\n",
      "In gridlink_mocks_double> Running with [nmesh_x, nmesh_y, nmesh_z]  = 29,26,8.  Time taken =   0.002 sec\n",
      "countpairs_mocks_double> gridlink seems inefficient. nmesh = (29, 26, 8); avg_np = 1.17e+03. Boosting bin refine factor - should lead to better performance\n",
      "In gridlink_mocks_double> Running with [nmesh_x, nmesh_y, nmesh_z]  = 44,39,8.  Time taken =   0.003 sec\n",
      "In gridlink_mocks_double> Running with [nmesh_x, nmesh_y, nmesh_z]  = 44,39,8.  Time taken =   1.054 sec\n",
      "0%.........10%.........20%.........30%.........40%.........50%.........60%.........70%.........80%.........90%.........100% done. Time taken =  0.598 secs\n",
      "In gridlink_mocks_double> Running with [nmesh_x, nmesh_y, nmesh_z]  = 29,26,8.  Time taken =   0.036 sec\n",
      "In gridlink_mocks_double> Running with [nmesh_x, nmesh_y, nmesh_z]  = 29,26,8.  Time taken =   0.121 sec\n",
      "0%.........10%.........20%.........30%.........40%.........50%.........60%.........70%.........80%.........90%.........100% done. Time taken =  8.749 secs\n",
      "In gridlink_mocks_double> Running with [nmesh_x, nmesh_y, nmesh_z]  = 29,26,8.  Time taken =   0.103 sec\n",
      "countpairs_mocks_double> gridlink seems inefficient. nmesh = (29, 26, 8); avg_np = 1.17e+03. Boosting bin refine factor - should lead to better performance\n",
      "In gridlink_mocks_double> Running with [nmesh_x, nmesh_y, nmesh_z]  = 44,39,8.  Time taken =   0.076 sec\n",
      "In gridlink_mocks_double> Running with [nmesh_x, nmesh_y, nmesh_z]  = 44,39,8.  Time taken =   1.170 sec\n",
      "0%.........10%.........20%.........30%.........40%.........50%.........60%.........70%.........80%.........90%.........100% done. Time taken =     4 mins    7 secs\n"
     ]
    },
    {
     "name": "stdout",
     "output_type": "stream",
     "text": [
      "23 / 25\n"
     ]
    },
    {
     "name": "stderr",
     "output_type": "stream",
     "text": [
      "In gridlink_mocks_double> Running with [nmesh_x, nmesh_y, nmesh_z]  = 29,26,8.  Time taken =   0.004 sec\n",
      "In gridlink_mocks_double> Running with [nmesh_x, nmesh_y, nmesh_z]  = 29,26,8.  Time taken =   0.034 sec\n",
      "0%.........10%.........20%.........30%.........40%.........50%.........60%.........70%.........80%.........90%.........100% done. Time taken =  0.068 secs\n",
      "In gridlink_mocks_double> Running with [nmesh_x, nmesh_y, nmesh_z]  = 29,26,8.  Time taken =   0.002 sec\n",
      "countpairs_mocks_double> gridlink seems inefficient. nmesh = (29, 26, 8); avg_np = 1.06e+03. Boosting bin refine factor - should lead to better performance\n",
      "In gridlink_mocks_double> Running with [nmesh_x, nmesh_y, nmesh_z]  = 44,39,8.  Time taken =   0.004 sec\n",
      "In gridlink_mocks_double> Running with [nmesh_x, nmesh_y, nmesh_z]  = 44,39,8.  Time taken =   1.018 sec\n",
      "0%.........10%.........20%.........30%.........40%.........50%.........60%.........70%.........80%.........90%.........100% done. Time taken =  0.553 secs\n",
      "In gridlink_mocks_double> Running with [nmesh_x, nmesh_y, nmesh_z]  = 29,26,8.  Time taken =   0.031 sec\n",
      "In gridlink_mocks_double> Running with [nmesh_x, nmesh_y, nmesh_z]  = 29,26,8.  Time taken =   0.104 sec\n",
      "0%.........10%.........20%.........30%.........40%.........50%.........60%.........70%.........80%.........90%.........100% done. Time taken =  4.514 secs\n",
      "In gridlink_mocks_double> Running with [nmesh_x, nmesh_y, nmesh_z]  = 29,26,8.  Time taken =   0.093 sec\n",
      "countpairs_mocks_double> gridlink seems inefficient. nmesh = (29, 26, 8); avg_np = 1.06e+03. Boosting bin refine factor - should lead to better performance\n",
      "In gridlink_mocks_double> Running with [nmesh_x, nmesh_y, nmesh_z]  = 44,39,8.  Time taken =   0.068 sec\n",
      "In gridlink_mocks_double> Running with [nmesh_x, nmesh_y, nmesh_z]  = 44,39,8.  Time taken =   1.035 sec\n",
      "0%.........10%.........20%.........30%.........40%.........50%.........60%.........70%.........80%.........90%.........100% done. Time taken =     2 mins    7 secs\n"
     ]
    },
    {
     "name": "stdout",
     "output_type": "stream",
     "text": [
      "24 / 25\n"
     ]
    },
    {
     "name": "stderr",
     "output_type": "stream",
     "text": [
      "In gridlink_mocks_double> Running with [nmesh_x, nmesh_y, nmesh_z]  = 29,26,8.  Time taken =   0.002 sec\n",
      "In gridlink_mocks_double> Running with [nmesh_x, nmesh_y, nmesh_z]  = 29,26,8.  Time taken =   0.044 sec\n",
      "0%.........10%.........20%.........30%.........40%.........50%.........60%.........70%.........80%.........90%.........100% done. Time taken =  0.070 secs\n",
      "In gridlink_mocks_double> Running with [nmesh_x, nmesh_y, nmesh_z]  = 29,26,8.  Time taken =   0.002 sec\n",
      "countpairs_mocks_double> gridlink seems inefficient. nmesh = (29, 26, 8); avg_np = 1.12e+03. Boosting bin refine factor - should lead to better performance\n",
      "In gridlink_mocks_double> Running with [nmesh_x, nmesh_y, nmesh_z]  = 44,39,8.  Time taken =   0.003 sec\n",
      "In gridlink_mocks_double> Running with [nmesh_x, nmesh_y, nmesh_z]  = 44,39,8.  Time taken =   1.125 sec\n",
      "0%.........10%.........20%.........30%.........40%.........50%.........60%.........70%.........80%.........90%.........100% done. Time taken =  0.583 secs\n",
      "In gridlink_mocks_double> Running with [nmesh_x, nmesh_y, nmesh_z]  = 29,26,8.  Time taken =   0.034 sec\n",
      "In gridlink_mocks_double> Running with [nmesh_x, nmesh_y, nmesh_z]  = 29,26,8.  Time taken =   0.101 sec\n",
      "0%.........10%.........20%.........30%.........40%.........50%.........60%.........70%.........80%.........90%.........100% done. Time taken =  8.355 secs\n",
      "In gridlink_mocks_double> Running with [nmesh_x, nmesh_y, nmesh_z]  = 29,26,8.  Time taken =   0.096 sec\n",
      "countpairs_mocks_double> gridlink seems inefficient. nmesh = (29, 26, 8); avg_np = 1.12e+03. Boosting bin refine factor - should lead to better performance\n",
      "In gridlink_mocks_double> Running with [nmesh_x, nmesh_y, nmesh_z]  = 44,39,8.  Time taken =   0.071 sec\n",
      "In gridlink_mocks_double> Running with [nmesh_x, nmesh_y, nmesh_z]  = 44,39,8.  Time taken =   1.081 sec\n",
      "0%.........10%.........20%.........30%.........40%.........50%.........60%.........70%.........80%.........90%.........100% done. Time taken =     3 mins   56 secs\n"
     ]
    },
    {
     "name": "stdout",
     "output_type": "stream",
     "text": [
      "25 / 25\n"
     ]
    },
    {
     "name": "stderr",
     "output_type": "stream",
     "text": [
      "In gridlink_mocks_double> Running with [nmesh_x, nmesh_y, nmesh_z]  = 29,26,8.  Time taken =   0.002 sec\n",
      "In gridlink_mocks_double> Running with [nmesh_x, nmesh_y, nmesh_z]  = 29,26,8.  Time taken =   0.040 sec\n",
      "0%.........10%.........20%.........30%.........40%.........50%.........60%.........70%.........80%.........90%.........100% done. Time taken =  0.073 secs\n",
      "In gridlink_mocks_double> Running with [nmesh_x, nmesh_y, nmesh_z]  = 29,26,8.  Time taken =   0.002 sec\n",
      "countpairs_mocks_double> gridlink seems inefficient. nmesh = (29, 26, 8); avg_np = 1.17e+03. Boosting bin refine factor - should lead to better performance\n",
      "In gridlink_mocks_double> Running with [nmesh_x, nmesh_y, nmesh_z]  = 44,39,8.  Time taken =   0.004 sec\n",
      "In gridlink_mocks_double> Running with [nmesh_x, nmesh_y, nmesh_z]  = 44,39,8.  Time taken =   1.148 sec\n",
      "0%.........10%.........20%.........30%.........40%.........50%.........60%.........70%.........80%.........90%.........100% done. Time taken =  0.621 secs\n",
      "In gridlink_mocks_double> Running with [nmesh_x, nmesh_y, nmesh_z]  = 29,26,8.  Time taken =   0.036 sec\n",
      "In gridlink_mocks_double> Running with [nmesh_x, nmesh_y, nmesh_z]  = 29,26,8.  Time taken =   0.112 sec\n",
      "0%.........10%.........20%.........30%.........40%.........50%.........60%.........70%.........80%.........90%.........100% done. Time taken =  8.578 secs\n",
      "In gridlink_mocks_double> Running with [nmesh_x, nmesh_y, nmesh_z]  = 29,26,8.  Time taken =   0.091 sec\n",
      "countpairs_mocks_double> gridlink seems inefficient. nmesh = (29, 26, 8); avg_np = 1.17e+03. Boosting bin refine factor - should lead to better performance\n",
      "In gridlink_mocks_double> Running with [nmesh_x, nmesh_y, nmesh_z]  = 44,39,8.  Time taken =   0.067 sec\n",
      "In gridlink_mocks_double> Running with [nmesh_x, nmesh_y, nmesh_z]  = 44,39,8.  Time taken =   1.078 sec\n",
      "0%.........10%.........20%.........30%.........40%.........50%.........60%.........70%.........80%.........90%.........100% done. Time taken =     3 mins   53 secs\n"
     ]
    }
   ],
   "source": [
    "from __future__ import division\n",
    "import numpy as np\n",
    "import math\n",
    "from astropy import units as u\n",
    "from astropy.coordinates import SkyCoord, match_coordinates_sky\n",
    "import astropy.coordinates as coord\n",
    "from astropy.cosmology import FlatLambdaCDM\n",
    "from astropy.table import Table\n",
    "from astropy.io import fits\n",
    "import time\n",
    "from numpy.lib.recfunctions import append_fields\n",
    "#from kde import weighted_gaussian_kde\n",
    "from scipy import stats\n",
    "from astropy.cosmology import FlatLambdaCDM,Planck15\n",
    "import sys\n",
    "from time import gmtime, strftime\n",
    "\n",
    "import matplotlib.pyplot as plt\n",
    "from matplotlib.colors import LogNorm\n",
    "%matplotlib inline\n",
    "\n",
    "from astropy.table import Table\n",
    "from astropy.io import fits\n",
    "import numpy as np\n",
    "import math\n",
    "from astropy.io import ascii\n",
    "##Read in the cosmology\n",
    "cosmo = FlatLambdaCDM(H0=70, Om0=0.3)\n",
    "\n",
    "import clustering.clustering.projected_correlation_functions as w\n",
    "import clustering.clustering.randomsEdited as rand\n",
    "from clustering.clustering.utils import wp_d1d2,wp_dd\n",
    "\n",
    "# read in orignal Peas file\n",
    "t=Table.read('../codes/MainCatalogues/dr12PeastoPortStarforming.fits',format='fits')\n",
    "peas=np.array(t)\n",
    "\n",
    "#Add new array field of comoving distances needed for Corrfunc inputs\n",
    "cdists = np.array([cosmo.comoving_distance(z).value for z in peas['z']])*cosmo.h\n",
    "peas = append_fields(peas, 'cdist', cdists)\n",
    "\n",
    "# append the field and make back into normal array\n",
    "peas=np.array(peas)\n",
    "\n",
    "LRG= Table.read('../codes/MainCatalogues/LRGzcat.fits')\n",
    "LRGr=Table.read('../codes/MainCatalogues/LRGRandzcat.fits')\n",
    "rzpea = np.load('../codes/output/rzpeas.npy')\n",
    "\n",
    "bins = np.array([.1,.5,1,3,6,8,10,15,20,30,40,50,60,80,100])\n",
    "## Run a clustering CROSS CORRELATION b/w the peas & LRGs w/ bootstrap - this is jackknife only\n",
    "pimax = 90\n",
    "print(strftime(\"%Y-%m-%d %H:%M:%S\", gmtime()))\n",
    "## with errors? bootstrapped - idk\n",
    "rp_xc_Pjackpi90LS,wp_xc_Pjackpi90LS,wp_xc_err_Pjackpi90LS,cov_xc_Pjackpi90LS = w.cross_wp(d1=peas, \n",
    "d2=LRG, r1=rzpea, r2=LRGr, bins=bins,pimax=pimax,m=5, estimator='L')\n",
    "#,wp_arr_xc_Pjack\n",
    "\n",
    "np.save('output/CCFResults/LandySzalay/rp_xc_Pjackpi90LS.npy', rp_xc_Pjackpi90LS)\n",
    "np.save('output/CCFResults/LandySzalay/wp_xc_Pjackpi90LS.npy',wp_xc_Pjackpi90LS)\n",
    "np.save('output/CCFResults/LandySzalay/wp_xc_err_Pjackpi90LS.npy', wp_xc_err_Pjackpi90LS)\n",
    "np.save('output/CCFResults/LandySzalay/cov_xc_Pjackpi90LS.npy',cov_xc_Pjackpi90LS)"
   ]
  },
  {
   "cell_type": "code",
   "execution_count": null,
   "metadata": {},
   "outputs": [],
   "source": []
  }
 ],
 "metadata": {
  "kernelspec": {
   "display_name": "Python 3",
   "language": "python",
   "name": "python3"
  },
  "language_info": {
   "codemirror_mode": {
    "name": "ipython",
    "version": 3
   },
   "file_extension": ".py",
   "mimetype": "text/x-python",
   "name": "python",
   "nbconvert_exporter": "python",
   "pygments_lexer": "ipython3",
   "version": "3.7.6"
  }
 },
 "nbformat": 4,
 "nbformat_minor": 4
}
