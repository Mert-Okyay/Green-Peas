{
 "cells": [
  {
   "cell_type": "code",
   "execution_count": 1,
   "metadata": {},
   "outputs": [
    {
     "name": "stdout",
     "output_type": "stream",
     "text": [
      "2020-11-11 20:41:54\n"
     ]
    },
    {
     "name": "stderr",
     "output_type": "stream",
     "text": [
      "In gridlink_mocks_double> Running with [nmesh_x, nmesh_y, nmesh_z]  = 32,28,9.  Time taken =   0.005 sec\n",
      "In gridlink_mocks_double> Running with [nmesh_x, nmesh_y, nmesh_z]  = 32,28,9.  Time taken =   0.051 sec\n",
      "Using AVX512 kernel\n",
      "0%.........10%.........20%.........30%.........40%.........50%.........60%.........70%.........80%.........90%.........100% done. Time taken =  0.066 secs\n",
      "In gridlink_mocks_double> Running with [nmesh_x, nmesh_y, nmesh_z]  = 32,29,9.  Time taken =   0.010 sec\n",
      "countpairs_mocks_double> gridlink seems inefficient. nmesh = (32, 29, 9); avg_np = 847. Boosting bin refine factor - should lead to better performance\n",
      "In gridlink_mocks_double> Running with [nmesh_x, nmesh_y, nmesh_z]  = 48,43,9.  Time taken =   0.007 sec\n",
      "In gridlink_mocks_double> Running with [nmesh_x, nmesh_y, nmesh_z]  = 48,43,9.  Time taken =   1.590 sec\n",
      "0%.........10%.........20%.........30%.........40%.........50%.........60%.........70%.........80%.........90%.........100% done. Time taken =  0.422 secs\n"
     ]
    },
    {
     "name": "stdout",
     "output_type": "stream",
     "text": [
      "Warning: found negative RA values, wrapping into [0.0, 360.0]  range\n"
     ]
    },
    {
     "name": "stderr",
     "output_type": "stream",
     "text": [
      "In gridlink_mocks_double> Running with [nmesh_x, nmesh_y, nmesh_z]  = 32,29,9.  Time taken =   0.040 sec\n",
      "In gridlink_mocks_double> Running with [nmesh_x, nmesh_y, nmesh_z]  = 32,29,9.  Time taken =   0.129 sec\n",
      "0%.........10%.........20%.........30%.........40%.........50%.........60%.........70%.........80%.........90%.........100% done. Time taken =  4.258 secs\n"
     ]
    },
    {
     "name": "stdout",
     "output_type": "stream",
     "text": [
      "Warning: found negative RA values, wrapping into [0.0, 360.0]  range\n"
     ]
    },
    {
     "name": "stderr",
     "output_type": "stream",
     "text": [
      "In gridlink_mocks_double> Running with [nmesh_x, nmesh_y, nmesh_z]  = 32,29,9.  Time taken =   0.146 sec\n",
      "countpairs_mocks_double> gridlink seems inefficient. nmesh = (32, 29, 9); avg_np = 847. Boosting bin refine factor - should lead to better performance\n",
      "In gridlink_mocks_double> Running with [nmesh_x, nmesh_y, nmesh_z]  = 48,44,9.  Time taken =   0.201 sec\n",
      "In gridlink_mocks_double> Running with [nmesh_x, nmesh_y, nmesh_z]  = 48,44,9.  Time taken =   1.784 sec\n",
      "0%.........10%.........20%.........30%.........40%.........50%.........60%.........70%.........80%.........90%.........100% done. Time taken =    86 secs\n",
      "/data/home/mokyay/Research_stuff/Green-Peas/codes/clustering/clustering/error.py:204: FutureWarning: elementwise == comparison failed and returning scalar instead; this will raise an error or perform elementwise comparison in the future.\n",
      "  if cat==None:\n",
      "/home/mokyay/anaconda3/lib/python3.7/site-packages/astropy/table/table.py:3064: FutureWarning: elementwise == comparison failed and returning scalar instead; this will raise an error or perform elementwise comparison in the future.\n",
      "  result = self.as_array() == other\n"
     ]
    },
    {
     "name": "stdout",
     "output_type": "stream",
     "text": [
      "Using  25  jacknife samples\n",
      "1 / 25\n"
     ]
    },
    {
     "name": "stderr",
     "output_type": "stream",
     "text": [
      "In gridlink_mocks_double> Running with [nmesh_x, nmesh_y, nmesh_z]  = 32,28,9.  Time taken =   0.004 sec\n",
      "In gridlink_mocks_double> Running with [nmesh_x, nmesh_y, nmesh_z]  = 32,28,9.  Time taken =   0.054 sec\n",
      "0%.........10%.........20%.........30%.........40%.........50%.........60%.........70%.........80%.........90%.........100% done. Time taken =  0.064 secs\n",
      "In gridlink_mocks_double> Running with [nmesh_x, nmesh_y, nmesh_z]  = 32,29,9.  Time taken =   0.002 sec\n",
      "countpairs_mocks_double> gridlink seems inefficient. nmesh = (32, 29, 9); avg_np = 847. Boosting bin refine factor - should lead to better performance\n",
      "In gridlink_mocks_double> Running with [nmesh_x, nmesh_y, nmesh_z]  = 48,43,9.  Time taken =   0.005 sec\n",
      "In gridlink_mocks_double> Running with [nmesh_x, nmesh_y, nmesh_z]  = 48,43,9.  Time taken =   1.156 sec\n",
      "0%.........10%.........20%.........30%.........40%.........50%.........60%.........70%.........80%.........90%.........100% done. Time taken =  0.490 secs\n",
      "In gridlink_mocks_double> Running with [nmesh_x, nmesh_y, nmesh_z]  = 32,29,9.  Time taken =   0.040 sec\n",
      "In gridlink_mocks_double> Running with [nmesh_x, nmesh_y, nmesh_z]  = 32,29,9.  Time taken =   0.109 sec\n",
      "0%.........10%.........20%.........30%.........40%.........50%.........60%.........70%.........80%.........90%.........100% done. Time taken =  8.695 secs\n",
      "In gridlink_mocks_double> Running with [nmesh_x, nmesh_y, nmesh_z]  = 32,29,9.  Time taken =   0.131 sec\n",
      "countpairs_mocks_double> gridlink seems inefficient. nmesh = (32, 29, 9); avg_np = 847. Boosting bin refine factor - should lead to better performance\n",
      "In gridlink_mocks_double> Running with [nmesh_x, nmesh_y, nmesh_z]  = 48,43,9.  Time taken =   0.123 sec\n",
      "In gridlink_mocks_double> Running with [nmesh_x, nmesh_y, nmesh_z]  = 48,43,9.  Time taken =   1.286 sec\n",
      "0%.........10%.........20%.........30%.........40%.........50%.........60%.........70%.........80%.........90%.........100% done. Time taken =     3 mins\n"
     ]
    },
    {
     "name": "stdout",
     "output_type": "stream",
     "text": [
      "2 / 25\n"
     ]
    },
    {
     "name": "stderr",
     "output_type": "stream",
     "text": [
      "In gridlink_mocks_double> Running with [nmesh_x, nmesh_y, nmesh_z]  = 32,28,9.  Time taken =   0.004 sec\n",
      "In gridlink_mocks_double> Running with [nmesh_x, nmesh_y, nmesh_z]  = 32,28,9.  Time taken =   0.049 sec\n",
      "0%.........10%.........20%.........30%.........40%.........50%.........60%.........70%.........80%.........90%.........100% done. Time taken =  0.071 secs\n",
      "In gridlink_mocks_double> Running with [nmesh_x, nmesh_y, nmesh_z]  = 32,29,9.  Time taken =   0.003 sec\n",
      "countpairs_mocks_double> gridlink seems inefficient. nmesh = (32, 29, 9); avg_np = 847. Boosting bin refine factor - should lead to better performance\n",
      "In gridlink_mocks_double> Running with [nmesh_x, nmesh_y, nmesh_z]  = 48,43,9.  Time taken =   0.005 sec\n",
      "In gridlink_mocks_double> Running with [nmesh_x, nmesh_y, nmesh_z]  = 48,43,9.  Time taken =   1.413 sec\n",
      "0%.........10%.........20%.........30%.........40%.........50%.........60%.........70%.........80%.........90%.........100% done. Time taken =  0.503 secs\n",
      "In gridlink_mocks_double> Running with [nmesh_x, nmesh_y, nmesh_z]  = 32,29,9.  Time taken =   0.040 sec\n",
      "In gridlink_mocks_double> Running with [nmesh_x, nmesh_y, nmesh_z]  = 32,29,9.  Time taken =   0.116 sec\n",
      "0%.........10%.........20%.........30%.........40%.........50%.........60%.........70%.........80%.........90%.........100% done. Time taken =  9.096 secs\n",
      "In gridlink_mocks_double> Running with [nmesh_x, nmesh_y, nmesh_z]  = 32,29,9.  Time taken =   0.128 sec\n",
      "countpairs_mocks_double> gridlink seems inefficient. nmesh = (32, 29, 9); avg_np = 847. Boosting bin refine factor - should lead to better performance\n",
      "In gridlink_mocks_double> Running with [nmesh_x, nmesh_y, nmesh_z]  = 48,43,9.  Time taken =   0.145 sec\n",
      "In gridlink_mocks_double> Running with [nmesh_x, nmesh_y, nmesh_z]  = 48,43,9.  Time taken =   1.339 sec\n",
      "0%.........10%.........20%.........30%.........40%.........50%.........60%.........70%.........80%.........90%.........100% done. Time taken =     3 mins    6 secs\n"
     ]
    },
    {
     "name": "stdout",
     "output_type": "stream",
     "text": [
      "3 / 25\n"
     ]
    },
    {
     "name": "stderr",
     "output_type": "stream",
     "text": [
      "In gridlink_mocks_double> Running with [nmesh_x, nmesh_y, nmesh_z]  = 32,28,9.  Time taken =   0.006 sec\n",
      "In gridlink_mocks_double> Running with [nmesh_x, nmesh_y, nmesh_z]  = 32,28,9.  Time taken =   0.070 sec\n",
      "0%.........10%.........20%.........30%.........40%.........50%.........60%.........70%.........80%.........90%.........100% done. Time taken =  0.059 secs\n",
      "In gridlink_mocks_double> Running with [nmesh_x, nmesh_y, nmesh_z]  = 32,29,9.  Time taken =   0.002 sec\n",
      "countpairs_mocks_double> gridlink seems inefficient. nmesh = (32, 29, 9); avg_np = 748. Boosting bin refine factor - should lead to better performance\n",
      "In gridlink_mocks_double> Running with [nmesh_x, nmesh_y, nmesh_z]  = 48,43,9.  Time taken =   0.004 sec\n",
      "In gridlink_mocks_double> Running with [nmesh_x, nmesh_y, nmesh_z]  = 48,43,9.  Time taken =   1.260 sec\n",
      "0%.........10%.........20%.........30%.........40%.........50%.........60%.........70%.........80%.........90%.........100% done. Time taken =  0.415 secs\n",
      "In gridlink_mocks_double> Running with [nmesh_x, nmesh_y, nmesh_z]  = 32,28,9.  Time taken =   0.038 sec\n",
      "In gridlink_mocks_double> Running with [nmesh_x, nmesh_y, nmesh_z]  = 32,28,9.  Time taken =   0.091 sec\n",
      "0%.........10%.........20%.........30%.........40%.........50%.........60%.........70%.........80%.........90%.........100% done. Time taken =  7.273 secs\n",
      "In gridlink_mocks_double> Running with [nmesh_x, nmesh_y, nmesh_z]  = 32,29,9.  Time taken =   0.087 sec\n",
      "countpairs_mocks_double> gridlink seems inefficient. nmesh = (32, 29, 9); avg_np = 748. Boosting bin refine factor - should lead to better performance\n",
      "In gridlink_mocks_double> Running with [nmesh_x, nmesh_y, nmesh_z]  = 48,43,9.  Time taken =   0.117 sec\n",
      "In gridlink_mocks_double> Running with [nmesh_x, nmesh_y, nmesh_z]  = 48,43,9.  Time taken =   1.007 sec\n",
      "0%.........10%.........20%.........30%.........40%.........50%.........60%.........70%.........80%.........90%.........100% done. Time taken =     2 mins   27 secs\n"
     ]
    },
    {
     "name": "stdout",
     "output_type": "stream",
     "text": [
      "4 / 25\n"
     ]
    },
    {
     "name": "stderr",
     "output_type": "stream",
     "text": [
      "In gridlink_mocks_double> Running with [nmesh_x, nmesh_y, nmesh_z]  = 32,28,9.  Time taken =   0.005 sec\n",
      "In gridlink_mocks_double> Running with [nmesh_x, nmesh_y, nmesh_z]  = 32,28,9.  Time taken =   0.071 sec\n",
      "0%.........10%.........20%.........30%.........40%.........50%.........60%.........70%.........80%.........90%.........100% done. Time taken =  0.069 secs\n",
      "In gridlink_mocks_double> Running with [nmesh_x, nmesh_y, nmesh_z]  = 32,29,9.  Time taken =   0.004 sec\n",
      "countpairs_mocks_double> gridlink seems inefficient. nmesh = (32, 29, 9); avg_np = 802. Boosting bin refine factor - should lead to better performance\n",
      "In gridlink_mocks_double> Running with [nmesh_x, nmesh_y, nmesh_z]  = 48,43,9.  Time taken =   0.009 sec\n",
      "In gridlink_mocks_double> Running with [nmesh_x, nmesh_y, nmesh_z]  = 48,43,9.  Time taken =   1.129 sec\n",
      "0%.........10%.........20%.........30%.........40%.........50%.........60%.........70%.........80%.........90%.........100% done. Time taken =  0.484 secs\n",
      "In gridlink_mocks_double> Running with [nmesh_x, nmesh_y, nmesh_z]  = 32,29,9.  Time taken =   0.082 sec\n",
      "In gridlink_mocks_double> Running with [nmesh_x, nmesh_y, nmesh_z]  = 32,29,9.  Time taken =   0.190 sec\n",
      "0%.........10%.........20%.........30%.........40%.........50%.........60%.........70%.........80%.........90%.........100% done. Time taken =  8.585 secs\n",
      "In gridlink_mocks_double> Running with [nmesh_x, nmesh_y, nmesh_z]  = 32,29,9.  Time taken =   0.170 sec\n",
      "countpairs_mocks_double> gridlink seems inefficient. nmesh = (32, 29, 9); avg_np = 802. Boosting bin refine factor - should lead to better performance\n",
      "In gridlink_mocks_double> Running with [nmesh_x, nmesh_y, nmesh_z]  = 48,43,9.  Time taken =   0.133 sec\n",
      "In gridlink_mocks_double> Running with [nmesh_x, nmesh_y, nmesh_z]  = 48,43,9.  Time taken =   1.536 sec\n",
      "0%.........10%.........20%.........30%.........40%.........50%.........60%.........70%.........80%.........90%.........100% done. Time taken =     2 mins   43 secs\n"
     ]
    },
    {
     "name": "stdout",
     "output_type": "stream",
     "text": [
      "5 / 25\n"
     ]
    },
    {
     "name": "stderr",
     "output_type": "stream",
     "text": [
      "In gridlink_mocks_double> Running with [nmesh_x, nmesh_y, nmesh_z]  = 32,28,9.  Time taken =   0.003 sec\n",
      "In gridlink_mocks_double> Running with [nmesh_x, nmesh_y, nmesh_z]  = 32,28,9.  Time taken =   0.039 sec\n",
      "0%.........10%.........20%.........30%.........40%.........50%.........60%.........70%.........80%.........90%.........100% done. Time taken =  0.064 secs\n",
      "In gridlink_mocks_double> Running with [nmesh_x, nmesh_y, nmesh_z]  = 32,29,9.  Time taken =   0.002 sec\n",
      "countpairs_mocks_double> gridlink seems inefficient. nmesh = (32, 29, 9); avg_np = 847. Boosting bin refine factor - should lead to better performance\n",
      "In gridlink_mocks_double> Running with [nmesh_x, nmesh_y, nmesh_z]  = 48,43,9.  Time taken =   0.004 sec\n",
      "In gridlink_mocks_double> Running with [nmesh_x, nmesh_y, nmesh_z]  = 48,43,9.  Time taken =   1.357 sec\n",
      "0%.........10%.........20%.........30%.........40%.........50%.........60%.........70%.........80%.........90%.........100% done. Time taken =  0.481 secs\n",
      "In gridlink_mocks_double> Running with [nmesh_x, nmesh_y, nmesh_z]  = 32,29,9.  Time taken =   0.043 sec\n",
      "In gridlink_mocks_double> Running with [nmesh_x, nmesh_y, nmesh_z]  = 32,29,9.  Time taken =   0.115 sec\n",
      "0%.........10%.........20%.........30%.........40%.........50%.........60%.........70%.........80%.........90%.........100% done. Time taken =  9.216 secs\n",
      "In gridlink_mocks_double> Running with [nmesh_x, nmesh_y, nmesh_z]  = 32,29,9.  Time taken =   0.122 sec\n",
      "countpairs_mocks_double> gridlink seems inefficient. nmesh = (32, 29, 9); avg_np = 847. Boosting bin refine factor - should lead to better performance\n",
      "In gridlink_mocks_double> Running with [nmesh_x, nmesh_y, nmesh_z]  = 48,43,9.  Time taken =   0.145 sec\n",
      "In gridlink_mocks_double> Running with [nmesh_x, nmesh_y, nmesh_z]  = 48,43,9.  Time taken =   1.500 sec\n",
      "0%.........10%.........20%.........30%.........40%.........50%.........60%.........70%.........80%.........90%.........100% done. Time taken =     2 mins   58 secs\n"
     ]
    },
    {
     "name": "stdout",
     "output_type": "stream",
     "text": [
      "6 / 25\n"
     ]
    },
    {
     "name": "stderr",
     "output_type": "stream",
     "text": [
      "In gridlink_mocks_double> Running with [nmesh_x, nmesh_y, nmesh_z]  = 32,28,9.  Time taken =   0.003 sec\n",
      "In gridlink_mocks_double> Running with [nmesh_x, nmesh_y, nmesh_z]  = 32,28,9.  Time taken =   0.041 sec\n",
      "0%.........10%.........20%.........30%.........40%.........50%.........60%.........70%.........80%.........90%.........100% done. Time taken =  0.074 secs\n",
      "In gridlink_mocks_double> Running with [nmesh_x, nmesh_y, nmesh_z]  = 32,29,9.  Time taken =   0.005 sec\n",
      "countpairs_mocks_double> gridlink seems inefficient. nmesh = (32, 29, 9); avg_np = 847. Boosting bin refine factor - should lead to better performance\n",
      "In gridlink_mocks_double> Running with [nmesh_x, nmesh_y, nmesh_z]  = 48,43,9.  Time taken =   0.006 sec\n",
      "In gridlink_mocks_double> Running with [nmesh_x, nmesh_y, nmesh_z]  = 48,43,9.  Time taken =   1.287 sec\n",
      "0%.........10%.........20%.........30%.........40%.........50%.........60%.........70%.........80%.........90%.........100% done. Time taken =  0.510 secs\n",
      "In gridlink_mocks_double> Running with [nmesh_x, nmesh_y, nmesh_z]  = 32,29,9.  Time taken =   0.082 sec\n",
      "In gridlink_mocks_double> Running with [nmesh_x, nmesh_y, nmesh_z]  = 32,29,9.  Time taken =   0.149 sec\n",
      "0%.........10%.........20%.........30%.........40%.........50%.........60%.........70%.........80%.........90%.........100% done. Time taken =  9.073 secs\n",
      "In gridlink_mocks_double> Running with [nmesh_x, nmesh_y, nmesh_z]  = 32,29,9.  Time taken =   0.099 sec\n",
      "countpairs_mocks_double> gridlink seems inefficient. nmesh = (32, 29, 9); avg_np = 847. Boosting bin refine factor - should lead to better performance\n",
      "In gridlink_mocks_double> Running with [nmesh_x, nmesh_y, nmesh_z]  = 48,43,9.  Time taken =   0.111 sec\n",
      "In gridlink_mocks_double> Running with [nmesh_x, nmesh_y, nmesh_z]  = 48,43,9.  Time taken =   1.351 sec\n",
      "0%.........10%.........20%.........30%.........40%.........50%.........60%.........70%.........80%.........90%.........100% done. Time taken =     2 mins   59 secs\n"
     ]
    },
    {
     "name": "stdout",
     "output_type": "stream",
     "text": [
      "7 / 25\n"
     ]
    },
    {
     "name": "stderr",
     "output_type": "stream",
     "text": [
      "In gridlink_mocks_double> Running with [nmesh_x, nmesh_y, nmesh_z]  = 32,28,9.  Time taken =   0.004 sec\n",
      "In gridlink_mocks_double> Running with [nmesh_x, nmesh_y, nmesh_z]  = 32,28,9.  Time taken =   0.055 sec\n",
      "0%.........10%.........20%.........30%.........40%.........50%.........60%.........70%.........80%.........90%.........100% done. Time taken =  0.066 secs\n",
      "In gridlink_mocks_double> Running with [nmesh_x, nmesh_y, nmesh_z]  = 32,29,9.  Time taken =   0.002 sec\n",
      "countpairs_mocks_double> gridlink seems inefficient. nmesh = (32, 29, 9); avg_np = 847. Boosting bin refine factor - should lead to better performance\n",
      "In gridlink_mocks_double> Running with [nmesh_x, nmesh_y, nmesh_z]  = 48,43,9.  Time taken =   0.004 sec\n",
      "In gridlink_mocks_double> Running with [nmesh_x, nmesh_y, nmesh_z]  = 48,43,9.  Time taken =   1.221 sec\n",
      "0%.........10%.........20%.........30%.........40%.........50%.........60%.........70%.........80%.........90%.........100% done. Time taken =  0.508 secs\n",
      "In gridlink_mocks_double> Running with [nmesh_x, nmesh_y, nmesh_z]  = 32,29,9.  Time taken =   0.047 sec\n",
      "In gridlink_mocks_double> Running with [nmesh_x, nmesh_y, nmesh_z]  = 32,29,9.  Time taken =   0.114 sec\n",
      "0%.........10%.........20%.........30%.........40%.........50%.........60%.........70%.........80%.........90%.........100% done. Time taken =  9.341 secs\n",
      "In gridlink_mocks_double> Running with [nmesh_x, nmesh_y, nmesh_z]  = 32,29,9.  Time taken =   0.100 sec\n",
      "countpairs_mocks_double> gridlink seems inefficient. nmesh = (32, 29, 9); avg_np = 847. Boosting bin refine factor - should lead to better performance\n",
      "In gridlink_mocks_double> Running with [nmesh_x, nmesh_y, nmesh_z]  = 48,43,9.  Time taken =   0.122 sec\n",
      "In gridlink_mocks_double> Running with [nmesh_x, nmesh_y, nmesh_z]  = 48,43,9.  Time taken =   1.231 sec\n",
      "0%.........10%.........20%.........30%.........40%.........50%.........60%.........70%.........80%.........90%.........100% done. Time taken =     3 mins    2 secs\n"
     ]
    },
    {
     "name": "stdout",
     "output_type": "stream",
     "text": [
      "8 / 25\n"
     ]
    },
    {
     "name": "stderr",
     "output_type": "stream",
     "text": [
      "In gridlink_mocks_double> Running with [nmesh_x, nmesh_y, nmesh_z]  = 32,28,9.  Time taken =   0.003 sec\n",
      "In gridlink_mocks_double> Running with [nmesh_x, nmesh_y, nmesh_z]  = 32,28,9.  Time taken =   0.042 sec\n",
      "0%.........10%.........20%.........30%.........40%.........50%.........60%.........70%.........80%.........90%.........100% done. Time taken =  0.067 secs\n",
      "In gridlink_mocks_double> Running with [nmesh_x, nmesh_y, nmesh_z]  = 32,28,9.  Time taken =   0.002 sec\n",
      "countpairs_mocks_double> gridlink seems inefficient. nmesh = (32, 28, 9); avg_np = 840. Boosting bin refine factor - should lead to better performance\n",
      "In gridlink_mocks_double> Running with [nmesh_x, nmesh_y, nmesh_z]  = 48,43,9.  Time taken =   0.004 sec\n",
      "In gridlink_mocks_double> Running with [nmesh_x, nmesh_y, nmesh_z]  = 48,43,9.  Time taken =   1.188 sec\n",
      "0%.........10%.........20%.........30%.........40%.........50%.........60%.........70%.........80%.........90%.........100% done. Time taken =  0.448 secs\n",
      "In gridlink_mocks_double> Running with [nmesh_x, nmesh_y, nmesh_z]  = 32,29,9.  Time taken =   0.041 sec\n",
      "In gridlink_mocks_double> Running with [nmesh_x, nmesh_y, nmesh_z]  = 32,29,9.  Time taken =   0.124 sec\n",
      "0%.........10%.........20%.........30%.........40%.........50%.........60%.........70%.........80%.........90%.........100% done. Time taken =  8.897 secs\n",
      "In gridlink_mocks_double> Running with [nmesh_x, nmesh_y, nmesh_z]  = 32,29,9.  Time taken =   0.114 sec\n",
      "countpairs_mocks_double> gridlink seems inefficient. nmesh = (32, 29, 9); avg_np = 811. Boosting bin refine factor - should lead to better performance\n",
      "In gridlink_mocks_double> Running with [nmesh_x, nmesh_y, nmesh_z]  = 48,43,9.  Time taken =   0.132 sec\n",
      "In gridlink_mocks_double> Running with [nmesh_x, nmesh_y, nmesh_z]  = 48,43,9.  Time taken =   1.294 sec\n",
      "0%.........10%.........20%.........30%.........40%.........50%.........60%.........70%.........80%.........90%.........100% done. Time taken =     2 mins   54 secs\n"
     ]
    },
    {
     "name": "stdout",
     "output_type": "stream",
     "text": [
      "9 / 25\n"
     ]
    },
    {
     "name": "stderr",
     "output_type": "stream",
     "text": [
      "In gridlink_mocks_double> Running with [nmesh_x, nmesh_y, nmesh_z]  = 32,28,9.  Time taken =   0.003 sec\n",
      "In gridlink_mocks_double> Running with [nmesh_x, nmesh_y, nmesh_z]  = 32,28,9.  Time taken =   0.054 sec\n",
      "0%.........10%.........20%.........30%.........40%.........50%.........60%.........70%.........80%.........90%.........100% done. Time taken =  0.062 secs\n",
      "In gridlink_mocks_double> Running with [nmesh_x, nmesh_y, nmesh_z]  = 32,29,9.  Time taken =   0.003 sec\n",
      "countpairs_mocks_double> gridlink seems inefficient. nmesh = (32, 29, 9); avg_np = 792. Boosting bin refine factor - should lead to better performance\n",
      "In gridlink_mocks_double> Running with [nmesh_x, nmesh_y, nmesh_z]  = 48,43,9.  Time taken =   0.006 sec\n",
      "In gridlink_mocks_double> Running with [nmesh_x, nmesh_y, nmesh_z]  = 48,43,9.  Time taken =   1.419 sec\n",
      "0%.........10%.........20%.........30%.........40%.........50%.........60%.........70%.........80%.........90%.........100% done. Time taken =  0.453 secs\n",
      "In gridlink_mocks_double> Running with [nmesh_x, nmesh_y, nmesh_z]  = 32,29,9.  Time taken =   0.054 sec\n",
      "In gridlink_mocks_double> Running with [nmesh_x, nmesh_y, nmesh_z]  = 32,29,9.  Time taken =   0.123 sec\n",
      "0%.........10%.........20%.........30%.........40%.........50%.........60%.........70%.........80%.........90%.........100% done. Time taken =  8.486 secs\n",
      "In gridlink_mocks_double> Running with [nmesh_x, nmesh_y, nmesh_z]  = 32,29,9.  Time taken =   0.096 sec\n",
      "countpairs_mocks_double> gridlink seems inefficient. nmesh = (32, 29, 9); avg_np = 792. Boosting bin refine factor - should lead to better performance\n",
      "In gridlink_mocks_double> Running with [nmesh_x, nmesh_y, nmesh_z]  = 48,43,9.  Time taken =   0.095 sec\n",
      "In gridlink_mocks_double> Running with [nmesh_x, nmesh_y, nmesh_z]  = 48,43,9.  Time taken =   1.296 sec\n",
      "0%.........10%.........20%.........30%.........40%.........50%.........60%.........70%.........80%.........90%.........100% done. Time taken =     2 mins   41 secs\n"
     ]
    },
    {
     "name": "stdout",
     "output_type": "stream",
     "text": [
      "10 / 25\n"
     ]
    },
    {
     "name": "stderr",
     "output_type": "stream",
     "text": [
      "In gridlink_mocks_double> Running with [nmesh_x, nmesh_y, nmesh_z]  = 32,28,9.  Time taken =   0.003 sec\n",
      "In gridlink_mocks_double> Running with [nmesh_x, nmesh_y, nmesh_z]  = 32,28,9.  Time taken =   0.046 sec\n",
      "0%.........10%.........20%.........30%.........40%.........50%.........60%.........70%.........80%.........90%.........100% done. Time taken =  0.069 secs\n",
      "In gridlink_mocks_double> Running with [nmesh_x, nmesh_y, nmesh_z]  = 32,29,9.  Time taken =   0.010 sec\n",
      "countpairs_mocks_double> gridlink seems inefficient. nmesh = (32, 29, 9); avg_np = 838. Boosting bin refine factor - should lead to better performance\n",
      "In gridlink_mocks_double> Running with [nmesh_x, nmesh_y, nmesh_z]  = 48,43,9.  Time taken =   0.004 sec\n",
      "In gridlink_mocks_double> Running with [nmesh_x, nmesh_y, nmesh_z]  = 48,43,9.  Time taken =   1.596 sec\n",
      "0%.........10%.........20%.........30%.........40%.........50%.........60%.........70%.........80%.........90%.........100% done. Time taken =  0.540 secs\n",
      "In gridlink_mocks_double> Running with [nmesh_x, nmesh_y, nmesh_z]  = 32,29,9.  Time taken =   0.076 sec\n",
      "In gridlink_mocks_double> Running with [nmesh_x, nmesh_y, nmesh_z]  = 32,29,9.  Time taken =   0.175 sec\n",
      "0%.........10%.........20%.........30%.........40%.........50%.........60%.........70%.........80%.........90%.........100% done. Time taken =  9.083 secs\n",
      "In gridlink_mocks_double> Running with [nmesh_x, nmesh_y, nmesh_z]  = 32,29,9.  Time taken =   0.134 sec\n",
      "countpairs_mocks_double> gridlink seems inefficient. nmesh = (32, 29, 9); avg_np = 838. Boosting bin refine factor - should lead to better performance\n",
      "In gridlink_mocks_double> Running with [nmesh_x, nmesh_y, nmesh_z]  = 48,43,9.  Time taken =   0.140 sec\n",
      "In gridlink_mocks_double> Running with [nmesh_x, nmesh_y, nmesh_z]  = 48,43,9.  Time taken =   1.430 sec\n",
      "0%.........10%.........20%.........30%.........40%.........50%.........60%.........70%.........80%.........90%.........100% done. Time taken =     3 mins    2 secs\n"
     ]
    },
    {
     "name": "stdout",
     "output_type": "stream",
     "text": [
      "11 / 25\n"
     ]
    },
    {
     "name": "stderr",
     "output_type": "stream",
     "text": [
      "In gridlink_mocks_double> Running with [nmesh_x, nmesh_y, nmesh_z]  = 32,28,9.  Time taken =   0.005 sec\n",
      "In gridlink_mocks_double> Running with [nmesh_x, nmesh_y, nmesh_z]  = 32,28,9.  Time taken =   0.048 sec\n",
      "0%.........10%.........20%.........30%.........40%.........50%.........60%.........70%.........80%.........90%.........100% done. Time taken =  0.074 secs\n",
      "In gridlink_mocks_double> Running with [nmesh_x, nmesh_y, nmesh_z]  = 32,29,9.  Time taken =   0.002 sec\n",
      "countpairs_mocks_double> gridlink seems inefficient. nmesh = (32, 29, 9); avg_np = 847. Boosting bin refine factor - should lead to better performance\n",
      "In gridlink_mocks_double> Running with [nmesh_x, nmesh_y, nmesh_z]  = 48,43,9.  Time taken =   0.008 sec\n",
      "In gridlink_mocks_double> Running with [nmesh_x, nmesh_y, nmesh_z]  = 48,43,9.  Time taken =   1.150 sec\n",
      "0%.........10%.........20%.........30%.........40%.........50%.........60%.........70%.........80%.........90%.........100% done. Time taken =  0.516 secs\n",
      "In gridlink_mocks_double> Running with [nmesh_x, nmesh_y, nmesh_z]  = 32,29,9.  Time taken =   0.047 sec\n",
      "In gridlink_mocks_double> Running with [nmesh_x, nmesh_y, nmesh_z]  = 32,29,9.  Time taken =   0.125 sec\n",
      "0%.........10%.........20%.........30%.........40%.........50%.........60%.........70%.........80%.........90%.........100% done. Time taken =  9.319 secs\n",
      "In gridlink_mocks_double> Running with [nmesh_x, nmesh_y, nmesh_z]  = 32,29,9.  Time taken =   0.127 sec\n",
      "countpairs_mocks_double> gridlink seems inefficient. nmesh = (32, 29, 9); avg_np = 847. Boosting bin refine factor - should lead to better performance\n",
      "In gridlink_mocks_double> Running with [nmesh_x, nmesh_y, nmesh_z]  = 48,43,9.  Time taken =   0.125 sec\n",
      "In gridlink_mocks_double> Running with [nmesh_x, nmesh_y, nmesh_z]  = 48,43,9.  Time taken =   1.400 sec\n",
      "0%.........10%.........20%.........30%.........40%.........50%.........60%.........70%.........80%.........90%.........100% done. Time taken =     3 mins    8 secs\n"
     ]
    },
    {
     "name": "stdout",
     "output_type": "stream",
     "text": [
      "12 / 25\n"
     ]
    },
    {
     "name": "stderr",
     "output_type": "stream",
     "text": [
      "In gridlink_mocks_double> Running with [nmesh_x, nmesh_y, nmesh_z]  = 32,28,9.  Time taken =   0.003 sec\n",
      "In gridlink_mocks_double> Running with [nmesh_x, nmesh_y, nmesh_z]  = 32,28,9.  Time taken =   0.038 sec\n",
      "0%.........10%.........20%.........30%.........40%.........50%.........60%.........70%.........80%.........90%.........100% done. Time taken =  0.059 secs\n",
      "In gridlink_mocks_double> Running with [nmesh_x, nmesh_y, nmesh_z]  = 32,29,9.  Time taken =   0.002 sec\n",
      "countpairs_mocks_double> gridlink seems inefficient. nmesh = (32, 29, 9); avg_np = 847. Boosting bin refine factor - should lead to better performance\n",
      "In gridlink_mocks_double> Running with [nmesh_x, nmesh_y, nmesh_z]  = 48,43,9.  Time taken =   0.004 sec\n",
      "In gridlink_mocks_double> Running with [nmesh_x, nmesh_y, nmesh_z]  = 48,43,9.  Time taken =   1.080 sec\n",
      "0%.........10%.........20%.........30%.........40%.........50%.........60%.........70%.........80%.........90%.........100% done. Time taken =  0.442 secs\n",
      "In gridlink_mocks_double> Running with [nmesh_x, nmesh_y, nmesh_z]  = 32,29,9.  Time taken =   0.039 sec\n",
      "In gridlink_mocks_double> Running with [nmesh_x, nmesh_y, nmesh_z]  = 32,29,9.  Time taken =   0.102 sec\n",
      "0%.........10%.........20%.........30%.........40%.........50%.........60%.........70%.........80%.........90%.........100% done. Time taken =  7.738 secs\n",
      "In gridlink_mocks_double> Running with [nmesh_x, nmesh_y, nmesh_z]  = 32,29,9.  Time taken =   0.095 sec\n",
      "countpairs_mocks_double> gridlink seems inefficient. nmesh = (32, 29, 9); avg_np = 847. Boosting bin refine factor - should lead to better performance\n",
      "In gridlink_mocks_double> Running with [nmesh_x, nmesh_y, nmesh_z]  = 48,43,9.  Time taken =   0.095 sec\n",
      "In gridlink_mocks_double> Running with [nmesh_x, nmesh_y, nmesh_z]  = 48,43,9.  Time taken =   1.052 sec\n",
      "0%.........10%.........20%.........30%.........40%.........50%.........60%.........70%.........80%.........90%.........100% done. Time taken =     3 mins    4 secs\n"
     ]
    },
    {
     "name": "stdout",
     "output_type": "stream",
     "text": [
      "13 / 25\n"
     ]
    },
    {
     "name": "stderr",
     "output_type": "stream",
     "text": [
      "In gridlink_mocks_double> Running with [nmesh_x, nmesh_y, nmesh_z]  = 31,28,9.  Time taken =   0.007 sec\n",
      "In gridlink_mocks_double> Running with [nmesh_x, nmesh_y, nmesh_z]  = 31,28,9.  Time taken =   0.065 sec\n",
      "0%.........10%.........20%.........30%.........40%.........50%.........60%.........70%.........80%.........90%.........100% done. Time taken =  0.070 secs\n",
      "In gridlink_mocks_double> Running with [nmesh_x, nmesh_y, nmesh_z]  = 31,29,9.  Time taken =   0.004 sec\n",
      "countpairs_mocks_double> gridlink seems inefficient. nmesh = (31, 29, 9); avg_np = 756. Boosting bin refine factor - should lead to better performance\n",
      "In gridlink_mocks_double> Running with [nmesh_x, nmesh_y, nmesh_z]  = 47,43,9.  Time taken =   0.007 sec\n",
      "In gridlink_mocks_double> Running with [nmesh_x, nmesh_y, nmesh_z]  = 47,43,9.  Time taken =   1.191 sec\n",
      "0%.........10%.........20%.........30%.........40%.........50%.........60%.........70%.........80%.........90%.........100% done. Time taken =  0.468 secs\n",
      "In gridlink_mocks_double> Running with [nmesh_x, nmesh_y, nmesh_z]  = 31,29,9.  Time taken =   0.037 sec\n",
      "In gridlink_mocks_double> Running with [nmesh_x, nmesh_y, nmesh_z]  = 31,29,9.  Time taken =   0.173 sec\n",
      "0%.........10%.........20%.........30%.........40%.........50%.........60%.........70%.........80%.........90%.........100% done. Time taken =  8.179 secs\n",
      "In gridlink_mocks_double> Running with [nmesh_x, nmesh_y, nmesh_z]  = 31,29,9.  Time taken =   0.102 sec\n",
      "countpairs_mocks_double> gridlink seems inefficient. nmesh = (31, 29, 9); avg_np = 756. Boosting bin refine factor - should lead to better performance\n",
      "In gridlink_mocks_double> Running with [nmesh_x, nmesh_y, nmesh_z]  = 47,43,9.  Time taken =   0.109 sec\n",
      "In gridlink_mocks_double> Running with [nmesh_x, nmesh_y, nmesh_z]  = 47,43,9.  Time taken =   1.140 sec\n",
      "0%.........10%.........20%.........30%.........40%.........50%.........60%.........70%.........80%.........90%.........100% done. Time taken =     2 mins   38 secs\n"
     ]
    },
    {
     "name": "stdout",
     "output_type": "stream",
     "text": [
      "14 / 25\n"
     ]
    },
    {
     "name": "stderr",
     "output_type": "stream",
     "text": [
      "In gridlink_mocks_double> Running with [nmesh_x, nmesh_y, nmesh_z]  = 32,28,9.  Time taken =   0.003 sec\n",
      "In gridlink_mocks_double> Running with [nmesh_x, nmesh_y, nmesh_z]  = 32,28,9.  Time taken =   0.036 sec\n",
      "0%.........10%.........20%.........30%.........40%.........50%.........60%.........70%.........80%.........90%.........100% done. Time taken =  0.047 secs\n",
      "In gridlink_mocks_double> Running with [nmesh_x, nmesh_y, nmesh_z]  = 32,29,9.  Time taken =   0.002 sec\n",
      "countpairs_mocks_double> gridlink seems inefficient. nmesh = (32, 29, 9); avg_np = 672. Boosting bin refine factor - should lead to better performance\n",
      "In gridlink_mocks_double> Running with [nmesh_x, nmesh_y, nmesh_z]  = 48,43,9.  Time taken =   0.005 sec\n",
      "In gridlink_mocks_double> Running with [nmesh_x, nmesh_y, nmesh_z]  = 48,43,9.  Time taken =   0.979 sec\n",
      "0%.........10%.........20%.........30%.........40%.........50%.........60%.........70%.........80%.........90%.........100% done. Time taken =  0.362 secs\n",
      "In gridlink_mocks_double> Running with [nmesh_x, nmesh_y, nmesh_z]  = 32,29,9.  Time taken =   0.035 sec\n",
      "In gridlink_mocks_double> Running with [nmesh_x, nmesh_y, nmesh_z]  = 32,29,9.  Time taken =   0.094 sec\n",
      "0%.........10%.........20%.........30%.........40%.........50%.........60%.........70%.........80%.........90%.........100% done. Time taken =  6.277 secs\n",
      "In gridlink_mocks_double> Running with [nmesh_x, nmesh_y, nmesh_z]  = 32,29,9.  Time taken =   0.096 sec\n",
      "countpairs_mocks_double> gridlink seems inefficient. nmesh = (32, 29, 9); avg_np = 672. Boosting bin refine factor - should lead to better performance\n",
      "In gridlink_mocks_double> Running with [nmesh_x, nmesh_y, nmesh_z]  = 48,43,9.  Time taken =   0.100 sec\n",
      "In gridlink_mocks_double> Running with [nmesh_x, nmesh_y, nmesh_z]  = 48,43,9.  Time taken =   1.003 sec\n",
      "0%.........10%.........20%.........30%.........40%.........50%.........60%.........70%.........80%.........90%.........100% done. Time taken =     2 mins    4 secs\n"
     ]
    },
    {
     "name": "stdout",
     "output_type": "stream",
     "text": [
      "15 / 25\n"
     ]
    },
    {
     "name": "stderr",
     "output_type": "stream",
     "text": [
      "In gridlink_mocks_double> Running with [nmesh_x, nmesh_y, nmesh_z]  = 32,28,8.  Time taken =   0.003 sec\n",
      "In gridlink_mocks_double> Running with [nmesh_x, nmesh_y, nmesh_z]  = 32,28,8.  Time taken =   0.040 sec\n",
      "0%.........10%.........20%.........30%.........40%.........50%.........60%.........70%.........80%.........90%.........100% done. Time taken =  0.065 secs\n",
      "In gridlink_mocks_double> Running with [nmesh_x, nmesh_y, nmesh_z]  = 32,29,8.  Time taken =   0.004 sec\n",
      "countpairs_mocks_double> gridlink seems inefficient. nmesh = (32, 29, 8); avg_np = 905. Boosting bin refine factor - should lead to better performance\n",
      "In gridlink_mocks_double> Running with [nmesh_x, nmesh_y, nmesh_z]  = 48,43,8.  Time taken =   0.005 sec\n",
      "In gridlink_mocks_double> Running with [nmesh_x, nmesh_y, nmesh_z]  = 48,43,8.  Time taken =   1.386 sec\n",
      "0%.........10%.........20%.........30%.........40%.........50%.........60%.........70%.........80%.........90%.........100% done. Time taken =  0.523 secs\n",
      "In gridlink_mocks_double> Running with [nmesh_x, nmesh_y, nmesh_z]  = 32,29,8.  Time taken =   0.049 sec\n",
      "In gridlink_mocks_double> Running with [nmesh_x, nmesh_y, nmesh_z]  = 32,29,8.  Time taken =   0.121 sec\n",
      "0%.........10%.........20%.........30%.........40%.........50%.........60%.........70%.........80%.........90%.........100% done. Time taken =  8.594 secs\n",
      "In gridlink_mocks_double> Running with [nmesh_x, nmesh_y, nmesh_z]  = 32,29,8.  Time taken =   0.106 sec\n",
      "countpairs_mocks_double> gridlink seems inefficient. nmesh = (32, 29, 8); avg_np = 905. Boosting bin refine factor - should lead to better performance\n",
      "In gridlink_mocks_double> Running with [nmesh_x, nmesh_y, nmesh_z]  = 48,43,8.  Time taken =   0.102 sec\n",
      "In gridlink_mocks_double> Running with [nmesh_x, nmesh_y, nmesh_z]  = 48,43,8.  Time taken =   1.397 sec\n",
      "0%.........10%.........20%.........30%.........40%.........50%.........60%.........70%.........80%.........90%.........100% done. Time taken =     2 mins   51 secs\n"
     ]
    },
    {
     "name": "stdout",
     "output_type": "stream",
     "text": [
      "16 / 25\n"
     ]
    },
    {
     "name": "stderr",
     "output_type": "stream",
     "text": [
      "In gridlink_mocks_double> Running with [nmesh_x, nmesh_y, nmesh_z]  = 32,28,9.  Time taken =   0.004 sec\n",
      "In gridlink_mocks_double> Running with [nmesh_x, nmesh_y, nmesh_z]  = 32,28,9.  Time taken =   0.049 sec\n",
      "0%.........10%.........20%.........30%.........40%.........50%.........60%.........70%.........80%.........90%.........100% done. Time taken =  0.071 secs\n",
      "In gridlink_mocks_double> Running with [nmesh_x, nmesh_y, nmesh_z]  = 32,29,9.  Time taken =   0.003 sec\n",
      "countpairs_mocks_double> gridlink seems inefficient. nmesh = (32, 29, 9); avg_np = 847. Boosting bin refine factor - should lead to better performance\n",
      "In gridlink_mocks_double> Running with [nmesh_x, nmesh_y, nmesh_z]  = 48,43,9.  Time taken =   0.005 sec\n",
      "In gridlink_mocks_double> Running with [nmesh_x, nmesh_y, nmesh_z]  = 48,43,9.  Time taken =   1.347 sec\n",
      "0%.........10%.........20%.........30%.........40%.........50%.........60%.........70%.........80%.........90%.........100% done. Time taken =  0.480 secs\n",
      "In gridlink_mocks_double> Running with [nmesh_x, nmesh_y, nmesh_z]  = 32,29,9.  Time taken =   0.077 sec\n",
      "In gridlink_mocks_double> Running with [nmesh_x, nmesh_y, nmesh_z]  = 32,29,9.  Time taken =   0.126 sec\n",
      "0%.........10%.........20%.........30%.........40%.........50%.........60%.........70%.........80%.........90%.........100% done. Time taken =  9.020 secs\n",
      "In gridlink_mocks_double> Running with [nmesh_x, nmesh_y, nmesh_z]  = 32,29,9.  Time taken =   0.133 sec\n",
      "countpairs_mocks_double> gridlink seems inefficient. nmesh = (32, 29, 9); avg_np = 847. Boosting bin refine factor - should lead to better performance\n",
      "In gridlink_mocks_double> Running with [nmesh_x, nmesh_y, nmesh_z]  = 48,43,9.  Time taken =   0.126 sec\n",
      "In gridlink_mocks_double> Running with [nmesh_x, nmesh_y, nmesh_z]  = 48,43,9.  Time taken =   1.408 sec\n",
      "0%.........10%.........20%.........30%.........40%.........50%.........60%.........70%.........80%.........90%.........100% done. Time taken =     3 mins\n"
     ]
    },
    {
     "name": "stdout",
     "output_type": "stream",
     "text": [
      "17 / 25\n"
     ]
    },
    {
     "name": "stderr",
     "output_type": "stream",
     "text": [
      "In gridlink_mocks_double> Running with [nmesh_x, nmesh_y, nmesh_z]  = 32,28,9.  Time taken =   0.004 sec\n",
      "In gridlink_mocks_double> Running with [nmesh_x, nmesh_y, nmesh_z]  = 32,28,9.  Time taken =   0.084 sec\n",
      "0%.........10%.........20%.........30%.........40%.........50%.........60%.........70%.........80%.........90%.........100% done. Time taken =  0.073 secs\n",
      "In gridlink_mocks_double> Running with [nmesh_x, nmesh_y, nmesh_z]  = 32,29,9.  Time taken =   0.003 sec\n",
      "countpairs_mocks_double> gridlink seems inefficient. nmesh = (32, 29, 9); avg_np = 847. Boosting bin refine factor - should lead to better performance\n",
      "In gridlink_mocks_double> Running with [nmesh_x, nmesh_y, nmesh_z]  = 48,43,9.  Time taken =   0.005 sec\n",
      "In gridlink_mocks_double> Running with [nmesh_x, nmesh_y, nmesh_z]  = 48,43,9.  Time taken =   1.328 sec\n",
      "0%.........10%.........20%.........30%.........40%.........50%.........60%.........70%.........80%.........90%.........100% done. Time taken =  0.525 secs\n",
      "In gridlink_mocks_double> Running with [nmesh_x, nmesh_y, nmesh_z]  = 32,29,9.  Time taken =   0.043 sec\n",
      "In gridlink_mocks_double> Running with [nmesh_x, nmesh_y, nmesh_z]  = 32,29,9.  Time taken =   0.124 sec\n",
      "0%.........10%.........20%.........30%.........40%.........50%.........60%.........70%.........80%.........90%.........100% done. Time taken =  8.996 secs\n",
      "In gridlink_mocks_double> Running with [nmesh_x, nmesh_y, nmesh_z]  = 32,29,9.  Time taken =   0.105 sec\n",
      "countpairs_mocks_double> gridlink seems inefficient. nmesh = (32, 29, 9); avg_np = 847. Boosting bin refine factor - should lead to better performance\n",
      "In gridlink_mocks_double> Running with [nmesh_x, nmesh_y, nmesh_z]  = 48,43,9.  Time taken =   0.101 sec\n",
      "In gridlink_mocks_double> Running with [nmesh_x, nmesh_y, nmesh_z]  = 48,43,9.  Time taken =   1.265 sec\n",
      "0%.........10%.........20%.........30%.........40%.........50%.........60%.........70%.........80%.........90%.........100% done. Time taken =     3 mins    2 secs\n"
     ]
    },
    {
     "name": "stdout",
     "output_type": "stream",
     "text": [
      "18 / 25\n"
     ]
    },
    {
     "name": "stderr",
     "output_type": "stream",
     "text": [
      "In gridlink_mocks_double> Running with [nmesh_x, nmesh_y, nmesh_z]  = 32,28,9.  Time taken =   0.004 sec\n",
      "In gridlink_mocks_double> Running with [nmesh_x, nmesh_y, nmesh_z]  = 32,28,9.  Time taken =   0.047 sec\n",
      "0%.........10%.........20%.........30%.........40%.........50%.........60%.........70%.........80%.........90%.........100% done. Time taken =  0.064 secs\n",
      "In gridlink_mocks_double> Running with [nmesh_x, nmesh_y, nmesh_z]  = 32,28,9.  Time taken =   0.010 sec\n",
      "countpairs_mocks_double> gridlink seems inefficient. nmesh = (32, 28, 9); avg_np = 825. Boosting bin refine factor - should lead to better performance\n",
      "In gridlink_mocks_double> Running with [nmesh_x, nmesh_y, nmesh_z]  = 48,43,9.  Time taken =   0.006 sec\n",
      "In gridlink_mocks_double> Running with [nmesh_x, nmesh_y, nmesh_z]  = 48,43,9.  Time taken =   1.290 sec\n",
      "0%.........10%.........20%.........30%.........40%.........50%.........60%.........70%.........80%.........90%.........100% done. Time taken =  0.488 secs\n",
      "In gridlink_mocks_double> Running with [nmesh_x, nmesh_y, nmesh_z]  = 32,29,9.  Time taken =   0.056 sec\n",
      "In gridlink_mocks_double> Running with [nmesh_x, nmesh_y, nmesh_z]  = 32,29,9.  Time taken =   0.140 sec\n",
      "0%.........10%.........20%.........30%.........40%.........50%.........60%.........70%.........80%.........90%.........100% done. Time taken =  8.910 secs\n",
      "In gridlink_mocks_double> Running with [nmesh_x, nmesh_y, nmesh_z]  = 32,29,9.  Time taken =   0.134 sec\n",
      "countpairs_mocks_double> gridlink seems inefficient. nmesh = (32, 29, 9); avg_np = 797. Boosting bin refine factor - should lead to better performance\n",
      "In gridlink_mocks_double> Running with [nmesh_x, nmesh_y, nmesh_z]  = 48,43,9.  Time taken =   0.145 sec\n",
      "In gridlink_mocks_double> Running with [nmesh_x, nmesh_y, nmesh_z]  = 48,43,9.  Time taken =   1.468 sec\n",
      "0%.........10%.........20%.........30%.........40%.........50%.........60%.........70%.........80%.........90%.........100% done. Time taken =     3 mins    2 secs\n"
     ]
    },
    {
     "name": "stdout",
     "output_type": "stream",
     "text": [
      "19 / 25\n"
     ]
    },
    {
     "name": "stderr",
     "output_type": "stream",
     "text": [
      "In gridlink_mocks_double> Running with [nmesh_x, nmesh_y, nmesh_z]  = 32,28,9.  Time taken =   0.009 sec\n",
      "In gridlink_mocks_double> Running with [nmesh_x, nmesh_y, nmesh_z]  = 32,28,9.  Time taken =   0.044 sec\n",
      "0%.........10%.........20%.........30%.........40%.........50%.........60%.........70%.........80%.........90%.........100% done. Time taken =  0.063 secs\n",
      "In gridlink_mocks_double> Running with [nmesh_x, nmesh_y, nmesh_z]  = 32,29,9.  Time taken =   0.003 sec\n",
      "countpairs_mocks_double> gridlink seems inefficient. nmesh = (32, 29, 9); avg_np = 756. Boosting bin refine factor - should lead to better performance\n",
      "In gridlink_mocks_double> Running with [nmesh_x, nmesh_y, nmesh_z]  = 48,43,9.  Time taken =   0.004 sec\n",
      "In gridlink_mocks_double> Running with [nmesh_x, nmesh_y, nmesh_z]  = 48,43,9.  Time taken =   1.016 sec\n",
      "0%.........10%.........20%.........30%.........40%.........50%.........60%.........70%.........80%.........90%.........100% done. Time taken =  0.438 secs\n",
      "In gridlink_mocks_double> Running with [nmesh_x, nmesh_y, nmesh_z]  = 32,29,9.  Time taken =   0.036 sec\n",
      "In gridlink_mocks_double> Running with [nmesh_x, nmesh_y, nmesh_z]  = 32,29,9.  Time taken =   0.108 sec\n",
      "0%.........10%.........20%.........30%.........40%.........50%.........60%.........70%.........80%.........90%.........100% done. Time taken =  7.759 secs\n",
      "In gridlink_mocks_double> Running with [nmesh_x, nmesh_y, nmesh_z]  = 32,29,9.  Time taken =   0.105 sec\n",
      "countpairs_mocks_double> gridlink seems inefficient. nmesh = (32, 29, 9); avg_np = 756. Boosting bin refine factor - should lead to better performance\n",
      "In gridlink_mocks_double> Running with [nmesh_x, nmesh_y, nmesh_z]  = 48,43,9.  Time taken =   0.121 sec\n",
      "In gridlink_mocks_double> Running with [nmesh_x, nmesh_y, nmesh_z]  = 48,43,9.  Time taken =   1.178 sec\n",
      "0%.........10%.........20%.........30%.........40%.........50%.........60%.........70%.........80%.........90%.........100% done. Time taken =     2 mins   47 secs\n"
     ]
    },
    {
     "name": "stdout",
     "output_type": "stream",
     "text": [
      "20 / 25\n"
     ]
    },
    {
     "name": "stderr",
     "output_type": "stream",
     "text": [
      "In gridlink_mocks_double> Running with [nmesh_x, nmesh_y, nmesh_z]  = 32,28,9.  Time taken =   0.004 sec\n",
      "In gridlink_mocks_double> Running with [nmesh_x, nmesh_y, nmesh_z]  = 32,28,9.  Time taken =   0.054 sec\n",
      "0%.........10%.........20%.........30%.........40%.........50%.........60%.........70%.........80%.........90%.........100% done. Time taken =  0.064 secs\n",
      "In gridlink_mocks_double> Running with [nmesh_x, nmesh_y, nmesh_z]  = 32,29,9.  Time taken =   0.002 sec\n",
      "countpairs_mocks_double> gridlink seems inefficient. nmesh = (32, 29, 9); avg_np = 835. Boosting bin refine factor - should lead to better performance\n",
      "In gridlink_mocks_double> Running with [nmesh_x, nmesh_y, nmesh_z]  = 48,43,9.  Time taken =   0.004 sec\n",
      "In gridlink_mocks_double> Running with [nmesh_x, nmesh_y, nmesh_z]  = 48,43,9.  Time taken =   1.442 sec\n",
      "0%.........10%.........20%.........30%.........40%.........50%.........60%.........70%.........80%.........90%.........100% done. Time taken =  0.517 secs\n",
      "In gridlink_mocks_double> Running with [nmesh_x, nmesh_y, nmesh_z]  = 32,29,9.  Time taken =   0.041 sec\n",
      "In gridlink_mocks_double> Running with [nmesh_x, nmesh_y, nmesh_z]  = 32,29,9.  Time taken =   0.139 sec\n",
      "0%.........10%.........20%.........30%.........40%.........50%.........60%.........70%.........80%.........90%.........100% done. Time taken =  9.619 secs\n",
      "In gridlink_mocks_double> Running with [nmesh_x, nmesh_y, nmesh_z]  = 32,29,9.  Time taken =   0.177 sec\n",
      "countpairs_mocks_double> gridlink seems inefficient. nmesh = (32, 29, 9); avg_np = 835. Boosting bin refine factor - should lead to better performance\n",
      "In gridlink_mocks_double> Running with [nmesh_x, nmesh_y, nmesh_z]  = 48,43,9.  Time taken =   0.187 sec\n",
      "In gridlink_mocks_double> Running with [nmesh_x, nmesh_y, nmesh_z]  = 48,43,9.  Time taken =   1.564 sec\n",
      "0%.........10%.........20%.........30%.........40%.........50%.........60%.........70%.........80%.........90%.........100% done. Time taken =     2 mins   58 secs\n"
     ]
    },
    {
     "name": "stdout",
     "output_type": "stream",
     "text": [
      "21 / 25\n"
     ]
    },
    {
     "name": "stderr",
     "output_type": "stream",
     "text": [
      "In gridlink_mocks_double> Running with [nmesh_x, nmesh_y, nmesh_z]  = 32,28,9.  Time taken =   0.003 sec\n",
      "In gridlink_mocks_double> Running with [nmesh_x, nmesh_y, nmesh_z]  = 32,28,9.  Time taken =   0.054 sec\n",
      "0%.........10%.........20%.........30%.........40%.........50%.........60%.........70%.........80%.........90%.........100% done. Time taken =  0.070 secs\n",
      "In gridlink_mocks_double> Running with [nmesh_x, nmesh_y, nmesh_z]  = 32,29,9.  Time taken =   0.003 sec\n",
      "countpairs_mocks_double> gridlink seems inefficient. nmesh = (32, 29, 9); avg_np = 847. Boosting bin refine factor - should lead to better performance\n",
      "In gridlink_mocks_double> Running with [nmesh_x, nmesh_y, nmesh_z]  = 48,43,9.  Time taken =   0.005 sec\n",
      "In gridlink_mocks_double> Running with [nmesh_x, nmesh_y, nmesh_z]  = 48,43,9.  Time taken =   1.428 sec\n",
      "0%.........10%.........20%.........30%.........40%.........50%.........60%.........70%.........80%.........90%.........100% done. Time taken =  0.538 secs\n",
      "In gridlink_mocks_double> Running with [nmesh_x, nmesh_y, nmesh_z]  = 32,29,9.  Time taken =   0.085 sec\n",
      "In gridlink_mocks_double> Running with [nmesh_x, nmesh_y, nmesh_z]  = 32,29,9.  Time taken =   0.193 sec\n",
      "0%.........10%.........20%.........30%.........40%.........50%.........60%.........70%.........80%.........90%.........100% done. Time taken =  9.523 secs\n",
      "In gridlink_mocks_double> Running with [nmesh_x, nmesh_y, nmesh_z]  = 32,29,9.  Time taken =   0.104 sec\n",
      "countpairs_mocks_double> gridlink seems inefficient. nmesh = (32, 29, 9); avg_np = 847. Boosting bin refine factor - should lead to better performance\n",
      "In gridlink_mocks_double> Running with [nmesh_x, nmesh_y, nmesh_z]  = 48,43,9.  Time taken =   0.132 sec\n",
      "In gridlink_mocks_double> Running with [nmesh_x, nmesh_y, nmesh_z]  = 48,43,9.  Time taken =   1.372 sec\n",
      "0%.........10%.........20%.........30%.........40%.........50%.........60%.........70%.........80%.........90%.........100% done. Time taken =     2 mins   52 secs\n"
     ]
    },
    {
     "name": "stdout",
     "output_type": "stream",
     "text": [
      "22 / 25\n"
     ]
    },
    {
     "name": "stderr",
     "output_type": "stream",
     "text": [
      "In gridlink_mocks_double> Running with [nmesh_x, nmesh_y, nmesh_z]  = 32,28,9.  Time taken =   0.003 sec\n",
      "In gridlink_mocks_double> Running with [nmesh_x, nmesh_y, nmesh_z]  = 32,28,9.  Time taken =   0.045 sec\n",
      "0%.........10%.........20%.........30%.........40%.........50%.........60%.........70%.........80%.........90%.........100% done. Time taken =  0.068 secs\n",
      "In gridlink_mocks_double> Running with [nmesh_x, nmesh_y, nmesh_z]  = 32,29,9.  Time taken =   0.003 sec\n",
      "countpairs_mocks_double> gridlink seems inefficient. nmesh = (32, 29, 9); avg_np = 847. Boosting bin refine factor - should lead to better performance\n",
      "In gridlink_mocks_double> Running with [nmesh_x, nmesh_y, nmesh_z]  = 48,43,9.  Time taken =   0.005 sec\n",
      "In gridlink_mocks_double> Running with [nmesh_x, nmesh_y, nmesh_z]  = 48,43,9.  Time taken =   1.390 sec\n",
      "0%.........10%.........20%.........30%.........40%.........50%.........60%.........70%.........80%.........90%.........100% done. Time taken =  0.511 secs\n",
      "In gridlink_mocks_double> Running with [nmesh_x, nmesh_y, nmesh_z]  = 32,29,9.  Time taken =   0.060 sec\n",
      "In gridlink_mocks_double> Running with [nmesh_x, nmesh_y, nmesh_z]  = 32,29,9.  Time taken =   0.201 sec\n",
      "0%.........10%.........20%.........30%.........40%.........50%.........60%.........70%.........80%.........90%.........100% done. Time taken =  9.330 secs\n",
      "In gridlink_mocks_double> Running with [nmesh_x, nmesh_y, nmesh_z]  = 32,29,9.  Time taken =   0.127 sec\n",
      "countpairs_mocks_double> gridlink seems inefficient. nmesh = (32, 29, 9); avg_np = 847. Boosting bin refine factor - should lead to better performance\n",
      "In gridlink_mocks_double> Running with [nmesh_x, nmesh_y, nmesh_z]  = 48,43,9.  Time taken =   0.156 sec\n",
      "In gridlink_mocks_double> Running with [nmesh_x, nmesh_y, nmesh_z]  = 48,43,9.  Time taken =   1.310 sec\n",
      "0%.........10%.........20%.........30%.........40%.........50%.........60%.........70%.........80%.........90%.........100% done. Time taken =     2 mins   51 secs\n"
     ]
    },
    {
     "name": "stdout",
     "output_type": "stream",
     "text": [
      "23 / 25\n"
     ]
    },
    {
     "name": "stderr",
     "output_type": "stream",
     "text": [
      "In gridlink_mocks_double> Running with [nmesh_x, nmesh_y, nmesh_z]  = 32,28,9.  Time taken =   0.003 sec\n",
      "In gridlink_mocks_double> Running with [nmesh_x, nmesh_y, nmesh_z]  = 32,28,9.  Time taken =   0.046 sec\n",
      "0%.........10%.........20%.........30%.........40%.........50%.........60%.........70%.........80%.........90%.........100% done. Time taken =  0.060 secs\n",
      "In gridlink_mocks_double> Running with [nmesh_x, nmesh_y, nmesh_z]  = 32,29,9.  Time taken =   0.003 sec\n",
      "countpairs_mocks_double> gridlink seems inefficient. nmesh = (32, 29, 9); avg_np = 767. Boosting bin refine factor - should lead to better performance\n",
      "In gridlink_mocks_double> Running with [nmesh_x, nmesh_y, nmesh_z]  = 48,43,9.  Time taken =   0.005 sec\n",
      "In gridlink_mocks_double> Running with [nmesh_x, nmesh_y, nmesh_z]  = 48,43,9.  Time taken =   1.128 sec\n",
      "0%.........10%.........20%.........30%.........40%.........50%.........60%.........70%.........80%.........90%.........100% done. Time taken =  0.491 secs\n",
      "In gridlink_mocks_double> Running with [nmesh_x, nmesh_y, nmesh_z]  = 32,29,9.  Time taken =   0.052 sec\n",
      "In gridlink_mocks_double> Running with [nmesh_x, nmesh_y, nmesh_z]  = 32,29,9.  Time taken =   0.153 sec\n",
      "0%.........10%.........20%.........30%.........40%.........50%.........60%.........70%.........80%.........90%.........100% done. Time taken =  8.683 secs\n",
      "In gridlink_mocks_double> Running with [nmesh_x, nmesh_y, nmesh_z]  = 32,29,9.  Time taken =   0.108 sec\n",
      "countpairs_mocks_double> gridlink seems inefficient. nmesh = (32, 29, 9); avg_np = 767. Boosting bin refine factor - should lead to better performance\n",
      "In gridlink_mocks_double> Running with [nmesh_x, nmesh_y, nmesh_z]  = 48,43,9.  Time taken =   0.182 sec\n",
      "In gridlink_mocks_double> Running with [nmesh_x, nmesh_y, nmesh_z]  = 48,43,9.  Time taken =   1.180 sec\n",
      "0%.........10%.........20%.........30%.........40%.........50%.........60%.........70%.........80%.........90%.........100% done. Time taken =     2 mins   40 secs\n"
     ]
    },
    {
     "name": "stdout",
     "output_type": "stream",
     "text": [
      "24 / 25\n"
     ]
    },
    {
     "name": "stderr",
     "output_type": "stream",
     "text": [
      "In gridlink_mocks_double> Running with [nmesh_x, nmesh_y, nmesh_z]  = 32,28,9.  Time taken =   0.003 sec\n",
      "In gridlink_mocks_double> Running with [nmesh_x, nmesh_y, nmesh_z]  = 32,28,9.  Time taken =   0.042 sec\n",
      "0%.........10%.........20%.........30%.........40%.........50%.........60%.........70%.........80%.........90%.........100% done. Time taken =  0.059 secs\n",
      "In gridlink_mocks_double> Running with [nmesh_x, nmesh_y, nmesh_z]  = 32,29,9.  Time taken =   0.005 sec\n",
      "countpairs_mocks_double> gridlink seems inefficient. nmesh = (32, 29, 9); avg_np = 806. Boosting bin refine factor - should lead to better performance\n",
      "In gridlink_mocks_double> Running with [nmesh_x, nmesh_y, nmesh_z]  = 48,43,9.  Time taken =   0.009 sec\n",
      "In gridlink_mocks_double> Running with [nmesh_x, nmesh_y, nmesh_z]  = 48,43,9.  Time taken =   1.186 sec\n",
      "0%.........10%.........20%.........30%.........40%.........50%.........60%.........70%.........80%.........90%.........100% done. Time taken =  0.501 secs\n",
      "In gridlink_mocks_double> Running with [nmesh_x, nmesh_y, nmesh_z]  = 32,29,9.  Time taken =   0.045 sec\n",
      "In gridlink_mocks_double> Running with [nmesh_x, nmesh_y, nmesh_z]  = 32,29,9.  Time taken =   0.127 sec\n",
      "0%.........10%.........20%.........30%.........40%.........50%.........60%.........70%.........80%.........90%.........100% done. Time taken =  8.281 secs\n",
      "In gridlink_mocks_double> Running with [nmesh_x, nmesh_y, nmesh_z]  = 32,29,9.  Time taken =   0.141 sec\n",
      "countpairs_mocks_double> gridlink seems inefficient. nmesh = (32, 29, 9); avg_np = 806. Boosting bin refine factor - should lead to better performance\n",
      "In gridlink_mocks_double> Running with [nmesh_x, nmesh_y, nmesh_z]  = 48,43,9.  Time taken =   0.124 sec\n",
      "In gridlink_mocks_double> Running with [nmesh_x, nmesh_y, nmesh_z]  = 48,43,9.  Time taken =   1.120 sec\n",
      "0%.........10%.........20%.........30%.........40%.........50%.........60%.........70%.........80%.........90%.........100% done. Time taken =     2 mins   51 secs\n"
     ]
    },
    {
     "name": "stdout",
     "output_type": "stream",
     "text": [
      "25 / 25\n"
     ]
    },
    {
     "name": "stderr",
     "output_type": "stream",
     "text": [
      "In gridlink_mocks_double> Running with [nmesh_x, nmesh_y, nmesh_z]  = 32,28,9.  Time taken =   0.002 sec\n",
      "In gridlink_mocks_double> Running with [nmesh_x, nmesh_y, nmesh_z]  = 32,28,9.  Time taken =   0.038 sec\n",
      "0%.........10%.........20%.........30%.........40%.........50%.........60%.........70%.........80%.........90%.........100% done. Time taken =  0.058 secs\n",
      "In gridlink_mocks_double> Running with [nmesh_x, nmesh_y, nmesh_z]  = 32,29,9.  Time taken =   0.002 sec\n",
      "countpairs_mocks_double> gridlink seems inefficient. nmesh = (32, 29, 9); avg_np = 847. Boosting bin refine factor - should lead to better performance\n",
      "In gridlink_mocks_double> Running with [nmesh_x, nmesh_y, nmesh_z]  = 48,43,9.  Time taken =   0.004 sec\n",
      "In gridlink_mocks_double> Running with [nmesh_x, nmesh_y, nmesh_z]  = 48,43,9.  Time taken =   1.012 sec\n",
      "0%.........10%.........20%.........30%.........40%.........50%.........60%.........70%.........80%.........90%.........100% done. Time taken =  0.427 secs\n",
      "In gridlink_mocks_double> Running with [nmesh_x, nmesh_y, nmesh_z]  = 32,29,9.  Time taken =   0.037 sec\n",
      "In gridlink_mocks_double> Running with [nmesh_x, nmesh_y, nmesh_z]  = 32,29,9.  Time taken =   0.100 sec\n",
      "0%.........10%.........20%.........30%.........40%.........50%.........60%.........70%.........80%.........90%.........100% done. Time taken =  7.622 secs\n",
      "In gridlink_mocks_double> Running with [nmesh_x, nmesh_y, nmesh_z]  = 32,29,9.  Time taken =   0.096 sec\n",
      "countpairs_mocks_double> gridlink seems inefficient. nmesh = (32, 29, 9); avg_np = 847. Boosting bin refine factor - should lead to better performance\n",
      "In gridlink_mocks_double> Running with [nmesh_x, nmesh_y, nmesh_z]  = 48,43,9.  Time taken =   0.090 sec\n",
      "In gridlink_mocks_double> Running with [nmesh_x, nmesh_y, nmesh_z]  = 48,43,9.  Time taken =   1.026 sec\n",
      "0%.........10%.........20%.........30%.........40%.........50%.........60%.........70%.........80%.........90%.........100% done. Time taken =     2 mins   54 secs\n"
     ]
    }
   ],
   "source": [
    "from __future__ import division\n",
    "import numpy as np\n",
    "import math\n",
    "from astropy import units as u\n",
    "from astropy.coordinates import SkyCoord, match_coordinates_sky\n",
    "import astropy.coordinates as coord\n",
    "from astropy.cosmology import FlatLambdaCDM\n",
    "from astropy.table import Table\n",
    "from astropy.io import fits\n",
    "import time\n",
    "from numpy.lib.recfunctions import append_fields\n",
    "#from kde import weighted_gaussian_kde\n",
    "from scipy import stats\n",
    "from astropy.cosmology import FlatLambdaCDM,Planck15\n",
    "import sys\n",
    "from time import gmtime, strftime\n",
    "\n",
    "import matplotlib.pyplot as plt\n",
    "from matplotlib.colors import LogNorm\n",
    "%matplotlib inline\n",
    "\n",
    "from astropy.table import Table\n",
    "from astropy.io import fits\n",
    "import numpy as np\n",
    "import math\n",
    "from astropy.io import ascii\n",
    "##Read in the cosmology\n",
    "cosmo = FlatLambdaCDM(H0=70, Om0=0.3)\n",
    "\n",
    "import clustering.clustering.projected_correlation_functions as w\n",
    "import clustering.clustering.randomsEdited as rand\n",
    "from clustering.clustering.utils import wp_d1d2,wp_dd\n",
    "\n",
    "# read in orignal Peas file\n",
    "t=Table.read('../codes/MainCatalogues/dr12PeastoPortStarforming.fits',format='fits')\n",
    "peas=np.array(t)\n",
    "\n",
    "#Add new array field of comoving distances needed for Corrfunc inputs\n",
    "cdists = np.array([cosmo.comoving_distance(z).value for z in peas['z']])*cosmo.h\n",
    "peas = append_fields(peas, 'cdist', cdists)\n",
    "\n",
    "# append the field and make back into normal array\n",
    "peas=np.array(peas)\n",
    "\n",
    "LRG= Table.read('../codes/MainCatalogues/LRG/LRGzcat.fits')\n",
    "LRGr=Table.read('../codes/MainCatalogues/LRG/LRGRandzcat.fits')\n",
    "rzpea = np.load('../codes/output/rzpeasNEW.npy')\n",
    "\n",
    "bins = np.array([.1,.5,1,3,6,8,10,15,20,30,40,50,60,80,100])\n",
    "## Run a clustering CROSS CORRELATION b/w the peas & LRGs w/ bootstrap - this is jackknife only\n",
    "pimax = 70\n",
    "print(strftime(\"%Y-%m-%d %H:%M:%S\", gmtime()))\n",
    "## with errors? bootstrapped - idk\n",
    "rp_xc_Pjackpi40LS,wp_xc_Pjackpi40LS,wp_xc_err_Pjackpi40LS,cov_xc_Pjackpi40LS = w.cross_wp(d1=peas, \n",
    "d2=LRG, r1=rzpea, r2=LRGr, bins=bins,pimax=pimax,m=5, estimator='L')\n",
    "\n",
    "np.save('output/CCFResults/LandySzalay/rp_xc_Pjackpi70LS.npy', rp_xc_Pjackpi40LS)\n",
    "np.save('output/CCFResults/LandySzalay/wp_xc_Pjackpi70LS.npy',wp_xc_Pjackpi40LS)\n",
    "np.save('output/CCFResults/LandySzalay/wp_xc_err_Pjackpi70LS.npy', wp_xc_err_Pjackpi40LS)\n",
    "np.save('output/CCFResults/LandySzalay/cov_xc_Pjackpi70LS.npy',cov_xc_Pjackpi40LS)"
   ]
  },
  {
   "cell_type": "code",
   "execution_count": null,
   "metadata": {},
   "outputs": [],
   "source": []
  }
 ],
 "metadata": {
  "kernelspec": {
   "display_name": "Python 3",
   "language": "python",
   "name": "python3"
  },
  "language_info": {
   "codemirror_mode": {
    "name": "ipython",
    "version": 3
   },
   "file_extension": ".py",
   "mimetype": "text/x-python",
   "name": "python",
   "nbconvert_exporter": "python",
   "pygments_lexer": "ipython3",
   "version": "3.7.6"
  }
 },
 "nbformat": 4,
 "nbformat_minor": 4
}
