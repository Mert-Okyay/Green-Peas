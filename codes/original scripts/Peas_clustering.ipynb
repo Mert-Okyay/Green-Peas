{
 "cells": [
  {
   "cell_type": "code",
   "execution_count": 1,
   "metadata": {},
   "outputs": [],
   "source": [
    "from __future__ import division\n",
    "import numpy as np\n",
    "import math\n",
    "from astropy import units as u\n",
    "from astropy.coordinates import SkyCoord, match_coordinates_sky\n",
    "import astropy.coordinates as coord\n",
    "from astropy.cosmology import FlatLambdaCDM\n",
    "from astropy.table import Table\n",
    "from astropy.io import fits\n",
    "import time\n",
    "from numpy.lib.recfunctions import append_fields\n",
    "from kde import weighted_gaussian_kde\n",
    "from astropy.cosmology import FlatLambdaCDM,Planck15\n",
    "import sys\n",
    "from time import gmtime, strftime\n",
    "\n",
    "import matplotlib.pyplot as plt\n",
    "from matplotlib.colors import LogNorm\n",
    "%matplotlib inline"
   ]
  },
  {
   "cell_type": "code",
   "execution_count": 2,
   "metadata": {},
   "outputs": [],
   "source": [
    "import clustering.projected_correlation_functions as w\n",
    "import clustering.randoms as rand\n",
    "from clustering.utils import wp_d1d2,wp_dd"
   ]
  },
  {
   "cell_type": "markdown",
   "metadata": {},
   "source": [
    "Read in Cosmology"
   ]
  },
  {
   "cell_type": "code",
   "execution_count": 3,
   "metadata": {},
   "outputs": [],
   "source": [
    "cosmo = FlatLambdaCDM(H0=70, Om0=0.3)"
   ]
  },
  {
   "cell_type": "code",
   "execution_count": 4,
   "metadata": {
    "collapsed": true
   },
   "outputs": [],
   "source": [
    "## Read in LRG Data\n",
    "LRG= Table.read('../cat/LRGzcat.fits')\n",
    "LRGr=Table.read('../cat/LRGRandzcat.fits')"
   ]
  },
  {
   "cell_type": "code",
   "execution_count": 9,
   "metadata": {},
   "outputs": [],
   "source": [
    "t=Table.read('../output/table_unionofallpeas.txt',format='ascii')\n"
   ]
  },
  {
   "cell_type": "markdown",
   "metadata": {},
   "source": [
    "## Moving final Calculations to top of this sheet"
   ]
  },
  {
   "cell_type": "code",
   "execution_count": 5,
   "metadata": {},
   "outputs": [],
   "source": [
    "# read in new Peas file (Using DR12 with fixed color selection all BPT types BUT seyfert, 641 objects, october 9th)\n",
    "## 4/12/2018 trying with lots of interlopers + all peas potential\n",
    "t=Table.read('../output/table_unionofallpeas.txt',format='ascii')\n",
    "\n",
    "#t = Table.read('../output/table_DR12peas.txt',format='ascii')\n",
    "#t = Table.read('../output/table_DR12colselnonSeyfert.txt',format='ascii')\n",
    "peas=np.array(t)\n",
    "\n",
    "#Add new array field of comoving distances needed for Corrfunc inputs\n",
    "cdists = np.array([cosmo.comoving_distance(z).value for z in peas['z']])*cosmo.h\n",
    "peas = append_fields(peas, 'cdist', cdists)\n",
    "\n",
    "# append the field and make back into normal array\n",
    "peas=np.array(peas)"
   ]
  },
  {
   "cell_type": "code",
   "execution_count": 12,
   "metadata": {},
   "outputs": [
    {
     "name": "stdout",
     "output_type": "stream",
     "text": [
      "2018-04-12 16:05:39\n",
      "beginning Bootstrap\n",
      "1 / 100\n",
      "2 / 100\n",
      "3 / 100\n",
      "4 / 100\n",
      "5 / 100\n",
      "6 / 100\n",
      "7 / 100\n",
      "8 / 100\n",
      "9 / 100\n",
      "10 / 100\n",
      "11 / 100\n",
      "12 / 100\n",
      "13 / 100\n",
      "14 / 100\n",
      "15 / 100\n",
      "16 / 100\n",
      "17 / 100\n",
      "18 / 100\n",
      "19 / 100\n",
      "20 / 100\n",
      "21 / 100\n",
      "22 / 100\n",
      "23 / 100\n",
      "24 / 100\n",
      "25 / 100\n",
      "26 / 100\n",
      "27 / 100\n",
      "28 / 100\n",
      "29 / 100\n",
      "30 / 100\n",
      "31 / 100\n",
      "32 / 100\n",
      "33 / 100\n",
      "34 / 100\n",
      "35 / 100\n",
      "36 / 100\n",
      "37 / 100\n",
      "38 / 100\n",
      "39 / 100\n",
      "40 / 100\n",
      "41 / 100\n",
      "42 / 100\n",
      "43 / 100\n",
      "44 / 100\n",
      "45 / 100\n",
      "46 / 100\n",
      "47 / 100\n",
      "48 / 100\n",
      "49 / 100\n",
      "50 / 100\n",
      "51 / 100\n",
      "52 / 100\n",
      "53 / 100\n",
      "54 / 100\n",
      "55 / 100\n",
      "56 / 100\n",
      "57 / 100\n",
      "58 / 100\n",
      "59 / 100\n",
      "60 / 100\n",
      "61 / 100\n",
      "62 / 100\n",
      "63 / 100\n",
      "64 / 100\n",
      "65 / 100\n",
      "66 / 100\n",
      "67 / 100\n",
      "68 / 100\n",
      "69 / 100\n",
      "70 / 100\n",
      "71 / 100\n",
      "72 / 100\n",
      "73 / 100\n",
      "74 / 100\n",
      "75 / 100\n",
      "76 / 100\n",
      "77 / 100\n",
      "78 / 100\n",
      "79 / 100\n",
      "80 / 100\n",
      "81 / 100\n",
      "82 / 100\n",
      "83 / 100\n",
      "84 / 100\n",
      "85 / 100\n",
      "86 / 100\n",
      "87 / 100\n",
      "88 / 100\n",
      "89 / 100\n",
      "90 / 100\n",
      "91 / 100\n",
      "92 / 100\n",
      "93 / 100\n",
      "94 / 100\n",
      "95 / 100\n",
      "96 / 100\n",
      "97 / 100\n",
      "98 / 100\n",
      "99 / 100\n",
      "100 / 100\n",
      "2018-04-12 16:30:07\n"
     ]
    }
   ],
   "source": [
    "pimax=60\n",
    "#bins = np.array([.1,.5,1,3,6,8,10,20,40,60,100])\n",
    "#bins = np.array([.1,.5,1,3,6,8,10,20,40,60,100])\n",
    "#bins = np.array([1,3,6,8,10,15,20,30,40,50,60,100])\n",
    "\n",
    "bins = np.array([1,4,8,16,32,40,50,60,100])\n",
    "\n",
    "## Run a clustering CROSS CORRELATION b/w the peas & LRGs w/ bootstrap \n",
    "## Note takes 4 days to run!!!!!!!!\n",
    "\n",
    "#print(strftime(\"%Y-%m-%d %H:%M:%S\", gmtime()))\n",
    "### with errors? bootstrapped\n",
    "#rp_xcPboot,wp_p_xcPboot,wp_p_err_xcPboot,cov_xcPboot,wp_arr_xcPboot = w.cross_wp(d1=peas, \n",
    "#d2=LRG, r1=rzpea, r2=LRGr, bins=bins,pimax=pimax,m=100, estimator='P',errtype='b')\n",
    "#print(strftime(\"%Y-%m-%d %H:%M:%S\", gmtime()))\n",
    "## Last run 10/13/2017, now want to give it a try with the new catalog + interlopers\n",
    "\n",
    "print(strftime(\"%Y-%m-%d %H:%M:%S\", gmtime()))\n",
    "### with errors? bootstrapped\n",
    "rp_xcPboot,wp_p_xcPboot,wp_p_err_xcPboot,cov_xcPboot,wp_arr_xcPboot = w.cross_wp(d1=peas,d2=LRG, r1=rzpea, r2=LRGr, bins=bins,pimax=pimax,m=100, estimator='P',errtype='b')\n",
    "print(strftime(\"%Y-%m-%d %H:%M:%S\", gmtime()))\n",
    "\n",
    "\n"
   ]
  },
  {
   "cell_type": "code",
   "execution_count": 13,
   "metadata": {},
   "outputs": [],
   "source": [
    "#np.save('output/rp_xcPbootrgt1bg.npy', rp_xcPboot)\n",
    "#np.save('output/wp_p_xcPbootrgt1bg',wp_p_xcPboot)\n",
    "#np.save('output/wp_p_err_xcPbootrgt1bg', wp_p_err_xcPboot)\n",
    "#np.save('output/cov_xcPbootrgt1bg',cov_xcPboot)\n",
    "#np.save('output/wp_arr_xcPbootrgt1bg',wp_arr_xcPboot)\n",
    "\n",
    "### for the unionof allpeas\n",
    "np.save('output/shortrp_xcPboot_all.npy', rp_xcPboot)\n",
    "np.save('output/shortwp_p_xcPboot_all',wp_p_xcPboot)\n",
    "np.save('output/shortwp_p_err_xcPboot_all', wp_p_err_xcPboot)\n",
    "np.save('output/shortcov_xcPboot_all',cov_xcPboot)\n",
    "np.save('output/shortwp_arr_xcPboot_all',wp_arr_xcPboot)"
   ]
  },
  {
   "cell_type": "markdown",
   "metadata": {},
   "source": [
    "## Use Merry's code to generate Random Peas Catalogs"
   ]
  },
  {
   "cell_type": "code",
   "execution_count": 8,
   "metadata": {
    "collapsed": true
   },
   "outputs": [],
   "source": [
    "# read in function from Merry's program\n",
    "from clustering.randoms import genrand"
   ]
  },
  {
   "cell_type": "code",
   "execution_count": 9,
   "metadata": {},
   "outputs": [],
   "source": [
    "# read in orignal Peas file\n",
    "#t = Table.read('../output/table_DR12peas.txt',format='ascii')\n",
    "t=Table.read('../output/table_unionofallpeas.txt',format='ascii')\n",
    "peas=np.array(t)\n",
    "\n",
    "#Add new array field of comoving distances needed for Corrfunc inputs\n",
    "cdists = np.array([cosmo.comoving_distance(z).value for z in peas['z']])*cosmo.h\n",
    "peas = append_fields(peas, 'cdist', cdists)\n",
    "\n",
    "# append the field and make back into normal array\n",
    "peas=np.array(peas)"
   ]
  },
  {
   "cell_type": "code",
   "execution_count": 10,
   "metadata": {},
   "outputs": [],
   "source": [
    "#n=factor times more than peas to create a randoms catalog\n",
    "n=500"
   ]
  },
  {
   "cell_type": "code",
   "execution_count": 11,
   "metadata": {},
   "outputs": [
    {
     "name": "stdout",
     "output_type": "stream",
     "text": [
      "number of randoms: 768500\n"
     ]
    },
    {
     "data": {
      "image/png": "[encoded data removed]",
      "text/plain": [
       "<matplotlib.figure.Figure at 0x10fdd62b0>"
      ]
     },
     "metadata": {},
     "output_type": "display_data"
    }
   ],
   "source": [
    "## No selection function for peas, so randomize only in redshift not position!!!! right now running w/ +/- 1deg pos\n",
    "rzpea=genrand(peas,n,cosmo,width=.30,scoords='galactic',use_BASS_sens_map=False,plot=True,plot_filename=None)"
   ]
  },
  {
   "cell_type": "code",
   "execution_count": null,
   "metadata": {},
   "outputs": [],
   "source": []
  },
  {
   "cell_type": "code",
   "execution_count": null,
   "metadata": {},
   "outputs": [],
   "source": []
  },
  {
   "cell_type": "code",
   "execution_count": 19,
   "metadata": {},
   "outputs": [
    {
     "data": {
      "image/png": "[encoded data removed]",
      "text/plain": [
       "<matplotlib.figure.Figure at 0x1292269e8>"
      ]
     },
     "metadata": {},
     "output_type": "display_data"
    }
   ],
   "source": [
    "ra = coord.Angle(peas['ra']*u.degree)\n",
    "ra = ra.wrap_at(180*u.degree)\n",
    "dec = coord.Angle(peas['dec']*u.degree)\n",
    "\n",
    "rar = coord.Angle(rzpea['ra']*u.degree)\n",
    "rar = rar.wrap_at(180*u.degree)\n",
    "decr = coord.Angle(rzpea['dec']*u.degree)\n",
    "\n",
    "##subsample rar decr for plotting....\n",
    "sm=len(rar)/10\n",
    "sm=int(sm)\n",
    "\n",
    "ind = np.random.randint(len(rar), size=sm)\n",
    "rarsm=rar[ind]\n",
    "decrsm=decr[ind]\n",
    "## EDIT 6/30, let's keep it large for now to see what the result will be.\n",
    "##Note - file needed be QUITE so large, what about making it smaller?\n",
    "#sm=len(LRGr)/2\n",
    "#if sm%2 == 1:\n",
    "#    sm=sm+1\n",
    "#sm=int(sm)\n",
    "#ind = np.random.randint(len(LRGr), size=sm)\n",
    "#LRGrsm=LRGr[ind]\n",
    "#print(len(LRGr),len(LRGrsm))\n",
    "\n",
    "fig = plt.figure(figsize=(8,6))\n",
    "ax = fig.add_subplot(111, projection=\"aitoff\")\n",
    "\n",
    "ax.scatter(rar.radian,decr.radian,1,color='k',alpha=.5,label='Randomns')\n",
    "ax.scatter(ra.radian, dec.radian,1,color='g',marker='o',label='Peas')\n",
    "\n",
    "# blue is non-random default color used, black is randoms (k), reds r, cyan is c, green is g, points is transparent\n",
    "# marker='o', '+', '*','.', 'x','square' or 's'\tSquare'diamond'or'd','^','v', '>', '<','pentagram' or 'p','hexagram' or 'h','none'\n",
    "plt.legend(loc=8, frameon=False)\n",
    "plt.title('RA / Dec of Peas & Randomns')\n",
    "\n",
    "plt.savefig('../plots/PeaRand_ra_dec.pdf')"
   ]
  },
  {
   "cell_type": "code",
   "execution_count": 21,
   "metadata": {},
   "outputs": [
    {
     "data": {
      "text/plain": [
       "<matplotlib.legend.Legend at 0x12924e400>"
      ]
     },
     "execution_count": 21,
     "metadata": {},
     "output_type": "execute_result"
    },
    {
     "data": {
      "image/png": "[encoded data removed]",
      "text/plain": [
       "<matplotlib.figure.Figure at 0x111c07f28>"
      ]
     },
     "metadata": {},
     "output_type": "display_data"
    }
   ],
   "source": [
    "#plot z distributions\n",
    "nd = len(peas)\n",
    "nr = len(rzpea)\n",
    "plt.hist(peas['z'], histtype='stepfilled', bins=20,alpha=0.2,color='b',weights=None,normed=True,\\\n",
    "         label='Peas \\n N='+str(nd))\n",
    "plt.hist(rzpea['z'], histtype='step', bins=20,alpha=0.5,normed=True,weights=None,\\\n",
    "         label='randoms\\n N='+str(nr))\n",
    "plt.xlabel('z')\n",
    "plt.legend(loc='best', frameon=False)\n",
    "\n",
    "#plt.savefig('../plots/zdist_PeasRandomns_wnoRADECvariations.pdf')"
   ]
  },
  {
   "cell_type": "markdown",
   "metadata": {
    "collapsed": true
   },
   "source": [
    "## Running Peas Autocorrelation"
   ]
  },
  {
   "cell_type": "code",
   "execution_count": 22,
   "metadata": {
    "collapsed": true
   },
   "outputs": [],
   "source": [
    "# set out to 60 Mpc length, as a function of r_p, each scale is integrated from 0 to 60 Mpc\n",
    "pimax=60\n",
    "#nbins = 10\n",
    "#bins = np.logspace(-1, np.log10(40), nbins + 1)\n",
    "#bins = np.array([0,2,4,10,20])\n",
    "bins = np.array([.1,.5,1,3,6,8,10,15,20,30,40,50,60,80,100])\n",
    "\n"
   ]
  },
  {
   "cell_type": "code",
   "execution_count": 23,
   "metadata": {},
   "outputs": [
    {
     "name": "stdout",
     "output_type": "stream",
     "text": [
      "2018-04-12 15:28:02\n",
      "beginning Bootstrap\n",
      "1 / 100\n",
      "2 / 100\n",
      "3 / 100\n",
      "4 / 100\n",
      "5 / 100\n",
      "6 / 100\n",
      "7 / 100\n",
      "8 / 100\n",
      "9 / 100\n",
      "10 / 100\n",
      "11 / 100\n",
      "12 / 100\n",
      "13 / 100\n",
      "14 / 100\n",
      "15 / 100\n",
      "16 / 100\n",
      "17 / 100\n",
      "18 / 100\n",
      "19 / 100\n",
      "20 / 100\n",
      "21 / 100\n",
      "22 / 100\n",
      "23 / 100\n",
      "24 / 100\n",
      "25 / 100\n",
      "26 / 100\n",
      "27 / 100\n",
      "28 / 100\n",
      "29 / 100\n",
      "30 / 100\n",
      "31 / 100\n",
      "32 / 100\n",
      "33 / 100\n",
      "34 / 100\n",
      "35 / 100\n",
      "36 / 100\n",
      "37 / 100\n",
      "38 / 100\n",
      "39 / 100\n",
      "40 / 100\n",
      "41 / 100\n",
      "42 / 100\n",
      "43 / 100\n",
      "44 / 100\n",
      "45 / 100\n",
      "46 / 100\n",
      "47 / 100\n",
      "48 / 100\n",
      "49 / 100\n",
      "50 / 100\n",
      "51 / 100\n",
      "52 / 100\n",
      "53 / 100\n",
      "54 / 100\n",
      "55 / 100\n",
      "56 / 100\n",
      "57 / 100\n",
      "58 / 100\n",
      "59 / 100\n",
      "60 / 100\n",
      "61 / 100\n",
      "62 / 100\n",
      "63 / 100\n",
      "64 / 100\n",
      "65 / 100\n",
      "66 / 100\n"
     ]
    },
    {
     "ename": "TypeError",
     "evalue": "'NoneType' object is not iterable",
     "output_type": "error",
     "traceback": [
      "\u001b[0;31m---------------------------------------------------------------------------\u001b[0m",
      "\u001b[0;31mTypeError\u001b[0m                                 Traceback (most recent call last)",
      "\u001b[0;32m<ipython-input-23-b0b8d48fd254>\u001b[0m in \u001b[0;36m<module>\u001b[0;34m()\u001b[0m\n\u001b[1;32m      5\u001b[0m \u001b[0;34m\u001b[0m\u001b[0m\n\u001b[1;32m      6\u001b[0m rp_Pboot,wp_p_Pboot,wp_p_err_Pboot,cov_Pboot,wp_arr_Pboot = w.auto_wp(peas, rzpea, bins, pimax, m=100, \n\u001b[0;32m----> 7\u001b[0;31m                                                                  estimator='P',errtype='b')\n\u001b[0m\u001b[1;32m      8\u001b[0m \u001b[0mprint\u001b[0m\u001b[0;34m(\u001b[0m\u001b[0mstrftime\u001b[0m\u001b[0;34m(\u001b[0m\u001b[0;34m\"%Y-%m-%d %H:%M:%S\"\u001b[0m\u001b[0;34m,\u001b[0m \u001b[0mgmtime\u001b[0m\u001b[0;34m(\u001b[0m\u001b[0;34m)\u001b[0m\u001b[0;34m)\u001b[0m\u001b[0;34m)\u001b[0m\u001b[0;34m\u001b[0m\u001b[0m\n",
      "\u001b[0;32m/Users/ccardamone/Documents/research/papercalc/newpeas/clustcode/clustering/projected_correlation_functions.py\u001b[0m in \u001b[0;36mauto_wp\u001b[0;34m(data, randoms, bins, pimax, m, estimator, errtype)\u001b[0m\n\u001b[1;32m     26\u001b[0m         \u001b[0mwp\u001b[0m \u001b[0;34m=\u001b[0m \u001b[0mwp_dd\u001b[0m\u001b[0;34m(\u001b[0m\u001b[0mdata\u001b[0m\u001b[0;34m=\u001b[0m\u001b[0mdata\u001b[0m\u001b[0;34m,\u001b[0m \u001b[0mrandoms\u001b[0m\u001b[0;34m=\u001b[0m\u001b[0mrandoms\u001b[0m\u001b[0;34m,\u001b[0m \u001b[0mbins\u001b[0m\u001b[0;34m=\u001b[0m\u001b[0mbins\u001b[0m\u001b[0;34m,\u001b[0m \u001b[0mpimax\u001b[0m\u001b[0;34m=\u001b[0m\u001b[0mpimax\u001b[0m\u001b[0;34m,\u001b[0m \u001b[0mestimator\u001b[0m\u001b[0;34m=\u001b[0m\u001b[0mestimator\u001b[0m\u001b[0;34m)\u001b[0m\u001b[0;34m\u001b[0m\u001b[0m\n\u001b[1;32m     27\u001b[0m         \u001b[0;32mif\u001b[0m \u001b[0merrtype\u001b[0m\u001b[0;34m==\u001b[0m\u001b[0;34m'b'\u001b[0m\u001b[0;34m:\u001b[0m\u001b[0;34m\u001b[0m\u001b[0m\n\u001b[0;32m---> 28\u001b[0;31m                 \u001b[0mwp_err\u001b[0m\u001b[0;34m,\u001b[0m\u001b[0mcov\u001b[0m\u001b[0;34m,\u001b[0m\u001b[0mwp_arr\u001b[0m\u001b[0;34m=\u001b[0m\u001b[0mauto_bootstrap\u001b[0m\u001b[0;34m(\u001b[0m\u001b[0md\u001b[0m\u001b[0;34m=\u001b[0m\u001b[0mdata\u001b[0m\u001b[0;34m,\u001b[0m\u001b[0mr\u001b[0m\u001b[0;34m=\u001b[0m\u001b[0mrandoms\u001b[0m\u001b[0;34m,\u001b[0m\u001b[0mm\u001b[0m\u001b[0;34m=\u001b[0m\u001b[0mm\u001b[0m\u001b[0;34m,\u001b[0m\u001b[0mpimax\u001b[0m\u001b[0;34m=\u001b[0m\u001b[0mpimax\u001b[0m\u001b[0;34m,\u001b[0m\u001b[0mbins\u001b[0m\u001b[0;34m=\u001b[0m\u001b[0mbins\u001b[0m\u001b[0;34m,\u001b[0m\u001b[0mestimator\u001b[0m\u001b[0;34m=\u001b[0m\u001b[0mestimator\u001b[0m\u001b[0;34m)\u001b[0m\u001b[0;34m\u001b[0m\u001b[0m\n\u001b[0m\u001b[1;32m     29\u001b[0m         \u001b[0;32mif\u001b[0m \u001b[0merrtype\u001b[0m\u001b[0;34m==\u001b[0m\u001b[0;34m'j'\u001b[0m\u001b[0;34m:\u001b[0m\u001b[0;34m\u001b[0m\u001b[0m\n\u001b[1;32m     30\u001b[0m                 \u001b[0mwp_err\u001b[0m\u001b[0;34m,\u001b[0m\u001b[0mcov\u001b[0m\u001b[0;34m,\u001b[0m\u001b[0mwp_arr\u001b[0m\u001b[0;34m=\u001b[0m\u001b[0mauto_jackknife\u001b[0m\u001b[0;34m(\u001b[0m\u001b[0md\u001b[0m\u001b[0;34m=\u001b[0m\u001b[0mdata\u001b[0m\u001b[0;34m,\u001b[0m\u001b[0mr\u001b[0m\u001b[0;34m=\u001b[0m\u001b[0mrandoms\u001b[0m\u001b[0;34m,\u001b[0m\u001b[0mm\u001b[0m\u001b[0;34m=\u001b[0m\u001b[0mm\u001b[0m\u001b[0;34m,\u001b[0m\u001b[0mpimax\u001b[0m\u001b[0;34m=\u001b[0m\u001b[0mpimax\u001b[0m\u001b[0;34m,\u001b[0m\u001b[0mbins\u001b[0m\u001b[0;34m=\u001b[0m\u001b[0mbins\u001b[0m\u001b[0;34m,\u001b[0m\u001b[0mestimator\u001b[0m\u001b[0;34m=\u001b[0m\u001b[0mestimator\u001b[0m\u001b[0;34m)\u001b[0m\u001b[0;34m\u001b[0m\u001b[0m\n",
      "\u001b[0;32m/Users/ccardamone/Documents/research/papercalc/newpeas/clustcode/clustering/error.py\u001b[0m in \u001b[0;36mauto_bootstrap\u001b[0;34m(d, r, m, pimax, bins, estimator, covariance)\u001b[0m\n\u001b[1;32m     22\u001b[0m                 \u001b[0mprint\u001b[0m\u001b[0;34m(\u001b[0m\u001b[0mstr\u001b[0m\u001b[0;34m(\u001b[0m\u001b[0mi\u001b[0m\u001b[0;34m+\u001b[0m\u001b[0;36m1\u001b[0m\u001b[0;34m)\u001b[0m\u001b[0;34m,\u001b[0m\u001b[0;34m'/'\u001b[0m\u001b[0;34m,\u001b[0m\u001b[0mstr\u001b[0m\u001b[0;34m(\u001b[0m\u001b[0mm\u001b[0m\u001b[0;34m)\u001b[0m\u001b[0;34m)\u001b[0m\u001b[0;34m\u001b[0m\u001b[0m\n\u001b[1;32m     23\u001b[0m                 \u001b[0mdset\u001b[0m\u001b[0;34m=\u001b[0m\u001b[0mnp\u001b[0m\u001b[0;34m.\u001b[0m\u001b[0mrandom\u001b[0m\u001b[0;34m.\u001b[0m\u001b[0mchoice\u001b[0m\u001b[0;34m(\u001b[0m\u001b[0md\u001b[0m\u001b[0;34m,\u001b[0m\u001b[0msize\u001b[0m\u001b[0;34m=\u001b[0m\u001b[0mlen\u001b[0m\u001b[0;34m(\u001b[0m\u001b[0md\u001b[0m\u001b[0;34m)\u001b[0m\u001b[0;34m,\u001b[0m\u001b[0mreplace\u001b[0m\u001b[0;34m=\u001b[0m\u001b[0;32mTrue\u001b[0m\u001b[0;34m,\u001b[0m\u001b[0mp\u001b[0m\u001b[0;34m=\u001b[0m\u001b[0;32mNone\u001b[0m\u001b[0;34m)\u001b[0m\u001b[0;34m\u001b[0m\u001b[0m\n\u001b[0;32m---> 24\u001b[0;31m                 \u001b[0mwp_t\u001b[0m \u001b[0;34m=\u001b[0m \u001b[0mwp_dd\u001b[0m\u001b[0;34m(\u001b[0m\u001b[0mdata\u001b[0m\u001b[0;34m=\u001b[0m\u001b[0mdset\u001b[0m\u001b[0;34m,\u001b[0m\u001b[0mrandoms\u001b[0m\u001b[0;34m=\u001b[0m\u001b[0mr\u001b[0m\u001b[0;34m,\u001b[0m\u001b[0mpimax\u001b[0m\u001b[0;34m=\u001b[0m\u001b[0mpimax\u001b[0m\u001b[0;34m,\u001b[0m\u001b[0mbins\u001b[0m\u001b[0;34m=\u001b[0m\u001b[0mbins\u001b[0m\u001b[0;34m,\u001b[0m\u001b[0mestimator\u001b[0m\u001b[0;34m=\u001b[0m\u001b[0mestimator\u001b[0m\u001b[0;34m)\u001b[0m\u001b[0;34m\u001b[0m\u001b[0m\n\u001b[0m\u001b[1;32m     25\u001b[0m                 \u001b[0mwp_arr\u001b[0m\u001b[0;34m=\u001b[0m\u001b[0mnp\u001b[0m\u001b[0;34m.\u001b[0m\u001b[0mvstack\u001b[0m\u001b[0;34m(\u001b[0m\u001b[0;34m(\u001b[0m\u001b[0mwp_arr\u001b[0m\u001b[0;34m,\u001b[0m\u001b[0mwp_t\u001b[0m\u001b[0;34m)\u001b[0m\u001b[0;34m)\u001b[0m\u001b[0;34m\u001b[0m\u001b[0m\n\u001b[1;32m     26\u001b[0m         \u001b[0mwp_arr\u001b[0m\u001b[0;34m=\u001b[0m\u001b[0mwp_arr\u001b[0m\u001b[0;34m[\u001b[0m\u001b[0;36m1\u001b[0m\u001b[0;34m:\u001b[0m\u001b[0;34m]\u001b[0m\u001b[0;34m\u001b[0m\u001b[0m\n",
      "\u001b[0;32m/Users/ccardamone/Documents/research/papercalc/newpeas/clustcode/clustering/utils.py\u001b[0m in \u001b[0;36mwp_dd\u001b[0;34m(data, randoms, bins, pimax, estimator)\u001b[0m\n\u001b[1;32m    155\u001b[0m         \u001b[0mdd\u001b[0m \u001b[0;34m=\u001b[0m \u001b[0mpair_count\u001b[0m\u001b[0;34m(\u001b[0m\u001b[0mbins\u001b[0m\u001b[0;34m,\u001b[0m\u001b[0mpimax\u001b[0m\u001b[0;34m,\u001b[0m\u001b[0mdata\u001b[0m\u001b[0;34m[\u001b[0m\u001b[0;34m'ra'\u001b[0m\u001b[0;34m]\u001b[0m\u001b[0;34m,\u001b[0m\u001b[0mdata\u001b[0m\u001b[0;34m[\u001b[0m\u001b[0;34m'dec'\u001b[0m\u001b[0;34m]\u001b[0m\u001b[0;34m,\u001b[0m\u001b[0mdata\u001b[0m\u001b[0;34m[\u001b[0m\u001b[0;34m'cdist'\u001b[0m\u001b[0;34m]\u001b[0m\u001b[0;34m,\u001b[0m\u001b[0mra2\u001b[0m\u001b[0;34m=\u001b[0m\u001b[0;32mNone\u001b[0m\u001b[0;34m,\u001b[0m\u001b[0mdec2\u001b[0m\u001b[0;34m=\u001b[0m\u001b[0;32mNone\u001b[0m\u001b[0;34m,\u001b[0m\u001b[0mcd2\u001b[0m\u001b[0;34m=\u001b[0m\u001b[0;32mNone\u001b[0m\u001b[0;34m)\u001b[0m\u001b[0;34m\u001b[0m\u001b[0m\n\u001b[1;32m    156\u001b[0m         \u001b[0mdr\u001b[0m \u001b[0;34m=\u001b[0m \u001b[0mpair_count\u001b[0m\u001b[0;34m(\u001b[0m\u001b[0mbins\u001b[0m\u001b[0;34m,\u001b[0m\u001b[0mpimax\u001b[0m\u001b[0;34m,\u001b[0m\u001b[0mdata\u001b[0m\u001b[0;34m[\u001b[0m\u001b[0;34m'ra'\u001b[0m\u001b[0;34m]\u001b[0m\u001b[0;34m,\u001b[0m\u001b[0mdata\u001b[0m\u001b[0;34m[\u001b[0m\u001b[0;34m'dec'\u001b[0m\u001b[0;34m]\u001b[0m\u001b[0;34m,\u001b[0m\u001b[0mdata\u001b[0m\u001b[0;34m[\u001b[0m\u001b[0;34m'cdist'\u001b[0m\u001b[0;34m]\u001b[0m\u001b[0;34m,\u001b[0m\u001b[0mra2\u001b[0m\u001b[0;34m=\u001b[0m\u001b[0mrandoms\u001b[0m\u001b[0;34m[\u001b[0m\u001b[0;34m'ra'\u001b[0m\u001b[0;34m]\u001b[0m\u001b[0;34m,\u001b[0m\u001b[0mdec2\u001b[0m\u001b[0;34m=\u001b[0m\u001b[0mrandoms\u001b[0m\u001b[0;34m[\u001b[0m\u001b[0;34m'dec'\u001b[0m\u001b[0;34m]\u001b[0m\u001b[0;34m,\u001b[0m\u001b[0mcd2\u001b[0m\u001b[0;34m=\u001b[0m\u001b[0mrandoms\u001b[0m\u001b[0;34m[\u001b[0m\u001b[0;34m'cdist'\u001b[0m\u001b[0;34m]\u001b[0m\u001b[0;34m)\u001b[0m\u001b[0;34m\u001b[0m\u001b[0m\n\u001b[0;32m--> 157\u001b[0;31m         \u001b[0mrr\u001b[0m \u001b[0;34m=\u001b[0m \u001b[0mpair_count\u001b[0m\u001b[0;34m(\u001b[0m\u001b[0mbins\u001b[0m\u001b[0;34m,\u001b[0m\u001b[0mpimax\u001b[0m\u001b[0;34m,\u001b[0m\u001b[0mrandoms\u001b[0m\u001b[0;34m[\u001b[0m\u001b[0;34m'ra'\u001b[0m\u001b[0;34m]\u001b[0m\u001b[0;34m,\u001b[0m\u001b[0mrandoms\u001b[0m\u001b[0;34m[\u001b[0m\u001b[0;34m'dec'\u001b[0m\u001b[0;34m]\u001b[0m\u001b[0;34m,\u001b[0m\u001b[0mrandoms\u001b[0m\u001b[0;34m[\u001b[0m\u001b[0;34m'cdist'\u001b[0m\u001b[0;34m]\u001b[0m\u001b[0;34m,\u001b[0m\u001b[0mra2\u001b[0m\u001b[0;34m=\u001b[0m\u001b[0;32mNone\u001b[0m\u001b[0;34m,\u001b[0m\u001b[0mdec2\u001b[0m\u001b[0;34m=\u001b[0m\u001b[0;32mNone\u001b[0m\u001b[0;34m,\u001b[0m\u001b[0mcd2\u001b[0m\u001b[0;34m=\u001b[0m\u001b[0;32mNone\u001b[0m\u001b[0;34m)\u001b[0m\u001b[0;34m\u001b[0m\u001b[0m\n\u001b[0m\u001b[1;32m    158\u001b[0m \u001b[0;34m\u001b[0m\u001b[0m\n\u001b[1;32m    159\u001b[0m         \u001b[0mnd\u001b[0m \u001b[0;34m=\u001b[0m \u001b[0mlen\u001b[0m\u001b[0;34m(\u001b[0m\u001b[0mdata\u001b[0m\u001b[0;34m)\u001b[0m\u001b[0;34m\u001b[0m\u001b[0m\n",
      "\u001b[0;32m/Users/ccardamone/Documents/research/papercalc/newpeas/clustcode/clustering/utils.py\u001b[0m in \u001b[0;36mpair_count\u001b[0;34m(rpbins, pimax, ra1, dec1, cd1, ra2, dec2, cd2, nthreads)\u001b[0m\n\u001b[1;32m     22\u001b[0m         \u001b[0;32mif\u001b[0m \u001b[0mra2\u001b[0m \u001b[0;32mis\u001b[0m \u001b[0;32mNone\u001b[0m\u001b[0;34m:\u001b[0m\u001b[0;34m\u001b[0m\u001b[0m\n\u001b[1;32m     23\u001b[0m \t\tnn = DDrppi_mocks(autocorr=1, cosmology=1, nthreads=nthreads, pimax=pimax, binfile=rpbins, RA1=d1ra, DEC1=d1dec,\\\n\u001b[0;32m---> 24\u001b[0;31m \t\t\t\t\t\t  CZ1=d1cd, is_comoving_dist=True, output_rpavg=True, verbose=True)\n\u001b[0m\u001b[1;32m     25\u001b[0m \u001b[0;34m\u001b[0m\u001b[0m\n\u001b[1;32m     26\u001b[0m         \u001b[0;32melse\u001b[0m\u001b[0;34m:\u001b[0m\u001b[0;34m\u001b[0m\u001b[0m\n",
      "\u001b[0;32m/Users/ccardamone/anaconda/lib/python3.5/site-packages/Corrfunc/mocks/DDrppi_mocks.py\u001b[0m in \u001b[0;36mDDrppi_mocks\u001b[0;34m(autocorr, cosmology, nthreads, pimax, binfile, RA1, DEC1, CZ1, weights1, RA2, DEC2, CZ2, weights2, is_comoving_dist, verbose, output_rpavg, fast_divide, xbin_refine_factor, ybin_refine_factor, zbin_refine_factor, max_cells_per_dim, c_api_timer, isa, weight_type)\u001b[0m\n\u001b[1;32m    360\u001b[0m                                          \u001b[0mmax_cells_per_dim\u001b[0m\u001b[0;34m=\u001b[0m\u001b[0mmax_cells_per_dim\u001b[0m\u001b[0;34m,\u001b[0m\u001b[0;34m\u001b[0m\u001b[0m\n\u001b[1;32m    361\u001b[0m                                          \u001b[0mc_api_timer\u001b[0m\u001b[0;34m=\u001b[0m\u001b[0mc_api_timer\u001b[0m\u001b[0;34m,\u001b[0m\u001b[0;34m\u001b[0m\u001b[0m\n\u001b[0;32m--> 362\u001b[0;31m                                          isa=integer_isa, **kwargs)\n\u001b[0m\u001b[1;32m    363\u001b[0m     \u001b[0;32mif\u001b[0m \u001b[0mextn_results\u001b[0m \u001b[0;32mis\u001b[0m \u001b[0;32mNone\u001b[0m\u001b[0;34m:\u001b[0m\u001b[0;34m\u001b[0m\u001b[0m\n\u001b[1;32m    364\u001b[0m         \u001b[0mmsg\u001b[0m \u001b[0;34m=\u001b[0m \u001b[0;34m\"RuntimeError occurred\"\u001b[0m\u001b[0;34m\u001b[0m\u001b[0m\n",
      "\u001b[0;31mTypeError\u001b[0m: 'NoneType' object is not iterable"
     ]
    }
   ],
   "source": [
    "##Randoms not randomized in RA/Dec\n",
    "pimax=60\n",
    "bins = np.array([.1,.5,1,3,6,8,10,20,40,60,100])\n",
    "print(strftime(\"%Y-%m-%d %H:%M:%S\", gmtime()))\n",
    "\n",
    "rp_Pboot,wp_p_Pboot,wp_p_err_Pboot,cov_Pboot,wp_arr_Pboot = w.auto_wp(peas, rzpea, bins, pimax, m=100, \n",
    "                                                                 estimator='P',errtype='b')\n",
    "print(strftime(\"%Y-%m-%d %H:%M:%S\", gmtime()))\n"
   ]
  },
  {
   "cell_type": "code",
   "execution_count": 17,
   "metadata": {
    "collapsed": true
   },
   "outputs": [],
   "source": [
    "np.save('output/rp_PpeaACF',rp_Pboot)\n",
    "np.save('output/wp_p_PpeaACF',wp_p_Pboot,)\n",
    "np.save('output/wp_p_err_PpeaACF',wp_p_err_Pboot)\n",
    "np.save('output/cov_PpeaACF',cov_Pboot)\n",
    "np.save('output/wp_arr_PpeaACF.npy', wp_arr_Pboot)"
   ]
  },
  {
   "cell_type": "code",
   "execution_count": 12,
   "metadata": {},
   "outputs": [
    {
     "name": "stdout",
     "output_type": "stream",
     "text": [
      "beginning Bootstrap\n",
      "1 / 100\n",
      "2 / 100\n",
      "3 / 100\n",
      "4 / 100\n",
      "5 / 100\n",
      "6 / 100\n",
      "7 / 100\n",
      "8 / 100\n",
      "9 / 100\n",
      "10 / 100\n",
      "11 / 100\n",
      "12 / 100\n",
      "13 / 100\n",
      "14 / 100\n",
      "15 / 100\n",
      "16 / 100\n",
      "17 / 100\n",
      "18 / 100\n",
      "19 / 100\n",
      "20 / 100\n",
      "21 / 100\n",
      "22 / 100\n",
      "23 / 100\n",
      "24 / 100\n",
      "25 / 100\n",
      "26 / 100\n",
      "27 / 100\n",
      "28 / 100\n",
      "29 / 100\n",
      "30 / 100\n",
      "31 / 100\n",
      "32 / 100\n",
      "33 / 100\n",
      "34 / 100\n",
      "35 / 100\n",
      "36 / 100\n",
      "37 / 100\n",
      "38 / 100\n",
      "39 / 100\n",
      "40 / 100\n",
      "41 / 100\n",
      "42 / 100\n",
      "43 / 100\n",
      "44 / 100\n",
      "45 / 100\n",
      "46 / 100\n",
      "47 / 100\n",
      "48 / 100\n",
      "49 / 100\n",
      "50 / 100\n",
      "51 / 100\n",
      "52 / 100\n",
      "53 / 100\n",
      "54 / 100\n",
      "55 / 100\n",
      "56 / 100\n",
      "57 / 100\n",
      "58 / 100\n",
      "59 / 100\n",
      "60 / 100\n",
      "61 / 100\n",
      "62 / 100\n",
      "63 / 100\n",
      "64 / 100\n",
      "65 / 100\n",
      "66 / 100\n",
      "67 / 100\n",
      "68 / 100\n",
      "69 / 100\n",
      "70 / 100\n",
      "71 / 100\n",
      "72 / 100\n",
      "73 / 100\n",
      "74 / 100\n",
      "75 / 100\n",
      "76 / 100\n",
      "77 / 100\n",
      "78 / 100\n",
      "79 / 100\n",
      "80 / 100\n",
      "81 / 100\n",
      "82 / 100\n",
      "83 / 100\n",
      "84 / 100\n",
      "85 / 100\n",
      "86 / 100\n",
      "87 / 100\n",
      "88 / 100\n",
      "89 / 100\n",
      "90 / 100\n",
      "91 / 100\n",
      "92 / 100\n",
      "93 / 100\n",
      "94 / 100\n",
      "95 / 100\n",
      "96 / 100\n",
      "97 / 100\n",
      "98 / 100\n",
      "99 / 100\n",
      "100 / 100\n"
     ]
    }
   ],
   "source": [
    "pimax=60\n",
    "bins = np.array([.1,.5,1,3,6,8,10,20,40,60,100])\n",
    "\n",
    "rp_Lboot,wp_p_Lboot,wp_p_err_Lboot,cov_Lboot,wp_arr_Lboot = w.auto_wp(peas, rzpea, bins, pimax, m=100, \n",
    "                                                                 estimator='L',errtype='b')\n"
   ]
  },
  {
   "cell_type": "code",
   "execution_count": 16,
   "metadata": {
    "collapsed": true
   },
   "outputs": [],
   "source": [
    "np.save('output/rp_LpeaACF',rp_Lboot)\n",
    "np.save('output/wp_p_LpeaACF',wp_p_Lboot,)\n",
    "np.save('output/wp_p_err_LpeaACF',wp_p_err_Lboot)\n",
    "np.save('output/cov_LpeaACF',cov_Lboot)\n",
    "np.save('output/wp_arr_LpeaACF.npy', wp_arr_Lboot)"
   ]
  },
  {
   "cell_type": "markdown",
   "metadata": {},
   "source": [
    "testing Jackknife vs. Bootstrap results"
   ]
  },
  {
   "cell_type": "code",
   "execution_count": 13,
   "metadata": {},
   "outputs": [
    {
     "name": "stdout",
     "output_type": "stream",
     "text": [
      "Warning: found negative RA values, wrapping into [0.0, 360.0]  range\n",
      "Warning: found negative RA values, wrapping into [0.0, 360.0]  range\n",
      "beginning jackknifes\n",
      "0 0 0 72.0 -90.0 -36.86989764584402\n",
      "0 0 0 72.0 -36.86989764584402 -11.536959032815485\n",
      "55 27021 0 72.0 -11.536959032815485 11.536959032815492\n",
      "59 29779 0 72.0 11.536959032815492 36.86989764584403\n",
      "0 0 0 72.0 36.86989764584403 90.0\n",
      "0 0 72.0 144.0 -90.0 -36.86989764584402\n",
      "0 0 72.0 144.0 -36.86989764584402 -11.536959032815485\n",
      "15 7590 72.0 144.0 -11.536959032815485 11.536959032815492\n",
      "34 17586 72.0 144.0 11.536959032815492 36.86989764584403\n",
      "31 15435 72.0 144.0 36.86989764584403 90.0\n",
      "0 0 144.0 216.0 -90.0 -36.86989764584402\n",
      "0 0 144.0 216.0 -36.86989764584402 -11.536959032815485\n",
      "29 14524 144.0 216.0 -11.536959032815485 11.536959032815492\n",
      "62 30955 144.0 216.0 11.536959032815492 36.86989764584403\n",
      "90 44950 144.0 216.0 36.86989764584403 90.0\n",
      "0 0 216.0 288.0 -90.0 -36.86989764584402\n",
      "0 0 216.0 288.0 -36.86989764584402 -11.536959032815485\n",
      "19 9759 216.0 288.0 -11.536959032815485 11.536959032815492\n",
      "24 10854 216.0 288.0 11.536959032815492 36.86989764584403\n",
      "26 13057 216.0 288.0 36.86989764584403 90.0\n",
      "0 0 288.0 360.0 -90.0 -36.86989764584402\n",
      "0 106 288.0 360.0 -36.86989764584402 -11.536959032815485\n",
      "29 14637 288.0 360.0 -11.536959032815485 11.536959032815492\n",
      "6 2866 288.0 360.0 11.536959032815492 36.86989764584403\n",
      "0 0 288.0 360.0 36.86989764584403 90.0\n",
      "Number of blocks:  13\n",
      "1 / 13\n",
      "2 / 13\n",
      "3 / 13\n",
      "4 / 13\n",
      "5 / 13\n",
      "6 / 13\n",
      "7 / 13\n",
      "8 / 13\n",
      "9 / 13\n",
      "10 / 13\n",
      "11 / 13\n",
      "12 / 13\n",
      "13 / 13\n"
     ]
    }
   ],
   "source": [
    "# computing errors to autocorrelation points (w_p) as a function of r_p\n",
    "# errors are wrong ... \n",
    "#   jackknife code:  pieces of the sky are cut and kept only if objects in them\n",
    "#   Boostrap code: sigma & covarance need to be edited....\n",
    "## m = 5 number of bootstraps or jackniges\n",
    "bins = np.array([.1,.5,1,3,6,8,10,15,20,30,40,50,60,80,100])\n",
    "\n",
    "rp_jack,wp_p_jack,wp_p_err_jack,cov_jack,wp_arr_jack = w.auto_wp(peas, rzpea, bins, pimax, m=5, \n",
    "                                                                 estimator='P',errtype='j')"
   ]
  },
  {
   "cell_type": "code",
   "execution_count": null,
   "metadata": {
    "collapsed": true
   },
   "outputs": [],
   "source": []
  },
  {
   "cell_type": "code",
   "execution_count": 9,
   "metadata": {
    "scrolled": true
   },
   "outputs": [
    {
     "name": "stdout",
     "output_type": "stream",
     "text": [
      "Warning: found negative RA values, wrapping into [0.0, 360.0]  range\n",
      "beginning Bootstrap\n",
      "1 / 2\n",
      "Warning: found negative RA values, wrapping into [0.0, 360.0]  range\n",
      "2 / 2\n",
      "Warning: found negative RA values, wrapping into [0.0, 360.0]  range\n"
     ]
    }
   ],
   "source": []
  },
  {
   "cell_type": "code",
   "execution_count": 18,
   "metadata": {
    "collapsed": true
   },
   "outputs": [],
   "source": [
    "## Save the variables from the run\n",
    "np.save('output/rp_jack',rp_jack)\n",
    "np.save('output/wp_p_jack', wp_p_jack)\n",
    "np.save('output/wp_p_err_jack',wp_p_err_jack)\n",
    "np.save('output/cov_jack',cov_jack)\n",
    "np.save('output/wp_arr_jack.npy', wp_arr_jack)\n"
   ]
  },
  {
   "cell_type": "code",
   "execution_count": 10,
   "metadata": {},
   "outputs": [
    {
     "name": "stdout",
     "output_type": "stream",
     "text": [
      "Warning: found negative RA values, wrapping into [0.0, 360.0]  range\n",
      "Warning: found negative RA values, wrapping into [0.0, 360.0]  range\n",
      "beginning Bootstrap\n",
      "1 / 100\n",
      "Warning: found negative RA values, wrapping into [0.0, 360.0]  range\n",
      "Warning: found negative RA values, wrapping into [0.0, 360.0]  range\n",
      "2 / 100\n",
      "Warning: found negative RA values, wrapping into [0.0, 360.0]  range\n",
      "Warning: found negative RA values, wrapping into [0.0, 360.0]  range\n",
      "3 / 100\n",
      "Warning: found negative RA values, wrapping into [0.0, 360.0]  range\n",
      "Warning: found negative RA values, wrapping into [0.0, 360.0]  range\n",
      "4 / 100\n",
      "Warning: found negative RA values, wrapping into [0.0, 360.0]  range\n",
      "Warning: found negative RA values, wrapping into [0.0, 360.0]  range\n",
      "5 / 100\n",
      "Warning: found negative RA values, wrapping into [0.0, 360.0]  range\n",
      "Warning: found negative RA values, wrapping into [0.0, 360.0]  range\n",
      "6 / 100\n",
      "Warning: found negative RA values, wrapping into [0.0, 360.0]  range\n",
      "Warning: found negative RA values, wrapping into [0.0, 360.0]  range\n",
      "7 / 100\n",
      "Warning: found negative RA values, wrapping into [0.0, 360.0]  range\n",
      "Warning: found negative RA values, wrapping into [0.0, 360.0]  range\n",
      "8 / 100\n",
      "Warning: found negative RA values, wrapping into [0.0, 360.0]  range\n",
      "Warning: found negative RA values, wrapping into [0.0, 360.0]  range\n",
      "9 / 100\n",
      "Warning: found negative RA values, wrapping into [0.0, 360.0]  range\n",
      "Warning: found negative RA values, wrapping into [0.0, 360.0]  range\n",
      "10 / 100\n",
      "Warning: found negative RA values, wrapping into [0.0, 360.0]  range\n",
      "Warning: found negative RA values, wrapping into [0.0, 360.0]  range\n",
      "11 / 100\n",
      "Warning: found negative RA values, wrapping into [0.0, 360.0]  range\n",
      "Warning: found negative RA values, wrapping into [0.0, 360.0]  range\n",
      "12 / 100\n",
      "Warning: found negative RA values, wrapping into [0.0, 360.0]  range\n",
      "Warning: found negative RA values, wrapping into [0.0, 360.0]  range\n",
      "13 / 100\n",
      "Warning: found negative RA values, wrapping into [0.0, 360.0]  range\n",
      "Warning: found negative RA values, wrapping into [0.0, 360.0]  range\n",
      "14 / 100\n",
      "Warning: found negative RA values, wrapping into [0.0, 360.0]  range\n",
      "Warning: found negative RA values, wrapping into [0.0, 360.0]  range\n",
      "15 / 100\n",
      "Warning: found negative RA values, wrapping into [0.0, 360.0]  range\n",
      "Warning: found negative RA values, wrapping into [0.0, 360.0]  range\n",
      "16 / 100\n",
      "Warning: found negative RA values, wrapping into [0.0, 360.0]  range\n",
      "Warning: found negative RA values, wrapping into [0.0, 360.0]  range\n",
      "17 / 100\n",
      "Warning: found negative RA values, wrapping into [0.0, 360.0]  range\n",
      "Warning: found negative RA values, wrapping into [0.0, 360.0]  range\n",
      "18 / 100\n",
      "Warning: found negative RA values, wrapping into [0.0, 360.0]  range\n",
      "Warning: found negative RA values, wrapping into [0.0, 360.0]  range\n",
      "19 / 100\n",
      "Warning: found negative RA values, wrapping into [0.0, 360.0]  range\n",
      "Warning: found negative RA values, wrapping into [0.0, 360.0]  range\n",
      "20 / 100\n",
      "Warning: found negative RA values, wrapping into [0.0, 360.0]  range\n",
      "Warning: found negative RA values, wrapping into [0.0, 360.0]  range\n",
      "21 / 100\n",
      "Warning: found negative RA values, wrapping into [0.0, 360.0]  range\n",
      "Warning: found negative RA values, wrapping into [0.0, 360.0]  range\n",
      "22 / 100\n",
      "Warning: found negative RA values, wrapping into [0.0, 360.0]  range\n",
      "Warning: found negative RA values, wrapping into [0.0, 360.0]  range\n",
      "23 / 100\n",
      "Warning: found negative RA values, wrapping into [0.0, 360.0]  range\n",
      "Warning: found negative RA values, wrapping into [0.0, 360.0]  range\n",
      "24 / 100\n",
      "Warning: found negative RA values, wrapping into [0.0, 360.0]  range\n",
      "Warning: found negative RA values, wrapping into [0.0, 360.0]  range\n",
      "25 / 100\n",
      "Warning: found negative RA values, wrapping into [0.0, 360.0]  range\n",
      "Warning: found negative RA values, wrapping into [0.0, 360.0]  range\n",
      "26 / 100\n",
      "Warning: found negative RA values, wrapping into [0.0, 360.0]  range\n",
      "Warning: found negative RA values, wrapping into [0.0, 360.0]  range\n",
      "27 / 100\n",
      "Warning: found negative RA values, wrapping into [0.0, 360.0]  range\n",
      "Warning: found negative RA values, wrapping into [0.0, 360.0]  range\n",
      "28 / 100\n",
      "Warning: found negative RA values, wrapping into [0.0, 360.0]  range\n",
      "Warning: found negative RA values, wrapping into [0.0, 360.0]  range\n",
      "29 / 100\n",
      "Warning: found negative RA values, wrapping into [0.0, 360.0]  range\n",
      "Warning: found negative RA values, wrapping into [0.0, 360.0]  range\n",
      "30 / 100\n",
      "Warning: found negative RA values, wrapping into [0.0, 360.0]  range\n",
      "Warning: found negative RA values, wrapping into [0.0, 360.0]  range\n",
      "31 / 100\n",
      "Warning: found negative RA values, wrapping into [0.0, 360.0]  range\n",
      "Warning: found negative RA values, wrapping into [0.0, 360.0]  range\n",
      "32 / 100\n",
      "Warning: found negative RA values, wrapping into [0.0, 360.0]  range\n",
      "Warning: found negative RA values, wrapping into [0.0, 360.0]  range\n",
      "33 / 100\n",
      "Warning: found negative RA values, wrapping into [0.0, 360.0]  range\n",
      "Warning: found negative RA values, wrapping into [0.0, 360.0]  range\n",
      "34 / 100\n",
      "Warning: found negative RA values, wrapping into [0.0, 360.0]  range\n",
      "Warning: found negative RA values, wrapping into [0.0, 360.0]  range\n",
      "35 / 100\n",
      "Warning: found negative RA values, wrapping into [0.0, 360.0]  range\n",
      "Warning: found negative RA values, wrapping into [0.0, 360.0]  range\n",
      "36 / 100\n",
      "Warning: found negative RA values, wrapping into [0.0, 360.0]  range\n",
      "Warning: found negative RA values, wrapping into [0.0, 360.0]  range\n",
      "37 / 100\n",
      "Warning: found negative RA values, wrapping into [0.0, 360.0]  range\n",
      "Warning: found negative RA values, wrapping into [0.0, 360.0]  range\n",
      "38 / 100\n",
      "Warning: found negative RA values, wrapping into [0.0, 360.0]  range\n",
      "Warning: found negative RA values, wrapping into [0.0, 360.0]  range\n",
      "39 / 100\n",
      "Warning: found negative RA values, wrapping into [0.0, 360.0]  range\n",
      "Warning: found negative RA values, wrapping into [0.0, 360.0]  range\n",
      "40 / 100\n",
      "Warning: found negative RA values, wrapping into [0.0, 360.0]  range\n",
      "Warning: found negative RA values, wrapping into [0.0, 360.0]  range\n",
      "41 / 100\n",
      "Warning: found negative RA values, wrapping into [0.0, 360.0]  range\n",
      "Warning: found negative RA values, wrapping into [0.0, 360.0]  range\n",
      "42 / 100\n",
      "Warning: found negative RA values, wrapping into [0.0, 360.0]  range\n",
      "Warning: found negative RA values, wrapping into [0.0, 360.0]  range\n",
      "43 / 100\n",
      "Warning: found negative RA values, wrapping into [0.0, 360.0]  range\n",
      "Warning: found negative RA values, wrapping into [0.0, 360.0]  range\n",
      "44 / 100\n",
      "Warning: found negative RA values, wrapping into [0.0, 360.0]  range\n",
      "Warning: found negative RA values, wrapping into [0.0, 360.0]  range\n",
      "45 / 100\n",
      "Warning: found negative RA values, wrapping into [0.0, 360.0]  range\n",
      "Warning: found negative RA values, wrapping into [0.0, 360.0]  range\n",
      "46 / 100\n",
      "Warning: found negative RA values, wrapping into [0.0, 360.0]  range\n",
      "Warning: found negative RA values, wrapping into [0.0, 360.0]  range\n",
      "47 / 100\n",
      "Warning: found negative RA values, wrapping into [0.0, 360.0]  range\n",
      "Warning: found negative RA values, wrapping into [0.0, 360.0]  range\n",
      "48 / 100\n",
      "Warning: found negative RA values, wrapping into [0.0, 360.0]  range\n",
      "Warning: found negative RA values, wrapping into [0.0, 360.0]  range\n",
      "49 / 100\n",
      "Warning: found negative RA values, wrapping into [0.0, 360.0]  range\n",
      "Warning: found negative RA values, wrapping into [0.0, 360.0]  range\n",
      "50 / 100\n",
      "Warning: found negative RA values, wrapping into [0.0, 360.0]  range\n",
      "Warning: found negative RA values, wrapping into [0.0, 360.0]  range\n",
      "51 / 100\n",
      "Warning: found negative RA values, wrapping into [0.0, 360.0]  range\n",
      "Warning: found negative RA values, wrapping into [0.0, 360.0]  range\n",
      "52 / 100\n",
      "Warning: found negative RA values, wrapping into [0.0, 360.0]  range\n",
      "Warning: found negative RA values, wrapping into [0.0, 360.0]  range\n",
      "53 / 100\n",
      "Warning: found negative RA values, wrapping into [0.0, 360.0]  range\n",
      "Warning: found negative RA values, wrapping into [0.0, 360.0]  range\n",
      "54 / 100\n",
      "Warning: found negative RA values, wrapping into [0.0, 360.0]  range\n",
      "Warning: found negative RA values, wrapping into [0.0, 360.0]  range\n",
      "55 / 100\n",
      "Warning: found negative RA values, wrapping into [0.0, 360.0]  range\n",
      "Warning: found negative RA values, wrapping into [0.0, 360.0]  range\n",
      "56 / 100\n",
      "Warning: found negative RA values, wrapping into [0.0, 360.0]  range\n",
      "Warning: found negative RA values, wrapping into [0.0, 360.0]  range\n",
      "57 / 100\n",
      "Warning: found negative RA values, wrapping into [0.0, 360.0]  range\n",
      "Warning: found negative RA values, wrapping into [0.0, 360.0]  range\n",
      "58 / 100\n",
      "Warning: found negative RA values, wrapping into [0.0, 360.0]  range\n",
      "Warning: found negative RA values, wrapping into [0.0, 360.0]  range\n",
      "59 / 100\n",
      "Warning: found negative RA values, wrapping into [0.0, 360.0]  range\n",
      "Warning: found negative RA values, wrapping into [0.0, 360.0]  range\n",
      "60 / 100\n",
      "Warning: found negative RA values, wrapping into [0.0, 360.0]  range\n",
      "Warning: found negative RA values, wrapping into [0.0, 360.0]  range\n",
      "61 / 100\n",
      "Warning: found negative RA values, wrapping into [0.0, 360.0]  range\n",
      "Warning: found negative RA values, wrapping into [0.0, 360.0]  range\n",
      "62 / 100\n",
      "Warning: found negative RA values, wrapping into [0.0, 360.0]  range\n",
      "Warning: found negative RA values, wrapping into [0.0, 360.0]  range\n",
      "63 / 100\n",
      "Warning: found negative RA values, wrapping into [0.0, 360.0]  range\n",
      "Warning: found negative RA values, wrapping into [0.0, 360.0]  range\n",
      "64 / 100\n",
      "Warning: found negative RA values, wrapping into [0.0, 360.0]  range\n",
      "Warning: found negative RA values, wrapping into [0.0, 360.0]  range\n",
      "65 / 100\n",
      "Warning: found negative RA values, wrapping into [0.0, 360.0]  range\n",
      "Warning: found negative RA values, wrapping into [0.0, 360.0]  range\n",
      "66 / 100\n",
      "Warning: found negative RA values, wrapping into [0.0, 360.0]  range\n",
      "Warning: found negative RA values, wrapping into [0.0, 360.0]  range\n",
      "67 / 100\n",
      "Warning: found negative RA values, wrapping into [0.0, 360.0]  range\n",
      "Warning: found negative RA values, wrapping into [0.0, 360.0]  range\n",
      "68 / 100\n",
      "Warning: found negative RA values, wrapping into [0.0, 360.0]  range\n",
      "Warning: found negative RA values, wrapping into [0.0, 360.0]  range\n",
      "69 / 100\n",
      "Warning: found negative RA values, wrapping into [0.0, 360.0]  range\n",
      "Warning: found negative RA values, wrapping into [0.0, 360.0]  range\n",
      "70 / 100\n",
      "Warning: found negative RA values, wrapping into [0.0, 360.0]  range\n",
      "Warning: found negative RA values, wrapping into [0.0, 360.0]  range\n",
      "71 / 100\n",
      "Warning: found negative RA values, wrapping into [0.0, 360.0]  range\n",
      "Warning: found negative RA values, wrapping into [0.0, 360.0]  range\n",
      "72 / 100\n",
      "Warning: found negative RA values, wrapping into [0.0, 360.0]  range\n",
      "Warning: found negative RA values, wrapping into [0.0, 360.0]  range\n",
      "73 / 100\n",
      "Warning: found negative RA values, wrapping into [0.0, 360.0]  range\n",
      "Warning: found negative RA values, wrapping into [0.0, 360.0]  range\n",
      "74 / 100\n",
      "Warning: found negative RA values, wrapping into [0.0, 360.0]  range\n",
      "Warning: found negative RA values, wrapping into [0.0, 360.0]  range\n",
      "75 / 100\n",
      "Warning: found negative RA values, wrapping into [0.0, 360.0]  range\n",
      "Warning: found negative RA values, wrapping into [0.0, 360.0]  range\n",
      "76 / 100\n",
      "Warning: found negative RA values, wrapping into [0.0, 360.0]  range\n",
      "Warning: found negative RA values, wrapping into [0.0, 360.0]  range\n",
      "77 / 100\n",
      "Warning: found negative RA values, wrapping into [0.0, 360.0]  range\n",
      "Warning: found negative RA values, wrapping into [0.0, 360.0]  range\n",
      "78 / 100\n",
      "Warning: found negative RA values, wrapping into [0.0, 360.0]  range\n",
      "Warning: found negative RA values, wrapping into [0.0, 360.0]  range\n",
      "79 / 100\n",
      "Warning: found negative RA values, wrapping into [0.0, 360.0]  range\n",
      "Warning: found negative RA values, wrapping into [0.0, 360.0]  range\n",
      "80 / 100\n",
      "Warning: found negative RA values, wrapping into [0.0, 360.0]  range\n",
      "Warning: found negative RA values, wrapping into [0.0, 360.0]  range\n",
      "81 / 100\n",
      "Warning: found negative RA values, wrapping into [0.0, 360.0]  range\n",
      "Warning: found negative RA values, wrapping into [0.0, 360.0]  range\n",
      "82 / 100\n",
      "Warning: found negative RA values, wrapping into [0.0, 360.0]  range\n",
      "Warning: found negative RA values, wrapping into [0.0, 360.0]  range\n",
      "83 / 100\n",
      "Warning: found negative RA values, wrapping into [0.0, 360.0]  range\n",
      "Warning: found negative RA values, wrapping into [0.0, 360.0]  range\n",
      "84 / 100\n",
      "Warning: found negative RA values, wrapping into [0.0, 360.0]  range\n",
      "Warning: found negative RA values, wrapping into [0.0, 360.0]  range\n",
      "85 / 100\n",
      "Warning: found negative RA values, wrapping into [0.0, 360.0]  range\n",
      "Warning: found negative RA values, wrapping into [0.0, 360.0]  range\n",
      "86 / 100\n",
      "Warning: found negative RA values, wrapping into [0.0, 360.0]  range\n",
      "Warning: found negative RA values, wrapping into [0.0, 360.0]  range\n",
      "87 / 100\n",
      "Warning: found negative RA values, wrapping into [0.0, 360.0]  range\n",
      "Warning: found negative RA values, wrapping into [0.0, 360.0]  range\n",
      "88 / 100\n",
      "Warning: found negative RA values, wrapping into [0.0, 360.0]  range\n",
      "Warning: found negative RA values, wrapping into [0.0, 360.0]  range\n",
      "89 / 100\n",
      "Warning: found negative RA values, wrapping into [0.0, 360.0]  range\n",
      "Warning: found negative RA values, wrapping into [0.0, 360.0]  range\n",
      "90 / 100\n",
      "Warning: found negative RA values, wrapping into [0.0, 360.0]  range\n",
      "Warning: found negative RA values, wrapping into [0.0, 360.0]  range\n",
      "91 / 100\n",
      "Warning: found negative RA values, wrapping into [0.0, 360.0]  range\n",
      "Warning: found negative RA values, wrapping into [0.0, 360.0]  range\n",
      "92 / 100\n",
      "Warning: found negative RA values, wrapping into [0.0, 360.0]  range\n",
      "Warning: found negative RA values, wrapping into [0.0, 360.0]  range\n",
      "93 / 100\n",
      "Warning: found negative RA values, wrapping into [0.0, 360.0]  range\n",
      "Warning: found negative RA values, wrapping into [0.0, 360.0]  range\n",
      "94 / 100\n",
      "Warning: found negative RA values, wrapping into [0.0, 360.0]  range\n",
      "Warning: found negative RA values, wrapping into [0.0, 360.0]  range\n",
      "95 / 100\n",
      "Warning: found negative RA values, wrapping into [0.0, 360.0]  range\n",
      "Warning: found negative RA values, wrapping into [0.0, 360.0]  range\n",
      "96 / 100\n",
      "Warning: found negative RA values, wrapping into [0.0, 360.0]  range\n",
      "Warning: found negative RA values, wrapping into [0.0, 360.0]  range\n",
      "97 / 100\n",
      "Warning: found negative RA values, wrapping into [0.0, 360.0]  range\n",
      "Warning: found negative RA values, wrapping into [0.0, 360.0]  range\n",
      "98 / 100\n",
      "Warning: found negative RA values, wrapping into [0.0, 360.0]  range\n",
      "Warning: found negative RA values, wrapping into [0.0, 360.0]  range\n",
      "99 / 100\n",
      "Warning: found negative RA values, wrapping into [0.0, 360.0]  range\n",
      "Warning: found negative RA values, wrapping into [0.0, 360.0]  range\n",
      "100 / 100\n",
      "Warning: found negative RA values, wrapping into [0.0, 360.0]  range\n",
      "Warning: found negative RA values, wrapping into [0.0, 360.0]  range\n"
     ]
    }
   ],
   "source": [
    "#Bootstrap errors version\n",
    "rp_boot,wp_p_boot,wp_p_err_boot,cov_boot,wp_arr_boot = w.auto_wp(peas, rzpea, bins, pimax, m=100, \n",
    "                                                                 estimator='P',errtype='b')\n"
   ]
  },
  {
   "cell_type": "code",
   "execution_count": 21,
   "metadata": {},
   "outputs": [
    {
     "name": "stdout",
     "output_type": "stream",
     "text": [
      "Warning: found negative RA values, wrapping into [0.0, 360.0]  range\n",
      "Warning: found negative RA values, wrapping into [0.0, 360.0]  range\n",
      "beginning Bootstrap\n",
      "1 / 100\n",
      "Warning: found negative RA values, wrapping into [0.0, 360.0]  range\n",
      "Warning: found negative RA values, wrapping into [0.0, 360.0]  range\n",
      "2 / 100\n",
      "Warning: found negative RA values, wrapping into [0.0, 360.0]  range\n",
      "Warning: found negative RA values, wrapping into [0.0, 360.0]  range\n",
      "3 / 100\n",
      "Warning: found negative RA values, wrapping into [0.0, 360.0]  range\n",
      "Warning: found negative RA values, wrapping into [0.0, 360.0]  range\n",
      "4 / 100\n",
      "Warning: found negative RA values, wrapping into [0.0, 360.0]  range\n",
      "Warning: found negative RA values, wrapping into [0.0, 360.0]  range\n",
      "5 / 100\n",
      "Warning: found negative RA values, wrapping into [0.0, 360.0]  range\n",
      "Warning: found negative RA values, wrapping into [0.0, 360.0]  range\n",
      "6 / 100\n",
      "Warning: found negative RA values, wrapping into [0.0, 360.0]  range\n",
      "Warning: found negative RA values, wrapping into [0.0, 360.0]  range\n",
      "7 / 100\n",
      "Warning: found negative RA values, wrapping into [0.0, 360.0]  range\n",
      "Warning: found negative RA values, wrapping into [0.0, 360.0]  range\n",
      "8 / 100\n",
      "Warning: found negative RA values, wrapping into [0.0, 360.0]  range\n",
      "Warning: found negative RA values, wrapping into [0.0, 360.0]  range\n",
      "9 / 100\n",
      "Warning: found negative RA values, wrapping into [0.0, 360.0]  range\n",
      "Warning: found negative RA values, wrapping into [0.0, 360.0]  range\n",
      "10 / 100\n",
      "Warning: found negative RA values, wrapping into [0.0, 360.0]  range\n",
      "Warning: found negative RA values, wrapping into [0.0, 360.0]  range\n",
      "11 / 100\n",
      "Warning: found negative RA values, wrapping into [0.0, 360.0]  range\n",
      "Warning: found negative RA values, wrapping into [0.0, 360.0]  range\n",
      "12 / 100\n",
      "Warning: found negative RA values, wrapping into [0.0, 360.0]  range\n",
      "Warning: found negative RA values, wrapping into [0.0, 360.0]  range\n",
      "13 / 100\n",
      "Warning: found negative RA values, wrapping into [0.0, 360.0]  range\n",
      "Warning: found negative RA values, wrapping into [0.0, 360.0]  range\n",
      "14 / 100\n",
      "Warning: found negative RA values, wrapping into [0.0, 360.0]  range\n",
      "Warning: found negative RA values, wrapping into [0.0, 360.0]  range\n",
      "15 / 100\n",
      "Warning: found negative RA values, wrapping into [0.0, 360.0]  range\n",
      "Warning: found negative RA values, wrapping into [0.0, 360.0]  range\n",
      "16 / 100\n",
      "Warning: found negative RA values, wrapping into [0.0, 360.0]  range\n",
      "Warning: found negative RA values, wrapping into [0.0, 360.0]  range\n",
      "17 / 100\n",
      "Warning: found negative RA values, wrapping into [0.0, 360.0]  range\n",
      "Warning: found negative RA values, wrapping into [0.0, 360.0]  range\n",
      "18 / 100\n",
      "Warning: found negative RA values, wrapping into [0.0, 360.0]  range\n",
      "Warning: found negative RA values, wrapping into [0.0, 360.0]  range\n",
      "19 / 100\n",
      "Warning: found negative RA values, wrapping into [0.0, 360.0]  range\n",
      "Warning: found negative RA values, wrapping into [0.0, 360.0]  range\n",
      "20 / 100\n",
      "Warning: found negative RA values, wrapping into [0.0, 360.0]  range\n",
      "Warning: found negative RA values, wrapping into [0.0, 360.0]  range\n",
      "21 / 100\n",
      "Warning: found negative RA values, wrapping into [0.0, 360.0]  range\n",
      "Warning: found negative RA values, wrapping into [0.0, 360.0]  range\n",
      "22 / 100\n",
      "Warning: found negative RA values, wrapping into [0.0, 360.0]  range\n",
      "Warning: found negative RA values, wrapping into [0.0, 360.0]  range\n",
      "23 / 100\n",
      "Warning: found negative RA values, wrapping into [0.0, 360.0]  range\n",
      "Warning: found negative RA values, wrapping into [0.0, 360.0]  range\n",
      "24 / 100\n",
      "Warning: found negative RA values, wrapping into [0.0, 360.0]  range\n",
      "Warning: found negative RA values, wrapping into [0.0, 360.0]  range\n",
      "25 / 100\n",
      "Warning: found negative RA values, wrapping into [0.0, 360.0]  range\n",
      "Warning: found negative RA values, wrapping into [0.0, 360.0]  range\n",
      "26 / 100\n",
      "Warning: found negative RA values, wrapping into [0.0, 360.0]  range\n",
      "Warning: found negative RA values, wrapping into [0.0, 360.0]  range\n",
      "27 / 100\n",
      "Warning: found negative RA values, wrapping into [0.0, 360.0]  range\n",
      "Warning: found negative RA values, wrapping into [0.0, 360.0]  range\n",
      "28 / 100\n",
      "Warning: found negative RA values, wrapping into [0.0, 360.0]  range\n",
      "Warning: found negative RA values, wrapping into [0.0, 360.0]  range\n",
      "29 / 100\n",
      "Warning: found negative RA values, wrapping into [0.0, 360.0]  range\n",
      "Warning: found negative RA values, wrapping into [0.0, 360.0]  range\n",
      "30 / 100\n",
      "Warning: found negative RA values, wrapping into [0.0, 360.0]  range\n",
      "Warning: found negative RA values, wrapping into [0.0, 360.0]  range\n",
      "31 / 100\n",
      "Warning: found negative RA values, wrapping into [0.0, 360.0]  range\n",
      "Warning: found negative RA values, wrapping into [0.0, 360.0]  range\n",
      "32 / 100\n",
      "Warning: found negative RA values, wrapping into [0.0, 360.0]  range\n",
      "Warning: found negative RA values, wrapping into [0.0, 360.0]  range\n",
      "33 / 100\n",
      "Warning: found negative RA values, wrapping into [0.0, 360.0]  range\n",
      "Warning: found negative RA values, wrapping into [0.0, 360.0]  range\n",
      "34 / 100\n",
      "Warning: found negative RA values, wrapping into [0.0, 360.0]  range\n",
      "Warning: found negative RA values, wrapping into [0.0, 360.0]  range\n",
      "35 / 100\n",
      "Warning: found negative RA values, wrapping into [0.0, 360.0]  range\n",
      "Warning: found negative RA values, wrapping into [0.0, 360.0]  range\n",
      "36 / 100\n",
      "Warning: found negative RA values, wrapping into [0.0, 360.0]  range\n",
      "Warning: found negative RA values, wrapping into [0.0, 360.0]  range\n",
      "37 / 100\n",
      "Warning: found negative RA values, wrapping into [0.0, 360.0]  range\n",
      "Warning: found negative RA values, wrapping into [0.0, 360.0]  range\n",
      "38 / 100\n",
      "Warning: found negative RA values, wrapping into [0.0, 360.0]  range\n",
      "Warning: found negative RA values, wrapping into [0.0, 360.0]  range\n",
      "39 / 100\n",
      "Warning: found negative RA values, wrapping into [0.0, 360.0]  range\n",
      "Warning: found negative RA values, wrapping into [0.0, 360.0]  range\n",
      "40 / 100\n",
      "Warning: found negative RA values, wrapping into [0.0, 360.0]  range\n",
      "Warning: found negative RA values, wrapping into [0.0, 360.0]  range\n",
      "41 / 100\n",
      "Warning: found negative RA values, wrapping into [0.0, 360.0]  range\n",
      "Warning: found negative RA values, wrapping into [0.0, 360.0]  range\n",
      "42 / 100\n",
      "Warning: found negative RA values, wrapping into [0.0, 360.0]  range\n",
      "Warning: found negative RA values, wrapping into [0.0, 360.0]  range\n",
      "43 / 100\n",
      "Warning: found negative RA values, wrapping into [0.0, 360.0]  range\n",
      "Warning: found negative RA values, wrapping into [0.0, 360.0]  range\n",
      "44 / 100\n",
      "Warning: found negative RA values, wrapping into [0.0, 360.0]  range\n",
      "Warning: found negative RA values, wrapping into [0.0, 360.0]  range\n",
      "45 / 100\n",
      "Warning: found negative RA values, wrapping into [0.0, 360.0]  range\n",
      "Warning: found negative RA values, wrapping into [0.0, 360.0]  range\n",
      "46 / 100\n",
      "Warning: found negative RA values, wrapping into [0.0, 360.0]  range\n",
      "Warning: found negative RA values, wrapping into [0.0, 360.0]  range\n",
      "47 / 100\n",
      "Warning: found negative RA values, wrapping into [0.0, 360.0]  range\n",
      "Warning: found negative RA values, wrapping into [0.0, 360.0]  range\n",
      "48 / 100\n",
      "Warning: found negative RA values, wrapping into [0.0, 360.0]  range\n",
      "Warning: found negative RA values, wrapping into [0.0, 360.0]  range\n",
      "49 / 100\n",
      "Warning: found negative RA values, wrapping into [0.0, 360.0]  range\n",
      "Warning: found negative RA values, wrapping into [0.0, 360.0]  range\n",
      "50 / 100\n",
      "Warning: found negative RA values, wrapping into [0.0, 360.0]  range\n",
      "Warning: found negative RA values, wrapping into [0.0, 360.0]  range\n",
      "51 / 100\n",
      "Warning: found negative RA values, wrapping into [0.0, 360.0]  range\n",
      "Warning: found negative RA values, wrapping into [0.0, 360.0]  range\n",
      "52 / 100\n",
      "Warning: found negative RA values, wrapping into [0.0, 360.0]  range\n",
      "Warning: found negative RA values, wrapping into [0.0, 360.0]  range\n",
      "53 / 100\n",
      "Warning: found negative RA values, wrapping into [0.0, 360.0]  range\n",
      "Warning: found negative RA values, wrapping into [0.0, 360.0]  range\n",
      "54 / 100\n",
      "Warning: found negative RA values, wrapping into [0.0, 360.0]  range\n",
      "Warning: found negative RA values, wrapping into [0.0, 360.0]  range\n",
      "55 / 100\n",
      "Warning: found negative RA values, wrapping into [0.0, 360.0]  range\n",
      "Warning: found negative RA values, wrapping into [0.0, 360.0]  range\n",
      "56 / 100\n",
      "Warning: found negative RA values, wrapping into [0.0, 360.0]  range\n",
      "Warning: found negative RA values, wrapping into [0.0, 360.0]  range\n",
      "57 / 100\n",
      "Warning: found negative RA values, wrapping into [0.0, 360.0]  range\n",
      "Warning: found negative RA values, wrapping into [0.0, 360.0]  range\n",
      "58 / 100\n",
      "Warning: found negative RA values, wrapping into [0.0, 360.0]  range\n",
      "Warning: found negative RA values, wrapping into [0.0, 360.0]  range\n",
      "59 / 100\n",
      "Warning: found negative RA values, wrapping into [0.0, 360.0]  range\n",
      "Warning: found negative RA values, wrapping into [0.0, 360.0]  range\n",
      "60 / 100\n",
      "Warning: found negative RA values, wrapping into [0.0, 360.0]  range\n",
      "Warning: found negative RA values, wrapping into [0.0, 360.0]  range\n",
      "61 / 100\n",
      "Warning: found negative RA values, wrapping into [0.0, 360.0]  range\n",
      "Warning: found negative RA values, wrapping into [0.0, 360.0]  range\n",
      "62 / 100\n",
      "Warning: found negative RA values, wrapping into [0.0, 360.0]  range\n",
      "Warning: found negative RA values, wrapping into [0.0, 360.0]  range\n",
      "63 / 100\n",
      "Warning: found negative RA values, wrapping into [0.0, 360.0]  range\n",
      "Warning: found negative RA values, wrapping into [0.0, 360.0]  range\n",
      "64 / 100\n",
      "Warning: found negative RA values, wrapping into [0.0, 360.0]  range\n",
      "Warning: found negative RA values, wrapping into [0.0, 360.0]  range\n",
      "65 / 100\n",
      "Warning: found negative RA values, wrapping into [0.0, 360.0]  range\n",
      "Warning: found negative RA values, wrapping into [0.0, 360.0]  range\n",
      "66 / 100\n",
      "Warning: found negative RA values, wrapping into [0.0, 360.0]  range\n",
      "Warning: found negative RA values, wrapping into [0.0, 360.0]  range\n",
      "67 / 100\n",
      "Warning: found negative RA values, wrapping into [0.0, 360.0]  range\n",
      "Warning: found negative RA values, wrapping into [0.0, 360.0]  range\n",
      "68 / 100\n",
      "Warning: found negative RA values, wrapping into [0.0, 360.0]  range\n",
      "Warning: found negative RA values, wrapping into [0.0, 360.0]  range\n",
      "69 / 100\n",
      "Warning: found negative RA values, wrapping into [0.0, 360.0]  range\n",
      "Warning: found negative RA values, wrapping into [0.0, 360.0]  range\n",
      "70 / 100\n",
      "Warning: found negative RA values, wrapping into [0.0, 360.0]  range\n",
      "Warning: found negative RA values, wrapping into [0.0, 360.0]  range\n",
      "71 / 100\n",
      "Warning: found negative RA values, wrapping into [0.0, 360.0]  range\n",
      "Warning: found negative RA values, wrapping into [0.0, 360.0]  range\n",
      "72 / 100\n",
      "Warning: found negative RA values, wrapping into [0.0, 360.0]  range\n",
      "Warning: found negative RA values, wrapping into [0.0, 360.0]  range\n",
      "73 / 100\n",
      "Warning: found negative RA values, wrapping into [0.0, 360.0]  range\n",
      "Warning: found negative RA values, wrapping into [0.0, 360.0]  range\n",
      "74 / 100\n",
      "Warning: found negative RA values, wrapping into [0.0, 360.0]  range\n",
      "Warning: found negative RA values, wrapping into [0.0, 360.0]  range\n",
      "75 / 100\n",
      "Warning: found negative RA values, wrapping into [0.0, 360.0]  range\n",
      "Warning: found negative RA values, wrapping into [0.0, 360.0]  range\n",
      "76 / 100\n",
      "Warning: found negative RA values, wrapping into [0.0, 360.0]  range\n",
      "Warning: found negative RA values, wrapping into [0.0, 360.0]  range\n",
      "77 / 100\n",
      "Warning: found negative RA values, wrapping into [0.0, 360.0]  range\n",
      "Warning: found negative RA values, wrapping into [0.0, 360.0]  range\n",
      "78 / 100\n",
      "Warning: found negative RA values, wrapping into [0.0, 360.0]  range\n",
      "Warning: found negative RA values, wrapping into [0.0, 360.0]  range\n",
      "79 / 100\n",
      "Warning: found negative RA values, wrapping into [0.0, 360.0]  range\n",
      "Warning: found negative RA values, wrapping into [0.0, 360.0]  range\n",
      "80 / 100\n",
      "Warning: found negative RA values, wrapping into [0.0, 360.0]  range\n",
      "Warning: found negative RA values, wrapping into [0.0, 360.0]  range\n",
      "81 / 100\n",
      "Warning: found negative RA values, wrapping into [0.0, 360.0]  range\n",
      "Warning: found negative RA values, wrapping into [0.0, 360.0]  range\n",
      "82 / 100\n",
      "Warning: found negative RA values, wrapping into [0.0, 360.0]  range\n",
      "Warning: found negative RA values, wrapping into [0.0, 360.0]  range\n",
      "83 / 100\n",
      "Warning: found negative RA values, wrapping into [0.0, 360.0]  range\n",
      "Warning: found negative RA values, wrapping into [0.0, 360.0]  range\n",
      "84 / 100\n",
      "Warning: found negative RA values, wrapping into [0.0, 360.0]  range\n",
      "Warning: found negative RA values, wrapping into [0.0, 360.0]  range\n",
      "85 / 100\n",
      "Warning: found negative RA values, wrapping into [0.0, 360.0]  range\n",
      "Warning: found negative RA values, wrapping into [0.0, 360.0]  range\n",
      "86 / 100\n",
      "Warning: found negative RA values, wrapping into [0.0, 360.0]  range\n",
      "Warning: found negative RA values, wrapping into [0.0, 360.0]  range\n",
      "87 / 100\n",
      "Warning: found negative RA values, wrapping into [0.0, 360.0]  range\n",
      "Warning: found negative RA values, wrapping into [0.0, 360.0]  range\n",
      "88 / 100\n",
      "Warning: found negative RA values, wrapping into [0.0, 360.0]  range\n",
      "Warning: found negative RA values, wrapping into [0.0, 360.0]  range\n",
      "89 / 100\n",
      "Warning: found negative RA values, wrapping into [0.0, 360.0]  range\n",
      "Warning: found negative RA values, wrapping into [0.0, 360.0]  range\n",
      "90 / 100\n",
      "Warning: found negative RA values, wrapping into [0.0, 360.0]  range\n",
      "Warning: found negative RA values, wrapping into [0.0, 360.0]  range\n",
      "91 / 100\n",
      "Warning: found negative RA values, wrapping into [0.0, 360.0]  range\n",
      "Warning: found negative RA values, wrapping into [0.0, 360.0]  range\n",
      "92 / 100\n",
      "Warning: found negative RA values, wrapping into [0.0, 360.0]  range\n",
      "Warning: found negative RA values, wrapping into [0.0, 360.0]  range\n",
      "93 / 100\n",
      "Warning: found negative RA values, wrapping into [0.0, 360.0]  range\n",
      "Warning: found negative RA values, wrapping into [0.0, 360.0]  range\n",
      "94 / 100\n",
      "Warning: found negative RA values, wrapping into [0.0, 360.0]  range\n",
      "Warning: found negative RA values, wrapping into [0.0, 360.0]  range\n",
      "95 / 100\n",
      "Warning: found negative RA values, wrapping into [0.0, 360.0]  range\n",
      "Warning: found negative RA values, wrapping into [0.0, 360.0]  range\n",
      "96 / 100\n",
      "Warning: found negative RA values, wrapping into [0.0, 360.0]  range\n",
      "Warning: found negative RA values, wrapping into [0.0, 360.0]  range\n",
      "97 / 100\n",
      "Warning: found negative RA values, wrapping into [0.0, 360.0]  range\n",
      "Warning: found negative RA values, wrapping into [0.0, 360.0]  range\n",
      "98 / 100\n",
      "Warning: found negative RA values, wrapping into [0.0, 360.0]  range\n",
      "Warning: found negative RA values, wrapping into [0.0, 360.0]  range\n",
      "99 / 100\n",
      "Warning: found negative RA values, wrapping into [0.0, 360.0]  range\n",
      "Warning: found negative RA values, wrapping into [0.0, 360.0]  range\n",
      "100 / 100\n",
      "Warning: found negative RA values, wrapping into [0.0, 360.0]  range\n",
      "Warning: found negative RA values, wrapping into [0.0, 360.0]  range\n"
     ]
    }
   ],
   "source": [
    "#Bootstrap errors version\n",
    "rp_Lboot,wp_p_Lboot,wp_p_err_Lboot,cov_Lboot,wp_arr_Lboot = w.auto_wp(peas, rzpea, bins, pimax, m=100, \n",
    "                                                                 estimator='L',errtype='b')\n"
   ]
  },
  {
   "cell_type": "code",
   "execution_count": 22,
   "metadata": {
    "collapsed": true
   },
   "outputs": [],
   "source": [
    "np.save('output/rp_Lboot',rp_Lboot)\n",
    "np.save('output/wp_p_Lboot', wp_p_Lboot)\n",
    "np.save('output/wp_p_err_Lboot',wp_p_err_Lboot)\n",
    "np.save('output/cov_Lboot',cov_boot)\n",
    "np.save('output/wp_arr_Lboot.npy', wp_arr_Lboot)\n"
   ]
  },
  {
   "cell_type": "code",
   "execution_count": 11,
   "metadata": {},
   "outputs": [
    {
     "name": "stdout",
     "output_type": "stream",
     "text": [
      "[  2.    4.5   7.    9.   12.5  17.5  25.   35.   45.   55. ]\n",
      "[ 1  3  6  8 10 15 20 30 40 50 60]\n"
     ]
    }
   ],
   "source": [
    "print(rp_boot)\n",
    "print(bins)\n",
    "\n",
    "#Note from the dm simulation used: rpbins = np.array([.1,.5,1,3,6,8,10,15,20,30,40,50,60])"
   ]
  },
  {
   "cell_type": "code",
   "execution_count": 37,
   "metadata": {},
   "outputs": [
    {
     "name": "stdout",
     "output_type": "stream",
     "text": [
      "Warning: found negative RA values, wrapping into [0.0, 360.0]  range\n",
      "Warning: found negative RA values, wrapping into [0.0, 360.0]  range\n",
      "beginning Bootstrap\n",
      "1 / 100\n",
      "Warning: found negative RA values, wrapping into [0.0, 360.0]  range\n",
      "Warning: found negative RA values, wrapping into [0.0, 360.0]  range\n",
      "2 / 100\n",
      "Warning: found negative RA values, wrapping into [0.0, 360.0]  range\n",
      "Warning: found negative RA values, wrapping into [0.0, 360.0]  range\n",
      "3 / 100\n",
      "Warning: found negative RA values, wrapping into [0.0, 360.0]  range\n",
      "Warning: found negative RA values, wrapping into [0.0, 360.0]  range\n",
      "4 / 100\n",
      "Warning: found negative RA values, wrapping into [0.0, 360.0]  range\n",
      "Warning: found negative RA values, wrapping into [0.0, 360.0]  range\n",
      "5 / 100\n",
      "Warning: found negative RA values, wrapping into [0.0, 360.0]  range\n",
      "Warning: found negative RA values, wrapping into [0.0, 360.0]  range\n",
      "6 / 100\n",
      "Warning: found negative RA values, wrapping into [0.0, 360.0]  range\n",
      "Warning: found negative RA values, wrapping into [0.0, 360.0]  range\n",
      "7 / 100\n",
      "Warning: found negative RA values, wrapping into [0.0, 360.0]  range\n",
      "Warning: found negative RA values, wrapping into [0.0, 360.0]  range\n",
      "8 / 100\n",
      "Warning: found negative RA values, wrapping into [0.0, 360.0]  range\n",
      "Warning: found negative RA values, wrapping into [0.0, 360.0]  range\n",
      "9 / 100\n",
      "Warning: found negative RA values, wrapping into [0.0, 360.0]  range\n",
      "Warning: found negative RA values, wrapping into [0.0, 360.0]  range\n",
      "10 / 100\n",
      "Warning: found negative RA values, wrapping into [0.0, 360.0]  range\n",
      "Warning: found negative RA values, wrapping into [0.0, 360.0]  range\n",
      "11 / 100\n",
      "Warning: found negative RA values, wrapping into [0.0, 360.0]  range\n",
      "Warning: found negative RA values, wrapping into [0.0, 360.0]  range\n",
      "12 / 100\n",
      "Warning: found negative RA values, wrapping into [0.0, 360.0]  range\n",
      "Warning: found negative RA values, wrapping into [0.0, 360.0]  range\n",
      "13 / 100\n",
      "Warning: found negative RA values, wrapping into [0.0, 360.0]  range\n",
      "Warning: found negative RA values, wrapping into [0.0, 360.0]  range\n",
      "14 / 100\n",
      "Warning: found negative RA values, wrapping into [0.0, 360.0]  range\n",
      "Warning: found negative RA values, wrapping into [0.0, 360.0]  range\n",
      "15 / 100\n",
      "Warning: found negative RA values, wrapping into [0.0, 360.0]  range\n",
      "Warning: found negative RA values, wrapping into [0.0, 360.0]  range\n",
      "16 / 100\n",
      "Warning: found negative RA values, wrapping into [0.0, 360.0]  range\n",
      "Warning: found negative RA values, wrapping into [0.0, 360.0]  range\n",
      "17 / 100\n",
      "Warning: found negative RA values, wrapping into [0.0, 360.0]  range\n",
      "Warning: found negative RA values, wrapping into [0.0, 360.0]  range\n",
      "18 / 100\n",
      "Warning: found negative RA values, wrapping into [0.0, 360.0]  range\n",
      "Warning: found negative RA values, wrapping into [0.0, 360.0]  range\n",
      "19 / 100\n",
      "Warning: found negative RA values, wrapping into [0.0, 360.0]  range\n",
      "Warning: found negative RA values, wrapping into [0.0, 360.0]  range\n",
      "20 / 100\n",
      "Warning: found negative RA values, wrapping into [0.0, 360.0]  range\n",
      "Warning: found negative RA values, wrapping into [0.0, 360.0]  range\n",
      "21 / 100\n",
      "Warning: found negative RA values, wrapping into [0.0, 360.0]  range\n",
      "Warning: found negative RA values, wrapping into [0.0, 360.0]  range\n",
      "22 / 100\n",
      "Warning: found negative RA values, wrapping into [0.0, 360.0]  range\n",
      "Warning: found negative RA values, wrapping into [0.0, 360.0]  range\n",
      "23 / 100\n",
      "Warning: found negative RA values, wrapping into [0.0, 360.0]  range\n",
      "Warning: found negative RA values, wrapping into [0.0, 360.0]  range\n",
      "24 / 100\n",
      "Warning: found negative RA values, wrapping into [0.0, 360.0]  range\n",
      "Warning: found negative RA values, wrapping into [0.0, 360.0]  range\n",
      "25 / 100\n",
      "Warning: found negative RA values, wrapping into [0.0, 360.0]  range\n",
      "Warning: found negative RA values, wrapping into [0.0, 360.0]  range\n",
      "26 / 100\n",
      "Warning: found negative RA values, wrapping into [0.0, 360.0]  range\n",
      "Warning: found negative RA values, wrapping into [0.0, 360.0]  range\n",
      "27 / 100\n",
      "Warning: found negative RA values, wrapping into [0.0, 360.0]  range\n",
      "Warning: found negative RA values, wrapping into [0.0, 360.0]  range\n",
      "28 / 100\n",
      "Warning: found negative RA values, wrapping into [0.0, 360.0]  range\n",
      "Warning: found negative RA values, wrapping into [0.0, 360.0]  range\n",
      "29 / 100\n",
      "Warning: found negative RA values, wrapping into [0.0, 360.0]  range\n",
      "Warning: found negative RA values, wrapping into [0.0, 360.0]  range\n",
      "30 / 100\n",
      "Warning: found negative RA values, wrapping into [0.0, 360.0]  range\n",
      "Warning: found negative RA values, wrapping into [0.0, 360.0]  range\n",
      "31 / 100\n",
      "Warning: found negative RA values, wrapping into [0.0, 360.0]  range\n",
      "Warning: found negative RA values, wrapping into [0.0, 360.0]  range\n",
      "32 / 100\n",
      "Warning: found negative RA values, wrapping into [0.0, 360.0]  range\n",
      "Warning: found negative RA values, wrapping into [0.0, 360.0]  range\n",
      "33 / 100\n",
      "Warning: found negative RA values, wrapping into [0.0, 360.0]  range\n",
      "Warning: found negative RA values, wrapping into [0.0, 360.0]  range\n",
      "34 / 100\n",
      "Warning: found negative RA values, wrapping into [0.0, 360.0]  range\n",
      "Warning: found negative RA values, wrapping into [0.0, 360.0]  range\n",
      "35 / 100\n",
      "Warning: found negative RA values, wrapping into [0.0, 360.0]  range\n",
      "Warning: found negative RA values, wrapping into [0.0, 360.0]  range\n",
      "36 / 100\n",
      "Warning: found negative RA values, wrapping into [0.0, 360.0]  range\n",
      "Warning: found negative RA values, wrapping into [0.0, 360.0]  range\n",
      "37 / 100\n",
      "Warning: found negative RA values, wrapping into [0.0, 360.0]  range\n",
      "Warning: found negative RA values, wrapping into [0.0, 360.0]  range\n",
      "38 / 100\n",
      "Warning: found negative RA values, wrapping into [0.0, 360.0]  range\n",
      "Warning: found negative RA values, wrapping into [0.0, 360.0]  range\n",
      "39 / 100\n",
      "Warning: found negative RA values, wrapping into [0.0, 360.0]  range\n",
      "Warning: found negative RA values, wrapping into [0.0, 360.0]  range\n",
      "40 / 100\n",
      "Warning: found negative RA values, wrapping into [0.0, 360.0]  range\n",
      "Warning: found negative RA values, wrapping into [0.0, 360.0]  range\n",
      "41 / 100\n",
      "Warning: found negative RA values, wrapping into [0.0, 360.0]  range\n",
      "Warning: found negative RA values, wrapping into [0.0, 360.0]  range\n",
      "42 / 100\n",
      "Warning: found negative RA values, wrapping into [0.0, 360.0]  range\n",
      "Warning: found negative RA values, wrapping into [0.0, 360.0]  range\n",
      "43 / 100\n",
      "Warning: found negative RA values, wrapping into [0.0, 360.0]  range\n",
      "Warning: found negative RA values, wrapping into [0.0, 360.0]  range\n",
      "44 / 100\n",
      "Warning: found negative RA values, wrapping into [0.0, 360.0]  range\n",
      "Warning: found negative RA values, wrapping into [0.0, 360.0]  range\n",
      "45 / 100\n",
      "Warning: found negative RA values, wrapping into [0.0, 360.0]  range\n",
      "Warning: found negative RA values, wrapping into [0.0, 360.0]  range\n",
      "46 / 100\n",
      "Warning: found negative RA values, wrapping into [0.0, 360.0]  range\n",
      "Warning: found negative RA values, wrapping into [0.0, 360.0]  range\n",
      "47 / 100\n",
      "Warning: found negative RA values, wrapping into [0.0, 360.0]  range\n",
      "Warning: found negative RA values, wrapping into [0.0, 360.0]  range\n",
      "48 / 100\n",
      "Warning: found negative RA values, wrapping into [0.0, 360.0]  range\n",
      "Warning: found negative RA values, wrapping into [0.0, 360.0]  range\n",
      "49 / 100\n",
      "Warning: found negative RA values, wrapping into [0.0, 360.0]  range\n",
      "Warning: found negative RA values, wrapping into [0.0, 360.0]  range\n",
      "50 / 100\n",
      "Warning: found negative RA values, wrapping into [0.0, 360.0]  range\n",
      "Warning: found negative RA values, wrapping into [0.0, 360.0]  range\n",
      "51 / 100\n",
      "Warning: found negative RA values, wrapping into [0.0, 360.0]  range\n",
      "Warning: found negative RA values, wrapping into [0.0, 360.0]  range\n",
      "52 / 100\n",
      "Warning: found negative RA values, wrapping into [0.0, 360.0]  range\n",
      "Warning: found negative RA values, wrapping into [0.0, 360.0]  range\n",
      "53 / 100\n",
      "Warning: found negative RA values, wrapping into [0.0, 360.0]  range\n",
      "Warning: found negative RA values, wrapping into [0.0, 360.0]  range\n",
      "54 / 100\n",
      "Warning: found negative RA values, wrapping into [0.0, 360.0]  range\n",
      "Warning: found negative RA values, wrapping into [0.0, 360.0]  range\n",
      "55 / 100\n",
      "Warning: found negative RA values, wrapping into [0.0, 360.0]  range\n",
      "Warning: found negative RA values, wrapping into [0.0, 360.0]  range\n",
      "56 / 100\n",
      "Warning: found negative RA values, wrapping into [0.0, 360.0]  range\n",
      "Warning: found negative RA values, wrapping into [0.0, 360.0]  range\n",
      "57 / 100\n",
      "Warning: found negative RA values, wrapping into [0.0, 360.0]  range\n",
      "Warning: found negative RA values, wrapping into [0.0, 360.0]  range\n",
      "58 / 100\n",
      "Warning: found negative RA values, wrapping into [0.0, 360.0]  range\n",
      "Warning: found negative RA values, wrapping into [0.0, 360.0]  range\n",
      "59 / 100\n",
      "Warning: found negative RA values, wrapping into [0.0, 360.0]  range\n",
      "Warning: found negative RA values, wrapping into [0.0, 360.0]  range\n",
      "60 / 100\n",
      "Warning: found negative RA values, wrapping into [0.0, 360.0]  range\n",
      "Warning: found negative RA values, wrapping into [0.0, 360.0]  range\n",
      "61 / 100\n",
      "Warning: found negative RA values, wrapping into [0.0, 360.0]  range\n",
      "Warning: found negative RA values, wrapping into [0.0, 360.0]  range\n",
      "62 / 100\n",
      "Warning: found negative RA values, wrapping into [0.0, 360.0]  range\n",
      "Warning: found negative RA values, wrapping into [0.0, 360.0]  range\n",
      "63 / 100\n",
      "Warning: found negative RA values, wrapping into [0.0, 360.0]  range\n",
      "Warning: found negative RA values, wrapping into [0.0, 360.0]  range\n",
      "64 / 100\n",
      "Warning: found negative RA values, wrapping into [0.0, 360.0]  range\n",
      "Warning: found negative RA values, wrapping into [0.0, 360.0]  range\n",
      "65 / 100\n",
      "Warning: found negative RA values, wrapping into [0.0, 360.0]  range\n",
      "Warning: found negative RA values, wrapping into [0.0, 360.0]  range\n",
      "66 / 100\n",
      "Warning: found negative RA values, wrapping into [0.0, 360.0]  range\n",
      "Warning: found negative RA values, wrapping into [0.0, 360.0]  range\n",
      "67 / 100\n",
      "Warning: found negative RA values, wrapping into [0.0, 360.0]  range\n",
      "Warning: found negative RA values, wrapping into [0.0, 360.0]  range\n",
      "68 / 100\n",
      "Warning: found negative RA values, wrapping into [0.0, 360.0]  range\n",
      "Warning: found negative RA values, wrapping into [0.0, 360.0]  range\n",
      "69 / 100\n",
      "Warning: found negative RA values, wrapping into [0.0, 360.0]  range\n",
      "Warning: found negative RA values, wrapping into [0.0, 360.0]  range\n",
      "70 / 100\n",
      "Warning: found negative RA values, wrapping into [0.0, 360.0]  range\n",
      "Warning: found negative RA values, wrapping into [0.0, 360.0]  range\n",
      "71 / 100\n",
      "Warning: found negative RA values, wrapping into [0.0, 360.0]  range\n",
      "Warning: found negative RA values, wrapping into [0.0, 360.0]  range\n",
      "72 / 100\n",
      "Warning: found negative RA values, wrapping into [0.0, 360.0]  range\n",
      "Warning: found negative RA values, wrapping into [0.0, 360.0]  range\n",
      "73 / 100\n",
      "Warning: found negative RA values, wrapping into [0.0, 360.0]  range\n",
      "Warning: found negative RA values, wrapping into [0.0, 360.0]  range\n",
      "74 / 100\n",
      "Warning: found negative RA values, wrapping into [0.0, 360.0]  range\n",
      "Warning: found negative RA values, wrapping into [0.0, 360.0]  range\n",
      "75 / 100\n",
      "Warning: found negative RA values, wrapping into [0.0, 360.0]  range\n",
      "Warning: found negative RA values, wrapping into [0.0, 360.0]  range\n",
      "76 / 100\n",
      "Warning: found negative RA values, wrapping into [0.0, 360.0]  range\n",
      "Warning: found negative RA values, wrapping into [0.0, 360.0]  range\n",
      "77 / 100\n",
      "Warning: found negative RA values, wrapping into [0.0, 360.0]  range\n",
      "Warning: found negative RA values, wrapping into [0.0, 360.0]  range\n",
      "78 / 100\n",
      "Warning: found negative RA values, wrapping into [0.0, 360.0]  range\n",
      "Warning: found negative RA values, wrapping into [0.0, 360.0]  range\n",
      "79 / 100\n",
      "Warning: found negative RA values, wrapping into [0.0, 360.0]  range\n",
      "Warning: found negative RA values, wrapping into [0.0, 360.0]  range\n",
      "80 / 100\n",
      "Warning: found negative RA values, wrapping into [0.0, 360.0]  range\n",
      "Warning: found negative RA values, wrapping into [0.0, 360.0]  range\n",
      "81 / 100\n",
      "Warning: found negative RA values, wrapping into [0.0, 360.0]  range\n",
      "Warning: found negative RA values, wrapping into [0.0, 360.0]  range\n",
      "82 / 100\n",
      "Warning: found negative RA values, wrapping into [0.0, 360.0]  range\n",
      "Warning: found negative RA values, wrapping into [0.0, 360.0]  range\n",
      "83 / 100\n",
      "Warning: found negative RA values, wrapping into [0.0, 360.0]  range\n",
      "Warning: found negative RA values, wrapping into [0.0, 360.0]  range\n",
      "84 / 100\n",
      "Warning: found negative RA values, wrapping into [0.0, 360.0]  range\n",
      "Warning: found negative RA values, wrapping into [0.0, 360.0]  range\n",
      "85 / 100\n",
      "Warning: found negative RA values, wrapping into [0.0, 360.0]  range\n",
      "Warning: found negative RA values, wrapping into [0.0, 360.0]  range\n",
      "86 / 100\n",
      "Warning: found negative RA values, wrapping into [0.0, 360.0]  range\n",
      "Warning: found negative RA values, wrapping into [0.0, 360.0]  range\n",
      "87 / 100\n",
      "Warning: found negative RA values, wrapping into [0.0, 360.0]  range\n",
      "Warning: found negative RA values, wrapping into [0.0, 360.0]  range\n",
      "88 / 100\n",
      "Warning: found negative RA values, wrapping into [0.0, 360.0]  range\n",
      "Warning: found negative RA values, wrapping into [0.0, 360.0]  range\n",
      "89 / 100\n",
      "Warning: found negative RA values, wrapping into [0.0, 360.0]  range\n",
      "Warning: found negative RA values, wrapping into [0.0, 360.0]  range\n",
      "90 / 100\n",
      "Warning: found negative RA values, wrapping into [0.0, 360.0]  range\n",
      "Warning: found negative RA values, wrapping into [0.0, 360.0]  range\n",
      "91 / 100\n",
      "Warning: found negative RA values, wrapping into [0.0, 360.0]  range\n",
      "Warning: found negative RA values, wrapping into [0.0, 360.0]  range\n",
      "92 / 100\n",
      "Warning: found negative RA values, wrapping into [0.0, 360.0]  range\n",
      "Warning: found negative RA values, wrapping into [0.0, 360.0]  range\n",
      "93 / 100\n",
      "Warning: found negative RA values, wrapping into [0.0, 360.0]  range\n",
      "Warning: found negative RA values, wrapping into [0.0, 360.0]  range\n",
      "94 / 100\n",
      "Warning: found negative RA values, wrapping into [0.0, 360.0]  range\n",
      "Warning: found negative RA values, wrapping into [0.0, 360.0]  range\n",
      "95 / 100\n",
      "Warning: found negative RA values, wrapping into [0.0, 360.0]  range\n",
      "Warning: found negative RA values, wrapping into [0.0, 360.0]  range\n",
      "96 / 100\n",
      "Warning: found negative RA values, wrapping into [0.0, 360.0]  range\n",
      "Warning: found negative RA values, wrapping into [0.0, 360.0]  range\n",
      "97 / 100\n",
      "Warning: found negative RA values, wrapping into [0.0, 360.0]  range\n",
      "Warning: found negative RA values, wrapping into [0.0, 360.0]  range\n",
      "98 / 100\n",
      "Warning: found negative RA values, wrapping into [0.0, 360.0]  range\n",
      "Warning: found negative RA values, wrapping into [0.0, 360.0]  range\n",
      "99 / 100\n",
      "Warning: found negative RA values, wrapping into [0.0, 360.0]  range\n",
      "Warning: found negative RA values, wrapping into [0.0, 360.0]  range\n",
      "100 / 100\n",
      "Warning: found negative RA values, wrapping into [0.0, 360.0]  range\n",
      "Warning: found negative RA values, wrapping into [0.0, 360.0]  range\n"
     ]
    }
   ],
   "source": [
    "pimax=60\n",
    "bins = np.array([1,3,6,8,10,15,20,30,40,50,60])\n",
    "rp_boot,wp_p_boot,wp_p_err_boot,cov_boot,wp_arr_boot = w.auto_wp(peas, rzpea, bins, pimax, m=100, \n",
    "                                                                 estimator='P',errtype='b')\n"
   ]
  },
  {
   "cell_type": "code",
   "execution_count": 12,
   "metadata": {
    "collapsed": true
   },
   "outputs": [],
   "source": [
    "#np.save('output/rp_PeasACF_pi60.npy',rp_boot)\n",
    "#np.save('output/wp_PeasACF_pi60.npy',wp_p_boot)\n",
    "#np.save('output/wp_PeasACF_err_pi60.npy',wp_p_err_boot)\n",
    "\n",
    "np.save('output/rp_boot',rp_boot)\n",
    "np.save('output/wp_p_boot', wp_p_boot)\n",
    "np.save('output/wp_p_err_boot',wp_p_err_boot)\n",
    "np.save('output/cov_boot',cov_boot)\n",
    "np.save('output/wp_arr_boot.npy', wp_arr_boot)"
   ]
  },
  {
   "cell_type": "code",
   "execution_count": 15,
   "metadata": {},
   "outputs": [
    {
     "name": "stdout",
     "output_type": "stream",
     "text": [
      "[  3.19763226  11.1535809   18.85729655  14.28037094   0.           0.\n",
      "  57.75063498  34.45049818   8.33894312   8.89802358]\n",
      "[  0.00000000e+00   9.45163125e+00   2.53014153e+01   4.71078711e+01\n",
      "   6.47930661e+01   4.53845522e+01   1.46221569e+04   5.07592306e+03\n",
      "   2.10517604e+03   1.39851828e+03]\n"
     ]
    }
   ],
   "source": [
    "#print(wp_arr_jack)\n",
    "print(wp_p_err_jack)\n",
    "print(wp_p_err_boot)"
   ]
  },
  {
   "cell_type": "code",
   "execution_count": 20,
   "metadata": {},
   "outputs": [
    {
     "data": {
      "text/plain": [
       "<matplotlib.text.Text at 0x1162c71d0>"
      ]
     },
     "execution_count": 20,
     "metadata": {},
     "output_type": "execute_result"
    },
    {
     "data": {
      "image/png": "[encoded data removed]",
      "text/plain": [
       "<matplotlib.figure.Figure at 0x1162c7a58>"
      ]
     },
     "metadata": {},
     "output_type": "display_data"
    }
   ],
   "source": [
    "plt.yscale(\"log\", nonposy='clip')\n",
    "plt.xscale(\"log\", nonposy='clip')\n",
    "plt.errorbar(rp_boot,wp_p_boot,yerr=wp_p_err_boot,fmt='.',color='b',label='ACF Boostrap ERror')\n",
    "plt.errorbar(rp_jack,wp_p_jack,yerr=wp_p_err_jack,fmt='.',color='g',label='ACF Jackknife')\n",
    "#plt.errorbar(rp_jack,wp_p_jack,yerr=wp_p_err_jack,fmt='.',color='g',label='ACF Jackknife')\n",
    "\n",
    "#plt.errorbar(rp,w_p_noradec,yerr=w_p_noradec,fmt='.',color='b')\n",
    "#plt.errorbar(rp,wp_p15,yerr=wp_p1_err,fmt='.',color='g')\n",
    "#plt.errorbar(rp,wp_p/rp,yerr=wp_p_err/rp,fmt='.')\n",
    "plt.legend(frameon=False,numpoints=1)\n",
    "plt.xlabel('r$_{p}$',fontsize=16)\n",
    "plt.ylabel('w$_{p}$',fontsize=16)\n",
    "plt.title('Pea Peebles ACF')\n",
    "#plt.savefig('../plots/corrfunctSFpeas.pdf')"
   ]
  },
  {
   "cell_type": "code",
   "execution_count": 19,
   "metadata": {},
   "outputs": [
    {
     "data": {
      "text/plain": [
       "<matplotlib.text.Text at 0x11fee2dd8>"
      ]
     },
     "execution_count": 19,
     "metadata": {},
     "output_type": "execute_result"
    },
    {
     "data": {
      "image/png": "[encoded data removed]",
      "text/plain": [
       "<matplotlib.figure.Figure at 0x11e587780>"
      ]
     },
     "metadata": {},
     "output_type": "display_data"
    }
   ],
   "source": [
    "plt.yscale(\"log\", nonposy='clip')\n",
    "plt.xscale(\"log\", nonposy='clip')\n",
    "plt.errorbar(rp_boot,wp_p_boot/rp_boot,yerr=wp_p_err_boot/rp_boot,fmt='.',color='b',label='ACF Boostrap ERror')\n",
    "plt.errorbar(rp_jack,wp_p_jack/rp_jack,yerr=wp_p_err_jack/rp_jack,fmt='.',color='g',label='ACF Jackknife')\n",
    "#plt.errorbar(rp,w_p_noradec,yerr=w_p_noradec,fmt='.',color='b')\n",
    "#plt.errorbar(rp,wp_p15,yerr=wp_p1_err,fmt='.',color='g')\n",
    "#plt.errorbar(rp,wp_p/rp,yerr=wp_p_err/rp,fmt='.')\n",
    "plt.legend(frameon=False)\n",
    "plt.xlabel('r$_{p}$',fontsize=16)\n",
    "plt.ylabel('w$_{p}$/r$_{p}$',fontsize=16)\n",
    "plt.title('Pea Peebles ACF')\n",
    "\n",
    "#plt.savefig('../plots/corrfunctSFpeas.pdf')"
   ]
  },
  {
   "cell_type": "markdown",
   "metadata": {},
   "source": [
    "## Read in LRGs -> Run Auto & Cross Correlations"
   ]
  },
  {
   "cell_type": "code",
   "execution_count": 7,
   "metadata": {
    "collapsed": true
   },
   "outputs": [],
   "source": [
    "## Read in LRG Data\n",
    "LRG= Table.read('../cat/LRGzcat.fits')\n",
    "LRGr=Table.read('../cat/LRGRandzcat.fits')"
   ]
  },
  {
   "cell_type": "code",
   "execution_count": 24,
   "metadata": {},
   "outputs": [
    {
     "name": "stdout",
     "output_type": "stream",
     "text": [
      "2017-07-25 18:49:58\n",
      "beginning jackknifes\n",
      "0 0 0 72.0 -90.0 -36.86989764584402\n",
      "0 0 0 72.0 -36.86989764584402 -11.536959032815485\n",
      "27763 1346063 0 72.0 -11.536959032815485 11.536959032815492\n",
      "21931 1063797 0 72.0 11.536959032815492 36.86989764584403\n",
      "0 0 0 72.0 36.86989764584403 90.0\n",
      "0 0 72.0 144.0 -90.0 -36.86989764584402\n",
      "0 0 72.0 144.0 -36.86989764584402 -11.536959032815485\n",
      "6764 329858 72.0 144.0 -11.536959032815485 11.536959032815492\n",
      "18459 940242 72.0 144.0 11.536959032815492 36.86989764584403\n",
      "8661 395655 72.0 144.0 36.86989764584403 90.0\n",
      "0 0 144.0 216.0 -90.0 -36.86989764584402\n",
      "0 0 144.0 216.0 -36.86989764584402 -11.536959032815485\n",
      "24106 1219508 144.0 216.0 -11.536959032815485 11.536959032815492\n",
      "47262 2357107 144.0 216.0 11.536959032815492 36.86989764584403\n",
      "39622 1946246 144.0 216.0 36.86989764584403 90.0\n",
      "0 0 216.0 288.0 -90.0 -36.86989764584402\n",
      "0 0 216.0 288.0 -36.86989764584402 -11.536959032815485\n",
      "11451 544015 216.0 288.0 -11.536959032815485 11.536959032815492\n",
      "22399 1075039 216.0 288.0 11.536959032815492 36.86989764584403\n",
      "18681 924435 216.0 288.0 36.86989764584403 90.0\n",
      "0 0 288.0 360.0 -90.0 -36.86989764584402\n",
      "0 0 288.0 360.0 -36.86989764584402 -11.536959032815485\n",
      "21431 1022423 288.0 360.0 -11.536959032815485 11.536959032815492\n",
      "19221 980142 288.0 360.0 11.536959032815492 36.86989764584403\n",
      "0 0 288.0 360.0 36.86989764584403 90.0\n",
      "Number of blocks:  13\n",
      "1 / 13\n",
      "2 / 13\n",
      "3 / 13\n",
      "4 / 13\n",
      "5 / 13\n",
      "6 / 13\n",
      "7 / 13\n",
      "8 / 13\n",
      "9 / 13\n",
      "10 / 13\n",
      "11 / 13\n",
      "12 / 13\n",
      "13 / 13\n",
      "beginning Bootstrap\n",
      "1 / 100\n",
      "2 / 100\n",
      "3 / 100\n",
      "4 / 100\n",
      "5 / 100\n",
      "6 / 100\n",
      "7 / 100\n",
      "8 / 100\n",
      "9 / 100\n",
      "10 / 100\n",
      "11 / 100\n",
      "12 / 100\n",
      "13 / 100\n",
      "14 / 100\n",
      "15 / 100\n",
      "16 / 100\n",
      "17 / 100\n",
      "18 / 100\n",
      "19 / 100\n",
      "20 / 100\n",
      "21 / 100\n",
      "22 / 100\n",
      "23 / 100\n",
      "24 / 100\n",
      "25 / 100\n",
      "26 / 100\n",
      "27 / 100\n",
      "28 / 100\n",
      "29 / 100\n",
      "30 / 100\n",
      "31 / 100\n",
      "32 / 100\n",
      "33 / 100\n",
      "34 / 100\n",
      "35 / 100\n",
      "36 / 100\n",
      "37 / 100\n",
      "38 / 100\n",
      "39 / 100\n",
      "40 / 100\n",
      "41 / 100\n",
      "42 / 100\n",
      "43 / 100\n",
      "44 / 100\n",
      "45 / 100\n",
      "46 / 100\n",
      "47 / 100\n",
      "48 / 100\n",
      "49 / 100\n",
      "50 / 100\n",
      "51 / 100\n",
      "52 / 100\n",
      "53 / 100\n",
      "54 / 100\n",
      "55 / 100\n",
      "56 / 100\n",
      "57 / 100\n",
      "58 / 100\n",
      "59 / 100\n",
      "60 / 100\n",
      "61 / 100\n",
      "62 / 100\n",
      "63 / 100\n",
      "64 / 100\n",
      "65 / 100\n",
      "66 / 100\n",
      "67 / 100\n",
      "68 / 100\n",
      "69 / 100\n",
      "70 / 100\n",
      "71 / 100\n",
      "72 / 100\n",
      "73 / 100\n",
      "74 / 100\n",
      "75 / 100\n",
      "76 / 100\n",
      "77 / 100\n",
      "78 / 100\n",
      "79 / 100\n",
      "80 / 100\n",
      "81 / 100\n",
      "82 / 100\n",
      "83 / 100\n",
      "84 / 100\n",
      "85 / 100\n",
      "86 / 100\n",
      "87 / 100\n",
      "88 / 100\n",
      "89 / 100\n",
      "90 / 100\n",
      "91 / 100\n",
      "92 / 100\n",
      "93 / 100\n",
      "94 / 100\n",
      "95 / 100\n",
      "96 / 100\n",
      "97 / 100\n",
      "98 / 100\n",
      "99 / 100\n",
      "100 / 100\n",
      "2017-07-29 10:08:46\n"
     ]
    }
   ],
   "source": [
    "bins=\n",
    "### LRG AUTOCORRELATION\n",
    "print(strftime(\"%Y-%m-%d %H:%M:%S\", gmtime()))\n",
    "#LRGrp,LRGwp_p,LRGwp_p_err,LRGcov = w.auto_wp(LRG, LRGr, bins, pimax, m=20, estimator='L')\n",
    "#LRGwp_p = wp_dd(LRG, LRGr, bins, pimax, estimator='L')\n",
    "#LRGrp,LRGwp,LRGwp_err,Mag = w.cross_wp(d1=peas, d2=LRG, r1=rzpea, r2=LRGr, bins=bins, pimax=pimax,m=5, estimator='L')\n",
    "#LRGwp_p_noerrP = wp_dd(LRG, LRGr, bins, pimax, estimator='P')\n",
    "#LRGwp_p_noerrL = wp_dd(LRG, LRGr, bins, pimax, estimator='L')\n",
    "#LRGrp,LRGwp_p,LRGwp_err,cov = w.auto_wp(LRG, LRGr, bins, pimax, m=5, estimator='P')\n",
    "rp_LRGjack,wp_p_LRGjack,wp_p_err_LRGjack,cov_LRGjack,wp_arr_LRGjack = w.auto_wp(LRG, LRGr, bins, pimax, m=5, \n",
    "                                                                 estimator='P',errtype='j')\n",
    "rp_LRGboot,wp_p_LRGboot,wp_p_err_LRGboot,cov_LRGboot,wp_arr_LRGboot = w.auto_wp(LRG, LRGr, bins, pimax, m=100, \n",
    "                                                                 estimator='P',errtype='b')\n",
    "\n",
    "print(strftime(\"%Y-%m-%d %H:%M:%S\", gmtime()))"
   ]
  },
  {
   "cell_type": "markdown",
   "metadata": {
    "scrolled": true
   },
   "source": [
    "Save outputfrom autocorrelation of LRGs"
   ]
  },
  {
   "cell_type": "code",
   "execution_count": 18,
   "metadata": {},
   "outputs": [],
   "source": [
    "#np.save('output/wp_arr_LRGboot.npy', wp_arr_LRGboot)\n",
    "#np.save('output/rp_LRGboot',rp_LRGboot)\n",
    "#np.save('output/wp_p_LRGboot', wp_p_LRGboot)\n",
    "#np.save('output/wp_p_err_LRGboot',wp_p_err_LRGboot)\n",
    "#np.save('output/cov_LRGboot',cov_LRGboot)"
   ]
  },
  {
   "cell_type": "code",
   "execution_count": 37,
   "metadata": {
    "collapsed": true
   },
   "outputs": [],
   "source": [
    "#np.save('rp_LRGjack', rp_LRGjack)\n",
    "#np.save('wp_p_LRGjack',wp_p_LRGjack)\n",
    "#np.save('wp_p_err_LRGjack', wp_p_err_LRGjack)\n",
    "#np.save('cov_LRGjack',cov_LRGjack)\n",
    "#np.save('wp_arr_LRGjack',wp_arr_LRGjack)"
   ]
  },
  {
   "cell_type": "markdown",
   "metadata": {},
   "source": [
    "Read in LRG Autocorrelation data for futher analysis"
   ]
  },
  {
   "cell_type": "code",
   "execution_count": 7,
   "metadata": {
    "collapsed": true
   },
   "outputs": [],
   "source": [
    "## ACF LRGs\n",
    "rp_LRGboot=np.load('output/rp_LRGboot.npy')\n",
    "wp_p_LRGboot=np.load('output/wp_p_LRGboot.npy')\n",
    "wp_p_err_LRGboot=np.load('output/wp_p_err_LRGboot.npy')\n",
    "cov_LRGboot=np.load('output/cov_LRGboot.npy')\n",
    "wp_arr_LRGboot=np.load('output/wp_arr_LRGboot.npy')\n",
    "\n",
    "rp_LRGjack=np.load('output/rp_LRGjack.npy')\n",
    "wp_p_LRGjack=np.load('output/wp_p_LRGjack.npy')\n",
    "wp_p_err_LRGjack=np.load('output/wp_p_err_LRGjack.npy')\n",
    "cov_LRGjack=np.load('output/cov_LRGjack.npy')\n",
    "wp_arr_LRGjack=np.load('output/wp_arr_LRGjack.npy')\n",
    "\n",
    "## ACF Peas\n",
    "rp_boot=np.load('output/rp_boot.npy')\n",
    "wp_p_boot=np.load('output/wp_p_boot.npy')\n",
    "wp_p_err_boot=np.load('output/wp_p_err_boot.npy')\n",
    "cov_boot=np.load('output/cov_boot.npy')\n",
    "wp_arr_boot=np.load('output/wp_arr_boot.npy')\n",
    "\n",
    "rp_jack=np.load('output/rp_jack.npy')\n",
    "wp_p_jack=np.load('output/wp_p_jack.npy')\n",
    "wp_p_err_jack=np.load('output/wp_p_err_jack.npy')\n",
    "cov_jack=np.load('output/cov_jack.npy')\n",
    "wp_arr_jack=np.load('output/wp_arr_jack.npy')"
   ]
  },
  {
   "cell_type": "code",
   "execution_count": 32,
   "metadata": {},
   "outputs": [
    {
     "data": {
      "text/plain": [
       "array([  0.00000000e+00,  -2.00000000e+00,  -1.00000000e+01,\n",
       "        -3.60000000e+01,  -8.40000000e+01,  -1.16000000e+02,\n",
       "         2.05639955e+03,   8.45411863e+02,   5.32263021e+02,\n",
       "         5.20937314e+02])"
      ]
     },
     "execution_count": 32,
     "metadata": {},
     "output_type": "execute_result"
    }
   ],
   "source": [
    "wp_p_boot\n"
   ]
  },
  {
   "cell_type": "code",
   "execution_count": 8,
   "metadata": {},
   "outputs": [
    {
     "data": {
      "text/plain": [
       "<matplotlib.text.Text at 0x115197be0>"
      ]
     },
     "execution_count": 8,
     "metadata": {},
     "output_type": "execute_result"
    },
    {
     "data": {
      "image/png": "[encoded data removed]",
      "text/plain": [
       "<matplotlib.figure.Figure at 0x11514bf60>"
      ]
     },
     "metadata": {},
     "output_type": "display_data"
    }
   ],
   "source": [
    "plt.yscale(\"log\", nonposy='clip')\n",
    "plt.xscale(\"log\", nonposy='clip')\n",
    "plt.errorbar(rp_boot,wp_p_boot,yerr=wp_p_err_boot,fmt='.',color='g',label='ACF Boostrap Error')\n",
    "plt.errorbar(rp_jack,wp_p_jack,yerr=wp_p_err_jack,fmt='.',color='c',label='ACF Jackknife')\n",
    "plt.errorbar(rp_LRGjack,wp_p_LRGjack,yerr=wp_p_err_LRGjack,fmt='.',color='m',label='LRG ACF Jackknife')\n",
    "plt.errorbar(rp_LRGboot,wp_p_LRGboot,yerr=wp_p_err_LRGboot,fmt='.',color='r',label='LRG ACF Boostrap')\n",
    "plt.axis([.1,100000,.1,100])\n",
    "plt.legend(frameon=True,numpoints=1)\n",
    "plt.xlabel('r$_{p}$',fontsize=16)\n",
    "plt.ylabel('w$_{p}$',fontsize=16)\n",
    "plt.title('Peebles ACF')\n",
    "#plt.savefig('../plots/corrfunctSFpeas.pdf')"
   ]
  },
  {
   "cell_type": "markdown",
   "metadata": {},
   "source": [
    "## Cross Correlation"
   ]
  },
  {
   "cell_type": "code",
   "execution_count": 15,
   "metadata": {},
   "outputs": [
    {
     "name": "stdout",
     "output_type": "stream",
     "text": [
      "2017-08-17 12:51:09\n",
      "beginning Bootstrap\n",
      "1 / 100\n",
      "2 / 100\n",
      "3 / 100\n",
      "4 / 100\n",
      "5 / 100\n",
      "6 / 100\n",
      "7 / 100\n",
      "8 / 100\n",
      "9 / 100\n",
      "10 / 100\n",
      "11 / 100\n",
      "12 / 100\n",
      "13 / 100\n",
      "14 / 100\n",
      "15 / 100\n",
      "16 / 100\n",
      "17 / 100\n",
      "18 / 100\n",
      "19 / 100\n",
      "20 / 100\n",
      "21 / 100\n",
      "22 / 100\n",
      "23 / 100\n",
      "24 / 100\n",
      "25 / 100\n",
      "26 / 100\n",
      "27 / 100\n",
      "28 / 100\n",
      "29 / 100\n",
      "30 / 100\n",
      "31 / 100\n",
      "32 / 100\n",
      "33 / 100\n",
      "34 / 100\n",
      "35 / 100\n",
      "36 / 100\n",
      "37 / 100\n",
      "38 / 100\n",
      "39 / 100\n",
      "40 / 100\n",
      "41 / 100\n",
      "42 / 100\n",
      "43 / 100\n",
      "44 / 100\n",
      "45 / 100\n",
      "46 / 100\n",
      "47 / 100\n",
      "48 / 100\n",
      "49 / 100\n",
      "50 / 100\n",
      "51 / 100\n",
      "52 / 100\n",
      "53 / 100\n",
      "54 / 100\n",
      "55 / 100\n",
      "56 / 100\n",
      "57 / 100\n",
      "58 / 100\n",
      "59 / 100\n",
      "60 / 100\n",
      "61 / 100\n",
      "62 / 100\n",
      "63 / 100\n",
      "64 / 100\n",
      "65 / 100\n",
      "66 / 100\n",
      "67 / 100\n",
      "68 / 100\n",
      "69 / 100\n",
      "70 / 100\n",
      "71 / 100\n",
      "72 / 100\n",
      "73 / 100\n",
      "74 / 100\n",
      "75 / 100\n",
      "76 / 100\n",
      "77 / 100\n",
      "78 / 100\n",
      "79 / 100\n",
      "80 / 100\n",
      "81 / 100\n",
      "82 / 100\n",
      "83 / 100\n",
      "84 / 100\n",
      "85 / 100\n",
      "86 / 100\n",
      "87 / 100\n",
      "88 / 100\n",
      "89 / 100\n",
      "90 / 100\n",
      "91 / 100\n",
      "92 / 100\n",
      "93 / 100\n",
      "94 / 100\n",
      "95 / 100\n",
      "96 / 100\n",
      "97 / 100\n",
      "98 / 100\n",
      "99 / 100\n",
      "100 / 100\n",
      "2017-08-17 13:07:24\n"
     ]
    }
   ],
   "source": [
    "## Run a clustering CROSS CORRELATION b/w the peas & LRGs w/ bootstrap\n",
    "print(strftime(\"%Y-%m-%d %H:%M:%S\", gmtime()))\n",
    "## with errors? bootstrapped\n",
    "rp_xc_Pboot,wp_xc_Pboot,wp_xc_err_Pboot,cov_xc_Pboot,wp_arr_xc_Pboot = w.cross_wp(d1=peas, \n",
    "d2=LRG, r1=rzpea, r2=LRGr, bins=bins,pimax=pimax,m=100, estimator='P',errtype='b')\n",
    "\n",
    "print(strftime(\"%Y-%m-%d %H:%M:%S\", gmtime()))"
   ]
  },
  {
   "cell_type": "code",
   "execution_count": 16,
   "metadata": {},
   "outputs": [],
   "source": [
    "#np.save('output/rp_xc_Pboot.npy', rp_xc_Pboot)\n",
    "#np.save('output/wp_xc_Pboot',wp_xc_Pboot)\n",
    "#np.save('output/wp_xc_err_Pboot', wp_xc_err_Pboot)\n",
    "#np.save('output/cov_xc_Pboot',cov_xc_Pboot)\n",
    "#np.save('output/wp_arr_xc_Pboot',wp_arr_xc_Pboot)"
   ]
  },
  {
   "cell_type": "code",
   "execution_count": 13,
   "metadata": {},
   "outputs": [
    {
     "name": "stdout",
     "output_type": "stream",
     "text": [
      "2017-08-17 12:34:19\n",
      "beginning jackknifes\n",
      "0 0 0 72.0 -90.0 -36.86989764584402\n",
      "0 0 0 72.0 -36.86989764584402 -11.536959032815485\n",
      "55 26893 0 72.0 -11.536959032815485 11.536959032815492\n",
      "59 29728 0 72.0 11.536959032815492 36.86989764584403\n",
      "0 0 0 72.0 36.86989764584403 90.0\n",
      "0 0 72.0 144.0 -90.0 -36.86989764584402\n",
      "0 0 72.0 144.0 -36.86989764584402 -11.536959032815485\n",
      "15 7617 72.0 144.0 -11.536959032815485 11.536959032815492\n",
      "34 17296 72.0 144.0 11.536959032815492 36.86989764584403\n",
      "31 15562 72.0 144.0 36.86989764584403 90.0\n",
      "0 0 144.0 216.0 -90.0 -36.86989764584402\n",
      "0 0 144.0 216.0 -36.86989764584402 -11.536959032815485\n",
      "29 14178 144.0 216.0 -11.536959032815485 11.536959032815492\n",
      "62 30943 144.0 216.0 11.536959032815492 36.86989764584403\n",
      "90 44870 144.0 216.0 36.86989764584403 90.0\n",
      "0 0 216.0 288.0 -90.0 -36.86989764584402\n",
      "0 0 216.0 288.0 -36.86989764584402 -11.536959032815485\n",
      "19 9800 216.0 288.0 -11.536959032815485 11.536959032815492\n",
      "24 11066 216.0 288.0 11.536959032815492 36.86989764584403\n",
      "26 13462 216.0 288.0 36.86989764584403 90.0\n",
      "0 0 288.0 360.0 -90.0 -36.86989764584402\n",
      "0 145 288.0 360.0 -36.86989764584402 -11.536959032815485\n",
      "29 14749 288.0 360.0 -11.536959032815485 11.536959032815492\n",
      "6 2803 288.0 360.0 11.536959032815492 36.86989764584403\n",
      "0 0 288.0 360.0 36.86989764584403 90.0\n",
      "Number of blocks:  13\n",
      "1 / 13\n",
      "2 / 13\n",
      "3 / 13\n",
      "4 / 13\n",
      "5 / 13\n",
      "6 / 13\n",
      "7 / 13\n",
      "8 / 13\n",
      "9 / 13\n",
      "10 / 13\n",
      "11 / 13\n",
      "12 / 13\n",
      "13 / 13\n",
      "2017-08-17 12:40:44\n"
     ]
    }
   ],
   "source": [
    "## Run a clustering CROSS CORRELATION b/w the peas & LRGs w/ bootstrap\n",
    "print(strftime(\"%Y-%m-%d %H:%M:%S\", gmtime()))\n",
    "## with errors? bootstrapped\n",
    "rp_xc_Pjack,wp_xc_Pjack,wp_xc_err_Pjack,cov_xc_Pjack,wp_arr_xc_Pjack = w.cross_wp(d1=peas, \n",
    "d2=LRG, r1=rzpea, r2=LRGr, bins=bins,pimax=pimax,m=5, estimator='P',errtype='j')\n",
    "\n",
    "print(strftime(\"%Y-%m-%d %H:%M:%S\", gmtime()))"
   ]
  },
  {
   "cell_type": "code",
   "execution_count": 14,
   "metadata": {
    "collapsed": true
   },
   "outputs": [],
   "source": [
    "#np.save('output/rp_xc_Pjack.npy', rp_xc_Pjack)\n",
    "#np.save('output/wp_xc_Pjack',wp_xc_Pjack)\n",
    "#np.save('output/wp_xc_err_Pjack', wp_xc_err_Pjack)\n",
    "#np.save('output/cov_xc_Pjack',cov_xc_Pjack)\n",
    "#np.save('output/wp_arr_xc_Pjack',wp_arr_xc_Pjack)"
   ]
  },
  {
   "cell_type": "markdown",
   "metadata": {},
   "source": [
    "Read in Cross-Correlation Functions for plotting & Analysis"
   ]
  },
  {
   "cell_type": "code",
   "execution_count": 10,
   "metadata": {},
   "outputs": [],
   "source": [
    "rp_xc_Pboot=np.load('output/rp_xc_Pboot.npy')\n",
    "wp_xc_Pboot=np.load('output/wp_xc_Pboot.npy')\n",
    "wp_xc_err_Pboot=np.load('output/wp_xc_err_Pboot.npy')\n",
    "cov_xc_Pboot=np.load('output/cov_xc_Pboot.npy')\n",
    "wp_arr_xc_Pboot=np.load('output/wp_arr_xc_Pboot.npy')"
   ]
  },
  {
   "cell_type": "code",
   "execution_count": 11,
   "metadata": {},
   "outputs": [
    {
     "data": {
      "text/plain": [
       "<matplotlib.text.Text at 0x115828cc0>"
      ]
     },
     "execution_count": 11,
     "metadata": {},
     "output_type": "execute_result"
    },
    {
     "data": {
      "image/png": "[encoded data removed]",
      "text/plain": [
       "<matplotlib.figure.Figure at 0x1158c5eb8>"
      ]
     },
     "metadata": {},
     "output_type": "display_data"
    }
   ],
   "source": [
    "plt.yscale(\"log\", nonposy='clip')\n",
    "plt.xscale(\"log\", nonposy='clip')\n",
    "plt.errorbar(rp_xc_Pboot,wp_xc_Pboot,yerr=wp_xc_err_Pboot,fmt='.',color='b',label='Peas LRG CCF booterr')\n",
    "plt.errorbar(rp_LRGboot,wp_p_LRGboot,yerr=wp_p_err_LRGboot,fmt='.',color='r',label='LRG ACF Boostrap')\n",
    "plt.legend(frameon=True,numpoints=1)\n",
    "plt.xlabel('r$_{p}$',fontsize=16)\n",
    "plt.ylabel('w$_{p}$',fontsize=16)\n",
    "plt.title('Cross-Correlation Functions')\n",
    "\n",
    "#plt.savefig('../plots/corrfunctLRGPEAauto.pdf')"
   ]
  },
  {
   "cell_type": "code",
   "execution_count": 13,
   "metadata": {},
   "outputs": [
    {
     "data": {
      "text/plain": [
       "array([ 228.91584894,  -66.04176339,  270.4196983 ,   18.88939222,\n",
       "         79.34302892,   -1.7268732 ,   17.07587339,   15.54189095,\n",
       "         14.43427524,   10.99080618])"
      ]
     },
     "execution_count": 13,
     "metadata": {},
     "output_type": "execute_result"
    }
   ],
   "source": [
    "wp_xc"
   ]
  },
  {
   "cell_type": "code",
   "execution_count": 14,
   "metadata": {},
   "outputs": [
    {
     "data": {
      "text/plain": [
       "array([  1.29916463e+05,   8.99791431e+03,   2.14477222e+04,\n",
       "         2.22371430e+03,   1.07979849e+03,   1.08930522e+02,\n",
       "         1.00220949e+02,   5.87169276e+01,   2.03890286e+01,\n",
       "         1.10616403e+01])"
      ]
     },
     "execution_count": 14,
     "metadata": {},
     "output_type": "execute_result"
    }
   ],
   "source": [
    "wp_xc_err"
   ]
  },
  {
   "cell_type": "code",
   "execution_count": 15,
   "metadata": {},
   "outputs": [
    {
     "name": "stdout",
     "output_type": "stream",
     "text": [
      "2017-07-17 19:06:55\n",
      "2017-07-17 20:30:27\n"
     ]
    }
   ],
   "source": [
    "print(strftime(\"%Y-%m-%d %H:%M:%S\", gmtime()))\n",
    "#LRGrp,LRGwp_p,LRGwp_p_err,LRGcov = w.auto_wp(LRG, LRGr, bins, pimax, m=20, estimator='L')\n",
    "#LRGwp_p = wp_dd(LRG, LRGr, bins, pimax, estimator='L')\n",
    "#LRGrp,LRGwp,LRGwp_err,Mag = w.cross_wp(d1=peas, d2=LRG, r1=rzpea, r2=LRGr, bins=bins, pimax=pimax,m=5, estimator='L')\n",
    "LRGwp_p_noerrP = wp_dd(LRG, LRGr, bins, pimax, estimator='P')\n",
    "LRGwp_p_noerrL = wp_dd(LRG, LRGr, bins, pimax, estimator='L')\n",
    "#LRGrp,LRGwp_p,LRGwp_err,cov = w.auto_wp(LRG, LRGr, bins, pimax, m=5, estimator='L')\n",
    "print(strftime(\"%Y-%m-%d %H:%M:%S\", gmtime()))"
   ]
  },
  {
   "cell_type": "code",
   "execution_count": 19,
   "metadata": {},
   "outputs": [
    {
     "data": {
      "text/plain": [
       "<matplotlib.text.Text at 0x10a9f4198>"
      ]
     },
     "execution_count": 19,
     "metadata": {},
     "output_type": "execute_result"
    },
    {
     "data": {
      "image/png": "[encoded data removed]",
      "text/plain": [
       "<matplotlib.figure.Figure at 0x117905c88>"
      ]
     },
     "metadata": {},
     "output_type": "display_data"
    }
   ],
   "source": [
    "plt.yscale(\"log\", nonposy='clip')\n",
    "plt.xscale(\"log\", nonposy='clip')\n",
    "plt.errorbar(rpP,wp_pL,yerr=wp_p_errP,fmt='.',color='g',label='Peas L ACF')\n",
    "plt.scatter(rpP,LRGwp_p_noerrL,color='r',label='LRG L ACF')\n",
    "plt.scatter(rpP,LRGwp_p_noerrP,color='b',label='LRG P ACF')\n",
    "#plt.errorbar(rp,w_p_noradec,yerr=w_p_noradec,fmt='.',color='b')\n",
    "#plt.errorbar(rp,wp_p15,yerr=wp_p15_err,fmt='.',color='g')\n",
    "#plt.errorbar(rp,wp_p/rp,yerr=wp_p_err/rp,fmt='.')\n",
    "plt.legend(frameon=True)\n",
    "plt.xlabel('r$_{p}$',fontsize=16)\n",
    "plt.ylabel('w$_{p}$',fontsize=16)\n",
    "plt.title('Auto Correlation Functions')\n",
    "\n",
    "#plt.savefig('../plots/corrfunctLRGPEAauto.pdf')"
   ]
  },
  {
   "cell_type": "code",
   "execution_count": 20,
   "metadata": {},
   "outputs": [
    {
     "name": "stdout",
     "output_type": "stream",
     "text": [
      "[ 1026.17777937   681.95715804   379.20917454   188.58986124   104.93445936\n",
      "    68.33945071    42.54954507    24.3757939     12.65178423     5.42466491]\n"
     ]
    }
   ],
   "source": [
    "print(LRGwp_p_noerrL)"
   ]
  },
  {
   "cell_type": "code",
   "execution_count": 21,
   "metadata": {},
   "outputs": [
    {
     "name": "stdout",
     "output_type": "stream",
     "text": [
      "[ 1021.75044755   674.61514331   379.25453248   189.04117831   105.14235834\n",
      "    68.5413169     42.75752957    24.61101803    12.91682928     5.7215873 ]\n"
     ]
    }
   ],
   "source": [
    "print(LRGwp_p_noerrP)"
   ]
  },
  {
   "cell_type": "code",
   "execution_count": 14,
   "metadata": {},
   "outputs": [
    {
     "data": {
      "image/png": "[encoded data removed]",
      "text/plain": [
       "<matplotlib.figure.Figure at 0x1159cc160>"
      ]
     },
     "metadata": {},
     "output_type": "display_data"
    }
   ],
   "source": [
    "plt.yscale(\"log\", nonposy='clip')\n",
    "plt.xscale(\"log\", nonposy='clip')\n",
    "plt.errorbar(rp,wp_p5,yerr=wp_p5_err,fmt='.',color='g',label='Peas ACF')\n",
    "plt.scatter(rp,LRGwp_p_noerr,color='r',label='LRG ACF')\n",
    "#plt.errorbar(rp,w_p_noradec,yerr=w_p_noradec,fmt='.',color='b')\n",
    "#plt.errorbar(rp,wp_p15,yerr=wp_p15_err,fmt='.',color='g')\n",
    "#plt.errorbar(rp,wp_p/rp,yerr=wp_p_err/rp,fmt='.')\n",
    "plt.legend(frameon=True)\n",
    "plt.xlabel('r$_{p}$',fontsize=16)\n",
    "plt.ylabel('w$_{p}$',fontsize=16)\n",
    "plt.title('Auto Correlation Functions')\n",
    "\n",
    "plt.savefig('../plots/corrfunctLRGPEAauto.pdf')"
   ]
  },
  {
   "cell_type": "code",
   "execution_count": 12,
   "metadata": {},
   "outputs": [
    {
     "name": "stdout",
     "output_type": "stream",
     "text": [
      "2017-08-04 23:21:22\n",
      "Warning: found negative RA values, wrapping into [0.0, 360.0]  range\n",
      "Warning: found negative RA values, wrapping into [0.0, 360.0]  range\n",
      "beginning Bootstrap\n",
      "1 / 1\n",
      "Warning: found negative RA values, wrapping into [0.0, 360.0]  range\n",
      "Warning: found negative RA values, wrapping into [0.0, 360.0]  range\n"
     ]
    },
    {
     "ename": "ZeroDivisionError",
     "evalue": "division by zero",
     "output_type": "error",
     "traceback": [
      "\u001b[0;31m---------------------------------------------------------------------------\u001b[0m",
      "\u001b[0;31mZeroDivisionError\u001b[0m                         Traceback (most recent call last)",
      "\u001b[0;32m<ipython-input-12-f5c6c3cb06e0>\u001b[0m in \u001b[0;36m<module>\u001b[0;34m()\u001b[0m\n\u001b[1;32m      4\u001b[0m \u001b[0;31m## with errors? these are wrong, helpix divides sky into projection of equal area pixels, bin sample\u001b[0m\u001b[0;34m\u001b[0m\u001b[0;34m\u001b[0m\u001b[0m\n\u001b[1;32m      5\u001b[0m \u001b[0;31m#m is # jaclknife,try40 (NOTE 40 min to run\u001b[0m\u001b[0;34m\u001b[0m\u001b[0;34m\u001b[0m\u001b[0m\n\u001b[0;32m----> 6\u001b[0;31m \u001b[0mrp\u001b[0m\u001b[0;34m,\u001b[0m\u001b[0mwp_xc\u001b[0m\u001b[0;34m,\u001b[0m\u001b[0mwp_xc_err\u001b[0m\u001b[0;34m,\u001b[0m\u001b[0mMag\u001b[0m\u001b[0;34m,\u001b[0m\u001b[0marr\u001b[0m \u001b[0;34m=\u001b[0m \u001b[0mw\u001b[0m\u001b[0;34m.\u001b[0m\u001b[0mcross_wp\u001b[0m\u001b[0;34m(\u001b[0m\u001b[0md1\u001b[0m\u001b[0;34m=\u001b[0m\u001b[0mpeas\u001b[0m\u001b[0;34m,\u001b[0m \u001b[0md2\u001b[0m\u001b[0;34m=\u001b[0m\u001b[0mLRG\u001b[0m\u001b[0;34m,\u001b[0m \u001b[0mr1\u001b[0m\u001b[0;34m=\u001b[0m\u001b[0mrzpea\u001b[0m\u001b[0;34m,\u001b[0m \u001b[0mr2\u001b[0m\u001b[0;34m=\u001b[0m\u001b[0mLRGr\u001b[0m\u001b[0;34m,\u001b[0m \u001b[0mbins\u001b[0m\u001b[0;34m=\u001b[0m\u001b[0mbins\u001b[0m\u001b[0;34m,\u001b[0m \u001b[0mpimax\u001b[0m\u001b[0;34m=\u001b[0m\u001b[0mpimax\u001b[0m\u001b[0;34m,\u001b[0m\u001b[0mm\u001b[0m\u001b[0;34m=\u001b[0m\u001b[0;36m1\u001b[0m\u001b[0;34m,\u001b[0m \u001b[0mestimator\u001b[0m\u001b[0;34m=\u001b[0m\u001b[0;34m'L'\u001b[0m\u001b[0;34m)\u001b[0m\u001b[0;34m\u001b[0m\u001b[0m\n\u001b[0m\u001b[1;32m      7\u001b[0m \u001b[0mprint\u001b[0m\u001b[0;34m(\u001b[0m\u001b[0mstrftime\u001b[0m\u001b[0;34m(\u001b[0m\u001b[0;34m\"%Y-%m-%d %H:%M:%S\"\u001b[0m\u001b[0;34m,\u001b[0m \u001b[0mgmtime\u001b[0m\u001b[0;34m(\u001b[0m\u001b[0;34m)\u001b[0m\u001b[0;34m)\u001b[0m\u001b[0;34m)\u001b[0m\u001b[0;34m\u001b[0m\u001b[0m\n",
      "\u001b[0;32m/Users/ccardamone/Documents/research/papercalc/newpeas/clustcode/clustering/projected_correlation_functions.py\u001b[0m in \u001b[0;36mcross_wp\u001b[0;34m(d1, d2, r2, bins, pimax, m, r1, estimator, errtype)\u001b[0m\n\u001b[1;32m     43\u001b[0m         \u001b[0mwp\u001b[0m \u001b[0;34m=\u001b[0m \u001b[0mwp_d1d2\u001b[0m\u001b[0;34m(\u001b[0m\u001b[0md1\u001b[0m\u001b[0;34m=\u001b[0m\u001b[0md1\u001b[0m\u001b[0;34m,\u001b[0m \u001b[0md2\u001b[0m\u001b[0;34m=\u001b[0m\u001b[0md2\u001b[0m\u001b[0;34m,\u001b[0m \u001b[0mr2\u001b[0m\u001b[0;34m=\u001b[0m\u001b[0mr2\u001b[0m\u001b[0;34m,\u001b[0m \u001b[0mbins\u001b[0m\u001b[0;34m=\u001b[0m\u001b[0mbins\u001b[0m\u001b[0;34m,\u001b[0m \u001b[0mpimax\u001b[0m\u001b[0;34m=\u001b[0m\u001b[0mpimax\u001b[0m\u001b[0;34m,\u001b[0m \u001b[0mr1\u001b[0m\u001b[0;34m=\u001b[0m\u001b[0mr1\u001b[0m\u001b[0;34m,\u001b[0m \u001b[0mestimator\u001b[0m\u001b[0;34m=\u001b[0m\u001b[0mestimator\u001b[0m\u001b[0;34m)\u001b[0m\u001b[0;34m\u001b[0m\u001b[0m\n\u001b[1;32m     44\u001b[0m         \u001b[0;32mif\u001b[0m \u001b[0merrtype\u001b[0m\u001b[0;34m==\u001b[0m\u001b[0;34m'b'\u001b[0m\u001b[0;34m:\u001b[0m\u001b[0;34m\u001b[0m\u001b[0m\n\u001b[0;32m---> 45\u001b[0;31m                 \u001b[0mwp_err\u001b[0m\u001b[0;34m,\u001b[0m\u001b[0mcov\u001b[0m\u001b[0;34m,\u001b[0m\u001b[0mwp_arr\u001b[0m\u001b[0;34m=\u001b[0m\u001b[0mcross_bootstrap\u001b[0m\u001b[0;34m(\u001b[0m\u001b[0md1\u001b[0m\u001b[0;34m=\u001b[0m\u001b[0md1\u001b[0m\u001b[0;34m,\u001b[0m\u001b[0md2\u001b[0m\u001b[0;34m=\u001b[0m\u001b[0md2\u001b[0m\u001b[0;34m,\u001b[0m\u001b[0mr1\u001b[0m\u001b[0;34m=\u001b[0m\u001b[0mr1\u001b[0m\u001b[0;34m,\u001b[0m\u001b[0mr2\u001b[0m\u001b[0;34m=\u001b[0m\u001b[0mr2\u001b[0m\u001b[0;34m,\u001b[0m\u001b[0mm\u001b[0m\u001b[0;34m=\u001b[0m\u001b[0mm\u001b[0m\u001b[0;34m,\u001b[0m\u001b[0mpimax\u001b[0m\u001b[0;34m=\u001b[0m\u001b[0mpimax\u001b[0m\u001b[0;34m,\u001b[0m\u001b[0mbins\u001b[0m\u001b[0;34m=\u001b[0m\u001b[0mbins\u001b[0m\u001b[0;34m,\u001b[0m\u001b[0mestimator\u001b[0m\u001b[0;34m=\u001b[0m\u001b[0mestimator\u001b[0m\u001b[0;34m)\u001b[0m\u001b[0;34m\u001b[0m\u001b[0m\n\u001b[0m\u001b[1;32m     46\u001b[0m         \u001b[0;32mif\u001b[0m \u001b[0merrtype\u001b[0m\u001b[0;34m==\u001b[0m\u001b[0;34m'j'\u001b[0m\u001b[0;34m:\u001b[0m\u001b[0;34m\u001b[0m\u001b[0m\n\u001b[1;32m     47\u001b[0m                 \u001b[0mwp_err\u001b[0m\u001b[0;34m,\u001b[0m\u001b[0mcov\u001b[0m\u001b[0;34m=\u001b[0m\u001b[0mcross_jackknife\u001b[0m\u001b[0;34m(\u001b[0m\u001b[0md1\u001b[0m\u001b[0;34m=\u001b[0m\u001b[0md1\u001b[0m\u001b[0;34m,\u001b[0m\u001b[0md2\u001b[0m\u001b[0;34m=\u001b[0m\u001b[0md2\u001b[0m\u001b[0;34m,\u001b[0m\u001b[0mr1\u001b[0m\u001b[0;34m=\u001b[0m\u001b[0mr1\u001b[0m\u001b[0;34m,\u001b[0m\u001b[0mr2\u001b[0m\u001b[0;34m=\u001b[0m\u001b[0mr2\u001b[0m\u001b[0;34m,\u001b[0m\u001b[0mm\u001b[0m\u001b[0;34m=\u001b[0m\u001b[0mm\u001b[0m\u001b[0;34m,\u001b[0m\u001b[0mpimax\u001b[0m\u001b[0;34m=\u001b[0m\u001b[0mpimax\u001b[0m\u001b[0;34m,\u001b[0m\u001b[0mbins\u001b[0m\u001b[0;34m=\u001b[0m\u001b[0mbins\u001b[0m\u001b[0;34m,\u001b[0m\u001b[0mestimator\u001b[0m\u001b[0;34m=\u001b[0m\u001b[0mestimator\u001b[0m\u001b[0;34m)\u001b[0m\u001b[0;34m\u001b[0m\u001b[0m\n",
      "\u001b[0;32m/Users/ccardamone/Documents/research/papercalc/newpeas/clustcode/clustering/error.py\u001b[0m in \u001b[0;36mcross_bootstrap\u001b[0;34m(d1, d2, r1, r2, m, pimax, bins, estimator, covariance)\u001b[0m\n\u001b[1;32m     49\u001b[0m                 \u001b[0mwp_arr\u001b[0m\u001b[0;34m=\u001b[0m\u001b[0mnp\u001b[0m\u001b[0;34m.\u001b[0m\u001b[0mvstack\u001b[0m\u001b[0;34m(\u001b[0m\u001b[0;34m(\u001b[0m\u001b[0mwp_arr\u001b[0m\u001b[0;34m,\u001b[0m\u001b[0mwp_t\u001b[0m\u001b[0;34m)\u001b[0m\u001b[0;34m)\u001b[0m\u001b[0;34m\u001b[0m\u001b[0m\n\u001b[1;32m     50\u001b[0m         \u001b[0mwp_arr\u001b[0m\u001b[0;34m=\u001b[0m\u001b[0mwp_arr\u001b[0m\u001b[0;34m[\u001b[0m\u001b[0;36m1\u001b[0m\u001b[0;34m:\u001b[0m\u001b[0;34m]\u001b[0m\u001b[0;34m\u001b[0m\u001b[0m\n\u001b[0;32m---> 51\u001b[0;31m         \u001b[0merr\u001b[0m \u001b[0;34m=\u001b[0m \u001b[0mnp\u001b[0m\u001b[0;34m.\u001b[0m\u001b[0msqrt\u001b[0m\u001b[0;34m(\u001b[0m\u001b[0;34m(\u001b[0m\u001b[0;36m1\u001b[0m\u001b[0;34m/\u001b[0m\u001b[0;34m(\u001b[0m\u001b[0mm\u001b[0m\u001b[0;34m-\u001b[0m\u001b[0;36m1\u001b[0m\u001b[0;34m)\u001b[0m\u001b[0;34m)\u001b[0m \u001b[0;34m*\u001b[0m \u001b[0;34m(\u001b[0m\u001b[0mnp\u001b[0m\u001b[0;34m.\u001b[0m\u001b[0msum\u001b[0m\u001b[0;34m(\u001b[0m \u001b[0;34m(\u001b[0m\u001b[0mwp_arr\u001b[0m \u001b[0;34m-\u001b[0m \u001b[0mnp\u001b[0m\u001b[0;34m.\u001b[0m\u001b[0maverage\u001b[0m\u001b[0;34m(\u001b[0m\u001b[0mwp_arr\u001b[0m\u001b[0;34m,\u001b[0m\u001b[0maxis\u001b[0m\u001b[0;34m=\u001b[0m\u001b[0;36m0\u001b[0m\u001b[0;34m)\u001b[0m\u001b[0;34m)\u001b[0m\u001b[0;34m**\u001b[0m\u001b[0;36m2\u001b[0m\u001b[0;34m,\u001b[0m \u001b[0maxis\u001b[0m\u001b[0;34m=\u001b[0m\u001b[0;36m0\u001b[0m\u001b[0;34m)\u001b[0m\u001b[0;34m)\u001b[0m\u001b[0;34m)\u001b[0m\u001b[0;34m\u001b[0m\u001b[0m\n\u001b[0m\u001b[1;32m     52\u001b[0m         \u001b[0;31m#err =(1./(m-1)) * (np.sum( (wp_arr - np.average(wp_arr,axis=0))**2, axis=0))\u001b[0m\u001b[0;34m\u001b[0m\u001b[0;34m\u001b[0m\u001b[0m\n\u001b[1;32m     53\u001b[0m         \u001b[0;32mif\u001b[0m \u001b[0mcovariance\u001b[0m\u001b[0;34m:\u001b[0m\u001b[0;34m\u001b[0m\u001b[0m\n",
      "\u001b[0;31mZeroDivisionError\u001b[0m: division by zero"
     ]
    }
   ],
   "source": [
    "## Run a clustering cross correlation b/w the peas & LRGs w/ no jacknif errors\n",
    "print(strftime(\"%Y-%m-%d %H:%M:%S\", gmtime()))\n",
    "#wpx=wp_d1d2(d1=peas,d2=LRG,r2=LRGr, bins=bins, pimax=pimax, r1=rzpea, estimator='L')\n",
    "## with errors? these are wrong, helpix divides sky into projection of equal area pixels, bin sample \n",
    "#m is # jaclknife,try40 (NOTE 40 min to run\n",
    "rp,wp_xc,wp_xc_err,Mag,arr = w.cross_wp(d1=peas, d2=LRG, r1=rzpea, r2=LRGr, bins=bins, pimax=pimax,m=1, estimator='L')\n",
    "print(strftime(\"%Y-%m-%d %H:%M:%S\", gmtime()))"
   ]
  },
  {
   "cell_type": "code",
   "execution_count": 17,
   "metadata": {},
   "outputs": [
    {
     "data": {
      "image/png": "[encoded data removed]",
      "text/plain": [
       "<matplotlib.figure.Figure at 0x162a47c50>"
      ]
     },
     "metadata": {},
     "output_type": "display_data"
    }
   ],
   "source": [
    "plt.yscale(\"log\", nonposy='clip')\n",
    "plt.xscale(\"log\", nonposy='clip')\n",
    "plt.errorbar(rp,wp_xc,yerr=wp_xc_err,fmt='.',color='b',label='Peas LRG CCF')\n",
    "#plt.scatter(rp,LRGwp_p_noerr,color='r',label='LRG ACF')\n",
    "#plt.errorbar(rp,w_p_noradec,yerr=w_p_noradec,fmt='.',color='b')\n",
    "#plt.errorbar(rp,wp_p15,yerr=wp_p15_err,fmt='.',color='g')\n",
    "#plt.errorbar(rp,wp_p/rp,yerr=wp_p_err/rp,fmt='.')\n",
    "plt.legend(frameon=True)\n",
    "plt.xlabel('r$_{p}$',fontsize=16)\n",
    "plt.ylabel('w$_{p}$',fontsize=16)\n",
    "plt.title('Xross Correlation Functions')\n",
    "\n",
    "plt.savefig('../plots/corrfunctLRGPEAxc.pdf')"
   ]
  },
  {
   "cell_type": "code",
   "execution_count": 21,
   "metadata": {},
   "outputs": [
    {
     "name": "stdout",
     "output_type": "stream",
     "text": [
      "[  0.11746414   0.15849235   0.21385101   0.2885455    0.3893295\n",
      "   0.52531561   0.70879935   0.9563708    1.29041472   1.74113445\n",
      "   2.34928285   3.16984705   4.27702026   5.77091007   7.78658997\n",
      "  10.50631229  14.17598697  19.12741606  25.80829442  34.82268898]\n",
      "[ 273.52605337  138.73667779  -54.72262972  -50.90923854  332.76770226\n",
      "  232.56018774   22.74569733   16.05739366  114.78986964   55.83249754\n",
      "   19.99626378  -14.05471763   15.16485483   17.2881482    17.35892515\n",
      "   13.63535585    6.0488016    18.79585246   11.37834032   10.58395133]\n",
      "[ 361.25087182  182.80061686  102.91450969   58.69807986   85.74543051\n",
      "   59.70128756   31.20053125   24.7348678    30.49174745    9.47324108\n",
      "   12.15385907    9.15595181    5.52039993    5.37319382    4.13396118\n",
      "    4.14723895    3.43327515    2.83316352    2.3608597     1.2644318 ]\n",
      "[ 120.          120.           40.12322138  120.          107.65437254\n",
      "   84.05595446   89.52201479  115.87962039   88.05849033   94.3129522\n",
      "   98.44260228   90.11760579  368.03123522  286.00523749  144.7097476\n",
      "  226.74512758  183.49658629  170.72537204  205.50367127  182.20047459]\n",
      "[ 356.74980261  118.6214489   158.73346117   65.83962914   49.88427733\n",
      "   37.06066066   33.542407     18.41819096   39.49775617   14.06325003\n",
      "   10.3393125     8.00681445  118.59483982   52.77608419   65.56501543\n",
      "   39.26802402   33.21563896   14.93231974   20.69839833   20.44385985]\n",
      "[ 1207.59797145   926.71826561   740.51311535   649.49317644   475.78208821\n",
      "   325.88695705   226.41574675   167.75232351   121.72320789    95.66270522\n",
      "    78.11677523    62.94309205    50.05565821    38.4062902     29.58508109\n",
      "    21.4869693     15.72685764    10.93836918     7.17687202     4.43936256]\n"
     ]
    },
    {
     "ename": "NameError",
     "evalue": "name 'table' is not defined",
     "output_type": "error",
     "traceback": [
      "\u001b[0;31m---------------------------------------------------------------------------\u001b[0m",
      "\u001b[0;31mNameError\u001b[0m                                 Traceback (most recent call last)",
      "\u001b[0;32m<ipython-input-21-33013c47fedc>\u001b[0m in \u001b[0;36m<module>\u001b[0;34m()\u001b[0m\n\u001b[1;32m      6\u001b[0m \u001b[0mprint\u001b[0m\u001b[0;34m(\u001b[0m\u001b[0mLRGwp_p_noerr\u001b[0m\u001b[0;34m)\u001b[0m\u001b[0;34m\u001b[0m\u001b[0m\n\u001b[1;32m      7\u001b[0m \u001b[0;34m\u001b[0m\u001b[0m\n\u001b[0;32m----> 8\u001b[0;31m \u001b[0mt\u001b[0m \u001b[0;34m=\u001b[0m \u001b[0mtable\u001b[0m\u001b[0;34m.\u001b[0m\u001b[0mTable\u001b[0m\u001b[0;34m(\u001b[0m\u001b[0;34m)\u001b[0m\u001b[0;34m\u001b[0m\u001b[0m\n\u001b[0m\u001b[1;32m      9\u001b[0m \u001b[0mt\u001b[0m\u001b[0;34m.\u001b[0m\u001b[0madd_column\u001b[0m\u001b[0;34m(\u001b[0m\u001b[0mtable\u001b[0m\u001b[0;34m.\u001b[0m\u001b[0mColumn\u001b[0m\u001b[0;34m(\u001b[0m\u001b[0mname\u001b[0m\u001b[0;34m=\u001b[0m\u001b[0;34m'rp'\u001b[0m\u001b[0;34m,\u001b[0m \u001b[0mdata\u001b[0m\u001b[0;34m=\u001b[0m\u001b[0mrp\u001b[0m\u001b[0;34m)\u001b[0m\u001b[0;34m)\u001b[0m\u001b[0;34m\u001b[0m\u001b[0m\n\u001b[1;32m     10\u001b[0m \u001b[0;34m\u001b[0m\u001b[0m\n",
      "\u001b[0;31mNameError\u001b[0m: name 'table' is not defined"
     ]
    }
   ],
   "source": [
    "print(rp)\n",
    "print(wp_xc)\n",
    "print(wp_xc_err)\n",
    "print(wp_p5)\n",
    "print(wp_p5_err)\n",
    "print(LRGwp_p_noerr)"
   ]
  },
  {
   "cell_type": "code",
   "execution_count": 25,
   "metadata": {},
   "outputs": [
    {
     "ename": "TypeError",
     "evalue": "Required argument 'object' (pos 1) not found",
     "output_type": "error",
     "traceback": [
      "\u001b[0;31m---------------------------------------------------------------------------\u001b[0m",
      "\u001b[0;31mTypeError\u001b[0m                                 Traceback (most recent call last)",
      "\u001b[0;32m<ipython-input-25-2fb0d0e4afb8>\u001b[0m in \u001b[0;36m<module>\u001b[0;34m()\u001b[0m\n\u001b[1;32m      1\u001b[0m \u001b[0mt\u001b[0m \u001b[0;34m=\u001b[0m \u001b[0mTable\u001b[0m\u001b[0;34m(\u001b[0m\u001b[0;34m)\u001b[0m\u001b[0;34m\u001b[0m\u001b[0m\n\u001b[1;32m      2\u001b[0m \u001b[0mt\u001b[0m\u001b[0;34m.\u001b[0m\u001b[0madd_column\u001b[0m\u001b[0;34m(\u001b[0m\u001b[0mt\u001b[0m\u001b[0;34m.\u001b[0m\u001b[0mColumn\u001b[0m\u001b[0;34m(\u001b[0m\u001b[0mname\u001b[0m\u001b[0;34m=\u001b[0m\u001b[0;34m'rp'\u001b[0m\u001b[0;34m,\u001b[0m \u001b[0mdata\u001b[0m\u001b[0;34m=\u001b[0m\u001b[0mrp\u001b[0m\u001b[0;34m)\u001b[0m\u001b[0;34m)\u001b[0m\u001b[0;34m\u001b[0m\u001b[0m\n\u001b[0;32m----> 3\u001b[0;31m \u001b[0mt\u001b[0m\u001b[0;34m=\u001b[0m\u001b[0mnp\u001b[0m\u001b[0;34m.\u001b[0m\u001b[0marray\u001b[0m\u001b[0;34m(\u001b[0m\u001b[0;34m)\u001b[0m\u001b[0;34m\u001b[0m\u001b[0m\n\u001b[0m\u001b[1;32m      4\u001b[0m \u001b[0;34m\u001b[0m\u001b[0m\n\u001b[1;32m      5\u001b[0m \u001b[0;31m#Add new array field of comoving distances\u001b[0m\u001b[0;34m\u001b[0m\u001b[0;34m\u001b[0m\u001b[0m\n",
      "\u001b[0;31mTypeError\u001b[0m: Required argument 'object' (pos 1) not found"
     ]
    }
   ],
   "source": [
    "t=np.array()\n",
    "t.add_column(t.Column(name='rp', data=rp))\n",
    "\n",
    "#Add new array field of comoving distances\n",
    "cdists = np.array([cosmo.comoving_distance(z).value for z in peas['z']])*cosmo.h\n",
    "peas = append_fields(peas, 'cdist', cdists)\n",
    "\n",
    "# Write out to file\n",
    "#t.write('myfile.fits')  # also support HDF5, ASCII, etc.\n",
    "# Read in from file\n",
    "#t = table.Table.read('myfile.fits')"
   ]
  },
  {
   "cell_type": "code",
   "execution_count": 15,
   "metadata": {},
   "outputs": [
    {
     "name": "stdout",
     "output_type": "stream",
     "text": [
      "[ 120.          120.            0.            0.         -980.03081918\n",
      "  120.          120.         -176.73313301 -131.32472791   25.53371043\n",
      " -188.67428071  -51.90984302   81.34296466   63.42438333  -18.33018412\n",
      "   10.72476071  -20.69065539  -11.29717226   23.39634223    9.96508609]\n"
     ]
    }
   ],
   "source": [
    "w_p_noradec=np.array(wp_p5)\n",
    "w_p_errnoradec=np.array(wp_p5_err)\n",
    "print(w_p_noradec)"
   ]
  },
  {
   "cell_type": "code",
   "execution_count": 8,
   "metadata": {},
   "outputs": [
    {
     "data": {
      "text/plain": [
       "<matplotlib.legend.Legend at 0x114715d30>"
      ]
     },
     "execution_count": 8,
     "metadata": {},
     "output_type": "execute_result"
    },
    {
     "data": {
      "image/png": "[encoded data removed]",
      "text/plain": [
       "<matplotlib.figure.Figure at 0x114715400>"
      ]
     },
     "metadata": {},
     "output_type": "display_data"
    }
   ],
   "source": [
    "#plot z distributions\n",
    "nd = len(peas)\n",
    "nr = len(rzpea)\n",
    "plt.hist(peas['z'], histtype='stepfilled', bins=20,alpha=0.2,color='b',weights=None,normed=True,\\\n",
    "         label='Peas \\n N='+str(nd))\n",
    "plt.hist(rzpea['z'], histtype='step', bins=20,alpha=0.5,normed=True,weights=None,\\\n",
    "         label='randoms\\n N='+str(nr))\n",
    "plt.xlabel('z')\n",
    "plt.legend(loc='best', frameon=False)\n",
    "\n",
    "#plt.savefig('../plots/zdist_agn_v_2mrsgalaxies_wrandoms2.pdf')"
   ]
  },
  {
   "cell_type": "code",
   "execution_count": 17,
   "metadata": {},
   "outputs": [
    {
     "data": {
      "image/png": "[encoded data removed]",
      "text/plain": [
       "<matplotlib.figure.Figure at 0x11e7bb2b0>"
      ]
     },
     "metadata": {},
     "output_type": "display_data"
    }
   ],
   "source": [
    "ra = coord.Angle(peas['ra']*u.degree)\n",
    "ra = ra.wrap_at(180*u.degree)\n",
    "dec = coord.Angle(peas['dec']*u.degree)\n",
    "\n",
    "rar = coord.Angle(rzpea['ra']*u.degree)\n",
    "rar = rar.wrap_at(180*u.degree)\n",
    "decr = coord.Angle(rzpea['dec']*u.degree)\n",
    "\n",
    "fig = plt.figure(figsize=(8,6))\n",
    "ax = fig.add_subplot(111, projection=\"aitoff\")\n",
    "\n",
    "ax.scatter(rar.radian,decr.radian,1,color='k',alpha=.05)\n",
    "ax.scatter(ra.radian, dec.radian,1,color='g',marker='o')\n",
    "\n",
    "# blue is non-random default color used, black is randoms (k), reds r, cyan is c, green is g, points is transparent\n",
    "# marker='o', '+', '*','.', 'x','square' or 's'\tSquare'diamond'or'd','^','v', '>', '<','pentagram' or 'p','hexagram' or 'h','none'\n",
    "\n",
    "plt.savefig('../plots/PeaRand_ra_dec.pdf')"
   ]
  },
  {
   "cell_type": "code",
   "execution_count": 10,
   "metadata": {},
   "outputs": [
    {
     "data": {
      "text/plain": [
       "<matplotlib.collections.PathCollection at 0x102d4c2e8>"
      ]
     },
     "execution_count": 10,
     "metadata": {},
     "output_type": "execute_result"
    },
    {
     "data": {
      "image/png": "[encoded data removed]",
      "text/plain": [
       "<matplotlib.figure.Figure at 0x118a6bb70>"
      ]
     },
     "metadata": {},
     "output_type": "display_data"
    }
   ],
   "source": [
    "##Plotting galactic l & b\n",
    "rar = coord.Angle(rzpea['l']*u.degree)\n",
    "rar = rar.wrap_at(180*u.degree)\n",
    "decr = coord.Angle(rzpea['b']*u.degree)\n",
    "fig = plt.figure(figsize=(8,6))\n",
    "ax = fig.add_subplot(111, projection=\"aitoff\")\n",
    "ax.scatter(rar.radian,decr.radian,1,color='k',alpha=.2)\n",
    "#ax.scatter(ra.radian, dec.radian)\n",
    "# blue is non-random default color used, black is randoms (k), reds r, cyan is c, green is g, points is transparent\n",
    "#plt.savefig('../plots/PeaRand_ra_dec.pdf')"
   ]
  },
  {
   "cell_type": "markdown",
   "metadata": {},
   "source": [
    "## Read in LRG catalogs (from Nikhil's BOSS catalog formatted in LuminousRedGalaxies.py)"
   ]
  },
  {
   "cell_type": "code",
   "execution_count": 10,
   "metadata": {
    "collapsed": true
   },
   "outputs": [],
   "source": [
    "LRG= Table.read('../cat/LRGzcat.fits')\n",
    "LRGr=Table.read('../cat/LRGRandzcat.fits')"
   ]
  },
  {
   "cell_type": "code",
   "execution_count": 18,
   "metadata": {},
   "outputs": [
    {
     "name": "stdout",
     "output_type": "stream",
     "text": [
      "('DR12_OBJID', 'ra', 'dec', 'z', 'cdist')\n",
      "('z', 'ra', 'dec', 'l', 'b', 'cdist')\n",
      "('ra', 'dec', 'z', 'cdist')\n",
      "('ra', 'dec', 'z', 'cdist')\n"
     ]
    }
   ],
   "source": [
    "#Needed for cross correlation - arrays w/ ra/dec/z/cdist\n",
    "print(peas.dtype.names)\n",
    "print(rzpea.dtype.names)\n",
    "print(LRG.dtype.names)\n",
    "print(LRGr.dtype.names)\n"
   ]
  },
  {
   "cell_type": "code",
   "execution_count": 19,
   "metadata": {},
   "outputs": [
    {
     "data": {
      "text/plain": [
       "<matplotlib.legend.Legend at 0x115a98f98>"
      ]
     },
     "execution_count": 19,
     "metadata": {},
     "output_type": "execute_result"
    },
    {
     "data": {
      "image/png": "[encoded data removed]",
      "text/plain": [
       "<matplotlib.figure.Figure at 0x11764cc50>"
      ]
     },
     "metadata": {},
     "output_type": "display_data"
    }
   ],
   "source": [
    "nd = len(LRG)\n",
    "nr = len(peas)\n",
    "plt.hist(LRG['z'], histtype='stepfilled', bins=20,alpha=0.2,color='b',weights=None,normed=True,\\\n",
    "         label='LRGs \\n N='+str(nd))\n",
    "plt.hist(peas['z'], histtype='step', bins=20,alpha=0.5,normed=True,weights=None,\\\n",
    "         label='Peas\\n N='+str(nr))\n",
    "plt.xlabel('z')\n",
    "plt.legend(loc='best', frameon=False)\n"
   ]
  },
  {
   "cell_type": "code",
   "execution_count": 21,
   "metadata": {},
   "outputs": [
    {
     "data": {
      "text/plain": [
       "<matplotlib.collections.PathCollection at 0x117543710>"
      ]
     },
     "execution_count": 21,
     "metadata": {},
     "output_type": "execute_result"
    },
    {
     "data": {
      "image/png": "[encoded data removed]",
      "text/plain": [
       "<matplotlib.figure.Figure at 0x115f01160>"
      ]
     },
     "metadata": {},
     "output_type": "display_data"
    }
   ],
   "source": [
    "ra = coord.Angle(peas['ra']*u.degree)\n",
    "ra = ra.wrap_at(180*u.degree)\n",
    "dec = coord.Angle(peas['dec']*u.degree)\n",
    "\n",
    "raLRG = coord.Angle(LRG['ra']*u.degree)\n",
    "raLRG = raLRG.wrap_at(180*u.degree)\n",
    "decLRG = coord.Angle(LRG['dec']*u.degree)\n",
    "\n",
    "fig = plt.figure(figsize=(8,6))\n",
    "ax = fig.add_subplot(111, projection=\"aitoff\")\n",
    "ax.scatter(ra.radian, dec.radian,10,color='g',marker=\".\",alpha=.7)\n",
    "\n",
    "ax.scatter(raLRG.radian,decLRG.radian,1,color='k',alpha=.01)\n",
    "#raall = coord.Angle(peasall['ra']*u.degree)\n",
    "#raall = raall.wrap_at(180*u.degree)\n",
    "#decall = coord.Angle(peasall['dec']*u.degree)\n",
    "#ax.scatter(raall.radian, decall.radian,10,color='r')\n",
    "# blue is non-random default color used, black is randoms (k), reds r, cyan is c, green is g, points is transparent\n",
    "# marker = 'd' diamond,\n",
    "#plt.savefig('../plots/PeaRand_ra_dec.pdf')"
   ]
  },
  {
   "cell_type": "markdown",
   "metadata": {},
   "source": [
    "# Clustering in a variety of combinations (Auto & Cross)\n",
    "# 1st: Cross Correlation Peas vs. LRG"
   ]
  },
  {
   "cell_type": "code",
   "execution_count": 40,
   "metadata": {
    "collapsed": true
   },
   "outputs": [],
   "source": [
    "## Initialize bins, $\\pi_{max}$\n",
    "# set out to 60 Mpc length, as a function of r_p, each scale is integrated from 0 to 60 Mpc (Note Zehavi et al. used pimax = 40 mpc)\n",
    "###tune rbins, choose lenght and plot several lengths vs. correlation function. (wp of 2mp, as a function of pi max) )\n",
    "pimax=40\n",
    "nbins = 10\n",
    "bins = np.logspace(-1, np.log10(40), nbins + 1)"
   ]
  },
  {
   "cell_type": "code",
   "execution_count": 41,
   "metadata": {},
   "outputs": [
    {
     "name": "stdout",
     "output_type": "stream",
     "text": [
      "2017-07-08 08:33:38\n",
      "Warning: found negative RA values, wrapping into [0.0, 360.0]  range\n",
      "Warning: found negative RA values, wrapping into [0.0, 360.0]  range\n",
      "beginning jackknifes\n",
      "0 0 0 72.0 -90.0 -36.86989764584402\n",
      "0 0 0 72.0 -36.86989764584402 -11.536959032815485\n",
      "55 27124 0 72.0 -11.536959032815485 11.536959032815492\n",
      "59 29555 0 72.0 11.536959032815492 36.86989764584403\n",
      "0 0 0 72.0 36.86989764584403 90.0\n",
      "0 0 72.0 144.0 -90.0 -36.86989764584402\n",
      "0 0 72.0 144.0 -36.86989764584402 -11.536959032815485\n",
      "15 7594 72.0 144.0 -11.536959032815485 11.536959032815492\n",
      "34 17222 72.0 144.0 11.536959032815492 36.86989764584403\n",
      "31 15433 72.0 144.0 36.86989764584403 90.0\n",
      "0 0 144.0 216.0 -90.0 -36.86989764584402\n",
      "0 0 144.0 216.0 -36.86989764584402 -11.536959032815485\n",
      "29 14353 144.0 216.0 -11.536959032815485 11.536959032815492\n",
      "62 30933 144.0 216.0 11.536959032815492 36.86989764584403\n",
      "90 44900 144.0 216.0 36.86989764584403 90.0\n",
      "0 0 216.0 288.0 -90.0 -36.86989764584402\n",
      "0 0 216.0 288.0 -36.86989764584402 -11.536959032815485\n",
      "19 9765 216.0 288.0 -11.536959032815485 11.536959032815492\n",
      "24 11269 216.0 288.0 11.536959032815492 36.86989764584403\n",
      "26 13439 216.0 288.0 36.86989764584403 90.0\n",
      "0 0 288.0 360.0 -90.0 -36.86989764584402\n",
      "0 117 288.0 360.0 -36.86989764584402 -11.536959032815485\n",
      "29 14575 288.0 360.0 -11.536959032815485 11.536959032815492\n",
      "6 2834 288.0 360.0 11.536959032815492 36.86989764584403\n",
      "0 0 288.0 360.0 36.86989764584403 90.0\n",
      "Number of blocks:  13\n",
      "1 / 13\n",
      "2 / 13\n",
      "3 / 13\n",
      "4 / 13\n",
      "5 / 13\n",
      "6 / 13\n",
      "7 / 13\n",
      "8 / 13\n",
      "9 / 13\n",
      "10 / 13\n",
      "11 / 13\n",
      "12 / 13\n",
      "13 / 13\n",
      "2017-07-08 08:51:11\n"
     ]
    }
   ],
   "source": [
    "## Run a clustering cross correlation b/w the peas & LRGs w/ no jacknif errors\n",
    "print(strftime(\"%Y-%m-%d %H:%M:%S\", gmtime()))\n",
    "#wpx=wp_d1d2(d1=peas,d2=LRG,r2=LRGr, bins=bins, pimax=pimax, r1=rzpea, estimator='L')\n",
    "## with errors? these are wrong, helpix divides sky into projection of equal area pixels, bin sample \n",
    "#m is # jaclknife,try40 (NOTE 40 min to run\n",
    "rp,wp_ag,wp_ag_err,Mag = w.cross_wp(d1=peas, d2=LRG, r1=rzpea, r2=LRGr, bins=bins, pimax=pimax,m=5, estimator='L')\n",
    "print(strftime(\"%Y-%m-%d %H:%M:%S\", gmtime()))\n"
   ]
  },
  {
   "cell_type": "code",
   "execution_count": 19,
   "metadata": {},
   "outputs": [],
   "source": [
    "### from a auto correlation in lumionous red gal .py\n",
    "##sqrt(lrgauto/peascrosslrg)=biaslrgauto/biaslrgpeas (take outside several mpc)\n",
    "#LRGwp_p=np.array([ 1026.17777937,   681.95715804,   379.20917454,   188.58986124,\n",
    "##         104.93445936,    68.33945071,    42.54954507,    24.3757939 ,\n",
    "#          12.65178423,     5.42466491])\n",
    "#lrgrp=np.array([  0.14102821,   0.25675091,   0.46743152,   0.85098909,1.54928027,   2.8205642 ,   5.13501822,   9.34863035, 17.01978177,  30.98560543])"
   ]
  },
  {
   "cell_type": "code",
   "execution_count": 47,
   "metadata": {},
   "outputs": [
    {
     "data": {
      "text/plain": [
       "[0.1, 100, 0.5, 1000]"
      ]
     },
     "execution_count": 47,
     "metadata": {},
     "output_type": "execute_result"
    },
    {
     "name": "stdout",
     "output_type": "stream",
     "text": [
      "Error in callback <function install_repl_displayhook.<locals>.post_execute at 0x1104bad90> (for post_execute):\n"
     ]
    },
    {
     "ename": "TypeError",
     "evalue": "First argument must be a path or file object reading bytes",
     "output_type": "error",
     "traceback": [
      "\u001b[0;31m---------------------------------------------------------------------------\u001b[0m",
      "\u001b[0;31mTypeError\u001b[0m                                 Traceback (most recent call last)",
      "\u001b[0;32m/Users/ccardamone/anaconda/lib/python3.5/site-packages/matplotlib/pyplot.py\u001b[0m in \u001b[0;36mpost_execute\u001b[0;34m()\u001b[0m\n\u001b[1;32m    145\u001b[0m             \u001b[0;32mdef\u001b[0m \u001b[0mpost_execute\u001b[0m\u001b[0;34m(\u001b[0m\u001b[0;34m)\u001b[0m\u001b[0;34m:\u001b[0m\u001b[0;34m\u001b[0m\u001b[0m\n\u001b[1;32m    146\u001b[0m                 \u001b[0;32mif\u001b[0m \u001b[0mmatplotlib\u001b[0m\u001b[0;34m.\u001b[0m\u001b[0mis_interactive\u001b[0m\u001b[0;34m(\u001b[0m\u001b[0;34m)\u001b[0m\u001b[0;34m:\u001b[0m\u001b[0;34m\u001b[0m\u001b[0m\n\u001b[0;32m--> 147\u001b[0;31m                     \u001b[0mdraw_all\u001b[0m\u001b[0;34m(\u001b[0m\u001b[0;34m)\u001b[0m\u001b[0;34m\u001b[0m\u001b[0m\n\u001b[0m\u001b[1;32m    148\u001b[0m \u001b[0;34m\u001b[0m\u001b[0m\n\u001b[1;32m    149\u001b[0m             \u001b[0;31m# IPython >= 2\u001b[0m\u001b[0;34m\u001b[0m\u001b[0;34m\u001b[0m\u001b[0m\n",
      "\u001b[0;32m/Users/ccardamone/anaconda/lib/python3.5/site-packages/matplotlib/_pylab_helpers.py\u001b[0m in \u001b[0;36mdraw_all\u001b[0;34m(cls, force)\u001b[0m\n\u001b[1;32m    148\u001b[0m         \u001b[0;32mfor\u001b[0m \u001b[0mf_mgr\u001b[0m \u001b[0;32min\u001b[0m \u001b[0mcls\u001b[0m\u001b[0;34m.\u001b[0m\u001b[0mget_all_fig_managers\u001b[0m\u001b[0;34m(\u001b[0m\u001b[0;34m)\u001b[0m\u001b[0;34m:\u001b[0m\u001b[0;34m\u001b[0m\u001b[0m\n\u001b[1;32m    149\u001b[0m             \u001b[0;32mif\u001b[0m \u001b[0mforce\u001b[0m \u001b[0;32mor\u001b[0m \u001b[0mf_mgr\u001b[0m\u001b[0;34m.\u001b[0m\u001b[0mcanvas\u001b[0m\u001b[0;34m.\u001b[0m\u001b[0mfigure\u001b[0m\u001b[0;34m.\u001b[0m\u001b[0mstale\u001b[0m\u001b[0;34m:\u001b[0m\u001b[0;34m\u001b[0m\u001b[0m\n\u001b[0;32m--> 150\u001b[0;31m                 \u001b[0mf_mgr\u001b[0m\u001b[0;34m.\u001b[0m\u001b[0mcanvas\u001b[0m\u001b[0;34m.\u001b[0m\u001b[0mdraw_idle\u001b[0m\u001b[0;34m(\u001b[0m\u001b[0;34m)\u001b[0m\u001b[0;34m\u001b[0m\u001b[0m\n\u001b[0m\u001b[1;32m    151\u001b[0m \u001b[0;34m\u001b[0m\u001b[0m\n\u001b[1;32m    152\u001b[0m \u001b[0matexit\u001b[0m\u001b[0;34m.\u001b[0m\u001b[0mregister\u001b[0m\u001b[0;34m(\u001b[0m\u001b[0mGcf\u001b[0m\u001b[0;34m.\u001b[0m\u001b[0mdestroy_all\u001b[0m\u001b[0;34m)\u001b[0m\u001b[0;34m\u001b[0m\u001b[0m\n",
      "\u001b[0;32m/Users/ccardamone/anaconda/lib/python3.5/site-packages/matplotlib/backend_bases.py\u001b[0m in \u001b[0;36mdraw_idle\u001b[0;34m(self, *args, **kwargs)\u001b[0m\n\u001b[1;32m   2024\u001b[0m         \u001b[0;32mif\u001b[0m \u001b[0;32mnot\u001b[0m \u001b[0mself\u001b[0m\u001b[0;34m.\u001b[0m\u001b[0m_is_idle_drawing\u001b[0m\u001b[0;34m:\u001b[0m\u001b[0;34m\u001b[0m\u001b[0m\n\u001b[1;32m   2025\u001b[0m             \u001b[0;32mwith\u001b[0m \u001b[0mself\u001b[0m\u001b[0;34m.\u001b[0m\u001b[0m_idle_draw_cntx\u001b[0m\u001b[0;34m(\u001b[0m\u001b[0;34m)\u001b[0m\u001b[0;34m:\u001b[0m\u001b[0;34m\u001b[0m\u001b[0m\n\u001b[0;32m-> 2026\u001b[0;31m                 \u001b[0mself\u001b[0m\u001b[0;34m.\u001b[0m\u001b[0mdraw\u001b[0m\u001b[0;34m(\u001b[0m\u001b[0;34m*\u001b[0m\u001b[0margs\u001b[0m\u001b[0;34m,\u001b[0m \u001b[0;34m**\u001b[0m\u001b[0mkwargs\u001b[0m\u001b[0;34m)\u001b[0m\u001b[0;34m\u001b[0m\u001b[0m\n\u001b[0m\u001b[1;32m   2027\u001b[0m \u001b[0;34m\u001b[0m\u001b[0m\n\u001b[1;32m   2028\u001b[0m     \u001b[0;32mdef\u001b[0m \u001b[0mdraw_cursor\u001b[0m\u001b[0;34m(\u001b[0m\u001b[0mself\u001b[0m\u001b[0;34m,\u001b[0m \u001b[0mevent\u001b[0m\u001b[0;34m)\u001b[0m\u001b[0;34m:\u001b[0m\u001b[0;34m\u001b[0m\u001b[0m\n",
      "\u001b[0;32m/Users/ccardamone/anaconda/lib/python3.5/site-packages/matplotlib/backends/backend_agg.py\u001b[0m in \u001b[0;36mdraw\u001b[0;34m(self)\u001b[0m\n\u001b[1;32m    472\u001b[0m \u001b[0;34m\u001b[0m\u001b[0m\n\u001b[1;32m    473\u001b[0m         \u001b[0;32mtry\u001b[0m\u001b[0;34m:\u001b[0m\u001b[0;34m\u001b[0m\u001b[0m\n\u001b[0;32m--> 474\u001b[0;31m             \u001b[0mself\u001b[0m\u001b[0;34m.\u001b[0m\u001b[0mfigure\u001b[0m\u001b[0;34m.\u001b[0m\u001b[0mdraw\u001b[0m\u001b[0;34m(\u001b[0m\u001b[0mself\u001b[0m\u001b[0;34m.\u001b[0m\u001b[0mrenderer\u001b[0m\u001b[0;34m)\u001b[0m\u001b[0;34m\u001b[0m\u001b[0m\n\u001b[0m\u001b[1;32m    475\u001b[0m         \u001b[0;32mfinally\u001b[0m\u001b[0;34m:\u001b[0m\u001b[0;34m\u001b[0m\u001b[0m\n\u001b[1;32m    476\u001b[0m             \u001b[0mRendererAgg\u001b[0m\u001b[0;34m.\u001b[0m\u001b[0mlock\u001b[0m\u001b[0;34m.\u001b[0m\u001b[0mrelease\u001b[0m\u001b[0;34m(\u001b[0m\u001b[0;34m)\u001b[0m\u001b[0;34m\u001b[0m\u001b[0m\n",
      "\u001b[0;32m/Users/ccardamone/anaconda/lib/python3.5/site-packages/matplotlib/artist.py\u001b[0m in \u001b[0;36mdraw_wrapper\u001b[0;34m(artist, renderer, *args, **kwargs)\u001b[0m\n\u001b[1;32m     59\u001b[0m     \u001b[0;32mdef\u001b[0m \u001b[0mdraw_wrapper\u001b[0m\u001b[0;34m(\u001b[0m\u001b[0martist\u001b[0m\u001b[0;34m,\u001b[0m \u001b[0mrenderer\u001b[0m\u001b[0;34m,\u001b[0m \u001b[0;34m*\u001b[0m\u001b[0margs\u001b[0m\u001b[0;34m,\u001b[0m \u001b[0;34m**\u001b[0m\u001b[0mkwargs\u001b[0m\u001b[0;34m)\u001b[0m\u001b[0;34m:\u001b[0m\u001b[0;34m\u001b[0m\u001b[0m\n\u001b[1;32m     60\u001b[0m         \u001b[0mbefore\u001b[0m\u001b[0;34m(\u001b[0m\u001b[0martist\u001b[0m\u001b[0;34m,\u001b[0m \u001b[0mrenderer\u001b[0m\u001b[0;34m)\u001b[0m\u001b[0;34m\u001b[0m\u001b[0m\n\u001b[0;32m---> 61\u001b[0;31m         \u001b[0mdraw\u001b[0m\u001b[0;34m(\u001b[0m\u001b[0martist\u001b[0m\u001b[0;34m,\u001b[0m \u001b[0mrenderer\u001b[0m\u001b[0;34m,\u001b[0m \u001b[0;34m*\u001b[0m\u001b[0margs\u001b[0m\u001b[0;34m,\u001b[0m \u001b[0;34m**\u001b[0m\u001b[0mkwargs\u001b[0m\u001b[0;34m)\u001b[0m\u001b[0;34m\u001b[0m\u001b[0m\n\u001b[0m\u001b[1;32m     62\u001b[0m         \u001b[0mafter\u001b[0m\u001b[0;34m(\u001b[0m\u001b[0martist\u001b[0m\u001b[0;34m,\u001b[0m \u001b[0mrenderer\u001b[0m\u001b[0;34m)\u001b[0m\u001b[0;34m\u001b[0m\u001b[0m\n\u001b[1;32m     63\u001b[0m \u001b[0;34m\u001b[0m\u001b[0m\n",
      "\u001b[0;32m/Users/ccardamone/anaconda/lib/python3.5/site-packages/matplotlib/figure.py\u001b[0m in \u001b[0;36mdraw\u001b[0;34m(self, renderer)\u001b[0m\n\u001b[1;32m   1157\u001b[0m         \u001b[0mdsu\u001b[0m\u001b[0;34m.\u001b[0m\u001b[0msort\u001b[0m\u001b[0;34m(\u001b[0m\u001b[0mkey\u001b[0m\u001b[0;34m=\u001b[0m\u001b[0mitemgetter\u001b[0m\u001b[0;34m(\u001b[0m\u001b[0;36m0\u001b[0m\u001b[0;34m)\u001b[0m\u001b[0;34m)\u001b[0m\u001b[0;34m\u001b[0m\u001b[0m\n\u001b[1;32m   1158\u001b[0m         \u001b[0;32mfor\u001b[0m \u001b[0mzorder\u001b[0m\u001b[0;34m,\u001b[0m \u001b[0ma\u001b[0m\u001b[0;34m,\u001b[0m \u001b[0mfunc\u001b[0m\u001b[0;34m,\u001b[0m \u001b[0margs\u001b[0m \u001b[0;32min\u001b[0m \u001b[0mdsu\u001b[0m\u001b[0;34m:\u001b[0m\u001b[0;34m\u001b[0m\u001b[0m\n\u001b[0;32m-> 1159\u001b[0;31m             \u001b[0mfunc\u001b[0m\u001b[0;34m(\u001b[0m\u001b[0;34m*\u001b[0m\u001b[0margs\u001b[0m\u001b[0;34m)\u001b[0m\u001b[0;34m\u001b[0m\u001b[0m\n\u001b[0m\u001b[1;32m   1160\u001b[0m \u001b[0;34m\u001b[0m\u001b[0m\n\u001b[1;32m   1161\u001b[0m         \u001b[0mrenderer\u001b[0m\u001b[0;34m.\u001b[0m\u001b[0mclose_group\u001b[0m\u001b[0;34m(\u001b[0m\u001b[0;34m'figure'\u001b[0m\u001b[0;34m)\u001b[0m\u001b[0;34m\u001b[0m\u001b[0m\n",
      "\u001b[0;32m/Users/ccardamone/anaconda/lib/python3.5/site-packages/matplotlib/artist.py\u001b[0m in \u001b[0;36mdraw_wrapper\u001b[0;34m(artist, renderer, *args, **kwargs)\u001b[0m\n\u001b[1;32m     59\u001b[0m     \u001b[0;32mdef\u001b[0m \u001b[0mdraw_wrapper\u001b[0m\u001b[0;34m(\u001b[0m\u001b[0martist\u001b[0m\u001b[0;34m,\u001b[0m \u001b[0mrenderer\u001b[0m\u001b[0;34m,\u001b[0m \u001b[0;34m*\u001b[0m\u001b[0margs\u001b[0m\u001b[0;34m,\u001b[0m \u001b[0;34m**\u001b[0m\u001b[0mkwargs\u001b[0m\u001b[0;34m)\u001b[0m\u001b[0;34m:\u001b[0m\u001b[0;34m\u001b[0m\u001b[0m\n\u001b[1;32m     60\u001b[0m         \u001b[0mbefore\u001b[0m\u001b[0;34m(\u001b[0m\u001b[0martist\u001b[0m\u001b[0;34m,\u001b[0m \u001b[0mrenderer\u001b[0m\u001b[0;34m)\u001b[0m\u001b[0;34m\u001b[0m\u001b[0m\n\u001b[0;32m---> 61\u001b[0;31m         \u001b[0mdraw\u001b[0m\u001b[0;34m(\u001b[0m\u001b[0martist\u001b[0m\u001b[0;34m,\u001b[0m \u001b[0mrenderer\u001b[0m\u001b[0;34m,\u001b[0m \u001b[0;34m*\u001b[0m\u001b[0margs\u001b[0m\u001b[0;34m,\u001b[0m \u001b[0;34m**\u001b[0m\u001b[0mkwargs\u001b[0m\u001b[0;34m)\u001b[0m\u001b[0;34m\u001b[0m\u001b[0m\n\u001b[0m\u001b[1;32m     62\u001b[0m         \u001b[0mafter\u001b[0m\u001b[0;34m(\u001b[0m\u001b[0martist\u001b[0m\u001b[0;34m,\u001b[0m \u001b[0mrenderer\u001b[0m\u001b[0;34m)\u001b[0m\u001b[0;34m\u001b[0m\u001b[0m\n\u001b[1;32m     63\u001b[0m \u001b[0;34m\u001b[0m\u001b[0m\n",
      "\u001b[0;32m/Users/ccardamone/anaconda/lib/python3.5/site-packages/matplotlib/axes/_base.py\u001b[0m in \u001b[0;36mdraw\u001b[0;34m(self, renderer, inframe)\u001b[0m\n\u001b[1;32m   2322\u001b[0m \u001b[0;34m\u001b[0m\u001b[0m\n\u001b[1;32m   2323\u001b[0m         \u001b[0;32mfor\u001b[0m \u001b[0mzorder\u001b[0m\u001b[0;34m,\u001b[0m \u001b[0ma\u001b[0m \u001b[0;32min\u001b[0m \u001b[0mdsu\u001b[0m\u001b[0;34m:\u001b[0m\u001b[0;34m\u001b[0m\u001b[0m\n\u001b[0;32m-> 2324\u001b[0;31m             \u001b[0ma\u001b[0m\u001b[0;34m.\u001b[0m\u001b[0mdraw\u001b[0m\u001b[0;34m(\u001b[0m\u001b[0mrenderer\u001b[0m\u001b[0;34m)\u001b[0m\u001b[0;34m\u001b[0m\u001b[0m\n\u001b[0m\u001b[1;32m   2325\u001b[0m \u001b[0;34m\u001b[0m\u001b[0m\n\u001b[1;32m   2326\u001b[0m         \u001b[0mrenderer\u001b[0m\u001b[0;34m.\u001b[0m\u001b[0mclose_group\u001b[0m\u001b[0;34m(\u001b[0m\u001b[0;34m'axes'\u001b[0m\u001b[0;34m)\u001b[0m\u001b[0;34m\u001b[0m\u001b[0m\n",
      "\u001b[0;32m/Users/ccardamone/anaconda/lib/python3.5/site-packages/matplotlib/artist.py\u001b[0m in \u001b[0;36mdraw_wrapper\u001b[0;34m(artist, renderer, *args, **kwargs)\u001b[0m\n\u001b[1;32m     59\u001b[0m     \u001b[0;32mdef\u001b[0m \u001b[0mdraw_wrapper\u001b[0m\u001b[0;34m(\u001b[0m\u001b[0martist\u001b[0m\u001b[0;34m,\u001b[0m \u001b[0mrenderer\u001b[0m\u001b[0;34m,\u001b[0m \u001b[0;34m*\u001b[0m\u001b[0margs\u001b[0m\u001b[0;34m,\u001b[0m \u001b[0;34m**\u001b[0m\u001b[0mkwargs\u001b[0m\u001b[0;34m)\u001b[0m\u001b[0;34m:\u001b[0m\u001b[0;34m\u001b[0m\u001b[0m\n\u001b[1;32m     60\u001b[0m         \u001b[0mbefore\u001b[0m\u001b[0;34m(\u001b[0m\u001b[0martist\u001b[0m\u001b[0;34m,\u001b[0m \u001b[0mrenderer\u001b[0m\u001b[0;34m)\u001b[0m\u001b[0;34m\u001b[0m\u001b[0m\n\u001b[0;32m---> 61\u001b[0;31m         \u001b[0mdraw\u001b[0m\u001b[0;34m(\u001b[0m\u001b[0martist\u001b[0m\u001b[0;34m,\u001b[0m \u001b[0mrenderer\u001b[0m\u001b[0;34m,\u001b[0m \u001b[0;34m*\u001b[0m\u001b[0margs\u001b[0m\u001b[0;34m,\u001b[0m \u001b[0;34m**\u001b[0m\u001b[0mkwargs\u001b[0m\u001b[0;34m)\u001b[0m\u001b[0;34m\u001b[0m\u001b[0m\n\u001b[0m\u001b[1;32m     62\u001b[0m         \u001b[0mafter\u001b[0m\u001b[0;34m(\u001b[0m\u001b[0martist\u001b[0m\u001b[0;34m,\u001b[0m \u001b[0mrenderer\u001b[0m\u001b[0;34m)\u001b[0m\u001b[0;34m\u001b[0m\u001b[0m\n\u001b[1;32m     63\u001b[0m \u001b[0;34m\u001b[0m\u001b[0m\n",
      "\u001b[0;32m/Users/ccardamone/anaconda/lib/python3.5/site-packages/matplotlib/axis.py\u001b[0m in \u001b[0;36mdraw\u001b[0;34m(self, renderer, *args, **kwargs)\u001b[0m\n\u001b[1;32m   1106\u001b[0m         \u001b[0mticks_to_draw\u001b[0m \u001b[0;34m=\u001b[0m \u001b[0mself\u001b[0m\u001b[0;34m.\u001b[0m\u001b[0m_update_ticks\u001b[0m\u001b[0;34m(\u001b[0m\u001b[0mrenderer\u001b[0m\u001b[0;34m)\u001b[0m\u001b[0;34m\u001b[0m\u001b[0m\n\u001b[1;32m   1107\u001b[0m         ticklabelBoxes, ticklabelBoxes2 = self._get_tick_bboxes(ticks_to_draw,\n\u001b[0;32m-> 1108\u001b[0;31m                                                                 renderer)\n\u001b[0m\u001b[1;32m   1109\u001b[0m \u001b[0;34m\u001b[0m\u001b[0m\n\u001b[1;32m   1110\u001b[0m         \u001b[0;32mfor\u001b[0m \u001b[0mtick\u001b[0m \u001b[0;32min\u001b[0m \u001b[0mticks_to_draw\u001b[0m\u001b[0;34m:\u001b[0m\u001b[0;34m\u001b[0m\u001b[0m\n",
      "\u001b[0;32m/Users/ccardamone/anaconda/lib/python3.5/site-packages/matplotlib/axis.py\u001b[0m in \u001b[0;36m_get_tick_bboxes\u001b[0;34m(self, ticks, renderer)\u001b[0m\n\u001b[1;32m   1056\u001b[0m         \u001b[0;32mfor\u001b[0m \u001b[0mtick\u001b[0m \u001b[0;32min\u001b[0m \u001b[0mticks\u001b[0m\u001b[0;34m:\u001b[0m\u001b[0;34m\u001b[0m\u001b[0m\n\u001b[1;32m   1057\u001b[0m             \u001b[0;32mif\u001b[0m \u001b[0mtick\u001b[0m\u001b[0;34m.\u001b[0m\u001b[0mlabel1On\u001b[0m \u001b[0;32mand\u001b[0m \u001b[0mtick\u001b[0m\u001b[0;34m.\u001b[0m\u001b[0mlabel1\u001b[0m\u001b[0;34m.\u001b[0m\u001b[0mget_visible\u001b[0m\u001b[0;34m(\u001b[0m\u001b[0;34m)\u001b[0m\u001b[0;34m:\u001b[0m\u001b[0;34m\u001b[0m\u001b[0m\n\u001b[0;32m-> 1058\u001b[0;31m                 \u001b[0mextent\u001b[0m \u001b[0;34m=\u001b[0m \u001b[0mtick\u001b[0m\u001b[0;34m.\u001b[0m\u001b[0mlabel1\u001b[0m\u001b[0;34m.\u001b[0m\u001b[0mget_window_extent\u001b[0m\u001b[0;34m(\u001b[0m\u001b[0mrenderer\u001b[0m\u001b[0;34m)\u001b[0m\u001b[0;34m\u001b[0m\u001b[0m\n\u001b[0m\u001b[1;32m   1059\u001b[0m                 \u001b[0mticklabelBoxes\u001b[0m\u001b[0;34m.\u001b[0m\u001b[0mappend\u001b[0m\u001b[0;34m(\u001b[0m\u001b[0mextent\u001b[0m\u001b[0;34m)\u001b[0m\u001b[0;34m\u001b[0m\u001b[0m\n\u001b[1;32m   1060\u001b[0m             \u001b[0;32mif\u001b[0m \u001b[0mtick\u001b[0m\u001b[0;34m.\u001b[0m\u001b[0mlabel2On\u001b[0m \u001b[0;32mand\u001b[0m \u001b[0mtick\u001b[0m\u001b[0;34m.\u001b[0m\u001b[0mlabel2\u001b[0m\u001b[0;34m.\u001b[0m\u001b[0mget_visible\u001b[0m\u001b[0;34m(\u001b[0m\u001b[0;34m)\u001b[0m\u001b[0;34m:\u001b[0m\u001b[0;34m\u001b[0m\u001b[0m\n",
      "\u001b[0;32m/Users/ccardamone/anaconda/lib/python3.5/site-packages/matplotlib/text.py\u001b[0m in \u001b[0;36mget_window_extent\u001b[0;34m(self, renderer, dpi)\u001b[0m\n\u001b[1;32m    959\u001b[0m             \u001b[0;32mraise\u001b[0m \u001b[0mRuntimeError\u001b[0m\u001b[0;34m(\u001b[0m\u001b[0;34m'Cannot get window extent w/o renderer'\u001b[0m\u001b[0;34m)\u001b[0m\u001b[0;34m\u001b[0m\u001b[0m\n\u001b[1;32m    960\u001b[0m \u001b[0;34m\u001b[0m\u001b[0m\n\u001b[0;32m--> 961\u001b[0;31m         \u001b[0mbbox\u001b[0m\u001b[0;34m,\u001b[0m \u001b[0minfo\u001b[0m\u001b[0;34m,\u001b[0m \u001b[0mdescent\u001b[0m \u001b[0;34m=\u001b[0m \u001b[0mself\u001b[0m\u001b[0;34m.\u001b[0m\u001b[0m_get_layout\u001b[0m\u001b[0;34m(\u001b[0m\u001b[0mself\u001b[0m\u001b[0;34m.\u001b[0m\u001b[0m_renderer\u001b[0m\u001b[0;34m)\u001b[0m\u001b[0;34m\u001b[0m\u001b[0m\n\u001b[0m\u001b[1;32m    962\u001b[0m         \u001b[0mx\u001b[0m\u001b[0;34m,\u001b[0m \u001b[0my\u001b[0m \u001b[0;34m=\u001b[0m \u001b[0mself\u001b[0m\u001b[0;34m.\u001b[0m\u001b[0mget_unitless_position\u001b[0m\u001b[0;34m(\u001b[0m\u001b[0;34m)\u001b[0m\u001b[0;34m\u001b[0m\u001b[0m\n\u001b[1;32m    963\u001b[0m         \u001b[0mx\u001b[0m\u001b[0;34m,\u001b[0m \u001b[0my\u001b[0m \u001b[0;34m=\u001b[0m \u001b[0mself\u001b[0m\u001b[0;34m.\u001b[0m\u001b[0mget_transform\u001b[0m\u001b[0;34m(\u001b[0m\u001b[0;34m)\u001b[0m\u001b[0;34m.\u001b[0m\u001b[0mtransform_point\u001b[0m\u001b[0;34m(\u001b[0m\u001b[0;34m(\u001b[0m\u001b[0mx\u001b[0m\u001b[0;34m,\u001b[0m \u001b[0my\u001b[0m\u001b[0;34m)\u001b[0m\u001b[0;34m)\u001b[0m\u001b[0;34m\u001b[0m\u001b[0m\n",
      "\u001b[0;32m/Users/ccardamone/anaconda/lib/python3.5/site-packages/matplotlib/text.py\u001b[0m in \u001b[0;36m_get_layout\u001b[0;34m(self, renderer)\u001b[0m\n\u001b[1;32m    359\u001b[0m                 w, h, d = renderer.get_text_width_height_descent(clean_line,\n\u001b[1;32m    360\u001b[0m                                                         \u001b[0mself\u001b[0m\u001b[0;34m.\u001b[0m\u001b[0m_fontproperties\u001b[0m\u001b[0;34m,\u001b[0m\u001b[0;34m\u001b[0m\u001b[0m\n\u001b[0;32m--> 361\u001b[0;31m                                                         ismath=ismath)\n\u001b[0m\u001b[1;32m    362\u001b[0m             \u001b[0;32melse\u001b[0m\u001b[0;34m:\u001b[0m\u001b[0;34m\u001b[0m\u001b[0m\n\u001b[1;32m    363\u001b[0m                 \u001b[0mw\u001b[0m\u001b[0;34m,\u001b[0m \u001b[0mh\u001b[0m\u001b[0;34m,\u001b[0m \u001b[0md\u001b[0m \u001b[0;34m=\u001b[0m \u001b[0;36m0\u001b[0m\u001b[0;34m,\u001b[0m \u001b[0;36m0\u001b[0m\u001b[0;34m,\u001b[0m \u001b[0;36m0\u001b[0m\u001b[0;34m\u001b[0m\u001b[0m\n",
      "\u001b[0;32m/Users/ccardamone/anaconda/lib/python3.5/site-packages/matplotlib/backends/backend_agg.py\u001b[0m in \u001b[0;36mget_text_width_height_descent\u001b[0;34m(self, s, prop, ismath)\u001b[0m\n\u001b[1;32m    232\u001b[0m         \u001b[0;32mif\u001b[0m \u001b[0mismath\u001b[0m\u001b[0;34m:\u001b[0m\u001b[0;34m\u001b[0m\u001b[0m\n\u001b[1;32m    233\u001b[0m             \u001b[0mox\u001b[0m\u001b[0;34m,\u001b[0m \u001b[0moy\u001b[0m\u001b[0;34m,\u001b[0m \u001b[0mwidth\u001b[0m\u001b[0;34m,\u001b[0m \u001b[0mheight\u001b[0m\u001b[0;34m,\u001b[0m \u001b[0mdescent\u001b[0m\u001b[0;34m,\u001b[0m \u001b[0mfonts\u001b[0m\u001b[0;34m,\u001b[0m \u001b[0mused_characters\u001b[0m \u001b[0;34m=\u001b[0m\u001b[0;31m \u001b[0m\u001b[0;31m\\\u001b[0m\u001b[0;34m\u001b[0m\u001b[0m\n\u001b[0;32m--> 234\u001b[0;31m                 \u001b[0mself\u001b[0m\u001b[0;34m.\u001b[0m\u001b[0mmathtext_parser\u001b[0m\u001b[0;34m.\u001b[0m\u001b[0mparse\u001b[0m\u001b[0;34m(\u001b[0m\u001b[0ms\u001b[0m\u001b[0;34m,\u001b[0m \u001b[0mself\u001b[0m\u001b[0;34m.\u001b[0m\u001b[0mdpi\u001b[0m\u001b[0;34m,\u001b[0m \u001b[0mprop\u001b[0m\u001b[0;34m)\u001b[0m\u001b[0;34m\u001b[0m\u001b[0m\n\u001b[0m\u001b[1;32m    235\u001b[0m             \u001b[0;32mreturn\u001b[0m \u001b[0mwidth\u001b[0m\u001b[0;34m,\u001b[0m \u001b[0mheight\u001b[0m\u001b[0;34m,\u001b[0m \u001b[0mdescent\u001b[0m\u001b[0;34m\u001b[0m\u001b[0m\n\u001b[1;32m    236\u001b[0m \u001b[0;34m\u001b[0m\u001b[0m\n",
      "\u001b[0;32m/Users/ccardamone/anaconda/lib/python3.5/site-packages/matplotlib/mathtext.py\u001b[0m in \u001b[0;36mparse\u001b[0;34m(self, s, dpi, prop)\u001b[0m\n\u001b[1;32m   3105\u001b[0m             \u001b[0mfontset_class\u001b[0m \u001b[0;34m=\u001b[0m \u001b[0mself\u001b[0m\u001b[0;34m.\u001b[0m\u001b[0m_font_type_mapping\u001b[0m\u001b[0;34m.\u001b[0m\u001b[0mget\u001b[0m\u001b[0;34m(\u001b[0m\u001b[0mfontset\u001b[0m\u001b[0;34m.\u001b[0m\u001b[0mlower\u001b[0m\u001b[0;34m(\u001b[0m\u001b[0;34m)\u001b[0m\u001b[0;34m)\u001b[0m\u001b[0;34m\u001b[0m\u001b[0m\n\u001b[1;32m   3106\u001b[0m             \u001b[0;32mif\u001b[0m \u001b[0mfontset_class\u001b[0m \u001b[0;32mis\u001b[0m \u001b[0;32mnot\u001b[0m \u001b[0;32mNone\u001b[0m\u001b[0;34m:\u001b[0m\u001b[0;34m\u001b[0m\u001b[0m\n\u001b[0;32m-> 3107\u001b[0;31m                 \u001b[0mfont_output\u001b[0m \u001b[0;34m=\u001b[0m \u001b[0mfontset_class\u001b[0m\u001b[0;34m(\u001b[0m\u001b[0mprop\u001b[0m\u001b[0;34m,\u001b[0m \u001b[0mbackend\u001b[0m\u001b[0;34m)\u001b[0m\u001b[0;34m\u001b[0m\u001b[0m\n\u001b[0m\u001b[1;32m   3108\u001b[0m             \u001b[0;32melse\u001b[0m\u001b[0;34m:\u001b[0m\u001b[0;34m\u001b[0m\u001b[0m\n\u001b[1;32m   3109\u001b[0m                 raise ValueError(\n",
      "\u001b[0;32m/Users/ccardamone/anaconda/lib/python3.5/site-packages/matplotlib/mathtext.py\u001b[0m in \u001b[0;36m__init__\u001b[0;34m(self, *args, **kwargs)\u001b[0m\n\u001b[1;32m    678\u001b[0m \u001b[0;34m\u001b[0m\u001b[0m\n\u001b[1;32m    679\u001b[0m     \u001b[0;32mdef\u001b[0m \u001b[0m__init__\u001b[0m\u001b[0;34m(\u001b[0m\u001b[0mself\u001b[0m\u001b[0;34m,\u001b[0m \u001b[0;34m*\u001b[0m\u001b[0margs\u001b[0m\u001b[0;34m,\u001b[0m \u001b[0;34m**\u001b[0m\u001b[0mkwargs\u001b[0m\u001b[0;34m)\u001b[0m\u001b[0;34m:\u001b[0m\u001b[0;34m\u001b[0m\u001b[0m\n\u001b[0;32m--> 680\u001b[0;31m         \u001b[0mself\u001b[0m\u001b[0;34m.\u001b[0m\u001b[0m_stix_fallback\u001b[0m \u001b[0;34m=\u001b[0m \u001b[0mStixFonts\u001b[0m\u001b[0;34m(\u001b[0m\u001b[0;34m*\u001b[0m\u001b[0margs\u001b[0m\u001b[0;34m,\u001b[0m \u001b[0;34m**\u001b[0m\u001b[0mkwargs\u001b[0m\u001b[0;34m)\u001b[0m\u001b[0;34m\u001b[0m\u001b[0m\n\u001b[0m\u001b[1;32m    681\u001b[0m \u001b[0;34m\u001b[0m\u001b[0m\n\u001b[1;32m    682\u001b[0m         \u001b[0mTruetypeFonts\u001b[0m\u001b[0;34m.\u001b[0m\u001b[0m__init__\u001b[0m\u001b[0;34m(\u001b[0m\u001b[0mself\u001b[0m\u001b[0;34m,\u001b[0m \u001b[0;34m*\u001b[0m\u001b[0margs\u001b[0m\u001b[0;34m,\u001b[0m \u001b[0;34m**\u001b[0m\u001b[0mkwargs\u001b[0m\u001b[0;34m)\u001b[0m\u001b[0;34m\u001b[0m\u001b[0m\n",
      "\u001b[0;32m/Users/ccardamone/anaconda/lib/python3.5/site-packages/matplotlib/mathtext.py\u001b[0m in \u001b[0;36m__init__\u001b[0;34m(self, *args, **kwargs)\u001b[0m\n\u001b[1;32m    912\u001b[0m \u001b[0;34m\u001b[0m\u001b[0m\n\u001b[1;32m    913\u001b[0m     \u001b[0;32mdef\u001b[0m \u001b[0m__init__\u001b[0m\u001b[0;34m(\u001b[0m\u001b[0mself\u001b[0m\u001b[0;34m,\u001b[0m \u001b[0;34m*\u001b[0m\u001b[0margs\u001b[0m\u001b[0;34m,\u001b[0m \u001b[0;34m**\u001b[0m\u001b[0mkwargs\u001b[0m\u001b[0;34m)\u001b[0m\u001b[0;34m:\u001b[0m\u001b[0;34m\u001b[0m\u001b[0m\n\u001b[0;32m--> 914\u001b[0;31m         \u001b[0mTruetypeFonts\u001b[0m\u001b[0;34m.\u001b[0m\u001b[0m__init__\u001b[0m\u001b[0;34m(\u001b[0m\u001b[0mself\u001b[0m\u001b[0;34m,\u001b[0m \u001b[0;34m*\u001b[0m\u001b[0margs\u001b[0m\u001b[0;34m,\u001b[0m \u001b[0;34m**\u001b[0m\u001b[0mkwargs\u001b[0m\u001b[0;34m)\u001b[0m\u001b[0;34m\u001b[0m\u001b[0m\n\u001b[0m\u001b[1;32m    915\u001b[0m         \u001b[0mself\u001b[0m\u001b[0;34m.\u001b[0m\u001b[0mfontmap\u001b[0m \u001b[0;34m=\u001b[0m \u001b[0;34m{\u001b[0m\u001b[0;34m}\u001b[0m\u001b[0;34m\u001b[0m\u001b[0m\n\u001b[1;32m    916\u001b[0m         \u001b[0;32mfor\u001b[0m \u001b[0mkey\u001b[0m\u001b[0;34m,\u001b[0m \u001b[0mname\u001b[0m \u001b[0;32min\u001b[0m \u001b[0msix\u001b[0m\u001b[0;34m.\u001b[0m\u001b[0miteritems\u001b[0m\u001b[0;34m(\u001b[0m\u001b[0mself\u001b[0m\u001b[0;34m.\u001b[0m\u001b[0m_fontmap\u001b[0m\u001b[0;34m)\u001b[0m\u001b[0;34m:\u001b[0m\u001b[0;34m\u001b[0m\u001b[0m\n",
      "\u001b[0;32m/Users/ccardamone/anaconda/lib/python3.5/site-packages/matplotlib/mathtext.py\u001b[0m in \u001b[0;36m__init__\u001b[0;34m(self, default_font_prop, mathtext_backend)\u001b[0m\n\u001b[1;32m    564\u001b[0m \u001b[0;34m\u001b[0m\u001b[0m\n\u001b[1;32m    565\u001b[0m         \u001b[0mfilename\u001b[0m \u001b[0;34m=\u001b[0m \u001b[0mfindfont\u001b[0m\u001b[0;34m(\u001b[0m\u001b[0mdefault_font_prop\u001b[0m\u001b[0;34m)\u001b[0m\u001b[0;34m\u001b[0m\u001b[0m\n\u001b[0;32m--> 566\u001b[0;31m         \u001b[0mdefault_font\u001b[0m \u001b[0;34m=\u001b[0m \u001b[0mself\u001b[0m\u001b[0;34m.\u001b[0m\u001b[0mCachedFont\u001b[0m\u001b[0;34m(\u001b[0m\u001b[0mFT2Font\u001b[0m\u001b[0;34m(\u001b[0m\u001b[0mfilename\u001b[0m\u001b[0;34m)\u001b[0m\u001b[0;34m)\u001b[0m\u001b[0;34m\u001b[0m\u001b[0m\n\u001b[0m\u001b[1;32m    567\u001b[0m         \u001b[0mself\u001b[0m\u001b[0;34m.\u001b[0m\u001b[0m_fonts\u001b[0m\u001b[0;34m[\u001b[0m\u001b[0;34m'default'\u001b[0m\u001b[0;34m]\u001b[0m \u001b[0;34m=\u001b[0m \u001b[0mdefault_font\u001b[0m\u001b[0;34m\u001b[0m\u001b[0m\n\u001b[1;32m    568\u001b[0m         \u001b[0mself\u001b[0m\u001b[0;34m.\u001b[0m\u001b[0m_fonts\u001b[0m\u001b[0;34m[\u001b[0m\u001b[0;34m'regular'\u001b[0m\u001b[0;34m]\u001b[0m \u001b[0;34m=\u001b[0m \u001b[0mdefault_font\u001b[0m\u001b[0;34m\u001b[0m\u001b[0m\n",
      "\u001b[0;31mTypeError\u001b[0m: First argument must be a path or file object reading bytes"
     ]
    },
    {
     "ename": "TypeError",
     "evalue": "First argument must be a path or file object reading bytes",
     "output_type": "error",
     "traceback": [
      "\u001b[0;31m---------------------------------------------------------------------------\u001b[0m",
      "\u001b[0;31mTypeError\u001b[0m                                 Traceback (most recent call last)",
      "\u001b[0;32m/Users/ccardamone/anaconda/lib/python3.5/site-packages/IPython/core/formatters.py\u001b[0m in \u001b[0;36m__call__\u001b[0;34m(self, obj)\u001b[0m\n\u001b[1;32m    337\u001b[0m                 \u001b[0;32mpass\u001b[0m\u001b[0;34m\u001b[0m\u001b[0m\n\u001b[1;32m    338\u001b[0m             \u001b[0;32melse\u001b[0m\u001b[0;34m:\u001b[0m\u001b[0;34m\u001b[0m\u001b[0m\n\u001b[0;32m--> 339\u001b[0;31m                 \u001b[0;32mreturn\u001b[0m \u001b[0mprinter\u001b[0m\u001b[0;34m(\u001b[0m\u001b[0mobj\u001b[0m\u001b[0;34m)\u001b[0m\u001b[0;34m\u001b[0m\u001b[0m\n\u001b[0m\u001b[1;32m    340\u001b[0m             \u001b[0;31m# Finally look for special method names\u001b[0m\u001b[0;34m\u001b[0m\u001b[0;34m\u001b[0m\u001b[0m\n\u001b[1;32m    341\u001b[0m             \u001b[0mmethod\u001b[0m \u001b[0;34m=\u001b[0m \u001b[0m_safe_get_formatter_method\u001b[0m\u001b[0;34m(\u001b[0m\u001b[0mobj\u001b[0m\u001b[0;34m,\u001b[0m \u001b[0mself\u001b[0m\u001b[0;34m.\u001b[0m\u001b[0mprint_method\u001b[0m\u001b[0;34m)\u001b[0m\u001b[0;34m\u001b[0m\u001b[0m\n",
      "\u001b[0;32m/Users/ccardamone/anaconda/lib/python3.5/site-packages/IPython/core/pylabtools.py\u001b[0m in \u001b[0;36m<lambda>\u001b[0;34m(fig)\u001b[0m\n\u001b[1;32m    224\u001b[0m \u001b[0;34m\u001b[0m\u001b[0m\n\u001b[1;32m    225\u001b[0m     \u001b[0;32mif\u001b[0m \u001b[0;34m'png'\u001b[0m \u001b[0;32min\u001b[0m \u001b[0mformats\u001b[0m\u001b[0;34m:\u001b[0m\u001b[0;34m\u001b[0m\u001b[0m\n\u001b[0;32m--> 226\u001b[0;31m         \u001b[0mpng_formatter\u001b[0m\u001b[0;34m.\u001b[0m\u001b[0mfor_type\u001b[0m\u001b[0;34m(\u001b[0m\u001b[0mFigure\u001b[0m\u001b[0;34m,\u001b[0m \u001b[0;32mlambda\u001b[0m \u001b[0mfig\u001b[0m\u001b[0;34m:\u001b[0m \u001b[0mprint_figure\u001b[0m\u001b[0;34m(\u001b[0m\u001b[0mfig\u001b[0m\u001b[0;34m,\u001b[0m \u001b[0;34m'png'\u001b[0m\u001b[0;34m,\u001b[0m \u001b[0;34m**\u001b[0m\u001b[0mkwargs\u001b[0m\u001b[0;34m)\u001b[0m\u001b[0;34m)\u001b[0m\u001b[0;34m\u001b[0m\u001b[0m\n\u001b[0m\u001b[1;32m    227\u001b[0m     \u001b[0;32mif\u001b[0m \u001b[0;34m'retina'\u001b[0m \u001b[0;32min\u001b[0m \u001b[0mformats\u001b[0m \u001b[0;32mor\u001b[0m \u001b[0;34m'png2x'\u001b[0m \u001b[0;32min\u001b[0m \u001b[0mformats\u001b[0m\u001b[0;34m:\u001b[0m\u001b[0;34m\u001b[0m\u001b[0m\n\u001b[1;32m    228\u001b[0m         \u001b[0mpng_formatter\u001b[0m\u001b[0;34m.\u001b[0m\u001b[0mfor_type\u001b[0m\u001b[0;34m(\u001b[0m\u001b[0mFigure\u001b[0m\u001b[0;34m,\u001b[0m \u001b[0;32mlambda\u001b[0m \u001b[0mfig\u001b[0m\u001b[0;34m:\u001b[0m \u001b[0mretina_figure\u001b[0m\u001b[0;34m(\u001b[0m\u001b[0mfig\u001b[0m\u001b[0;34m,\u001b[0m \u001b[0;34m**\u001b[0m\u001b[0mkwargs\u001b[0m\u001b[0;34m)\u001b[0m\u001b[0;34m)\u001b[0m\u001b[0;34m\u001b[0m\u001b[0m\n",
      "\u001b[0;32m/Users/ccardamone/anaconda/lib/python3.5/site-packages/IPython/core/pylabtools.py\u001b[0m in \u001b[0;36mprint_figure\u001b[0;34m(fig, fmt, bbox_inches, **kwargs)\u001b[0m\n\u001b[1;32m    115\u001b[0m \u001b[0;34m\u001b[0m\u001b[0m\n\u001b[1;32m    116\u001b[0m     \u001b[0mbytes_io\u001b[0m \u001b[0;34m=\u001b[0m \u001b[0mBytesIO\u001b[0m\u001b[0;34m(\u001b[0m\u001b[0;34m)\u001b[0m\u001b[0;34m\u001b[0m\u001b[0m\n\u001b[0;32m--> 117\u001b[0;31m     \u001b[0mfig\u001b[0m\u001b[0;34m.\u001b[0m\u001b[0mcanvas\u001b[0m\u001b[0;34m.\u001b[0m\u001b[0mprint_figure\u001b[0m\u001b[0;34m(\u001b[0m\u001b[0mbytes_io\u001b[0m\u001b[0;34m,\u001b[0m \u001b[0;34m**\u001b[0m\u001b[0mkw\u001b[0m\u001b[0;34m)\u001b[0m\u001b[0;34m\u001b[0m\u001b[0m\n\u001b[0m\u001b[1;32m    118\u001b[0m     \u001b[0mdata\u001b[0m \u001b[0;34m=\u001b[0m \u001b[0mbytes_io\u001b[0m\u001b[0;34m.\u001b[0m\u001b[0mgetvalue\u001b[0m\u001b[0;34m(\u001b[0m\u001b[0;34m)\u001b[0m\u001b[0;34m\u001b[0m\u001b[0m\n\u001b[1;32m    119\u001b[0m     \u001b[0;32mif\u001b[0m \u001b[0mfmt\u001b[0m \u001b[0;34m==\u001b[0m \u001b[0;34m'svg'\u001b[0m\u001b[0;34m:\u001b[0m\u001b[0;34m\u001b[0m\u001b[0m\n",
      "\u001b[0;32m/Users/ccardamone/anaconda/lib/python3.5/site-packages/matplotlib/backend_bases.py\u001b[0m in \u001b[0;36mprint_figure\u001b[0;34m(self, filename, dpi, facecolor, edgecolor, orientation, format, **kwargs)\u001b[0m\n\u001b[1;32m   2178\u001b[0m                     \u001b[0morientation\u001b[0m\u001b[0;34m=\u001b[0m\u001b[0morientation\u001b[0m\u001b[0;34m,\u001b[0m\u001b[0;34m\u001b[0m\u001b[0m\n\u001b[1;32m   2179\u001b[0m                     \u001b[0mdryrun\u001b[0m\u001b[0;34m=\u001b[0m\u001b[0;32mTrue\u001b[0m\u001b[0;34m,\u001b[0m\u001b[0;34m\u001b[0m\u001b[0m\n\u001b[0;32m-> 2180\u001b[0;31m                     **kwargs)\n\u001b[0m\u001b[1;32m   2181\u001b[0m                 \u001b[0mrenderer\u001b[0m \u001b[0;34m=\u001b[0m \u001b[0mself\u001b[0m\u001b[0;34m.\u001b[0m\u001b[0mfigure\u001b[0m\u001b[0;34m.\u001b[0m\u001b[0m_cachedRenderer\u001b[0m\u001b[0;34m\u001b[0m\u001b[0m\n\u001b[1;32m   2182\u001b[0m                 \u001b[0mbbox_inches\u001b[0m \u001b[0;34m=\u001b[0m \u001b[0mself\u001b[0m\u001b[0;34m.\u001b[0m\u001b[0mfigure\u001b[0m\u001b[0;34m.\u001b[0m\u001b[0mget_tightbbox\u001b[0m\u001b[0;34m(\u001b[0m\u001b[0mrenderer\u001b[0m\u001b[0;34m)\u001b[0m\u001b[0;34m\u001b[0m\u001b[0m\n",
      "\u001b[0;32m/Users/ccardamone/anaconda/lib/python3.5/site-packages/matplotlib/backends/backend_agg.py\u001b[0m in \u001b[0;36mprint_png\u001b[0;34m(self, filename_or_obj, *args, **kwargs)\u001b[0m\n\u001b[1;32m    525\u001b[0m \u001b[0;34m\u001b[0m\u001b[0m\n\u001b[1;32m    526\u001b[0m     \u001b[0;32mdef\u001b[0m \u001b[0mprint_png\u001b[0m\u001b[0;34m(\u001b[0m\u001b[0mself\u001b[0m\u001b[0;34m,\u001b[0m \u001b[0mfilename_or_obj\u001b[0m\u001b[0;34m,\u001b[0m \u001b[0;34m*\u001b[0m\u001b[0margs\u001b[0m\u001b[0;34m,\u001b[0m \u001b[0;34m**\u001b[0m\u001b[0mkwargs\u001b[0m\u001b[0;34m)\u001b[0m\u001b[0;34m:\u001b[0m\u001b[0;34m\u001b[0m\u001b[0m\n\u001b[0;32m--> 527\u001b[0;31m         \u001b[0mFigureCanvasAgg\u001b[0m\u001b[0;34m.\u001b[0m\u001b[0mdraw\u001b[0m\u001b[0;34m(\u001b[0m\u001b[0mself\u001b[0m\u001b[0;34m)\u001b[0m\u001b[0;34m\u001b[0m\u001b[0m\n\u001b[0m\u001b[1;32m    528\u001b[0m         \u001b[0mrenderer\u001b[0m \u001b[0;34m=\u001b[0m \u001b[0mself\u001b[0m\u001b[0;34m.\u001b[0m\u001b[0mget_renderer\u001b[0m\u001b[0;34m(\u001b[0m\u001b[0;34m)\u001b[0m\u001b[0;34m\u001b[0m\u001b[0m\n\u001b[1;32m    529\u001b[0m         \u001b[0moriginal_dpi\u001b[0m \u001b[0;34m=\u001b[0m \u001b[0mrenderer\u001b[0m\u001b[0;34m.\u001b[0m\u001b[0mdpi\u001b[0m\u001b[0;34m\u001b[0m\u001b[0m\n",
      "\u001b[0;32m/Users/ccardamone/anaconda/lib/python3.5/site-packages/matplotlib/backends/backend_agg.py\u001b[0m in \u001b[0;36mdraw\u001b[0;34m(self)\u001b[0m\n\u001b[1;32m    472\u001b[0m \u001b[0;34m\u001b[0m\u001b[0m\n\u001b[1;32m    473\u001b[0m         \u001b[0;32mtry\u001b[0m\u001b[0;34m:\u001b[0m\u001b[0;34m\u001b[0m\u001b[0m\n\u001b[0;32m--> 474\u001b[0;31m             \u001b[0mself\u001b[0m\u001b[0;34m.\u001b[0m\u001b[0mfigure\u001b[0m\u001b[0;34m.\u001b[0m\u001b[0mdraw\u001b[0m\u001b[0;34m(\u001b[0m\u001b[0mself\u001b[0m\u001b[0;34m.\u001b[0m\u001b[0mrenderer\u001b[0m\u001b[0;34m)\u001b[0m\u001b[0;34m\u001b[0m\u001b[0m\n\u001b[0m\u001b[1;32m    475\u001b[0m         \u001b[0;32mfinally\u001b[0m\u001b[0;34m:\u001b[0m\u001b[0;34m\u001b[0m\u001b[0m\n\u001b[1;32m    476\u001b[0m             \u001b[0mRendererAgg\u001b[0m\u001b[0;34m.\u001b[0m\u001b[0mlock\u001b[0m\u001b[0;34m.\u001b[0m\u001b[0mrelease\u001b[0m\u001b[0;34m(\u001b[0m\u001b[0;34m)\u001b[0m\u001b[0;34m\u001b[0m\u001b[0m\n",
      "\u001b[0;32m/Users/ccardamone/anaconda/lib/python3.5/site-packages/matplotlib/artist.py\u001b[0m in \u001b[0;36mdraw_wrapper\u001b[0;34m(artist, renderer, *args, **kwargs)\u001b[0m\n\u001b[1;32m     59\u001b[0m     \u001b[0;32mdef\u001b[0m \u001b[0mdraw_wrapper\u001b[0m\u001b[0;34m(\u001b[0m\u001b[0martist\u001b[0m\u001b[0;34m,\u001b[0m \u001b[0mrenderer\u001b[0m\u001b[0;34m,\u001b[0m \u001b[0;34m*\u001b[0m\u001b[0margs\u001b[0m\u001b[0;34m,\u001b[0m \u001b[0;34m**\u001b[0m\u001b[0mkwargs\u001b[0m\u001b[0;34m)\u001b[0m\u001b[0;34m:\u001b[0m\u001b[0;34m\u001b[0m\u001b[0m\n\u001b[1;32m     60\u001b[0m         \u001b[0mbefore\u001b[0m\u001b[0;34m(\u001b[0m\u001b[0martist\u001b[0m\u001b[0;34m,\u001b[0m \u001b[0mrenderer\u001b[0m\u001b[0;34m)\u001b[0m\u001b[0;34m\u001b[0m\u001b[0m\n\u001b[0;32m---> 61\u001b[0;31m         \u001b[0mdraw\u001b[0m\u001b[0;34m(\u001b[0m\u001b[0martist\u001b[0m\u001b[0;34m,\u001b[0m \u001b[0mrenderer\u001b[0m\u001b[0;34m,\u001b[0m \u001b[0;34m*\u001b[0m\u001b[0margs\u001b[0m\u001b[0;34m,\u001b[0m \u001b[0;34m**\u001b[0m\u001b[0mkwargs\u001b[0m\u001b[0;34m)\u001b[0m\u001b[0;34m\u001b[0m\u001b[0m\n\u001b[0m\u001b[1;32m     62\u001b[0m         \u001b[0mafter\u001b[0m\u001b[0;34m(\u001b[0m\u001b[0martist\u001b[0m\u001b[0;34m,\u001b[0m \u001b[0mrenderer\u001b[0m\u001b[0;34m)\u001b[0m\u001b[0;34m\u001b[0m\u001b[0m\n\u001b[1;32m     63\u001b[0m \u001b[0;34m\u001b[0m\u001b[0m\n",
      "\u001b[0;32m/Users/ccardamone/anaconda/lib/python3.5/site-packages/matplotlib/figure.py\u001b[0m in \u001b[0;36mdraw\u001b[0;34m(self, renderer)\u001b[0m\n\u001b[1;32m   1157\u001b[0m         \u001b[0mdsu\u001b[0m\u001b[0;34m.\u001b[0m\u001b[0msort\u001b[0m\u001b[0;34m(\u001b[0m\u001b[0mkey\u001b[0m\u001b[0;34m=\u001b[0m\u001b[0mitemgetter\u001b[0m\u001b[0;34m(\u001b[0m\u001b[0;36m0\u001b[0m\u001b[0;34m)\u001b[0m\u001b[0;34m)\u001b[0m\u001b[0;34m\u001b[0m\u001b[0m\n\u001b[1;32m   1158\u001b[0m         \u001b[0;32mfor\u001b[0m \u001b[0mzorder\u001b[0m\u001b[0;34m,\u001b[0m \u001b[0ma\u001b[0m\u001b[0;34m,\u001b[0m \u001b[0mfunc\u001b[0m\u001b[0;34m,\u001b[0m \u001b[0margs\u001b[0m \u001b[0;32min\u001b[0m \u001b[0mdsu\u001b[0m\u001b[0;34m:\u001b[0m\u001b[0;34m\u001b[0m\u001b[0m\n\u001b[0;32m-> 1159\u001b[0;31m             \u001b[0mfunc\u001b[0m\u001b[0;34m(\u001b[0m\u001b[0;34m*\u001b[0m\u001b[0margs\u001b[0m\u001b[0;34m)\u001b[0m\u001b[0;34m\u001b[0m\u001b[0m\n\u001b[0m\u001b[1;32m   1160\u001b[0m \u001b[0;34m\u001b[0m\u001b[0m\n\u001b[1;32m   1161\u001b[0m         \u001b[0mrenderer\u001b[0m\u001b[0;34m.\u001b[0m\u001b[0mclose_group\u001b[0m\u001b[0;34m(\u001b[0m\u001b[0;34m'figure'\u001b[0m\u001b[0;34m)\u001b[0m\u001b[0;34m\u001b[0m\u001b[0m\n",
      "\u001b[0;32m/Users/ccardamone/anaconda/lib/python3.5/site-packages/matplotlib/artist.py\u001b[0m in \u001b[0;36mdraw_wrapper\u001b[0;34m(artist, renderer, *args, **kwargs)\u001b[0m\n\u001b[1;32m     59\u001b[0m     \u001b[0;32mdef\u001b[0m \u001b[0mdraw_wrapper\u001b[0m\u001b[0;34m(\u001b[0m\u001b[0martist\u001b[0m\u001b[0;34m,\u001b[0m \u001b[0mrenderer\u001b[0m\u001b[0;34m,\u001b[0m \u001b[0;34m*\u001b[0m\u001b[0margs\u001b[0m\u001b[0;34m,\u001b[0m \u001b[0;34m**\u001b[0m\u001b[0mkwargs\u001b[0m\u001b[0;34m)\u001b[0m\u001b[0;34m:\u001b[0m\u001b[0;34m\u001b[0m\u001b[0m\n\u001b[1;32m     60\u001b[0m         \u001b[0mbefore\u001b[0m\u001b[0;34m(\u001b[0m\u001b[0martist\u001b[0m\u001b[0;34m,\u001b[0m \u001b[0mrenderer\u001b[0m\u001b[0;34m)\u001b[0m\u001b[0;34m\u001b[0m\u001b[0m\n\u001b[0;32m---> 61\u001b[0;31m         \u001b[0mdraw\u001b[0m\u001b[0;34m(\u001b[0m\u001b[0martist\u001b[0m\u001b[0;34m,\u001b[0m \u001b[0mrenderer\u001b[0m\u001b[0;34m,\u001b[0m \u001b[0;34m*\u001b[0m\u001b[0margs\u001b[0m\u001b[0;34m,\u001b[0m \u001b[0;34m**\u001b[0m\u001b[0mkwargs\u001b[0m\u001b[0;34m)\u001b[0m\u001b[0;34m\u001b[0m\u001b[0m\n\u001b[0m\u001b[1;32m     62\u001b[0m         \u001b[0mafter\u001b[0m\u001b[0;34m(\u001b[0m\u001b[0martist\u001b[0m\u001b[0;34m,\u001b[0m \u001b[0mrenderer\u001b[0m\u001b[0;34m)\u001b[0m\u001b[0;34m\u001b[0m\u001b[0m\n\u001b[1;32m     63\u001b[0m \u001b[0;34m\u001b[0m\u001b[0m\n",
      "\u001b[0;32m/Users/ccardamone/anaconda/lib/python3.5/site-packages/matplotlib/axes/_base.py\u001b[0m in \u001b[0;36mdraw\u001b[0;34m(self, renderer, inframe)\u001b[0m\n\u001b[1;32m   2322\u001b[0m \u001b[0;34m\u001b[0m\u001b[0m\n\u001b[1;32m   2323\u001b[0m         \u001b[0;32mfor\u001b[0m \u001b[0mzorder\u001b[0m\u001b[0;34m,\u001b[0m \u001b[0ma\u001b[0m \u001b[0;32min\u001b[0m \u001b[0mdsu\u001b[0m\u001b[0;34m:\u001b[0m\u001b[0;34m\u001b[0m\u001b[0m\n\u001b[0;32m-> 2324\u001b[0;31m             \u001b[0ma\u001b[0m\u001b[0;34m.\u001b[0m\u001b[0mdraw\u001b[0m\u001b[0;34m(\u001b[0m\u001b[0mrenderer\u001b[0m\u001b[0;34m)\u001b[0m\u001b[0;34m\u001b[0m\u001b[0m\n\u001b[0m\u001b[1;32m   2325\u001b[0m \u001b[0;34m\u001b[0m\u001b[0m\n\u001b[1;32m   2326\u001b[0m         \u001b[0mrenderer\u001b[0m\u001b[0;34m.\u001b[0m\u001b[0mclose_group\u001b[0m\u001b[0;34m(\u001b[0m\u001b[0;34m'axes'\u001b[0m\u001b[0;34m)\u001b[0m\u001b[0;34m\u001b[0m\u001b[0m\n",
      "\u001b[0;32m/Users/ccardamone/anaconda/lib/python3.5/site-packages/matplotlib/artist.py\u001b[0m in \u001b[0;36mdraw_wrapper\u001b[0;34m(artist, renderer, *args, **kwargs)\u001b[0m\n\u001b[1;32m     59\u001b[0m     \u001b[0;32mdef\u001b[0m \u001b[0mdraw_wrapper\u001b[0m\u001b[0;34m(\u001b[0m\u001b[0martist\u001b[0m\u001b[0;34m,\u001b[0m \u001b[0mrenderer\u001b[0m\u001b[0;34m,\u001b[0m \u001b[0;34m*\u001b[0m\u001b[0margs\u001b[0m\u001b[0;34m,\u001b[0m \u001b[0;34m**\u001b[0m\u001b[0mkwargs\u001b[0m\u001b[0;34m)\u001b[0m\u001b[0;34m:\u001b[0m\u001b[0;34m\u001b[0m\u001b[0m\n\u001b[1;32m     60\u001b[0m         \u001b[0mbefore\u001b[0m\u001b[0;34m(\u001b[0m\u001b[0martist\u001b[0m\u001b[0;34m,\u001b[0m \u001b[0mrenderer\u001b[0m\u001b[0;34m)\u001b[0m\u001b[0;34m\u001b[0m\u001b[0m\n\u001b[0;32m---> 61\u001b[0;31m         \u001b[0mdraw\u001b[0m\u001b[0;34m(\u001b[0m\u001b[0martist\u001b[0m\u001b[0;34m,\u001b[0m \u001b[0mrenderer\u001b[0m\u001b[0;34m,\u001b[0m \u001b[0;34m*\u001b[0m\u001b[0margs\u001b[0m\u001b[0;34m,\u001b[0m \u001b[0;34m**\u001b[0m\u001b[0mkwargs\u001b[0m\u001b[0;34m)\u001b[0m\u001b[0;34m\u001b[0m\u001b[0m\n\u001b[0m\u001b[1;32m     62\u001b[0m         \u001b[0mafter\u001b[0m\u001b[0;34m(\u001b[0m\u001b[0martist\u001b[0m\u001b[0;34m,\u001b[0m \u001b[0mrenderer\u001b[0m\u001b[0;34m)\u001b[0m\u001b[0;34m\u001b[0m\u001b[0m\n\u001b[1;32m     63\u001b[0m \u001b[0;34m\u001b[0m\u001b[0m\n",
      "\u001b[0;32m/Users/ccardamone/anaconda/lib/python3.5/site-packages/matplotlib/axis.py\u001b[0m in \u001b[0;36mdraw\u001b[0;34m(self, renderer, *args, **kwargs)\u001b[0m\n\u001b[1;32m   1106\u001b[0m         \u001b[0mticks_to_draw\u001b[0m \u001b[0;34m=\u001b[0m \u001b[0mself\u001b[0m\u001b[0;34m.\u001b[0m\u001b[0m_update_ticks\u001b[0m\u001b[0;34m(\u001b[0m\u001b[0mrenderer\u001b[0m\u001b[0;34m)\u001b[0m\u001b[0;34m\u001b[0m\u001b[0m\n\u001b[1;32m   1107\u001b[0m         ticklabelBoxes, ticklabelBoxes2 = self._get_tick_bboxes(ticks_to_draw,\n\u001b[0;32m-> 1108\u001b[0;31m                                                                 renderer)\n\u001b[0m\u001b[1;32m   1109\u001b[0m \u001b[0;34m\u001b[0m\u001b[0m\n\u001b[1;32m   1110\u001b[0m         \u001b[0;32mfor\u001b[0m \u001b[0mtick\u001b[0m \u001b[0;32min\u001b[0m \u001b[0mticks_to_draw\u001b[0m\u001b[0;34m:\u001b[0m\u001b[0;34m\u001b[0m\u001b[0m\n",
      "\u001b[0;32m/Users/ccardamone/anaconda/lib/python3.5/site-packages/matplotlib/axis.py\u001b[0m in \u001b[0;36m_get_tick_bboxes\u001b[0;34m(self, ticks, renderer)\u001b[0m\n\u001b[1;32m   1056\u001b[0m         \u001b[0;32mfor\u001b[0m \u001b[0mtick\u001b[0m \u001b[0;32min\u001b[0m \u001b[0mticks\u001b[0m\u001b[0;34m:\u001b[0m\u001b[0;34m\u001b[0m\u001b[0m\n\u001b[1;32m   1057\u001b[0m             \u001b[0;32mif\u001b[0m \u001b[0mtick\u001b[0m\u001b[0;34m.\u001b[0m\u001b[0mlabel1On\u001b[0m \u001b[0;32mand\u001b[0m \u001b[0mtick\u001b[0m\u001b[0;34m.\u001b[0m\u001b[0mlabel1\u001b[0m\u001b[0;34m.\u001b[0m\u001b[0mget_visible\u001b[0m\u001b[0;34m(\u001b[0m\u001b[0;34m)\u001b[0m\u001b[0;34m:\u001b[0m\u001b[0;34m\u001b[0m\u001b[0m\n\u001b[0;32m-> 1058\u001b[0;31m                 \u001b[0mextent\u001b[0m \u001b[0;34m=\u001b[0m \u001b[0mtick\u001b[0m\u001b[0;34m.\u001b[0m\u001b[0mlabel1\u001b[0m\u001b[0;34m.\u001b[0m\u001b[0mget_window_extent\u001b[0m\u001b[0;34m(\u001b[0m\u001b[0mrenderer\u001b[0m\u001b[0;34m)\u001b[0m\u001b[0;34m\u001b[0m\u001b[0m\n\u001b[0m\u001b[1;32m   1059\u001b[0m                 \u001b[0mticklabelBoxes\u001b[0m\u001b[0;34m.\u001b[0m\u001b[0mappend\u001b[0m\u001b[0;34m(\u001b[0m\u001b[0mextent\u001b[0m\u001b[0;34m)\u001b[0m\u001b[0;34m\u001b[0m\u001b[0m\n\u001b[1;32m   1060\u001b[0m             \u001b[0;32mif\u001b[0m \u001b[0mtick\u001b[0m\u001b[0;34m.\u001b[0m\u001b[0mlabel2On\u001b[0m \u001b[0;32mand\u001b[0m \u001b[0mtick\u001b[0m\u001b[0;34m.\u001b[0m\u001b[0mlabel2\u001b[0m\u001b[0;34m.\u001b[0m\u001b[0mget_visible\u001b[0m\u001b[0;34m(\u001b[0m\u001b[0;34m)\u001b[0m\u001b[0;34m:\u001b[0m\u001b[0;34m\u001b[0m\u001b[0m\n",
      "\u001b[0;32m/Users/ccardamone/anaconda/lib/python3.5/site-packages/matplotlib/text.py\u001b[0m in \u001b[0;36mget_window_extent\u001b[0;34m(self, renderer, dpi)\u001b[0m\n\u001b[1;32m    959\u001b[0m             \u001b[0;32mraise\u001b[0m \u001b[0mRuntimeError\u001b[0m\u001b[0;34m(\u001b[0m\u001b[0;34m'Cannot get window extent w/o renderer'\u001b[0m\u001b[0;34m)\u001b[0m\u001b[0;34m\u001b[0m\u001b[0m\n\u001b[1;32m    960\u001b[0m \u001b[0;34m\u001b[0m\u001b[0m\n\u001b[0;32m--> 961\u001b[0;31m         \u001b[0mbbox\u001b[0m\u001b[0;34m,\u001b[0m \u001b[0minfo\u001b[0m\u001b[0;34m,\u001b[0m \u001b[0mdescent\u001b[0m \u001b[0;34m=\u001b[0m \u001b[0mself\u001b[0m\u001b[0;34m.\u001b[0m\u001b[0m_get_layout\u001b[0m\u001b[0;34m(\u001b[0m\u001b[0mself\u001b[0m\u001b[0;34m.\u001b[0m\u001b[0m_renderer\u001b[0m\u001b[0;34m)\u001b[0m\u001b[0;34m\u001b[0m\u001b[0m\n\u001b[0m\u001b[1;32m    962\u001b[0m         \u001b[0mx\u001b[0m\u001b[0;34m,\u001b[0m \u001b[0my\u001b[0m \u001b[0;34m=\u001b[0m \u001b[0mself\u001b[0m\u001b[0;34m.\u001b[0m\u001b[0mget_unitless_position\u001b[0m\u001b[0;34m(\u001b[0m\u001b[0;34m)\u001b[0m\u001b[0;34m\u001b[0m\u001b[0m\n\u001b[1;32m    963\u001b[0m         \u001b[0mx\u001b[0m\u001b[0;34m,\u001b[0m \u001b[0my\u001b[0m \u001b[0;34m=\u001b[0m \u001b[0mself\u001b[0m\u001b[0;34m.\u001b[0m\u001b[0mget_transform\u001b[0m\u001b[0;34m(\u001b[0m\u001b[0;34m)\u001b[0m\u001b[0;34m.\u001b[0m\u001b[0mtransform_point\u001b[0m\u001b[0;34m(\u001b[0m\u001b[0;34m(\u001b[0m\u001b[0mx\u001b[0m\u001b[0;34m,\u001b[0m \u001b[0my\u001b[0m\u001b[0;34m)\u001b[0m\u001b[0;34m)\u001b[0m\u001b[0;34m\u001b[0m\u001b[0m\n",
      "\u001b[0;32m/Users/ccardamone/anaconda/lib/python3.5/site-packages/matplotlib/text.py\u001b[0m in \u001b[0;36m_get_layout\u001b[0;34m(self, renderer)\u001b[0m\n\u001b[1;32m    359\u001b[0m                 w, h, d = renderer.get_text_width_height_descent(clean_line,\n\u001b[1;32m    360\u001b[0m                                                         \u001b[0mself\u001b[0m\u001b[0;34m.\u001b[0m\u001b[0m_fontproperties\u001b[0m\u001b[0;34m,\u001b[0m\u001b[0;34m\u001b[0m\u001b[0m\n\u001b[0;32m--> 361\u001b[0;31m                                                         ismath=ismath)\n\u001b[0m\u001b[1;32m    362\u001b[0m             \u001b[0;32melse\u001b[0m\u001b[0;34m:\u001b[0m\u001b[0;34m\u001b[0m\u001b[0m\n\u001b[1;32m    363\u001b[0m                 \u001b[0mw\u001b[0m\u001b[0;34m,\u001b[0m \u001b[0mh\u001b[0m\u001b[0;34m,\u001b[0m \u001b[0md\u001b[0m \u001b[0;34m=\u001b[0m \u001b[0;36m0\u001b[0m\u001b[0;34m,\u001b[0m \u001b[0;36m0\u001b[0m\u001b[0;34m,\u001b[0m \u001b[0;36m0\u001b[0m\u001b[0;34m\u001b[0m\u001b[0m\n",
      "\u001b[0;32m/Users/ccardamone/anaconda/lib/python3.5/site-packages/matplotlib/backends/backend_agg.py\u001b[0m in \u001b[0;36mget_text_width_height_descent\u001b[0;34m(self, s, prop, ismath)\u001b[0m\n\u001b[1;32m    232\u001b[0m         \u001b[0;32mif\u001b[0m \u001b[0mismath\u001b[0m\u001b[0;34m:\u001b[0m\u001b[0;34m\u001b[0m\u001b[0m\n\u001b[1;32m    233\u001b[0m             \u001b[0mox\u001b[0m\u001b[0;34m,\u001b[0m \u001b[0moy\u001b[0m\u001b[0;34m,\u001b[0m \u001b[0mwidth\u001b[0m\u001b[0;34m,\u001b[0m \u001b[0mheight\u001b[0m\u001b[0;34m,\u001b[0m \u001b[0mdescent\u001b[0m\u001b[0;34m,\u001b[0m \u001b[0mfonts\u001b[0m\u001b[0;34m,\u001b[0m \u001b[0mused_characters\u001b[0m \u001b[0;34m=\u001b[0m\u001b[0;31m \u001b[0m\u001b[0;31m\\\u001b[0m\u001b[0;34m\u001b[0m\u001b[0m\n\u001b[0;32m--> 234\u001b[0;31m                 \u001b[0mself\u001b[0m\u001b[0;34m.\u001b[0m\u001b[0mmathtext_parser\u001b[0m\u001b[0;34m.\u001b[0m\u001b[0mparse\u001b[0m\u001b[0;34m(\u001b[0m\u001b[0ms\u001b[0m\u001b[0;34m,\u001b[0m \u001b[0mself\u001b[0m\u001b[0;34m.\u001b[0m\u001b[0mdpi\u001b[0m\u001b[0;34m,\u001b[0m \u001b[0mprop\u001b[0m\u001b[0;34m)\u001b[0m\u001b[0;34m\u001b[0m\u001b[0m\n\u001b[0m\u001b[1;32m    235\u001b[0m             \u001b[0;32mreturn\u001b[0m \u001b[0mwidth\u001b[0m\u001b[0;34m,\u001b[0m \u001b[0mheight\u001b[0m\u001b[0;34m,\u001b[0m \u001b[0mdescent\u001b[0m\u001b[0;34m\u001b[0m\u001b[0m\n\u001b[1;32m    236\u001b[0m \u001b[0;34m\u001b[0m\u001b[0m\n",
      "\u001b[0;32m/Users/ccardamone/anaconda/lib/python3.5/site-packages/matplotlib/mathtext.py\u001b[0m in \u001b[0;36mparse\u001b[0;34m(self, s, dpi, prop)\u001b[0m\n\u001b[1;32m   3105\u001b[0m             \u001b[0mfontset_class\u001b[0m \u001b[0;34m=\u001b[0m \u001b[0mself\u001b[0m\u001b[0;34m.\u001b[0m\u001b[0m_font_type_mapping\u001b[0m\u001b[0;34m.\u001b[0m\u001b[0mget\u001b[0m\u001b[0;34m(\u001b[0m\u001b[0mfontset\u001b[0m\u001b[0;34m.\u001b[0m\u001b[0mlower\u001b[0m\u001b[0;34m(\u001b[0m\u001b[0;34m)\u001b[0m\u001b[0;34m)\u001b[0m\u001b[0;34m\u001b[0m\u001b[0m\n\u001b[1;32m   3106\u001b[0m             \u001b[0;32mif\u001b[0m \u001b[0mfontset_class\u001b[0m \u001b[0;32mis\u001b[0m \u001b[0;32mnot\u001b[0m \u001b[0;32mNone\u001b[0m\u001b[0;34m:\u001b[0m\u001b[0;34m\u001b[0m\u001b[0m\n\u001b[0;32m-> 3107\u001b[0;31m                 \u001b[0mfont_output\u001b[0m \u001b[0;34m=\u001b[0m \u001b[0mfontset_class\u001b[0m\u001b[0;34m(\u001b[0m\u001b[0mprop\u001b[0m\u001b[0;34m,\u001b[0m \u001b[0mbackend\u001b[0m\u001b[0;34m)\u001b[0m\u001b[0;34m\u001b[0m\u001b[0m\n\u001b[0m\u001b[1;32m   3108\u001b[0m             \u001b[0;32melse\u001b[0m\u001b[0;34m:\u001b[0m\u001b[0;34m\u001b[0m\u001b[0m\n\u001b[1;32m   3109\u001b[0m                 raise ValueError(\n",
      "\u001b[0;32m/Users/ccardamone/anaconda/lib/python3.5/site-packages/matplotlib/mathtext.py\u001b[0m in \u001b[0;36m__init__\u001b[0;34m(self, *args, **kwargs)\u001b[0m\n\u001b[1;32m    678\u001b[0m \u001b[0;34m\u001b[0m\u001b[0m\n\u001b[1;32m    679\u001b[0m     \u001b[0;32mdef\u001b[0m \u001b[0m__init__\u001b[0m\u001b[0;34m(\u001b[0m\u001b[0mself\u001b[0m\u001b[0;34m,\u001b[0m \u001b[0;34m*\u001b[0m\u001b[0margs\u001b[0m\u001b[0;34m,\u001b[0m \u001b[0;34m**\u001b[0m\u001b[0mkwargs\u001b[0m\u001b[0;34m)\u001b[0m\u001b[0;34m:\u001b[0m\u001b[0;34m\u001b[0m\u001b[0m\n\u001b[0;32m--> 680\u001b[0;31m         \u001b[0mself\u001b[0m\u001b[0;34m.\u001b[0m\u001b[0m_stix_fallback\u001b[0m \u001b[0;34m=\u001b[0m \u001b[0mStixFonts\u001b[0m\u001b[0;34m(\u001b[0m\u001b[0;34m*\u001b[0m\u001b[0margs\u001b[0m\u001b[0;34m,\u001b[0m \u001b[0;34m**\u001b[0m\u001b[0mkwargs\u001b[0m\u001b[0;34m)\u001b[0m\u001b[0;34m\u001b[0m\u001b[0m\n\u001b[0m\u001b[1;32m    681\u001b[0m \u001b[0;34m\u001b[0m\u001b[0m\n\u001b[1;32m    682\u001b[0m         \u001b[0mTruetypeFonts\u001b[0m\u001b[0;34m.\u001b[0m\u001b[0m__init__\u001b[0m\u001b[0;34m(\u001b[0m\u001b[0mself\u001b[0m\u001b[0;34m,\u001b[0m \u001b[0;34m*\u001b[0m\u001b[0margs\u001b[0m\u001b[0;34m,\u001b[0m \u001b[0;34m**\u001b[0m\u001b[0mkwargs\u001b[0m\u001b[0;34m)\u001b[0m\u001b[0;34m\u001b[0m\u001b[0m\n",
      "\u001b[0;32m/Users/ccardamone/anaconda/lib/python3.5/site-packages/matplotlib/mathtext.py\u001b[0m in \u001b[0;36m__init__\u001b[0;34m(self, *args, **kwargs)\u001b[0m\n\u001b[1;32m    912\u001b[0m \u001b[0;34m\u001b[0m\u001b[0m\n\u001b[1;32m    913\u001b[0m     \u001b[0;32mdef\u001b[0m \u001b[0m__init__\u001b[0m\u001b[0;34m(\u001b[0m\u001b[0mself\u001b[0m\u001b[0;34m,\u001b[0m \u001b[0;34m*\u001b[0m\u001b[0margs\u001b[0m\u001b[0;34m,\u001b[0m \u001b[0;34m**\u001b[0m\u001b[0mkwargs\u001b[0m\u001b[0;34m)\u001b[0m\u001b[0;34m:\u001b[0m\u001b[0;34m\u001b[0m\u001b[0m\n\u001b[0;32m--> 914\u001b[0;31m         \u001b[0mTruetypeFonts\u001b[0m\u001b[0;34m.\u001b[0m\u001b[0m__init__\u001b[0m\u001b[0;34m(\u001b[0m\u001b[0mself\u001b[0m\u001b[0;34m,\u001b[0m \u001b[0;34m*\u001b[0m\u001b[0margs\u001b[0m\u001b[0;34m,\u001b[0m \u001b[0;34m**\u001b[0m\u001b[0mkwargs\u001b[0m\u001b[0;34m)\u001b[0m\u001b[0;34m\u001b[0m\u001b[0m\n\u001b[0m\u001b[1;32m    915\u001b[0m         \u001b[0mself\u001b[0m\u001b[0;34m.\u001b[0m\u001b[0mfontmap\u001b[0m \u001b[0;34m=\u001b[0m \u001b[0;34m{\u001b[0m\u001b[0;34m}\u001b[0m\u001b[0;34m\u001b[0m\u001b[0m\n\u001b[1;32m    916\u001b[0m         \u001b[0;32mfor\u001b[0m \u001b[0mkey\u001b[0m\u001b[0;34m,\u001b[0m \u001b[0mname\u001b[0m \u001b[0;32min\u001b[0m \u001b[0msix\u001b[0m\u001b[0;34m.\u001b[0m\u001b[0miteritems\u001b[0m\u001b[0;34m(\u001b[0m\u001b[0mself\u001b[0m\u001b[0;34m.\u001b[0m\u001b[0m_fontmap\u001b[0m\u001b[0;34m)\u001b[0m\u001b[0;34m:\u001b[0m\u001b[0;34m\u001b[0m\u001b[0m\n",
      "\u001b[0;32m/Users/ccardamone/anaconda/lib/python3.5/site-packages/matplotlib/mathtext.py\u001b[0m in \u001b[0;36m__init__\u001b[0;34m(self, default_font_prop, mathtext_backend)\u001b[0m\n\u001b[1;32m    564\u001b[0m \u001b[0;34m\u001b[0m\u001b[0m\n\u001b[1;32m    565\u001b[0m         \u001b[0mfilename\u001b[0m \u001b[0;34m=\u001b[0m \u001b[0mfindfont\u001b[0m\u001b[0;34m(\u001b[0m\u001b[0mdefault_font_prop\u001b[0m\u001b[0;34m)\u001b[0m\u001b[0;34m\u001b[0m\u001b[0m\n\u001b[0;32m--> 566\u001b[0;31m         \u001b[0mdefault_font\u001b[0m \u001b[0;34m=\u001b[0m \u001b[0mself\u001b[0m\u001b[0;34m.\u001b[0m\u001b[0mCachedFont\u001b[0m\u001b[0;34m(\u001b[0m\u001b[0mFT2Font\u001b[0m\u001b[0;34m(\u001b[0m\u001b[0mfilename\u001b[0m\u001b[0;34m)\u001b[0m\u001b[0;34m)\u001b[0m\u001b[0;34m\u001b[0m\u001b[0m\n\u001b[0m\u001b[1;32m    567\u001b[0m         \u001b[0mself\u001b[0m\u001b[0;34m.\u001b[0m\u001b[0m_fonts\u001b[0m\u001b[0;34m[\u001b[0m\u001b[0;34m'default'\u001b[0m\u001b[0;34m]\u001b[0m \u001b[0;34m=\u001b[0m \u001b[0mdefault_font\u001b[0m\u001b[0;34m\u001b[0m\u001b[0m\n\u001b[1;32m    568\u001b[0m         \u001b[0mself\u001b[0m\u001b[0;34m.\u001b[0m\u001b[0m_fonts\u001b[0m\u001b[0;34m[\u001b[0m\u001b[0;34m'regular'\u001b[0m\u001b[0;34m]\u001b[0m \u001b[0;34m=\u001b[0m \u001b[0mdefault_font\u001b[0m\u001b[0;34m\u001b[0m\u001b[0m\n",
      "\u001b[0;31mTypeError\u001b[0m: First argument must be a path or file object reading bytes"
     ]
    },
    {
     "data": {
      "text/plain": [
       "<matplotlib.figure.Figure at 0x121226f60>"
      ]
     },
     "metadata": {},
     "output_type": "display_data"
    }
   ],
   "source": [
    "plt.yscale(\"log\", nonposy='clip')\n",
    "plt.xscale(\"log\", nonposy='clip')\n",
    "plt.errorbar(rp,wp_ag,yerr=wp_ag_err,fmt='.',label='LRG Peas CCF')\n",
    "#plt.scatter(bins[1:],wpx,color='r')\n",
    "#plt.scatter(rp,LRGwp_p_noerr,color='r',label='LRG ACF')\n",
    "#plt.plot(lrgrp,LRGwp_p)\n",
    "##plt.legend(frameon=False)\n",
    "plt.xlabel('r$_{p}$',fontsize=16)\n",
    "plt.ylabel('w$_{p}$',fontsize=16)\n",
    "plt.title('LRG Pea CCF')\n",
    "plt.axis([.1,100,.5,1000])\n",
    "\n",
    "#plt.savefig('../plots/XcorrfunctLRGpeas.pdf')\n",
    "##not as clustered as LRGs......"
   ]
  },
  {
   "cell_type": "code",
   "execution_count": 72,
   "metadata": {
    "scrolled": true
   },
   "outputs": [
    {
     "data": {
      "text/plain": [
       "array([  1.35603643e+02,   1.05916010e+01,   1.08409143e+02,\n",
       "         1.00487185e+01,   3.44492253e+01,  -6.53275307e-02,\n",
       "         6.87510813e+00,   3.65607304e+00,   2.96647034e+00,\n",
       "         1.52927692e+00])"
      ]
     },
     "execution_count": 72,
     "metadata": {},
     "output_type": "execute_result"
    }
   ],
   "source": [
    "wpx"
   ]
  },
  {
   "cell_type": "code",
   "execution_count": 111,
   "metadata": {},
   "outputs": [
    {
     "data": {
      "text/plain": [
       "array([  0.14102821,   0.25675091,   0.46743152,   0.85098909,\n",
       "         1.54928027,   2.8205642 ,   5.13501822,   9.34863035,\n",
       "        17.01978177,  30.98560543])"
      ]
     },
     "execution_count": 111,
     "metadata": {},
     "output_type": "execute_result"
    }
   ],
   "source": [
    "##note from auto peas corr below....\n",
    "rp"
   ]
  },
  {
   "cell_type": "code",
   "execution_count": 62,
   "metadata": {},
   "outputs": [],
   "source": [
    "p = (400**2)/((1./3)*(cosmo.comoving_volume(.36) - cosmo.comoving_volume(.112)))"
   ]
  },
  {
   "cell_type": "code",
   "execution_count": 63,
   "metadata": {},
   "outputs": [],
   "source": [
    "a = (600**2)/(.9*(cosmo.comoving_volume(.1) - cosmo.comoving_volume(.01)))"
   ]
  },
  {
   "cell_type": "code",
   "execution_count": 65,
   "metadata": {},
   "outputs": [
    {
     "data": {
      "text/latex": [
       "$5.5522324 \\; \\mathrm{}$"
      ],
      "text/plain": [
       "<Quantity 5.552232385644766>"
      ]
     },
     "execution_count": 65,
     "metadata": {},
     "output_type": "execute_result"
    }
   ],
   "source": [
    "np.sqrt(a/p)"
   ]
  },
  {
   "cell_type": "markdown",
   "metadata": {},
   "source": [
    "## 2nd: Auto Correlation for the Peas w/ Jackknife Errors"
   ]
  },
  {
   "cell_type": "code",
   "execution_count": 9,
   "metadata": {
    "collapsed": true
   },
   "outputs": [],
   "source": [
    "# set out to 60 Mpc length, as a function of r_p, each scale is integrated from 0 to 60 Mpc\n",
    "pimax=60\n",
    "nbins = 20\n",
    "bins = np.logspace(-1, np.log10(40), nbins + 1)"
   ]
  },
  {
   "cell_type": "markdown",
   "metadata": {},
   "source": [
    "##Compute Auto-correlation"
   ]
  },
  {
   "cell_type": "code",
   "execution_count": 13,
   "metadata": {},
   "outputs": [
    {
     "name": "stdout",
     "output_type": "stream",
     "text": [
      "beginning jackknifes\n",
      "0 0 51.42857142857143 -90.0 -45.58469140280703\n",
      "0 0 51.42857142857143 -45.58469140280703 -25.376933525152303\n",
      "4 0 51.42857142857143 -25.376933525152303 -8.213210701738191\n",
      "41 0 51.42857142857143 -8.213210701738191 8.213210701738186\n",
      "55 0 51.42857142857143 8.213210701738186 25.3769335251523\n",
      "6 0 51.42857142857143 25.3769335251523 45.58469140280702\n",
      "0 0 51.42857142857143 45.58469140280702 89.99999914622636\n",
      "0 51.42857142857143 102.85714285714286 -90.0 -45.58469140280703\n",
      "0 51.42857142857143 102.85714285714286 -45.58469140280703 -25.376933525152303\n",
      "0 51.42857142857143 102.85714285714286 -25.376933525152303 -8.213210701738191\n",
      "0 51.42857142857143 102.85714285714286 -8.213210701738191 8.213210701738186\n",
      "0 51.42857142857143 102.85714285714286 8.213210701738186 25.3769335251523\n",
      "0 51.42857142857143 102.85714285714286 25.3769335251523 45.58469140280702\n",
      "0 51.42857142857143 102.85714285714286 45.58469140280702 89.99999914622636\n",
      "0 102.85714285714286 154.28571428571428 -90.0 -45.58469140280703\n",
      "0 102.85714285714286 154.28571428571428 -45.58469140280703 -25.376933525152303\n",
      "0 102.85714285714286 154.28571428571428 -25.376933525152303 -8.213210701738191\n",
      "8 102.85714285714286 154.28571428571428 -8.213210701738191 8.213210701738186\n",
      "33 102.85714285714286 154.28571428571428 8.213210701738186 25.3769335251523\n",
      "34 102.85714285714286 154.28571428571428 25.3769335251523 45.58469140280702\n",
      "30 102.85714285714286 154.28571428571428 45.58469140280702 89.99999914622636\n",
      "0 154.28571428571428 205.71428571428572 -90.0 -45.58469140280703\n",
      "0 154.28571428571428 205.71428571428572 -45.58469140280703 -25.376933525152303\n",
      "0 154.28571428571428 205.71428571428572 -25.376933525152303 -8.213210701738191\n",
      "15 154.28571428571428 205.71428571428572 -8.213210701738191 8.213210701738186\n",
      "20 154.28571428571428 205.71428571428572 8.213210701738186 25.3769335251523\n",
      "39 154.28571428571428 205.71428571428572 25.3769335251523 45.58469140280702\n",
      "32 154.28571428571428 205.71428571428572 45.58469140280702 89.99999914622636\n",
      "0 205.71428571428572 257.14285714285717 -90.0 -45.58469140280703\n",
      "0 205.71428571428572 257.14285714285717 -45.58469140280703 -25.376933525152303\n",
      "0 205.71428571428572 257.14285714285717 -25.376933525152303 -8.213210701738191\n",
      "17 205.71428571428572 257.14285714285717 -8.213210701738191 8.213210701738186\n",
      "16 205.71428571428572 257.14285714285717 8.213210701738186 25.3769335251523\n",
      "19 205.71428571428572 257.14285714285717 25.3769335251523 45.58469140280702\n",
      "30 205.71428571428572 257.14285714285717 45.58469140280702 89.99999914622636\n",
      "0 257.14285714285717 308.5714285714286 -90.0 -45.58469140280703\n",
      "0 257.14285714285717 308.5714285714286 -45.58469140280703 -25.376933525152303\n",
      "0 257.14285714285717 308.5714285714286 -25.376933525152303 -8.213210701738191\n",
      "0 257.14285714285717 308.5714285714286 -8.213210701738191 8.213210701738186\n",
      "0 257.14285714285717 308.5714285714286 8.213210701738186 25.3769335251523\n",
      "0 257.14285714285717 308.5714285714286 25.3769335251523 45.58469140280702\n",
      "0 257.14285714285717 308.5714285714286 45.58469140280702 89.99999914622636\n",
      "0 308.5714285714286 360.00000000000006 -90.0 -45.58469140280703\n",
      "0 308.5714285714286 360.00000000000006 -45.58469140280703 -25.376933525152303\n",
      "0 308.5714285714286 360.00000000000006 -25.376933525152303 -8.213210701738191\n",
      "25 308.5714285714286 360.00000000000006 -8.213210701738191 8.213210701738186\n",
      "5 308.5714285714286 360.00000000000006 8.213210701738186 25.3769335251523\n",
      "1 308.5714285714286 360.00000000000006 25.3769335251523 45.58469140280702\n",
      "0 308.5714285714286 360.00000000000006 45.58469140280702 89.99999914622636\n",
      "Number of blocks:  18\n",
      "0 0 51.42857142857143 -90.0 -45.58469140280703\n",
      "0 0 51.42857142857143 -45.58469140280703 -25.376933525152303\n",
      "1187 0 51.42857142857143 -25.376933525152303 -8.213210701738191\n",
      "12219 0 51.42857142857143 -8.213210701738191 8.213210701738186\n",
      "16432 0 51.42857142857143 8.213210701738186 25.3769335251523\n",
      "1788 0 51.42857142857143 25.3769335251523 45.58469140280702\n",
      "0 0 51.42857142857143 45.58469140280702 89.99999914622636\n",
      "0 51.42857142857143 102.85714285714286 -90.0 -45.58469140280703\n",
      "0 51.42857142857143 102.85714285714286 -45.58469140280703 -25.376933525152303\n",
      "0 51.42857142857143 102.85714285714286 -25.376933525152303 -8.213210701738191\n",
      "0 51.42857142857143 102.85714285714286 -8.213210701738191 8.213210701738186\n",
      "0 51.42857142857143 102.85714285714286 8.213210701738186 25.3769335251523\n",
      "0 51.42857142857143 102.85714285714286 25.3769335251523 45.58469140280702\n",
      "0 51.42857142857143 102.85714285714286 45.58469140280702 89.99999914622636\n",
      "0 102.85714285714286 154.28571428571428 -90.0 -45.58469140280703\n",
      "0 102.85714285714286 154.28571428571428 -45.58469140280703 -25.376933525152303\n",
      "0 102.85714285714286 154.28571428571428 -25.376933525152303 -8.213210701738191\n",
      "2381 102.85714285714286 154.28571428571428 -8.213210701738191 8.213210701738186\n",
      "9811 102.85714285714286 154.28571428571428 8.213210701738186 25.3769335251523\n",
      "10181 102.85714285714286 154.28571428571428 25.3769335251523 45.58469140280702\n",
      "8812 102.85714285714286 154.28571428571428 45.58469140280702 89.99999914622636\n",
      "0 154.28571428571428 205.71428571428572 -90.0 -45.58469140280703\n",
      "0 154.28571428571428 205.71428571428572 -45.58469140280703 -25.376933525152303\n",
      "0 154.28571428571428 205.71428571428572 -25.376933525152303 -8.213210701738191\n",
      "4620 154.28571428571428 205.71428571428572 -8.213210701738191 8.213210701738186\n",
      "5890 154.28571428571428 205.71428571428572 8.213210701738186 25.3769335251523\n",
      "11893 154.28571428571428 205.71428571428572 25.3769335251523 45.58469140280702\n",
      "9688 154.28571428571428 205.71428571428572 45.58469140280702 89.99999914622636\n",
      "0 205.71428571428572 257.14285714285717 -90.0 -45.58469140280703\n",
      "0 205.71428571428572 257.14285714285717 -45.58469140280703 -25.376933525152303\n",
      "0 205.71428571428572 257.14285714285717 -25.376933525152303 -8.213210701738191\n",
      "5206 205.71428571428572 257.14285714285717 -8.213210701738191 8.213210701738186\n",
      "4793 205.71428571428572 257.14285714285717 8.213210701738186 25.3769335251523\n",
      "5679 205.71428571428572 257.14285714285717 25.3769335251523 45.58469140280702\n",
      "9065 205.71428571428572 257.14285714285717 45.58469140280702 89.99999914622636\n",
      "0 257.14285714285717 308.5714285714286 -90.0 -45.58469140280703\n",
      "0 257.14285714285717 308.5714285714286 -45.58469140280703 -25.376933525152303\n",
      "0 257.14285714285717 308.5714285714286 -25.376933525152303 -8.213210701738191\n",
      "0 257.14285714285717 308.5714285714286 -8.213210701738191 8.213210701738186\n",
      "0 257.14285714285717 308.5714285714286 8.213210701738186 25.3769335251523\n",
      "0 257.14285714285717 308.5714285714286 25.3769335251523 45.58469140280702\n",
      "0 257.14285714285717 308.5714285714286 45.58469140280702 89.99999914622636\n",
      "0 308.5714285714286 360.00000000000006 -90.0 -45.58469140280703\n",
      "0 308.5714285714286 360.00000000000006 -45.58469140280703 -25.376933525152303\n",
      "0 308.5714285714286 360.00000000000006 -25.376933525152303 -8.213210701738191\n",
      "7624 308.5714285714286 360.00000000000006 -8.213210701738191 8.213210701738186\n",
      "1442 308.5714285714286 360.00000000000006 8.213210701738186 25.3769335251523\n",
      "289 308.5714285714286 360.00000000000006 25.3769335251523 45.58469140280702\n",
      "0 308.5714285714286 360.00000000000006 45.58469140280702 89.99999914622636\n",
      "Number of blocks:  19\n",
      "1 / 18\n",
      "2 / 18\n",
      "3 / 18\n",
      "4 / 18\n",
      "5 / 18\n",
      "6 / 18\n",
      "7 / 18\n",
      "8 / 18\n",
      "9 / 18\n",
      "10 / 18\n",
      "11 / 18\n",
      "12 / 18\n",
      "13 / 18\n",
      "14 / 18\n",
      "15 / 18\n",
      "16 / 18\n",
      "17 / 18\n",
      "18 / 18\n"
     ]
    }
   ],
   "source": [
    "# computing errors to autocorrelation points (w_p) as a function of r_p\n",
    "#errors are wrong jackknife code, pieces of the sky are too larger\n",
    "# m = 5, 25 jackknove samples, divides sky into that many pieces\n",
    "# errors are so small because lots of empty sky, must remove patches of the sample sky\n",
    "rp,wp_p,wp_p_err,cov = w.auto_wp(peas, rzpea, bins, pimax, m=7, estimator='L')\n",
    "\n",
    "## The above line calls: projected_correlation_functions.py\n",
    "\n",
    "\n",
    "# for cross correlation w.cross_wp\n",
    "#rp,wp_ag,wp_ag_err,Mag = w.cross_wp(d1=agn44, d2=gal, r1=a44rand, r2=grand, bins=bins, pimax=pimax, \\\n",
    "#                                m=5, estimator='L')"
   ]
  },
  {
   "cell_type": "code",
   "execution_count": 21,
   "metadata": {},
   "outputs": [
    {
     "data": {
      "text/plain": [
       "array([  0.11746414,   0.15849235,   0.21385101,   0.2885455 ,\n",
       "         0.3893295 ,   0.52531561,   0.70879935,   0.9563708 ,\n",
       "         1.29041472,   1.74113445,   2.34928285,   3.16984705,\n",
       "         4.27702026,   5.77091007,   7.78658997,  10.50631229,\n",
       "        14.17598697,  19.12741606,  25.80829442,  34.82268898])"
      ]
     },
     "execution_count": 21,
     "metadata": {},
     "output_type": "execute_result"
    }
   ],
   "source": [
    "rp"
   ]
  },
  {
   "cell_type": "code",
   "execution_count": 12,
   "metadata": {},
   "outputs": [
    {
     "data": {
      "text/plain": [
       "<matplotlib.text.Text at 0x11992cfd0>"
      ]
     },
     "execution_count": 12,
     "metadata": {},
     "output_type": "execute_result"
    },
    {
     "data": {
      "image/png": "[encoded data removed]",
      "text/plain": [
       "<matplotlib.figure.Figure at 0x11aaa6d30>"
      ]
     },
     "metadata": {},
     "output_type": "display_data"
    }
   ],
   "source": [
    "plt.yscale(\"log\", nonposy='clip')\n",
    "plt.xscale(\"log\", nonposy='clip')\n",
    "plt.errorbar(rp,wp_p/rp,yerr=wp_p_err/rp,fmt='.')\n",
    "#plt.errorbar(rp,wp_p/rp,yerr=wp_p_err/rp,fmt='.')\n",
    "#plt.legend(frameon=False)\n",
    "plt.xlabel('r$_{p}$',fontsize=16)\n",
    "plt.ylabel('w$_{p}$/$r_{p}$',fontsize=16)\n",
    "plt.title('Pea ACF')\n",
    "\n",
    "#plt.savefig('../plots/corrfunctSFpeas.pdf')"
   ]
  },
  {
   "cell_type": "code",
   "execution_count": 61,
   "metadata": {},
   "outputs": [
    {
     "data": {
      "text/plain": [
       "array([  70.        ,  112.        ,  120.        ,   91.99298851,\n",
       "         97.00822885,   88.56083675,  336.53920382,  197.76710987,\n",
       "        180.25799518,  195.71429682])"
      ]
     },
     "execution_count": 61,
     "metadata": {},
     "output_type": "execute_result"
    }
   ],
   "source": [
    "wp_p"
   ]
  },
  {
   "cell_type": "markdown",
   "metadata": {},
   "source": [
    "## Fitting AutoCorrelations with a powerlaw to determine the bias"
   ]
  },
  {
   "cell_type": "code",
   "execution_count": null,
   "metadata": {
    "collapsed": true
   },
   "outputs": [],
   "source": []
  },
  {
   "cell_type": "code",
   "execution_count": null,
   "metadata": {
    "collapsed": true
   },
   "outputs": [],
   "source": []
  },
  {
   "cell_type": "code",
   "execution_count": 127,
   "metadata": {},
   "outputs": [
    {
     "data": {
      "text/plain": [
       "3.1415926535897927"
      ]
     },
     "execution_count": 127,
     "metadata": {},
     "output_type": "execute_result"
    }
   ],
   "source": [
    "y(1,1,2)"
   ]
  },
  {
   "cell_type": "code",
   "execution_count": 16,
   "metadata": {},
   "outputs": [],
   "source": [
    "#Fit with a powerlaw to determine bias (using the autocorrelation of the LRGs)\n",
    "# Gamma is a function from cosmology package (gamma is slope and r0 is amplitude)\n",
    "##https://www.hindawi.com/journals/aa/2012/853701/\n",
    "from scipy.special import gamma\n",
    "def A(g):\n",
    "    return gamma(1/2)*gamma((g-1)/2)/gamma(g/2) \n",
    "#y is model powerlaw given rp & 2 parameters of fit\n",
    "def y(r,r0,g):\n",
    "    return A(g)*(r0**g)*(r**(1.-g))\n"
   ]
  },
  {
   "cell_type": "code",
   "execution_count": 17,
   "metadata": {},
   "outputs": [],
   "source": [
    "## Now fit an actual curve to the data rp2 & wp two halo data\n",
    "#sigerr=wp_p_err\n",
    "##p0 is guesses\n",
    "\n",
    "from scipy.optimize import curve_fit\n",
    "plawfit=curve_fit(y,rp_LRGboot,wp_p_LRGboot,p0=[2,2])\n",
    "r0=plawfit[0][0]\n",
    "gam=plawfit[0][1]\n",
    "\n",
    "# plug powerlaw fit and darkmatter sigma 8 value, find bias\n",
    "def J(g):\n",
    "    return 72/((3 - g)*(4 - g)*(6 - gam)*2*g)\n",
    "sig_agn = np.sqrt(J(gam)*(r0/8)**gam)\n",
    "sig_dm = (0.8)\n",
    "bias = sig_agn/sig_dm"
   ]
  },
  {
   "cell_type": "code",
   "execution_count": 18,
   "metadata": {},
   "outputs": [
    {
     "ename": "NameError",
     "evalue": "name 'rp2' is not defined",
     "output_type": "error",
     "traceback": [
      "\u001b[0;31m---------------------------------------------------------------------------\u001b[0m",
      "\u001b[0;31mNameError\u001b[0m                                 Traceback (most recent call last)",
      "\u001b[0;32m<ipython-input-18-63a131b8495d>\u001b[0m in \u001b[0;36m<module>\u001b[0;34m()\u001b[0m\n\u001b[1;32m      2\u001b[0m \u001b[0mplt\u001b[0m\u001b[0;34m.\u001b[0m\u001b[0mxscale\u001b[0m\u001b[0;34m(\u001b[0m\u001b[0;34m\"log\"\u001b[0m\u001b[0;34m,\u001b[0m \u001b[0mnonposy\u001b[0m\u001b[0;34m=\u001b[0m\u001b[0;34m'clip'\u001b[0m\u001b[0;34m)\u001b[0m\u001b[0;34m\u001b[0m\u001b[0m\n\u001b[1;32m      3\u001b[0m \u001b[0myf_arr\u001b[0m\u001b[0;34m=\u001b[0m\u001b[0;34m[\u001b[0m\u001b[0;34m]\u001b[0m\u001b[0;34m\u001b[0m\u001b[0m\n\u001b[0;32m----> 4\u001b[0;31m \u001b[0;32mfor\u001b[0m \u001b[0mr\u001b[0m \u001b[0;32min\u001b[0m \u001b[0mrp2\u001b[0m\u001b[0;34m:\u001b[0m\u001b[0;34m\u001b[0m\u001b[0m\n\u001b[0m\u001b[1;32m      5\u001b[0m     \u001b[0myf_arr\u001b[0m\u001b[0;34m.\u001b[0m\u001b[0mappend\u001b[0m\u001b[0;34m(\u001b[0m\u001b[0my\u001b[0m\u001b[0;34m(\u001b[0m\u001b[0mr\u001b[0m\u001b[0;34m,\u001b[0m\u001b[0mr0\u001b[0m\u001b[0;34m,\u001b[0m\u001b[0mgam\u001b[0m\u001b[0;34m)\u001b[0m\u001b[0;34m)\u001b[0m\u001b[0;34m\u001b[0m\u001b[0m\n\u001b[1;32m      6\u001b[0m \u001b[0mplt\u001b[0m\u001b[0;34m.\u001b[0m\u001b[0merrorbar\u001b[0m\u001b[0;34m(\u001b[0m\u001b[0mrp_LRGboot\u001b[0m\u001b[0;34m,\u001b[0m\u001b[0mwp_p_LRGboot\u001b[0m\u001b[0;34m,\u001b[0m\u001b[0myerr\u001b[0m\u001b[0;34m=\u001b[0m\u001b[0mwp_p_err_LRGboot\u001b[0m\u001b[0;34m,\u001b[0m\u001b[0mfmt\u001b[0m\u001b[0;34m=\u001b[0m\u001b[0;34m'.'\u001b[0m\u001b[0;34m,\u001b[0m\u001b[0mcolor\u001b[0m\u001b[0;34m=\u001b[0m\u001b[0;34m'k'\u001b[0m\u001b[0;34m)\u001b[0m\u001b[0;34m\u001b[0m\u001b[0m\n",
      "\u001b[0;31mNameError\u001b[0m: name 'rp2' is not defined"
     ]
    },
    {
     "data": {
      "image/png": "[encoded data removed]",
      "text/plain": [
       "<matplotlib.figure.Figure at 0x132393cc0>"
      ]
     },
     "metadata": {},
     "output_type": "display_data"
    }
   ],
   "source": [
    "plt.yscale(\"log\", nonposy='clip')\n",
    "plt.xscale(\"log\", nonposy='clip')\n",
    "yf_arr=[]\n",
    "for r in rp2:\n",
    "    yf_arr.append(y(r,r0,gam))\n",
    "plt.errorbar(rp_LRGboot,wp_p_LRGboot,yerr=wp_p_err_LRGboot,fmt='.',color='k')\n",
    "plt.plot(rp2,yf_arr,color='k')"
   ]
  },
  {
   "cell_type": "code",
   "execution_count": 123,
   "metadata": {},
   "outputs": [
    {
     "name": "stderr",
     "output_type": "stream",
     "text": [
      "/Users/ccardamone/anaconda/lib/python3.5/site-packages/scipy/optimize/minpack.py:690: OptimizeWarning: Covariance of the parameters could not be estimated\n",
      "  category=OptimizeWarning)\n"
     ]
    },
    {
     "data": {
      "text/plain": [
       "(array([ 1.,  1.]), array([[ inf,  inf],\n",
       "        [ inf,  inf]]))"
      ]
     },
     "execution_count": 123,
     "metadata": {},
     "output_type": "execute_result"
    }
   ],
   "source": [
    "curve_fit(y,rp[2:],wp_p[2:])"
   ]
  },
  {
   "cell_type": "markdown",
   "metadata": {},
   "source": [
    "## 3rd: LRG AutoCorrelation"
   ]
  },
  {
   "cell_type": "code",
   "execution_count": 23,
   "metadata": {},
   "outputs": [
    {
     "data": {
      "text/plain": [
       "array([  0.11746414,   0.15849235,   0.21385101,   0.2885455 ,\n",
       "         0.3893295 ,   0.52531561,   0.70879935,   0.9563708 ,\n",
       "         1.29041472,   1.74113445,   2.34928285,   3.16984705,\n",
       "         4.27702026,   5.77091007,   7.78658997,  10.50631229,\n",
       "        14.17598697,  19.12741606,  25.80829442,  34.82268898])"
      ]
     },
     "execution_count": 23,
     "metadata": {},
     "output_type": "execute_result"
    }
   ],
   "source": [
    "rp"
   ]
  },
  {
   "cell_type": "code",
   "execution_count": 22,
   "metadata": {},
   "outputs": [
    {
     "name": "stdout",
     "output_type": "stream",
     "text": [
      "2017-07-07 13:15:30\n",
      "2017-07-07 14:01:41\n"
     ]
    }
   ],
   "source": [
    "print(strftime(\"%Y-%m-%d %H:%M:%S\", gmtime()))\n",
    "#LRGrp,LRGwp_p,LRGwp_p_err,LRGcov = w.auto_wp(LRG, LRGr, bins, pimax, m=20, estimator='L')\n",
    "#LRGwp_p = wp_dd(LRG, LRGr, bins, pimax, estimator='L')\n",
    "#LRGrp,LRGwp,LRGwp_err,Mag = w.cross_wp(d1=peas, d2=LRG, r1=rzpea, r2=LRGr, bins=bins, pimax=pimax,m=5, estimator='L')\n",
    "LRGwp_p_noerr = wp_dd(LRG, LRGr, bins, pimax, estimator='L')\n",
    "LRGrp,LRGwp_p,LRGwp_err,cov = w.auto_wp(LRG, LRGr, bins, pimax, m=5, estimator='L')\n",
    "\n",
    "print(strftime(\"%Y-%m-%d %H:%M:%S\", gmtime()))"
   ]
  },
  {
   "cell_type": "code",
   "execution_count": 25,
   "metadata": {},
   "outputs": [
    {
     "data": {
      "image/png": "[encoded data removed]",
      "text/plain": [
       "<matplotlib.figure.Figure at 0x10b205b70>"
      ]
     },
     "metadata": {},
     "output_type": "display_data"
    }
   ],
   "source": [
    "plt.yscale(\"log\", nonposy='clip')\n",
    "plt.xscale(\"log\", nonposy='clip')\n",
    "plt.scatter(rp,LRGwp_p_noerr)\n",
    "#plt.legend(frameon=False)\n",
    "plt.xlabel('r$_{p}$',fontsize=16)\n",
    "plt.ylabel('w$_{p}$',fontsize=16)\n",
    "plt.title('LRG ACF')\n",
    "\n",
    "plt.savefig('../plots/corrfunctSFpeas.pdf')"
   ]
  },
  {
   "cell_type": "code",
   "execution_count": 30,
   "metadata": {},
   "outputs": [
    {
     "ename": "SyntaxError",
     "evalue": "invalid syntax (<ipython-input-30-fa77d49cda42>, line 3)",
     "output_type": "error",
     "traceback": [
      "\u001b[0;36m  File \u001b[0;32m\"<ipython-input-30-fa77d49cda42>\"\u001b[0;36m, line \u001b[0;32m3\u001b[0m\n\u001b[0;31m    t=np.array[ 1207.59797145   926.71826561   740.51311535   649.49317644   475.78208821,   325.88695705   226.41574675   167.75232351   121.72320789    95.66270522\u001b[0m\n\u001b[0m                                           ^\u001b[0m\n\u001b[0;31mSyntaxError\u001b[0m\u001b[0;31m:\u001b[0m invalid syntax\n"
     ]
    }
   ],
   "source": [
    "lrgarr=LRGwp_p_noerr\n",
    "print(lrgarr)\n",
    "t=np.array[ 1207.59797145   926.71826561   740.51311535   649.49317644   475.78208821,   325.88695705   226.41574675   167.75232351   121.72320789    95.66270522\n",
    "    78.11677523    62.94309205    50.05565821    38.4062902     29.58508109,     21.4869693     15.72685764    10.93836918     7.17687202     4.43936256]"
   ]
  },
  {
   "cell_type": "code",
   "execution_count": null,
   "metadata": {
    "collapsed": true
   },
   "outputs": [],
   "source": [
    "plt.yscale(\"log\", nonposy='clip')\n",
    "plt.xscale(\"log\", nonposy='clip')\n",
    "plt.scatter(rp,LRGwp_p)\n",
    "#plt.legend(frameon=False)\n",
    "plt.xlabel('r$_{p}$',fontsize=16)\n",
    "plt.ylabel('w$_{p}$/$r_{p}$',fontsize=16)\n",
    "plt.title('LRG ACF')\n",
    "\n",
    "plt.savefig('../plots/corrfunctSFpeas.pdf')"
   ]
  },
  {
   "cell_type": "markdown",
   "metadata": {},
   "source": [
    "## Testing Selection of Pimax"
   ]
  },
  {
   "cell_type": "code",
   "execution_count": 11,
   "metadata": {
    "collapsed": true
   },
   "outputs": [],
   "source": [
    "# set out to 60 Mpc length, as a function of r_p, each scale is integrated from 0 to 60 Mpc\n",
    "nbins = 10\n",
    "bins = np.logspace(-1, np.log10(40), nbins + 1)\n",
    "bins = np.array([1,3,6,8,10,15,20,30,40,50,60])"
   ]
  },
  {
   "cell_type": "code",
   "execution_count": 12,
   "metadata": {},
   "outputs": [
    {
     "name": "stdout",
     "output_type": "stream",
     "text": [
      "2017-08-22 11:56:49\n",
      "beginning Bootstrap\n",
      "1 / 100\n",
      "2 / 100\n",
      "3 / 100\n",
      "4 / 100\n",
      "5 / 100\n",
      "6 / 100\n",
      "7 / 100\n",
      "8 / 100\n",
      "9 / 100\n",
      "10 / 100\n",
      "11 / 100\n",
      "12 / 100\n",
      "13 / 100\n",
      "14 / 100\n",
      "15 / 100\n",
      "16 / 100\n",
      "17 / 100\n",
      "18 / 100\n",
      "19 / 100\n",
      "20 / 100\n",
      "21 / 100\n",
      "22 / 100\n",
      "23 / 100\n",
      "24 / 100\n",
      "25 / 100\n",
      "26 / 100\n",
      "27 / 100\n",
      "28 / 100\n",
      "29 / 100\n",
      "30 / 100\n",
      "31 / 100\n",
      "32 / 100\n",
      "33 / 100\n",
      "34 / 100\n",
      "35 / 100\n",
      "36 / 100\n",
      "37 / 100\n",
      "38 / 100\n",
      "39 / 100\n",
      "40 / 100\n",
      "41 / 100\n",
      "42 / 100\n",
      "43 / 100\n",
      "44 / 100\n",
      "45 / 100\n",
      "46 / 100\n",
      "47 / 100\n",
      "48 / 100\n",
      "49 / 100\n",
      "50 / 100\n",
      "51 / 100\n",
      "52 / 100\n",
      "53 / 100\n",
      "54 / 100\n",
      "55 / 100\n",
      "56 / 100\n",
      "57 / 100\n",
      "58 / 100\n",
      "59 / 100\n",
      "60 / 100\n",
      "61 / 100\n",
      "62 / 100\n",
      "63 / 100\n",
      "64 / 100\n",
      "65 / 100\n",
      "66 / 100\n",
      "67 / 100\n",
      "68 / 100\n",
      "69 / 100\n",
      "70 / 100\n",
      "71 / 100\n",
      "72 / 100\n",
      "73 / 100\n",
      "74 / 100\n",
      "75 / 100\n",
      "76 / 100\n",
      "77 / 100\n",
      "78 / 100\n",
      "79 / 100\n",
      "80 / 100\n",
      "81 / 100\n",
      "82 / 100\n",
      "83 / 100\n",
      "84 / 100\n",
      "85 / 100\n",
      "86 / 100\n",
      "87 / 100\n",
      "88 / 100\n",
      "89 / 100\n",
      "90 / 100\n",
      "91 / 100\n",
      "92 / 100\n",
      "93 / 100\n",
      "94 / 100\n",
      "95 / 100\n",
      "96 / 100\n",
      "97 / 100\n",
      "98 / 100\n",
      "99 / 100\n",
      "100 / 100\n",
      "2017-08-22 12:12:10\n"
     ]
    }
   ],
   "source": [
    "pimax=20\n",
    "\n",
    "## Run a clustering CROSS CORRELATION b/w the peas & LRGs w/ bootstrap\n",
    "print(strftime(\"%Y-%m-%d %H:%M:%S\", gmtime()))\n",
    "## with errors? bootstrapped\n",
    "rp_xc_pi20,wp_xc_pi20,wp_xc_err_pi20,cov_xc_Pboot,wp_arr_xc_Pboot = w.cross_wp(d1=peas,d2=LRG, r1=rzpea, r2=LRGr, bins=bins,pimax=pimax,m=100, estimator='P',errtype='b')\n",
    "\n",
    "print(strftime(\"%Y-%m-%d %H:%M:%S\", gmtime()))"
   ]
  },
  {
   "cell_type": "code",
   "execution_count": 13,
   "metadata": {},
   "outputs": [
    {
     "name": "stdout",
     "output_type": "stream",
     "text": [
      "2017-08-22 12:13:36\n",
      "beginning Bootstrap\n",
      "1 / 100\n",
      "2 / 100\n",
      "3 / 100\n",
      "4 / 100\n",
      "5 / 100\n",
      "6 / 100\n",
      "7 / 100\n",
      "8 / 100\n",
      "9 / 100\n",
      "10 / 100\n",
      "11 / 100\n",
      "12 / 100\n",
      "13 / 100\n",
      "14 / 100\n",
      "15 / 100\n",
      "16 / 100\n",
      "17 / 100\n",
      "18 / 100\n",
      "19 / 100\n",
      "20 / 100\n",
      "21 / 100\n",
      "22 / 100\n",
      "23 / 100\n",
      "24 / 100\n",
      "25 / 100\n",
      "26 / 100\n",
      "27 / 100\n",
      "28 / 100\n",
      "29 / 100\n",
      "30 / 100\n",
      "31 / 100\n",
      "32 / 100\n",
      "33 / 100\n",
      "34 / 100\n",
      "35 / 100\n",
      "36 / 100\n",
      "37 / 100\n",
      "38 / 100\n",
      "39 / 100\n",
      "40 / 100\n",
      "41 / 100\n",
      "42 / 100\n",
      "43 / 100\n",
      "44 / 100\n",
      "45 / 100\n",
      "46 / 100\n",
      "47 / 100\n",
      "48 / 100\n",
      "49 / 100\n",
      "50 / 100\n",
      "51 / 100\n",
      "52 / 100\n",
      "53 / 100\n",
      "54 / 100\n",
      "55 / 100\n",
      "56 / 100\n",
      "57 / 100\n",
      "58 / 100\n",
      "59 / 100\n",
      "60 / 100\n",
      "61 / 100\n",
      "62 / 100\n",
      "63 / 100\n",
      "64 / 100\n",
      "65 / 100\n",
      "66 / 100\n",
      "67 / 100\n",
      "68 / 100\n",
      "69 / 100\n",
      "70 / 100\n",
      "71 / 100\n",
      "72 / 100\n",
      "73 / 100\n",
      "74 / 100\n",
      "75 / 100\n",
      "76 / 100\n",
      "77 / 100\n",
      "78 / 100\n",
      "79 / 100\n",
      "80 / 100\n",
      "81 / 100\n",
      "82 / 100\n",
      "83 / 100\n",
      "84 / 100\n",
      "85 / 100\n",
      "86 / 100\n",
      "87 / 100\n",
      "88 / 100\n",
      "89 / 100\n",
      "90 / 100\n",
      "91 / 100\n",
      "92 / 100\n",
      "93 / 100\n",
      "94 / 100\n",
      "95 / 100\n",
      "96 / 100\n",
      "97 / 100\n",
      "98 / 100\n",
      "99 / 100\n",
      "100 / 100\n",
      "2017-08-22 12:28:51\n"
     ]
    }
   ],
   "source": [
    "pimax=40\n",
    "\n",
    "## Run a clustering CROSS CORRELATION b/w the peas & LRGs w/ bootstrap\n",
    "print(strftime(\"%Y-%m-%d %H:%M:%S\", gmtime()))\n",
    "## with errors? bootstrapped\n",
    "rp_xc_pi40,wp_xc_pi40,wp_xc_err_pi40,cov_xc_Pboot,wp_arr_xc_Pboot = w.cross_wp(d1=peas,d2=LRG, r1=rzpea, r2=LRGr, bins=bins,pimax=pimax,m=100, estimator='P',errtype='b')\n",
    "\n",
    "print(strftime(\"%Y-%m-%d %H:%M:%S\", gmtime()))"
   ]
  },
  {
   "cell_type": "markdown",
   "metadata": {},
   "source": [
    "pimax=40\n",
    "rp_xc_pi40,wp_xc_pi40,wp_xc_err_pi40,cov_xc_Pboot,wp_arr_xc_Pboot = w.cross_wp(d1=peas,d2=LRG, r1=rzpea, r2=LRGr, bins=bins,pimax=pimax,m=100, estimator='P',errtype='b')\n"
   ]
  },
  {
   "cell_type": "code",
   "execution_count": 14,
   "metadata": {},
   "outputs": [
    {
     "name": "stdout",
     "output_type": "stream",
     "text": [
      "2017-08-22 12:36:25\n",
      "beginning Bootstrap\n",
      "1 / 100\n",
      "2 / 100\n",
      "3 / 100\n",
      "4 / 100\n",
      "5 / 100\n",
      "6 / 100\n",
      "7 / 100\n",
      "8 / 100\n",
      "9 / 100\n",
      "10 / 100\n",
      "11 / 100\n",
      "12 / 100\n",
      "13 / 100\n",
      "14 / 100\n",
      "15 / 100\n",
      "16 / 100\n",
      "17 / 100\n",
      "18 / 100\n",
      "19 / 100\n",
      "20 / 100\n",
      "21 / 100\n",
      "22 / 100\n",
      "23 / 100\n",
      "24 / 100\n",
      "25 / 100\n",
      "26 / 100\n",
      "27 / 100\n",
      "28 / 100\n",
      "29 / 100\n",
      "30 / 100\n",
      "31 / 100\n",
      "32 / 100\n",
      "33 / 100\n",
      "34 / 100\n",
      "35 / 100\n",
      "36 / 100\n",
      "37 / 100\n",
      "38 / 100\n",
      "39 / 100\n",
      "40 / 100\n",
      "41 / 100\n",
      "42 / 100\n",
      "43 / 100\n",
      "44 / 100\n",
      "45 / 100\n",
      "46 / 100\n",
      "47 / 100\n",
      "48 / 100\n",
      "49 / 100\n",
      "50 / 100\n",
      "51 / 100\n",
      "52 / 100\n",
      "53 / 100\n",
      "54 / 100\n",
      "55 / 100\n",
      "56 / 100\n",
      "57 / 100\n",
      "58 / 100\n",
      "59 / 100\n",
      "60 / 100\n",
      "61 / 100\n",
      "62 / 100\n",
      "63 / 100\n",
      "64 / 100\n",
      "65 / 100\n",
      "66 / 100\n",
      "67 / 100\n",
      "68 / 100\n",
      "69 / 100\n",
      "70 / 100\n",
      "71 / 100\n",
      "72 / 100\n",
      "73 / 100\n",
      "74 / 100\n",
      "75 / 100\n",
      "76 / 100\n",
      "77 / 100\n",
      "78 / 100\n",
      "79 / 100\n",
      "80 / 100\n",
      "81 / 100\n",
      "82 / 100\n",
      "83 / 100\n",
      "84 / 100\n",
      "85 / 100\n",
      "86 / 100\n",
      "87 / 100\n",
      "88 / 100\n",
      "89 / 100\n",
      "90 / 100\n",
      "91 / 100\n",
      "92 / 100\n",
      "93 / 100\n",
      "94 / 100\n",
      "95 / 100\n",
      "96 / 100\n",
      "97 / 100\n",
      "98 / 100\n",
      "99 / 100\n",
      "100 / 100\n",
      "2017-08-22 12:52:58\n"
     ]
    }
   ],
   "source": [
    "pimax=60\n",
    "\n",
    "## Run a clustering CROSS CORRELATION b/w the peas & LRGs w/ bootstrap\n",
    "print(strftime(\"%Y-%m-%d %H:%M:%S\", gmtime()))\n",
    "## with errors? bootstrapped\n",
    "rp_xc_pi60,wp_xc_pi60,wp_xc_err_pi60,cov_xc_Pboot,wp_arr_xc_Pboot = w.cross_wp(d1=peas,d2=LRG, r1=rzpea, r2=LRGr, bins=bins,pimax=pimax,m=100, estimator='P',errtype='b')\n",
    "\n",
    "print(strftime(\"%Y-%m-%d %H:%M:%S\", gmtime()))"
   ]
  },
  {
   "cell_type": "code",
   "execution_count": 15,
   "metadata": {},
   "outputs": [
    {
     "name": "stdout",
     "output_type": "stream",
     "text": [
      "2017-08-22 13:05:58\n",
      "beginning Bootstrap\n",
      "1 / 100\n",
      "2 / 100\n",
      "3 / 100\n",
      "4 / 100\n",
      "5 / 100\n",
      "6 / 100\n",
      "7 / 100\n",
      "8 / 100\n",
      "9 / 100\n",
      "10 / 100\n",
      "11 / 100\n",
      "12 / 100\n",
      "13 / 100\n",
      "14 / 100\n",
      "15 / 100\n",
      "16 / 100\n",
      "17 / 100\n",
      "18 / 100\n",
      "19 / 100\n",
      "20 / 100\n",
      "21 / 100\n",
      "22 / 100\n",
      "23 / 100\n",
      "24 / 100\n",
      "25 / 100\n",
      "26 / 100\n",
      "27 / 100\n",
      "28 / 100\n",
      "29 / 100\n",
      "30 / 100\n",
      "31 / 100\n",
      "32 / 100\n",
      "33 / 100\n",
      "34 / 100\n",
      "35 / 100\n",
      "36 / 100\n",
      "37 / 100\n",
      "38 / 100\n",
      "39 / 100\n",
      "40 / 100\n",
      "41 / 100\n",
      "42 / 100\n",
      "43 / 100\n",
      "44 / 100\n",
      "45 / 100\n",
      "46 / 100\n",
      "47 / 100\n",
      "48 / 100\n",
      "49 / 100\n",
      "50 / 100\n",
      "51 / 100\n",
      "52 / 100\n",
      "53 / 100\n",
      "54 / 100\n",
      "55 / 100\n",
      "56 / 100\n",
      "57 / 100\n",
      "58 / 100\n",
      "59 / 100\n",
      "60 / 100\n",
      "61 / 100\n",
      "62 / 100\n",
      "63 / 100\n",
      "64 / 100\n",
      "65 / 100\n",
      "66 / 100\n",
      "67 / 100\n",
      "68 / 100\n",
      "69 / 100\n",
      "70 / 100\n",
      "71 / 100\n",
      "72 / 100\n",
      "73 / 100\n",
      "74 / 100\n",
      "75 / 100\n",
      "76 / 100\n",
      "77 / 100\n",
      "78 / 100\n",
      "79 / 100\n",
      "80 / 100\n",
      "81 / 100\n",
      "82 / 100\n",
      "83 / 100\n",
      "84 / 100\n",
      "85 / 100\n",
      "86 / 100\n",
      "87 / 100\n",
      "88 / 100\n",
      "89 / 100\n",
      "90 / 100\n",
      "91 / 100\n",
      "92 / 100\n",
      "93 / 100\n",
      "94 / 100\n",
      "95 / 100\n",
      "96 / 100\n",
      "97 / 100\n",
      "98 / 100\n",
      "99 / 100\n",
      "100 / 100\n",
      "2017-08-22 13:22:50\n"
     ]
    }
   ],
   "source": [
    "pimax=80\n",
    "\n",
    "## Run a clustering CROSS CORRELATION b/w the peas & LRGs w/ bootstrap\n",
    "print(strftime(\"%Y-%m-%d %H:%M:%S\", gmtime()))\n",
    "## with errors? bootstrapped\n",
    "rp_xc_pi80,wp_xc_pi80,wp_xc_err_pi80,cov_xc_Pboot,wp_arr_xc_Pboot = w.cross_wp(d1=peas,d2=LRG, r1=rzpea, r2=LRGr, bins=bins,pimax=pimax,m=100, estimator='P',errtype='b')\n",
    "\n",
    "print(strftime(\"%Y-%m-%d %H:%M:%S\", gmtime()))"
   ]
  },
  {
   "cell_type": "code",
   "execution_count": 16,
   "metadata": {},
   "outputs": [
    {
     "name": "stdout",
     "output_type": "stream",
     "text": [
      "2017-08-22 13:40:08\n",
      "beginning Bootstrap\n",
      "1 / 100\n",
      "2 / 100\n",
      "3 / 100\n",
      "4 / 100\n",
      "5 / 100\n",
      "6 / 100\n",
      "7 / 100\n",
      "8 / 100\n",
      "9 / 100\n",
      "10 / 100\n",
      "11 / 100\n",
      "12 / 100\n",
      "13 / 100\n",
      "14 / 100\n",
      "15 / 100\n",
      "16 / 100\n",
      "17 / 100\n",
      "18 / 100\n",
      "19 / 100\n",
      "20 / 100\n",
      "21 / 100\n",
      "22 / 100\n",
      "23 / 100\n",
      "24 / 100\n",
      "25 / 100\n",
      "26 / 100\n",
      "27 / 100\n",
      "28 / 100\n",
      "29 / 100\n",
      "30 / 100\n",
      "31 / 100\n",
      "32 / 100\n",
      "33 / 100\n",
      "34 / 100\n",
      "35 / 100\n",
      "36 / 100\n",
      "37 / 100\n",
      "38 / 100\n",
      "39 / 100\n",
      "40 / 100\n",
      "41 / 100\n",
      "42 / 100\n",
      "43 / 100\n",
      "44 / 100\n",
      "45 / 100\n",
      "46 / 100\n",
      "47 / 100\n",
      "48 / 100\n",
      "49 / 100\n",
      "50 / 100\n",
      "51 / 100\n",
      "52 / 100\n",
      "53 / 100\n",
      "54 / 100\n",
      "55 / 100\n",
      "56 / 100\n",
      "57 / 100\n",
      "58 / 100\n",
      "59 / 100\n",
      "60 / 100\n",
      "61 / 100\n",
      "62 / 100\n",
      "63 / 100\n",
      "64 / 100\n",
      "65 / 100\n",
      "66 / 100\n",
      "67 / 100\n",
      "68 / 100\n",
      "69 / 100\n",
      "70 / 100\n",
      "71 / 100\n",
      "72 / 100\n",
      "73 / 100\n",
      "74 / 100\n",
      "75 / 100\n",
      "76 / 100\n",
      "77 / 100\n",
      "78 / 100\n",
      "79 / 100\n",
      "80 / 100\n",
      "81 / 100\n",
      "82 / 100\n",
      "83 / 100\n",
      "84 / 100\n",
      "85 / 100\n",
      "86 / 100\n",
      "87 / 100\n",
      "88 / 100\n",
      "89 / 100\n",
      "90 / 100\n",
      "91 / 100\n",
      "92 / 100\n",
      "93 / 100\n",
      "94 / 100\n",
      "95 / 100\n",
      "96 / 100\n",
      "97 / 100\n",
      "98 / 100\n",
      "99 / 100\n",
      "100 / 100\n",
      "2017-08-22 13:56:00\n"
     ]
    }
   ],
   "source": [
    "pimax=100\n",
    "\n",
    "## Run a clustering CROSS CORRELATION b/w the peas & LRGs w/ bootstrap\n",
    "print(strftime(\"%Y-%m-%d %H:%M:%S\", gmtime()))\n",
    "## with errors? bootstrapped\n",
    "rp_xc_pi100,wp_xc_pi100,wp_xc_err_pi100,cov_xc_Pboot,wp_arr_xc_Pboot = w.cross_wp(d1=peas,d2=LRG, r1=rzpea, r2=LRGr, bins=bins,pimax=pimax,m=100, estimator='P',errtype='b')\n",
    "\n",
    "print(strftime(\"%Y-%m-%d %H:%M:%S\", gmtime()))"
   ]
  },
  {
   "cell_type": "code",
   "execution_count": 21,
   "metadata": {},
   "outputs": [
    {
     "name": "stdout",
     "output_type": "stream",
     "text": [
      "2017-08-22 14:55:31\n",
      "beginning Bootstrap\n",
      "1 / 100\n",
      "2 / 100\n",
      "3 / 100\n",
      "4 / 100\n",
      "5 / 100\n",
      "6 / 100\n",
      "7 / 100\n",
      "8 / 100\n",
      "9 / 100\n",
      "10 / 100\n",
      "11 / 100\n",
      "12 / 100\n",
      "13 / 100\n",
      "14 / 100\n",
      "15 / 100\n",
      "16 / 100\n",
      "17 / 100\n",
      "18 / 100\n",
      "19 / 100\n",
      "20 / 100\n",
      "21 / 100\n",
      "22 / 100\n",
      "23 / 100\n",
      "24 / 100\n",
      "25 / 100\n",
      "26 / 100\n",
      "27 / 100\n",
      "28 / 100\n",
      "29 / 100\n",
      "30 / 100\n",
      "31 / 100\n",
      "32 / 100\n",
      "33 / 100\n",
      "34 / 100\n",
      "35 / 100\n",
      "36 / 100\n",
      "37 / 100\n",
      "38 / 100\n",
      "39 / 100\n",
      "40 / 100\n",
      "41 / 100\n",
      "42 / 100\n",
      "43 / 100\n",
      "44 / 100\n",
      "45 / 100\n",
      "46 / 100\n",
      "47 / 100\n",
      "48 / 100\n",
      "49 / 100\n",
      "50 / 100\n",
      "51 / 100\n",
      "52 / 100\n",
      "53 / 100\n",
      "54 / 100\n",
      "55 / 100\n",
      "56 / 100\n",
      "57 / 100\n",
      "58 / 100\n",
      "59 / 100\n",
      "60 / 100\n",
      "61 / 100\n",
      "62 / 100\n",
      "63 / 100\n",
      "64 / 100\n",
      "65 / 100\n",
      "66 / 100\n",
      "67 / 100\n",
      "68 / 100\n",
      "69 / 100\n",
      "70 / 100\n",
      "71 / 100\n",
      "72 / 100\n",
      "73 / 100\n",
      "74 / 100\n",
      "75 / 100\n",
      "76 / 100\n",
      "77 / 100\n",
      "78 / 100\n",
      "79 / 100\n",
      "80 / 100\n",
      "81 / 100\n",
      "82 / 100\n",
      "83 / 100\n",
      "84 / 100\n",
      "85 / 100\n",
      "86 / 100\n",
      "87 / 100\n",
      "88 / 100\n",
      "89 / 100\n",
      "90 / 100\n",
      "91 / 100\n",
      "92 / 100\n",
      "93 / 100\n",
      "94 / 100\n",
      "95 / 100\n",
      "96 / 100\n",
      "97 / 100\n",
      "98 / 100\n",
      "99 / 100\n",
      "100 / 100\n",
      "beginning Bootstrap\n",
      "1 / 100\n",
      "2 / 100\n",
      "3 / 100\n",
      "4 / 100\n",
      "5 / 100\n",
      "6 / 100\n",
      "7 / 100\n",
      "8 / 100\n",
      "9 / 100\n",
      "10 / 100\n",
      "11 / 100\n",
      "12 / 100\n",
      "13 / 100\n",
      "14 / 100\n",
      "15 / 100\n",
      "16 / 100\n",
      "17 / 100\n",
      "18 / 100\n",
      "19 / 100\n",
      "20 / 100\n",
      "21 / 100\n",
      "22 / 100\n",
      "23 / 100\n",
      "24 / 100\n",
      "25 / 100\n",
      "26 / 100\n",
      "27 / 100\n",
      "28 / 100\n",
      "29 / 100\n",
      "30 / 100\n",
      "31 / 100\n",
      "32 / 100\n",
      "33 / 100\n",
      "34 / 100\n",
      "35 / 100\n",
      "36 / 100\n",
      "37 / 100\n",
      "38 / 100\n",
      "39 / 100\n",
      "40 / 100\n",
      "41 / 100\n",
      "42 / 100\n",
      "43 / 100\n",
      "44 / 100\n",
      "45 / 100\n",
      "46 / 100\n",
      "47 / 100\n",
      "48 / 100\n",
      "49 / 100\n",
      "50 / 100\n",
      "51 / 100\n",
      "52 / 100\n",
      "53 / 100\n",
      "54 / 100\n",
      "55 / 100\n",
      "56 / 100\n",
      "57 / 100\n",
      "58 / 100\n",
      "59 / 100\n",
      "60 / 100\n",
      "61 / 100\n",
      "62 / 100\n",
      "63 / 100\n",
      "64 / 100\n",
      "65 / 100\n",
      "66 / 100\n",
      "67 / 100\n",
      "68 / 100\n",
      "69 / 100\n",
      "70 / 100\n",
      "71 / 100\n",
      "72 / 100\n",
      "73 / 100\n",
      "74 / 100\n",
      "75 / 100\n",
      "76 / 100\n",
      "77 / 100\n",
      "78 / 100\n",
      "79 / 100\n",
      "80 / 100\n",
      "81 / 100\n",
      "82 / 100\n",
      "83 / 100\n",
      "84 / 100\n",
      "85 / 100\n",
      "86 / 100\n",
      "87 / 100\n",
      "88 / 100\n",
      "89 / 100\n",
      "90 / 100\n",
      "91 / 100\n",
      "92 / 100\n",
      "93 / 100\n",
      "94 / 100\n",
      "95 / 100\n",
      "96 / 100\n",
      "97 / 100\n",
      "98 / 100\n",
      "99 / 100\n",
      "100 / 100\n",
      "beginning Bootstrap\n",
      "1 / 100\n",
      "2 / 100\n",
      "3 / 100\n",
      "4 / 100\n",
      "5 / 100\n",
      "6 / 100\n",
      "7 / 100\n",
      "8 / 100\n",
      "9 / 100\n",
      "10 / 100\n",
      "11 / 100\n",
      "12 / 100\n",
      "13 / 100\n",
      "14 / 100\n",
      "15 / 100\n",
      "16 / 100\n",
      "17 / 100\n",
      "18 / 100\n",
      "19 / 100\n",
      "20 / 100\n",
      "21 / 100\n",
      "22 / 100\n",
      "23 / 100\n",
      "24 / 100\n",
      "25 / 100\n",
      "26 / 100\n",
      "27 / 100\n",
      "28 / 100\n",
      "29 / 100\n",
      "30 / 100\n",
      "31 / 100\n",
      "32 / 100\n",
      "33 / 100\n",
      "34 / 100\n",
      "35 / 100\n",
      "36 / 100\n",
      "37 / 100\n",
      "38 / 100\n",
      "39 / 100\n",
      "40 / 100\n",
      "41 / 100\n",
      "42 / 100\n",
      "43 / 100\n",
      "44 / 100\n",
      "45 / 100\n",
      "46 / 100\n",
      "47 / 100\n",
      "48 / 100\n",
      "49 / 100\n",
      "50 / 100\n",
      "51 / 100\n",
      "52 / 100\n",
      "53 / 100\n",
      "54 / 100\n",
      "55 / 100\n",
      "56 / 100\n",
      "57 / 100\n",
      "58 / 100\n",
      "59 / 100\n",
      "60 / 100\n",
      "61 / 100\n",
      "62 / 100\n",
      "63 / 100\n",
      "64 / 100\n",
      "65 / 100\n",
      "66 / 100\n",
      "67 / 100\n",
      "68 / 100\n",
      "69 / 100\n",
      "70 / 100\n",
      "71 / 100\n",
      "72 / 100\n",
      "73 / 100\n",
      "74 / 100\n",
      "75 / 100\n",
      "76 / 100\n",
      "77 / 100\n",
      "78 / 100\n",
      "79 / 100\n",
      "80 / 100\n",
      "81 / 100\n",
      "82 / 100\n",
      "83 / 100\n",
      "84 / 100\n",
      "85 / 100\n",
      "86 / 100\n",
      "87 / 100\n",
      "88 / 100\n",
      "89 / 100\n",
      "90 / 100\n",
      "91 / 100\n",
      "92 / 100\n",
      "93 / 100\n",
      "94 / 100\n",
      "95 / 100\n",
      "96 / 100\n",
      "97 / 100\n",
      "98 / 100\n",
      "99 / 100\n",
      "100 / 100\n",
      "beginning Bootstrap\n",
      "1 / 100\n",
      "2 / 100\n",
      "3 / 100\n",
      "4 / 100\n",
      "5 / 100\n",
      "6 / 100\n",
      "7 / 100\n",
      "8 / 100\n",
      "9 / 100\n",
      "10 / 100\n",
      "11 / 100\n",
      "12 / 100\n",
      "13 / 100\n",
      "14 / 100\n",
      "15 / 100\n",
      "16 / 100\n",
      "17 / 100\n",
      "18 / 100\n",
      "19 / 100\n",
      "20 / 100\n",
      "21 / 100\n",
      "22 / 100\n",
      "23 / 100\n",
      "24 / 100\n",
      "25 / 100\n",
      "26 / 100\n",
      "27 / 100\n",
      "28 / 100\n",
      "29 / 100\n",
      "30 / 100\n",
      "31 / 100\n",
      "32 / 100\n",
      "33 / 100\n",
      "34 / 100\n",
      "35 / 100\n",
      "36 / 100\n",
      "37 / 100\n",
      "38 / 100\n",
      "39 / 100\n",
      "40 / 100\n",
      "41 / 100\n",
      "42 / 100\n",
      "43 / 100\n",
      "44 / 100\n",
      "45 / 100\n",
      "46 / 100\n",
      "47 / 100\n",
      "48 / 100\n",
      "49 / 100\n",
      "50 / 100\n",
      "51 / 100\n",
      "52 / 100\n",
      "53 / 100\n",
      "54 / 100\n",
      "55 / 100\n",
      "56 / 100\n",
      "57 / 100\n",
      "58 / 100\n",
      "59 / 100\n",
      "60 / 100\n",
      "61 / 100\n",
      "62 / 100\n",
      "63 / 100\n",
      "64 / 100\n",
      "65 / 100\n",
      "66 / 100\n",
      "67 / 100\n",
      "68 / 100\n",
      "69 / 100\n",
      "70 / 100\n",
      "71 / 100\n",
      "72 / 100\n",
      "73 / 100\n",
      "74 / 100\n",
      "75 / 100\n",
      "76 / 100\n",
      "77 / 100\n",
      "78 / 100\n",
      "79 / 100\n",
      "80 / 100\n",
      "81 / 100\n",
      "82 / 100\n",
      "83 / 100\n",
      "84 / 100\n",
      "85 / 100\n",
      "86 / 100\n",
      "87 / 100\n",
      "88 / 100\n",
      "89 / 100\n",
      "90 / 100\n",
      "91 / 100\n",
      "92 / 100\n",
      "93 / 100\n",
      "94 / 100\n",
      "95 / 100\n",
      "96 / 100\n",
      "97 / 100\n",
      "98 / 100\n",
      "99 / 100\n",
      "100 / 100\n",
      "2017-08-22 15:59:35\n"
     ]
    }
   ],
   "source": [
    "## Run a clustering CROSS CORRELATION b/w the peas & LRGs w/ bootstrap\n",
    "print(strftime(\"%Y-%m-%d %H:%M:%S\", gmtime()))\n",
    "## with errors? bootstrapped\n",
    "pimax=120\n",
    "rp_xc_pi120,wp_xc_pi120,wp_xc_err_pi120,cov_xc_Pboot,wp_arr_xc_Pboot = w.cross_wp(d1=peas,d2=LRG, r1=rzpea, r2=LRGr, bins=bins,pimax=pimax,m=100, estimator='P',errtype='b')\n",
    "pimax=140\n",
    "rp_xc_pi140,wp_xc_pi140,wp_xc_err_pi140,cov_xc_Pboot,wp_arr_xc_Pboot = w.cross_wp(d1=peas,d2=LRG, r1=rzpea, r2=LRGr, bins=bins,pimax=pimax,m=100, estimator='P',errtype='b')\n",
    "pimax=50\n",
    "rp_xc_pi50,wp_xc_pi50,wp_xc_err_pi50,cov_xc_Pboot,wp_arr_xc_Pboot = w.cross_wp(d1=peas,d2=LRG, r1=rzpea, r2=LRGr, bins=bins,pimax=pimax,m=100, estimator='P',errtype='b')\n",
    "pimax=70\n",
    "rp_xc_pi70,wp_xc_pi70,wp_xc_err_pi70,cov_xc_Pboot,wp_arr_xc_Pboot = w.cross_wp(d1=peas,d2=LRG, r1=rzpea, r2=LRGr, bins=bins,pimax=pimax,m=100, estimator='P',errtype='b')\n",
    "\n",
    "\n",
    "print(strftime(\"%Y-%m-%d %H:%M:%S\", gmtime()))"
   ]
  },
  {
   "cell_type": "code",
   "execution_count": 18,
   "metadata": {},
   "outputs": [],
   "source": [
    "np.save('output/rp_xc_pi20.npy',rp_xc_pi20)\n",
    "np.save('output/wp_xc_pi20.npy',wp_xc_pi20)\n",
    "np.save('output/wp_xc_err_pi20.npy',wp_xc_err_pi20)\n",
    "np.save('output/rp_xc_pi40.npy',rp_xc_pi40)\n",
    "np.save('output/wp_xc_pi40.npy',wp_xc_pi40)\n",
    "np.save('output/wp_xc_err_pi40.npy',wp_xc_err_pi40)\n",
    "np.save('output/rp_xc_pi60.npy',rp_xc_pi60)\n",
    "np.save('output/wp_xc_pi60.npy',wp_xc_pi60)\n",
    "np.save('output/wp_xc_err_pi60.npy',wp_xc_err_pi60)\n",
    "np.save('output/rp_xc_pi80.npy',rp_xc_pi80)\n",
    "np.save('output/wp_xc_pi80.npy',wp_xc_pi80)\n",
    "np.save('output/wp_xc_err_pi80.npy',wp_xc_err_pi80)\n",
    "np.save('output/rp_xc_pi100.npy',rp_xc_pi100)\n",
    "np.save('output/wp_xc_pi100.npy',wp_xc_pi100)\n",
    "np.save('output/wp_xc_err_pi100.npy',wp_xc_err_pi100)"
   ]
  },
  {
   "cell_type": "code",
   "execution_count": 22,
   "metadata": {
    "collapsed": true
   },
   "outputs": [],
   "source": [
    "np.save('output/rp_xc_pi120.npy',rp_xc_pi120)\n",
    "np.save('output/wp_xc_pi120.npy',wp_xc_pi120)\n",
    "np.save('output/wp_xc_err_pi120.npy',wp_xc_err_pi120)\n",
    "\n",
    "np.save('output/rp_xc_pi140.npy',rp_xc_pi140)\n",
    "np.save('output/wp_xc_pi140.npy',wp_xc_pi140)\n",
    "np.save('output/wp_xc_err_pi140.npy',wp_xc_err_pi140)\n",
    "\n",
    "np.save('output/rp_xc_pi50.npy',rp_xc_pi50)\n",
    "np.save('output/wp_xc_pi50.npy',wp_xc_pi50)\n",
    "np.save('output/wp_xc_err_pi50.npy',wp_xc_err_pi50)\n",
    "\n",
    "np.save('output/rp_xc_pi70.npy',rp_xc_pi70)\n",
    "np.save('output/wp_xc_pi70.npy',wp_xc_pi70)\n",
    "np.save('output/wp_xc_err_pi70.npy',wp_xc_err_pi70)"
   ]
  },
  {
   "cell_type": "code",
   "execution_count": 27,
   "metadata": {},
   "outputs": [
    {
     "data": {
      "text/plain": [
       "<matplotlib.text.Text at 0x1609feac8>"
      ]
     },
     "execution_count": 27,
     "metadata": {},
     "output_type": "execute_result"
    },
    {
     "data": {
      "image/png": "[encoded data removed]",
      "text/plain": [
       "<matplotlib.figure.Figure at 0x12d55ca58>"
      ]
     },
     "metadata": {},
     "output_type": "display_data"
    }
   ],
   "source": [
    "plt.yscale(\"log\", nonposy='clip')\n",
    "plt.xscale(\"log\", nonposy='clip')\n",
    "#plt.errorbar(rp_xc_Pjack,wp_xc_Pjack,yerr=wp_xc_err_Pjack,fmt='.',color='b',label='Peas LRG CCF jackerr')\n",
    "plt.errorbar(rp_xc_pi60,wp_xc_pi60,yerr=wp_xc_err_pi60,fmt='.',color='g',label='CCF $\\pi_{max}$=60')\n",
    "plt.errorbar(rp_xc_pi40,wp_xc_pi40,yerr=wp_xc_err_pi40,fmt='.',color='b',label='CCF $\\pi_{max}$=40')\n",
    "plt.errorbar(rp_xc_pi80,wp_xc_pi80,yerr=wp_xc_err_pi80,fmt='.',color='m',label='CCF $\\pi_{max}$=80')\n",
    "plt.legend(frameon=True,numpoints=1)\n",
    "plt.xlabel('r$_{p}$',fontsize=16)\n",
    "plt.ylabel('w$_{p}$',fontsize=16)\n",
    "plt.title('Cross-Correlation Functions')\n"
   ]
  },
  {
   "cell_type": "code",
   "execution_count": null,
   "metadata": {
    "collapsed": true
   },
   "outputs": [],
   "source": []
  }
 ],
 "metadata": {
  "kernelspec": {
   "display_name": "Python 3",
   "language": "python",
   "name": "python3"
  },
  "language_info": {
   "codemirror_mode": {
    "name": "ipython",
    "version": 3
   },
   "file_extension": ".py",
   "mimetype": "text/x-python",
   "name": "python",
   "nbconvert_exporter": "python",
   "pygments_lexer": "ipython3",
   "version": "3.7.6"
  }
 },
 "nbformat": 4,
 "nbformat_minor": 1
}
