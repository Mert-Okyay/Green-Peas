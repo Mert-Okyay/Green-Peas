{
 "cells": [
  {
   "cell_type": "code",
   "execution_count": 1,
   "metadata": {
    "collapsed": false
   },
   "outputs": [],
   "source": [
    "import numpy as np\n",
    "import math\n",
    "from astropy import units as u\n",
    "from astropy.coordinates import SkyCoord, match_coordinates_sky\n",
    "import astropy.coordinates as coord\n",
    "from astropy.cosmology import FlatLambdaCDM\n",
    "from astropy.table import Table\n",
    "from astropy.io import fits\n",
    "import time\n",
    "from numpy.lib.recfunctions import append_fields\n",
    "from astropy.cosmology import FlatLambdaCDM,Planck15\n",
    "import sys\n",
    "from time import gmtime, strftime\n",
    "\n",
    "import matplotlib.pyplot as plt\n",
    "from matplotlib.colors import LogNorm\n",
    "%matplotlib inline\n"
   ]
  },
  {
   "cell_type": "markdown",
   "metadata": {},
   "source": [
    "## Using Halotools to create mock catalog"
   ]
  },
  {
   "cell_type": "code",
   "execution_count": 9,
   "metadata": {
    "collapsed": true
   },
   "outputs": [],
   "source": [
    "from halotools.empirical_models import PrebuiltHodModelFactory, PrebuiltSubhaloModelFactory\n",
    "from halotools.mock_observables import return_xyz_formatted_array\n",
    "from halotools.mock_observables import wp\n",
    "from halotools.sim_manager import CachedHaloCatalog\n",
    "from scipy import interpolate\n"
   ]
  },
  {
   "cell_type": "code",
   "execution_count": 10,
   "metadata": {
    "collapsed": true
   },
   "outputs": [],
   "source": [
    "import halotools\n",
    "## Test only done once\n",
    "#halotools.test()"
   ]
  },
  {
   "cell_type": "code",
   "execution_count": 5,
   "metadata": {
    "collapsed": false
   },
   "outputs": [],
   "source": [
    "# Done each time a new catalog wishes to be used...\n",
    "#### from halotools.sim_manager import DownloadManager\n",
    "dman = DownloadManager()\n",
    "dman.download_processed_halo_table('bolshoiplanck', 'rockstar', 0.5) \n",
    "dman.download_processed_halo_table('bolshoiplanck', 'rockstar', 0) \n",
    "#dman.download_processed_halo_table('bolshoi', 'rockstar', 0.5) \n",
    "#dman.download_processed_halo_table('bolshoi', 'rockstar', 0) \n",
    "### NOTE: bolshoi=WMAP5 cosmology with Lbox = 250 Mpc/h and particle mass of ~1e8 Msun/h.\n",
    "### NOTE: bolplanck=Planck 2013 cosmology with Lbox = 250 Mpc/h and particle mass of ~1e8 Msun/h."
   ]
  },
  {
   "cell_type": "code",
   "execution_count": 6,
   "metadata": {
    "collapsed": false
   },
   "outputs": [],
   "source": [
    "halocat = CachedHaloCatalog(simname = 'bolshoiplanck', redshift = 0., halo_finder = 'rockstar')\n",
    "halos = halocat.halo_table"
   ]
  },
  {
   "cell_type": "code",
   "execution_count": 7,
   "metadata": {
    "collapsed": false
   },
   "outputs": [
    {
     "name": "stderr",
     "output_type": "stream",
     "text": [
      "/Users/ccardamone/anaconda/lib/python3.5/site-packages/halotools/mock_observables/two_point_clustering/clustering_helpers.py:134: UserWarning: \n",
      " `sample1` exceeds `max_sample_size` \n",
      "downsampling `sample1`...\n",
      "  warn(msg)\n"
     ]
    }
   ],
   "source": [
    "x = halos['halo_x']\n",
    "y = halos['halo_y']\n",
    "z = halos['halo_z']\n",
    "all_positions = return_xyz_formatted_array(x, y, z)\n",
    "rpbins = np.array([.1,.5,1,3,6,8,10,15,20,30,40,50,60,80,100])\n",
    "\n",
    "wdm0 = wp(all_positions, rpbins, 60,period=halocat.Lbox, num_threads=4,estimator=‘Davis-Peebles’)"
   ]
  },
  {
   "cell_type": "code",
   "execution_count": 24,
   "metadata": {
    "collapsed": false
   },
   "outputs": [
    {
     "name": "stdout",
     "output_type": "stream",
     "text": [
      "[  0.1   0.5   1.    3.    6.    8.   10.   15.   20.   30.   40. ]\n"
     ]
    }
   ],
   "source": [
    "##what's going on with the bins??\n",
    "print(rpbins)\n",
    "rp_bin_centers = (rpbins[:1] + rpbins[1:])/2.\n",
    "\n"
   ]
  },
  {
   "cell_type": "code",
   "execution_count": 16,
   "metadata": {
    "collapsed": true
   },
   "outputs": [],
   "source": [
    "halocat = CachedHaloCatalog(simname = 'bolshoiplanck', redshift = 0.5, halo_finder = 'rockstar')\n",
    "halos = halocat.halo_table"
   ]
  },
  {
   "cell_type": "code",
   "execution_count": 17,
   "metadata": {
    "collapsed": false
   },
   "outputs": [
    {
     "name": "stderr",
     "output_type": "stream",
     "text": [
      "/Users/ccardamone/anaconda/lib/python3.5/site-packages/halotools/mock_observables/two_point_clustering/clustering_helpers.py:134: UserWarning: \n",
      " `sample1` exceeds `max_sample_size` \n",
      "downsampling `sample1`...\n",
      "  warn(msg)\n"
     ]
    }
   ],
   "source": [
    "x = halos['halo_x']\n",
    "y = halos['halo_y']\n",
    "z = halos['halo_z']\n",
    "all_positions = return_xyz_formatted_array(x, y, z)\n",
    "rpbins = np.array([.1,.5,1,3,6,8,10,15,20,30,40,50,60,80,100])\n",
    "wdm5 = wp(all_positions, rpbins, 60,period=halocat.Lbox, num_threads=4)"
   ]
  },
  {
   "cell_type": "code",
   "execution_count": 20,
   "metadata": {
    "collapsed": true
   },
   "outputs": [],
   "source": [
    "np.save('output/bolshoi_0_wp_dm.npy',wdm)\n",
    "np.save('output/bolshoi_0.5_wp_dm.npy',wdm5)\n",
    "np.save('output/bolshoi_rp_used.npy',rpbins)"
   ]
  },
  {
   "cell_type": "code",
   "execution_count": 5,
   "metadata": {
    "collapsed": true
   },
   "outputs": [],
   "source": [
    "wdm0=np.load('output/bolshoi_0_wp_dm.npy')\n",
    "wdm5=np.load('output/bolshoi_0.5_wp_dm.npy')\n",
    "rpbins=np.load('output/bolshoi_rp_used.npy')\n"
   ]
  },
  {
   "cell_type": "code",
   "execution_count": 16,
   "metadata": {
    "collapsed": false
   },
   "outputs": [
    {
     "data": {
      "text/plain": [
       "<matplotlib.text.Text at 0x116e9fd30>"
      ]
     },
     "execution_count": 16,
     "metadata": {},
     "output_type": "execute_result"
    },
    {
     "data": {
      "image/png": "[encoded data removed]",
      "text/plain": [
       "<matplotlib.figure.Figure at 0x117d157b8>"
      ]
     },
     "metadata": {},
     "output_type": "display_data"
    }
   ],
   "source": [
    "\n",
    "plt.yscale(\"log\", nonposy='clip')\n",
    "plt.xscale(\"log\", nonposy='clip')\n",
    "\n",
    "plt.plot(rp_bin_centers,wdm0,label='Bolshoi z=0')\n",
    "plt.plot(rp_bin_centers,wdm5,color='m',label='Bolshoi z=0.5')\n",
    "\n",
    "plt.axis([.1,100,.1,100])\n",
    "plt.legend(frameon=True,numpoints=1,loc=1)\n",
    "plt.xlabel('r$_{p}$ [Mpc/h]',fontsize=16)\n",
    "plt.ylabel('w$_{p}$',fontsize=16)\n",
    "plt.title('Peebles ACF')\n",
    "#plt.savefig('../plots/corrfunctSFpeas.pdf')\n"
   ]
  },
  {
   "cell_type": "code",
   "execution_count": 15,
   "metadata": {
    "collapsed": false
   },
   "outputs": [
    {
     "name": "stdout",
     "output_type": "stream",
     "text": [
      "[ 30.51441626  16.87175972  12.12543956   9.8556689    6.83392563\n",
      "   4.45280993   2.41952342   0.91446521   0.38812959  -0.03417333]\n"
     ]
    },
    {
     "data": {
      "text/plain": [
       "array([ 1,  3,  6,  8, 10, 15, 20, 30, 40, 50, 60])"
      ]
     },
     "execution_count": 15,
     "metadata": {},
     "output_type": "execute_result"
    }
   ],
   "source": [
    "\n",
    "print(wdm)\n",
    "rpbins"
   ]
  },
  {
   "cell_type": "code",
   "execution_count": null,
   "metadata": {
    "collapsed": true
   },
   "outputs": [],
   "source": []
  }
 ],
 "metadata": {
  "kernelspec": {
   "display_name": "Python 3",
   "language": "python",
   "name": "python3"
  },
  "language_info": {
   "codemirror_mode": {
    "name": "ipython",
    "version": 3
   },
   "file_extension": ".py",
   "mimetype": "text/x-python",
   "name": "python",
   "nbconvert_exporter": "python",
   "pygments_lexer": "ipython3",
   "version": "3.5.1"
  }
 },
 "nbformat": 4,
 "nbformat_minor": 0
}
