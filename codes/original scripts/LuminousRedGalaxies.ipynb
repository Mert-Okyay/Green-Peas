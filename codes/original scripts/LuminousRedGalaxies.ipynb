{
 "cells": [
  {
   "cell_type": "code",
   "execution_count": 1,
   "metadata": {},
   "outputs": [],
   "source": [
    "## File to read in LRG catalog & matched Randoms sampe & to read out the clustering input files (ra,dec,z,cdist)\n",
    "from __future__ import division\n",
    "import numpy as np\n",
    "import math\n",
    "from astropy import units as u\n",
    "from astropy.coordinates import SkyCoord, match_coordinates_sky\n",
    "import astropy.coordinates as coord\n",
    "from astropy.cosmology import FlatLambdaCDM\n",
    "from astropy.table import Table\n",
    "from astropy.io import fits\n",
    "import time\n",
    "from numpy.lib.recfunctions import append_fields\n",
    "from kde import weighted_gaussian_kde\n",
    "from astropy.cosmology import FlatLambdaCDM,Planck15\n",
    "import sys\n",
    "from time import gmtime, strftime\n",
    "\n",
    "import matplotlib.pyplot as plt\n",
    "from matplotlib.colors import LogNorm\n",
    "%matplotlib inline"
   ]
  },
  {
   "cell_type": "code",
   "execution_count": 2,
   "metadata": {
    "collapsed": true
   },
   "outputs": [],
   "source": [
    "# Read in cosmology\n",
    "cosmo = FlatLambdaCDM(H0=70, Om0=0.3)"
   ]
  },
  {
   "cell_type": "code",
   "execution_count": 3,
   "metadata": {
    "collapsed": true
   },
   "outputs": [],
   "source": [
    "## Running LRGs w/ bins to match peas Oct 2017\n",
    "import clustering.projected_correlation_functions as w\n",
    "import clustering.randoms as rand\n",
    "from clustering.utils import wp_d1d2,wp_dd"
   ]
  },
  {
   "cell_type": "code",
   "execution_count": 4,
   "metadata": {
    "collapsed": true
   },
   "outputs": [],
   "source": [
    "LRG= Table.read('../cat/LRGzcat.fits')\n",
    "LRGr=Table.read('../cat/LRGRandzcat.fits')"
   ]
  },
  {
   "cell_type": "code",
   "execution_count": 5,
   "metadata": {},
   "outputs": [
    {
     "name": "stdout",
     "output_type": "stream",
     "text": [
      "2017-10-19 20:16:27\n",
      "beginning Bootstrap\n",
      "1 / 100\n",
      "2 / 100\n",
      "3 / 100\n",
      "4 / 100\n",
      "5 / 100\n",
      "6 / 100\n",
      "7 / 100\n",
      "8 / 100\n",
      "9 / 100\n",
      "10 / 100\n",
      "11 / 100\n",
      "12 / 100\n",
      "13 / 100\n",
      "14 / 100\n",
      "15 / 100\n",
      "16 / 100\n",
      "17 / 100\n",
      "18 / 100\n",
      "19 / 100\n",
      "20 / 100\n",
      "21 / 100\n",
      "22 / 100\n",
      "23 / 100\n",
      "24 / 100\n",
      "25 / 100\n",
      "26 / 100\n",
      "27 / 100\n",
      "28 / 100\n",
      "29 / 100\n",
      "30 / 100\n",
      "31 / 100\n",
      "32 / 100\n",
      "33 / 100\n",
      "34 / 100\n",
      "35 / 100\n",
      "36 / 100\n",
      "37 / 100\n",
      "38 / 100\n",
      "39 / 100\n",
      "40 / 100\n",
      "41 / 100\n",
      "42 / 100\n",
      "43 / 100\n",
      "44 / 100\n",
      "45 / 100\n",
      "46 / 100\n",
      "47 / 100\n",
      "48 / 100\n",
      "49 / 100\n",
      "50 / 100\n",
      "51 / 100\n",
      "52 / 100\n",
      "53 / 100\n",
      "54 / 100\n",
      "55 / 100\n",
      "56 / 100\n",
      "57 / 100\n",
      "58 / 100\n",
      "59 / 100\n",
      "60 / 100\n",
      "61 / 100\n",
      "62 / 100\n",
      "63 / 100\n",
      "64 / 100\n",
      "65 / 100\n",
      "66 / 100\n",
      "67 / 100\n",
      "68 / 100\n",
      "69 / 100\n",
      "70 / 100\n",
      "71 / 100\n",
      "72 / 100\n",
      "73 / 100\n",
      "74 / 100\n",
      "75 / 100\n",
      "76 / 100\n",
      "77 / 100\n",
      "78 / 100\n",
      "79 / 100\n",
      "80 / 100\n",
      "81 / 100\n",
      "82 / 100\n",
      "83 / 100\n",
      "84 / 100\n",
      "85 / 100\n",
      "86 / 100\n",
      "87 / 100\n",
      "88 / 100\n",
      "89 / 100\n",
      "90 / 100\n",
      "91 / 100\n",
      "92 / 100\n",
      "93 / 100\n",
      "94 / 100\n",
      "95 / 100\n",
      "96 / 100\n",
      "97 / 100\n",
      "98 / 100\n",
      "99 / 100\n",
      "100 / 100\n",
      "2017-10-29 09:39:16\n"
     ]
    }
   ],
   "source": [
    "# 10/09/2017, running to match cross correlation functions\n",
    "pimax=60\n",
    "#bins = np.array([1,3,6,8,10,15,20,30,40,50,60])\n",
    "# 10/13/2017, running to match cross correlation functions\n",
    "bins = np.array([1,4,8,16,32,40,50,60,100])\n",
    "\n",
    "print(strftime(\"%Y-%m-%d %H:%M:%S\", gmtime()))\n",
    "rp,wp_p,wp_p_err_boot,cov_boot,wp_arr_boot = w.auto_wp(LRG, LRGr, bins, pimax, m=100,estimator='P',errtype='b')\n",
    "print(strftime(\"%Y-%m-%d %H:%M:%S\", gmtime()))"
   ]
  },
  {
   "cell_type": "code",
   "execution_count": 6,
   "metadata": {
    "collapsed": true
   },
   "outputs": [],
   "source": [
    "np.save('output/rp_LRGrgt1.npy', rp)\n",
    "np.save('output/wp_p_LRGrgt1',wp_p)\n",
    "np.save('output/wp_p_err_LRGrgt1', wp_p_err_boot)\n",
    "np.save('output/cov_LRGrgt1',cov_boot)\n",
    "np.save('output/wp_arr_LRGrgt1',wp_arr_boot)"
   ]
  },
  {
   "cell_type": "markdown",
   "metadata": {},
   "source": [
    "## Read in LRG files from Nikhil & create out file with values of interest (ra,dec,z,cdist)"
   ]
  },
  {
   "cell_type": "code",
   "execution_count": 3,
   "metadata": {},
   "outputs": [
    {
     "name": "stdout",
     "output_type": "stream",
     "text": [
      "287751\n"
     ]
    }
   ],
   "source": [
    "# read in LRG files from Nikhil\n",
    "tS = Table.read('../cat/galaxy_DR12v5_LOWZ_South.fits')\n",
    "tN = Table.read('../cat/galaxy_DR12v5_LOWZ_North.fits')\n",
    "#Append the 2 files together (North & Soutn)\n",
    "LRGra=np.concatenate((tN['RA'],tS['RA']),0)\n",
    "LRGdec=np.concatenate((tN['DEC'],tS['DEC']),0)\n",
    "LRGz=np.concatenate((tN['Z'],tS['Z']),0)\n",
    "#Make an array that contains only ra,dec&z, and select only those LRGs at z's of the peas\n",
    "temp=list(zip(LRGra,LRGdec,LRGz))\n",
    "LRG=np.zeros((len(LRGz),), dtype=[('ra', '<f8'),('dec', '<f8'),('z', '<f8')])\n",
    "LRG[:] = temp\n",
    "LRG = LRG[(LRG['z']>.112) & (LRG['z']<.36)]\n",
    "print(len(LRG))"
   ]
  },
  {
   "cell_type": "code",
   "execution_count": 7,
   "metadata": {},
   "outputs": [],
   "source": [
    "#from astropy.io.fits import getheader\n",
    "#hdr=getheader('../cat/galaxy_DR12v5_LOWZ_South.fits')"
   ]
  },
  {
   "cell_type": "code",
   "execution_count": 3,
   "metadata": {},
   "outputs": [],
   "source": [
    "#print(hdr.names)"
   ]
  },
  {
   "cell_type": "markdown",
   "metadata": {},
   "source": [
    "print(hdr)\n"
   ]
  },
  {
   "cell_type": "code",
   "execution_count": 5,
   "metadata": {},
   "outputs": [
    {
     "name": "stdout",
     "output_type": "stream",
     "text": [
      "2017-07-05 13:41:58\n",
      "2017-07-05 13:42:08\n"
     ]
    }
   ],
   "source": [
    "print(strftime(\"%Y-%m-%d %H:%M:%S\", gmtime()))\n",
    "#Add new array field of comoving distances\n",
    "cdists = np.array([cosmo.comoving_distance(z).value for z in LRG['z']])*cosmo.h\n",
    "LRG = append_fields(LRG, 'cdist', cdists)\n",
    "# append the field and make back into normal array\n",
    "LRG=np.array(LRG)\n",
    "print(strftime(\"%Y-%m-%d %H:%M:%S\", gmtime()))"
   ]
  },
  {
   "cell_type": "markdown",
   "metadata": {},
   "source": [
    "## b/f play this code runs"
   ]
  },
  {
   "cell_type": "code",
   "execution_count": 6,
   "metadata": {
    "collapsed": true
   },
   "outputs": [],
   "source": [
    "# read in LRG randoms files from BOSS survey (note takes a min to read int)\n",
    "tS = Table.read('../cat/random0_DR12v5_LOWZ_South.fits')\n",
    "tN = Table.read('../cat/random0_DR12v5_LOWZ_North.fits')"
   ]
  },
  {
   "cell_type": "code",
   "execution_count": 6,
   "metadata": {},
   "outputs": [
    {
     "name": "stdout",
     "output_type": "stream",
     "text": [
      "2017-06-30 17:29:49\n",
      "2017-06-30 17:29:59\n"
     ]
    }
   ],
   "source": [
    "print(strftime(\"%Y-%m-%d %H:%M:%S\", gmtime()))\n",
    "#Append the 2 files together (North & Soutn) (Note takes a min to run)\n",
    "LRGrar=np.concatenate((tN['RA'],tS['RA']),0)\n",
    "LRGdecr=np.concatenate((tN['DEC'],tS['DEC']),0)\n",
    "LRGzr=np.concatenate((tN['Z'],tS['Z']),0)\n",
    "#Make an array that contains only ra,dec&z, and select only those LRGs at z's of the peas\n",
    "temp=list(zip(LRGrar,LRGdecr,LRGzr))\n",
    "LRGr=np.zeros((len(LRGzr),), dtype=[('ra', '<f8'),('dec', '<f8'),('z', '<f8')])\n",
    "LRGr[:] = temp\n",
    "LRGr = LRGr[(LRGr['z']>.112) & (LRGr['z']<.36)]\n",
    "print(strftime(\"%Y-%m-%d %H:%M:%S\", gmtime()))\n"
   ]
  },
  {
   "cell_type": "code",
   "execution_count": 7,
   "metadata": {},
   "outputs": [
    {
     "name": "stdout",
     "output_type": "stream",
     "text": [
      "2017-06-30 17:30:06\n",
      "2017-06-30 17:38:22\n"
     ]
    }
   ],
   "source": [
    "print(strftime(\"%Y-%m-%d %H:%M:%S\", gmtime()))\n",
    "#Add new array field of comoving distances (note: takes a ~8-10 min to run)\n",
    "cdists = np.array([cosmo.comoving_distance(z).value for z in LRGr['z']])*cosmo.h\n",
    "LRGr = append_fields(LRGr, 'cdist', cdists)\n",
    "# append the field and make back into normal array\n",
    "LRGr=np.array(LRGr)\n",
    "print(strftime(\"%Y-%m-%d %H:%M:%S\", gmtime()))"
   ]
  },
  {
   "cell_type": "code",
   "execution_count": 25,
   "metadata": {},
   "outputs": [
    {
     "name": "stdout",
     "output_type": "stream",
     "text": [
      "14144530 7072266\n"
     ]
    }
   ],
   "source": [
    "## EDIT 6/30, let's keep it large for now to see what the result will be.\n",
    "##Note - file needed be QUITE so large, what about making it smaller?\n",
    "#sm=len(LRGr)/2\n",
    "#if sm%2 == 1:\n",
    "#    sm=sm+1\n",
    "#sm=int(sm)\n",
    "#ind = np.random.randint(len(LRGr), size=sm)\n",
    "#LRGrsm=LRGr[ind]\n",
    "#print(len(LRGr),len(LRGrsm))\n"
   ]
  },
  {
   "cell_type": "code",
   "execution_count": 30,
   "metadata": {},
   "outputs": [
    {
     "data": {
      "text/plain": [
       "(array([  246015.,   982128.,  1202692.,  1109257.,  1076572.,   821843.,\n",
       "          535398.,   500412.,   406205.,   191744.]),\n",
       " array([-10.999796 ,  -3.0249004,   4.9499952,  12.9248908,  20.8997864,\n",
       "         28.874682 ,  36.8495776,  44.8244732,  52.7993688,  60.7742644,\n",
       "         68.74916  ]),\n",
       " <a list of 10 Patch objects>)"
      ]
     },
     "execution_count": 30,
     "metadata": {},
     "output_type": "execute_result"
    },
    {
     "data": {
      "image/png": "[encoded data removed]",
      "text/plain": [
       "<matplotlib.figure.Figure at 0x10f821d68>"
      ]
     },
     "metadata": {},
     "output_type": "display_data"
    },
    {
     "data": {
      "image/png": "[encoded data removed]",
      "text/plain": [
       "<matplotlib.figure.Figure at 0x11591e320>"
      ]
     },
     "metadata": {},
     "output_type": "display_data"
    }
   ],
   "source": [
    "##check histograms\n",
    "#nd = len(LRG)\n",
    "#nr = len(LRGr)\n",
    "#plt.hist(LRGrsm['z'], histtype='stepfilled', bins=20,alpha=0.2,color='b',weights=None,normed=True,\\\n",
    "#         label='Randoms small \\n N='+str(nd))\n",
    "#plt.hist(LRGr['z'], histtype='step', bins=20,alpha=0.5,normed=True,weights=None,\\\n",
    "#         label='Randoms tot\\n N='+str(nr))\n",
    "#plt.xlabel('z')\n",
    "#plt.legend(loc='best', frameon=False)\n",
    "#\n",
    "##f,(ax1,ax2)=plt.subplots(1,2)\n",
    "##ax1.hist(LRGr['dec'])\n",
    "##ax1.hist(LRGrsm['dec'], )"
   ]
  },
  {
   "cell_type": "code",
   "execution_count": 32,
   "metadata": {},
   "outputs": [
    {
     "data": {
      "text/plain": [
       "<matplotlib.legend.Legend at 0x116076710>"
      ]
     },
     "execution_count": 32,
     "metadata": {},
     "output_type": "execute_result"
    },
    {
     "data": {
      "image/png": "[encoded data removed]",
      "text/plain": [
       "<matplotlib.figure.Figure at 0x116076908>"
      ]
     },
     "metadata": {},
     "output_type": "display_data"
    }
   ],
   "source": [
    "#plt.hist(LRGrsm['ra'], histtype='stepfilled', bins=20,alpha=0.2,color='b',weights=None,normed=True,\\\n",
    "#         label='Randoms small \\n N='+str(nd))\n",
    "#plt.hist(LRGr['ra'], histtype='step', bins=20,alpha=0.5,normed=True,weights=None,\\\n",
    "#         label='Randoms tot\\n N='+str(nr))\n",
    "#plt.xlabel('ra')\n",
    "#plt.legend(loc='best', frameon=False)\n"
   ]
  },
  {
   "cell_type": "code",
   "execution_count": 33,
   "metadata": {},
   "outputs": [
    {
     "data": {
      "text/plain": [
       "<matplotlib.legend.Legend at 0x1160332b0>"
      ]
     },
     "execution_count": 33,
     "metadata": {},
     "output_type": "execute_result"
    },
    {
     "data": {
      "image/png": "[encoded data removed]",
      "text/plain": [
       "<matplotlib.figure.Figure at 0x1160a9fd0>"
      ]
     },
     "metadata": {},
     "output_type": "display_data"
    }
   ],
   "source": [
    "#plt.hist(LRGrsm['dec'], histtype='stepfilled', bins=20,alpha=0.2,color='b',weights=None,normed=True,\\\n",
    "#         label='Randoms small \\n N='+str(nd))\n",
    "#plt.hist(LRGr['dec'], histtype='step', bins=20,alpha=0.5,normed=True,weights=None,\\\n",
    "#         label='Randoms tot\\n N='+str(nr))\n",
    "#plt.xlabel('dec')\n",
    "#plt.legend(loc='best', frameon=False)\n"
   ]
  },
  {
   "cell_type": "code",
   "execution_count": 39,
   "metadata": {},
   "outputs": [
    {
     "name": "stdout",
     "output_type": "stream",
     "text": [
      "('ra', 'dec', 'z', 'cdist')\n",
      "('ra', 'dec', 'z', 'cdist')\n",
      "('ra', 'dec', 'z', 'cdist')\n"
     ]
    }
   ],
   "source": [
    "#print(LRG.dtype.names)\n",
    "#print(LRGr.dtype.names)\n",
    "#print(LRGrsm.dtype.names)\n",
    "\n",
    "### OUtput created catalogs, note not happy if they already exist\n",
    "#t = Table(LRG)\n",
    "#t.write('../cat/LRGzcat.fits',format='fits')\n",
    "#tr = Table(LRGr)\n",
    "#tr.write('../cat/LRGRandzcatfull.fits',format='fits')\n",
    "#trsm = Table(LRGr)\n",
    "#trsm.write('../cat/LRGRandzcat.fits',format='fits')"
   ]
  },
  {
   "cell_type": "code",
   "execution_count": 37,
   "metadata": {},
   "outputs": [
    {
     "name": "stdout",
     "output_type": "stream",
     "text": [
      "49.15545037202303\n",
      "24.577728661238364\n"
     ]
    }
   ],
   "source": [
    "#print(len(LRGr)/len(LRG))\n",
    "#print(len(LRGrsm)/len(LRG))"
   ]
  },
  {
   "cell_type": "markdown",
   "metadata": {},
   "source": [
    "## Start here to use created LRG catalogs for correlation functions"
   ]
  },
  {
   "cell_type": "code",
   "execution_count": 3,
   "metadata": {
    "collapsed": true
   },
   "outputs": [],
   "source": [
    "LRG= Table.read('../cat/LRGzcat.fits')\n",
    "LRGr=Table.read('../cat/LRGRandzcat.fits')"
   ]
  },
  {
   "cell_type": "code",
   "execution_count": 8,
   "metadata": {},
   "outputs": [
    {
     "data": {
      "text/plain": [
       "<matplotlib.legend.Legend at 0x12248d3c8>"
      ]
     },
     "execution_count": 8,
     "metadata": {},
     "output_type": "execute_result"
    },
    {
     "data": {
      "image/png": "[encoded data removed]",
      "text/plain": [
       "<matplotlib.figure.Figure at 0x12248d518>"
      ]
     },
     "metadata": {},
     "output_type": "display_data"
    }
   ],
   "source": [
    "nd = len(LRG)\n",
    "nr = len(LRGr)\n",
    "plt.hist(LRGr['z'], histtype='stepfilled', bins=20,alpha=0.2,color='b',weights=None,normed=True,\\\n",
    "         label='Randoms \\n N='+str(nd))\n",
    "plt.hist(LRG['z'], histtype='step', bins=20,alpha=0.5,normed=True,weights=None,\\\n",
    "         label='LRGs\\n N='+str(nr))\n",
    "plt.xlabel('z')\n",
    "plt.legend(loc='best', frameon=False)\n"
   ]
  },
  {
   "cell_type": "code",
   "execution_count": null,
   "metadata": {},
   "outputs": [
    {
     "name": "stderr",
     "output_type": "stream",
     "text": [
      "/Users/ccardamone/anaconda/lib/python3.5/site-packages/matplotlib/axes/_axes.py:519: UserWarning: No labelled objects found. Use label='...' kwarg on individual plots.\n",
      "  warnings.warn(\"No labelled objects found. \"\n"
     ]
    }
   ],
   "source": [
    "ra = coord.Angle(LRG['ra']*u.degree)\n",
    "ra = ra.wrap_at(180*u.degree)\n",
    "dec = coord.Angle(LRG['dec']*u.degree)\n",
    "\n",
    "rar = coord.Angle(LRGr['ra']*u.degree)\n",
    "rar = rar.wrap_at(180*u.degree)\n",
    "decr = coord.Angle(LRGr['dec']*u.degree)\n",
    "\n",
    "fig = plt.figure(figsize=(8,6))\n",
    "ax = fig.add_subplot(111, projection=\"aitoff\")\n",
    "\n",
    "ax.scatter(rar.radian,decr.radian,1,color='k',alpha=.1)\n",
    "ax.scatter(ra.radian, dec.radian,1,color='g',marker='+')\n",
    "# blue is non-random default color used, black is randoms (k), reds r, cyan is c, green is g, points is transparent\n",
    "# marker='o', '+', '*','.', 'x','square' or 's'\tSquare'diamond'or'd','^','v', '>', '<','pentagram' or 'p','hexagram' or 'h','none'\n",
    "#plt.xlabel('RA')\n",
    "#plt.xlabel('RA')\n",
    "plt.title('LRG / Randoms')\n",
    "plt.legend(loc='best', frameon=False)\n",
    "plt.savefig('../plots/LRGrand_ra_dec.pdf')"
   ]
  },
  {
   "cell_type": "markdown",
   "metadata": {
    "collapsed": true
   },
   "source": [
    "## LRG AutoCorrelation - aka a basic check of autocorr funct program"
   ]
  },
  {
   "cell_type": "code",
   "execution_count": 4,
   "metadata": {
    "collapsed": true
   },
   "outputs": [],
   "source": [
    "import clustering.projected_correlation_functions as w\n",
    "import clustering.randoms as rand\n",
    "from clustering.utils import wp_d1d2,wp_dd"
   ]
  },
  {
   "cell_type": "code",
   "execution_count": 5,
   "metadata": {
    "collapsed": true
   },
   "outputs": [],
   "source": [
    "LRG= Table.read('../cat/LRGzcat.fits')\n",
    "LRGr=Table.read('../cat/LRGRandzcat.fits')"
   ]
  },
  {
   "cell_type": "code",
   "execution_count": 5,
   "metadata": {
    "collapsed": true
   },
   "outputs": [],
   "source": [
    "## Initialize bins, $\\pi_{max}$\n",
    "# set out to 60 Mpc length, as a function of r_p, each scale is integrated from 0 to 60 Mpc\n",
    "pimax=60\n",
    "nbins = 10\n",
    "bins = np.logspace(-1, np.log10(40), nbins + 1)"
   ]
  },
  {
   "cell_type": "code",
   "execution_count": 7,
   "metadata": {},
   "outputs": [
    {
     "name": "stdout",
     "output_type": "stream",
     "text": [
      "2017-07-24 19:04:56\n",
      "beginning jackknifes\n",
      "0 0 0 18.0 -90.0 -64.15806723683288\n",
      "0 0 0 18.0 -64.15806723683288 -53.13010235415599\n",
      "0 0 0 18.0 -53.13010235415599 -44.42700400080571\n",
      "0 0 0 18.0 -44.42700400080571 -36.86989764584403\n",
      "0 0 0 18.0 -36.86989764584403 -30.00000000000001\n",
      "0 0 0 18.0 -30.00000000000001 -23.578178478201842\n",
      "0 0 0 18.0 -23.578178478201842 -17.4576031237221\n",
      "0 0 0 18.0 -17.4576031237221 -11.536959032815496\n",
      "1267 59507 0 18.0 -11.536959032815496 -5.739170477266795\n",
      "3357 172662 0 18.0 -5.739170477266795 -7.951386703658792e-15\n",
      "3884 172131 0 18.0 -7.951386703658792e-15 5.739170477266779\n",
      "3509 155934 0 18.0 5.739170477266779 11.53695903281548\n",
      "3454 166326 0 18.0 11.53695903281548 17.457603123722084\n",
      "3054 156890 0 18.0 17.457603123722084 23.578178478201824\n",
      "3558 160425 0 18.0 23.578178478201824 29.999999999999993\n",
      "2904 138650 0 18.0 29.999999999999993 36.86989764584401\n",
      "0 0 0 18.0 36.86989764584401 44.427004000805695\n",
      "0 0 0 18.0 44.427004000805695 53.130102354155966\n",
      "0 0 0 18.0 53.130102354155966 64.15806723683285\n",
      "0 0 0 18.0 64.15806723683285 89.99999879258174\n",
      "0 0 18.0 36.0 -90.0 -64.15806723683288\n",
      "0 0 18.0 36.0 -64.15806723683288 -53.13010235415599\n",
      "0 0 18.0 36.0 -53.13010235415599 -44.42700400080571\n",
      "0 0 18.0 36.0 -44.42700400080571 -36.86989764584403\n",
      "0 0 18.0 36.0 -36.86989764584403 -30.00000000000001\n",
      "0 0 18.0 36.0 -30.00000000000001 -23.578178478201842\n",
      "0 0 18.0 36.0 -23.578178478201842 -17.4576031237221\n",
      "0 0 18.0 36.0 -17.4576031237221 -11.536959032815496\n",
      "2040 101291 18.0 36.0 -11.536959032815496 -5.739170477266795\n",
      "3173 169892 18.0 36.0 -5.739170477266795 -7.951386703658792e-15\n",
      "3597 171809 18.0 36.0 -7.951386703658792e-15 5.739170477266779\n",
      "2666 131981 18.0 36.0 5.739170477266779 11.53695903281548\n",
      "2645 119855 18.0 36.0 11.53695903281548 17.457603123722084\n",
      "2077 98240 18.0 36.0 17.457603123722084 23.578178478201824\n",
      "2799 141682 18.0 36.0 23.578178478201824 29.999999999999993\n",
      "1440 81729 18.0 36.0 29.999999999999993 36.86989764584401\n",
      "0 0 18.0 36.0 36.86989764584401 44.427004000805695\n",
      "0 0 18.0 36.0 44.427004000805695 53.130102354155966\n",
      "0 0 18.0 36.0 53.130102354155966 64.15806723683285\n",
      "0 0 18.0 36.0 64.15806723683285 89.99999879258174\n",
      "0 0 36.0 54.0 -90.0 -64.15806723683288\n",
      "0 0 36.0 54.0 -64.15806723683288 -53.13010235415599\n",
      "0 0 36.0 54.0 -53.13010235415599 -44.42700400080571\n",
      "0 0 36.0 54.0 -44.42700400080571 -36.86989764584403\n",
      "0 0 36.0 54.0 -36.86989764584403 -30.00000000000001\n",
      "0 0 36.0 54.0 -30.00000000000001 -23.578178478201842\n",
      "0 0 36.0 54.0 -23.578178478201842 -17.4576031237221\n",
      "0 0 36.0 54.0 -17.4576031237221 -11.536959032815496\n",
      "1033 51861 36.0 54.0 -11.536959032815496 -5.739170477266795\n",
      "1853 84057 36.0 54.0 -5.739170477266795 -7.951386703658792e-15\n",
      "1384 74938 36.0 54.0 -7.951386703658792e-15 5.739170477266779\n",
      "0 0 36.0 54.0 5.739170477266779 11.53695903281548\n",
      "0 0 36.0 54.0 11.53695903281548 17.457603123722084\n",
      "0 0 36.0 54.0 17.457603123722084 23.578178478201824\n",
      "0 0 36.0 54.0 23.578178478201824 29.999999999999993\n",
      "0 0 36.0 54.0 29.999999999999993 36.86989764584401\n",
      "0 0 36.0 54.0 36.86989764584401 44.427004000805695\n",
      "0 0 36.0 54.0 44.427004000805695 53.130102354155966\n",
      "0 0 36.0 54.0 53.130102354155966 64.15806723683285\n",
      "0 0 36.0 54.0 64.15806723683285 89.99999879258174\n",
      "0 0 54.0 72.0 -90.0 -64.15806723683288\n",
      "0 0 54.0 72.0 -64.15806723683288 -53.13010235415599\n",
      "0 0 54.0 72.0 -53.13010235415599 -44.42700400080571\n",
      "0 0 54.0 72.0 -44.42700400080571 -36.86989764584403\n",
      "0 0 54.0 72.0 -36.86989764584403 -30.00000000000001\n",
      "0 0 54.0 72.0 -30.00000000000001 -23.578178478201842\n",
      "0 0 54.0 72.0 -23.578178478201842 -17.4576031237221\n",
      "0 0 54.0 72.0 -17.4576031237221 -11.536959032815496\n",
      "0 0 54.0 72.0 -11.536959032815496 -5.739170477266795\n",
      "0 0 54.0 72.0 -5.739170477266795 -7.951386703658792e-15\n",
      "0 0 54.0 72.0 -7.951386703658792e-15 5.739170477266779\n",
      "0 0 54.0 72.0 5.739170477266779 11.53695903281548\n",
      "0 0 54.0 72.0 11.53695903281548 17.457603123722084\n",
      "0 0 54.0 72.0 17.457603123722084 23.578178478201824\n",
      "0 0 54.0 72.0 23.578178478201824 29.999999999999993\n",
      "0 0 54.0 72.0 29.999999999999993 36.86989764584401\n",
      "0 0 54.0 72.0 36.86989764584401 44.427004000805695\n",
      "0 0 54.0 72.0 44.427004000805695 53.130102354155966\n",
      "0 0 54.0 72.0 53.130102354155966 64.15806723683285\n",
      "0 0 54.0 72.0 64.15806723683285 89.99999879258174\n",
      "0 0 72.0 90.0 -90.0 -64.15806723683288\n",
      "0 0 72.0 90.0 -64.15806723683288 -53.13010235415599\n",
      "0 0 72.0 90.0 -53.13010235415599 -44.42700400080571\n",
      "0 0 72.0 90.0 -44.42700400080571 -36.86989764584403\n",
      "0 0 72.0 90.0 -36.86989764584403 -30.00000000000001\n",
      "0 0 72.0 90.0 -30.00000000000001 -23.578178478201842\n",
      "0 0 72.0 90.0 -23.578178478201842 -17.4576031237221\n",
      "0 0 72.0 90.0 -17.4576031237221 -11.536959032815496\n",
      "0 0 72.0 90.0 -11.536959032815496 -5.739170477266795\n",
      "0 0 72.0 90.0 -5.739170477266795 -7.951386703658792e-15\n",
      "0 0 72.0 90.0 -7.951386703658792e-15 5.739170477266779\n",
      "0 0 72.0 90.0 5.739170477266779 11.53695903281548\n",
      "0 0 72.0 90.0 11.53695903281548 17.457603123722084\n",
      "0 0 72.0 90.0 17.457603123722084 23.578178478201824\n",
      "0 0 72.0 90.0 23.578178478201824 29.999999999999993\n",
      "0 0 72.0 90.0 29.999999999999993 36.86989764584401\n",
      "0 0 72.0 90.0 36.86989764584401 44.427004000805695\n",
      "0 0 72.0 90.0 44.427004000805695 53.130102354155966\n",
      "0 0 72.0 90.0 53.130102354155966 64.15806723683285\n",
      "0 0 72.0 90.0 64.15806723683285 89.99999879258174\n",
      "0 0 90.0 108.0 -90.0 -64.15806723683288\n",
      "0 0 90.0 108.0 -64.15806723683288 -53.13010235415599\n",
      "0 0 90.0 108.0 -53.13010235415599 -44.42700400080571\n",
      "0 0 90.0 108.0 -44.42700400080571 -36.86989764584403\n",
      "0 0 90.0 108.0 -36.86989764584403 -30.00000000000001\n",
      "0 0 90.0 108.0 -30.00000000000001 -23.578178478201842\n",
      "0 0 90.0 108.0 -23.578178478201842 -17.4576031237221\n",
      "0 0 90.0 108.0 -17.4576031237221 -11.536959032815496\n",
      "0 0 90.0 108.0 -11.536959032815496 -5.739170477266795\n",
      "0 0 90.0 108.0 -5.739170477266795 -7.951386703658792e-15\n",
      "0 0 90.0 108.0 -7.951386703658792e-15 5.739170477266779\n",
      "0 0 90.0 108.0 5.739170477266779 11.53695903281548\n",
      "0 0 90.0 108.0 11.53695903281548 17.457603123722084\n",
      "0 0 90.0 108.0 17.457603123722084 23.578178478201824\n",
      "0 0 90.0 108.0 23.578178478201824 29.999999999999993\n",
      "0 0 90.0 108.0 29.999999999999993 36.86989764584401\n",
      "0 0 90.0 108.0 36.86989764584401 44.427004000805695\n",
      "0 0 90.0 108.0 44.427004000805695 53.130102354155966\n",
      "0 0 90.0 108.0 53.130102354155966 64.15806723683285\n",
      "0 0 90.0 108.0 64.15806723683285 89.99999879258174\n",
      "0 0 108.0 126.0 -90.0 -64.15806723683288\n",
      "0 0 108.0 126.0 -64.15806723683288 -53.13010235415599\n",
      "0 0 108.0 126.0 -53.13010235415599 -44.42700400080571\n",
      "0 0 108.0 126.0 -44.42700400080571 -36.86989764584403\n",
      "0 0 108.0 126.0 -36.86989764584403 -30.00000000000001\n",
      "0 0 108.0 126.0 -30.00000000000001 -23.578178478201842\n",
      "0 0 108.0 126.0 -23.578178478201842 -17.4576031237221\n",
      "0 0 108.0 126.0 -17.4576031237221 -11.536959032815496\n",
      "0 0 108.0 126.0 -11.536959032815496 -5.739170477266795\n",
      "102 5422 108.0 126.0 -5.739170477266795 -7.951386703658792e-15\n",
      "664 38321 108.0 126.0 -7.951386703658792e-15 5.739170477266779\n",
      "1049 58468 108.0 126.0 5.739170477266779 11.53695903281548\n",
      "1479 87544 108.0 126.0 11.53695903281548 17.457603123722084\n",
      "2007 106837 108.0 126.0 17.457603123722084 23.578178478201824\n",
      "2176 107947 108.0 126.0 23.578178478201824 29.999999999999993\n",
      "1068 38431 108.0 126.0 29.999999999999993 36.86989764584401\n",
      "8 127 108.0 126.0 36.86989764584401 44.427004000805695\n",
      "70 1612 108.0 126.0 44.427004000805695 53.130102354155966\n",
      "347 13108 108.0 126.0 53.130102354155966 64.15806723683285\n",
      "0 0 108.0 126.0 64.15806723683285 89.99999879258174\n",
      "0 0 126.0 144.0 -90.0 -64.15806723683288\n",
      "0 0 126.0 144.0 -64.15806723683288 -53.13010235415599\n",
      "0 0 126.0 144.0 -53.13010235415599 -44.42700400080571\n",
      "0 0 126.0 144.0 -44.42700400080571 -36.86989764584403\n",
      "0 0 126.0 144.0 -36.86989764584403 -30.00000000000001\n",
      "0 0 126.0 144.0 -30.00000000000001 -23.578178478201842\n",
      "0 0 126.0 144.0 -23.578178478201842 -17.4576031237221\n",
      "0 0 126.0 144.0 -17.4576031237221 -11.536959032815496\n",
      "0 0 126.0 144.0 -11.536959032815496 -5.739170477266795\n",
      "63 3554 126.0 144.0 -5.739170477266795 -7.951386703658792e-15\n",
      "1568 69577 126.0 144.0 -7.951386703658792e-15 5.739170477266779\n",
      "3318 154516 126.0 144.0 5.739170477266779 11.53695903281548\n",
      "3298 150498 126.0 144.0 11.53695903281548 17.457603123722084\n",
      "2673 150801 126.0 144.0 17.457603123722084 23.578178478201824\n",
      "2891 151850 126.0 144.0 23.578178478201824 29.999999999999993\n",
      "2867 146334 126.0 144.0 29.999999999999993 36.86989764584401\n",
      "2039 104980 126.0 144.0 36.86989764584401 44.427004000805695\n",
      "2324 121674 126.0 144.0 44.427004000805695 53.130102354155966\n",
      "3713 147000 126.0 144.0 53.130102354155966 64.15806723683285\n",
      "160 7154 126.0 144.0 64.15806723683285 89.99999879258174\n",
      "0 0 144.0 162.0 -90.0 -64.15806723683288\n",
      "0 0 144.0 162.0 -64.15806723683288 -53.13010235415599\n",
      "0 0 144.0 162.0 -53.13010235415599 -44.42700400080571\n",
      "0 0 144.0 162.0 -44.42700400080571 -36.86989764584403\n",
      "0 0 144.0 162.0 -36.86989764584403 -30.00000000000001\n",
      "0 0 144.0 162.0 -30.00000000000001 -23.578178478201842\n",
      "0 0 144.0 162.0 -23.578178478201842 -17.4576031237221\n",
      "0 0 144.0 162.0 -17.4576031237221 -11.536959032815496\n",
      "0 0 144.0 162.0 -11.536959032815496 -5.739170477266795\n",
      "0 0 144.0 162.0 -5.739170477266795 -7.951386703658792e-15\n",
      "2212 102805 144.0 162.0 -7.951386703658792e-15 5.739170477266779\n",
      "3588 158646 144.0 162.0 5.739170477266779 11.53695903281548\n",
      "3521 158056 144.0 162.0 11.53695903281548 17.457603123722084\n",
      "3282 157714 144.0 162.0 17.457603123722084 23.578178478201824\n",
      "3122 159375 144.0 162.0 23.578178478201824 29.999999999999993\n",
      "3062 160725 144.0 162.0 29.999999999999993 36.86989764584401\n",
      "3197 160169 144.0 162.0 36.86989764584401 44.427004000805695\n",
      "3031 161628 144.0 162.0 44.427004000805695 53.130102354155966\n",
      "3024 151470 144.0 162.0 53.130102354155966 64.15806723683285\n",
      "334 16105 144.0 162.0 64.15806723683285 89.99999879258174\n",
      "0 0 162.0 180.0 -90.0 -64.15806723683288\n",
      "0 0 162.0 180.0 -64.15806723683288 -53.13010235415599\n",
      "0 0 162.0 180.0 -53.13010235415599 -44.42700400080571\n",
      "0 0 162.0 180.0 -44.42700400080571 -36.86989764584403\n",
      "0 0 162.0 180.0 -36.86989764584403 -30.00000000000001\n",
      "0 0 162.0 180.0 -30.00000000000001 -23.578178478201842\n",
      "0 0 162.0 180.0 -23.578178478201842 -17.4576031237221\n",
      "0 0 162.0 180.0 -17.4576031237221 -11.536959032815496\n",
      "0 0 162.0 180.0 -11.536959032815496 -5.739170477266795\n",
      "0 0 162.0 180.0 -5.739170477266795 -7.951386703658792e-15\n",
      "1934 94621 162.0 180.0 -7.951386703658792e-15 5.739170477266779\n",
      "3382 158585 162.0 180.0 5.739170477266779 11.53695903281548\n",
      "3347 153823 162.0 180.0 11.53695903281548 17.457603123722084\n",
      "3152 155504 162.0 180.0 17.457603123722084 23.578178478201824\n",
      "3279 157582 162.0 180.0 23.578178478201824 29.999999999999993\n",
      "3086 160526 162.0 180.0 29.999999999999993 36.86989764584401\n",
      "3375 159962 162.0 180.0 36.86989764584401 44.427004000805695\n",
      "3292 159730 162.0 180.0 44.427004000805695 53.130102354155966\n",
      "2990 154089 162.0 180.0 53.130102354155966 64.15806723683285\n",
      "688 40672 162.0 180.0 64.15806723683285 89.99999879258174\n",
      "0 0 180.0 198.0 -90.0 -64.15806723683288\n",
      "0 0 180.0 198.0 -64.15806723683288 -53.13010235415599\n",
      "0 0 180.0 198.0 -53.13010235415599 -44.42700400080571\n",
      "0 0 180.0 198.0 -44.42700400080571 -36.86989764584403\n",
      "0 0 180.0 198.0 -36.86989764584403 -30.00000000000001\n",
      "0 0 180.0 198.0 -30.00000000000001 -23.578178478201842\n",
      "0 0 180.0 198.0 -23.578178478201842 -17.4576031237221\n",
      "0 0 180.0 198.0 -17.4576031237221 -11.536959032815496\n",
      "0 0 180.0 198.0 -11.536959032815496 -5.739170477266795\n",
      "175 12183 180.0 198.0 -5.739170477266795 -7.951386703658792e-15\n",
      "2141 124165 180.0 198.0 -7.951386703658792e-15 5.739170477266779\n",
      "3089 158533 180.0 198.0 5.739170477266779 11.53695903281548\n",
      "2892 156786 180.0 198.0 11.53695903281548 17.457603123722084\n",
      "3197 159206 180.0 198.0 17.457603123722084 23.578178478201824\n",
      "3377 158885 180.0 198.0 23.578178478201824 29.999999999999993\n",
      "1969 105577 180.0 198.0 29.999999999999993 36.86989764584401\n",
      "2214 103644 180.0 198.0 36.86989764584401 44.427004000805695\n",
      "3530 159499 180.0 198.0 44.427004000805695 53.130102354155966\n",
      "3204 159505 180.0 198.0 53.130102354155966 64.15806723683285\n",
      "983 49624 180.0 198.0 64.15806723683285 89.99999879258174\n",
      "0 0 198.0 216.0 -90.0 -64.15806723683288\n",
      "0 0 198.0 216.0 -64.15806723683288 -53.13010235415599\n",
      "0 0 198.0 216.0 -53.13010235415599 -44.42700400080571\n",
      "0 0 198.0 216.0 -44.42700400080571 -36.86989764584403\n",
      "0 0 198.0 216.0 -36.86989764584403 -30.00000000000001\n",
      "0 0 198.0 216.0 -30.00000000000001 -23.578178478201842\n",
      "0 0 198.0 216.0 -23.578178478201842 -17.4576031237221\n",
      "0 0 198.0 216.0 -17.4576031237221 -11.536959032815496\n",
      "0 0 198.0 216.0 -11.536959032815496 -5.739170477266795\n",
      "1875 96521 198.0 216.0 -5.739170477266795 -7.951386703658792e-15\n",
      "2817 155085 198.0 216.0 -7.951386703658792e-15 5.739170477266779\n",
      "2893 158364 198.0 216.0 5.739170477266779 11.53695903281548\n",
      "3189 160777 198.0 216.0 11.53695903281548 17.457603123722084\n",
      "2850 156271 198.0 216.0 17.457603123722084 23.578178478201824\n",
      "3037 156516 198.0 216.0 23.578178478201824 29.999999999999993\n",
      "900 39784 198.0 216.0 29.999999999999993 36.86989764584401\n",
      "2537 123403 198.0 216.0 36.86989764584401 44.427004000805695\n",
      "3115 156221 198.0 216.0 44.427004000805695 53.130102354155966\n",
      "3468 160199 198.0 216.0 53.130102354155966 64.15806723683285\n",
      "640 30326 198.0 216.0 64.15806723683285 89.99999879258174\n",
      "0 0 216.0 234.0 -90.0 -64.15806723683288\n",
      "0 0 216.0 234.0 -64.15806723683288 -53.13010235415599\n",
      "0 0 216.0 234.0 -53.13010235415599 -44.42700400080571\n",
      "0 0 216.0 234.0 -44.42700400080571 -36.86989764584403\n",
      "0 0 216.0 234.0 -36.86989764584403 -30.00000000000001\n",
      "0 0 216.0 234.0 -30.00000000000001 -23.578178478201842\n",
      "0 0 216.0 234.0 -23.578178478201842 -17.4576031237221\n",
      "0 0 216.0 234.0 -17.4576031237221 -11.536959032815496\n",
      "0 0 216.0 234.0 -11.536959032815496 -5.739170477266795\n",
      "1502 67999 216.0 234.0 -5.739170477266795 -7.951386703658792e-15\n",
      "3078 152622 216.0 234.0 -7.951386703658792e-15 5.739170477266779\n",
      "3448 158264 216.0 234.0 5.739170477266779 11.53695903281548\n",
      "3159 145962 216.0 234.0 11.53695903281548 17.457603123722084\n",
      "2374 89779 216.0 234.0 17.457603123722084 23.578178478201824\n",
      "1418 67628 216.0 234.0 23.578178478201824 29.999999999999993\n",
      "1739 79422 216.0 234.0 29.999999999999993 36.86989764584401\n",
      "3144 137946 216.0 234.0 36.86989764584401 44.427004000805695\n",
      "2683 156236 216.0 234.0 44.427004000805695 53.130102354155966\n",
      "2799 135593 216.0 234.0 53.130102354155966 64.15806723683285\n",
      "51 2515 216.0 234.0 64.15806723683285 89.99999879258174\n",
      "0 0 234.0 252.0 -90.0 -64.15806723683288\n",
      "0 0 234.0 252.0 -64.15806723683288 -53.13010235415599\n",
      "0 0 234.0 252.0 -53.13010235415599 -44.42700400080571\n",
      "0 0 234.0 252.0 -44.42700400080571 -36.86989764584403\n",
      "0 0 234.0 252.0 -36.86989764584403 -30.00000000000001\n",
      "0 0 234.0 252.0 -30.00000000000001 -23.578178478201842\n",
      "0 0 234.0 252.0 -23.578178478201842 -17.4576031237221\n",
      "0 0 234.0 252.0 -17.4576031237221 -11.536959032815496\n",
      "0 0 234.0 252.0 -11.536959032815496 -5.739170477266795\n",
      "87 6283 234.0 252.0 -5.739170477266795 -7.951386703658792e-15\n",
      "951 53397 234.0 252.0 -7.951386703658792e-15 5.739170477266779\n",
      "2385 105450 234.0 252.0 5.739170477266779 11.53695903281548\n",
      "2275 121743 234.0 252.0 11.53695903281548 17.457603123722084\n",
      "1488 76170 234.0 252.0 17.457603123722084 23.578178478201824\n",
      "2217 109995 234.0 252.0 23.578178478201824 29.999999999999993\n",
      "3076 157989 234.0 252.0 29.999999999999993 36.86989764584401\n",
      "2922 159063 234.0 252.0 36.86989764584401 44.427004000805695\n",
      "3109 150861 234.0 252.0 44.427004000805695 53.130102354155966\n",
      "1962 89096 234.0 252.0 53.130102354155966 64.15806723683285\n",
      "0 0 234.0 252.0 64.15806723683285 89.99999879258174\n",
      "0 0 252.0 270.0 -90.0 -64.15806723683288\n",
      "0 0 252.0 270.0 -64.15806723683288 -53.13010235415599\n",
      "0 0 252.0 270.0 -53.13010235415599 -44.42700400080571\n",
      "0 0 252.0 270.0 -44.42700400080571 -36.86989764584403\n",
      "0 0 252.0 270.0 -36.86989764584403 -30.00000000000001\n",
      "0 0 252.0 270.0 -30.00000000000001 -23.578178478201842\n",
      "0 0 252.0 270.0 -23.578178478201842 -17.4576031237221\n",
      "0 0 252.0 270.0 -17.4576031237221 -11.536959032815496\n",
      "0 0 252.0 270.0 -11.536959032815496 -5.739170477266795\n",
      "0 0 252.0 270.0 -5.739170477266795 -7.951386703658792e-15\n",
      "0 0 252.0 270.0 -7.951386703658792e-15 5.739170477266779\n",
      "0 0 252.0 270.0 5.739170477266779 11.53695903281548\n",
      "71 2851 252.0 270.0 11.53695903281548 17.457603123722084\n",
      "857 43482 252.0 270.0 17.457603123722084 23.578178478201824\n",
      "1825 87881 252.0 270.0 23.578178478201824 29.999999999999993\n",
      "1900 92137 252.0 270.0 29.999999999999993 36.86989764584401\n",
      "1435 65411 252.0 270.0 36.86989764584401 44.427004000805695\n",
      "576 27714 252.0 270.0 44.427004000805695 53.130102354155966\n",
      "0 0 252.0 270.0 53.130102354155966 64.15806723683285\n",
      "0 0 252.0 270.0 64.15806723683285 89.99999879258174\n",
      "0 0 270.0 288.0 -90.0 -64.15806723683288\n",
      "0 0 270.0 288.0 -64.15806723683288 -53.13010235415599\n",
      "0 0 270.0 288.0 -53.13010235415599 -44.42700400080571\n",
      "0 0 270.0 288.0 -44.42700400080571 -36.86989764584403\n",
      "0 0 270.0 288.0 -36.86989764584403 -30.00000000000001\n",
      "0 0 270.0 288.0 -30.00000000000001 -23.578178478201842\n",
      "0 0 270.0 288.0 -23.578178478201842 -17.4576031237221\n",
      "0 0 270.0 288.0 -17.4576031237221 -11.536959032815496\n",
      "0 0 270.0 288.0 -11.536959032815496 -5.739170477266795\n",
      "0 0 270.0 288.0 -5.739170477266795 -7.951386703658792e-15\n",
      "0 0 270.0 288.0 -7.951386703658792e-15 5.739170477266779\n",
      "0 0 270.0 288.0 5.739170477266779 11.53695903281548\n",
      "0 0 270.0 288.0 11.53695903281548 17.457603123722084\n",
      "0 0 270.0 288.0 17.457603123722084 23.578178478201824\n",
      "0 0 270.0 288.0 23.578178478201824 29.999999999999993\n",
      "0 0 270.0 288.0 29.999999999999993 36.86989764584401\n",
      "0 0 270.0 288.0 36.86989764584401 44.427004000805695\n",
      "0 0 270.0 288.0 44.427004000805695 53.130102354155966\n",
      "0 0 270.0 288.0 53.130102354155966 64.15806723683285\n",
      "0 0 270.0 288.0 64.15806723683285 89.99999879258174\n",
      "0 0 288.0 306.0 -90.0 -64.15806723683288\n",
      "0 0 288.0 306.0 -64.15806723683288 -53.13010235415599\n",
      "0 0 288.0 306.0 -53.13010235415599 -44.42700400080571\n",
      "0 0 288.0 306.0 -44.42700400080571 -36.86989764584403\n",
      "0 0 288.0 306.0 -36.86989764584403 -30.00000000000001\n",
      "0 0 288.0 306.0 -30.00000000000001 -23.578178478201842\n",
      "0 0 288.0 306.0 -23.578178478201842 -17.4576031237221\n",
      "0 0 288.0 306.0 -17.4576031237221 -11.536959032815496\n",
      "0 0 288.0 306.0 -11.536959032815496 -5.739170477266795\n",
      "0 0 288.0 306.0 -5.739170477266795 -7.951386703658792e-15\n",
      "0 0 288.0 306.0 -7.951386703658792e-15 5.739170477266779\n",
      "0 0 288.0 306.0 5.739170477266779 11.53695903281548\n",
      "0 0 288.0 306.0 11.53695903281548 17.457603123722084\n",
      "0 0 288.0 306.0 17.457603123722084 23.578178478201824\n",
      "0 0 288.0 306.0 23.578178478201824 29.999999999999993\n",
      "0 0 288.0 306.0 29.999999999999993 36.86989764584401\n",
      "0 0 288.0 306.0 36.86989764584401 44.427004000805695\n",
      "0 0 288.0 306.0 44.427004000805695 53.130102354155966\n",
      "0 0 288.0 306.0 53.130102354155966 64.15806723683285\n",
      "0 0 288.0 306.0 64.15806723683285 89.99999879258174\n",
      "0 0 306.0 324.0 -90.0 -64.15806723683288\n",
      "0 0 306.0 324.0 -64.15806723683288 -53.13010235415599\n",
      "0 0 306.0 324.0 -53.13010235415599 -44.42700400080571\n",
      "0 0 306.0 324.0 -44.42700400080571 -36.86989764584403\n",
      "0 0 306.0 324.0 -36.86989764584403 -30.00000000000001\n",
      "0 0 306.0 324.0 -30.00000000000001 -23.578178478201842\n",
      "0 0 306.0 324.0 -23.578178478201842 -17.4576031237221\n",
      "0 0 306.0 324.0 -17.4576031237221 -11.536959032815496\n",
      "0 0 306.0 324.0 -11.536959032815496 -5.739170477266795\n",
      "761 39056 306.0 324.0 -5.739170477266795 -7.951386703658792e-15\n",
      "1079 62300 306.0 324.0 -7.951386703658792e-15 5.739170477266779\n",
      "772 45623 306.0 324.0 5.739170477266779 11.53695903281548\n",
      "0 0 306.0 324.0 11.53695903281548 17.457603123722084\n",
      "0 0 306.0 324.0 17.457603123722084 23.578178478201824\n",
      "0 0 306.0 324.0 23.578178478201824 29.999999999999993\n",
      "0 0 306.0 324.0 29.999999999999993 36.86989764584401\n",
      "0 0 306.0 324.0 36.86989764584401 44.427004000805695\n",
      "0 0 306.0 324.0 44.427004000805695 53.130102354155966\n",
      "0 0 306.0 324.0 53.130102354155966 64.15806723683285\n",
      "0 0 306.0 324.0 64.15806723683285 89.99999879258174\n",
      "0 0 324.0 342.0 -90.0 -64.15806723683288\n",
      "0 0 324.0 342.0 -64.15806723683288 -53.13010235415599\n",
      "0 0 324.0 342.0 -53.13010235415599 -44.42700400080571\n",
      "0 0 324.0 342.0 -44.42700400080571 -36.86989764584403\n",
      "0 0 324.0 342.0 -36.86989764584403 -30.00000000000001\n",
      "0 0 324.0 342.0 -30.00000000000001 -23.578178478201842\n",
      "0 0 324.0 342.0 -23.578178478201842 -17.4576031237221\n",
      "0 0 324.0 342.0 -17.4576031237221 -11.536959032815496\n",
      "0 0 324.0 342.0 -11.536959032815496 -5.739170477266795\n",
      "1904 92901 324.0 342.0 -5.739170477266795 -7.951386703658792e-15\n",
      "3551 165540 324.0 342.0 -7.951386703658792e-15 5.739170477266779\n",
      "3074 158009 324.0 342.0 5.739170477266779 11.53695903281548\n",
      "2240 122838 324.0 342.0 11.53695903281548 17.457603123722084\n",
      "2336 136842 324.0 342.0 17.457603123722084 23.578178478201824\n",
      "2403 137741 324.0 342.0 23.578178478201824 29.999999999999993\n",
      "662 42431 324.0 342.0 29.999999999999993 36.86989764584401\n",
      "0 0 324.0 342.0 36.86989764584401 44.427004000805695\n",
      "0 0 324.0 342.0 44.427004000805695 53.130102354155966\n",
      "0 0 324.0 342.0 53.130102354155966 64.15806723683285\n",
      "0 0 324.0 342.0 64.15806723683285 89.99999879258174\n",
      "0 0 342.0 360.0 -90.0 -64.15806723683288\n",
      "0 0 342.0 360.0 -64.15806723683288 -53.13010235415599\n",
      "0 0 342.0 360.0 -53.13010235415599 -44.42700400080571\n",
      "0 0 342.0 360.0 -44.42700400080571 -36.86989764584403\n",
      "0 0 342.0 360.0 -36.86989764584403 -30.00000000000001\n",
      "0 0 342.0 360.0 -30.00000000000001 -23.578178478201842\n",
      "0 0 342.0 360.0 -23.578178478201842 -17.4576031237221\n",
      "0 0 342.0 360.0 -17.4576031237221 -11.536959032815496\n",
      "449 24300 342.0 360.0 -11.536959032815496 -5.739170477266795\n",
      "2431 115434 342.0 360.0 -5.739170477266795 -7.951386703658792e-15\n",
      "3550 161917 342.0 360.0 -7.951386703658792e-15 5.739170477266779\n",
      "3860 157343 342.0 360.0 5.739170477266779 11.53695903281548\n",
      "3537 153762 342.0 360.0 11.53695903281548 17.457603123722084\n",
      "2697 129641 342.0 360.0 17.457603123722084 23.578178478201824\n",
      "3118 146472 342.0 360.0 23.578178478201824 29.999999999999993\n",
      "2228 110415 342.0 360.0 29.999999999999993 36.86989764584401\n",
      "0 0 342.0 360.0 36.86989764584401 44.427004000805695\n",
      "0 0 342.0 360.0 44.427004000805695 53.130102354155966\n",
      "0 0 342.0 360.0 53.130102354155966 64.15806723683285\n",
      "0 0 342.0 360.0 64.15806723683285 89.99999879258174\n",
      "Number of blocks:  127\n",
      "1 / 127\n",
      "2 / 127\n"
     ]
    },
    {
     "ename": "TypeError",
     "evalue": "'NoneType' object is not iterable",
     "output_type": "error",
     "traceback": [
      "\u001b[0;31m---------------------------------------------------------------------------\u001b[0m",
      "\u001b[0;31mTypeError\u001b[0m                                 Traceback (most recent call last)",
      "\u001b[0;32m<ipython-input-7-2b980d355bbd>\u001b[0m in \u001b[0;36m<module>\u001b[0;34m()\u001b[0m\n\u001b[1;32m      5\u001b[0m \u001b[0;31m#LRGrp,LRGwp_p,LRGwp_p_err,LRGcov = w.auto_wp(LRG, LRGr, bins, pimax, m=20, estimator='L')\u001b[0m\u001b[0;34m\u001b[0m\u001b[0;34m\u001b[0m\u001b[0m\n\u001b[1;32m      6\u001b[0m \u001b[0;31m#LRGwp_p_noerr = wp_dd(LRG, LRGr, bins, pimax, estimator='L')\u001b[0m\u001b[0;34m\u001b[0m\u001b[0;34m\u001b[0m\u001b[0m\n\u001b[0;32m----> 7\u001b[0;31m \u001b[0mrpjack\u001b[0m\u001b[0;34m,\u001b[0m\u001b[0mwp_p_jack\u001b[0m\u001b[0;34m,\u001b[0m\u001b[0mwp_p_err_jack\u001b[0m\u001b[0;34m,\u001b[0m\u001b[0mcov_jack\u001b[0m\u001b[0;34m,\u001b[0m\u001b[0mwp_arr_jack\u001b[0m \u001b[0;34m=\u001b[0m \u001b[0mw\u001b[0m\u001b[0;34m.\u001b[0m\u001b[0mauto_wp\u001b[0m\u001b[0;34m(\u001b[0m\u001b[0mLRG\u001b[0m\u001b[0;34m,\u001b[0m \u001b[0mLRGr\u001b[0m\u001b[0;34m,\u001b[0m \u001b[0mbins\u001b[0m\u001b[0;34m,\u001b[0m \u001b[0mpimax\u001b[0m\u001b[0;34m,\u001b[0m \u001b[0mm\u001b[0m\u001b[0;34m=\u001b[0m\u001b[0;36m20\u001b[0m\u001b[0;34m,\u001b[0m \u001b[0mestimator\u001b[0m\u001b[0;34m=\u001b[0m\u001b[0;34m'P'\u001b[0m\u001b[0;34m,\u001b[0m\u001b[0merrtype\u001b[0m\u001b[0;34m=\u001b[0m\u001b[0;34m'j'\u001b[0m\u001b[0;34m)\u001b[0m\u001b[0;34m\u001b[0m\u001b[0m\n\u001b[0m\u001b[1;32m      8\u001b[0m \u001b[0mrpboot\u001b[0m\u001b[0;34m,\u001b[0m\u001b[0mwp_p\u001b[0m\u001b[0;34m,\u001b[0m\u001b[0mwp_p_err_boot\u001b[0m\u001b[0;34m,\u001b[0m\u001b[0mcov_boot\u001b[0m\u001b[0;34m,\u001b[0m\u001b[0mwp_arr_boot\u001b[0m \u001b[0;34m=\u001b[0m \u001b[0mw\u001b[0m\u001b[0;34m.\u001b[0m\u001b[0mauto_wp\u001b[0m\u001b[0;34m(\u001b[0m\u001b[0mLRG\u001b[0m\u001b[0;34m,\u001b[0m \u001b[0mLRGr\u001b[0m\u001b[0;34m,\u001b[0m \u001b[0mbins\u001b[0m\u001b[0;34m,\u001b[0m \u001b[0mpimax\u001b[0m\u001b[0;34m,\u001b[0m \u001b[0mm\u001b[0m\u001b[0;34m=\u001b[0m\u001b[0;36m100\u001b[0m\u001b[0;34m,\u001b[0m \u001b[0mestimator\u001b[0m\u001b[0;34m=\u001b[0m\u001b[0;34m'P'\u001b[0m\u001b[0;34m,\u001b[0m\u001b[0merrtype\u001b[0m\u001b[0;34m=\u001b[0m\u001b[0;34m'b'\u001b[0m\u001b[0;34m)\u001b[0m\u001b[0;34m\u001b[0m\u001b[0m\n\u001b[1;32m      9\u001b[0m \u001b[0mprint\u001b[0m\u001b[0;34m(\u001b[0m\u001b[0mstrftime\u001b[0m\u001b[0;34m(\u001b[0m\u001b[0;34m\"%Y-%m-%d %H:%M:%S\"\u001b[0m\u001b[0;34m,\u001b[0m \u001b[0mgmtime\u001b[0m\u001b[0;34m(\u001b[0m\u001b[0;34m)\u001b[0m\u001b[0;34m)\u001b[0m\u001b[0;34m)\u001b[0m\u001b[0;34m\u001b[0m\u001b[0m\n",
      "\u001b[0;32m/Users/ccardamone/Documents/research/papercalc/newpeas/clustcode/clustering/projected_correlation_functions.py\u001b[0m in \u001b[0;36mauto_wp\u001b[0;34m(data, randoms, bins, pimax, m, estimator, errtype)\u001b[0m\n\u001b[1;32m     28\u001b[0m                 \u001b[0mwp_err\u001b[0m\u001b[0;34m,\u001b[0m\u001b[0mcov\u001b[0m\u001b[0;34m,\u001b[0m\u001b[0mwp_arr\u001b[0m\u001b[0;34m=\u001b[0m\u001b[0mauto_bootstrap\u001b[0m\u001b[0;34m(\u001b[0m\u001b[0md\u001b[0m\u001b[0;34m=\u001b[0m\u001b[0mdata\u001b[0m\u001b[0;34m,\u001b[0m\u001b[0mr\u001b[0m\u001b[0;34m=\u001b[0m\u001b[0mrandoms\u001b[0m\u001b[0;34m,\u001b[0m\u001b[0mm\u001b[0m\u001b[0;34m=\u001b[0m\u001b[0mm\u001b[0m\u001b[0;34m,\u001b[0m\u001b[0mpimax\u001b[0m\u001b[0;34m=\u001b[0m\u001b[0mpimax\u001b[0m\u001b[0;34m,\u001b[0m\u001b[0mbins\u001b[0m\u001b[0;34m=\u001b[0m\u001b[0mbins\u001b[0m\u001b[0;34m,\u001b[0m\u001b[0mestimator\u001b[0m\u001b[0;34m=\u001b[0m\u001b[0mestimator\u001b[0m\u001b[0;34m)\u001b[0m\u001b[0;34m\u001b[0m\u001b[0m\n\u001b[1;32m     29\u001b[0m         \u001b[0;32mif\u001b[0m \u001b[0merrtype\u001b[0m\u001b[0;34m==\u001b[0m\u001b[0;34m'j'\u001b[0m\u001b[0;34m:\u001b[0m\u001b[0;34m\u001b[0m\u001b[0m\n\u001b[0;32m---> 30\u001b[0;31m                 \u001b[0mwp_err\u001b[0m\u001b[0;34m,\u001b[0m\u001b[0mcov\u001b[0m\u001b[0;34m=\u001b[0m\u001b[0mauto_jackknife\u001b[0m\u001b[0;34m(\u001b[0m\u001b[0md\u001b[0m\u001b[0;34m=\u001b[0m\u001b[0mdata\u001b[0m\u001b[0;34m,\u001b[0m\u001b[0mr\u001b[0m\u001b[0;34m=\u001b[0m\u001b[0mrandoms\u001b[0m\u001b[0;34m,\u001b[0m\u001b[0mm\u001b[0m\u001b[0;34m=\u001b[0m\u001b[0mm\u001b[0m\u001b[0;34m,\u001b[0m\u001b[0mpimax\u001b[0m\u001b[0;34m=\u001b[0m\u001b[0mpimax\u001b[0m\u001b[0;34m,\u001b[0m\u001b[0mbins\u001b[0m\u001b[0;34m=\u001b[0m\u001b[0mbins\u001b[0m\u001b[0;34m,\u001b[0m\u001b[0mestimator\u001b[0m\u001b[0;34m=\u001b[0m\u001b[0mestimator\u001b[0m\u001b[0;34m)\u001b[0m\u001b[0;34m\u001b[0m\u001b[0m\n\u001b[0m\u001b[1;32m     31\u001b[0m \u001b[0;34m\u001b[0m\u001b[0m\n\u001b[1;32m     32\u001b[0m         \u001b[0;32mreturn\u001b[0m \u001b[0mrp\u001b[0m\u001b[0;34m,\u001b[0m\u001b[0mwp\u001b[0m\u001b[0;34m,\u001b[0m\u001b[0mwp_err\u001b[0m\u001b[0;34m,\u001b[0m\u001b[0mcov\u001b[0m\u001b[0;34m,\u001b[0m\u001b[0mwp_arr\u001b[0m\u001b[0;34m\u001b[0m\u001b[0m\n",
      "\u001b[0;32m/Users/ccardamone/Documents/research/papercalc/newpeas/clustcode/clustering/error.py\u001b[0m in \u001b[0;36mauto_jackknife\u001b[0;34m(d, r, m, pimax, bins, estimator, covariance)\u001b[0m\n\u001b[1;32m     72\u001b[0m                 \u001b[0mdset\u001b[0m \u001b[0;34m=\u001b[0m \u001b[0mnp\u001b[0m\u001b[0;34m.\u001b[0m\u001b[0mconcatenate\u001b[0m\u001b[0;34m(\u001b[0m\u001b[0mnew_dblocks\u001b[0m\u001b[0;34m)\u001b[0m\u001b[0;34m\u001b[0m\u001b[0m\n\u001b[1;32m     73\u001b[0m                 \u001b[0mrset\u001b[0m \u001b[0;34m=\u001b[0m \u001b[0mnp\u001b[0m\u001b[0;34m.\u001b[0m\u001b[0mconcatenate\u001b[0m\u001b[0;34m(\u001b[0m\u001b[0mnew_rblocks\u001b[0m\u001b[0;34m)\u001b[0m\u001b[0;34m\u001b[0m\u001b[0m\n\u001b[0;32m---> 74\u001b[0;31m                 \u001b[0mwp_t\u001b[0m \u001b[0;34m=\u001b[0m \u001b[0mwp_dd\u001b[0m\u001b[0;34m(\u001b[0m\u001b[0mdata\u001b[0m\u001b[0;34m=\u001b[0m\u001b[0mdset\u001b[0m\u001b[0;34m,\u001b[0m\u001b[0mrandoms\u001b[0m\u001b[0;34m=\u001b[0m\u001b[0mrset\u001b[0m\u001b[0;34m,\u001b[0m\u001b[0mpimax\u001b[0m\u001b[0;34m=\u001b[0m\u001b[0mpimax\u001b[0m\u001b[0;34m,\u001b[0m\u001b[0mbins\u001b[0m\u001b[0;34m=\u001b[0m\u001b[0mbins\u001b[0m\u001b[0;34m,\u001b[0m\u001b[0mestimator\u001b[0m\u001b[0;34m=\u001b[0m\u001b[0mestimator\u001b[0m\u001b[0;34m)\u001b[0m\u001b[0;34m\u001b[0m\u001b[0m\n\u001b[0m\u001b[1;32m     75\u001b[0m                 \u001b[0mwp_arr\u001b[0m\u001b[0;34m=\u001b[0m\u001b[0mnp\u001b[0m\u001b[0;34m.\u001b[0m\u001b[0mvstack\u001b[0m\u001b[0;34m(\u001b[0m\u001b[0;34m(\u001b[0m\u001b[0mwp_arr\u001b[0m\u001b[0;34m,\u001b[0m\u001b[0mwp_t\u001b[0m\u001b[0;34m)\u001b[0m\u001b[0;34m)\u001b[0m\u001b[0;34m\u001b[0m\u001b[0m\n\u001b[1;32m     76\u001b[0m         \u001b[0mwp_arr\u001b[0m\u001b[0;34m=\u001b[0m\u001b[0mwp_arr\u001b[0m\u001b[0;34m[\u001b[0m\u001b[0;36m1\u001b[0m\u001b[0;34m:\u001b[0m\u001b[0;34m]\u001b[0m\u001b[0;34m\u001b[0m\u001b[0m\n",
      "\u001b[0;32m/Users/ccardamone/Documents/research/papercalc/newpeas/clustcode/clustering/utils.py\u001b[0m in \u001b[0;36mwp_dd\u001b[0;34m(data, randoms, bins, pimax, estimator)\u001b[0m\n\u001b[1;32m    155\u001b[0m         \u001b[0mdd\u001b[0m \u001b[0;34m=\u001b[0m \u001b[0mpair_count\u001b[0m\u001b[0;34m(\u001b[0m\u001b[0mbins\u001b[0m\u001b[0;34m,\u001b[0m\u001b[0mpimax\u001b[0m\u001b[0;34m,\u001b[0m\u001b[0mdata\u001b[0m\u001b[0;34m[\u001b[0m\u001b[0;34m'ra'\u001b[0m\u001b[0;34m]\u001b[0m\u001b[0;34m,\u001b[0m\u001b[0mdata\u001b[0m\u001b[0;34m[\u001b[0m\u001b[0;34m'dec'\u001b[0m\u001b[0;34m]\u001b[0m\u001b[0;34m,\u001b[0m\u001b[0mdata\u001b[0m\u001b[0;34m[\u001b[0m\u001b[0;34m'cdist'\u001b[0m\u001b[0;34m]\u001b[0m\u001b[0;34m,\u001b[0m\u001b[0mra2\u001b[0m\u001b[0;34m=\u001b[0m\u001b[0;32mNone\u001b[0m\u001b[0;34m,\u001b[0m\u001b[0mdec2\u001b[0m\u001b[0;34m=\u001b[0m\u001b[0;32mNone\u001b[0m\u001b[0;34m,\u001b[0m\u001b[0mcd2\u001b[0m\u001b[0;34m=\u001b[0m\u001b[0;32mNone\u001b[0m\u001b[0;34m)\u001b[0m\u001b[0;34m\u001b[0m\u001b[0m\n\u001b[1;32m    156\u001b[0m         \u001b[0mdr\u001b[0m \u001b[0;34m=\u001b[0m \u001b[0mpair_count\u001b[0m\u001b[0;34m(\u001b[0m\u001b[0mbins\u001b[0m\u001b[0;34m,\u001b[0m\u001b[0mpimax\u001b[0m\u001b[0;34m,\u001b[0m\u001b[0mdata\u001b[0m\u001b[0;34m[\u001b[0m\u001b[0;34m'ra'\u001b[0m\u001b[0;34m]\u001b[0m\u001b[0;34m,\u001b[0m\u001b[0mdata\u001b[0m\u001b[0;34m[\u001b[0m\u001b[0;34m'dec'\u001b[0m\u001b[0;34m]\u001b[0m\u001b[0;34m,\u001b[0m\u001b[0mdata\u001b[0m\u001b[0;34m[\u001b[0m\u001b[0;34m'cdist'\u001b[0m\u001b[0;34m]\u001b[0m\u001b[0;34m,\u001b[0m\u001b[0mra2\u001b[0m\u001b[0;34m=\u001b[0m\u001b[0mrandoms\u001b[0m\u001b[0;34m[\u001b[0m\u001b[0;34m'ra'\u001b[0m\u001b[0;34m]\u001b[0m\u001b[0;34m,\u001b[0m\u001b[0mdec2\u001b[0m\u001b[0;34m=\u001b[0m\u001b[0mrandoms\u001b[0m\u001b[0;34m[\u001b[0m\u001b[0;34m'dec'\u001b[0m\u001b[0;34m]\u001b[0m\u001b[0;34m,\u001b[0m\u001b[0mcd2\u001b[0m\u001b[0;34m=\u001b[0m\u001b[0mrandoms\u001b[0m\u001b[0;34m[\u001b[0m\u001b[0;34m'cdist'\u001b[0m\u001b[0;34m]\u001b[0m\u001b[0;34m)\u001b[0m\u001b[0;34m\u001b[0m\u001b[0m\n\u001b[0;32m--> 157\u001b[0;31m         \u001b[0mrr\u001b[0m \u001b[0;34m=\u001b[0m \u001b[0mpair_count\u001b[0m\u001b[0;34m(\u001b[0m\u001b[0mbins\u001b[0m\u001b[0;34m,\u001b[0m\u001b[0mpimax\u001b[0m\u001b[0;34m,\u001b[0m\u001b[0mrandoms\u001b[0m\u001b[0;34m[\u001b[0m\u001b[0;34m'ra'\u001b[0m\u001b[0;34m]\u001b[0m\u001b[0;34m,\u001b[0m\u001b[0mrandoms\u001b[0m\u001b[0;34m[\u001b[0m\u001b[0;34m'dec'\u001b[0m\u001b[0;34m]\u001b[0m\u001b[0;34m,\u001b[0m\u001b[0mrandoms\u001b[0m\u001b[0;34m[\u001b[0m\u001b[0;34m'cdist'\u001b[0m\u001b[0;34m]\u001b[0m\u001b[0;34m,\u001b[0m\u001b[0mra2\u001b[0m\u001b[0;34m=\u001b[0m\u001b[0;32mNone\u001b[0m\u001b[0;34m,\u001b[0m\u001b[0mdec2\u001b[0m\u001b[0;34m=\u001b[0m\u001b[0;32mNone\u001b[0m\u001b[0;34m,\u001b[0m\u001b[0mcd2\u001b[0m\u001b[0;34m=\u001b[0m\u001b[0;32mNone\u001b[0m\u001b[0;34m)\u001b[0m\u001b[0;34m\u001b[0m\u001b[0m\n\u001b[0m\u001b[1;32m    158\u001b[0m \u001b[0;34m\u001b[0m\u001b[0m\n\u001b[1;32m    159\u001b[0m         \u001b[0mnd\u001b[0m \u001b[0;34m=\u001b[0m \u001b[0mlen\u001b[0m\u001b[0;34m(\u001b[0m\u001b[0mdata\u001b[0m\u001b[0;34m)\u001b[0m\u001b[0;34m\u001b[0m\u001b[0m\n",
      "\u001b[0;32m/Users/ccardamone/Documents/research/papercalc/newpeas/clustcode/clustering/utils.py\u001b[0m in \u001b[0;36mpair_count\u001b[0;34m(rpbins, pimax, ra1, dec1, cd1, ra2, dec2, cd2, nthreads)\u001b[0m\n\u001b[1;32m     22\u001b[0m         \u001b[0;32mif\u001b[0m \u001b[0mra2\u001b[0m \u001b[0;32mis\u001b[0m \u001b[0;32mNone\u001b[0m\u001b[0;34m:\u001b[0m\u001b[0;34m\u001b[0m\u001b[0m\n\u001b[1;32m     23\u001b[0m \t\tnn = DDrppi_mocks(autocorr=1, cosmology=1, nthreads=nthreads, pimax=pimax, binfile=rpbins, RA1=d1ra, DEC1=d1dec,\\\n\u001b[0;32m---> 24\u001b[0;31m \t\t\t\t\t\t  CZ1=d1cd, is_comoving_dist=True, output_rpavg=True, verbose=True)\n\u001b[0m\u001b[1;32m     25\u001b[0m \u001b[0;34m\u001b[0m\u001b[0m\n\u001b[1;32m     26\u001b[0m         \u001b[0;32melse\u001b[0m\u001b[0;34m:\u001b[0m\u001b[0;34m\u001b[0m\u001b[0m\n",
      "\u001b[0;32m/Users/ccardamone/anaconda/lib/python3.5/site-packages/Corrfunc/mocks/DDrppi_mocks.py\u001b[0m in \u001b[0;36mDDrppi_mocks\u001b[0;34m(autocorr, cosmology, nthreads, pimax, binfile, RA1, DEC1, CZ1, weights1, RA2, DEC2, CZ2, weights2, is_comoving_dist, verbose, output_rpavg, fast_divide, xbin_refine_factor, ybin_refine_factor, zbin_refine_factor, max_cells_per_dim, c_api_timer, isa, weight_type)\u001b[0m\n\u001b[1;32m    360\u001b[0m                                          \u001b[0mmax_cells_per_dim\u001b[0m\u001b[0;34m=\u001b[0m\u001b[0mmax_cells_per_dim\u001b[0m\u001b[0;34m,\u001b[0m\u001b[0;34m\u001b[0m\u001b[0m\n\u001b[1;32m    361\u001b[0m                                          \u001b[0mc_api_timer\u001b[0m\u001b[0;34m=\u001b[0m\u001b[0mc_api_timer\u001b[0m\u001b[0;34m,\u001b[0m\u001b[0;34m\u001b[0m\u001b[0m\n\u001b[0;32m--> 362\u001b[0;31m                                          isa=integer_isa, **kwargs)\n\u001b[0m\u001b[1;32m    363\u001b[0m     \u001b[0;32mif\u001b[0m \u001b[0mextn_results\u001b[0m \u001b[0;32mis\u001b[0m \u001b[0;32mNone\u001b[0m\u001b[0;34m:\u001b[0m\u001b[0;34m\u001b[0m\u001b[0m\n\u001b[1;32m    364\u001b[0m         \u001b[0mmsg\u001b[0m \u001b[0;34m=\u001b[0m \u001b[0;34m\"RuntimeError occurred\"\u001b[0m\u001b[0;34m\u001b[0m\u001b[0m\n",
      "\u001b[0;31mTypeError\u001b[0m: 'NoneType' object is not iterable"
     ]
    }
   ],
   "source": [
    "print(strftime(\"%Y-%m-%d %H:%M:%S\", gmtime()))\n",
    "#First line would call program inside projected_correlation_functions.py, \n",
    "#   which then calls wp_dd AND auto_jackknife, which calls wp_dd inside error.py a series of times with data block missing\n",
    "#   this estimates the jackknife errors, and note rp is returned, where it is not in the second call\n",
    "#LRGrp,LRGwp_p,LRGwp_p_err,LRGcov = w.auto_wp(LRG, LRGr, bins, pimax, m=20, estimator='L')\n",
    "#LRGwp_p_noerr = wp_dd(LRG, LRGr, bins, pimax, estimator='L')\n",
    "rpjack,wp_p_jack,wp_p_err_jack,cov_jack,wp_arr_jack = w.auto_wp(LRG, LRGr, bins, pimax, m=20, estimator='P',errtype='j')\n",
    "rpboot,wp_p,wp_p_err_boot,cov_boot,wp_arr_boot = w.auto_wp(LRG, LRGr, bins, pimax, m=100, estimator='P',errtype='b')\n",
    "print(strftime(\"%Y-%m-%d %H:%M:%S\", gmtime()))"
   ]
  },
  {
   "cell_type": "code",
   "execution_count": 14,
   "metadata": {},
   "outputs": [],
   "source": [
    "rp=np.array([  0.14102821,   0.25675091,   0.46743152,   0.85098909,1.54928027,   2.8205642 ,   5.13501822,   9.34863035, 17.01978177,  30.98560543])"
   ]
  },
  {
   "cell_type": "code",
   "execution_count": null,
   "metadata": {},
   "outputs": [
    {
     "name": "stdout",
     "output_type": "stream",
     "text": [
      "2017-08-25 20:03:37\n"
     ]
    }
   ],
   "source": [
    "# 8/23/2017, running to match cross correlation functions\n",
    "pimax=60\n",
    "bins = np.array([1,3,6,8,10,15,20,30,40,50,60])\n",
    "print(strftime(\"%Y-%m-%d %H:%M:%S\", gmtime()))\n",
    "rp,wp_p,wp_p_err_boot,cov_boot,wp_arr_boot = w.auto_wp(LRG, LRGr, bins, pimax, m=100,estimator='P',errtype='b')\n",
    "\n",
    "print(strftime(\"%Y-%m-%d %H:%M:%S\", gmtime()))"
   ]
  },
  {
   "cell_type": "code",
   "execution_count": null,
   "metadata": {
    "collapsed": true
   },
   "outputs": [],
   "source": [
    "np.save('output/rp_LRGauto_pi60.npy',rp)\n",
    "np.save('output/wp_LRGauto_pi60.npy',wp_p)\n",
    "np.save('output/wp_LRGauto_err_pi60.npy',wp_p_err)\n"
   ]
  },
  {
   "cell_type": "code",
   "execution_count": null,
   "metadata": {
    "scrolled": true
   },
   "outputs": [],
   "source": [
    "plt.yscale(\"log\", nonposy='clip')\n",
    "plt.xscale(\"log\", nonposy='clip')\n",
    "plt.scatter(rp,LRGwp_p)\n",
    "#plt.legend(frameon=False)\n",
    "plt.xlabel('r$_{p}$',fontsize=16)\n",
    "plt.ylabel('w$_{p}$/$r_{p}$',fontsize=16)\n",
    "plt.title('LRG ACF')\n",
    "\n",
    "plt.savefig('../plots/AutoCorrFunctLRGs.pdf')"
   ]
  },
  {
   "cell_type": "code",
   "execution_count": 26,
   "metadata": {},
   "outputs": [
    {
     "data": {
      "text/plain": [
       "array([ 1026.17777937,   681.95715804,   379.20917454,   188.58986124,\n",
       "         104.93445936,    68.33945071,    42.54954507,    24.3757939 ,\n",
       "          12.65178423,     5.42466491])"
      ]
     },
     "execution_count": 26,
     "metadata": {},
     "output_type": "execute_result"
    }
   ],
   "source": [
    "LRGwp_p"
   ]
  },
  {
   "cell_type": "code",
   "execution_count": null,
   "metadata": {
    "collapsed": true
   },
   "outputs": [],
   "source": [
    "#Fit with a powerlaw to determine bias (using the autocorrelation of the LRGs)\n",
    "# Gamma is a function from cosmology package (gamma is slope and r0 is amplitude)\n",
    "##https://www.hindawi.com/journals/aa/2012/853701/\n",
    "from scipy.special import gamma\n",
    "def A(g):\n",
    "    return gamma(1/2)*gamma((g-1)/2)/gamma(g/2) \n",
    "#y is model powerlaw given rp & 2 parameters of fit\n",
    "def y(r,r0,g):\n",
    "    return A(g)*(r0**g)*(r**(1.-g))\n"
   ]
  },
  {
   "cell_type": "code",
   "execution_count": null,
   "metadata": {
    "collapsed": true
   },
   "outputs": [],
   "source": [
    "## Now fit an actual curve to the data rp2 & wp two halo data\n",
    "#sigerr=wp_p_err\n",
    "##p0 is guesses\n",
    "\n",
    "from scipy.optimize import curve_fit\n",
    "plawfit=curve_fit(y,rp,wp_p,p0=[2,2])\n",
    "r0=plawfit[0][0]\n",
    "gam=plawfit[0][1]\n",
    "\n",
    "# plug powerlaw fit and darkmatter sigma 8 value, find bias\n",
    "def J(g):\n",
    "    return 72/((3 - g)*(4 - g)*(6 - gam)*2*g)\n",
    "sig_agn = np.sqrt(J(gam)*(r0/8)**gam)\n",
    "sig_dm = (0.8)\n",
    "bias = sig_agn/sig_dm"
   ]
  },
  {
   "cell_type": "code",
   "execution_count": null,
   "metadata": {
    "collapsed": true
   },
   "outputs": [],
   "source": [
    "plt.yscale(\"log\", nonposy='clip')\n",
    "plt.xscale(\"log\", nonposy='clip')\n",
    "yf_arr=[]\n",
    "for r in rp2:\n",
    "    yf_arr.append(y(r,r0,gam))\n",
    "plt.errorbar(rp,wp_p,yerr=wp_p_err,fmt='.',color='k')\n",
    "plt.plot(rp2,yf_arr,color='k')"
   ]
  },
  {
   "cell_type": "code",
   "execution_count": 1,
   "metadata": {},
   "outputs": [
    {
     "ename": "IndentationError",
     "evalue": "unexpected indent (<ipython-input-1-3df1c5eb51ad>, line 12)",
     "output_type": "error",
     "traceback": [
      "\u001b[0;36m  File \u001b[0;32m\"<ipython-input-1-3df1c5eb51ad>\"\u001b[0;36m, line \u001b[0;32m12\u001b[0m\n\u001b[0;31m    estimator='P',errtype='j')\u001b[0m\n\u001b[0m    ^\u001b[0m\n\u001b[0;31mIndentationError\u001b[0m\u001b[0;31m:\u001b[0m unexpected indent\n"
     ]
    }
   ],
   "source": [
    "#Ran the full matrix with Jackknife error, should take ~10 hours or so.\n",
    "#LRGrp,LRGwp_p,LRGwp_p_err,LRGcov = w.auto_wp(LRG, LRGr, bins, pimax, m=20, estimator='L')\n",
    "print(strftime(\"%Y-%m-%d %H:%M:%S\", gmtime()))\n",
    "#LRGrp,LRGwp_p,LRGwp_p_err,LRGcov = w.auto_wp(LRG, LRGr, bins, pimax, m=20, estimator='L')\n",
    "#LRGwp_p = wp_dd(LRG, LRGr, bins, pimax, estimator='L')\n",
    "#LRGrp,LRGwp,LRGwp_err,Mag = w.cross_wp(d1=peas, d2=LRG, r1=rzpea, r2=LRGr, bins=bins, pimax=pimax,m=5, estimator='L')\n",
    "#LRGwp_p_noerrP = wp_dd(LRG, LRGr, bins, pimax, estimator='P')\n",
    "#LRGwp_p_noerrL = wp_dd(LRG, LRGr, bins, pimax, estimator='L')\n",
    "#LRGrp,LRGwp_p,LRGwp_err,cov = w.auto_wp(LRG, LRGr, bins, pimax, m=5, estimator='P')\n",
    "\n",
    "#rp_LRGjack,wp_p_LRGjack,wp_p_err_LRGjack,cov_LRGjack,wp_arr_LRGjack = w.auto_wp(LRG, LRGr, bins, pimax, m=5, \n",
    "#                                                                 estimator='P',errtype='j')\n",
    "#rp_LRGboot,wp_p_LRGboot,wp_p_err_LRGboot,cov_LRGboot,wp_arr_LRGboot = w.auto_wp(LRG, LRGr, bins, pimax, m=100, \n",
    "#                                                                 estimator='P',errtype='b')\n",
    "print(strftime(\"%Y-%m-%d %H:%M:%S\", gmtime()))"
   ]
  },
  {
   "cell_type": "markdown",
   "metadata": {},
   "source": [
    "## Read in saved runs of LRG autocorrelation"
   ]
  },
  {
   "cell_type": "code",
   "execution_count": 4,
   "metadata": {},
   "outputs": [],
   "source": [
    "#np.save('wp_arr_LRGboot.npy', wp_arr_LRGboot)\n",
    "#np.save('rp_LRGboot',rp_LRGboot)\n",
    "#np.save('wp_p_LRGboot', wp_p_LRGboot)\n",
    "#np.save('wp_p_err_LRGboot',wp_p_err_LRGboot)\n",
    "#np.save('cov_LRGboot',cov_LRGboot)\n",
    "rp_LRGboot=np.load('output/rp_LRGboot.npy')\n",
    "wp_p_LRGboot=np.load('output/wp_p_LRGboot.npy')\n",
    "wp_p_err_LRGboot=np.load('output/wp_p_err_LRGboot.npy')\n",
    "cov_LRGboot=np.load('output/cov_LRGboot.npy')\n",
    "wp_arr_LRGboot=np.load('output/wp_arr_LRGboot.npy')\n",
    "\n",
    "rp_LRGjack=np.load('output/rp_LRGjack.npy')\n",
    "wp_p_LRGjack=np.load('output/wp_p_LRGjack.npy')\n",
    "wp_p_err_LRGjack=np.load('output/wp_p_err_LRGjack.npy')\n",
    "cov_LRGjack=np.load('output/cov_LRGjack.npy')\n",
    "wp_arr_LRGjack=np.load('output/wp_arr_LRGjack.npy')\n"
   ]
  },
  {
   "cell_type": "code",
   "execution_count": 5,
   "metadata": {},
   "outputs": [
    {
     "data": {
      "text/plain": [
       "array([  0.14102821,   0.25675091,   0.46743152,   0.85098909,\n",
       "         1.54928027,   2.8205642 ,   5.13501822,   9.34863035,\n",
       "        17.01978177,  30.98560543])"
      ]
     },
     "execution_count": 5,
     "metadata": {},
     "output_type": "execute_result"
    }
   ],
   "source": [
    "rp_LRGjack\n",
    "\n"
   ]
  },
  {
   "cell_type": "code",
   "execution_count": 16,
   "metadata": {},
   "outputs": [
    {
     "data": {
      "image/png": "[encoded data removed]",
      "text/plain": [
       "<matplotlib.figure.Figure at 0x115009e80>"
      ]
     },
     "metadata": {},
     "output_type": "display_data"
    }
   ],
   "source": [
    "plt.yscale(\"log\", nonposy='clip')\n",
    "plt.xscale(\"log\", nonposy='clip')\n",
    "plt.errorbar(rp_LRGboot,wp_p_LRGboot/rp_LRGboot,yerr=wp_p_err_LRGboot/rp_LRGboot,fmt='<',color='r',label='ACF Boostrap Error')\n",
    "plt.errorbar(rp_LRGjack,wp_p_LRGjack/rp_LRGjack,yerr=wp_p_err_LRGjack/rp_LRGjack,fmt='>',color='m',label='ACF Jackknife')\n",
    "#http://matplotlib.org/api/markers_api.html?highlight=marker\n",
    "#plt.errorbar(rp,w_p_noradec,yerr=w_p_noradec,fmt='.',color='b')\n",
    "#plt.errorbar(rp,wp_p15,yerr=wp_p1_err,fmt='.',color='g')\n",
    "#plt.errorbar(rp,wp_p/rp,yerr=wp_p_err/rp,fmt='.')\n",
    "plt.legend(frameon=False)\n",
    "plt.xlabel('r$_{p}$',fontsize=16)\n",
    "plt.ylabel('w$_{p}$/r$_{p}$',fontsize=16)\n",
    "plt.title('LRG Peebles ACF')\n",
    "\n",
    "plt.savefig('../plots/autocorrfunctLRG.pdf')"
   ]
  },
  {
   "cell_type": "code",
   "execution_count": 6,
   "metadata": {},
   "outputs": [
    {
     "data": {
      "image/png": "[encoded data removed]",
      "text/plain": [
       "<matplotlib.figure.Figure at 0x116d098d0>"
      ]
     },
     "metadata": {},
     "output_type": "display_data"
    }
   ],
   "source": [
    "plt.yscale(\"log\", nonposy='clip')\n",
    "plt.xscale(\"log\", nonposy='clip')\n",
    "plt.errorbar(rp_LRGboot,wp_p_LRGboot/rp_LRGboot,yerr=wp_p_err_LRGboot/rp_LRGboot,fmt='<',color='r',label='ACF Boostrap Error')\n",
    "#plt.errorbar(rp_LRGjack,wp_p_LRGjack/rp_LRGjack,yerr=wp_p_err_LRGjack/rp_LRGjack,fmt='>',color='m',label='ACF Jackknife')\n",
    "#http://matplotlib.org/api/markers_api.html?highlight=marker\n",
    "#plt.errorbar(rp,w_p_noradec,yerr=w_p_noradec,fmt='.',color='b')\n",
    "#plt.errorbar(rp,wp_p15,yerr=wp_p1_err,fmt='.',color='g')\n",
    "#plt.errorbar(rp,wp_p/rp,yerr=wp_p_err/rp,fmt='.')\n",
    "plt.legend(frameon=False)\n",
    "plt.xlabel('r$_{p}$',fontsize=16)\n",
    "plt.ylabel('w$_{p}$/r$_{p}$',fontsize=16)\n",
    "plt.title('LRG Peebles ACF')\n",
    "\n",
    "plt.savefig('../plots/autocorrfunctLRG.pdf')"
   ]
  },
  {
   "cell_type": "code",
   "execution_count": null,
   "metadata": {
    "collapsed": true
   },
   "outputs": [],
   "source": []
  }
 ],
 "metadata": {
  "kernelspec": {
   "display_name": "Python 3",
   "language": "python",
   "name": "python3"
  },
  "language_info": {
   "codemirror_mode": {
    "name": "ipython",
    "version": 3
   },
   "file_extension": ".py",
   "mimetype": "text/x-python",
   "name": "python",
   "nbconvert_exporter": "python",
   "pygments_lexer": "ipython3",
   "version": "3.7.6"
  }
 },
 "nbformat": 4,
 "nbformat_minor": 1
}
