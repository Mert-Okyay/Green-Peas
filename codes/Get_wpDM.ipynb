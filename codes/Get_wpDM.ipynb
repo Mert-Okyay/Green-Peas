{
 "cells": [
  {
   "cell_type": "code",
   "execution_count": 1,
   "metadata": {},
   "outputs": [],
   "source": [
    "import numpy as np\n",
    "import math\n",
    "from astropy import units as u\n",
    "from astropy.coordinates import SkyCoord, match_coordinates_sky\n",
    "import astropy.coordinates as coord\n",
    "from astropy.cosmology import FlatLambdaCDM\n",
    "from astropy.table import Table\n",
    "from astropy.io import fits\n",
    "import time\n",
    "from numpy.lib.recfunctions import append_fields\n",
    "from astropy.cosmology import FlatLambdaCDM,Planck15\n",
    "import sys\n",
    "from time import gmtime, strftime\n",
    "\n",
    "import matplotlib.pyplot as plt\n",
    "from matplotlib.colors import LogNorm\n",
    "%matplotlib inline\n"
   ]
  },
  {
   "cell_type": "markdown",
   "metadata": {},
   "source": [
    "## Using Halotools to create mock catalog"
   ]
  },
  {
   "cell_type": "code",
   "execution_count": 2,
   "metadata": {},
   "outputs": [],
   "source": [
    "from halotools.empirical_models import PrebuiltHodModelFactory, PrebuiltSubhaloModelFactory\n",
    "from halotools.mock_observables import return_xyz_formatted_array\n",
    "from halotools.mock_observables import wp\n",
    "from halotools.sim_manager import CachedHaloCatalog\n",
    "from scipy import interpolate\n"
   ]
  },
  {
   "cell_type": "code",
   "execution_count": 3,
   "metadata": {},
   "outputs": [],
   "source": [
    "import halotools\n",
    "## Test only done once\n",
    "#halotools.test()"
   ]
  },
  {
   "cell_type": "code",
   "execution_count": 4,
   "metadata": {},
   "outputs": [
    {
     "name": "stderr",
     "output_type": "stream",
     "text": [
      "C:\\Users\\mxo431\\Anaconda3\\lib\\site-packages\\halotools\\sim_manager\\download_manager.py:933: UserWarning: No parser was explicitly specified, so I'm using the best available HTML parser for this system (\"lxml\"). This usually isn't a problem, but if you run this code on another system, or in a different virtual environment, it may use a different parser and behave differently.\n",
      "\n",
      "The code that caused this warning is on line 933 of the file C:\\Users\\mxo431\\Anaconda3\\lib\\site-packages\\halotools\\sim_manager\\download_manager.py. To get rid of this warning, pass the additional argument 'features=\"lxml\"' to the BeautifulSoup constructor.\n",
      "\n",
      "  soup = BeautifulSoup(requests.get(baseurl).text)\n",
      "C:\\Users\\mxo431\\Anaconda3\\lib\\site-packages\\halotools\\sim_manager\\download_manager.py:942: UserWarning: No parser was explicitly specified, so I'm using the best available HTML parser for this system (\"lxml\"). This usually isn't a problem, but if you run this code on another system, or in a different virtual environment, it may use a different parser and behave differently.\n",
      "\n",
      "The code that caused this warning is on line 942 of the file C:\\Users\\mxo431\\Anaconda3\\lib\\site-packages\\halotools\\sim_manager\\download_manager.py. To get rid of this warning, pass the additional argument 'features=\"lxml\"' to the BeautifulSoup constructor.\n",
      "\n",
      "  soup = BeautifulSoup(requests.get(simloc).text)\n",
      "C:\\Users\\mxo431\\Anaconda3\\lib\\site-packages\\halotools\\sim_manager\\download_manager.py:950: UserWarning: No parser was explicitly specified, so I'm using the best available HTML parser for this system (\"lxml\"). This usually isn't a problem, but if you run this code on another system, or in a different virtual environment, it may use a different parser and behave differently.\n",
      "\n",
      "The code that caused this warning is on line 950 of the file C:\\Users\\mxo431\\Anaconda3\\lib\\site-packages\\halotools\\sim_manager\\download_manager.py. To get rid of this warning, pass the additional argument 'features=\"lxml\"' to the BeautifulSoup constructor.\n",
      "\n",
      "  soup = BeautifulSoup(requests.get(halocatdir).text)\n"
     ]
    },
    {
     "ename": "HalotoolsError",
     "evalue": "\nThere already exists a halo catalog in your cache log with \nspecifications that exactly match your inputs.\nIf you want to overwrite this catalog with your download, \nyou must set the ``overwrite`` keyword argument to True. \nAlternatively, you can delete the log entry using the \nremove_entry_from_cache_log method of the HaloTableCache class.\n",
     "output_type": "error",
     "traceback": [
      "\u001b[1;31m---------------------------------------------------------------------------\u001b[0m",
      "\u001b[1;31mHalotoolsError\u001b[0m                            Traceback (most recent call last)",
      "\u001b[1;32m<ipython-input-4-32ddec0cc7e2>\u001b[0m in \u001b[0;36m<module>\u001b[1;34m\u001b[0m\n\u001b[0;32m      2\u001b[0m \u001b[1;32mfrom\u001b[0m \u001b[0mhalotools\u001b[0m\u001b[1;33m.\u001b[0m\u001b[0msim_manager\u001b[0m \u001b[1;32mimport\u001b[0m \u001b[0mDownloadManager\u001b[0m\u001b[1;33m\u001b[0m\u001b[1;33m\u001b[0m\u001b[0m\n\u001b[0;32m      3\u001b[0m \u001b[0mdman\u001b[0m \u001b[1;33m=\u001b[0m \u001b[0mDownloadManager\u001b[0m\u001b[1;33m(\u001b[0m\u001b[1;33m)\u001b[0m\u001b[1;33m\u001b[0m\u001b[1;33m\u001b[0m\u001b[0m\n\u001b[1;32m----> 4\u001b[1;33m \u001b[0mdman\u001b[0m\u001b[1;33m.\u001b[0m\u001b[0mdownload_processed_halo_table\u001b[0m\u001b[1;33m(\u001b[0m\u001b[1;34m'bolplanck'\u001b[0m\u001b[1;33m,\u001b[0m \u001b[1;34m'rockstar'\u001b[0m\u001b[1;33m,\u001b[0m \u001b[1;36m0.5\u001b[0m\u001b[1;33m)\u001b[0m\u001b[1;33m\u001b[0m\u001b[1;33m\u001b[0m\u001b[0m\n\u001b[0m\u001b[0;32m      5\u001b[0m \u001b[0mdman\u001b[0m\u001b[1;33m.\u001b[0m\u001b[0mdownload_processed_halo_table\u001b[0m\u001b[1;33m(\u001b[0m\u001b[1;34m'bolplanck'\u001b[0m\u001b[1;33m,\u001b[0m \u001b[1;34m'rockstar'\u001b[0m\u001b[1;33m,\u001b[0m \u001b[1;36m0\u001b[0m\u001b[1;33m)\u001b[0m\u001b[1;33m\u001b[0m\u001b[1;33m\u001b[0m\u001b[0m\n\u001b[0;32m      6\u001b[0m \u001b[1;31m#dman.download_processed_halo_table('bolshoi', 'rockstar', 0.5)\u001b[0m\u001b[1;33m\u001b[0m\u001b[1;33m\u001b[0m\u001b[1;33m\u001b[0m\u001b[0m\n",
      "\u001b[1;32m~\\Anaconda3\\lib\\site-packages\\halotools\\sim_manager\\download_manager.py\u001b[0m in \u001b[0;36mdownload_processed_halo_table\u001b[1;34m(self, simname, halo_finder, redshift, dz_tol, overwrite, version_name, download_dirname, ignore_nearby_redshifts, **kwargs)\u001b[0m\n\u001b[0;32m    229\u001b[0m                         \u001b[1;34m\"Alternatively, you can delete the log entry using the \\n\"\u001b[0m\u001b[1;33m\u001b[0m\u001b[1;33m\u001b[0m\u001b[0m\n\u001b[0;32m    230\u001b[0m                         \"remove_entry_from_cache_log method of the HaloTableCache class.\\n\")\n\u001b[1;32m--> 231\u001b[1;33m                     \u001b[1;32mraise\u001b[0m \u001b[0mHalotoolsError\u001b[0m\u001b[1;33m(\u001b[0m\u001b[0mmsg\u001b[0m\u001b[1;33m)\u001b[0m\u001b[1;33m\u001b[0m\u001b[1;33m\u001b[0m\u001b[0m\n\u001b[0m\u001b[0;32m    232\u001b[0m             \u001b[1;32melse\u001b[0m\u001b[1;33m:\u001b[0m\u001b[1;33m\u001b[0m\u001b[1;33m\u001b[0m\u001b[0m\n\u001b[0;32m    233\u001b[0m                 msg += (\"Since you have set ``overwrite`` to True, \\n\"\n",
      "\u001b[1;31mHalotoolsError\u001b[0m: \nThere already exists a halo catalog in your cache log with \nspecifications that exactly match your inputs.\nIf you want to overwrite this catalog with your download, \nyou must set the ``overwrite`` keyword argument to True. \nAlternatively, you can delete the log entry using the \nremove_entry_from_cache_log method of the HaloTableCache class.\n"
     ]
    }
   ],
   "source": [
    "# Done each time a new catalog wishes to be used...\n",
    "from halotools.sim_manager import DownloadManager\n",
    "dman = DownloadManager()\n",
    "dman.download_processed_halo_table('bolplanck', 'rockstar', 0.5) \n",
    "dman.download_processed_halo_table('bolplanck', 'rockstar', 0) \n",
    "#dman.download_processed_halo_table('bolshoi', 'rockstar', 0.5) \n",
    "#dman.download_processed_halo_table('bolshoi', 'rockstar', 0) \n",
    "### NOTE: bolshoi=WMAP5 cosmology with Lbox = 250 Mpc/h and particle mass of ~1e8 Msun/h.\n",
    "### NOTE: bolplanck=Planck 2013 cosmology with Lbox = 250 Mpc/h and particle mass of ~1e8 Msun/h."
   ]
  },
  {
   "cell_type": "code",
   "execution_count": 4,
   "metadata": {},
   "outputs": [],
   "source": [
    "halocat = CachedHaloCatalog(simname = 'bolplanck', redshift = 0, halo_finder = 'rockstar')\n",
    "halos = halocat.halo_table"
   ]
  },
  {
   "cell_type": "code",
   "execution_count": 5,
   "metadata": {},
   "outputs": [],
   "source": [
    "x = halos['halo_x']\n",
    "y = halos['halo_y']\n",
    "z = halos['halo_z']\n",
    "all_positions = return_xyz_formatted_array(x, y, z)\n",
    "#rpbins = np.array([.1,.5,1,3,6,8,10,15,20,30,40,50,60,80,100])\n",
    "rpbins = np.array([.1,.5,1,3,6,8,10,15,20,30,40,50,60,80])\n",
    "\n",
    "wdm0 = wp(all_positions, rpbins, 60,period=halocat.Lbox, num_threads=4,estimator='Davis-Peebles')"
   ]
  },
  {
   "cell_type": "code",
   "execution_count": 7,
   "metadata": {},
   "outputs": [],
   "source": [
    "## DIDINT RUN THIS\n",
    "x = halos['halo_x']\n",
    "y = halos['halo_y']\n",
    "z = halos['halo_z']\n",
    "all_positions = return_xyz_formatted_array(x, y, z)\n",
    "#rpbins = np.array([.1,.5,1,3,6,8,10,15,20,30,40,50,60,80,100])\n",
    "rpbins = np.array([.1,.5,1,3,6,8,10,15,20,30,40,50,60,80])\n",
    "\n",
    "wdm0 = wp(all_positions, rpbins, 60,period=halocat.Lbox, num_threads=4,estimator='Davis-Peebles')"
   ]
  },
  {
   "cell_type": "code",
   "execution_count": 7,
   "metadata": {},
   "outputs": [
    {
     "name": "stdout",
     "output_type": "stream",
     "text": [
      "[ 0.3   0.55  1.55  3.05  4.05  5.05  7.55 10.05 15.05 20.05 25.05 30.05\n",
      " 40.05]\n",
      "HHHHHHHHHHHHHHHHHHHHHHHHHHHHHHHHHHHH\n",
      "[ 0.3   0.55  1.55  3.05  4.05  5.05  7.55 10.05 15.05 20.05 25.05 30.05\n",
      " 40.05 50.05]\n"
     ]
    }
   ],
   "source": [
    "##what's going on with the bins??\n",
    "rpbins80 = np.array([.1,.5,1,3,6,8,10,15,20,30,40,50,60,80])\n",
    "rpbins100 = np.array([.1,.5,1,3,6,8,10,15,20,30,40,50,60,80,100])\n",
    "#print(rpbins)\n",
    "rp_bin_centers80 = (rpbins80[:1] + rpbins80[1:])/2.\n",
    "print(rp_bin_centers80)\n",
    "print('HHHHHHHHHHHHHHHHHHHHHHHHHHHHHHHHHHHH')\n",
    "rp_bin_centers100 = (rpbins100[:1] + rpbins100[1:])/2.\n",
    "print(rp_bin_centers100)\n"
   ]
  },
  {
   "cell_type": "code",
   "execution_count": 8,
   "metadata": {},
   "outputs": [
    {
     "name": "stdout",
     "output_type": "stream",
     "text": [
      "Wall time: 3.95 s\n"
     ]
    }
   ],
   "source": [
    "%%time\n",
    "halocat5 = CachedHaloCatalog(simname = 'bolplanck', redshift = 0.5, halo_finder = 'rockstar')\n",
    "halos5 = halocat5.halo_table"
   ]
  },
  {
   "cell_type": "code",
   "execution_count": 9,
   "metadata": {},
   "outputs": [
    {
     "name": "stdout",
     "output_type": "stream",
     "text": [
      "Wall time: 54min 33s\n"
     ]
    }
   ],
   "source": [
    "%%time\n",
    "x5 = halos5['halo_x']\n",
    "y5 = halos5['halo_y']\n",
    "z5 = halos5['halo_z']\n",
    "all_positions5 = return_xyz_formatted_array(x5, y5, z5)\n",
    "##rpbins5 = np.array([.1,.5,1,3,6,8,10,15,20,30,40,50,60])\n",
    "wdm5 = wp(all_positions5, rpbins, 60,period=halocat5.Lbox, num_threads=4)"
   ]
  },
  {
   "cell_type": "code",
   "execution_count": 13,
   "metadata": {},
   "outputs": [],
   "source": [
    "np.save('C:/Users/mxo431/Desktop/environments/codes/halotoolsexplore/output/bolplanck_0_wp_dm.npy',wdm0)\n",
    "np.save('C:/Users/mxo431/Desktop/environments/codes/halotoolsexplore/output/bolplanck_0.5_wp_dm.npy',wdm5)\n",
    "np.save('C:/Users/mxo431/Desktop/environments/codes/halotoolsexplore/output/bolplanck_rp_used.npy',rpbins)"
   ]
  },
  {
   "cell_type": "code",
   "execution_count": 5,
   "metadata": {
    "collapsed": true
   },
   "outputs": [],
   "source": [
    "wdm0=np.load('output/bolshoi_0_wp_dm.npy')\n",
    "wdm5=np.load('output/bolshoi_0.5_wp_dm.npy')\n",
    "rpbins=np.load('output/bolshoi_rp_used.npy')\n"
   ]
  },
  {
   "cell_type": "code",
   "execution_count": 20,
   "metadata": {},
   "outputs": [
    {
     "data": {
      "image/png": "[encoded data removed]",
      "text/plain": [
       "<Figure size 432x288 with 1 Axes>"
      ]
     },
     "metadata": {
      "needs_background": "light"
     },
     "output_type": "display_data"
    }
   ],
   "source": [
    "\n",
    "##plt.yscale(\"log\", nonposy='clip')\n",
    "##plt.xscale(\"log\", nonposy='clip')\n",
    "\n",
    "##plt.plot(rp_bin_centers,wdm0,label='Bolshoi z=0')\n",
    "##plt.plot(rp_bin_centers,wdm5,color='m',label='Bolshoi z=0.5')\n",
    "rp_bin_centers = (rpbins[:1] + rpbins[1:])/2.\n",
    "plt.loglog(rp_bin_centers,wdm0,label='Bolshoi z=0')\n",
    "plt.loglog(rp_bin_centers,wdm5,color='m',label='Bolshoi z=0.5')\n",
    "\n",
    "plt.axis([.1,100,.1,100])\n",
    "plt.legend(frameon=True,numpoints=1,loc=1)\n",
    "plt.xlabel('r$_{p}$ [Mpc/h]',fontsize=16)\n",
    "plt.ylabel('w$_{p}$',fontsize=16)\n",
    "plt.title('Peebles ACF')\n",
    "plt.savefig('C:/Users/mxo431/Desktop/environments/codes/halotoolsexplore/plots/corrfunctSFpeas.pdf')\n"
   ]
  },
  {
   "cell_type": "code",
   "execution_count": 15,
   "metadata": {},
   "outputs": [
    {
     "name": "stdout",
     "output_type": "stream",
     "text": [
      "[ 30.51441626  16.87175972  12.12543956   9.8556689    6.83392563\n",
      "   4.45280993   2.41952342   0.91446521   0.38812959  -0.03417333]\n"
     ]
    },
    {
     "data": {
      "text/plain": [
       "array([ 1,  3,  6,  8, 10, 15, 20, 30, 40, 50, 60])"
      ]
     },
     "execution_count": 15,
     "metadata": {},
     "output_type": "execute_result"
    }
   ],
   "source": [
    "\n",
    "print(wdm)\n",
    "rpbins"
   ]
  },
  {
   "cell_type": "code",
   "execution_count": null,
   "metadata": {
    "collapsed": true
   },
   "outputs": [],
   "source": []
  }
 ],
 "metadata": {
  "kernelspec": {
   "display_name": "Python 3",
   "language": "python",
   "name": "python3"
  },
  "language_info": {
   "codemirror_mode": {
    "name": "ipython",
    "version": 3
   },
   "file_extension": ".py",
   "mimetype": "text/x-python",
   "name": "python",
   "nbconvert_exporter": "python",
   "pygments_lexer": "ipython3",
   "version": "3.7.6"
  }
 },
 "nbformat": 4,
 "nbformat_minor": 1
}
